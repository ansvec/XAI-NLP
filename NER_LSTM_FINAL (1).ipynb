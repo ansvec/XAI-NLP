{
  "cells": [
    {
      "cell_type": "code",
      "execution_count": null,
      "metadata": {
        "colab": {
          "base_uri": "https://localhost:8080/"
        },
        "id": "58abcb4b",
        "outputId": "338ae1b5-3005-4904-f323-f16f57e0744d"
      },
      "outputs": [
        {
          "output_type": "stream",
          "name": "stdout",
          "text": [
            "Looking in indexes: https://pypi.org/simple, https://us-python.pkg.dev/colab-wheels/public/simple/\n",
            "Collecting shap\n",
            "  Downloading shap-0.41.0-cp310-cp310-manylinux_2_12_x86_64.manylinux2010_x86_64.whl (572 kB)\n",
            "\u001b[2K     \u001b[90m━━━━━━━━━━━━━━━━━━━━━━━━━━━━━━━━━━━━━━\u001b[0m \u001b[32m572.6/572.6 kB\u001b[0m \u001b[31m15.8 MB/s\u001b[0m eta \u001b[36m0:00:00\u001b[0m\n",
            "\u001b[?25hRequirement already satisfied: pandas in /usr/local/lib/python3.10/dist-packages (from shap) (1.5.3)\n",
            "Requirement already satisfied: numpy in /usr/local/lib/python3.10/dist-packages (from shap) (1.22.4)\n",
            "Requirement already satisfied: tqdm>4.25.0 in /usr/local/lib/python3.10/dist-packages (from shap) (4.65.0)\n",
            "Requirement already satisfied: cloudpickle in /usr/local/lib/python3.10/dist-packages (from shap) (2.2.1)\n",
            "Requirement already satisfied: scikit-learn in /usr/local/lib/python3.10/dist-packages (from shap) (1.2.2)\n",
            "Collecting slicer==0.0.7\n",
            "  Downloading slicer-0.0.7-py3-none-any.whl (14 kB)\n",
            "Requirement already satisfied: numba in /usr/local/lib/python3.10/dist-packages (from shap) (0.56.4)\n",
            "Requirement already satisfied: scipy in /usr/local/lib/python3.10/dist-packages (from shap) (1.10.1)\n",
            "Requirement already satisfied: packaging>20.9 in /usr/local/lib/python3.10/dist-packages (from shap) (23.1)\n",
            "Requirement already satisfied: llvmlite<0.40,>=0.39.0dev0 in /usr/local/lib/python3.10/dist-packages (from numba->shap) (0.39.1)\n",
            "Requirement already satisfied: setuptools in /usr/local/lib/python3.10/dist-packages (from numba->shap) (67.7.2)\n",
            "Requirement already satisfied: pytz>=2020.1 in /usr/local/lib/python3.10/dist-packages (from pandas->shap) (2022.7.1)\n",
            "Requirement already satisfied: python-dateutil>=2.8.1 in /usr/local/lib/python3.10/dist-packages (from pandas->shap) (2.8.2)\n",
            "Requirement already satisfied: threadpoolctl>=2.0.0 in /usr/local/lib/python3.10/dist-packages (from scikit-learn->shap) (3.1.0)\n",
            "Requirement already satisfied: joblib>=1.1.1 in /usr/local/lib/python3.10/dist-packages (from scikit-learn->shap) (1.2.0)\n",
            "Requirement already satisfied: six>=1.5 in /usr/local/lib/python3.10/dist-packages (from python-dateutil>=2.8.1->pandas->shap) (1.16.0)\n",
            "Installing collected packages: slicer, shap\n",
            "Successfully installed shap-0.41.0 slicer-0.0.7\n",
            "Looking in indexes: https://pypi.org/simple, https://us-python.pkg.dev/colab-wheels/public/simple/\n",
            "Collecting lime\n",
            "  Downloading lime-0.2.0.1.tar.gz (275 kB)\n",
            "\u001b[2K     \u001b[90m━━━━━━━━━━━━━━━━━━━━━━━━━━━━━━━━━━━━━━\u001b[0m \u001b[32m275.7/275.7 kB\u001b[0m \u001b[31m10.6 MB/s\u001b[0m eta \u001b[36m0:00:00\u001b[0m\n",
            "\u001b[?25h  Preparing metadata (setup.py) ... \u001b[?25l\u001b[?25hdone\n",
            "Requirement already satisfied: matplotlib in /usr/local/lib/python3.10/dist-packages (from lime) (3.7.1)\n",
            "Requirement already satisfied: numpy in /usr/local/lib/python3.10/dist-packages (from lime) (1.22.4)\n",
            "Requirement already satisfied: scipy in /usr/local/lib/python3.10/dist-packages (from lime) (1.10.1)\n",
            "Requirement already satisfied: tqdm in /usr/local/lib/python3.10/dist-packages (from lime) (4.65.0)\n",
            "Requirement already satisfied: scikit-learn>=0.18 in /usr/local/lib/python3.10/dist-packages (from lime) (1.2.2)\n",
            "Requirement already satisfied: scikit-image>=0.12 in /usr/local/lib/python3.10/dist-packages (from lime) (0.19.3)\n",
            "Requirement already satisfied: pillow!=7.1.0,!=7.1.1,!=8.3.0,>=6.1.0 in /usr/local/lib/python3.10/dist-packages (from scikit-image>=0.12->lime) (8.4.0)\n",
            "Requirement already satisfied: PyWavelets>=1.1.1 in /usr/local/lib/python3.10/dist-packages (from scikit-image>=0.12->lime) (1.4.1)\n",
            "Requirement already satisfied: packaging>=20.0 in /usr/local/lib/python3.10/dist-packages (from scikit-image>=0.12->lime) (23.1)\n",
            "Requirement already satisfied: imageio>=2.4.1 in /usr/local/lib/python3.10/dist-packages (from scikit-image>=0.12->lime) (2.25.1)\n",
            "Requirement already satisfied: networkx>=2.2 in /usr/local/lib/python3.10/dist-packages (from scikit-image>=0.12->lime) (3.1)\n",
            "Requirement already satisfied: tifffile>=2019.7.26 in /usr/local/lib/python3.10/dist-packages (from scikit-image>=0.12->lime) (2023.4.12)\n",
            "Requirement already satisfied: threadpoolctl>=2.0.0 in /usr/local/lib/python3.10/dist-packages (from scikit-learn>=0.18->lime) (3.1.0)\n",
            "Requirement already satisfied: joblib>=1.1.1 in /usr/local/lib/python3.10/dist-packages (from scikit-learn>=0.18->lime) (1.2.0)\n",
            "Requirement already satisfied: pyparsing>=2.3.1 in /usr/local/lib/python3.10/dist-packages (from matplotlib->lime) (3.0.9)\n",
            "Requirement already satisfied: fonttools>=4.22.0 in /usr/local/lib/python3.10/dist-packages (from matplotlib->lime) (4.39.3)\n",
            "Requirement already satisfied: contourpy>=1.0.1 in /usr/local/lib/python3.10/dist-packages (from matplotlib->lime) (1.0.7)\n",
            "Requirement already satisfied: kiwisolver>=1.0.1 in /usr/local/lib/python3.10/dist-packages (from matplotlib->lime) (1.4.4)\n",
            "Requirement already satisfied: cycler>=0.10 in /usr/local/lib/python3.10/dist-packages (from matplotlib->lime) (0.11.0)\n",
            "Requirement already satisfied: python-dateutil>=2.7 in /usr/local/lib/python3.10/dist-packages (from matplotlib->lime) (2.8.2)\n",
            "Requirement already satisfied: six>=1.5 in /usr/local/lib/python3.10/dist-packages (from python-dateutil>=2.7->matplotlib->lime) (1.16.0)\n",
            "Building wheels for collected packages: lime\n",
            "  Building wheel for lime (setup.py) ... \u001b[?25l\u001b[?25hdone\n",
            "  Created wheel for lime: filename=lime-0.2.0.1-py3-none-any.whl size=283859 sha256=bea52d5c4e89ae0ad241acfb8c4c2e6320c323ed09b47da274197e64f8040bd2\n",
            "  Stored in directory: /root/.cache/pip/wheels/fd/a2/af/9ac0a1a85a27f314a06b39e1f492bee1547d52549a4606ed89\n",
            "Successfully built lime\n",
            "Installing collected packages: lime\n",
            "Successfully installed lime-0.2.0.1\n",
            "Looking in indexes: https://pypi.org/simple, https://us-python.pkg.dev/colab-wheels/public/simple/\n",
            "Collecting sage-importance\n",
            "  Downloading sage_importance-0.0.5-py3-none-any.whl (24 kB)\n",
            "Requirement already satisfied: matplotlib in /usr/local/lib/python3.10/dist-packages (from sage-importance) (3.7.1)\n",
            "Requirement already satisfied: joblib in /usr/local/lib/python3.10/dist-packages (from sage-importance) (1.2.0)\n",
            "Requirement already satisfied: numpy in /usr/local/lib/python3.10/dist-packages (from sage-importance) (1.22.4)\n",
            "Requirement already satisfied: tqdm in /usr/local/lib/python3.10/dist-packages (from sage-importance) (4.65.0)\n",
            "Requirement already satisfied: scipy in /usr/local/lib/python3.10/dist-packages (from sage-importance) (1.10.1)\n",
            "Requirement already satisfied: cycler>=0.10 in /usr/local/lib/python3.10/dist-packages (from matplotlib->sage-importance) (0.11.0)\n",
            "Requirement already satisfied: pyparsing>=2.3.1 in /usr/local/lib/python3.10/dist-packages (from matplotlib->sage-importance) (3.0.9)\n",
            "Requirement already satisfied: contourpy>=1.0.1 in /usr/local/lib/python3.10/dist-packages (from matplotlib->sage-importance) (1.0.7)\n",
            "Requirement already satisfied: fonttools>=4.22.0 in /usr/local/lib/python3.10/dist-packages (from matplotlib->sage-importance) (4.39.3)\n",
            "Requirement already satisfied: packaging>=20.0 in /usr/local/lib/python3.10/dist-packages (from matplotlib->sage-importance) (23.1)\n",
            "Requirement already satisfied: pillow>=6.2.0 in /usr/local/lib/python3.10/dist-packages (from matplotlib->sage-importance) (8.4.0)\n",
            "Requirement already satisfied: python-dateutil>=2.7 in /usr/local/lib/python3.10/dist-packages (from matplotlib->sage-importance) (2.8.2)\n",
            "Requirement already satisfied: kiwisolver>=1.0.1 in /usr/local/lib/python3.10/dist-packages (from matplotlib->sage-importance) (1.4.4)\n",
            "Requirement already satisfied: six>=1.5 in /usr/local/lib/python3.10/dist-packages (from python-dateutil>=2.7->matplotlib->sage-importance) (1.16.0)\n",
            "Installing collected packages: sage-importance\n",
            "Successfully installed sage-importance-0.0.5\n"
          ]
        }
      ],
      "source": [
        "#!pip install nltk\n",
        "!pip install shap\n",
        "!pip install lime\n",
        "!pip install sage-importance"
      ],
      "id": "58abcb4b"
    },
    {
      "cell_type": "code",
      "execution_count": null,
      "metadata": {
        "colab": {
          "base_uri": "https://localhost:8080/"
        },
        "id": "2492a846",
        "outputId": "514ed1d1-a3f7-4924-c2c6-7e67bfa8eb4e"
      },
      "outputs": [
        {
          "output_type": "stream",
          "name": "stderr",
          "text": [
            "[nltk_data] Downloading package punkt to /root/nltk_data...\n",
            "[nltk_data]   Unzipping tokenizers/punkt.zip.\n"
          ]
        }
      ],
      "source": [
        "# Import Libraries \n",
        "from collections.abc import Iterable\n",
        "import nltk\n",
        "nltk.download('punkt')\n",
        "import numpy as np\n",
        "import pandas as pd\n",
        "import tensorflow as tf\n",
        "from keras.models import Sequential\n",
        "from keras.utils import pad_sequences\n",
        "from keras.layers import LSTM, InputLayer, Dense, Embedding, Dropout,SpatialDropout1D, Bidirectional, TimeDistributed, Activation, Masking, Lambda\n",
        "from keras.callbacks import ModelCheckpoint\n",
        "from keras.callbacks import EarlyStopping\n",
        "from keras.optimizers import Adam\n",
        "from tensorflow.keras.preprocessing.sequence import pad_sequences\n",
        "from keras.utils import to_categorical\n",
        "from sklearn.model_selection import train_test_split\n",
        "import matplotlib.pyplot as plt\n",
        "from sklearn.metrics import accuracy_score, precision_score, recall_score, f1_score, roc_auc_score, confusion_matrix, classification_report\n",
        "from keras.models import load_model\n",
        "# suppress the UndefinedMetricWarning message\n",
        "import warnings\n",
        "warnings.filterwarnings('ignore')\n",
        "import shap\n",
        "import lime"
      ],
      "id": "2492a846"
    },
    {
      "cell_type": "code",
      "execution_count": null,
      "metadata": {
        "colab": {
          "base_uri": "https://localhost:8080/"
        },
        "id": "UP4FPWZnbKhh",
        "outputId": "47a001da-7526-4dae-9f65-3f55309bfbe2"
      },
      "outputs": [
        {
          "output_type": "stream",
          "name": "stdout",
          "text": [
            "Mounted at /content/drive\n"
          ]
        }
      ],
      "source": [
        "from google.colab import drive\n",
        "drive.mount('/content/drive')"
      ],
      "id": "UP4FPWZnbKhh"
    },
    {
      "cell_type": "code",
      "execution_count": null,
      "metadata": {
        "id": "74c466ff"
      },
      "outputs": [],
      "source": [
        "# Load the CoNLL2003 dataset\n",
        "def load_data(file_path):\n",
        "    data = open(file_path).read()\n",
        "    sentences = data.strip().split('\\n\\n')\n",
        "    tokens = []\n",
        "    pos_tags = []\n",
        "    ner_tags = []\n",
        "    for sentence in sentences:\n",
        "        lines = sentence.strip().split('\\n')\n",
        "        token_list = []\n",
        "        pos_tag_list = []\n",
        "        ner_tag_list = []\n",
        "        for line in lines:\n",
        "            parts = line.strip().split(' ')\n",
        "            token_list.append(parts[0])\n",
        "            pos_tag_list.append(parts[1])\n",
        "            ner_tag_list.append(parts[3])\n",
        "        tokens.append(token_list)\n",
        "        pos_tags.append(pos_tag_list)\n",
        "        ner_tags.append(ner_tag_list)\n",
        "    return tokens, pos_tags, ner_tags"
      ],
      "id": "74c466ff"
    },
    {
      "cell_type": "code",
      "execution_count": null,
      "metadata": {
        "id": "jt8K7Yp197mA"
      },
      "outputs": [],
      "source": [
        "tokens_train, pos_tags_train, ner_tags_train = load_data('/content/drive/MyDrive/data/eng.train')\n",
        "tokens_testa, pos_tags_testa, ner_tags_testa = load_data('/content/drive/MyDrive/data/eng.testa')\n",
        "tokens_testb, pos_tags_testb, ner_tags_testb = load_data('/content/drive/MyDrive/data/eng.testb')"
      ],
      "id": "jt8K7Yp197mA"
    },
    {
      "cell_type": "code",
      "source": [
        "# import pandas as pd\n",
        "\n",
        "# # Load the data\n",
        "# tokens_train, pos_tags_train, ner_tags_train = load_data('eng.train')\n",
        "# tokens_testa, pos_tags_testa, ner_tags_testa = load_data('eng.testa')\n",
        "# tokens_testb, pos_tags_testb, ner_tags_testb = load_data('eng.testb')\n",
        "\n",
        "# # Create a list of sentences by joining the words\n",
        "# sentences_train = [' '.join(sentence) for sentence in tokens_train]\n",
        "# sentences_testa = [' '.join(sentence) for sentence in tokens_testa]\n",
        "# sentences_testb = [' '.join(sentence) for sentence in tokens_testb]\n",
        "# # Create a DataFrame with the sentences and tags\n",
        "# sentences = sentences_train + sentences_testa + sentences_testb\n",
        "# pos_tags = pos_tags_train + pos_tags_testa + pos_tags_testb\n",
        "# ner_tags = ner_tags_train + ner_tags_testa + ner_tags_testb\n",
        "\n",
        "# # Create the DataFrame\n",
        "# ENG_TRAIN = pd.DataFrame({\n",
        "#     'sentence': sentences,\n",
        "#     'pos_tags': pos_tags,\n",
        "#     'ner_tags': ner_tags\n",
        "# })\n",
        "# #NAHRADENIE POS_TAGS PODLA DICT \n",
        "# for i in range(len(ENG_TRAIN)):\n",
        "#     for j in range(len(ENG_TRAIN.loc[i, 'pos_tags'])):\n",
        "#         for key, value in pos_tag_groups.items():\n",
        "#             if ENG_TRAIN.loc[i, 'pos_tags'][j] in value:\n",
        "#                 ENG_TRAIN.loc[i, 'pos_tags'][j] = key\n",
        "#                 break\n",
        "# import ast\n",
        "# dsssf = ENG_TRAIN[['pos_tags', 'ner_tags']].copy()\n",
        "# dsssf['pos_tags'] = dsssf['pos_tags'].apply(lambda x: ast.literal_eval(str([tag if ',' not in tag else None for tag in x])))\n",
        "# dsssf['ner_tags'] = dsssf['ner_tags'].apply(lambda x: ast.literal_eval(str([tag if ',' not in tag else None for tag in x])))\n",
        "# dsssf = dsssf.explode(['pos_tags', 'ner_tags'])\n",
        "# dsssf.to_csv('dsssf.csv', index=False)\n",
        "# dsssf = pd.read_csv('dsssf.csv')\n",
        "# df = ENG_TRAIN\n",
        "# # Split the sentences and create a new dataframe\n",
        "# split_df = pd.DataFrame(df['sentence'].str.split().tolist(), index=df.index).stack().reset_index()\n",
        "# split_df.columns = ['index', 'word_id', 'word']\n",
        "# # Add the hashtag column\n",
        "# split_df['hashtag'] = 'Sentence:' + (split_df['index'] + 1).astype(str)\n",
        "# # Remove the old 'index' column\n",
        "# split_df = split_df.drop(columns='index')\n",
        "# split_df.to_csv('train.csv', index=False)\n",
        "# split_train = split_df\n",
        "# data = pd.concat([split_train[['word', 'hashtag']], dsssf], axis=1)\n",
        "# data.to_csv('SPOLU_DATA.csv', index=False)"
      ],
      "metadata": {
        "id": "oMNuJuQpC4aX"
      },
      "id": "oMNuJuQpC4aX",
      "execution_count": null,
      "outputs": []
    },
    {
      "cell_type": "code",
      "source": [
        "data = pd.read_csv('/content/drive/MyDrive/SPOLU_DATA.xls', encoding=\"latin1\")\n",
        "data.head()"
      ],
      "metadata": {
        "colab": {
          "base_uri": "https://localhost:8080/",
          "height": 206
        },
        "id": "OWSjtGydC7Z_",
        "outputId": "5c642a7f-c4fd-43e2-f4ef-7b87bda4507e"
      },
      "id": "OWSjtGydC7Z_",
      "execution_count": null,
      "outputs": [
        {
          "output_type": "execute_result",
          "data": {
            "text/plain": [
              "         Word  Sentence #  POS     Tag\n",
              "0  -DOCSTART-  Sentence:1  -X-       O\n",
              "1          EU  Sentence:2   NN   I-ORG\n",
              "2     rejects  Sentence:2   VB       O\n",
              "3      German  Sentence:2   JJ  I-MISC\n",
              "4        call  Sentence:2   NN       O"
            ],
            "text/html": [
              "\n",
              "  <div id=\"df-d898d415-dbfc-4371-b58e-ea70a9d2bad2\">\n",
              "    <div class=\"colab-df-container\">\n",
              "      <div>\n",
              "<style scoped>\n",
              "    .dataframe tbody tr th:only-of-type {\n",
              "        vertical-align: middle;\n",
              "    }\n",
              "\n",
              "    .dataframe tbody tr th {\n",
              "        vertical-align: top;\n",
              "    }\n",
              "\n",
              "    .dataframe thead th {\n",
              "        text-align: right;\n",
              "    }\n",
              "</style>\n",
              "<table border=\"1\" class=\"dataframe\">\n",
              "  <thead>\n",
              "    <tr style=\"text-align: right;\">\n",
              "      <th></th>\n",
              "      <th>Word</th>\n",
              "      <th>Sentence #</th>\n",
              "      <th>POS</th>\n",
              "      <th>Tag</th>\n",
              "    </tr>\n",
              "  </thead>\n",
              "  <tbody>\n",
              "    <tr>\n",
              "      <th>0</th>\n",
              "      <td>-DOCSTART-</td>\n",
              "      <td>Sentence:1</td>\n",
              "      <td>-X-</td>\n",
              "      <td>O</td>\n",
              "    </tr>\n",
              "    <tr>\n",
              "      <th>1</th>\n",
              "      <td>EU</td>\n",
              "      <td>Sentence:2</td>\n",
              "      <td>NN</td>\n",
              "      <td>I-ORG</td>\n",
              "    </tr>\n",
              "    <tr>\n",
              "      <th>2</th>\n",
              "      <td>rejects</td>\n",
              "      <td>Sentence:2</td>\n",
              "      <td>VB</td>\n",
              "      <td>O</td>\n",
              "    </tr>\n",
              "    <tr>\n",
              "      <th>3</th>\n",
              "      <td>German</td>\n",
              "      <td>Sentence:2</td>\n",
              "      <td>JJ</td>\n",
              "      <td>I-MISC</td>\n",
              "    </tr>\n",
              "    <tr>\n",
              "      <th>4</th>\n",
              "      <td>call</td>\n",
              "      <td>Sentence:2</td>\n",
              "      <td>NN</td>\n",
              "      <td>O</td>\n",
              "    </tr>\n",
              "  </tbody>\n",
              "</table>\n",
              "</div>\n",
              "      <button class=\"colab-df-convert\" onclick=\"convertToInteractive('df-d898d415-dbfc-4371-b58e-ea70a9d2bad2')\"\n",
              "              title=\"Convert this dataframe to an interactive table.\"\n",
              "              style=\"display:none;\">\n",
              "        \n",
              "  <svg xmlns=\"http://www.w3.org/2000/svg\" height=\"24px\"viewBox=\"0 0 24 24\"\n",
              "       width=\"24px\">\n",
              "    <path d=\"M0 0h24v24H0V0z\" fill=\"none\"/>\n",
              "    <path d=\"M18.56 5.44l.94 2.06.94-2.06 2.06-.94-2.06-.94-.94-2.06-.94 2.06-2.06.94zm-11 1L8.5 8.5l.94-2.06 2.06-.94-2.06-.94L8.5 2.5l-.94 2.06-2.06.94zm10 10l.94 2.06.94-2.06 2.06-.94-2.06-.94-.94-2.06-.94 2.06-2.06.94z\"/><path d=\"M17.41 7.96l-1.37-1.37c-.4-.4-.92-.59-1.43-.59-.52 0-1.04.2-1.43.59L10.3 9.45l-7.72 7.72c-.78.78-.78 2.05 0 2.83L4 21.41c.39.39.9.59 1.41.59.51 0 1.02-.2 1.41-.59l7.78-7.78 2.81-2.81c.8-.78.8-2.07 0-2.86zM5.41 20L4 18.59l7.72-7.72 1.47 1.35L5.41 20z\"/>\n",
              "  </svg>\n",
              "      </button>\n",
              "      \n",
              "  <style>\n",
              "    .colab-df-container {\n",
              "      display:flex;\n",
              "      flex-wrap:wrap;\n",
              "      gap: 12px;\n",
              "    }\n",
              "\n",
              "    .colab-df-convert {\n",
              "      background-color: #E8F0FE;\n",
              "      border: none;\n",
              "      border-radius: 50%;\n",
              "      cursor: pointer;\n",
              "      display: none;\n",
              "      fill: #1967D2;\n",
              "      height: 32px;\n",
              "      padding: 0 0 0 0;\n",
              "      width: 32px;\n",
              "    }\n",
              "\n",
              "    .colab-df-convert:hover {\n",
              "      background-color: #E2EBFA;\n",
              "      box-shadow: 0px 1px 2px rgba(60, 64, 67, 0.3), 0px 1px 3px 1px rgba(60, 64, 67, 0.15);\n",
              "      fill: #174EA6;\n",
              "    }\n",
              "\n",
              "    [theme=dark] .colab-df-convert {\n",
              "      background-color: #3B4455;\n",
              "      fill: #D2E3FC;\n",
              "    }\n",
              "\n",
              "    [theme=dark] .colab-df-convert:hover {\n",
              "      background-color: #434B5C;\n",
              "      box-shadow: 0px 1px 3px 1px rgba(0, 0, 0, 0.15);\n",
              "      filter: drop-shadow(0px 1px 2px rgba(0, 0, 0, 0.3));\n",
              "      fill: #FFFFFF;\n",
              "    }\n",
              "  </style>\n",
              "\n",
              "      <script>\n",
              "        const buttonEl =\n",
              "          document.querySelector('#df-d898d415-dbfc-4371-b58e-ea70a9d2bad2 button.colab-df-convert');\n",
              "        buttonEl.style.display =\n",
              "          google.colab.kernel.accessAllowed ? 'block' : 'none';\n",
              "\n",
              "        async function convertToInteractive(key) {\n",
              "          const element = document.querySelector('#df-d898d415-dbfc-4371-b58e-ea70a9d2bad2');\n",
              "          const dataTable =\n",
              "            await google.colab.kernel.invokeFunction('convertToInteractive',\n",
              "                                                     [key], {});\n",
              "          if (!dataTable) return;\n",
              "\n",
              "          const docLinkHtml = 'Like what you see? Visit the ' +\n",
              "            '<a target=\"_blank\" href=https://colab.research.google.com/notebooks/data_table.ipynb>data table notebook</a>'\n",
              "            + ' to learn more about interactive tables.';\n",
              "          element.innerHTML = '';\n",
              "          dataTable['output_type'] = 'display_data';\n",
              "          await google.colab.output.renderOutput(dataTable, element);\n",
              "          const docLink = document.createElement('div');\n",
              "          docLink.innerHTML = docLinkHtml;\n",
              "          element.appendChild(docLink);\n",
              "        }\n",
              "      </script>\n",
              "    </div>\n",
              "  </div>\n",
              "  "
            ]
          },
          "metadata": {},
          "execution_count": 6
        }
      ]
    },
    {
      "cell_type": "code",
      "source": [
        "data = data.rename(columns={'Word': 'word'})\n"
      ],
      "metadata": {
        "id": "GO-v92a65hGK"
      },
      "id": "GO-v92a65hGK",
      "execution_count": null,
      "outputs": []
    },
    {
      "cell_type": "code",
      "source": [
        "data['word'] = data['word'].astype(str)"
      ],
      "metadata": {
        "id": "beV_pN5MFQcu"
      },
      "id": "beV_pN5MFQcu",
      "execution_count": null,
      "outputs": []
    },
    {
      "cell_type": "code",
      "source": [
        "data = data[~data['word'].str.contains(\"-DOCSTART-\")]"
      ],
      "metadata": {
        "id": "qjmMUrRgGJcV"
      },
      "id": "qjmMUrRgGJcV",
      "execution_count": null,
      "outputs": []
    },
    {
      "cell_type": "code",
      "source": [
        "class SentenceGetter:\n",
        "    def __init__(self, data):\n",
        "        self.n_sent = 1\n",
        "        self.data = data\n",
        "        self.empty = False\n",
        "        self.sentences = self.group_sentences(data)\n",
        "\n",
        "    def group_sentences(self, data):\n",
        "        agg_func = lambda s: [(w, p, t) for w, p, t in zip(s[\"word\"].values.tolist(),\n",
        "                                                           s[\"POS\"].values.tolist(),\n",
        "                                                           s[\"Tag\"].values.tolist())]\n",
        "        grouped = data.groupby(\"Sentence #\").apply(agg_func)\n",
        "        return [s for s in grouped]\n",
        "\n",
        "    def get_next(self):\n",
        "        try:\n",
        "            sentence = self.sentences[self.n_sent - 1]\n",
        "            self.n_sent += 1\n",
        "            return sentence\n",
        "        except IndexError:\n",
        "            return None"
      ],
      "metadata": {
        "id": "n6V9klpZE4Zp"
      },
      "id": "n6V9klpZE4Zp",
      "execution_count": null,
      "outputs": []
    },
    {
      "cell_type": "code",
      "source": [
        "getter = SentenceGetter(data)\n",
        "sentences = getter.sentences"
      ],
      "metadata": {
        "id": "pKX9LEd8E6nF"
      },
      "id": "pKX9LEd8E6nF",
      "execution_count": null,
      "outputs": []
    },
    {
      "cell_type": "code",
      "source": [
        "ner = [[s[2] for s in sent] for sent in sentences]\n",
        "pos = [[s[1] for s in sent] for sent in sentences]\n",
        "sentences = [\" \".join(s[0] for s in sent) for sent in sentences]"
      ],
      "metadata": {
        "id": "v42ZW5EUE9GU"
      },
      "id": "v42ZW5EUE9GU",
      "execution_count": null,
      "outputs": []
    },
    {
      "cell_type": "code",
      "source": [
        "index = 2\n",
        "\n",
        "def print_sentence_with_pos_and_ner(sentences, pos, ner, index):\n",
        "    # Print the specified sentence with its POS and NER tags\n",
        "    print(\"Sentence: \", sentences[index])\n",
        "    print(\"POS: \", pos[index])\n",
        "    print(\"NER: \", ner[index])\n",
        "\n",
        "print_sentence_with_pos_and_ner(sentences, pos, ner, index)"
      ],
      "metadata": {
        "colab": {
          "base_uri": "https://localhost:8080/"
        },
        "id": "pNeqKNfhFht9",
        "outputId": "f95a1b0a-8724-477b-f31d-4305d4fc5922"
      },
      "id": "pNeqKNfhFht9",
      "execution_count": null,
      "outputs": [
        {
          "output_type": "stream",
          "name": "stdout",
          "text": [
            "Sentence:  * Reinsurance group Scor gained 2.1 percent to 202 francs on news that British insurer Prudential had sold its Mercantile & General reinsurance business to Swiss Re .\n",
            "POS:  ['SYM', 'NN', 'NN', 'NN', 'VB', 'CD', 'NN', 'TO', 'CD', 'NN', 'IN', 'NN', 'IN', 'JJ', 'NN', 'NN', 'VB', 'VB', 'PRP', 'NN', 'CC', 'NN', 'NN', 'NN', 'TO', 'NN', 'NN', '.']\n",
            "NER:  ['O', 'O', 'O', 'I-ORG', 'O', 'O', 'O', 'O', 'O', 'O', 'O', 'O', 'O', 'I-MISC', 'O', 'I-ORG', 'O', 'O', 'O', 'I-ORG', 'I-ORG', 'I-ORG', 'O', 'O', 'O', 'I-MISC', 'I-ORG', 'O']\n"
          ]
        }
      ]
    },
    {
      "cell_type": "code",
      "source": [
        "# Get the length of each sentence\n",
        "sent_lengths = [len(sent.split()) for sent in sentences]\n",
        "\n",
        "# Find the index of the shortest and longest sentences\n",
        "shortest_idx = sent_lengths.index(min(sent_lengths))\n",
        "longest_idx = sent_lengths.index(max(sent_lengths))\n",
        "\n",
        "# Print the shortest sentence and its POS and NER tags\n",
        "print(\"Najkratšia veta v dátovej množine:\")\n",
        "print_sentence_with_pos_and_ner(sentences, pos, ner, shortest_idx)\n",
        "\n",
        "# Print the longest sentence and its POS and NER tags\n",
        "print(\"Najdlhšia veta v dátovej množine:\")\n",
        "print_sentence_with_pos_and_ner(sentences, pos, ner, longest_idx)"
      ],
      "metadata": {
        "colab": {
          "base_uri": "https://localhost:8080/"
        },
        "id": "GHPEZVPAFvBI",
        "outputId": "a63e1067-6491-45b8-9662-41c86ddf7f96"
      },
      "id": "GHPEZVPAFvBI",
      "execution_count": null,
      "outputs": [
        {
          "output_type": "stream",
          "name": "stdout",
          "text": [
            "Najkratšia veta v dátovej množine:\n",
            "Sentence:  ---\n",
            "POS:  ['SYM']\n",
            "NER:  ['O']\n",
            "Najdlhšia veta v dátovej množine:\n",
            "Sentence:  Barbarians - 15 - Tim Stimpson ( England ) ; 14 - Nigel Walker ( Wales ) , 13 - Allan Bateman ( Wales ) , 12 - Gregor Townsend ( Scotland ) , 11 - Tony Underwood ( England ) ; 10 - Rob Andrew ( England ) , 9 - Rob Howley ( Wales ) ; 8 - Scott Quinnell ( Wales ) , 7 - Neil Back ( England ) , 6 - Dale McIntosh ( Pontypridd ) , 5 - Ian Jones ( New Zealand ) , 4 - Craig Quinnell ( Wales ) , 3 - Darren Garforth ( Leicester ) , 2 - Norm Hewitt ( New Zealand ) , 1 - Nick Popplewell ( Ireland ) .\n",
            "POS:  ['NN', ':', 'CD', ':', 'NN', 'NN', '(', 'NN', ')', ':', 'CD', ':', 'NN', 'NN', '(', 'NN', ')', nan, 'CD', ':', 'NN', 'NN', '(', 'NN', ')', nan, 'CD', ':', 'NN', 'NN', '(', 'NN', ')', nan, 'CD', ':', 'NN', 'NN', '(', 'NN', ')', ':', 'CD', ':', 'NN', 'NN', '(', 'NN', ')', nan, 'CD', ':', 'NN', 'NN', '(', 'NN', ')', ':', 'CD', ':', 'NN', 'NN', '(', 'NN', ')', nan, 'CD', ':', 'NN', 'RB', '(', 'NN', ')', nan, 'CD', ':', 'NN', 'NN', '(', 'NN', ')', nan, 'CD', ':', 'NN', 'NN', '(', 'NN', 'NN', ')', nan, 'CD', ':', 'NN', 'NN', '(', 'NN', ')', nan, 'CD', ':', 'NN', 'NN', '(', 'NN', ')', nan, 'CD', ':', 'NN', 'NN', '(', 'NN', 'NN', ')', nan, 'CD', ':', 'NN', 'NN', '(', 'NN', ')', '.']\n",
            "NER:  ['I-ORG', 'O', 'O', 'O', 'I-PER', 'I-PER', 'O', 'I-LOC', 'O', 'O', 'O', 'O', 'I-PER', 'I-PER', 'O', 'I-LOC', 'O', 'O', 'O', 'O', 'I-PER', 'I-PER', 'O', 'I-LOC', 'O', 'O', 'O', 'O', 'I-PER', 'I-PER', 'O', 'I-LOC', 'O', 'O', 'O', 'O', 'I-PER', 'I-PER', 'O', 'I-LOC', 'O', 'O', 'O', 'O', 'I-PER', 'I-PER', 'O', 'I-LOC', 'O', 'O', 'O', 'O', 'I-PER', 'I-PER', 'O', 'I-LOC', 'O', 'O', 'O', 'O', 'I-PER', 'I-PER', 'O', 'I-LOC', 'O', 'O', 'O', 'O', 'I-PER', 'I-PER', 'O', 'I-LOC', 'O', 'O', 'O', 'O', 'I-PER', 'I-PER', 'O', 'I-LOC', 'O', 'O', 'O', 'O', 'I-PER', 'I-PER', 'O', 'I-LOC', 'I-LOC', 'O', 'O', 'O', 'O', 'I-PER', 'I-PER', 'O', 'I-LOC', 'O', 'O', 'O', 'O', 'I-PER', 'I-PER', 'O', 'I-LOC', 'O', 'O', 'O', 'O', 'I-PER', 'I-PER', 'O', 'I-LOC', 'I-LOC', 'O', 'O', 'O', 'O', 'I-PER', 'I-PER', 'O', 'I-LOC', 'O', 'O']\n"
          ]
        }
      ]
    },
    {
      "cell_type": "code",
      "source": [
        "# Count the number of words in the shortest sentence\n",
        "shortest_words = sentences[shortest_idx].split()\n",
        "num_shortest_words = len(shortest_words)\n",
        "\n",
        "# Count the number of words in the longest sentence\n",
        "longest_words = sentences[longest_idx].split()\n",
        "num_longest_words = len(longest_words)\n",
        "\n",
        "# Print the results\n",
        "print(\"Počet slov v najkratšej vete:\", num_shortest_words)\n",
        "print(\"Počet slov v najdlhšej vete:\", num_longest_words)"
      ],
      "metadata": {
        "colab": {
          "base_uri": "https://localhost:8080/"
        },
        "id": "7dRv7apKFzAI",
        "outputId": "4c8446db-c139-40c8-93fd-18c82c5aa5fd"
      },
      "id": "7dRv7apKFzAI",
      "execution_count": null,
      "outputs": [
        {
          "output_type": "stream",
          "name": "stdout",
          "text": [
            "Počet slov v najkratšej vete: 1\n",
            "Počet slov v najdlhšej vete: 124\n"
          ]
        }
      ]
    },
    {
      "cell_type": "code",
      "execution_count": null,
      "metadata": {
        "id": "6c733674"
      },
      "outputs": [],
      "source": [
        "# define list function \n",
        "def create_list(tokens):\n",
        "    token_list = []\n",
        "    for sentence in tokens:\n",
        "        for token in sentence:\n",
        "            token_list.append(token)\n",
        "    return token_list"
      ],
      "id": "6c733674"
    },
    {
      "cell_type": "code",
      "execution_count": null,
      "metadata": {
        "id": "87TJ7L5J9-Tp"
      },
      "outputs": [],
      "source": [
        "# Create token and tag lists\n",
        "tokens_train_list = create_list(tokens_train)\n",
        "tokens_testa_list = create_list(tokens_testa)\n",
        "tokens_testb_list = create_list(tokens_testb)\n",
        "\n",
        "pos_tags_train_list = create_list(pos_tags_train)\n",
        "pos_tags_testa_list = create_list(pos_tags_testa)\n",
        "pos_tags_testb_list = create_list(pos_tags_testb)\n",
        "\n",
        "ner_tags_train_list = create_list(ner_tags_train)\n",
        "ner_tags_testa_list = create_list(ner_tags_testa)\n",
        "ner_tags_testb_list = create_list(ner_tags_testb)"
      ],
      "id": "87TJ7L5J9-Tp"
    },
    {
      "cell_type": "code",
      "execution_count": null,
      "metadata": {
        "id": "kqTV91sB-L8-"
      },
      "outputs": [],
      "source": [
        "# Create unique tokens and tags vocab\n",
        "tokens_vocab = list(set(tokens_train_list + tokens_testa_list + tokens_testb_list))\n",
        "pos_tag_vocab = list(set(pos_tags_train_list + pos_tags_testa_list + pos_tags_testb_list))\n",
        "ner_tag_vocab = list(set(ner_tags_train_list + ner_tags_testa_list + ner_tags_testb_list))"
      ],
      "id": "kqTV91sB-L8-"
    },
    {
      "cell_type": "code",
      "source": [
        "# Map each token, POS tag, and NER tag to a numerical value\n",
        "token2idx = {token: i + 1 for i, token in enumerate(tokens_vocab)}\n",
        "ner_tag2idx = {ner_tag: i + 1 for i, ner_tag in enumerate(ner_tag_vocab)}\n",
        "ner_tag2idx['<PAD>'] = 0"
      ],
      "metadata": {
        "id": "4Ujia_Ui49Bn"
      },
      "id": "4Ujia_Ui49Bn",
      "execution_count": null,
      "outputs": []
    },
    {
      "cell_type": "code",
      "execution_count": null,
      "metadata": {
        "id": "KhTcat-nHl5U"
      },
      "outputs": [],
      "source": [
        "# Convert the tokens, POS tags, and NER tags to numerical values\n",
        "X_train = [[token2idx[token] for token in sentence] for sentence in tokens_train]\n",
        "y_ner_train = [[ner_tag2idx[ner_tag] for ner_tag in sentence] for sentence in ner_tags_train]\n",
        "\n",
        "X_testa = [[token2idx[token] for token in sentence] for sentence in tokens_testa]\n",
        "y_ner_testa = [[ner_tag2idx[ner_tag] for ner_tag in sentence] for sentence in ner_tags_testa]\n",
        "\n",
        "X_testb = [[token2idx[token] for token in sentence] for sentence in tokens_testb]\n",
        "y_ner_testb = [[ner_tag2idx[ner_tag] for ner_tag in sentence] for sentence in ner_tags_testb]"
      ],
      "id": "KhTcat-nHl5U"
    },
    {
      "cell_type": "code",
      "execution_count": null,
      "metadata": {
        "id": "oBh8wuhT-8RC"
      },
      "outputs": [],
      "source": [
        "# Pad the sequences to ensure they are all the same length\n",
        "max_len = 100\n",
        "X_train = pad_sequences(X_train, maxlen=max_len, padding='post', truncating='post')\n",
        "y_ner_train = pad_sequences(y_ner_train, maxlen=max_len, padding='post', truncating='post')\n",
        "\n",
        "X_testa = pad_sequences(X_testa, maxlen=max_len, padding='post', truncating='post')\n",
        "y_ner_testa = pad_sequences(y_ner_testa, maxlen=max_len, padding='post', truncating='post')\n",
        "\n",
        "X_testb = pad_sequences(X_testb, maxlen=max_len, padding='post', truncating='post')\n",
        "y_ner_testb = pad_sequences(y_ner_testb, maxlen=max_len, padding='post', truncating='post')"
      ],
      "id": "oBh8wuhT-8RC"
    },
    {
      "cell_type": "code",
      "execution_count": null,
      "metadata": {
        "id": "7jExNURI_EiT"
      },
      "outputs": [],
      "source": [
        "# Convert the numerical values to one-hot encoded vectors\n",
        "y_ner_train_enc  = to_categorical(y_ner_train, num_classes=len(ner_tag2idx) + 1)\n",
        "y_ner_testa_enc  = to_categorical(y_ner_testa, num_classes=len(ner_tag2idx) + 1)\n",
        "y_ner_testb_enc  = to_categorical(y_ner_testb, num_classes=len(ner_tag2idx) + 1)"
      ],
      "id": "7jExNURI_EiT"
    },
    {
      "cell_type": "code",
      "execution_count": null,
      "metadata": {
        "id": "jEhfNM9P_Igb"
      },
      "outputs": [],
      "source": [
        "#Define POS model\n",
        "model = Sequential()\n",
        "model.add(InputLayer(input_shape=(max_len, )))\n",
        "model.add(Embedding(input_dim=len(token2idx) + 1, output_dim=128, input_length=max_len, dtype='float32'))\n",
        "model.add(Dropout(0.2))\n",
        "model.add((LSTM(64,return_sequences=True)))\n",
        "model.add(TimeDistributed(Dense(len(ner_tag2idx) + 1, activation='softmax')))\n",
        "model.compile(optimizer = Adam(learning_rate = 0.001),loss = 'categorical_crossentropy', metrics = ['accuracy'],loss_weights=[0.5, 0.5])\n"
      ],
      "id": "jEhfNM9P_Igb"
    },
    {
      "cell_type": "markdown",
      "source": [
        "#BEST MODEL FROM EXPERIMENTS"
      ],
      "metadata": {
        "id": "C9VBoJooP4vq"
      },
      "id": "C9VBoJooP4vq"
    },
    {
      "cell_type": "code",
      "execution_count": null,
      "metadata": {
        "id": "8BcEmsjdQmae"
      },
      "outputs": [],
      "source": [
        "#NER Bi-LSTM model2 with regularization: TEST A -> acc: 0,99, F1 macro:0,94 .... TEST B -> acc: 0,99, F1 macro: 0,93 \n",
        "from keras.regularizers import l1, l2\n",
        "model = Sequential()\n",
        "model.add(InputLayer(input_shape=(max_len, )))\n",
        "model.add(Embedding(input_dim=len(token2idx) + 1, output_dim=128, input_length=max_len, dtype='float32'))\n",
        "model.add(Bidirectional(LSTM(128, return_sequences=True,kernel_regularizer=l2(0.0000001), recurrent_regularizer=l1(0.0000001))))\n",
        "model.add((LSTM(128, return_sequences=True,kernel_regularizer=l2(0.0000001))))\n",
        "model.add(TimeDistributed(Dense(len(ner_tag2idx) + 1, activation='softmax')))\n",
        "model.compile(optimizer = Adam(learning_rate = 0.01),loss = 'categorical_crossentropy', metrics = ['accuracy'],loss_weights=[0.5, 0.5])"
      ],
      "id": "8BcEmsjdQmae"
    },
    {
      "cell_type": "code",
      "execution_count": null,
      "metadata": {
        "colab": {
          "base_uri": "https://localhost:8080/"
        },
        "id": "lPDpzYI7Aupj",
        "outputId": "09750d46-9e46-4c77-9324-c65827d4ae6d"
      },
      "outputs": [
        {
          "output_type": "stream",
          "name": "stdout",
          "text": [
            "Model: \"sequential_4\"\n",
            "_________________________________________________________________\n",
            " Layer (type)                Output Shape              Param #   \n",
            "=================================================================\n",
            " embedding_4 (Embedding)     (None, 100, 128)          3877248   \n",
            "                                                                 \n",
            " bidirectional_1 (Bidirectio  (None, 100, 256)         263168    \n",
            " nal)                                                            \n",
            "                                                                 \n",
            " lstm_6 (LSTM)               (None, 100, 128)          197120    \n",
            "                                                                 \n",
            " time_distributed_2 (TimeDis  (None, 100, 10)          1290      \n",
            " tributed)                                                       \n",
            "                                                                 \n",
            "=================================================================\n",
            "Total params: 4,338,826\n",
            "Trainable params: 4,338,826\n",
            "Non-trainable params: 0\n",
            "_________________________________________________________________\n"
          ]
        }
      ],
      "source": [
        "model.summary()"
      ],
      "id": "lPDpzYI7Aupj"
    },
    {
      "cell_type": "code",
      "execution_count": null,
      "metadata": {
        "colab": {
          "base_uri": "https://localhost:8080/",
          "height": 533
        },
        "id": "IoNxmheEOjH3",
        "outputId": "674c4c1f-d93f-469d-9c1b-65ecab328793"
      },
      "outputs": [
        {
          "output_type": "execute_result",
          "data": {
            "image/png": "[encoded data removed]",
            "text/plain": [
              "<IPython.core.display.Image object>"
            ]
          },
          "metadata": {},
          "execution_count": 32
        }
      ],
      "source": [
        "tf.keras.utils.plot_model(\n",
        "    model,\n",
        "    to_file='ner_model.png',\n",
        "    show_shapes=True,\n",
        "    show_dtype=False,\n",
        "    show_layer_names=True,\n",
        "    rankdir='TB',\n",
        "    expand_nested=False,\n",
        "    dpi=96,\n",
        "    layer_range=None,\n",
        "    show_layer_activations=True,\n",
        "    show_trainable=False\n",
        ")"
      ],
      "id": "IoNxmheEOjH3"
    },
    {
      "cell_type": "code",
      "execution_count": null,
      "metadata": {
        "colab": {
          "base_uri": "https://localhost:8080/",
          "height": 104
        },
        "id": "R6h5t966cvE2",
        "outputId": "0f6c5734-947f-4f45-fc67-ffe6b4dcc848"
      },
      "outputs": [
        {
          "output_type": "execute_result",
          "data": {
            "image/png": "[encoded data removed]",
            "text/plain": [
              "<IPython.core.display.Image object>"
            ]
          },
          "metadata": {},
          "execution_count": 33
        }
      ],
      "source": [
        "# `rankdir='LR'` is to make the graph horizontal.\n",
        "tf.keras.utils.plot_model(model, show_shapes=True, rankdir=\"LR\")"
      ],
      "id": "R6h5t966cvE2"
    },
    {
      "cell_type": "code",
      "execution_count": null,
      "metadata": {
        "id": "ZyWX3OeZr6HJ"
      },
      "outputs": [],
      "source": [
        "#import tensorflow as tf\n",
        "#physical_devices = tf.config.list_physical_devices('GPU')\n",
        "#tf.config.experimental.set_memory_growth(physical_devices[0], enable=True)"
      ],
      "id": "ZyWX3OeZr6HJ"
    },
    {
      "cell_type": "code",
      "source": [
        "import time\n",
        "start_time = time.time()"
      ],
      "metadata": {
        "id": "3s6xSrZ3mjC9"
      },
      "id": "3s6xSrZ3mjC9",
      "execution_count": null,
      "outputs": []
    },
    {
      "cell_type": "code",
      "execution_count": null,
      "metadata": {
        "colab": {
          "base_uri": "https://localhost:8080/"
        },
        "id": "skDbsHGjBH-x",
        "outputId": "be8f38f9-ed5b-49a5-eb21-c6ea75cab314"
      },
      "outputs": [
        {
          "output_type": "stream",
          "name": "stdout",
          "text": [
            "Epoch 1/10\n",
            "235/235 [==============================] - ETA: 0s - loss: 0.0420 - accuracy: 0.9758\n",
            "Epoch 1: val_accuracy improved from -inf to 0.99093, saving model to ner.hdf5\n",
            "235/235 [==============================] - 15s 20ms/step - loss: 0.0420 - accuracy: 0.9758 - val_loss: 0.0162 - val_accuracy: 0.9909\n",
            "Epoch 2/10\n",
            "233/235 [============================>.] - ETA: 0s - loss: 0.0076 - accuracy: 0.9962\n",
            "Epoch 2: val_accuracy improved from 0.99093 to 0.99373, saving model to ner.hdf5\n",
            "235/235 [==============================] - 4s 15ms/step - loss: 0.0076 - accuracy: 0.9962 - val_loss: 0.0121 - val_accuracy: 0.9937\n",
            "Epoch 3/10\n",
            "235/235 [==============================] - ETA: 0s - loss: 0.0034 - accuracy: 0.9987\n",
            "Epoch 3: val_accuracy improved from 0.99373 to 0.99443, saving model to ner.hdf5\n",
            "235/235 [==============================] - 4s 16ms/step - loss: 0.0034 - accuracy: 0.9987 - val_loss: 0.0116 - val_accuracy: 0.9944\n",
            "Epoch 4/10\n",
            "233/235 [============================>.] - ETA: 0s - loss: 0.0021 - accuracy: 0.9994\n",
            "Epoch 4: val_accuracy improved from 0.99443 to 0.99452, saving model to ner.hdf5\n",
            "235/235 [==============================] - 4s 15ms/step - loss: 0.0021 - accuracy: 0.9994 - val_loss: 0.0119 - val_accuracy: 0.9945\n",
            "Epoch 5/10\n",
            "233/235 [============================>.] - ETA: 0s - loss: 0.0014 - accuracy: 0.9996\n",
            "Epoch 5: val_accuracy improved from 0.99452 to 0.99479, saving model to ner.hdf5\n",
            "235/235 [==============================] - 4s 16ms/step - loss: 0.0014 - accuracy: 0.9996 - val_loss: 0.0129 - val_accuracy: 0.9948\n",
            "Epoch 6/10\n",
            "233/235 [============================>.] - ETA: 0s - loss: 0.0012 - accuracy: 0.9997\n",
            "Epoch 6: val_accuracy did not improve from 0.99479\n",
            "235/235 [==============================] - 3s 15ms/step - loss: 0.0012 - accuracy: 0.9997 - val_loss: 0.0136 - val_accuracy: 0.9943\n",
            "Epoch 7/10\n",
            "232/235 [============================>.] - ETA: 0s - loss: 0.0010 - accuracy: 0.9998\n",
            "Epoch 7: val_accuracy did not improve from 0.99479\n",
            "235/235 [==============================] - 3s 15ms/step - loss: 0.0010 - accuracy: 0.9998 - val_loss: 0.0163 - val_accuracy: 0.9942\n",
            "Epoch 8/10\n",
            "233/235 [============================>.] - ETA: 0s - loss: 8.8910e-04 - accuracy: 0.9998\n",
            "Epoch 8: val_accuracy did not improve from 0.99479\n",
            "235/235 [==============================] - 4s 15ms/step - loss: 8.8936e-04 - accuracy: 0.9998 - val_loss: 0.0126 - val_accuracy: 0.9946\n",
            "Epoch 9/10\n",
            "233/235 [============================>.] - ETA: 0s - loss: 0.0018 - accuracy: 0.9996\n",
            "Epoch 9: val_accuracy did not improve from 0.99479\n",
            "235/235 [==============================] - 3s 15ms/step - loss: 0.0018 - accuracy: 0.9996 - val_loss: 0.0167 - val_accuracy: 0.9942\n",
            "Epoch 10/10\n",
            "233/235 [============================>.] - ETA: 0s - loss: 0.0016 - accuracy: 0.9997\n",
            "Epoch 10: val_accuracy did not improve from 0.99479\n",
            "235/235 [==============================] - 3s 15ms/step - loss: 0.0016 - accuracy: 0.9997 - val_loss: 0.0179 - val_accuracy: 0.9941\n"
          ]
        }
      ],
      "source": [
        "saved_model = 'ner.hdf5'\n",
        "checkpoint = ModelCheckpoint(saved_model, monitor='val_accuracy', verbose=1, save_best_only=True, mode='max')\n",
        "\n",
        "epochs = 10\n",
        "batch_size = 64\n",
        "history = model.fit(X_train, y_ner_train_enc, validation_data=(X_testa,y_ner_testa_enc), epochs=epochs, batch_size=batch_size,callbacks=[checkpoint])"
      ],
      "id": "skDbsHGjBH-x"
    },
    {
      "cell_type": "code",
      "source": [
        "end_time = time.time()\n",
        "bi_lstm_training_time = end_time - start_time\n",
        "print(\"Bi-LSTM training time:\", bi_lstm_training_time)"
      ],
      "metadata": {
        "colab": {
          "base_uri": "https://localhost:8080/"
        },
        "id": "dXl93V0Rms9f",
        "outputId": "a3c8be9b-ecd5-4ef8-b5bd-7a4fbe05d4d1"
      },
      "id": "dXl93V0Rms9f",
      "execution_count": null,
      "outputs": [
        {
          "output_type": "stream",
          "name": "stdout",
          "text": [
            "Bi-LSTM training time: 46.62714433670044\n"
          ]
        }
      ]
    },
    {
      "cell_type": "code",
      "source": [
        "num_parameters = model.count_params()\n",
        "print(\"Number of trainable parameters in Bi-LSTM model:\", num_parameters)"
      ],
      "metadata": {
        "colab": {
          "base_uri": "https://localhost:8080/"
        },
        "id": "OO0LxJdBm360",
        "outputId": "1edca164-332c-4ed8-c09f-b69d13f9702f"
      },
      "id": "OO0LxJdBm360",
      "execution_count": null,
      "outputs": [
        {
          "output_type": "stream",
          "name": "stdout",
          "text": [
            "Number of trainable parameters in Bi-LSTM model: 4338826\n"
          ]
        }
      ]
    },
    {
      "cell_type": "code",
      "execution_count": null,
      "metadata": {
        "id": "t8pBeCBPVGAt"
      },
      "outputs": [],
      "source": [
        "def trainingProcess(history):\n",
        "    plt.style.use('ggplot')\n",
        "    plt.plot(history.history['accuracy'])\n",
        "    plt.plot(history.history['val_accuracy'])\n",
        "    plt.title('')\n",
        "    plt.ylabel('Accuracy')\n",
        "    plt.xlabel('Epochs')\n",
        "    plt.legend(['train', 'validation'], loc='upper left')\n",
        "    plt.savefig('ner_acc.png')\n",
        "    plt.show()\n",
        "    plt.style.use('ggplot')\n",
        "    plt.plot(history.history['loss'])\n",
        "    plt.plot(history.history['val_loss'])\n",
        "    plt.title('')\n",
        "    plt.ylabel('Loss')\n",
        "    plt.xlabel('Epochs')\n",
        "    plt.legend(['train', 'validation'], loc='upper left')\n",
        "    plt.savefig('ner_loss.png')\n",
        "    plt.show()"
      ],
      "id": "t8pBeCBPVGAt"
    },
    {
      "cell_type": "code",
      "execution_count": null,
      "metadata": {
        "colab": {
          "base_uri": "https://localhost:8080/",
          "height": 889
        },
        "id": "j4goxwYwU21C",
        "outputId": "a75b9170-7cef-455f-acd8-e33e7780b9aa"
      },
      "outputs": [
        {
          "output_type": "display_data",
          "data": {
            "text/plain": [
              "<Figure size 640x480 with 1 Axes>"
            ],
            "image/png": "[encoded data removed]"
          },
          "metadata": {}
        },
        {
          "output_type": "display_data",
          "data": {
            "text/plain": [
              "<Figure size 640x480 with 1 Axes>"
            ],
            "image/png": "[encoded data removed]"
          },
          "metadata": {}
        }
      ],
      "source": [
        "trainingProcess(history)"
      ],
      "id": "j4goxwYwU21C"
    },
    {
      "cell_type": "code",
      "source": [
        "# load best model\n",
        "myModel = load_model('ner.hdf5') "
      ],
      "metadata": {
        "id": "6FkbALuZ59c2"
      },
      "id": "6FkbALuZ59c2",
      "execution_count": null,
      "outputs": []
    },
    {
      "cell_type": "code",
      "source": [
        "# Evaluate the model on the test sets\n",
        "test_scores = model.evaluate(X_testa,y_ner_testa_enc)\n",
        "print('\\nTest set A:')\n",
        "print(\"NER loss:, NER accuracy:\", test_scores)\n",
        "\n",
        "\n",
        "test_scores = model.evaluate(X_testb,y_ner_testb_enc)\n",
        "print('\\nTest set B:')\n",
        "print(\"NER loss:, NER accuracy:\", test_scores)"
      ],
      "metadata": {
        "colab": {
          "base_uri": "https://localhost:8080/"
        },
        "id": "AsmGgY0m58GG",
        "outputId": "13e091ed-0458-4bf2-c94d-7f664b22f96a"
      },
      "id": "AsmGgY0m58GG",
      "execution_count": null,
      "outputs": [
        {
          "output_type": "stream",
          "name": "stdout",
          "text": [
            "109/109 [==============================] - 1s 6ms/step - loss: 0.0179 - accuracy: 0.9941\n",
            "\n",
            "Test set A:\n",
            "NER loss:, NER accuracy: [0.01790129952132702, 0.9941142797470093]\n",
            "116/116 [==============================] - 1s 6ms/step - loss: 0.0227 - accuracy: 0.9918\n",
            "\n",
            "Test set B:\n",
            "NER loss:, NER accuracy: [0.022737551480531693, 0.9918322563171387]\n"
          ]
        }
      ]
    },
    {
      "cell_type": "code",
      "execution_count": null,
      "metadata": {
        "colab": {
          "base_uri": "https://localhost:8080/"
        },
        "id": "EjXuQ_PmcJN3",
        "outputId": "9321b739-e715-43f4-da57-e2fb8b1a6674"
      },
      "outputs": [
        {
          "output_type": "stream",
          "name": "stdout",
          "text": [
            "109/109 [==============================] - 2s 5ms/step\n",
            "116/116 [==============================] - 1s 5ms/step\n"
          ]
        }
      ],
      "source": [
        "# Evaluate the model\n",
        "y_pred_ner_testa = model.predict(X_testa)\n",
        "y_pred_ner_testa = np.argmax(y_pred_ner_testa, axis=-1)\n",
        "\n",
        "# Evaluate the model\n",
        "y_pred_ner_testb = model.predict(X_testb)\n",
        "y_pred_ner_testb = np.argmax(y_pred_ner_testb, axis=-1)"
      ],
      "id": "EjXuQ_PmcJN3"
    },
    {
      "cell_type": "code",
      "execution_count": null,
      "metadata": {
        "colab": {
          "base_uri": "https://localhost:8080/"
        },
        "id": "OeZWsOmwZHm4",
        "outputId": "07209909-5fb0-4aff-b5f8-1c58ac2a4796"
      },
      "outputs": [
        {
          "output_type": "stream",
          "name": "stdout",
          "text": [
            "Test A Set\n",
            "Accuracy score: 0.9941142527409117\n",
            "Precision score: 0.8674815796973565\n",
            "Recall score: 0.9941142527409117\n",
            "F1 micro score: 0.9941142527409117\n",
            "F1 macro score: 0.8305854121198422\n",
            "Confusion matrix:\n",
            " [[295035      1      0      0      0      0      0]\n",
            " [     0  42810     76     19      0     13     49]\n",
            " [     0    317   1704     23      0     18     30]\n",
            " [     0    224    131   1678      1     33     27]\n",
            " [     0      1      0      0      2      1      0]\n",
            " [     0    246     38      4      2    957     17]\n",
            " [     2    709     44     10      0      4   2374]]\n"
          ]
        }
      ],
      "source": [
        "# Evaluation Results of Test A Set\n",
        "print('Test A Set')\n",
        "print('Accuracy score:', accuracy_score(y_ner_testa.flatten(), y_pred_ner_testa.flatten()))\n",
        "print('Precision score:', precision_score(y_ner_testa.flatten(), y_pred_ner_testa.flatten(), average='macro'))\n",
        "print('Recall score:', recall_score(y_ner_testa.flatten(), y_pred_ner_testa.flatten(), average='weighted'))\n",
        "print('F1 micro score:', f1_score(y_ner_testa.flatten(), y_pred_ner_testa.flatten(), average='micro'))\n",
        "print('F1 macro score:', f1_score(y_ner_testa.flatten(), y_pred_ner_testa.flatten(), average='macro'))\n",
        "#print('ROC AUC score:', roc_auc_score(y_ner_testa.flatten(), y_pred_ner_testa.flatten(), multi_class='ovr'))\n",
        "print('Confusion matrix:\\n', confusion_matrix(y_ner_testa.flatten(), y_pred_ner_testa.flatten()))"
      ],
      "id": "OeZWsOmwZHm4"
    },
    {
      "cell_type": "code",
      "source": [
        "print('Classification report:\\n', classification_report(y_ner_testa.flatten(), y_pred_ner_testa.flatten(), target_names=ner_tag2idx))\n"
      ],
      "metadata": {
        "colab": {
          "base_uri": "https://localhost:8080/",
          "height": 287
        },
        "id": "bpZn3yBv9mbr",
        "outputId": "c9246d27-d87f-49b9-8395-12c00711eac6"
      },
      "id": "bpZn3yBv9mbr",
      "execution_count": null,
      "outputs": [
        {
          "output_type": "error",
          "ename": "ValueError",
          "evalue": "ignored",
          "traceback": [
            "\u001b[0;31m---------------------------------------------------------------------------\u001b[0m",
            "\u001b[0;31mValueError\u001b[0m                                Traceback (most recent call last)",
            "\u001b[0;32m<ipython-input-49-0bc0a2d3ee03>\u001b[0m in \u001b[0;36m<cell line: 1>\u001b[0;34m()\u001b[0m\n\u001b[0;32m----> 1\u001b[0;31m \u001b[0mprint\u001b[0m\u001b[0;34m(\u001b[0m\u001b[0;34m'Classification report:\\n'\u001b[0m\u001b[0;34m,\u001b[0m \u001b[0mclassification_report\u001b[0m\u001b[0;34m(\u001b[0m\u001b[0my_ner_testa\u001b[0m\u001b[0;34m.\u001b[0m\u001b[0mflatten\u001b[0m\u001b[0;34m(\u001b[0m\u001b[0;34m)\u001b[0m\u001b[0;34m,\u001b[0m \u001b[0my_pred_ner_testa\u001b[0m\u001b[0;34m.\u001b[0m\u001b[0mflatten\u001b[0m\u001b[0;34m(\u001b[0m\u001b[0;34m)\u001b[0m\u001b[0;34m,\u001b[0m \u001b[0mtarget_names\u001b[0m\u001b[0;34m=\u001b[0m\u001b[0mner_tag2idx\u001b[0m\u001b[0;34m)\u001b[0m\u001b[0;34m)\u001b[0m\u001b[0;34m\u001b[0m\u001b[0;34m\u001b[0m\u001b[0m\n\u001b[0m",
            "\u001b[0;32m/usr/local/lib/python3.10/dist-packages/sklearn/metrics/_classification.py\u001b[0m in \u001b[0;36mclassification_report\u001b[0;34m(y_true, y_pred, labels, target_names, sample_weight, digits, output_dict, zero_division)\u001b[0m\n\u001b[1;32m   2330\u001b[0m             )\n\u001b[1;32m   2331\u001b[0m         \u001b[0;32melse\u001b[0m\u001b[0;34m:\u001b[0m\u001b[0;34m\u001b[0m\u001b[0;34m\u001b[0m\u001b[0m\n\u001b[0;32m-> 2332\u001b[0;31m             raise ValueError(\n\u001b[0m\u001b[1;32m   2333\u001b[0m                 \u001b[0;34m\"Number of classes, {0}, does not match size of \"\u001b[0m\u001b[0;34m\u001b[0m\u001b[0;34m\u001b[0m\u001b[0m\n\u001b[1;32m   2334\u001b[0m                 \u001b[0;34m\"target_names, {1}. Try specifying the labels \"\u001b[0m\u001b[0;34m\u001b[0m\u001b[0;34m\u001b[0m\u001b[0m\n",
            "\u001b[0;31mValueError\u001b[0m: Number of classes, 7, does not match size of target_names, 9. Try specifying the labels parameter"
          ]
        }
      ]
    },
    {
      "cell_type": "code",
      "execution_count": null,
      "metadata": {
        "id": "-rnw_i9yRIFn"
      },
      "outputs": [],
      "source": [
        "# Evaluation Results of Test B Set\n",
        "print('Test B Set')\n",
        "print('Accuracy score:', accuracy_score(y_ner_testb.flatten(), y_pred_ner_testb.flatten()))\n",
        "print('Precision score:', precision_score(y_ner_testb.flatten(), y_pred_ner_testb.flatten(), average='macro'))\n",
        "print('Recall score:', recall_score(y_ner_testb.flatten(), y_pred_ner_testb.flatten(), average='weighted'))\n",
        "print('F1 micro score:', f1_score(y_ner_testb.flatten(), y_pred_ner_testb.flatten(), average='micro'))\n",
        "print('F1 macro score:', f1_score(y_ner_testb.flatten(), y_pred_ner_testb.flatten(), average='macro'))\n",
        "#print('ROC AUC score:', roc_auc_score(y_ner_testa.flatten(), y_pred_ner_testa.flatten(), multi_class='ovr'))\n",
        "print('Confusion matrix:\\n', confusion_matrix(y_ner_testb.flatten(), y_pred_ner_testb.flatten()))"
      ],
      "id": "-rnw_i9yRIFn"
    },
    {
      "cell_type": "code",
      "source": [
        "from sklearn.metrics import confusion_matrix\n",
        "import seaborn as sns\n",
        "\n",
        "# Get the list of labels from token2idx dictionary\n",
        "labels = list(ner_tag2idx.keys())\n",
        "\n",
        "# Create the confusion matrix\n",
        "cm = confusion_matrix(y_ner_testb.flatten(), y_pred_ner_testb.flatten())\n",
        "\n",
        "# Create the heatmap\n",
        "plt.figure(figsize=(8, 6))\n",
        "sns.heatmap(cm, annot=True, fmt='g', cmap='Blues', xticklabels=labels, yticklabels=labels)\n",
        "plt.xlabel('Predicted labels')\n",
        "plt.ylabel('True labels')\n",
        "plt.title('Kontingenčná tabuľka')\n",
        "plt.savefig('NER_CM.png')\n",
        "plt.show()"
      ],
      "metadata": {
        "id": "U2I6Nl1lnFbn"
      },
      "id": "U2I6Nl1lnFbn",
      "execution_count": null,
      "outputs": []
    },
    {
      "cell_type": "code",
      "execution_count": null,
      "metadata": {
        "id": "kmc3g4KlRUI8"
      },
      "outputs": [],
      "source": [
        "# Classification report\n",
        "print('Classification report for test B set:\\n', classification_report(y_ner_testb.flatten(), y_pred_ner_testb.flatten(), target_names = list(ner_tag2idx.keys())))"
      ],
      "id": "kmc3g4KlRUI8"
    },
    {
      "cell_type": "markdown",
      "metadata": {
        "id": "TvI45-xWGEdT"
      },
      "source": [
        "##Feature importance for LSTM network"
      ],
      "id": "TvI45-xWGEdT"
    },
    {
      "cell_type": "code",
      "execution_count": null,
      "metadata": {
        "id": "7f1-8fzHGH7H"
      },
      "outputs": [],
      "source": [
        "lstm_layer = model.layers[1] # get the LSTM layer\n",
        "lstm_weights = lstm_layer.get_weights()[0] # get the LSTM weights\n",
        "actual_importance = np.abs(lstm_weights).sum(axis=1) # calculate the importance of each input feature"
      ],
      "id": "7f1-8fzHGH7H"
    },
    {
      "cell_type": "code",
      "execution_count": null,
      "metadata": {
        "id": "DGJqILI2GMiV"
      },
      "outputs": [],
      "source": [
        "feature_names = list(token2idx.keys())"
      ],
      "id": "DGJqILI2GMiV"
    },
    {
      "cell_type": "code",
      "execution_count": null,
      "metadata": {
        "id": "YW1irqiTGNP2"
      },
      "outputs": [],
      "source": [
        "# Create an empty DataFrame to store the feature names and importance scores\n",
        "lstm_feature_importance = pd.DataFrame(columns=[\"Feature\", \"Importance\"])\n",
        "\n",
        "# Sort the features by importance in descending order\n",
        "lstm_importance_ranking = np.argsort(actual_importance)[::-1]\n",
        "\n",
        "# Loop through the sorted features and add them to the DataFrame\n",
        "for i, feature_idx in enumerate(lstm_importance_ranking):\n",
        "    feature_name = feature_names[feature_idx]\n",
        "    importance_score = actual_importance[feature_idx]\n",
        "    lstm_feature_importance.loc[i] = [feature_name, importance_score]\n",
        "# Print the DataFrame\n",
        "lstm_feature_importance.sort_values(by = 'Importance', ascending=True)"
      ],
      "id": "YW1irqiTGNP2"
    },
    {
      "cell_type": "code",
      "execution_count": null,
      "metadata": {
        "id": "bWMI8NGXGR5g"
      },
      "outputs": [],
      "source": [
        "lstm_feature_importance['normalized_importance'] = lstm_feature_importance['Importance'] / lstm_feature_importance['Importance'].sum()"
      ],
      "id": "bWMI8NGXGR5g"
    },
    {
      "cell_type": "code",
      "execution_count": null,
      "metadata": {
        "id": "7lA13EFAGZWt"
      },
      "outputs": [],
      "source": [
        "lstm_feature_importance"
      ],
      "id": "7lA13EFAGZWt"
    },
    {
      "cell_type": "code",
      "execution_count": null,
      "metadata": {
        "id": "sYAQVDetn8ap"
      },
      "outputs": [],
      "source": [
        "# Get the penultimate layer of the model\n",
        "penultimate_layer = myModel.layers[-2]\n",
        "\n",
        "# Print the name and output shape of the penultimate layer\n",
        "print(\"Penultimate layer name:\", penultimate_layer.name)\n",
        "print(\"Penultimate layer output shape:\", penultimate_layer.output_shape)"
      ],
      "id": "sYAQVDetn8ap"
    },
    {
      "cell_type": "markdown",
      "metadata": {
        "id": "znFoVpL4hegY"
      },
      "source": [
        "## XAI METHODS"
      ],
      "id": "znFoVpL4hegY"
    },
    {
      "cell_type": "markdown",
      "source": [
        "###LIME\n"
      ],
      "metadata": {
        "id": "6NMqcXMI4cha"
      },
      "id": "6NMqcXMI4cha"
    },
    {
      "cell_type": "code",
      "source": [
        "#EXPLANATION OF ONE SENTENCE WITH LIME\n",
        "import pandas as pd\n",
        "from lime.lime_text import LimeTextExplainer\n",
        "\n",
        "class ExplainerGenerator:\n",
        "    def __init__(self, model, token2idx, ner_tag2idx, max_len):\n",
        "        self.model = model\n",
        "        self.token2idx = token2idx\n",
        "        self.ner_tag2idx = ner_tag2idx\n",
        "        self.idx2tag = {v: k for k, v in ner_tag2idx.items()}\n",
        "        self.max_len = max_len\n",
        "\n",
        "    def _preprocess(self, texts):\n",
        "        sentences = [sentence.split() for sentence in texts]\n",
        "        X = [\n",
        "        [self.token2idx.get(token, self.token2idx['<UNK>']) for token in sentence]\n",
        "         for sentence in sentences\n",
        "]\n",
        "        X = pad_sequences(maxlen=self.max_len, sequences=X, padding=\"post\", truncating='post')\n",
        "        return X\n",
        "\n",
        "    def get_predict_function(self, word_index):\n",
        "        def predict_func(texts):\n",
        "            X = self._preprocess(texts)\n",
        "            p = self.model.predict(X)\n",
        "            return p[:, word_index, :]\n",
        "\n",
        "        return predict_func\n",
        "\n",
        "\n",
        "index = 256\n",
        "ner_idx = ner[index]\n",
        "sentence_text = sentences[index]\n",
        "\n",
        "print('Sentence without NER:')\n",
        "print(sentence_text)\n",
        "print('Sentence with NER:')\n",
        "print(\" \".join([f\"{t} ({l})\" for t, l in zip(sentence_text.split(), ner_idx)]))\n",
        "\n",
        "for i, word in enumerate(sentence_text.split()):\n",
        "    print(f\"{i}: {word}\")\n",
        "\n",
        "explainer_generator = ExplainerGenerator(model, token2idx, ner_tag2idx, max_len)\n",
        "word_index = 6\n",
        "predict_func = explainer_generator.get_predict_function(word_index=word_index)\n",
        "\n",
        "explainer = LimeTextExplainer(class_names=ner_tag2idx)\n",
        "\n",
        "exp = explainer.explain_instance(sentences[256], predict_func, distance_metric='cosine')\n",
        "print(exp.as_list())\n",
        "exp.show_in_notebook(text=True)\n"
      ],
      "metadata": {
        "id": "CeLsyCN_M_CF"
      },
      "id": "CeLsyCN_M_CF",
      "execution_count": null,
      "outputs": []
    },
    {
      "cell_type": "code",
      "source": [
        "#EXPLANATION FOR ONE WORD IN SENTENCE \n",
        "class ExplainerGenerator:\n",
        "    def __init__(self, model, token2idx, ner_tag2idx, max_len):\n",
        "        self.model = model\n",
        "        self.token2idx = token2idx\n",
        "        self.ner_tag2idx = ner_tag2idx\n",
        "        self.idx2tag = {v: k for k, v in ner_tag2idx.items()}\n",
        "        self.max_len = max_len\n",
        "\n",
        "    def _preprocess(self, texts):\n",
        "        sentences = [sentence.split() for sentence in texts]\n",
        "        X = [\n",
        "            [self.token2idx.get(token, self.token2idx['<UNK>']) for token in sentence]\n",
        "            for sentence in sentences\n",
        "        ]\n",
        "        X = pad_sequences(maxlen=self.max_len, sequences=X, padding=\"post\", truncating='post')\n",
        "        return X\n",
        "\n",
        "    def _explain_word(self, sentence, word_index, predict_func):\n",
        "        words = sentence.split()\n",
        "        word = words[word_index]\n",
        "        explainer = LimeTextExplainer(class_names=list(self.ner_tag2idx.keys()))\n",
        "        exp = explainer.explain_instance(sentence, predict_func, num_features=10, labels=list(self.ner_tag2idx.values()), \n",
        "                                         top_labels=1, distance_metric='cosine')\n",
        "        label_idx = exp.top_labels[0]\n",
        "        label = self.idx2tag[label_idx]\n",
        "        return word, label, exp.as_list(label_idx)\n",
        "\n",
        "    def get_predict_function(self, word_index):\n",
        "        def predict_func(texts):\n",
        "            X = self._preprocess(texts)\n",
        "            p = self.model.predict(X)\n",
        "            return p[:, word_index, :]\n",
        "\n",
        "        return predict_func\n",
        "\n",
        "explainer_generator = ExplainerGenerator(model, token2idx, ner_tag2idx, max_len)\n",
        "word_index = 6\n",
        "predict_func = explainer_generator.get_predict_function(word_index=word_index)\n",
        "word, label, word_explanation = explainer_generator._explain_word(sentences[256], word_index, predict_func)\n",
        "print(f\"Word: {word}, Label: {label}, Explanation: {word_explanation}\")\n"
      ],
      "metadata": {
        "id": "VvBrh1ErJdZ1"
      },
      "id": "VvBrh1ErJdZ1",
      "execution_count": null,
      "outputs": []
    },
    {
      "cell_type": "code",
      "source": [
        "#EXPLANATION FOR EACH WORD IN SENTENCE \n",
        "\n",
        "class ExplainerGenerator:\n",
        "    def __init__(self, model, token2idx, ner_tag2idx, max_len):\n",
        "        self.model = model\n",
        "        self.token2idx = token2idx\n",
        "        self.ner_tag2idx = ner_tag2idx\n",
        "        self.idx2tag = {v: k for k, v in ner_tag2idx.items()}\n",
        "        self.max_len = max_len\n",
        "\n",
        "    def _preprocess(self, texts):\n",
        "        sentences = [sentence.split() for sentence in texts]\n",
        "        X = [\n",
        "            [self.token2idx.get(token, self.token2idx['<UNK>']) for token in sentence]\n",
        "            for sentence in sentences\n",
        "        ]\n",
        "        X = pad_sequences(maxlen=self.max_len, sequences=X, padding=\"post\", truncating='post')\n",
        "        return X\n",
        "\n",
        "    def _explain_word(self, sentence, word_index, predict_func):\n",
        "        words = sentence.split()\n",
        "        word = words[word_index]\n",
        "        explainer = LimeTextExplainer(class_names=list(self.ner_tag2idx.keys()))\n",
        "        exp = explainer.explain_instance(sentence, predict_func, num_features=10, labels=list(self.ner_tag2idx.values()), \n",
        "                                         top_labels=1, distance_metric='cosine')\n",
        "        label_idx = exp.top_labels[0]\n",
        "        label = self.idx2tag[label_idx]\n",
        "        return word, label, exp.as_list(label_idx)\n",
        "\n",
        "    def explain_sentence(self, sentence):\n",
        "        predict_functions = [self.get_predict_function(i) for i in range(len(sentence.split()))]\n",
        "        explanations = [self._explain_word(sentence, i, pf) for i, pf in enumerate(predict_functions)]\n",
        "        return explanations\n",
        "\n",
        "    def get_predict_function(self, word_index):\n",
        "        def predict_func(texts):\n",
        "            X = self._preprocess(texts)\n",
        "            p = self.model.predict(X)\n",
        "            return p[:, word_index, :]\n",
        "\n",
        "        return predict_func\n",
        "\n",
        "explainer_generator = ExplainerGenerator(model, token2idx, ner_tag2idx, max_len)\n",
        "sentence = sentences[256]\n",
        "explanations = explainer_generator.explain_sentence(sentence)\n",
        "for word, label, word_explanation in explanations:\n",
        "    print(f\"Word: {word}, Label: {label}, Explanation: {word_explanation}\")\n"
      ],
      "metadata": {
        "id": "-b036jWgKTdR"
      },
      "id": "-b036jWgKTdR",
      "execution_count": null,
      "outputs": []
    },
    {
      "cell_type": "code",
      "source": [
        "# TEST SET FOR SURROGATE MODEL\n",
        "#Create a reverse mapping for the token2idx and ner_tag2idx dictionaries\n",
        "idx2token = {i+1: token for i, token in enumerate(tokens_vocab)}\n",
        "idx2ner_tag = {i+1: ner_tag for i, ner_tag in enumerate(ner_tag_vocab)}\n",
        "\n",
        "# Add mapping for padding value to token2idx dictionary\n",
        "token2idx['<PAD>'] = 0\n",
        "\n",
        "# Convert the numerical values in X_testa and y_ner_testa back to their original token and tag values\n",
        "sentences_testb = []\n",
        "tags_testb = []\n",
        "for sentence, tag_sequence in zip(X_testb, y_ner_testb):\n",
        "    sent = []\n",
        "    tags = []\n",
        "    for idx, tag_idx in zip(sentence, tag_sequence):\n",
        "        if idx == 0:\n",
        "            continue\n",
        "        sent.append(idx2token[idx])\n",
        "        tags.append(idx2ner_tag[tag_idx])\n",
        "    sentences_testb.append(\" \".join(sent))\n",
        "    tags_testb.append(tags)\n",
        "\n",
        "# Print the sentences and their respective tags\n",
        "for i in range(len(sentences_testb)):\n",
        "    print(\"Sentence: \", sentences_testb[i])\n",
        "    print(\"True tags: \", tags_testb[i])\n"
      ],
      "metadata": {
        "id": "0ZvWTPFnmyIZ"
      },
      "id": "0ZvWTPFnmyIZ",
      "execution_count": null,
      "outputs": []
    },
    {
      "cell_type": "code",
      "source": [
        "#storing the results and som adjsutments\n",
        "import pandas as pd\n",
        "from lime.lime_text import LimeTextExplainer\n",
        "\n",
        "class ExplainerGenerator:\n",
        "    def __init__(self, model, token2idx, ner_tag2idx, max_len):\n",
        "        self.model = model\n",
        "        self.token2idx = token2idx\n",
        "        self.ner_tag2idx = ner_tag2idx\n",
        "        self.idx2tag = {v: k for k, v in ner_tag2idx.items()}\n",
        "        self.max_len = max_len\n",
        "\n",
        "    def _preprocess(self, texts):\n",
        "        sentences = [sentence.split() for sentence in texts]\n",
        "        X = [\n",
        "            [self.token2idx.get(token, self.token2idx['<UNK>']) for token in sentence]\n",
        "            for sentence in sentences\n",
        "        ]\n",
        "        X = pad_sequences(maxlen=self.max_len, sequences=X, padding=\"post\", truncating='post')\n",
        "        return X\n",
        "\n",
        "    def _explain_word(self, sentence, word_index, predict_func):\n",
        "        words = sentence.split()\n",
        "        word = words[word_index]\n",
        "        explainer = LimeTextExplainer(class_names=list(self.ner_tag2idx.keys()),kernel_width=1)\n",
        "        exp = explainer.explain_instance(sentence, predict_func, num_features=10, labels=list(self.ner_tag2idx.values()), \n",
        "                                         top_labels=1, distance_metric='cosine',num_samples=100)\n",
        "        label_idx = exp.top_labels[0]\n",
        "        label = self.idx2tag[label_idx]\n",
        "        return word, label, exp.as_list(label_idx)\n",
        "\n",
        "    def explain_sentence(self, sentence):\n",
        "        predict_functions = [self.get_predict_function(i) for i in range(len(sentence.split()))]\n",
        "        explanations = [self._explain_word(sentence, i, pf) for i, pf in enumerate(predict_functions)]\n",
        "        return explanations\n",
        "\n",
        "    def get_predict_function(self, word_index):\n",
        "        def predict_func(texts):\n",
        "            X = self._preprocess(texts)\n",
        "            p = self.model.predict(X)\n",
        "            return p[:, word_index, :]\n",
        "\n",
        "        return predict_func\n",
        "\n",
        "explainer_generator = ExplainerGenerator(model, token2idx, ner_tag2idx, max_len)\n",
        "results = []\n",
        "\n",
        "for sentence_index, sentence_text in enumerate(sentences_testb):\n",
        "    word_count = len(sentence_text.split())\n",
        "\n",
        "    if word_count < 2:\n",
        "        continue\n",
        "    \n",
        "    explanations = explainer_generator.explain_sentence(sentence_text)\n",
        "    print(\"Processing sentence \", sentence_index+1, \" out of \", len(sentences_testb))\n",
        "    \n",
        "    for word_index, (word, label, word_explanation) in enumerate(explanations):\n",
        "        pos_count = 0\n",
        "        neg_count = 0\n",
        "        weights = []\n",
        "        words = []\n",
        "        \n",
        "        for feature, weight in word_explanation:\n",
        "            words.append(feature)\n",
        "            weights.append(weight)\n",
        "            if weight >= 0:\n",
        "                pos_count += 1\n",
        "            else:\n",
        "                neg_count += 1\n",
        "                \n",
        "        row = {\"sentence_index\": sentence_index, \"word_index\": word_index, \"word\": word, \"word_count\": word_count, \n",
        "               \"positive_count\": pos_count, \"negative_count\": neg_count, \"sentiment_score\": sum(weights), \n",
        "               \"predicted_tag\": label, \"important_words\": words, \"weights\": weights}\n",
        "        \n",
        "        results.append(row)\n",
        "\n",
        "results_df = pd.DataFrame(results, columns=[\"sentence_index\", \"word_index\", \"word\", \"word_count\", \"positive_count\", \n",
        "                                             \"negative_count\", \"sentiment_score\", \"predicted_tag\", \"important_words\", \"weights\"])\n"
      ],
      "metadata": {
        "id": "yyQS8_ZxRFJ6"
      },
      "id": "yyQS8_ZxRFJ6",
      "execution_count": null,
      "outputs": []
    },
    {
      "cell_type": "code",
      "source": [
        "results_df=pd.read_csv('ner_testb.csv')"
      ],
      "metadata": {
        "id": "-tfA9UWtALC2"
      },
      "id": "-tfA9UWtALC2",
      "execution_count": null,
      "outputs": []
    },
    {
      "cell_type": "code",
      "source": [
        "results_df.to_csv('ner_testb.csv', index=False)"
      ],
      "metadata": {
        "id": "QWIl7HbGbhGy"
      },
      "id": "QWIl7HbGbhGy",
      "execution_count": null,
      "outputs": []
    },
    {
      "cell_type": "code",
      "source": [
        "from google.colab import files\n",
        "\n",
        "# Assuming you have a file named \"example.txt\" in your current working directory in Colab\n",
        "files.download('ner_testb.csv')"
      ],
      "metadata": {
        "id": "8ApOtHHnqCTO"
      },
      "id": "8ApOtHHnqCTO",
      "execution_count": null,
      "outputs": []
    },
    {
      "cell_type": "code",
      "source": [
        "#y_pred_bilstm = np.round(model.predict(y_pred_ner_testb)[:, -1]).reshape(-1)\n",
        "y_pred_bilstm = y_pred_bilstm.flatten"
      ],
      "metadata": {
        "id": "pZJp6aedFxcN"
      },
      "id": "pZJp6aedFxcN",
      "execution_count": null,
      "outputs": []
    },
    {
      "cell_type": "code",
      "source": [
        "f1"
      ],
      "metadata": {
        "id": "1PjmNtbQSkc2"
      },
      "id": "1PjmNtbQSkc2",
      "execution_count": null,
      "outputs": []
    },
    {
      "cell_type": "code",
      "source": [
        "import matplotlib.pyplot as plt\n",
        "from sklearn.metrics import f1_score\n",
        "#Encoder\n",
        "from sklearn.preprocessing import LabelEncoder\n",
        "\n",
        "# Function to plot F1 score as a function of number of samples\n",
        "def plot_f1_score(model, X_test, y_test):\n",
        "    f1_scores = []\n",
        "    num_samples = range(100, len(X_test), 100)\n",
        "    for n in num_samples:\n",
        "        y_pred = model.predict(X_test[:n]).argmax(axis=-1)\n",
        "        f1 = f1_score(y_test[:n].flatten(), y_pred.flatten(), average='macro')\n",
        "        f1_scores.append(f1)\n",
        "    plt.plot(num_samples, f1_scores, label='BiLSTM')\n",
        "\n",
        "# Create a dictionary to map the sentence indices to their corresponding Lime labels\n",
        "lime_labels_dict = {}\n",
        "for i, row in results_df.iterrows():\n",
        "    if row['word_count'] < 2:\n",
        "        continue\n",
        "    sentence_index = row['sentence_index']\n",
        "    if sentence_index not in lime_labels_dict:\n",
        "        lime_labels_dict[sentence_index] = []\n",
        "    lime_labels_dict[sentence_index].append(row['predicted_tag'])\n",
        "\n",
        "# Create lists of true and Lime labels for the included sentences\n",
        "true_labels = []\n",
        "lime_labels = []\n",
        "for i, sentence_tags in enumerate(tags_testb):\n",
        "    if i not in lime_labels_dict:\n",
        "        continue\n",
        "    for j, tag in enumerate(sentence_tags):\n",
        "        if j >= len(lime_labels_dict[i]):\n",
        "            break\n",
        "        lime_tag = lime_labels_dict[i][j]\n",
        "        if lime_tag in le.classes_ and tag in le.classes_:\n",
        "            lime_labels.append(le.transform([lime_tag])[0])\n",
        "            true_labels.append(le.transform([tag])[0])\n",
        "\n",
        "# Calculate the F1 score for Lime\n",
        "f1_lime = f1_score(true_labels, lime_labels, pos_label=1, average='weighted')\n",
        "\n",
        "# Plot the F1 score as a function of the number of samples for both models\n",
        "plot_f1_score(model, X_testb, y_ner_testb)\n",
        "num_samples_lime = range(100, len(sentences_testb), 100)\n",
        "f1_scores_lime = []\n",
        "for n in num_samples_lime:\n",
        "    f1 = f1_score(lime_labels[:n], true_labels[:n], average='weighted')\n",
        "    f1_scores_lime.append(f1)\n",
        "plt.plot(num_samples_lime, f1_scores_lime, label='Lime')\n",
        "plt.xlabel('Complexity')\n",
        "plt.ylabel('Fidelity')\n",
        "plt.title('F1 score for Lime and BiLSTM')\n",
        "plt.savefig('ner_testb.png')\n",
        "plt.legend('LIME', 'Bi-LSTM', loc='upper left')\n",
        "plt.show()\n"
      ],
      "metadata": {
        "id": "ilfOQiCfEAKp"
      },
      "id": "ilfOQiCfEAKp",
      "execution_count": null,
      "outputs": []
    },
    {
      "cell_type": "code",
      "source": [
        "#EXPLAIN A SERIES OF LOCAL INSTANCES TO CREATE GLOBAL VIEW -> NOT OPTIMIZED \n",
        "import pandas as pd\n",
        "from lime.lime_text import LimeTextExplainer\n",
        "\n",
        "num_sentences_to_explain = 3 # Set the number of sentences you want to explain\n",
        "results_df = pd.DataFrame(columns=[\"sentence_index\", \"word_index\", \"word\", \"word_count\", \"positive_count\", \"negative_count\", \"sentiment_score\", \"predicted_tag\"])\n",
        "\n",
        "def print_sentence_with_pos_and_ner(sentences, ner, index):\n",
        "    print(\"Sentence: \", sentences[index])\n",
        "    print(\"NER: \", ner[index])\n",
        "\n",
        "#def convert_true_tags(true_tags, ner_tag2idx):\n",
        "#    converted_tags = []\n",
        "#    for tag in true_tags:\n",
        "#        if tag in ner_tag2idx:\n",
        "#            converted_tags.append(tag)\n",
        "#        else:\n",
        "#            converted_tags.append(\"other\") \n",
        "#    return converted_tags\n",
        "\n",
        "for sentence_index, sentence_text in enumerate(sentences[:num_sentences_to_explain]):\n",
        "    word_count = len(sentence_text.split())\n",
        "\n",
        "    if word_count < 2:  # Skip sentences that cannot create an explanation\n",
        "        continue\n",
        "    \n",
        "    # Extract the true NER tags for the specified index\n",
        "    true_tags = ner[sentence_index]\n",
        "    #converted_true_tags = convert_true_tags(true_tags, ner_tag2idx)\n",
        "    \n",
        "    for word_index, word in enumerate(sentence_text.split()):\n",
        "        print(f\"Analyzing sentence {sentence_index + 1}/{num_sentences_to_explain}, word {word_index + 1}/{word_count}: {word}\")\n",
        "        explainer_generator = ExplainerGenerator(model, token2idx, ner_tag2idx, max_len)\n",
        "        predict_func = explainer_generator.get_predict_function(word_index=word_index)\n",
        "\n",
        "        explainer = LimeTextExplainer(kernel_width=1, class_names=ner_tag2idx, verbose=True, feature_selection='auto')\n",
        "\n",
        "        exp = explainer.explain_instance(sentence_text, predict_func, num_samples=100)\n",
        "\n",
        "        # Extract the important words and their weights from the explanation object\n",
        "        important_words = []\n",
        "        weights = []\n",
        "        for feature, weight in exp.as_list():\n",
        "            important_words.append(feature)\n",
        "            weights.append(weight)\n",
        "\n",
        "        positive_count = 0\n",
        "        negative_count = 0\n",
        "        sentiment_score = 0\n",
        "\n",
        "        for _, weight in exp.as_list():\n",
        "            if weight >= 0:\n",
        "                positive_count += 1\n",
        "                sentiment_score += weight\n",
        "            else:\n",
        "                negative_count += 1\n",
        "                sentiment_score += weight\n",
        "\n",
        "        # Get the NER tag prediction, local prediction, and right_prediction from the model\n",
        "        X = explainer_generator._preprocess([sentence_text])\n",
        "        ner_prob = explainer_generator.model.predict(X)\n",
        "        ner_pred_idx = np.argmax(ner_prob[:, word_index, :])\n",
        "        predicted_tag = explainer_generator.idx2tag[ner_pred_idx]\n",
        "        \n",
        "        local_pred = exp.local_pred[0]\n",
        "        #right_prediction = ner_prob[0, word_index, ner_tag2idx[converted_true_tags[word_index]]]\n",
        "        right_prediction = ner_prob[0, word_index, ner_tag2idx[true_tags[word_index]]]\n",
        "\n",
        "        # Add the important words, weights, local_pred, and right_prediction to the results dataframe\n",
        "        for i, w in enumerate(weights):\n",
        "            new_row = {\"sentence_index\": sentence_index, \"word_index\": word_index, \"word\": important_words[i],\n",
        "                       \"word_count\": word_count,\n",
        "                       \"positive_count\": positive_count, \"negative_count\": negative_count,\n",
        "                       \"sentiment_score\": sentiment_score, \"word_weight\": weights[i], \"predicted_tag\": predicted_tag, \"local_pred\": local_pred, \"right_prediction\": right_prediction}\n",
        "            results_df = results_df.append(new_row, ignore_index=True)"
      ],
      "metadata": {
        "id": "minL07-EWgIf"
      },
      "id": "minL07-EWgIf",
      "execution_count": null,
      "outputs": []
    },
    {
      "cell_type": "markdown",
      "source": [
        "GRID SEARCH FOR OPTIMAL KERNAL WIDTH AND NUM_SAMPLES \n",
        "\n",
        "\n",
        "\n",
        "> Optimal kernel width: 1.0\n",
        "Optimal number of samples: 100\n",
        "Best average accuracy: 0.9883040935672515\n",
        "\n"
      ],
      "metadata": {
        "id": "s6ShTdx_GwA6"
      },
      "id": "s6ShTdx_GwA6"
    },
    {
      "cell_type": "code",
      "source": [
        "import numpy as np\n",
        "import random\n",
        "from sklearn.metrics import accuracy_score\n",
        "\n",
        "true_labels = ner[index]\n",
        "\n",
        "def lime_grid_search(model, sentences, ner, ner_tag2idx, true_labels, kernel_widths, num_samples_list, accuracy_threshold, sample_size=30):\n",
        "    optimal_kernel_width = None\n",
        "    optimal_num_samples = None\n",
        "    best_avg_accuracy = -1\n",
        "\n",
        "    # Randomly sample 30 sentences\n",
        "    random.seed(42)  # Set seed for reproducibility\n",
        "    sample_indices = random.sample(range(len(sentences)), sample_size)\n",
        "    sampled_sentences = [sentences[i] for i in sample_indices]\n",
        "    sampled_ner = [ner[i] for i in sample_indices]\n",
        "\n",
        "    for kernel_width in kernel_widths:\n",
        "        for num_samples in num_samples_list:\n",
        "            print(f\"Testing kernel_width: {kernel_width}, num_samples: {num_samples}\")\n",
        "            accuracies = []\n",
        "\n",
        "            for sentence_index, sentence_text in enumerate(sampled_sentences):\n",
        "                if len(sentence_text.split()) < 2:\n",
        "                    continue\n",
        "\n",
        "                true_tags = sampled_ner[sentence_index]\n",
        "                #converted_true_tags = convert_true_tags(true_tags, ner_tag2idx)\n",
        "\n",
        "                for word_index, word in enumerate(sentence_text.split()):\n",
        "                    explainer_generator = ExplainerGenerator(model, token2idx, ner_tag2idx, max_len)\n",
        "                    predict_func = explainer_generator.get_predict_function(word_index=word_index)\n",
        "\n",
        "                    explainer = LimeTextExplainer(kernel_width=kernel_width, class_names=ner_tag2idx, verbose=True, feature_selection='auto')\n",
        "\n",
        "                    exp = explainer.explain_instance(sentence_text, predict_func, num_samples=num_samples)\n",
        "\n",
        "                    # Get the NER tag prediction\n",
        "                    X = explainer_generator._preprocess([sentence_text])\n",
        "                    ner_prob = explainer_generator.model.predict(X)\n",
        "                    ner_pred_idx = np.argmax(ner_prob[:, word_index, :])\n",
        "                    predicted_tag = explainer_generator.idx2tag[ner_pred_idx]\n",
        "\n",
        "                    # Compute accuracy\n",
        "                    accuracy = accuracy_score([true_tags[word_index]], [predicted_tag])\n",
        "                    accuracies.append(accuracy)\n",
        "\n",
        "            avg_accuracy = np.mean(accuracies)\n",
        "            print(f\"Average accuracy for kernel_width {kernel_width}, num_samples {num_samples}: {avg_accuracy}\")\n",
        "\n",
        "            if avg_accuracy > best_avg_accuracy:\n",
        "                best_avg_accuracy = avg_accuracy\n",
        "                optimal_kernel_width = kernel_width\n",
        "                optimal_num_samples = num_samples\n",
        "\n",
        "                # Stop the search if the average accuracy surpasses the threshold\n",
        "                if best_avg_accuracy >= accuracy_threshold:\n",
        "                    break\n",
        "\n",
        "        if best_avg_accuracy >= accuracy_threshold:\n",
        "            break\n",
        "\n",
        "    return optimal_kernel_width, optimal_num_samples, best_avg_accuracy\n",
        "\n",
        "# Define the range of kernel widths and number of samples you want to search\n",
        "kernel_widths = np.arange(1, 4, 0.5)\n",
        "num_samples_list = list(range(100, 3000, 100))\n",
        "accuracy_threshold = 0.85  # Define your desired threshold for average accuracy\n",
        "\n",
        "optimal_kernel_width, optimal_num_samples, best_avg_accuracy = lime_grid_search(model, sentences, ner, ner_tag2idx, true_labels, kernel_widths, num_samples_list, accuracy_threshold)\n",
        "\n",
        "print(f\"Optimal kernel width: {optimal_kernel_width}\")\n",
        "print(f\"Optimal number of samples: {optimal_num_samples}\")\n",
        "print(f\"Best average accuracy: {best_avg_accuracy}\")\n"
      ],
      "metadata": {
        "id": "Q9B55GyiGKtZ"
      },
      "id": "Q9B55GyiGKtZ",
      "execution_count": null,
      "outputs": []
    },
    {
      "cell_type": "code",
      "source": [
        "results_df"
      ],
      "metadata": {
        "id": "9YZPMaJ0Fzaf"
      },
      "id": "9YZPMaJ0Fzaf",
      "execution_count": null,
      "outputs": []
    },
    {
      "cell_type": "code",
      "source": [
        "from sklearn.metrics import roc_curve, auc\n",
        "\n",
        "index = 256\n",
        "\n",
        "# Extract the Lime labels and y_pred labels\n",
        "le = LabelEncoder()\n",
        "lime_labels = le.fit_transform(ner)\n",
        "y_pred_lime = model.predict(X_test)\n",
        "y_pred_sample = y_pred_lime[index]\n",
        "\n",
        "# Calculate the ROC curve and AUC for both models\n",
        "fpr_lime, tpr_lime, _ = roc_curve(lime_labels, y_pred_sample[:, index])\n",
        "roc_auc_lime = auc(fpr_lime, tpr_lime)\n",
        "y_scores = model.predict(X_test)\n",
        "fpr_lstm, tpr_lstm, _ = roc_curve(y_test, y_scores)\n",
        "roc_auc_lstm = auc(fpr_lstm, tpr_lstm)\n",
        "\n",
        "# Plot the ROC curve for both models\n",
        "plt.figure()\n",
        "lw = 2\n",
        "plt.plot(fpr_lime, tpr_lime, color='darkorange',\n",
        "         lw=lw, label='Lime ROC curve (AUC = %0.2f)' % roc_auc_lime)\n",
        "plt.plot(fpr_lstm, tpr_lstm, color='blue',\n",
        "         lw=lw, label='Bi-LSTM ROC curve (AUC = %0.2f)' % roc_auc_lstm)\n",
        "plt.plot([0, 1], [0, 1], color='gray', lw=lw, linestyle='--')\n",
        "plt.xlim([0.0, 1.0])\n",
        "plt.ylim([0.0, 1.05])\n",
        "plt.xlabel('False Positive Rate')\n",
        "plt.ylabel('True Positive Rate')\n",
        "plt.title('ROC curve')\n",
        "plt.legend(loc=\"lower right\")\n",
        "plt.savefig('ROC_curve_test.png')\n",
        "plt.show()\n"
      ],
      "metadata": {
        "id": "snIQYQendGZU"
      },
      "id": "snIQYQendGZU",
      "execution_count": null,
      "outputs": []
    },
    {
      "cell_type": "code",
      "source": [
        "grouped_df = results_df.groupby('predicted_tag')\n",
        "results_dict = {}\n",
        "\n",
        "#Calculate the weighted positive and negative percentages for each pos_label subset\n",
        "for label, group_df in grouped_df:\n",
        "    positive_percentage = group_df['positive_count'] / group_df['word_count']\n",
        "    negative_percentage = group_df['negative_count'] / group_df['word_count']\n",
        "    weighted_positive_percentage = (positive_percentage * group_df['word_count']).sum() / group_df['word_count'].sum()\n",
        "    weighted_negative_percentage = (negative_percentage * group_df['word_count']).sum() / group_df['word_count'].sum()\n",
        "    results_dict[label] = (weighted_positive_percentage, weighted_negative_percentage)\n",
        "\n",
        "#results\n",
        "for label, (weighted_positive_percentage, weighted_negative_percentage) in results_dict.items():\n",
        "    print(\"Weighted average percentage of words that were for the prediction of POS label {}: {:.2f}%\".format(label, weighted_positive_percentage * 100))\n",
        "    print(\"Weighted average percentage of words that were agianst the prediction of POS label: {:.2f}%\".format(weighted_negative_percentage * 100))\n",
        "    print()\n"
      ],
      "metadata": {
        "id": "C_bopfWVpFim"
      },
      "id": "C_bopfWVpFim",
      "execution_count": null,
      "outputs": []
    },
    {
      "cell_type": "code",
      "source": [
        "import numpy as np\n",
        "import matplotlib.pyplot as plt\n",
        "from sklearn.metrics import f1_score\n",
        "\n",
        "# dlzka\n",
        "if len(results_df[\"local_pred\"]) != len(results_df[\"right_prediction\"]):\n",
        "    raise ValueError(\"nezhodna dlzka\")\n",
        "\n",
        "# data convert na int aby nedavalo continuous is not supported\n",
        "predicted_tags = results_df[\"local_pred\"].astype(int)\n",
        "true_tags = results_df[\"right_prediction\"].astype(int)\n",
        "\n",
        "# F1 score -- fidelity\n",
        "fidelity_f1 = f1_score(true_tags, predicted_tags, average='weighted')\n",
        "\n",
        "# Calculate the complexity as the number of samples\n",
        "complexity = len(results_df)\n",
        "\n",
        "# Plot the local predictions and right predictions\n",
        "plt.figure(figsize=(10, 6))\n",
        "plt.plot(results_df[\"local_pred\"], label=\"Local Predictions\", marker='o', linestyle='-', linewidth=2)\n",
        "plt.plot(results_df[\"right_prediction\"], label=\"Right Predictions\", marker='x', linestyle='--', linewidth=2)\n",
        "\n",
        "plt.xlabel(\"Sample Index\")\n",
        "plt.ylabel(\"Prediction Value\")\n",
        "plt.title(f\"Fidelity (F1 Score): {fidelity_f1:.2f}, Complexity: {complexity}\")\n",
        "plt.legend()\n",
        "plt.show()\n"
      ],
      "metadata": {
        "id": "W7ZDL-cd7a8b"
      },
      "id": "W7ZDL-cd7a8b",
      "execution_count": null,
      "outputs": []
    },
    {
      "cell_type": "code",
      "source": [
        "import pandas as pd\n",
        "from lime.lime_text import LimeTextExplainer\n",
        "import numpy as np\n",
        "\n",
        "\n",
        "total_runs = 5\n",
        "\n",
        "# Create a dictionary to store accumulated results\n",
        "accumulated_results_dict = {}\n",
        "\n",
        "for run in range(total_runs):\n",
        "\n",
        "    for label, group_df in grouped_df:\n",
        "        positive_percentage = group_df['positive_count'] / group_df['word_count']\n",
        "        negative_percentage = group_df['negative_count'] / group_df['word_count']\n",
        "        weighted_positive_percentage = (positive_percentage * group_df['word_count']).sum() / group_df['word_count'].sum()\n",
        "        weighted_negative_percentage = (negative_percentage * group_df['word_count']).sum() / group_df['word_count'].sum()\n",
        "\n",
        "        # Update the accumulated_results_dict\n",
        "        if label in accumulated_results_dict:\n",
        "            accumulated_weighted_positive, accumulated_weighted_negative = accumulated_results_dict[label]\n",
        "            accumulated_weighted_positive += weighted_positive_percentage\n",
        "            accumulated_weighted_negative += weighted_negative_percentage\n",
        "            accumulated_results_dict[label] = (accumulated_weighted_positive, accumulated_weighted_negative)\n",
        "        else:\n",
        "            accumulated_results_dict[label] = (weighted_positive_percentage, weighted_negative_percentage)\n",
        "\n",
        "# Calculate and display the final weighted average percentages\n",
        "for label, (accumulated_weighted_positive, accumulated_weighted_negative) in accumulated_results_dict.items():\n",
        "    final_weighted_positive_percentage = accumulated_weighted_positive / total_runs\n",
        "    final_weighted_negative_percentage = accumulated_weighted_negative / total_runs\n",
        "    print(\"Final weighted average percentage of words that were for the prediction of POS label {}: {:.2f}%\".format(label, final_weighted_positive_percentage * 100))\n",
        "    print(\"Final weighted average percentage of words that were against the prediction of POS label {}: {:.2f}%\".format(label, final_weighted_negative_percentage * 100))\n",
        "    print()\n"
      ],
      "metadata": {
        "id": "tvsm0J0Jf56q"
      },
      "id": "tvsm0J0Jf56q",
      "execution_count": null,
      "outputs": []
    },
    {
      "cell_type": "code",
      "source": [],
      "metadata": {
        "id": "-FLo2RncGasF"
      },
      "id": "-FLo2RncGasF",
      "execution_count": null,
      "outputs": []
    },
    {
      "cell_type": "markdown",
      "source": [
        "## SAGE FEATURE IMPORTANCE \n",
        "Pearsonovo korelacia normalizovanych hodnot pre SAGE a LSTM "
      ],
      "metadata": {
        "id": "3CurebnXPhV5"
      },
      "id": "3CurebnXPhV5"
    },
    {
      "cell_type": "code",
      "execution_count": null,
      "metadata": {
        "id": "RLehlh1kAQ1I"
      },
      "outputs": [],
      "source": [
        "import sage"
      ],
      "id": "RLehlh1kAQ1I"
    },
    {
      "cell_type": "code",
      "execution_count": null,
      "metadata": {
        "id": "c-jYRArFPu9T"
      },
      "outputs": [],
      "source": [
        "imputer = sage.MarginalImputer(model, X_testa[:45])\n",
        "estimator = sage.PermutationEstimator(imputer, 'mse')"
      ],
      "id": "c-jYRArFPu9T"
    },
    {
      "cell_type": "code",
      "execution_count": null,
      "metadata": {
        "id": "5Kxf6wfeCKPw"
      },
      "outputs": [],
      "source": [
        "sage_values = estimator(X_testa,y_pos_testa_enc)"
      ],
      "id": "5Kxf6wfeCKPw"
    },
    {
      "cell_type": "code",
      "execution_count": null,
      "metadata": {
        "id": "TiL1-LXBCPBV"
      },
      "outputs": [],
      "source": [
        "sage_values.plot(list(token2idx.keys()))"
      ],
      "id": "TiL1-LXBCPBV"
    },
    {
      "cell_type": "code",
      "execution_count": null,
      "metadata": {
        "id": "OSKDF6NCDcDx"
      },
      "outputs": [],
      "source": [
        "vals = sage_values.values\n",
        "vals_abs = np.abs(vals)\n",
        "sage_values.feature_names = list(token2idx.keys())\n",
        "sage_feature_importance = pd.DataFrame(\n",
        "list(zip(sage_values.feature_names,vals_abs)), columns=['Feature', 'Importance'])\n",
        "sage_feature_importance.sort_values(\n",
        "by=['Importance'], ascending=False, inplace=True)"
      ],
      "id": "OSKDF6NCDcDx"
    },
    {
      "cell_type": "code",
      "execution_count": null,
      "metadata": {
        "id": "UE5VIzZdDUgz"
      },
      "outputs": [],
      "source": [
        "sage_feature_importance['Importance'].min()"
      ],
      "id": "UE5VIzZdDUgz"
    },
    {
      "cell_type": "code",
      "execution_count": null,
      "metadata": {
        "id": "MT9BTRMFF5tn"
      },
      "outputs": [],
      "source": [
        "sage_feature_importance['normalized_importance'] = sage_feature_importance['Importance'] / sage_feature_importance['Importance'].sum()"
      ],
      "id": "MT9BTRMFF5tn"
    },
    {
      "cell_type": "code",
      "execution_count": null,
      "metadata": {
        "id": "R0Us4TznF5wZ"
      },
      "outputs": [],
      "source": [
        "# Merge the two DataFrames\n",
        "merged_df = sage_feature_importance.merge(lstm_feature_importance, on='Feature', suffixes=('_sage', '_lstm'))"
      ],
      "id": "R0Us4TznF5wZ"
    },
    {
      "cell_type": "code",
      "execution_count": null,
      "metadata": {
        "id": "u1Kf41lBF50g"
      },
      "outputs": [],
      "source": [
        "from scipy.stats import pearsonr\n",
        "# Calculate the correlation between SHAP and LSTM importance scores\n",
        "correlation, _ = pearsonr(merged_df['normalized_importance_sage'], merged_df['normalized_importance_lstm'])\n",
        "print(f\"Correlation between Sage and LSTM importance scores: {correlation:.4f}\")"
      ],
      "id": "u1Kf41lBF50g"
    },
    {
      "cell_type": "code",
      "execution_count": null,
      "metadata": {
        "id": "_clDjUz5Gzcv"
      },
      "outputs": [],
      "source": [
        "# Create a bar plot to compare the normalized importance scores\n",
        "width = 0.35\n",
        "x = np.arange(len(merged_df['Feature']))\n",
        "fig, ax = plt.subplots()\n",
        "\n",
        "rects1 = ax.bar(x - width/2, merged_df['normalized_importance_sage'], width, label='Sage')\n",
        "rects2 = ax.bar(x + width/2, merged_df['normalized_importance_lstm'], width, label='LSTM')\n",
        "\n",
        "ax.set_ylabel('Normalized Importance')\n",
        "ax.set_title('Comparison of Normalized Sage and LSTM Feature Importance')\n",
        "ax.set_xticks(x)\n",
        "ax.set_xticklabels(merged_df['Feature'])\n",
        "ax.set_ylabel('Feature')\n",
        "ax.legend()\n",
        "\n",
        "fig.tight_layout()\n",
        "plt.show()"
      ],
      "id": "_clDjUz5Gzcv"
    },
    {
      "cell_type": "code",
      "source": [],
      "metadata": {
        "id": "gJtpUfQkOGwC"
      },
      "id": "gJtpUfQkOGwC",
      "execution_count": null,
      "outputs": []
    },
    {
      "cell_type": "markdown",
      "source": [
        "## SHAP FEATURE IMPORTANCE \n",
        "-Shap has MONTE CARLO SAMPLING, fixed seed for reproduction of code required -> Pearsonova korelacia feature importance je preto rozdielna pri kazdom spusteni "
      ],
      "metadata": {
        "id": "AL9YKKGGOHVd"
      },
      "id": "AL9YKKGGOHVd"
    },
    {
      "cell_type": "code",
      "execution_count": null,
      "metadata": {
        "id": "Pw5vv2dqSKCa"
      },
      "outputs": [],
      "source": [
        "import shap"
      ],
      "id": "Pw5vv2dqSKCa"
    },
    {
      "cell_type": "code",
      "execution_count": null,
      "metadata": {
        "id": "qkDJbj2aSie_"
      },
      "outputs": [],
      "source": [
        "# Create an explainer object\n",
        "explainer = shap.explainers.Permutation(model.predict, X_testa)"
      ],
      "id": "qkDJbj2aSie_"
    },
    {
      "cell_type": "code",
      "execution_count": null,
      "metadata": {
        "id": "nbv-fiYFSsiQ"
      },
      "outputs": [],
      "source": [
        "# Explain the first test instance\n",
        "shap_values = explainer(X_testa[:40])"
      ],
      "id": "nbv-fiYFSsiQ"
    },
    {
      "cell_type": "code",
      "execution_count": null,
      "metadata": {
        "id": "fHdcIf_cSuG3"
      },
      "outputs": [],
      "source": [
        "vals = shap_values.values\n",
        "vals_abs = np.abs(vals)\n",
        "val_mean = np.mean(vals_abs, axis=0)\n",
        "val_final = np.mean(val_mean, axis=1)\n",
        "shap_values.feature_names = list(token2idx.keys())\n",
        "shap_feature_importance = pd.DataFrame(\n",
        "list(zip(shap_values.feature_names, val_final)), columns=['Feature', 'Importance'])\n",
        "shap_feature_importance.sort_values(\n",
        "by=['Importance'], ascending=False, inplace=True)\n",
        "overall_shap_value = np.sum(np.abs(shap_values.values)) / shap_values.values.size"
      ],
      "id": "fHdcIf_cSuG3"
    },
    {
      "cell_type": "code",
      "execution_count": null,
      "metadata": {
        "id": "frgQncN_SuJ3"
      },
      "outputs": [],
      "source": [
        "print('Global shap value of this model is:', overall_shap_value)"
      ],
      "id": "frgQncN_SuJ3"
    },
    {
      "cell_type": "code",
      "execution_count": null,
      "metadata": {
        "id": "wOhHz3vqbD5G"
      },
      "outputs": [],
      "source": [
        "shap_feature_importance"
      ],
      "id": "wOhHz3vqbD5G"
    },
    {
      "cell_type": "code",
      "execution_count": null,
      "metadata": {
        "id": "2Fd6CytN2Te3"
      },
      "outputs": [],
      "source": [
        "shap_feature_importance['normalized_importance'] = shap_feature_importance['Importance'] / shap_feature_importance['Importance'].sum()"
      ],
      "id": "2Fd6CytN2Te3"
    },
    {
      "cell_type": "code",
      "execution_count": null,
      "metadata": {
        "id": "MR5LI95WgH-7"
      },
      "outputs": [],
      "source": [
        "# Merge the two DataFrames\n",
        "merged_df = shap_feature_importance.merge(lstm_feature_importance, on='Feature', suffixes=('_shap', '_lstm'))"
      ],
      "id": "MR5LI95WgH-7"
    },
    {
      "cell_type": "code",
      "execution_count": null,
      "metadata": {
        "id": "KC7e_1yx4YDj"
      },
      "outputs": [],
      "source": [
        "merged_df"
      ],
      "id": "KC7e_1yx4YDj"
    },
    {
      "cell_type": "code",
      "execution_count": null,
      "metadata": {
        "id": "o8_bV8gi4dhv"
      },
      "outputs": [],
      "source": [
        "from scipy.stats import pearsonr\n",
        "# Calculate the correlation between SHAP and LSTM importance scores\n",
        "correlation, _ = pearsonr(merged_df['normalized_importance_shap'], merged_df['normalized_importance_lstm'])\n",
        "print(f\"Correlation between SHAP and LSTM importance scores: {correlation:.4f}\")"
      ],
      "id": "o8_bV8gi4dhv"
    },
    {
      "cell_type": "code",
      "execution_count": null,
      "metadata": {
        "id": "Uakz9zUH4m16"
      },
      "outputs": [],
      "source": [
        "# Create a bar plot to compare the normalized importance scores\n",
        "width = 0.35\n",
        "x = np.arange(len(merged_df['Feature']))\n",
        "fig, ax = plt.subplots()\n",
        "\n",
        "rects1 = ax.bar(x - width/2, merged_df['normalized_importance_shap'], width, label='SHAP')\n",
        "rects2 = ax.bar(x + width/2, merged_df['normalized_importance_lstm'], width, label='LSTM')\n",
        "\n",
        "ax.set_ylabel('Normalized Importance')\n",
        "ax.set_title('Comparison of Normalized SHAP and LSTM Feature Importance')\n",
        "ax.set_xticks(x)\n",
        "ax.set_xticklabels(merged_df['Feature'])\n",
        "ax.set_ylabel('Feature')\n",
        "ax.legend()\n",
        "\n",
        "fig.tight_layout()\n",
        "plt.show()"
      ],
      "id": "Uakz9zUH4m16"
    },
    {
      "cell_type": "code",
      "execution_count": null,
      "metadata": {
        "id": "wgxgsmBVSuM3"
      },
      "outputs": [],
      "source": [
        "# Calculate the variance of SHAP values for a specific feature\n",
        "feature_index = 0  # replace with the index of the feature you're interested in\n",
        "shap_values_feature = shap_values[:, feature_index].values\n",
        "variance = np.var(shap_values_feature)\n",
        "print(f\"Variance of SHAP values for feature {feature_index}: {variance}\")"
      ],
      "id": "wgxgsmBVSuM3"
    },
    {
      "cell_type": "code",
      "execution_count": null,
      "metadata": {
        "id": "Aaq4iWBIUHPC"
      },
      "outputs": [],
      "source": [
        "# Calculate the variance of SHAP values for all features\n",
        "variances = np.var(shap_values.values, axis=0)\n",
        "for i, var in enumerate(variances):\n",
        "    print(f\"Variance of SHAP values for feature {i}: {var}\")"
      ],
      "id": "Aaq4iWBIUHPC"
    },
    {
      "cell_type": "code",
      "execution_count": null,
      "metadata": {
        "id": "fllOPjboAFtY"
      },
      "outputs": [],
      "source": [
        "import shap\n",
        "shap.initjs()"
      ],
      "id": "fllOPjboAFtY"
    },
    {
      "cell_type": "code",
      "execution_count": null,
      "metadata": {
        "id": "lCdIYjL_Fc-d"
      },
      "outputs": [],
      "source": [
        "shap_feature_importance.head(10)"
      ],
      "id": "lCdIYjL_Fc-d"
    },
    {
      "cell_type": "code",
      "execution_count": null,
      "metadata": {
        "id": "2bwsug0jGAmt"
      },
      "outputs": [],
      "source": [
        "shap_feature_importance.plot(x='Feature', y='Importance', kind='scatter')\t"
      ],
      "id": "2bwsug0jGAmt"
    },
    {
      "cell_type": "code",
      "execution_count": null,
      "metadata": {
        "id": "diZhK5XEJ35E"
      },
      "outputs": [],
      "source": [
        "top10 = shap_feature_importance.head(10)"
      ],
      "id": "diZhK5XEJ35E"
    },
    {
      "cell_type": "code",
      "execution_count": null,
      "metadata": {
        "id": "af6AfD3oLTed"
      },
      "outputs": [],
      "source": [
        "top10.plot(x='Feature', y='Importance', kind='bar', title='Feature importance according SHAP')"
      ],
      "id": "af6AfD3oLTed"
    },
    {
      "cell_type": "code",
      "source": [],
      "metadata": {
        "id": "UdXOX0X4N-EI"
      },
      "id": "UdXOX0X4N-EI",
      "execution_count": null,
      "outputs": []
    },
    {
      "cell_type": "markdown",
      "source": [
        "##MODEL SENSITIVITY VIA SAGE"
      ],
      "metadata": {
        "id": "iBdxtcBKN-p8"
      },
      "id": "iBdxtcBKN-p8"
    },
    {
      "cell_type": "code",
      "execution_count": null,
      "metadata": {
        "id": "vLfw8nZ5Hzpg"
      },
      "outputs": [],
      "source": [
        "import sage"
      ],
      "id": "vLfw8nZ5Hzpg"
    },
    {
      "cell_type": "code",
      "execution_count": null,
      "metadata": {
        "id": "5JjR_zkUgffU"
      },
      "outputs": [],
      "source": [
        "# Setup and calculate\n",
        "imputer = sage.MarginalImputer(model, X_testa[:40])\n",
        "estimator = sage.PermutationEstimator(imputer, 'mse')\n",
        "sensitivity = estimator(X_testa,y_pos_testa_enc)"
      ],
      "id": "5JjR_zkUgffU"
    },
    {
      "cell_type": "code",
      "execution_count": null,
      "metadata": {
        "id": "wS2eHvRdgE3L"
      },
      "outputs": [],
      "source": [
        "sensitivity.plot(list(token2idx.keys()), title='Model Sensitivity')"
      ],
      "id": "wS2eHvRdgE3L"
    },
    {
      "cell_type": "markdown",
      "source": [
        "##gradients"
      ],
      "metadata": {
        "id": "w4SZpUrXQstn"
      },
      "id": "w4SZpUrXQstn"
    },
    {
      "cell_type": "code",
      "execution_count": null,
      "metadata": {
        "id": "v18b3aA2myW9"
      },
      "outputs": [],
      "source": [
        "embed_layer = model.get_layer('embedding_3')\n",
        "\n",
        "# build new model with all layers after embedding layer\n",
        "new_model = tf.keras.Sequential()\n",
        "for layer in model.layers[1:]:\n",
        "    new_model.add(layer)"
      ],
      "id": "v18b3aA2myW9"
    },
    {
      "cell_type": "code",
      "execution_count": null,
      "metadata": {
        "id": "VbPPkWjZp6ns"
      },
      "outputs": [],
      "source": [
        "# Create a sample with shape (max_len,)\n",
        "sample_input = np.random.randint(len(token2idx), size=max_len)\n",
        "\n",
        "# Add an extra dimension to simulate a batch of size 1\n",
        "sample_input = np.expand_dims(sample_input, axis=0)\n",
        "sample_label = np.random.randint(len(token2idx), size=max_len)"
      ],
      "id": "VbPPkWjZp6ns"
    },
    {
      "cell_type": "code",
      "execution_count": null,
      "metadata": {
        "id": "Q6KTnGzCm4QI"
      },
      "outputs": [],
      "source": [
        "# get embeddings\n",
        "sample_embed = embed_layer(sample_input)\n",
        "# Create a Baseline vector with zero embeddings\n",
        "baseline_embed = tf.zeros(shape=tf.shape(sample_embed))"
      ],
      "id": "Q6KTnGzCm4QI"
    },
    {
      "cell_type": "code",
      "execution_count": null,
      "metadata": {
        "id": "F7VE0GSnpHU9"
      },
      "outputs": [],
      "source": [
        "n_steps = 50\n",
        "\n",
        "interpolated_texts = interpolate_texts(baseline_embed,\n",
        "                                       sample_embed,\n",
        "                                       n_steps)"
      ],
      "id": "F7VE0GSnpHU9"
    },
    {
      "cell_type": "code",
      "execution_count": null,
      "metadata": {
        "id": "Nzygx-IZthmp"
      },
      "outputs": [],
      "source": [
        "interpolated_texts.shape\n",
        "# (num_interpolations, seq_len, embed_dim)"
      ],
      "id": "Nzygx-IZthmp"
    },
    {
      "cell_type": "code",
      "execution_count": null,
      "metadata": {
        "id": "Q2pzSi5voGfc"
      },
      "outputs": [],
      "source": [
        "def compute_gradients(t, target_class_idx):\n",
        "\n",
        "    \"\"\" compute the gradient wrt to embedding layer output \"\"\"\n",
        "\n",
        "    with tf.GradientTape() as tape:\n",
        "        tape.watch(t)\n",
        "        probs = new_model(t)[:, target_class_idx]\n",
        "    grads = tape.gradient(probs, t)\n",
        "    return grads"
      ],
      "id": "Q2pzSi5voGfc"
    },
    {
      "cell_type": "code",
      "execution_count": null,
      "metadata": {
        "id": "xBfb8ISntugI"
      },
      "outputs": [],
      "source": [
        "target_label = sample_label\n",
        "# target_label = 2\n",
        "path_gradients = compute_gradients(interpolated_texts, target_label)"
      ],
      "id": "xBfb8ISntugI"
    },
    {
      "cell_type": "code",
      "execution_count": null,
      "metadata": {
        "id": "uD6dHxF4oIlJ"
      },
      "outputs": [],
      "source": [
        "def compute_gradients(t_list, target_class_idx):\n",
        "\n",
        "    \"\"\" compute the gradient wrt to embedding layer output \"\"\"\n",
        "\n",
        "    with tf.GradientTape() as tape:\n",
        "        tape.watch(t_list)\n",
        "        probs = new_model(t_list)[:, target_class_idx]\n",
        "    grads = tape.gradient(probs, t_list)\n",
        "    return grads\n",
        "\n",
        "path_gradients = compute_gradients(interpolated_texts,\n",
        "                                   list(pos_tag2idx.values()))"
      ],
      "id": "uD6dHxF4oIlJ"
    },
    {
      "cell_type": "markdown",
      "source": [
        "## VISUALIZATION TSNE"
      ],
      "metadata": {
        "id": "HDuQFCjXN5em"
      },
      "id": "HDuQFCjXN5em"
    },
    {
      "cell_type": "code",
      "execution_count": null,
      "metadata": {
        "id": "BBTmod-MYXFk"
      },
      "outputs": [],
      "source": [
        "def create_truncated_model(model):\n",
        "    model = Sequential()\n",
        "    model.add(Embedding(input_dim=len(token2idx) + 1,output_dim=128, input_length=max_len, dtype='float32'))\n",
        "    model.add(Bidirectional(LSTM(64)))\n",
        "    for i, layer in enumerate(model.layers):\n",
        "        layer.set_weights(model.layers[i].get_weights())\n",
        "    model.compile(optimizer='adam',\n",
        "              loss='categorical_crossentropy',\n",
        "              metrics=['accuracy'])\n",
        "    return model\n",
        "\n",
        "truncated_model = create_truncated_model(model)\n",
        "hidden_features = truncated_model.predict(X_testa)"
      ],
      "id": "BBTmod-MYXFk"
    },
    {
      "cell_type": "code",
      "execution_count": null,
      "metadata": {
        "id": "3b5EkU15XkWg"
      },
      "outputs": [],
      "source": [
        "for layer in model.layers:\n",
        "    print(layer.name, layer.trainable)\n",
        "    print('Layer Configuration:')\n",
        "    print(layer.get_config(), end='\\n{}\\n'.format('----'*10))\n"
      ],
      "id": "3b5EkU15XkWg"
    },
    {
      "cell_type": "code",
      "execution_count": null,
      "metadata": {
        "id": "CeMhpp3tYHWw"
      },
      "outputs": [],
      "source": [
        "from sklearn.decomposition import PCA\n",
        "from sklearn.manifold import TSNE\n",
        "\n",
        "pca = PCA(n_components=20)\n",
        "pca_result = pca.fit_transform(hidden_features)\n",
        "print('Variance PCA: {}'.format(np.sum(pca.explained_variance_ratio_)))\n",
        "##Variance PCA: 0.993621154832802\n",
        "\n",
        "#Run T-SNE on the PCA features.\n",
        "tsne = TSNE(n_components=3, verbose = 1)\n",
        "tsne_results = tsne.fit_transform(pca_result[:5000])"
      ],
      "id": "CeMhpp3tYHWw"
    },
    {
      "cell_type": "code",
      "execution_count": null,
      "metadata": {
        "id": "ulSRJO9NYHaP"
      },
      "outputs": [],
      "source": [
        "from keras.utils import np_utils\n",
        "import matplotlib.pyplot as plt\n",
        "%matplotlib inline\n",
        "\n",
        "y_test_cat = np_utils.to_categorical(y_pred_pos_testa[:5000], num_classes = 9,)\n",
        "color_map = np.argmax(y_test_cat, axis=1)\n",
        "plt.figure(figsize=(10,10))\n",
        "for cl in range(10):\n",
        "    indices = np.where(color_map==cl)\n",
        "    indices = indices[0]\n",
        "    plt.scatter(tsne_results[indices,0], tsne_results[indices, 1], label=cl)\n",
        "plt.legend()\n",
        "plt.show()"
      ],
      "id": "ulSRJO9NYHaP"
    },
    {
      "cell_type": "code",
      "execution_count": null,
      "metadata": {
        "id": "oAs2xiaRSESn"
      },
      "outputs": [],
      "source": [],
      "id": "oAs2xiaRSESn"
    }
  ],
  "metadata": {
    "accelerator": "GPU",
    "colab": {
      "machine_shape": "hm",
      "provenance": []
    },
    "gpuClass": "premium",
    "kernelspec": {
      "display_name": "Python 3 (ipykernel)",
      "language": "python",
      "name": "python3"
    },
    "language_info": {
      "codemirror_mode": {
        "name": "ipython",
        "version": 3
      },
      "file_extension": ".py",
      "mimetype": "text/x-python",
      "name": "python",
      "nbconvert_exporter": "python",
      "pygments_lexer": "ipython3",
      "version": "3.9.12"
    }
  },
  "nbformat": 4,
  "nbformat_minor": 5
}