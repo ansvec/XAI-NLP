{
  "cells": [
    {
      "cell_type": "code",
      "execution_count": 45,
      "metadata": {
        "colab": {
          "base_uri": "https://localhost:8080/"
        },
        "id": "IWeVafLbEcau",
        "outputId": "9ea42aca-9536-4f9d-bd61-985656f93ae1"
      },
      "outputs": [
        {
          "output_type": "stream",
          "name": "stdout",
          "text": [
            "Your runtime has 89.6 gigabytes of available RAM\n",
            "\n",
            "You are using a high-RAM runtime!\n"
          ]
        }
      ],
      "source": [
        "from psutil import virtual_memory\n",
        "ram_gb = virtual_memory().total / 1e9\n",
        "print('Your runtime has {:.1f} gigabytes of available RAM\\n'.format(ram_gb))\n",
        "\n",
        "if ram_gb < 20:\n",
        "  print('Not using a high-RAM runtime')\n",
        "else:\n",
        "  print('You are using a high-RAM runtime!')"
      ]
    },
    {
      "cell_type": "code",
      "execution_count": 46,
      "metadata": {
        "colab": {
          "base_uri": "https://localhost:8080/",
          "height": 35
        },
        "id": "43OPBe-RYfOk",
        "outputId": "13ee7510-5d58-4597-eb57-6b2c21f042f5"
      },
      "outputs": [
        {
          "output_type": "execute_result",
          "data": {
            "text/plain": [
              "'/device:GPU:0'"
            ],
            "application/vnd.google.colaboratory.intrinsic+json": {
              "type": "string"
            }
          },
          "metadata": {},
          "execution_count": 46
        }
      ],
      "source": [
        "import tensorflow as tf\n",
        "tf.test.gpu_device_name()"
      ]
    },
    {
      "cell_type": "code",
      "execution_count": 47,
      "metadata": {
        "colab": {
          "base_uri": "https://localhost:8080/"
        },
        "id": "9PBvU2uXYnjg",
        "outputId": "404b4492-c098-4e91-e6d5-698febd5b10c"
      },
      "outputs": [
        {
          "output_type": "stream",
          "name": "stdout",
          "text": [
            "Looking in indexes: https://pypi.org/simple, https://us-python.pkg.dev/colab-wheels/public/simple/\n",
            "Requirement already satisfied: gputil in /usr/local/lib/python3.10/dist-packages (1.4.0)\n",
            "Looking in indexes: https://pypi.org/simple, https://us-python.pkg.dev/colab-wheels/public/simple/\n",
            "Requirement already satisfied: psutil in /usr/local/lib/python3.10/dist-packages (5.9.5)\n",
            "Looking in indexes: https://pypi.org/simple, https://us-python.pkg.dev/colab-wheels/public/simple/\n",
            "Requirement already satisfied: humanize in /usr/local/lib/python3.10/dist-packages (4.6.0)\n",
            "Gen RAM Free: 80.8 GB  | Proc size: 6.5 GB\n",
            "GPU RAM Free: 30226MB | Used: 10287MB | Util  25% | Total 40960MB\n"
          ]
        }
      ],
      "source": [
        "# memory footprint support libraries/code\n",
        "!ln -sf /opt/bin/nvidia-smi /usr/bin/nvidia-smi\n",
        "!pip install gputil\n",
        "!pip install psutil\n",
        "!pip install humanize\n",
        "import psutil\n",
        "import humanize\n",
        "import os\n",
        "import GPUtil as GPU\n",
        "GPUs = GPU.getGPUs()\n",
        "# XXX: only one GPU on Colab and isn’t guaranteed\n",
        "gpu = GPUs[0]\n",
        "def printm():\n",
        " process = psutil.Process(os.getpid())\n",
        " print(\"Gen RAM Free: \" + humanize.naturalsize( psutil.virtual_memory().available ), \" | Proc size: \" + humanize.naturalsize( process.memory_info().rss))\n",
        " print(\"GPU RAM Free: {0:.0f}MB | Used: {1:.0f}MB | Util {2:3.0f}% | Total {3:.0f}MB\".format(gpu.memoryFree, gpu.memoryUsed, gpu.memoryUtil*100, gpu.memoryTotal))\n",
        "printm() "
      ]
    },
    {
      "cell_type": "markdown",
      "metadata": {
        "id": "t10ZAjrdDBMN"
      },
      "source": [
        "\n",
        "## Install Huggingface Transformers libraries\n",
        "---\n",
        "\n"
      ]
    },
    {
      "cell_type": "code",
      "execution_count": 48,
      "metadata": {
        "colab": {
          "base_uri": "https://localhost:8080/"
        },
        "id": "ysnLQB-tChSI",
        "outputId": "599ea2a6-1128-4779-e02e-9e2a8cc3c26f"
      },
      "outputs": [
        {
          "output_type": "stream",
          "name": "stdout",
          "text": [
            "Looking in indexes: https://pypi.org/simple, https://us-python.pkg.dev/colab-wheels/public/simple/\n",
            "Requirement already satisfied: transformers in /usr/local/lib/python3.10/dist-packages (4.28.1)\n",
            "Requirement already satisfied: packaging>=20.0 in /usr/local/lib/python3.10/dist-packages (from transformers) (23.1)\n",
            "Requirement already satisfied: huggingface-hub<1.0,>=0.11.0 in /usr/local/lib/python3.10/dist-packages (from transformers) (0.14.1)\n",
            "Requirement already satisfied: filelock in /usr/local/lib/python3.10/dist-packages (from transformers) (3.12.0)\n",
            "Requirement already satisfied: pyyaml>=5.1 in /usr/local/lib/python3.10/dist-packages (from transformers) (6.0)\n",
            "Requirement already satisfied: tqdm>=4.27 in /usr/local/lib/python3.10/dist-packages (from transformers) (4.65.0)\n",
            "Requirement already satisfied: tokenizers!=0.11.3,<0.14,>=0.11.1 in /usr/local/lib/python3.10/dist-packages (from transformers) (0.13.3)\n",
            "Requirement already satisfied: requests in /usr/local/lib/python3.10/dist-packages (from transformers) (2.27.1)\n",
            "Requirement already satisfied: regex!=2019.12.17 in /usr/local/lib/python3.10/dist-packages (from transformers) (2022.10.31)\n",
            "Requirement already satisfied: numpy>=1.17 in /usr/local/lib/python3.10/dist-packages (from transformers) (1.22.4)\n",
            "Requirement already satisfied: fsspec in /usr/local/lib/python3.10/dist-packages (from huggingface-hub<1.0,>=0.11.0->transformers) (2023.4.0)\n",
            "Requirement already satisfied: typing-extensions>=3.7.4.3 in /usr/local/lib/python3.10/dist-packages (from huggingface-hub<1.0,>=0.11.0->transformers) (4.5.0)\n",
            "Requirement already satisfied: certifi>=2017.4.17 in /usr/local/lib/python3.10/dist-packages (from requests->transformers) (2022.12.7)\n",
            "Requirement already satisfied: charset-normalizer~=2.0.0 in /usr/local/lib/python3.10/dist-packages (from requests->transformers) (2.0.12)\n",
            "Requirement already satisfied: idna<4,>=2.5 in /usr/local/lib/python3.10/dist-packages (from requests->transformers) (3.4)\n",
            "Requirement already satisfied: urllib3<1.27,>=1.21.1 in /usr/local/lib/python3.10/dist-packages (from requests->transformers) (1.26.15)\n",
            "Looking in indexes: https://pypi.org/simple, https://us-python.pkg.dev/colab-wheels/public/simple/\n",
            "Requirement already satisfied: datasets in /usr/local/lib/python3.10/dist-packages (2.12.0)\n",
            "Requirement already satisfied: pyyaml>=5.1 in /usr/local/lib/python3.10/dist-packages (from datasets) (6.0)\n",
            "Requirement already satisfied: tqdm>=4.62.1 in /usr/local/lib/python3.10/dist-packages (from datasets) (4.65.0)\n",
            "Requirement already satisfied: dill<0.3.7,>=0.3.0 in /usr/local/lib/python3.10/dist-packages (from datasets) (0.3.6)\n",
            "Requirement already satisfied: responses<0.19 in /usr/local/lib/python3.10/dist-packages (from datasets) (0.18.0)\n",
            "Requirement already satisfied: huggingface-hub<1.0.0,>=0.11.0 in /usr/local/lib/python3.10/dist-packages (from datasets) (0.14.1)\n",
            "Requirement already satisfied: packaging in /usr/local/lib/python3.10/dist-packages (from datasets) (23.1)\n",
            "Requirement already satisfied: numpy>=1.17 in /usr/local/lib/python3.10/dist-packages (from datasets) (1.22.4)\n",
            "Requirement already satisfied: fsspec[http]>=2021.11.1 in /usr/local/lib/python3.10/dist-packages (from datasets) (2023.4.0)\n",
            "Requirement already satisfied: aiohttp in /usr/local/lib/python3.10/dist-packages (from datasets) (3.8.4)\n",
            "Requirement already satisfied: xxhash in /usr/local/lib/python3.10/dist-packages (from datasets) (3.2.0)\n",
            "Requirement already satisfied: pyarrow>=8.0.0 in /usr/local/lib/python3.10/dist-packages (from datasets) (9.0.0)\n",
            "Requirement already satisfied: requests>=2.19.0 in /usr/local/lib/python3.10/dist-packages (from datasets) (2.27.1)\n",
            "Requirement already satisfied: multiprocess in /usr/local/lib/python3.10/dist-packages (from datasets) (0.70.14)\n",
            "Requirement already satisfied: pandas in /usr/local/lib/python3.10/dist-packages (from datasets) (1.5.3)\n",
            "Requirement already satisfied: frozenlist>=1.1.1 in /usr/local/lib/python3.10/dist-packages (from aiohttp->datasets) (1.3.3)\n",
            "Requirement already satisfied: async-timeout<5.0,>=4.0.0a3 in /usr/local/lib/python3.10/dist-packages (from aiohttp->datasets) (4.0.2)\n",
            "Requirement already satisfied: attrs>=17.3.0 in /usr/local/lib/python3.10/dist-packages (from aiohttp->datasets) (23.1.0)\n",
            "Requirement already satisfied: charset-normalizer<4.0,>=2.0 in /usr/local/lib/python3.10/dist-packages (from aiohttp->datasets) (2.0.12)\n",
            "Requirement already satisfied: yarl<2.0,>=1.0 in /usr/local/lib/python3.10/dist-packages (from aiohttp->datasets) (1.9.2)\n",
            "Requirement already satisfied: aiosignal>=1.1.2 in /usr/local/lib/python3.10/dist-packages (from aiohttp->datasets) (1.3.1)\n",
            "Requirement already satisfied: multidict<7.0,>=4.5 in /usr/local/lib/python3.10/dist-packages (from aiohttp->datasets) (6.0.4)\n",
            "Requirement already satisfied: filelock in /usr/local/lib/python3.10/dist-packages (from huggingface-hub<1.0.0,>=0.11.0->datasets) (3.12.0)\n",
            "Requirement already satisfied: typing-extensions>=3.7.4.3 in /usr/local/lib/python3.10/dist-packages (from huggingface-hub<1.0.0,>=0.11.0->datasets) (4.5.0)\n",
            "Requirement already satisfied: idna<4,>=2.5 in /usr/local/lib/python3.10/dist-packages (from requests>=2.19.0->datasets) (3.4)\n",
            "Requirement already satisfied: certifi>=2017.4.17 in /usr/local/lib/python3.10/dist-packages (from requests>=2.19.0->datasets) (2022.12.7)\n",
            "Requirement already satisfied: urllib3<1.27,>=1.21.1 in /usr/local/lib/python3.10/dist-packages (from requests>=2.19.0->datasets) (1.26.15)\n",
            "Requirement already satisfied: pytz>=2020.1 in /usr/local/lib/python3.10/dist-packages (from pandas->datasets) (2022.7.1)\n",
            "Requirement already satisfied: python-dateutil>=2.8.1 in /usr/local/lib/python3.10/dist-packages (from pandas->datasets) (2.8.2)\n",
            "Requirement already satisfied: six>=1.5 in /usr/local/lib/python3.10/dist-packages (from python-dateutil>=2.8.1->pandas->datasets) (1.16.0)\n",
            "Looking in indexes: https://pypi.org/simple, https://us-python.pkg.dev/colab-wheels/public/simple/\n",
            "Requirement already satisfied: torch in /usr/local/lib/python3.10/dist-packages (2.0.0+cu118)\n",
            "Requirement already satisfied: typing-extensions in /usr/local/lib/python3.10/dist-packages (from torch) (4.5.0)\n",
            "Requirement already satisfied: jinja2 in /usr/local/lib/python3.10/dist-packages (from torch) (3.1.2)\n",
            "Requirement already satisfied: filelock in /usr/local/lib/python3.10/dist-packages (from torch) (3.12.0)\n",
            "Requirement already satisfied: sympy in /usr/local/lib/python3.10/dist-packages (from torch) (1.11.1)\n",
            "Requirement already satisfied: triton==2.0.0 in /usr/local/lib/python3.10/dist-packages (from torch) (2.0.0)\n",
            "Requirement already satisfied: networkx in /usr/local/lib/python3.10/dist-packages (from torch) (3.1)\n",
            "Requirement already satisfied: lit in /usr/local/lib/python3.10/dist-packages (from triton==2.0.0->torch) (16.0.2)\n",
            "Requirement already satisfied: cmake in /usr/local/lib/python3.10/dist-packages (from triton==2.0.0->torch) (3.25.2)\n",
            "Requirement already satisfied: MarkupSafe>=2.0 in /usr/local/lib/python3.10/dist-packages (from jinja2->torch) (2.1.2)\n",
            "Requirement already satisfied: mpmath>=0.19 in /usr/local/lib/python3.10/dist-packages (from sympy->torch) (1.3.0)\n"
          ]
        }
      ],
      "source": [
        "!pip install transformers\n",
        "!pip install datasets\n",
        "!pip install torch"
      ]
    },
    {
      "cell_type": "code",
      "execution_count": 49,
      "metadata": {
        "id": "iMMhmn95CpRZ"
      },
      "outputs": [],
      "source": [
        "import tensorflow as tf\n",
        "import torch\n",
        "from transformers import AutoTokenizer, AutoModelForSequenceClassification, TrainingArguments, Trainer\n",
        "from datasets import load_dataset\n",
        "from tensorflow.keras.utils import plot_model\n",
        "from sklearn.metrics import precision_recall_fscore_support, accuracy_score\n",
        "import numpy as np\n",
        "import matplotlib.pyplot as plt\n",
        "from torch.utils.data import DataLoader\n",
        "from tqdm import tqdm\n",
        "from sklearn.metrics import confusion_matrix\n",
        "import seaborn as sns\n",
        "from sklearn.metrics import roc_curve, auc\n",
        "from sklearn.metrics import classification_report\n",
        "from sklearn.manifold import TSNE"
      ]
    },
    {
      "cell_type": "markdown",
      "metadata": {
        "id": "PHxkf7bDDSqX"
      },
      "source": [
        "##Load Dataset"
      ]
    },
    {
      "cell_type": "code",
      "execution_count": 50,
      "metadata": {
        "colab": {
          "base_uri": "https://localhost:8080/",
          "height": 86,
          "referenced_widgets": [
            "82b993b7229d4b328d07b0dbd899ca21",
            "b1f425a8998b48538337da66c7bf33cf",
            "a839c62dafd14cb28256241a3cf3bdbb",
            "c661324988514e1db1cb9ed90b7faf1f",
            "7d0e897abd2f4df499c4d6dce56f6979",
            "fb785ff09d5b435fb9535f1436678c8c",
            "c0b796a11c1f4a198e431ab7cde93868",
            "2eae4234e06a47319ed1408ed8f7aba4",
            "b5cde288b8d249e5a92b8ea0dd37a8e0",
            "c383b0aebf2f436eac275ae53a1338bb",
            "92fce40b2a314d9ca0e7334d5741f290"
          ]
        },
        "id": "MVRE5fobCrw-",
        "outputId": "6911f795-ed94-4c10-a95c-6415e298c56a"
      },
      "outputs": [
        {
          "output_type": "stream",
          "name": "stderr",
          "text": [
            "WARNING:datasets.builder:Found cached dataset imdb (/root/.cache/huggingface/datasets/imdb/plain_text/1.0.0/d613c88cf8fa3bab83b4ded3713f1f74830d1100e171db75bbddb80b3345c9c0)\n"
          ]
        },
        {
          "output_type": "display_data",
          "data": {
            "text/plain": [
              "  0%|          | 0/3 [00:00<?, ?it/s]"
            ],
            "application/vnd.jupyter.widget-view+json": {
              "version_major": 2,
              "version_minor": 0,
              "model_id": "82b993b7229d4b328d07b0dbd899ca21"
            }
          },
          "metadata": {}
        }
      ],
      "source": [
        "dataset = load_dataset('imdb')\n",
        "train_dataset = dataset['train']\n",
        "test_dataset = dataset['test']\n"
      ]
    },
    {
      "cell_type": "markdown",
      "metadata": {
        "id": "9waP87GaDXn0"
      },
      "source": [
        "##Transformer model and tokenizer"
      ]
    },
    {
      "cell_type": "code",
      "execution_count": 51,
      "metadata": {
        "colab": {
          "base_uri": "https://localhost:8080/"
        },
        "id": "FUZZ3w8sCwPA",
        "outputId": "d5945463-35e7-49ef-a69b-b39b2f30dbd1"
      },
      "outputs": [
        {
          "output_type": "stream",
          "name": "stderr",
          "text": [
            "Some weights of the model checkpoint at distilbert-base-uncased were not used when initializing DistilBertForSequenceClassification: ['vocab_projector.weight', 'vocab_projector.bias', 'vocab_layer_norm.bias', 'vocab_layer_norm.weight', 'vocab_transform.bias', 'vocab_transform.weight']\n",
            "- This IS expected if you are initializing DistilBertForSequenceClassification from the checkpoint of a model trained on another task or with another architecture (e.g. initializing a BertForSequenceClassification model from a BertForPreTraining model).\n",
            "- This IS NOT expected if you are initializing DistilBertForSequenceClassification from the checkpoint of a model that you expect to be exactly identical (initializing a BertForSequenceClassification model from a BertForSequenceClassification model).\n",
            "Some weights of DistilBertForSequenceClassification were not initialized from the model checkpoint at distilbert-base-uncased and are newly initialized: ['classifier.weight', 'classifier.bias', 'pre_classifier.bias', 'pre_classifier.weight']\n",
            "You should probably TRAIN this model on a down-stream task to be able to use it for predictions and inference.\n"
          ]
        }
      ],
      "source": [
        "model_name = 'distilbert-base-uncased'\n",
        "tokenizer = AutoTokenizer.from_pretrained(model_name)\n",
        "DistilBERT = AutoModelForSequenceClassification.from_pretrained(model_name, num_labels=2)"
      ]
    },
    {
      "cell_type": "code",
      "execution_count": 52,
      "metadata": {
        "colab": {
          "base_uri": "https://localhost:8080/",
          "height": 54,
          "referenced_widgets": [
            "4637e8655fc84c39bcff27782421c425",
            "23faf9e26e804673863adb9cdd0ad70f",
            "21132da1132545dc9d54af493cf36ee5",
            "6bea4b5a1fba4195a873a72ae38a15c3",
            "d60d0a29619b47b8bc062b8e648a5060",
            "9f27f7a9e46648198d5f2bad2d380d5d",
            "b75345873c09450296539e95f65cbec1",
            "aaf5cb596156401ea4f4d13c8a82c82b",
            "7ac2affb4a47417a934731e45b6c4665",
            "4ad55f7681a544fca20c357a482df79a",
            "9f1777a854c94aa5baa9ec7260fc4799"
          ]
        },
        "id": "9o5ERd9kMTsD",
        "outputId": "cb95bec0-8025-4e2f-f4dc-69e3459ffc5a"
      },
      "outputs": [
        {
          "output_type": "stream",
          "name": "stderr",
          "text": [
            "WARNING:datasets.arrow_dataset:Loading cached processed dataset at /root/.cache/huggingface/datasets/imdb/plain_text/1.0.0/d613c88cf8fa3bab83b4ded3713f1f74830d1100e171db75bbddb80b3345c9c0/cache-22f4c722a1c1e7c2.arrow\n"
          ]
        },
        {
          "output_type": "display_data",
          "data": {
            "text/plain": [
              "Map:   0%|          | 0/25000 [00:00<?, ? examples/s]"
            ],
            "application/vnd.jupyter.widget-view+json": {
              "version_major": 2,
              "version_minor": 0,
              "model_id": "4637e8655fc84c39bcff27782421c425"
            }
          },
          "metadata": {}
        }
      ],
      "source": [
        "def tokenize(batch):\n",
        "    return tokenizer(batch['text'], padding=True, truncation=True)\n",
        "\n",
        "train_dataset = train_dataset.map(tokenize, batched=True, batch_size=len(train_dataset))\n",
        "test_dataset = test_dataset.map(tokenize, batched=True, batch_size=len(test_dataset))\n",
        "train_dataset.set_format('torch', columns=['input_ids', 'attention_mask', 'label'])\n",
        "test_dataset.set_format('torch', columns=['input_ids', 'attention_mask', 'label'])\n",
        "\n",
        "def predict_probs(texts):\n",
        "    inputs = tokenizer(texts, return_tensors=\"pt\", padding=True, truncation=True)\n",
        "    inputs = {name: tensor.to(device) for name, tensor in inputs.items()}\n",
        "    outputs = model(**inputs)\n",
        "    tensor_logits = outputs[0]\n",
        "    probas = F.softmax(tensor_logits).detach().cpu().numpy()\n",
        "    return probas"
      ]
    },
    {
      "cell_type": "markdown",
      "metadata": {
        "id": "HcfgyYzHDilY"
      },
      "source": [
        "#Training arguments"
      ]
    },
    {
      "cell_type": "code",
      "execution_count": 53,
      "metadata": {
        "id": "LnX7JNgfZK9A"
      },
      "outputs": [],
      "source": [
        "training_args = TrainingArguments(\n",
        "    output_dir='./results',\n",
        "    num_train_epochs=3,\n",
        "    per_device_train_batch_size=16,\n",
        "    per_device_eval_batch_size=64,\n",
        "    warmup_steps=400,\n",
        "    weight_decay=0.01,\n",
        "    logging_dir='./logs',\n",
        "    logging_steps=10,\n",
        "    evaluation_strategy=\"epoch\",\n",
        "    )\n"
      ]
    },
    {
      "cell_type": "code",
      "execution_count": 54,
      "metadata": {
        "id": "z0Yy7_QCC5JB"
      },
      "outputs": [],
      "source": [
        "def compute_metrics(pred):\n",
        "    labels = pred.label_ids\n",
        "    preds = pred.predictions.argmax(-1)\n",
        "    precision, recall, f1, _ = precision_recall_fscore_support(labels, preds, average='binary')\n",
        "    acc = accuracy_score(labels, preds)\n",
        "    return {\n",
        "        'accuracy': acc,\n",
        "        'precision': precision,\n",
        "        'recall': recall,\n",
        "        'f1': f1,\n",
        "    }\n"
      ]
    },
    {
      "cell_type": "code",
      "execution_count": 55,
      "metadata": {
        "id": "8fQWr2GXUufZ"
      },
      "outputs": [],
      "source": [
        "import time \n",
        "start_time = time.time()"
      ]
    },
    {
      "cell_type": "code",
      "execution_count": 56,
      "metadata": {
        "colab": {
          "base_uri": "https://localhost:8080/",
          "height": 294
        },
        "id": "WLpU5ScoC7al",
        "outputId": "30fd067f-7d47-4a6d-da67-b09fd2ea1622"
      },
      "outputs": [
        {
          "metadata": {
            "tags": null
          },
          "name": "stderr",
          "output_type": "stream",
          "text": [
            "/usr/local/lib/python3.10/dist-packages/transformers/optimization.py:391: FutureWarning: This implementation of AdamW is deprecated and will be removed in a future version. Use the PyTorch implementation torch.optim.AdamW instead, or set `no_deprecation_warning=True` to disable this warning\n",
            "  warnings.warn(\n",
            "You're using a DistilBertTokenizerFast tokenizer. Please note that with a fast tokenizer, using the `__call__` method is faster than using a method to encode the text followed by a call to the `pad` method to get a padded encoding.\n"
          ]
        },
        {
          "data": {
            "text/html": [
              "\n",
              "    <div>\n",
              "      \n",
              "      <progress value='4689' max='4689' style='width:300px; height:20px; vertical-align: middle;'></progress>\n",
              "      [4689/4689 19:44, Epoch 3/3]\n",
              "    </div>\n",
              "    <table border=\"1\" class=\"dataframe\">\n",
              "  <thead>\n",
              " <tr style=\"text-align: left;\">\n",
              "      <th>Epoch</th>\n",
              "      <th>Training Loss</th>\n",
              "      <th>Validation Loss</th>\n",
              "      <th>Accuracy</th>\n",
              "      <th>Precision</th>\n",
              "      <th>Recall</th>\n",
              "      <th>F1</th>\n",
              "    </tr>\n",
              "  </thead>\n",
              "  <tbody>\n",
              "    <tr>\n",
              "      <td>1</td>\n",
              "      <td>0.255500</td>\n",
              "      <td>0.226685</td>\n",
              "      <td>0.912880</td>\n",
              "      <td>0.952719</td>\n",
              "      <td>0.868880</td>\n",
              "      <td>0.908870</td>\n",
              "    </tr>\n",
              "    <tr>\n",
              "      <td>2</td>\n",
              "      <td>0.221700</td>\n",
              "      <td>0.262161</td>\n",
              "      <td>0.925760</td>\n",
              "      <td>0.948131</td>\n",
              "      <td>0.900800</td>\n",
              "      <td>0.923860</td>\n",
              "    </tr>\n",
              "    <tr>\n",
              "      <td>3</td>\n",
              "      <td>0.016500</td>\n",
              "      <td>0.309660</td>\n",
              "      <td>0.932600</td>\n",
              "      <td>0.928046</td>\n",
              "      <td>0.937920</td>\n",
              "      <td>0.932957</td>\n",
              "    </tr>\n",
              "  </tbody>\n",
              "</table><p>"
            ],
            "text/plain": [
              "<IPython.core.display.HTML object>"
            ]
          },
          "metadata": {},
          "output_type": "display_data"
        },
        {
          "data": {
            "text/plain": [
              "TrainOutput(global_step=4689, training_loss=0.17282406368055916, metrics={'train_runtime': 1184.503, 'train_samples_per_second': 63.318, 'train_steps_per_second': 3.959, 'total_flos': 9935054899200000.0, 'train_loss': 0.17282406368055916, 'epoch': 3.0})"
            ]
          },
          "execution_count": 56,
          "metadata": {},
          "output_type": "execute_result"
        }
      ],
      "source": [
        "trainer = Trainer(\n",
        "    model=DistilBERT,\n",
        "    args=training_args,\n",
        "    train_dataset=train_dataset,\n",
        "    eval_dataset=test_dataset,\n",
        "    tokenizer=tokenizer,\n",
        "    compute_metrics=compute_metrics,\n",
        ")\n",
        "\n",
        "trainer.train()\n"
      ]
    },
    {
      "cell_type": "code",
      "execution_count": 57,
      "metadata": {
        "colab": {
          "base_uri": "https://localhost:8080/"
        },
        "id": "NTA1rSjUUxej",
        "outputId": "0ba3947f-6a3b-49b5-ac59-a04fbebe63ef"
      },
      "outputs": [
        {
          "metadata": {
            "tags": null
          },
          "name": "stdout",
          "output_type": "stream",
          "text": [
            "DistilBERT training time: 1184.6036975383759\n"
          ]
        }
      ],
      "source": [
        "#get training time\n",
        "end_time = time.time()\n",
        "distilbert_training_time = end_time - start_time\n",
        "print(\"DistilBERT training time:\", distilbert_training_time)"
      ]
    },
    {
      "cell_type": "code",
      "execution_count": 58,
      "metadata": {
        "id": "LNuM_M5vUNR3"
      },
      "outputs": [],
      "source": [
        "D_BERT = torch.save(DistilBERT.state_dict(), \"my_distilbert.pt\")"
      ]
    },
    {
      "cell_type": "code",
      "execution_count": 59,
      "metadata": {
        "colab": {
          "base_uri": "https://localhost:8080/"
        },
        "id": "ofzwG5yWUgDS",
        "outputId": "ace91b19-5501-4963-8d7d-0a6b4fd6e728"
      },
      "outputs": [
        {
          "metadata": {
            "tags": null
          },
          "name": "stdout",
          "output_type": "stream",
          "text": [
            "Number of trainable parameters in DistilBERT model: 66955010\n"
          ]
        }
      ],
      "source": [
        "#get number of trained parameters\n",
        "num_parameters = sum(p.numel() for p in DistilBERT.parameters() if p.requires_grad)\n",
        "print(\"Number of trainable parameters in DistilBERT model:\", num_parameters)"
      ]
    },
    {
      "cell_type": "markdown",
      "metadata": {
        "id": "VlzLg4EFJUj1"
      },
      "source": [
        "##Evaluate model"
      ]
    },
    {
      "cell_type": "code",
      "execution_count": 60,
      "metadata": {
        "colab": {
          "base_uri": "https://localhost:8080/",
          "height": 126
        },
        "id": "bns7h-mNC9f4",
        "outputId": "365fabe3-ed19-469b-a342-fac60d0207f7"
      },
      "outputs": [
        {
          "data": {
            "text/html": [
              "\n",
              "    <div>\n",
              "      \n",
              "      <progress value='36' max='391' style='width:300px; height:20px; vertical-align: middle;'></progress>\n",
              "      [ 36/391 00:07 < 01:21, 4.38 it/s]\n",
              "    </div>\n",
              "    "
            ],
            "text/plain": [
              "<IPython.core.display.HTML object>"
            ]
          },
          "metadata": {},
          "output_type": "display_data"
        },
        {
          "output_type": "display_data",
          "data": {
            "text/plain": [
              "<IPython.core.display.HTML object>"
            ],
            "text/html": [
              "\n",
              "    <div>\n",
              "      \n",
              "      <progress value='391' max='391' style='width:300px; height:20px; vertical-align: middle;'></progress>\n",
              "      [391/391 01:28]\n",
              "    </div>\n",
              "    "
            ]
          },
          "metadata": {}
        },
        {
          "output_type": "stream",
          "name": "stdout",
          "text": [
            "Accuracy: 0.93\n",
            "Precision: 0.93\n",
            "Recall: 0.94\n",
            "F1-score: 0.93\n"
          ]
        }
      ],
      "source": [
        "eval_result = trainer.evaluate()\n",
        "print(f\"Accuracy: {eval_result['eval_accuracy']:.2f}\")\n",
        "print(f\"Precision: {eval_result['eval_precision']:.2f}\")\n",
        "print(f\"Recall: {eval_result['eval_recall']:.2f}\")\n",
        "print(f\"F1-score: {eval_result['eval_f1']:.2f}\")\n"
      ]
    },
    {
      "cell_type": "code",
      "execution_count": 143,
      "metadata": {
        "colab": {
          "base_uri": "https://localhost:8080/"
        },
        "id": "FYroSMK1bQix",
        "outputId": "531de51e-46be-445d-a65c-17d858d1a3fb"
      },
      "outputs": [
        {
          "output_type": "stream",
          "name": "stderr",
          "text": [
            "Evaluating: 100%|██████████| 1563/1563 [01:32<00:00, 16.98it/s]\n"
          ]
        }
      ],
      "source": [
        "test_dataloader = DataLoader(test_dataset, batch_size=16)  \n",
        "device = DistilBERT.device\n",
        "\n",
        "true_labels = []\n",
        "predicted_probabilities = []\n",
        "\n",
        "DistilBERT.eval()\n",
        "with torch.no_grad():\n",
        "    for batch in tqdm(test_dataloader, desc=\"Evaluating\"):\n",
        "        labels = batch.pop(\"label\")\n",
        "        batch = {k: v.to(device) for k, v in batch.items()}\n",
        "        outputs = DistilBERT(**batch)\n",
        "        logits = outputs.logits\n",
        "        probabilities = torch.softmax(logits, dim=-1)\n",
        "        predicted_probabilities.extend(probabilities.cpu().numpy())\n",
        "        true_labels.extend(labels.cpu().numpy())\n",
        "\n",
        "predicted_probabilities = np.array(predicted_probabilities)\n",
        "true_labels = np.array(true_labels)\n"
      ]
    },
    {
      "cell_type": "code",
      "execution_count": 144,
      "metadata": {
        "id": "rbtA7IqegpWv"
      },
      "outputs": [],
      "source": [
        "predicted_labels = np.argmax(predicted_probabilities, axis=1)\n"
      ]
    },
    {
      "cell_type": "code",
      "execution_count": 145,
      "metadata": {
        "colab": {
          "base_uri": "https://localhost:8080/",
          "height": 565
        },
        "id": "mxEZFPiBAbno",
        "outputId": "61473fc6-0982-4233-b14f-7b6b06575998"
      },
      "outputs": [
        {
          "output_type": "display_data",
          "data": {
            "text/plain": [
              "<Figure size 800x600 with 2 Axes>"
            ],
            "image/png": "[encoded data removed]"
          },
          "metadata": {}
        }
      ],
      "source": [
        "# Create a confusion matrix\n",
        "cm = confusion_matrix(true_labels, predicted_labels)\n",
        "#print(\"Confusion Matrix:\\n\", cm)\n",
        "plt.figure(figsize=(8, 6))\n",
        "sns.heatmap(cm, annot=True, fmt='g', cmap='Blues')\n",
        "plt.xlabel('Predicted labels')\n",
        "plt.ylabel('True labels')\n",
        "plt.title('DistilBERT - Kontingenčná tabuľka')\n",
        "plt.savefig(\"SA_transformer_CM.png\")\n",
        "plt.show()"
      ]
    },
    {
      "cell_type": "code",
      "execution_count": 146,
      "metadata": {
        "colab": {
          "base_uri": "https://localhost:8080/",
          "height": 472
        },
        "id": "pL4vVQfkd3mU",
        "outputId": "c71bddac-b3b3-43d6-85eb-95a9f04729af"
      },
      "outputs": [
        {
          "output_type": "display_data",
          "data": {
            "text/plain": [
              "<Figure size 640x480 with 1 Axes>"
            ],
            "image/png": "[encoded data removed]"
          },
          "metadata": {}
        }
      ],
      "source": [
        "fpr, tpr, _ = roc_curve(true_labels, predicted_probabilities[:, 1])\n",
        "roc_auc = auc(fpr, tpr)\n",
        "\n",
        "plt.figure()\n",
        "plt.plot(fpr, tpr, color='darkorange', lw=2, label='ROC curve (area = %0.2f)' % roc_auc)\n",
        "plt.plot([0, 1], [0, 1], color='navy', lw=2, linestyle='--')\n",
        "plt.xlim([0.0, 1.0])\n",
        "plt.ylim([0.0, 1.05])\n",
        "plt.xlabel('False Positive Rate')\n",
        "plt.ylabel('True Positive Rate')\n",
        "plt.title('Transformer ROC/AUC krivka ')\n",
        "plt.legend(loc=\"lower right\")\n",
        "plt.savefig('roc_transformer.png')\n",
        "plt.show()\n",
        "\n"
      ]
    },
    {
      "cell_type": "markdown",
      "metadata": {
        "id": "aomDgiMwAOA4"
      },
      "source": [
        "LSTM comparison"
      ]
    },
    {
      "cell_type": "code",
      "execution_count": 65,
      "metadata": {
        "id": "AaviCA9jZ1iZ",
        "colab": {
          "base_uri": "https://localhost:8080/",
          "height": 345
        },
        "outputId": "db337619-eab7-4daa-bb09-e9fbb6d207b5"
      },
      "outputs": [
        {
          "output_type": "error",
          "ename": "OSError",
          "evalue": "ignored",
          "traceback": [
            "\u001b[0;31m---------------------------------------------------------------------------\u001b[0m",
            "\u001b[0;31mOSError\u001b[0m                                   Traceback (most recent call last)",
            "\u001b[0;32m<ipython-input-65-247b539ff537>\u001b[0m in \u001b[0;36m<cell line: 2>\u001b[0;34m()\u001b[0m\n\u001b[1;32m      1\u001b[0m \u001b[0;32mfrom\u001b[0m \u001b[0mkeras\u001b[0m\u001b[0;34m.\u001b[0m\u001b[0mmodels\u001b[0m \u001b[0;32mimport\u001b[0m \u001b[0mload_model\u001b[0m\u001b[0;34m\u001b[0m\u001b[0;34m\u001b[0m\u001b[0m\n\u001b[0;32m----> 2\u001b[0;31m \u001b[0mlstm_model\u001b[0m \u001b[0;34m=\u001b[0m \u001b[0mload_model\u001b[0m\u001b[0;34m(\u001b[0m\u001b[0;34m'lstm.hdf5'\u001b[0m\u001b[0;34m)\u001b[0m\u001b[0;34m\u001b[0m\u001b[0;34m\u001b[0m\u001b[0m\n\u001b[0m",
            "\u001b[0;32m/usr/local/lib/python3.10/dist-packages/keras/saving/saving_api.py\u001b[0m in \u001b[0;36mload_model\u001b[0;34m(filepath, custom_objects, compile, safe_mode, **kwargs)\u001b[0m\n\u001b[1;32m    210\u001b[0m \u001b[0;34m\u001b[0m\u001b[0m\n\u001b[1;32m    211\u001b[0m     \u001b[0;31m# Legacy case.\u001b[0m\u001b[0;34m\u001b[0m\u001b[0;34m\u001b[0m\u001b[0m\n\u001b[0;32m--> 212\u001b[0;31m     return legacy_sm_saving_lib.load_model(\n\u001b[0m\u001b[1;32m    213\u001b[0m         \u001b[0mfilepath\u001b[0m\u001b[0;34m,\u001b[0m \u001b[0mcustom_objects\u001b[0m\u001b[0;34m=\u001b[0m\u001b[0mcustom_objects\u001b[0m\u001b[0;34m,\u001b[0m \u001b[0mcompile\u001b[0m\u001b[0;34m=\u001b[0m\u001b[0mcompile\u001b[0m\u001b[0;34m,\u001b[0m \u001b[0;34m**\u001b[0m\u001b[0mkwargs\u001b[0m\u001b[0;34m\u001b[0m\u001b[0;34m\u001b[0m\u001b[0m\n\u001b[1;32m    214\u001b[0m     )\n",
            "\u001b[0;32m/usr/local/lib/python3.10/dist-packages/keras/utils/traceback_utils.py\u001b[0m in \u001b[0;36merror_handler\u001b[0;34m(*args, **kwargs)\u001b[0m\n\u001b[1;32m     68\u001b[0m             \u001b[0;31m# To get the full stack trace, call:\u001b[0m\u001b[0;34m\u001b[0m\u001b[0;34m\u001b[0m\u001b[0m\n\u001b[1;32m     69\u001b[0m             \u001b[0;31m# `tf.debugging.disable_traceback_filtering()`\u001b[0m\u001b[0;34m\u001b[0m\u001b[0;34m\u001b[0m\u001b[0m\n\u001b[0;32m---> 70\u001b[0;31m             \u001b[0;32mraise\u001b[0m \u001b[0me\u001b[0m\u001b[0;34m.\u001b[0m\u001b[0mwith_traceback\u001b[0m\u001b[0;34m(\u001b[0m\u001b[0mfiltered_tb\u001b[0m\u001b[0;34m)\u001b[0m \u001b[0;32mfrom\u001b[0m \u001b[0;32mNone\u001b[0m\u001b[0;34m\u001b[0m\u001b[0;34m\u001b[0m\u001b[0m\n\u001b[0m\u001b[1;32m     71\u001b[0m         \u001b[0;32mfinally\u001b[0m\u001b[0;34m:\u001b[0m\u001b[0;34m\u001b[0m\u001b[0;34m\u001b[0m\u001b[0m\n\u001b[1;32m     72\u001b[0m             \u001b[0;32mdel\u001b[0m \u001b[0mfiltered_tb\u001b[0m\u001b[0;34m\u001b[0m\u001b[0;34m\u001b[0m\u001b[0m\n",
            "\u001b[0;32m/usr/local/lib/python3.10/dist-packages/keras/saving/legacy/save.py\u001b[0m in \u001b[0;36mload_model\u001b[0;34m(filepath, custom_objects, compile, options)\u001b[0m\n\u001b[1;32m    228\u001b[0m                     \u001b[0;32mif\u001b[0m \u001b[0misinstance\u001b[0m\u001b[0;34m(\u001b[0m\u001b[0mfilepath_str\u001b[0m\u001b[0;34m,\u001b[0m \u001b[0mstr\u001b[0m\u001b[0;34m)\u001b[0m\u001b[0;34m:\u001b[0m\u001b[0;34m\u001b[0m\u001b[0;34m\u001b[0m\u001b[0m\n\u001b[1;32m    229\u001b[0m                         \u001b[0;32mif\u001b[0m \u001b[0;32mnot\u001b[0m \u001b[0mtf\u001b[0m\u001b[0;34m.\u001b[0m\u001b[0mio\u001b[0m\u001b[0;34m.\u001b[0m\u001b[0mgfile\u001b[0m\u001b[0;34m.\u001b[0m\u001b[0mexists\u001b[0m\u001b[0;34m(\u001b[0m\u001b[0mfilepath_str\u001b[0m\u001b[0;34m)\u001b[0m\u001b[0;34m:\u001b[0m\u001b[0;34m\u001b[0m\u001b[0;34m\u001b[0m\u001b[0m\n\u001b[0;32m--> 230\u001b[0;31m                             raise IOError(\n\u001b[0m\u001b[1;32m    231\u001b[0m                                 \u001b[0;34mf\"No file or directory found at {filepath_str}\"\u001b[0m\u001b[0;34m\u001b[0m\u001b[0;34m\u001b[0m\u001b[0m\n\u001b[1;32m    232\u001b[0m                             )\n",
            "\u001b[0;31mOSError\u001b[0m: No file or directory found at lstm.hdf5"
          ]
        }
      ],
      "source": [
        "from keras.models import load_model\n",
        "lstm_model = load_model('lstm.hdf5')"
      ]
    },
    {
      "cell_type": "code",
      "execution_count": null,
      "metadata": {
        "id": "5tu8-0AKZ4SI"
      },
      "outputs": [],
      "source": [
        "X_test = np.load('X_test.npy')\n",
        "y_test = np.load('y_test.npy')\n",
        "predictions_lstm = (lstm_model.predict(X_test) > 0.5).astype('int32')"
      ]
    },
    {
      "cell_type": "code",
      "execution_count": null,
      "metadata": {
        "id": "LfilZVhv_bvx"
      },
      "outputs": [],
      "source": [
        "#make predictions for lstm\n",
        "y_pred_lstm = lstm_model.predict(X_test)"
      ]
    },
    {
      "cell_type": "code",
      "execution_count": null,
      "metadata": {
        "id": "Dn7qur6zAfG6"
      },
      "outputs": [],
      "source": [
        "import matplotlib.pyplot as plt\n",
        "from sklearn.metrics import roc_curve, roc_auc_score\n",
        "\n",
        "# Compute the FPR, TPR, and AUC for the Transformer model\n",
        "fpr, tpr, _ = roc_curve(true_labels, predicted_probabilities[:, 1])\n",
        "roc_auc = auc(fpr, tpr)\n",
        "#ransformer_fpr, transformer_tpr, _ = roc_curve(true_labels, predicted_probabilities[:, 1])\n",
        "#transformer_auc = roc_auc_score(transformer_fpr, transformer_tpr)\n",
        "\n",
        "# Compute the FPR, TPR, and AUC for the other model\n",
        "lstm_fpr, lstm_tpr, _ = roc_curve(y_test, y_pred_lstm)\n",
        "lstm_auc = roc_auc_score(y_test, y_pred_lstm)\n",
        "\n",
        "# Plot the ROC curves on the same axis\n",
        "plt.figure()\n",
        "plt.plot(fpr, tpr, color='darkorange', lw=2, label='Transformer ROC curve (area = %0.2f)' % roc_auc)\n",
        "plt.plot(lstm_fpr, lstm_tpr, color='green', lw=2, label='Bi-LSTM  ROC curve (area = %0.2f)' % lstm_auc)\n",
        "plt.plot([0, 1], [0, 1], color='navy', lw=2, linestyle='--')\n",
        "plt.xlim([0.0, 1.0])\n",
        "plt.ylim([0.0, 1.05])\n",
        "plt.xlabel('False Positive Rate')\n",
        "plt.ylabel('True Positive Rate')\n",
        "plt.title('ROC Curve Comparison')\n",
        "plt.legend(loc=\"lower right\")\n",
        "plt.savefig('roc_comparison.png')\n",
        "plt.show()\n"
      ]
    },
    {
      "cell_type": "markdown",
      "metadata": {
        "id": "8O5BOn-IIaW7"
      },
      "source": [
        "## XAI METHODS"
      ]
    },
    {
      "cell_type": "markdown",
      "metadata": {
        "id": "UlxZjMNuJ20U"
      },
      "source": [
        "##LIME"
      ]
    },
    {
      "cell_type": "code",
      "execution_count": 66,
      "metadata": {
        "id": "ivqysyRiW4gv",
        "colab": {
          "base_uri": "https://localhost:8080/"
        },
        "outputId": "6bc97dfc-79ae-48d1-dd49-508a167a18d8"
      },
      "outputs": [
        {
          "output_type": "stream",
          "name": "stdout",
          "text": [
            "Looking in indexes: https://pypi.org/simple, https://us-python.pkg.dev/colab-wheels/public/simple/\n",
            "Requirement already satisfied: lime in /usr/local/lib/python3.10/dist-packages (0.2.0.1)\n",
            "Requirement already satisfied: matplotlib in /usr/local/lib/python3.10/dist-packages (from lime) (3.7.1)\n",
            "Requirement already satisfied: scikit-learn>=0.18 in /usr/local/lib/python3.10/dist-packages (from lime) (1.2.2)\n",
            "Requirement already satisfied: tqdm in /usr/local/lib/python3.10/dist-packages (from lime) (4.65.0)\n",
            "Requirement already satisfied: scipy in /usr/local/lib/python3.10/dist-packages (from lime) (1.10.1)\n",
            "Requirement already satisfied: numpy in /usr/local/lib/python3.10/dist-packages (from lime) (1.22.4)\n",
            "Requirement already satisfied: scikit-image>=0.12 in /usr/local/lib/python3.10/dist-packages (from lime) (0.19.3)\n",
            "Requirement already satisfied: imageio>=2.4.1 in /usr/local/lib/python3.10/dist-packages (from scikit-image>=0.12->lime) (2.25.1)\n",
            "Requirement already satisfied: packaging>=20.0 in /usr/local/lib/python3.10/dist-packages (from scikit-image>=0.12->lime) (23.1)\n",
            "Requirement already satisfied: networkx>=2.2 in /usr/local/lib/python3.10/dist-packages (from scikit-image>=0.12->lime) (3.1)\n",
            "Requirement already satisfied: pillow!=7.1.0,!=7.1.1,!=8.3.0,>=6.1.0 in /usr/local/lib/python3.10/dist-packages (from scikit-image>=0.12->lime) (8.4.0)\n",
            "Requirement already satisfied: PyWavelets>=1.1.1 in /usr/local/lib/python3.10/dist-packages (from scikit-image>=0.12->lime) (1.4.1)\n",
            "Requirement already satisfied: tifffile>=2019.7.26 in /usr/local/lib/python3.10/dist-packages (from scikit-image>=0.12->lime) (2023.4.12)\n",
            "Requirement already satisfied: threadpoolctl>=2.0.0 in /usr/local/lib/python3.10/dist-packages (from scikit-learn>=0.18->lime) (3.1.0)\n",
            "Requirement already satisfied: joblib>=1.1.1 in /usr/local/lib/python3.10/dist-packages (from scikit-learn>=0.18->lime) (1.2.0)\n",
            "Requirement already satisfied: python-dateutil>=2.7 in /usr/local/lib/python3.10/dist-packages (from matplotlib->lime) (2.8.2)\n",
            "Requirement already satisfied: cycler>=0.10 in /usr/local/lib/python3.10/dist-packages (from matplotlib->lime) (0.11.0)\n",
            "Requirement already satisfied: pyparsing>=2.3.1 in /usr/local/lib/python3.10/dist-packages (from matplotlib->lime) (3.0.9)\n",
            "Requirement already satisfied: kiwisolver>=1.0.1 in /usr/local/lib/python3.10/dist-packages (from matplotlib->lime) (1.4.4)\n",
            "Requirement already satisfied: contourpy>=1.0.1 in /usr/local/lib/python3.10/dist-packages (from matplotlib->lime) (1.0.7)\n",
            "Requirement already satisfied: fonttools>=4.22.0 in /usr/local/lib/python3.10/dist-packages (from matplotlib->lime) (4.39.3)\n",
            "Requirement already satisfied: six>=1.5 in /usr/local/lib/python3.10/dist-packages (from python-dateutil>=2.7->matplotlib->lime) (1.16.0)\n"
          ]
        }
      ],
      "source": [
        "!pip install lime"
      ]
    },
    {
      "cell_type": "code",
      "execution_count": 67,
      "metadata": {
        "id": "-KxQ3_CvKgAT"
      },
      "outputs": [],
      "source": [
        "import os\n",
        "os.environ['PYTORCH_CUDA_ALLOC_CONF'] = 'max_split_size_mb:32'"
      ]
    },
    {
      "cell_type": "code",
      "execution_count": 68,
      "metadata": {
        "id": "qR427HwBZYsu",
        "colab": {
          "base_uri": "https://localhost:8080/"
        },
        "outputId": "3d32e6dd-1b73-414c-f319-c3c195ae299a"
      },
      "outputs": [
        {
          "output_type": "stream",
          "name": "stdout",
          "text": [
            "Looking in indexes: https://pypi.org/simple, https://us-python.pkg.dev/colab-wheels/public/simple/\n",
            "Collecting git+https://github.com/rentruewang/koila.git@v0.1.1\n",
            "  Cloning https://github.com/rentruewang/koila.git (to revision v0.1.1) to /tmp/pip-req-build-92stbhgc\n",
            "  Running command git clone --filter=blob:none --quiet https://github.com/rentruewang/koila.git /tmp/pip-req-build-92stbhgc\n",
            "  Running command git checkout -q 42a7cc0dedb1e10b5a62260e369ab2e68c1cab4d\n",
            "  Resolved https://github.com/rentruewang/koila.git to commit 42a7cc0dedb1e10b5a62260e369ab2e68c1cab4d\n",
            "  Preparing metadata (setup.py) ... \u001b[?25l\u001b[?25hdone\n",
            "Requirement already satisfied: numpy in /usr/local/lib/python3.10/dist-packages (from koila==0.1.1) (1.22.4)\n",
            "Requirement already satisfied: pynvml in /usr/local/lib/python3.10/dist-packages (from koila==0.1.1) (11.5.0)\n",
            "Requirement already satisfied: rich in /usr/local/lib/python3.10/dist-packages (from koila==0.1.1) (13.3.4)\n",
            "Requirement already satisfied: torch in /usr/local/lib/python3.10/dist-packages (from koila==0.1.1) (2.0.0+cu118)\n",
            "Requirement already satisfied: pygments<3.0.0,>=2.13.0 in /usr/local/lib/python3.10/dist-packages (from rich->koila==0.1.1) (2.14.0)\n",
            "Requirement already satisfied: markdown-it-py<3.0.0,>=2.2.0 in /usr/local/lib/python3.10/dist-packages (from rich->koila==0.1.1) (2.2.0)\n",
            "Requirement already satisfied: networkx in /usr/local/lib/python3.10/dist-packages (from torch->koila==0.1.1) (3.1)\n",
            "Requirement already satisfied: triton==2.0.0 in /usr/local/lib/python3.10/dist-packages (from torch->koila==0.1.1) (2.0.0)\n",
            "Requirement already satisfied: filelock in /usr/local/lib/python3.10/dist-packages (from torch->koila==0.1.1) (3.12.0)\n",
            "Requirement already satisfied: typing-extensions in /usr/local/lib/python3.10/dist-packages (from torch->koila==0.1.1) (4.5.0)\n",
            "Requirement already satisfied: sympy in /usr/local/lib/python3.10/dist-packages (from torch->koila==0.1.1) (1.11.1)\n",
            "Requirement already satisfied: jinja2 in /usr/local/lib/python3.10/dist-packages (from torch->koila==0.1.1) (3.1.2)\n",
            "Requirement already satisfied: lit in /usr/local/lib/python3.10/dist-packages (from triton==2.0.0->torch->koila==0.1.1) (16.0.2)\n",
            "Requirement already satisfied: cmake in /usr/local/lib/python3.10/dist-packages (from triton==2.0.0->torch->koila==0.1.1) (3.25.2)\n",
            "Requirement already satisfied: mdurl~=0.1 in /usr/local/lib/python3.10/dist-packages (from markdown-it-py<3.0.0,>=2.2.0->rich->koila==0.1.1) (0.1.2)\n",
            "Requirement already satisfied: MarkupSafe>=2.0 in /usr/local/lib/python3.10/dist-packages (from jinja2->torch->koila==0.1.1) (2.1.2)\n",
            "Requirement already satisfied: mpmath>=0.19 in /usr/local/lib/python3.10/dist-packages (from sympy->torch->koila==0.1.1) (1.3.0)\n"
          ]
        }
      ],
      "source": [
        "!pip install git+https://github.com/rentruewang/koila.git@v0.1.1"
      ]
    },
    {
      "cell_type": "code",
      "execution_count": 69,
      "metadata": {
        "id": "f6wiZGoPZctv",
        "colab": {
          "base_uri": "https://localhost:8080/"
        },
        "outputId": "bc7f0cd1-2db3-4dbe-917b-77afdb399b63"
      },
      "outputs": [
        {
          "output_type": "stream",
          "name": "stdout",
          "text": [
            "Looking in indexes: https://pypi.org/simple, https://us-python.pkg.dev/colab-wheels/public/simple/\n",
            "Requirement already satisfied: gputil in /usr/local/lib/python3.10/dist-packages (1.4.0)\n",
            "Looking in indexes: https://pypi.org/simple, https://us-python.pkg.dev/colab-wheels/public/simple/\n",
            "Requirement already satisfied: psutil in /usr/local/lib/python3.10/dist-packages (5.9.5)\n",
            "Looking in indexes: https://pypi.org/simple, https://us-python.pkg.dev/colab-wheels/public/simple/\n",
            "Requirement already satisfied: humanize in /usr/local/lib/python3.10/dist-packages (4.6.0)\n",
            "Gen RAM Free: 81.9 GB  | Proc size: 6.8 GB\n",
            "GPU RAM Free: 30226MB | Used: 10287MB | Util  25% | Total 40960MB\n"
          ]
        }
      ],
      "source": [
        "# memory footprint support libraries/code\n",
        "!ln -sf /opt/bin/nvidia-smi /usr/bin/nvidia-smi\n",
        "!pip install gputil\n",
        "!pip install psutil\n",
        "!pip install humanize\n",
        "import psutil\n",
        "import humanize\n",
        "import os\n",
        "import GPUtil as GPU\n",
        "GPUs = GPU.getGPUs()\n",
        "# XXX: only one GPU on Colab and isn’t guaranteed\n",
        "gpu = GPUs[0]\n",
        "def printm():\n",
        " process = psutil.Process(os.getpid())\n",
        " print(\"Gen RAM Free: \" + humanize.naturalsize( psutil.virtual_memory().available ), \" | Proc size: \" + humanize.naturalsize( process.memory_info().rss))\n",
        " print(\"GPU RAM Free: {0:.0f}MB | Used: {1:.0f}MB | Util {2:3.0f}% | Total {3:.0f}MB\".format(gpu.memoryFree, gpu.memoryUsed, gpu.memoryUtil*100, gpu.memoryTotal))\n",
        "printm() "
      ]
    },
    {
      "cell_type": "code",
      "execution_count": 70,
      "metadata": {
        "id": "Vj6NVPWAZj1G"
      },
      "outputs": [],
      "source": [
        "import os\n",
        "os.environ[\"PYTORCH_CUDA_ALLOC_CONF\"] = \"1\"\n"
      ]
    },
    {
      "cell_type": "code",
      "execution_count": null,
      "metadata": {
        "id": "TsndmxyNf4vd"
      },
      "outputs": [],
      "source": [
        "#load model \n",
        "import torch\n",
        "from transformers import DistilBertForSequenceClassification\n",
        "\n",
        "# Replace the file path with the path to your saved DistilBert model\n",
        "saved_model_path = '/content/my_distilbert.pt'\n",
        "\n",
        "# Load the saved model\n",
        "DistilBert = DistilBertForSequenceClassification.from_pretrained('distilbert-base-uncased')\n",
        "DistilBert.load_state_dict(torch.load(saved_model_path))\n",
        "\n",
        "# Set the model to evaluation mode\n",
        "DistilBert.eval()\n"
      ]
    },
    {
      "cell_type": "markdown",
      "source": [
        "GRID SEARCH FOR SURROGATE MODEL "
      ],
      "metadata": {
        "id": "EFYHtcax_zj5"
      }
    },
    {
      "cell_type": "code",
      "source": [
        "def predict_function(text_list):\n",
        "    predicted_probabilities = []\n",
        "    for text in text_list:\n",
        "        test_encodings = tokenizer(text, truncation=True, padding=True, return_tensors='pt')\n",
        "        with torch.no_grad():\n",
        "            output = DistilBERT(test_encodings['input_ids'].to(DistilBERT.device), test_encodings['attention_mask'].to(DistilBERT.device))\n",
        "        predicted_probabilities.append(torch.softmax(output.logits, dim=1).cpu().detach().numpy()[0])\n",
        "    return np.array(predicted_probabilities)\n",
        "\n",
        "tokenized_sample = test_dataset['text']\n",
        "\n",
        "\n",
        "def lime_grid_search(predict_function, tokenized_sample, true_labels, kernel_widths, num_samples_list, accuracy_threshold, sample_size=30):\n",
        "    optimal_kernel_width = None\n",
        "    optimal_num_samples = None\n",
        "    best_avg_accuracy = -1\n",
        "\n",
        "    random.seed(42)  # Set seed for reproducibility\n",
        "    sample_indices = random.sample(range(len(tokenized_sample)), sample_size)\n",
        "    sampled_texts = [tokenized_sample[i] for i in sample_indices]\n",
        "    sampled_true_labels = [true_labels[i] for i in sample_indices]\n",
        "\n",
        "    for kernel_width in kernel_widths:\n",
        "        for num_samples in num_samples_list:\n",
        "            print(f\"Testing kernel_width: {kernel_width}, num_samples: {num_samples}\")\n",
        "            accuracies = []\n",
        "\n",
        "            for i, text_to_explain in enumerate(sampled_texts):\n",
        "                if len(text_to_explain.split()) < 2:\n",
        "                    continue\n",
        "\n",
        "                true_label = np.array([sampled_true_labels[i]])\n",
        "\n",
        "                explainer = LimeTextExplainer(kernel_width=kernel_width, class_names=[\"negative\", \"positive\"], verbose=True, feature_selection='auto')\n",
        "                explanation = explainer.explain_instance(text_to_explain, predict_function, num_samples=num_samples)\n",
        "                explanation_list = explanation.as_list()\n",
        "\n",
        "                sentiment_score = 0\n",
        "                for _, weight in explanation_list:\n",
        "                    sentiment_score += weight\n",
        "\n",
        "                sentiment_threshold = 0\n",
        "                predicted_label = np.array([\"positive\" if sentiment_score > sentiment_threshold else \"negative\"])\n",
        "                accuracy = accuracy_score(true_label, predicted_label)\n",
        "                accuracies.append(accuracy)\n",
        "\n",
        "            avg_accuracy = np.mean(accuracies)\n",
        "            print(f\"Average accuracy for kernel_width {kernel_width}, num_samples {num_samples}: {avg_accuracy}\")\n",
        "\n",
        "            if avg_accuracy > best_avg_accuracy:\n",
        "                best_avg_accuracy = avg_accuracy\n",
        "                optimal_kernel_width = kernel_width\n",
        "                optimal_num_samples = num_samples\n",
        "\n",
        "                if best_avg_accuracy >= accuracy_threshold:\n",
        "                    break\n",
        "        if best_avg_accuracy >= accuracy_threshold:\n",
        "            break\n",
        "\n",
        "    return optimal_kernel_width, optimal_num_samples, best_avg_accuracy\n",
        "\n",
        "# Define the range of kernel widths and num_samples you want to search\n",
        "kernel_widths = np.arange(1, 3, 0.5)\n",
        "num_samples_list = list(range(100, 3000, 100))\n",
        "accuracy_threshold = 0.9  # Define your desired threshold for average accuracy\n",
        "optimal_kernel_width, optimal_num_samples, best_avg_accuracy = lime_grid_search(predict_function, tokenized_sample, true_labels, kernel_widths, num_samples_list, accuracy_threshold)\n",
        "\n",
        "print(f\"Optimal kernel width: {optimal_kernel_width}\")\n",
        "print(f\"Optimal num_samples: {optimal_num_samples}\")\n",
        "print(f\"Best average accuracy: {best_avg_accuracy}\")"
      ],
      "metadata": {
        "colab": {
          "base_uri": "https://localhost:8080/",
          "height": 1000
        },
        "id": "mdCKZR8H_2IW",
        "outputId": "18477189-e035-495c-9e64-a37ba4d3f732"
      },
      "execution_count": 71,
      "outputs": [
        {
          "output_type": "stream",
          "name": "stdout",
          "text": [
            "Testing kernel_width: 1.0, num_samples: 100\n",
            "Intercept 0.9888899347861979\n",
            "Prediction_local [0.9942374]\n",
            "Right: 0.99611354\n"
          ]
        },
        {
          "output_type": "stream",
          "name": "stderr",
          "text": [
            "/usr/local/lib/python3.10/dist-packages/sklearn/metrics/_classification.py:227: FutureWarning: elementwise comparison failed; returning scalar instead, but in the future will perform elementwise comparison\n",
            "  score = y_true == y_pred\n"
          ]
        },
        {
          "output_type": "stream",
          "name": "stdout",
          "text": [
            "Intercept 0.10927081617653811\n",
            "Prediction_local [0.04877355]\n",
            "Right: 0.043278545\n"
          ]
        },
        {
          "output_type": "stream",
          "name": "stderr",
          "text": [
            "/usr/local/lib/python3.10/dist-packages/sklearn/metrics/_classification.py:227: FutureWarning: elementwise comparison failed; returning scalar instead, but in the future will perform elementwise comparison\n",
            "  score = y_true == y_pred\n"
          ]
        },
        {
          "output_type": "stream",
          "name": "stdout",
          "text": [
            "Intercept 0.0007291541009586662\n",
            "Prediction_local [0.00072725]\n",
            "Right: 0.0007274526\n"
          ]
        },
        {
          "output_type": "stream",
          "name": "stderr",
          "text": [
            "/usr/local/lib/python3.10/dist-packages/sklearn/metrics/_classification.py:227: FutureWarning: elementwise comparison failed; returning scalar instead, but in the future will perform elementwise comparison\n",
            "  score = y_true == y_pred\n"
          ]
        },
        {
          "output_type": "stream",
          "name": "stdout",
          "text": [
            "Intercept 0.9989714787816651\n",
            "Prediction_local [0.99892353]\n",
            "Right: 0.998904\n"
          ]
        },
        {
          "output_type": "stream",
          "name": "stderr",
          "text": [
            "/usr/local/lib/python3.10/dist-packages/sklearn/metrics/_classification.py:227: FutureWarning: elementwise comparison failed; returning scalar instead, but in the future will perform elementwise comparison\n",
            "  score = y_true == y_pred\n"
          ]
        },
        {
          "output_type": "stream",
          "name": "stdout",
          "text": [
            "Intercept 0.0007144852495701485\n",
            "Prediction_local [0.00073169]\n",
            "Right: 0.0007344822\n"
          ]
        },
        {
          "output_type": "stream",
          "name": "stderr",
          "text": [
            "/usr/local/lib/python3.10/dist-packages/sklearn/metrics/_classification.py:227: FutureWarning: elementwise comparison failed; returning scalar instead, but in the future will perform elementwise comparison\n",
            "  score = y_true == y_pred\n"
          ]
        },
        {
          "output_type": "stream",
          "name": "stdout",
          "text": [
            "Intercept 0.0008278906552214133\n",
            "Prediction_local [0.0008345]\n",
            "Right: 0.00083768636\n"
          ]
        },
        {
          "output_type": "stream",
          "name": "stderr",
          "text": [
            "/usr/local/lib/python3.10/dist-packages/sklearn/metrics/_classification.py:227: FutureWarning: elementwise comparison failed; returning scalar instead, but in the future will perform elementwise comparison\n",
            "  score = y_true == y_pred\n"
          ]
        },
        {
          "output_type": "stream",
          "name": "stdout",
          "text": [
            "Intercept 0.9935116548969191\n",
            "Prediction_local [0.99593239]\n",
            "Right: 0.9964223\n"
          ]
        },
        {
          "output_type": "stream",
          "name": "stderr",
          "text": [
            "/usr/local/lib/python3.10/dist-packages/sklearn/metrics/_classification.py:227: FutureWarning: elementwise comparison failed; returning scalar instead, but in the future will perform elementwise comparison\n",
            "  score = y_true == y_pred\n"
          ]
        },
        {
          "output_type": "stream",
          "name": "stdout",
          "text": [
            "Intercept 0.9436710783896327\n",
            "Prediction_local [0.96712843]\n",
            "Right: 0.97473156\n"
          ]
        },
        {
          "output_type": "stream",
          "name": "stderr",
          "text": [
            "/usr/local/lib/python3.10/dist-packages/sklearn/metrics/_classification.py:227: FutureWarning: elementwise comparison failed; returning scalar instead, but in the future will perform elementwise comparison\n",
            "  score = y_true == y_pred\n"
          ]
        },
        {
          "output_type": "stream",
          "name": "stdout",
          "text": [
            "Intercept 0.9992626564352043\n",
            "Prediction_local [0.99926318]\n",
            "Right: 0.9992624\n"
          ]
        },
        {
          "output_type": "stream",
          "name": "stderr",
          "text": [
            "/usr/local/lib/python3.10/dist-packages/sklearn/metrics/_classification.py:227: FutureWarning: elementwise comparison failed; returning scalar instead, but in the future will perform elementwise comparison\n",
            "  score = y_true == y_pred\n"
          ]
        },
        {
          "output_type": "stream",
          "name": "stdout",
          "text": [
            "Intercept 0.0008383788370839263\n",
            "Prediction_local [0.00079345]\n",
            "Right: 0.0007707312\n"
          ]
        },
        {
          "output_type": "stream",
          "name": "stderr",
          "text": [
            "/usr/local/lib/python3.10/dist-packages/sklearn/metrics/_classification.py:227: FutureWarning: elementwise comparison failed; returning scalar instead, but in the future will perform elementwise comparison\n",
            "  score = y_true == y_pred\n"
          ]
        },
        {
          "output_type": "stream",
          "name": "stdout",
          "text": [
            "Intercept 0.9993088909944177\n",
            "Prediction_local [0.9993142]\n",
            "Right: 0.9993167\n"
          ]
        },
        {
          "output_type": "stream",
          "name": "stderr",
          "text": [
            "/usr/local/lib/python3.10/dist-packages/sklearn/metrics/_classification.py:227: FutureWarning: elementwise comparison failed; returning scalar instead, but in the future will perform elementwise comparison\n",
            "  score = y_true == y_pred\n"
          ]
        },
        {
          "output_type": "stream",
          "name": "stdout",
          "text": [
            "Intercept 0.9991994243374062\n",
            "Prediction_local [0.99921954]\n",
            "Right: 0.99922764\n"
          ]
        },
        {
          "output_type": "stream",
          "name": "stderr",
          "text": [
            "/usr/local/lib/python3.10/dist-packages/sklearn/metrics/_classification.py:227: FutureWarning: elementwise comparison failed; returning scalar instead, but in the future will perform elementwise comparison\n",
            "  score = y_true == y_pred\n"
          ]
        },
        {
          "output_type": "stream",
          "name": "stdout",
          "text": [
            "Intercept 0.9989695040965355\n",
            "Prediction_local [0.99895899]\n",
            "Right: 0.9989594\n"
          ]
        },
        {
          "output_type": "stream",
          "name": "stderr",
          "text": [
            "/usr/local/lib/python3.10/dist-packages/sklearn/metrics/_classification.py:227: FutureWarning: elementwise comparison failed; returning scalar instead, but in the future will perform elementwise comparison\n",
            "  score = y_true == y_pred\n"
          ]
        },
        {
          "output_type": "stream",
          "name": "stdout",
          "text": [
            "Intercept 0.007589679953601432\n",
            "Prediction_local [0.00231884]\n",
            "Right: 0.0009115656\n"
          ]
        },
        {
          "output_type": "stream",
          "name": "stderr",
          "text": [
            "/usr/local/lib/python3.10/dist-packages/sklearn/metrics/_classification.py:227: FutureWarning: elementwise comparison failed; returning scalar instead, but in the future will perform elementwise comparison\n",
            "  score = y_true == y_pred\n"
          ]
        },
        {
          "output_type": "stream",
          "name": "stdout",
          "text": [
            "Intercept 0.9990566164415496\n",
            "Prediction_local [0.99904769]\n",
            "Right: 0.9990361\n"
          ]
        },
        {
          "output_type": "stream",
          "name": "stderr",
          "text": [
            "/usr/local/lib/python3.10/dist-packages/sklearn/metrics/_classification.py:227: FutureWarning: elementwise comparison failed; returning scalar instead, but in the future will perform elementwise comparison\n",
            "  score = y_true == y_pred\n"
          ]
        },
        {
          "output_type": "stream",
          "name": "stdout",
          "text": [
            "Intercept 0.9270009526466474\n",
            "Prediction_local [0.97811228]\n",
            "Right: 0.96477824\n"
          ]
        },
        {
          "output_type": "stream",
          "name": "stderr",
          "text": [
            "/usr/local/lib/python3.10/dist-packages/sklearn/metrics/_classification.py:227: FutureWarning: elementwise comparison failed; returning scalar instead, but in the future will perform elementwise comparison\n",
            "  score = y_true == y_pred\n"
          ]
        },
        {
          "output_type": "stream",
          "name": "stdout",
          "text": [
            "Intercept 0.0010868154697153255\n",
            "Prediction_local [0.00097912]\n",
            "Right: 0.00096808706\n"
          ]
        },
        {
          "output_type": "stream",
          "name": "stderr",
          "text": [
            "/usr/local/lib/python3.10/dist-packages/sklearn/metrics/_classification.py:227: FutureWarning: elementwise comparison failed; returning scalar instead, but in the future will perform elementwise comparison\n",
            "  score = y_true == y_pred\n"
          ]
        },
        {
          "output_type": "stream",
          "name": "stdout",
          "text": [
            "Intercept 0.0009415645603556693\n",
            "Prediction_local [0.00085599]\n",
            "Right: 0.00084570306\n"
          ]
        },
        {
          "output_type": "stream",
          "name": "stderr",
          "text": [
            "/usr/local/lib/python3.10/dist-packages/sklearn/metrics/_classification.py:227: FutureWarning: elementwise comparison failed; returning scalar instead, but in the future will perform elementwise comparison\n",
            "  score = y_true == y_pred\n"
          ]
        },
        {
          "output_type": "stream",
          "name": "stdout",
          "text": [
            "Intercept 0.00075672558848173\n",
            "Prediction_local [0.00072051]\n",
            "Right: 0.00071742246\n"
          ]
        },
        {
          "output_type": "stream",
          "name": "stderr",
          "text": [
            "/usr/local/lib/python3.10/dist-packages/sklearn/metrics/_classification.py:227: FutureWarning: elementwise comparison failed; returning scalar instead, but in the future will perform elementwise comparison\n",
            "  score = y_true == y_pred\n"
          ]
        },
        {
          "output_type": "stream",
          "name": "stdout",
          "text": [
            "Intercept 0.006396964094767024\n",
            "Prediction_local [0.00428449]\n",
            "Right: 0.0035938758\n"
          ]
        },
        {
          "output_type": "stream",
          "name": "stderr",
          "text": [
            "/usr/local/lib/python3.10/dist-packages/sklearn/metrics/_classification.py:227: FutureWarning: elementwise comparison failed; returning scalar instead, but in the future will perform elementwise comparison\n",
            "  score = y_true == y_pred\n"
          ]
        },
        {
          "output_type": "stream",
          "name": "stdout",
          "text": [
            "Intercept 0.0008681593253366844\n",
            "Prediction_local [0.0008373]\n",
            "Right: 0.0008371007\n"
          ]
        },
        {
          "output_type": "stream",
          "name": "stderr",
          "text": [
            "/usr/local/lib/python3.10/dist-packages/sklearn/metrics/_classification.py:227: FutureWarning: elementwise comparison failed; returning scalar instead, but in the future will perform elementwise comparison\n",
            "  score = y_true == y_pred\n"
          ]
        },
        {
          "output_type": "stream",
          "name": "stdout",
          "text": [
            "Intercept 0.2916041242751837\n",
            "Prediction_local [0.90595848]\n",
            "Right: 0.91357636\n"
          ]
        },
        {
          "output_type": "stream",
          "name": "stderr",
          "text": [
            "/usr/local/lib/python3.10/dist-packages/sklearn/metrics/_classification.py:227: FutureWarning: elementwise comparison failed; returning scalar instead, but in the future will perform elementwise comparison\n",
            "  score = y_true == y_pred\n"
          ]
        },
        {
          "output_type": "stream",
          "name": "stdout",
          "text": [
            "Intercept 0.9977464627708315\n",
            "Prediction_local [0.99764709]\n",
            "Right: 0.99688977\n"
          ]
        },
        {
          "output_type": "stream",
          "name": "stderr",
          "text": [
            "/usr/local/lib/python3.10/dist-packages/sklearn/metrics/_classification.py:227: FutureWarning: elementwise comparison failed; returning scalar instead, but in the future will perform elementwise comparison\n",
            "  score = y_true == y_pred\n"
          ]
        },
        {
          "output_type": "stream",
          "name": "stdout",
          "text": [
            "Intercept 0.0007841742179445083\n",
            "Prediction_local [0.00074491]\n",
            "Right: 0.00073403446\n"
          ]
        },
        {
          "output_type": "stream",
          "name": "stderr",
          "text": [
            "/usr/local/lib/python3.10/dist-packages/sklearn/metrics/_classification.py:227: FutureWarning: elementwise comparison failed; returning scalar instead, but in the future will perform elementwise comparison\n",
            "  score = y_true == y_pred\n"
          ]
        },
        {
          "output_type": "stream",
          "name": "stdout",
          "text": [
            "Intercept 0.11836096464349263\n",
            "Prediction_local [0.00569674]\n",
            "Right: 0.0021163863\n"
          ]
        },
        {
          "output_type": "stream",
          "name": "stderr",
          "text": [
            "/usr/local/lib/python3.10/dist-packages/sklearn/metrics/_classification.py:227: FutureWarning: elementwise comparison failed; returning scalar instead, but in the future will perform elementwise comparison\n",
            "  score = y_true == y_pred\n"
          ]
        },
        {
          "output_type": "stream",
          "name": "stdout",
          "text": [
            "Intercept 0.0007120376544934207\n",
            "Prediction_local [0.00071608]\n",
            "Right: 0.0007177514\n"
          ]
        },
        {
          "output_type": "stream",
          "name": "stderr",
          "text": [
            "/usr/local/lib/python3.10/dist-packages/sklearn/metrics/_classification.py:227: FutureWarning: elementwise comparison failed; returning scalar instead, but in the future will perform elementwise comparison\n",
            "  score = y_true == y_pred\n"
          ]
        },
        {
          "output_type": "stream",
          "name": "stdout",
          "text": [
            "Intercept 0.9989249112269463\n",
            "Prediction_local [0.99900564]\n",
            "Right: 0.9990294\n"
          ]
        },
        {
          "output_type": "stream",
          "name": "stderr",
          "text": [
            "/usr/local/lib/python3.10/dist-packages/sklearn/metrics/_classification.py:227: FutureWarning: elementwise comparison failed; returning scalar instead, but in the future will perform elementwise comparison\n",
            "  score = y_true == y_pred\n"
          ]
        },
        {
          "output_type": "stream",
          "name": "stdout",
          "text": [
            "Intercept 0.9982019020260479\n",
            "Prediction_local [0.99843004]\n",
            "Right: 0.9984132\n"
          ]
        },
        {
          "output_type": "stream",
          "name": "stderr",
          "text": [
            "/usr/local/lib/python3.10/dist-packages/sklearn/metrics/_classification.py:227: FutureWarning: elementwise comparison failed; returning scalar instead, but in the future will perform elementwise comparison\n",
            "  score = y_true == y_pred\n"
          ]
        },
        {
          "output_type": "stream",
          "name": "stdout",
          "text": [
            "Intercept 0.9989325042471411\n",
            "Prediction_local [0.99901325]\n",
            "Right: 0.9990656\n"
          ]
        },
        {
          "output_type": "stream",
          "name": "stderr",
          "text": [
            "/usr/local/lib/python3.10/dist-packages/sklearn/metrics/_classification.py:227: FutureWarning: elementwise comparison failed; returning scalar instead, but in the future will perform elementwise comparison\n",
            "  score = y_true == y_pred\n"
          ]
        },
        {
          "output_type": "stream",
          "name": "stdout",
          "text": [
            "Intercept 0.9992222670832874\n",
            "Prediction_local [0.99923263]\n",
            "Right: 0.99923337\n",
            "Average accuracy for kernel_width 1.0, num_samples 100: 0.0\n",
            "Testing kernel_width: 1.0, num_samples: 200\n"
          ]
        },
        {
          "output_type": "stream",
          "name": "stderr",
          "text": [
            "/usr/local/lib/python3.10/dist-packages/sklearn/metrics/_classification.py:227: FutureWarning: elementwise comparison failed; returning scalar instead, but in the future will perform elementwise comparison\n",
            "  score = y_true == y_pred\n"
          ]
        },
        {
          "output_type": "stream",
          "name": "stdout",
          "text": [
            "Intercept 0.6180896378987947\n",
            "Prediction_local [0.94715684]\n",
            "Right: 0.99611354\n"
          ]
        },
        {
          "output_type": "stream",
          "name": "stderr",
          "text": [
            "/usr/local/lib/python3.10/dist-packages/sklearn/metrics/_classification.py:227: FutureWarning: elementwise comparison failed; returning scalar instead, but in the future will perform elementwise comparison\n",
            "  score = y_true == y_pred\n"
          ]
        },
        {
          "output_type": "stream",
          "name": "stdout",
          "text": [
            "Intercept 0.20611148719014385\n",
            "Prediction_local [0.06575742]\n",
            "Right: 0.043278545\n"
          ]
        },
        {
          "output_type": "stream",
          "name": "stderr",
          "text": [
            "/usr/local/lib/python3.10/dist-packages/sklearn/metrics/_classification.py:227: FutureWarning: elementwise comparison failed; returning scalar instead, but in the future will perform elementwise comparison\n",
            "  score = y_true == y_pred\n"
          ]
        },
        {
          "output_type": "stream",
          "name": "stdout",
          "text": [
            "Intercept 0.0007446222519573466\n",
            "Prediction_local [0.00072866]\n",
            "Right: 0.0007274526\n"
          ]
        },
        {
          "output_type": "stream",
          "name": "stderr",
          "text": [
            "/usr/local/lib/python3.10/dist-packages/sklearn/metrics/_classification.py:227: FutureWarning: elementwise comparison failed; returning scalar instead, but in the future will perform elementwise comparison\n",
            "  score = y_true == y_pred\n"
          ]
        },
        {
          "output_type": "stream",
          "name": "stdout",
          "text": [
            "Intercept 0.99889033459302\n",
            "Prediction_local [0.99890181]\n",
            "Right: 0.998904\n"
          ]
        },
        {
          "output_type": "stream",
          "name": "stderr",
          "text": [
            "/usr/local/lib/python3.10/dist-packages/sklearn/metrics/_classification.py:227: FutureWarning: elementwise comparison failed; returning scalar instead, but in the future will perform elementwise comparison\n",
            "  score = y_true == y_pred\n"
          ]
        },
        {
          "output_type": "stream",
          "name": "stdout",
          "text": [
            "Intercept 0.0007366262378895051\n",
            "Prediction_local [0.00073457]\n",
            "Right: 0.0007344822\n"
          ]
        },
        {
          "output_type": "stream",
          "name": "stderr",
          "text": [
            "/usr/local/lib/python3.10/dist-packages/sklearn/metrics/_classification.py:227: FutureWarning: elementwise comparison failed; returning scalar instead, but in the future will perform elementwise comparison\n",
            "  score = y_true == y_pred\n"
          ]
        },
        {
          "output_type": "stream",
          "name": "stdout",
          "text": [
            "Intercept 0.001034559364731452\n",
            "Prediction_local [0.00087314]\n",
            "Right: 0.00083768636\n"
          ]
        },
        {
          "output_type": "stream",
          "name": "stderr",
          "text": [
            "/usr/local/lib/python3.10/dist-packages/sklearn/metrics/_classification.py:227: FutureWarning: elementwise comparison failed; returning scalar instead, but in the future will perform elementwise comparison\n",
            "  score = y_true == y_pred\n"
          ]
        },
        {
          "output_type": "stream",
          "name": "stdout",
          "text": [
            "Intercept 0.9559494238845916\n",
            "Prediction_local [0.99482877]\n",
            "Right: 0.9964223\n"
          ]
        },
        {
          "output_type": "stream",
          "name": "stderr",
          "text": [
            "/usr/local/lib/python3.10/dist-packages/sklearn/metrics/_classification.py:227: FutureWarning: elementwise comparison failed; returning scalar instead, but in the future will perform elementwise comparison\n",
            "  score = y_true == y_pred\n"
          ]
        },
        {
          "output_type": "stream",
          "name": "stdout",
          "text": [
            "Intercept 0.48208968512556766\n",
            "Prediction_local [0.92738648]\n",
            "Right: 0.97473156\n"
          ]
        },
        {
          "output_type": "stream",
          "name": "stderr",
          "text": [
            "/usr/local/lib/python3.10/dist-packages/sklearn/metrics/_classification.py:227: FutureWarning: elementwise comparison failed; returning scalar instead, but in the future will perform elementwise comparison\n",
            "  score = y_true == y_pred\n"
          ]
        },
        {
          "output_type": "stream",
          "name": "stdout",
          "text": [
            "Intercept 0.9992726873658715\n",
            "Prediction_local [0.99926387]\n",
            "Right: 0.9992624\n"
          ]
        },
        {
          "output_type": "stream",
          "name": "stderr",
          "text": [
            "/usr/local/lib/python3.10/dist-packages/sklearn/metrics/_classification.py:227: FutureWarning: elementwise comparison failed; returning scalar instead, but in the future will perform elementwise comparison\n",
            "  score = y_true == y_pred\n"
          ]
        },
        {
          "output_type": "stream",
          "name": "stdout",
          "text": [
            "Intercept 0.0008277746653799354\n",
            "Prediction_local [0.00076856]\n",
            "Right: 0.0007707312\n"
          ]
        },
        {
          "output_type": "stream",
          "name": "stderr",
          "text": [
            "/usr/local/lib/python3.10/dist-packages/sklearn/metrics/_classification.py:227: FutureWarning: elementwise comparison failed; returning scalar instead, but in the future will perform elementwise comparison\n",
            "  score = y_true == y_pred\n"
          ]
        },
        {
          "output_type": "stream",
          "name": "stdout",
          "text": [
            "Intercept 0.9993065942126302\n",
            "Prediction_local [0.99931381]\n",
            "Right: 0.9993167\n"
          ]
        },
        {
          "output_type": "stream",
          "name": "stderr",
          "text": [
            "/usr/local/lib/python3.10/dist-packages/sklearn/metrics/_classification.py:227: FutureWarning: elementwise comparison failed; returning scalar instead, but in the future will perform elementwise comparison\n",
            "  score = y_true == y_pred\n"
          ]
        },
        {
          "output_type": "stream",
          "name": "stdout",
          "text": [
            "Intercept 0.9992062080377498\n",
            "Prediction_local [0.99922172]\n",
            "Right: 0.99922764\n"
          ]
        },
        {
          "output_type": "stream",
          "name": "stderr",
          "text": [
            "/usr/local/lib/python3.10/dist-packages/sklearn/metrics/_classification.py:227: FutureWarning: elementwise comparison failed; returning scalar instead, but in the future will perform elementwise comparison\n",
            "  score = y_true == y_pred\n"
          ]
        },
        {
          "output_type": "stream",
          "name": "stdout",
          "text": [
            "Intercept 0.9989531560691465\n",
            "Prediction_local [0.99895038]\n",
            "Right: 0.9989594\n"
          ]
        },
        {
          "output_type": "stream",
          "name": "stderr",
          "text": [
            "/usr/local/lib/python3.10/dist-packages/sklearn/metrics/_classification.py:227: FutureWarning: elementwise comparison failed; returning scalar instead, but in the future will perform elementwise comparison\n",
            "  score = y_true == y_pred\n"
          ]
        },
        {
          "output_type": "stream",
          "name": "stdout",
          "text": [
            "Intercept 0.0008896004778396975\n",
            "Prediction_local [0.00089991]\n",
            "Right: 0.0009115656\n"
          ]
        },
        {
          "output_type": "stream",
          "name": "stderr",
          "text": [
            "/usr/local/lib/python3.10/dist-packages/sklearn/metrics/_classification.py:227: FutureWarning: elementwise comparison failed; returning scalar instead, but in the future will perform elementwise comparison\n",
            "  score = y_true == y_pred\n"
          ]
        },
        {
          "output_type": "stream",
          "name": "stdout",
          "text": [
            "Intercept 0.9990387462308321\n",
            "Prediction_local [0.99903982]\n",
            "Right: 0.9990361\n"
          ]
        },
        {
          "output_type": "stream",
          "name": "stderr",
          "text": [
            "/usr/local/lib/python3.10/dist-packages/sklearn/metrics/_classification.py:227: FutureWarning: elementwise comparison failed; returning scalar instead, but in the future will perform elementwise comparison\n",
            "  score = y_true == y_pred\n"
          ]
        },
        {
          "output_type": "stream",
          "name": "stdout",
          "text": [
            "Intercept 0.5685038587452287\n",
            "Prediction_local [0.95438801]\n",
            "Right: 0.96477824\n"
          ]
        },
        {
          "output_type": "stream",
          "name": "stderr",
          "text": [
            "/usr/local/lib/python3.10/dist-packages/sklearn/metrics/_classification.py:227: FutureWarning: elementwise comparison failed; returning scalar instead, but in the future will perform elementwise comparison\n",
            "  score = y_true == y_pred\n"
          ]
        },
        {
          "output_type": "stream",
          "name": "stdout",
          "text": [
            "Intercept 0.0012861836822118727\n",
            "Prediction_local [0.00098721]\n",
            "Right: 0.00096808706\n"
          ]
        },
        {
          "output_type": "stream",
          "name": "stderr",
          "text": [
            "/usr/local/lib/python3.10/dist-packages/sklearn/metrics/_classification.py:227: FutureWarning: elementwise comparison failed; returning scalar instead, but in the future will perform elementwise comparison\n",
            "  score = y_true == y_pred\n"
          ]
        },
        {
          "output_type": "stream",
          "name": "stdout",
          "text": [
            "Intercept 0.0008663233827304742\n",
            "Prediction_local [0.00085571]\n",
            "Right: 0.00084570306\n"
          ]
        },
        {
          "output_type": "stream",
          "name": "stderr",
          "text": [
            "/usr/local/lib/python3.10/dist-packages/sklearn/metrics/_classification.py:227: FutureWarning: elementwise comparison failed; returning scalar instead, but in the future will perform elementwise comparison\n",
            "  score = y_true == y_pred\n"
          ]
        },
        {
          "output_type": "stream",
          "name": "stdout",
          "text": [
            "Intercept 0.000733857292612615\n",
            "Prediction_local [0.00072036]\n",
            "Right: 0.00071742246\n"
          ]
        },
        {
          "output_type": "stream",
          "name": "stderr",
          "text": [
            "/usr/local/lib/python3.10/dist-packages/sklearn/metrics/_classification.py:227: FutureWarning: elementwise comparison failed; returning scalar instead, but in the future will perform elementwise comparison\n",
            "  score = y_true == y_pred\n"
          ]
        },
        {
          "output_type": "stream",
          "name": "stdout",
          "text": [
            "Intercept 0.017993006225542688\n",
            "Prediction_local [0.00575368]\n",
            "Right: 0.0035938758\n"
          ]
        },
        {
          "output_type": "stream",
          "name": "stderr",
          "text": [
            "/usr/local/lib/python3.10/dist-packages/sklearn/metrics/_classification.py:227: FutureWarning: elementwise comparison failed; returning scalar instead, but in the future will perform elementwise comparison\n",
            "  score = y_true == y_pred\n"
          ]
        },
        {
          "output_type": "stream",
          "name": "stdout",
          "text": [
            "Intercept 0.0008239563441316951\n",
            "Prediction_local [0.00084109]\n",
            "Right: 0.0008371007\n"
          ]
        },
        {
          "output_type": "stream",
          "name": "stderr",
          "text": [
            "/usr/local/lib/python3.10/dist-packages/sklearn/metrics/_classification.py:227: FutureWarning: elementwise comparison failed; returning scalar instead, but in the future will perform elementwise comparison\n",
            "  score = y_true == y_pred\n"
          ]
        },
        {
          "output_type": "stream",
          "name": "stdout",
          "text": [
            "Intercept 1.03387274974069\n",
            "Prediction_local [0.96053542]\n",
            "Right: 0.91357636\n"
          ]
        },
        {
          "output_type": "stream",
          "name": "stderr",
          "text": [
            "/usr/local/lib/python3.10/dist-packages/sklearn/metrics/_classification.py:227: FutureWarning: elementwise comparison failed; returning scalar instead, but in the future will perform elementwise comparison\n",
            "  score = y_true == y_pred\n"
          ]
        },
        {
          "output_type": "stream",
          "name": "stdout",
          "text": [
            "Intercept 0.9895495511892181\n",
            "Prediction_local [0.99734838]\n",
            "Right: 0.99688977\n"
          ]
        },
        {
          "output_type": "stream",
          "name": "stderr",
          "text": [
            "/usr/local/lib/python3.10/dist-packages/sklearn/metrics/_classification.py:227: FutureWarning: elementwise comparison failed; returning scalar instead, but in the future will perform elementwise comparison\n",
            "  score = y_true == y_pred\n"
          ]
        },
        {
          "output_type": "stream",
          "name": "stdout",
          "text": [
            "Intercept 0.0008247024138056747\n",
            "Prediction_local [0.00074909]\n",
            "Right: 0.00073403446\n"
          ]
        },
        {
          "output_type": "stream",
          "name": "stderr",
          "text": [
            "/usr/local/lib/python3.10/dist-packages/sklearn/metrics/_classification.py:227: FutureWarning: elementwise comparison failed; returning scalar instead, but in the future will perform elementwise comparison\n",
            "  score = y_true == y_pred\n"
          ]
        },
        {
          "output_type": "stream",
          "name": "stdout",
          "text": [
            "Intercept 0.0027526387353863924\n",
            "Prediction_local [0.00227686]\n",
            "Right: 0.0021163863\n"
          ]
        },
        {
          "output_type": "stream",
          "name": "stderr",
          "text": [
            "/usr/local/lib/python3.10/dist-packages/sklearn/metrics/_classification.py:227: FutureWarning: elementwise comparison failed; returning scalar instead, but in the future will perform elementwise comparison\n",
            "  score = y_true == y_pred\n"
          ]
        },
        {
          "output_type": "stream",
          "name": "stdout",
          "text": [
            "Intercept 0.0006997337005656046\n",
            "Prediction_local [0.00071628]\n",
            "Right: 0.0007177514\n"
          ]
        },
        {
          "output_type": "stream",
          "name": "stderr",
          "text": [
            "/usr/local/lib/python3.10/dist-packages/sklearn/metrics/_classification.py:227: FutureWarning: elementwise comparison failed; returning scalar instead, but in the future will perform elementwise comparison\n",
            "  score = y_true == y_pred\n"
          ]
        },
        {
          "output_type": "stream",
          "name": "stdout",
          "text": [
            "Intercept 0.9990284489452299\n",
            "Prediction_local [0.99901904]\n",
            "Right: 0.9990294\n"
          ]
        },
        {
          "output_type": "stream",
          "name": "stderr",
          "text": [
            "/usr/local/lib/python3.10/dist-packages/sklearn/metrics/_classification.py:227: FutureWarning: elementwise comparison failed; returning scalar instead, but in the future will perform elementwise comparison\n",
            "  score = y_true == y_pred\n"
          ]
        },
        {
          "output_type": "stream",
          "name": "stdout",
          "text": [
            "Intercept 0.4421310419027601\n",
            "Prediction_local [0.98733913]\n",
            "Right: 0.9984132\n"
          ]
        },
        {
          "output_type": "stream",
          "name": "stderr",
          "text": [
            "/usr/local/lib/python3.10/dist-packages/sklearn/metrics/_classification.py:227: FutureWarning: elementwise comparison failed; returning scalar instead, but in the future will perform elementwise comparison\n",
            "  score = y_true == y_pred\n"
          ]
        },
        {
          "output_type": "stream",
          "name": "stdout",
          "text": [
            "Intercept 0.9979046145393207\n",
            "Prediction_local [0.99855327]\n",
            "Right: 0.9990656\n"
          ]
        },
        {
          "output_type": "stream",
          "name": "stderr",
          "text": [
            "/usr/local/lib/python3.10/dist-packages/sklearn/metrics/_classification.py:227: FutureWarning: elementwise comparison failed; returning scalar instead, but in the future will perform elementwise comparison\n",
            "  score = y_true == y_pred\n"
          ]
        },
        {
          "output_type": "stream",
          "name": "stdout",
          "text": [
            "Intercept 0.999147074089104\n",
            "Prediction_local [0.99922264]\n",
            "Right: 0.99923337\n",
            "Average accuracy for kernel_width 1.0, num_samples 200: 0.0\n",
            "Testing kernel_width: 1.0, num_samples: 300\n"
          ]
        },
        {
          "output_type": "stream",
          "name": "stderr",
          "text": [
            "/usr/local/lib/python3.10/dist-packages/sklearn/metrics/_classification.py:227: FutureWarning: elementwise comparison failed; returning scalar instead, but in the future will perform elementwise comparison\n",
            "  score = y_true == y_pred\n"
          ]
        },
        {
          "output_type": "stream",
          "name": "stdout",
          "text": [
            "Intercept 0.7341200133244142\n",
            "Prediction_local [0.97231331]\n",
            "Right: 0.99611354\n"
          ]
        },
        {
          "output_type": "stream",
          "name": "stderr",
          "text": [
            "/usr/local/lib/python3.10/dist-packages/sklearn/metrics/_classification.py:227: FutureWarning: elementwise comparison failed; returning scalar instead, but in the future will perform elementwise comparison\n",
            "  score = y_true == y_pred\n"
          ]
        },
        {
          "output_type": "stream",
          "name": "stdout",
          "text": [
            "Intercept 0.9031683892674269\n",
            "Prediction_local [0.15914354]\n",
            "Right: 0.043278545\n"
          ]
        },
        {
          "output_type": "stream",
          "name": "stderr",
          "text": [
            "/usr/local/lib/python3.10/dist-packages/sklearn/metrics/_classification.py:227: FutureWarning: elementwise comparison failed; returning scalar instead, but in the future will perform elementwise comparison\n",
            "  score = y_true == y_pred\n"
          ]
        },
        {
          "output_type": "stream",
          "name": "stdout",
          "text": [
            "Intercept 0.0007332477795963406\n",
            "Prediction_local [0.00072762]\n",
            "Right: 0.0007274526\n"
          ]
        },
        {
          "output_type": "stream",
          "name": "stderr",
          "text": [
            "/usr/local/lib/python3.10/dist-packages/sklearn/metrics/_classification.py:227: FutureWarning: elementwise comparison failed; returning scalar instead, but in the future will perform elementwise comparison\n",
            "  score = y_true == y_pred\n"
          ]
        },
        {
          "output_type": "stream",
          "name": "stdout",
          "text": [
            "Intercept 0.9988893845421173\n",
            "Prediction_local [0.99891343]\n",
            "Right: 0.998904\n"
          ]
        },
        {
          "output_type": "stream",
          "name": "stderr",
          "text": [
            "/usr/local/lib/python3.10/dist-packages/sklearn/metrics/_classification.py:227: FutureWarning: elementwise comparison failed; returning scalar instead, but in the future will perform elementwise comparison\n",
            "  score = y_true == y_pred\n"
          ]
        },
        {
          "output_type": "stream",
          "name": "stdout",
          "text": [
            "Intercept 0.0007246635188728972\n",
            "Prediction_local [0.00072829]\n",
            "Right: 0.0007344822\n"
          ]
        },
        {
          "output_type": "stream",
          "name": "stderr",
          "text": [
            "/usr/local/lib/python3.10/dist-packages/sklearn/metrics/_classification.py:227: FutureWarning: elementwise comparison failed; returning scalar instead, but in the future will perform elementwise comparison\n",
            "  score = y_true == y_pred\n"
          ]
        },
        {
          "output_type": "stream",
          "name": "stdout",
          "text": [
            "Intercept 0.0010552711237974684\n",
            "Prediction_local [0.00086565]\n",
            "Right: 0.00083768636\n"
          ]
        },
        {
          "output_type": "stream",
          "name": "stderr",
          "text": [
            "/usr/local/lib/python3.10/dist-packages/sklearn/metrics/_classification.py:227: FutureWarning: elementwise comparison failed; returning scalar instead, but in the future will perform elementwise comparison\n",
            "  score = y_true == y_pred\n"
          ]
        },
        {
          "output_type": "stream",
          "name": "stdout",
          "text": [
            "Intercept 0.6870817981796435\n",
            "Prediction_local [0.97893536]\n",
            "Right: 0.9964223\n"
          ]
        },
        {
          "output_type": "stream",
          "name": "stderr",
          "text": [
            "/usr/local/lib/python3.10/dist-packages/sklearn/metrics/_classification.py:227: FutureWarning: elementwise comparison failed; returning scalar instead, but in the future will perform elementwise comparison\n",
            "  score = y_true == y_pred\n"
          ]
        },
        {
          "output_type": "stream",
          "name": "stdout",
          "text": [
            "Intercept 0.6330832891787814\n",
            "Prediction_local [0.92070891]\n",
            "Right: 0.97473156\n"
          ]
        },
        {
          "output_type": "stream",
          "name": "stderr",
          "text": [
            "/usr/local/lib/python3.10/dist-packages/sklearn/metrics/_classification.py:227: FutureWarning: elementwise comparison failed; returning scalar instead, but in the future will perform elementwise comparison\n",
            "  score = y_true == y_pred\n"
          ]
        },
        {
          "output_type": "stream",
          "name": "stdout",
          "text": [
            "Intercept 0.9992719711889413\n",
            "Prediction_local [0.99926377]\n",
            "Right: 0.9992624\n"
          ]
        },
        {
          "output_type": "stream",
          "name": "stderr",
          "text": [
            "/usr/local/lib/python3.10/dist-packages/sklearn/metrics/_classification.py:227: FutureWarning: elementwise comparison failed; returning scalar instead, but in the future will perform elementwise comparison\n",
            "  score = y_true == y_pred\n"
          ]
        },
        {
          "output_type": "stream",
          "name": "stdout",
          "text": [
            "Intercept 0.0008675650434984236\n",
            "Prediction_local [0.00078148]\n",
            "Right: 0.0007707312\n"
          ]
        },
        {
          "output_type": "stream",
          "name": "stderr",
          "text": [
            "/usr/local/lib/python3.10/dist-packages/sklearn/metrics/_classification.py:227: FutureWarning: elementwise comparison failed; returning scalar instead, but in the future will perform elementwise comparison\n",
            "  score = y_true == y_pred\n"
          ]
        },
        {
          "output_type": "stream",
          "name": "stdout",
          "text": [
            "Intercept 0.9993029235835065\n",
            "Prediction_local [0.99931253]\n",
            "Right: 0.9993167\n"
          ]
        },
        {
          "output_type": "stream",
          "name": "stderr",
          "text": [
            "/usr/local/lib/python3.10/dist-packages/sklearn/metrics/_classification.py:227: FutureWarning: elementwise comparison failed; returning scalar instead, but in the future will perform elementwise comparison\n",
            "  score = y_true == y_pred\n"
          ]
        },
        {
          "output_type": "stream",
          "name": "stdout",
          "text": [
            "Intercept 0.9991987001159154\n",
            "Prediction_local [0.99922027]\n",
            "Right: 0.99922764\n"
          ]
        },
        {
          "output_type": "stream",
          "name": "stderr",
          "text": [
            "/usr/local/lib/python3.10/dist-packages/sklearn/metrics/_classification.py:227: FutureWarning: elementwise comparison failed; returning scalar instead, but in the future will perform elementwise comparison\n",
            "  score = y_true == y_pred\n"
          ]
        },
        {
          "output_type": "stream",
          "name": "stdout",
          "text": [
            "Intercept 0.9989180461214082\n",
            "Prediction_local [0.9989546]\n",
            "Right: 0.9989594\n"
          ]
        },
        {
          "output_type": "stream",
          "name": "stderr",
          "text": [
            "/usr/local/lib/python3.10/dist-packages/sklearn/metrics/_classification.py:227: FutureWarning: elementwise comparison failed; returning scalar instead, but in the future will perform elementwise comparison\n",
            "  score = y_true == y_pred\n"
          ]
        },
        {
          "output_type": "stream",
          "name": "stdout",
          "text": [
            "Intercept 0.0018893706835728112\n",
            "Prediction_local [0.00092633]\n",
            "Right: 0.0009115656\n"
          ]
        },
        {
          "output_type": "stream",
          "name": "stderr",
          "text": [
            "/usr/local/lib/python3.10/dist-packages/sklearn/metrics/_classification.py:227: FutureWarning: elementwise comparison failed; returning scalar instead, but in the future will perform elementwise comparison\n",
            "  score = y_true == y_pred\n"
          ]
        },
        {
          "output_type": "stream",
          "name": "stdout",
          "text": [
            "Intercept 0.9990547823378914\n",
            "Prediction_local [0.99903579]\n",
            "Right: 0.9990361\n"
          ]
        },
        {
          "output_type": "stream",
          "name": "stderr",
          "text": [
            "/usr/local/lib/python3.10/dist-packages/sklearn/metrics/_classification.py:227: FutureWarning: elementwise comparison failed; returning scalar instead, but in the future will perform elementwise comparison\n",
            "  score = y_true == y_pred\n"
          ]
        },
        {
          "output_type": "stream",
          "name": "stdout",
          "text": [
            "Intercept 0.31518312474135046\n",
            "Prediction_local [0.9506322]\n",
            "Right: 0.96477824\n"
          ]
        },
        {
          "output_type": "stream",
          "name": "stderr",
          "text": [
            "/usr/local/lib/python3.10/dist-packages/sklearn/metrics/_classification.py:227: FutureWarning: elementwise comparison failed; returning scalar instead, but in the future will perform elementwise comparison\n",
            "  score = y_true == y_pred\n"
          ]
        },
        {
          "output_type": "stream",
          "name": "stdout",
          "text": [
            "Intercept 0.001312640572973652\n",
            "Prediction_local [0.00100316]\n",
            "Right: 0.00096808706\n"
          ]
        },
        {
          "output_type": "stream",
          "name": "stderr",
          "text": [
            "/usr/local/lib/python3.10/dist-packages/sklearn/metrics/_classification.py:227: FutureWarning: elementwise comparison failed; returning scalar instead, but in the future will perform elementwise comparison\n",
            "  score = y_true == y_pred\n"
          ]
        },
        {
          "output_type": "stream",
          "name": "stdout",
          "text": [
            "Intercept 0.0009312156568299044\n",
            "Prediction_local [0.00085213]\n",
            "Right: 0.00084570306\n"
          ]
        },
        {
          "output_type": "stream",
          "name": "stderr",
          "text": [
            "/usr/local/lib/python3.10/dist-packages/sklearn/metrics/_classification.py:227: FutureWarning: elementwise comparison failed; returning scalar instead, but in the future will perform elementwise comparison\n",
            "  score = y_true == y_pred\n"
          ]
        },
        {
          "output_type": "stream",
          "name": "stdout",
          "text": [
            "Intercept 0.0007778314023134999\n",
            "Prediction_local [0.00071419]\n",
            "Right: 0.00071742246\n"
          ]
        },
        {
          "output_type": "stream",
          "name": "stderr",
          "text": [
            "/usr/local/lib/python3.10/dist-packages/sklearn/metrics/_classification.py:227: FutureWarning: elementwise comparison failed; returning scalar instead, but in the future will perform elementwise comparison\n",
            "  score = y_true == y_pred\n"
          ]
        },
        {
          "output_type": "stream",
          "name": "stdout",
          "text": [
            "Intercept 0.006912577986335959\n",
            "Prediction_local [0.00384562]\n",
            "Right: 0.0035938758\n"
          ]
        },
        {
          "output_type": "stream",
          "name": "stderr",
          "text": [
            "/usr/local/lib/python3.10/dist-packages/sklearn/metrics/_classification.py:227: FutureWarning: elementwise comparison failed; returning scalar instead, but in the future will perform elementwise comparison\n",
            "  score = y_true == y_pred\n"
          ]
        },
        {
          "output_type": "stream",
          "name": "stdout",
          "text": [
            "Intercept 0.0008540636164697936\n",
            "Prediction_local [0.00084295]\n",
            "Right: 0.0008371007\n"
          ]
        },
        {
          "output_type": "stream",
          "name": "stderr",
          "text": [
            "/usr/local/lib/python3.10/dist-packages/sklearn/metrics/_classification.py:227: FutureWarning: elementwise comparison failed; returning scalar instead, but in the future will perform elementwise comparison\n",
            "  score = y_true == y_pred\n"
          ]
        },
        {
          "output_type": "stream",
          "name": "stdout",
          "text": [
            "Intercept 0.1667666438806723\n",
            "Prediction_local [0.93133694]\n",
            "Right: 0.91357636\n"
          ]
        },
        {
          "output_type": "stream",
          "name": "stderr",
          "text": [
            "/usr/local/lib/python3.10/dist-packages/sklearn/metrics/_classification.py:227: FutureWarning: elementwise comparison failed; returning scalar instead, but in the future will perform elementwise comparison\n",
            "  score = y_true == y_pred\n"
          ]
        },
        {
          "output_type": "stream",
          "name": "stdout",
          "text": [
            "Intercept 0.9961709159221395\n",
            "Prediction_local [0.99734556]\n",
            "Right: 0.99688977\n"
          ]
        },
        {
          "output_type": "stream",
          "name": "stderr",
          "text": [
            "/usr/local/lib/python3.10/dist-packages/sklearn/metrics/_classification.py:227: FutureWarning: elementwise comparison failed; returning scalar instead, but in the future will perform elementwise comparison\n",
            "  score = y_true == y_pred\n"
          ]
        },
        {
          "output_type": "stream",
          "name": "stdout",
          "text": [
            "Intercept 0.0007967078974084621\n",
            "Prediction_local [0.00074524]\n",
            "Right: 0.00073403446\n"
          ]
        },
        {
          "output_type": "stream",
          "name": "stderr",
          "text": [
            "/usr/local/lib/python3.10/dist-packages/sklearn/metrics/_classification.py:227: FutureWarning: elementwise comparison failed; returning scalar instead, but in the future will perform elementwise comparison\n",
            "  score = y_true == y_pred\n"
          ]
        },
        {
          "output_type": "stream",
          "name": "stdout",
          "text": [
            "Intercept 0.012276498495520035\n",
            "Prediction_local [0.00225345]\n",
            "Right: 0.0021163863\n"
          ]
        },
        {
          "output_type": "stream",
          "name": "stderr",
          "text": [
            "/usr/local/lib/python3.10/dist-packages/sklearn/metrics/_classification.py:227: FutureWarning: elementwise comparison failed; returning scalar instead, but in the future will perform elementwise comparison\n",
            "  score = y_true == y_pred\n"
          ]
        },
        {
          "output_type": "stream",
          "name": "stdout",
          "text": [
            "Intercept 0.0007431255912032883\n",
            "Prediction_local [0.00071913]\n",
            "Right: 0.0007177514\n"
          ]
        },
        {
          "output_type": "stream",
          "name": "stderr",
          "text": [
            "/usr/local/lib/python3.10/dist-packages/sklearn/metrics/_classification.py:227: FutureWarning: elementwise comparison failed; returning scalar instead, but in the future will perform elementwise comparison\n",
            "  score = y_true == y_pred\n"
          ]
        },
        {
          "output_type": "stream",
          "name": "stdout",
          "text": [
            "Intercept 0.9990499342934711\n",
            "Prediction_local [0.99902706]\n",
            "Right: 0.9990294\n"
          ]
        },
        {
          "output_type": "stream",
          "name": "stderr",
          "text": [
            "/usr/local/lib/python3.10/dist-packages/sklearn/metrics/_classification.py:227: FutureWarning: elementwise comparison failed; returning scalar instead, but in the future will perform elementwise comparison\n",
            "  score = y_true == y_pred\n"
          ]
        },
        {
          "output_type": "stream",
          "name": "stdout",
          "text": [
            "Intercept 0.6241864248034061\n",
            "Prediction_local [0.98169236]\n",
            "Right: 0.9984132\n"
          ]
        },
        {
          "output_type": "stream",
          "name": "stderr",
          "text": [
            "/usr/local/lib/python3.10/dist-packages/sklearn/metrics/_classification.py:227: FutureWarning: elementwise comparison failed; returning scalar instead, but in the future will perform elementwise comparison\n",
            "  score = y_true == y_pred\n"
          ]
        },
        {
          "output_type": "stream",
          "name": "stdout",
          "text": [
            "Intercept 0.9989216355396163\n",
            "Prediction_local [0.99903214]\n",
            "Right: 0.9990656\n"
          ]
        },
        {
          "output_type": "stream",
          "name": "stderr",
          "text": [
            "/usr/local/lib/python3.10/dist-packages/sklearn/metrics/_classification.py:227: FutureWarning: elementwise comparison failed; returning scalar instead, but in the future will perform elementwise comparison\n",
            "  score = y_true == y_pred\n"
          ]
        },
        {
          "output_type": "stream",
          "name": "stdout",
          "text": [
            "Intercept 0.999224394444261\n",
            "Prediction_local [0.99922679]\n",
            "Right: 0.99923337\n",
            "Average accuracy for kernel_width 1.0, num_samples 300: 0.0\n",
            "Testing kernel_width: 1.0, num_samples: 400\n"
          ]
        },
        {
          "output_type": "stream",
          "name": "stderr",
          "text": [
            "/usr/local/lib/python3.10/dist-packages/sklearn/metrics/_classification.py:227: FutureWarning: elementwise comparison failed; returning scalar instead, but in the future will perform elementwise comparison\n",
            "  score = y_true == y_pred\n"
          ]
        },
        {
          "output_type": "stream",
          "name": "stdout",
          "text": [
            "Intercept 0.9819732930492348\n",
            "Prediction_local [0.99410826]\n",
            "Right: 0.99611354\n"
          ]
        },
        {
          "output_type": "stream",
          "name": "stderr",
          "text": [
            "/usr/local/lib/python3.10/dist-packages/sklearn/metrics/_classification.py:227: FutureWarning: elementwise comparison failed; returning scalar instead, but in the future will perform elementwise comparison\n",
            "  score = y_true == y_pred\n"
          ]
        },
        {
          "output_type": "stream",
          "name": "stdout",
          "text": [
            "Intercept 0.668756824664829\n",
            "Prediction_local [0.08309429]\n",
            "Right: 0.043278545\n"
          ]
        },
        {
          "output_type": "stream",
          "name": "stderr",
          "text": [
            "/usr/local/lib/python3.10/dist-packages/sklearn/metrics/_classification.py:227: FutureWarning: elementwise comparison failed; returning scalar instead, but in the future will perform elementwise comparison\n",
            "  score = y_true == y_pred\n"
          ]
        },
        {
          "output_type": "stream",
          "name": "stdout",
          "text": [
            "Intercept 0.0007350007897829204\n",
            "Prediction_local [0.00072726]\n",
            "Right: 0.0007274526\n"
          ]
        },
        {
          "output_type": "stream",
          "name": "stderr",
          "text": [
            "/usr/local/lib/python3.10/dist-packages/sklearn/metrics/_classification.py:227: FutureWarning: elementwise comparison failed; returning scalar instead, but in the future will perform elementwise comparison\n",
            "  score = y_true == y_pred\n"
          ]
        },
        {
          "output_type": "stream",
          "name": "stdout",
          "text": [
            "Intercept 0.9989369352102111\n",
            "Prediction_local [0.99890492]\n",
            "Right: 0.998904\n"
          ]
        },
        {
          "output_type": "stream",
          "name": "stderr",
          "text": [
            "/usr/local/lib/python3.10/dist-packages/sklearn/metrics/_classification.py:227: FutureWarning: elementwise comparison failed; returning scalar instead, but in the future will perform elementwise comparison\n",
            "  score = y_true == y_pred\n"
          ]
        },
        {
          "output_type": "stream",
          "name": "stdout",
          "text": [
            "Intercept 0.0006885059464237698\n",
            "Prediction_local [0.00072472]\n",
            "Right: 0.0007344822\n"
          ]
        },
        {
          "output_type": "stream",
          "name": "stderr",
          "text": [
            "/usr/local/lib/python3.10/dist-packages/sklearn/metrics/_classification.py:227: FutureWarning: elementwise comparison failed; returning scalar instead, but in the future will perform elementwise comparison\n",
            "  score = y_true == y_pred\n"
          ]
        },
        {
          "output_type": "stream",
          "name": "stdout",
          "text": [
            "Intercept 0.0008866940265580383\n",
            "Prediction_local [0.00085117]\n",
            "Right: 0.00083768636\n"
          ]
        },
        {
          "output_type": "stream",
          "name": "stderr",
          "text": [
            "/usr/local/lib/python3.10/dist-packages/sklearn/metrics/_classification.py:227: FutureWarning: elementwise comparison failed; returning scalar instead, but in the future will perform elementwise comparison\n",
            "  score = y_true == y_pred\n"
          ]
        },
        {
          "output_type": "stream",
          "name": "stdout",
          "text": [
            "Intercept 0.6009457894177204\n",
            "Prediction_local [0.97898955]\n",
            "Right: 0.9964223\n"
          ]
        },
        {
          "output_type": "stream",
          "name": "stderr",
          "text": [
            "/usr/local/lib/python3.10/dist-packages/sklearn/metrics/_classification.py:227: FutureWarning: elementwise comparison failed; returning scalar instead, but in the future will perform elementwise comparison\n",
            "  score = y_true == y_pred\n"
          ]
        },
        {
          "output_type": "stream",
          "name": "stdout",
          "text": [
            "Intercept 0.37035881340239085\n",
            "Prediction_local [0.91641309]\n",
            "Right: 0.97473156\n"
          ]
        },
        {
          "output_type": "stream",
          "name": "stderr",
          "text": [
            "/usr/local/lib/python3.10/dist-packages/sklearn/metrics/_classification.py:227: FutureWarning: elementwise comparison failed; returning scalar instead, but in the future will perform elementwise comparison\n",
            "  score = y_true == y_pred\n"
          ]
        },
        {
          "output_type": "stream",
          "name": "stdout",
          "text": [
            "Intercept 0.9992659973846426\n",
            "Prediction_local [0.99926236]\n",
            "Right: 0.9992624\n"
          ]
        },
        {
          "output_type": "stream",
          "name": "stderr",
          "text": [
            "/usr/local/lib/python3.10/dist-packages/sklearn/metrics/_classification.py:227: FutureWarning: elementwise comparison failed; returning scalar instead, but in the future will perform elementwise comparison\n",
            "  score = y_true == y_pred\n"
          ]
        },
        {
          "output_type": "stream",
          "name": "stdout",
          "text": [
            "Intercept 0.0007985791954961842\n",
            "Prediction_local [0.00077367]\n",
            "Right: 0.0007707312\n"
          ]
        },
        {
          "output_type": "stream",
          "name": "stderr",
          "text": [
            "/usr/local/lib/python3.10/dist-packages/sklearn/metrics/_classification.py:227: FutureWarning: elementwise comparison failed; returning scalar instead, but in the future will perform elementwise comparison\n",
            "  score = y_true == y_pred\n"
          ]
        },
        {
          "output_type": "stream",
          "name": "stdout",
          "text": [
            "Intercept 0.999312341814895\n",
            "Prediction_local [0.99931557]\n",
            "Right: 0.9993167\n"
          ]
        },
        {
          "output_type": "stream",
          "name": "stderr",
          "text": [
            "/usr/local/lib/python3.10/dist-packages/sklearn/metrics/_classification.py:227: FutureWarning: elementwise comparison failed; returning scalar instead, but in the future will perform elementwise comparison\n",
            "  score = y_true == y_pred\n"
          ]
        },
        {
          "output_type": "stream",
          "name": "stdout",
          "text": [
            "Intercept 0.9991466599472074\n",
            "Prediction_local [0.99921665]\n",
            "Right: 0.99922764\n"
          ]
        },
        {
          "output_type": "stream",
          "name": "stderr",
          "text": [
            "/usr/local/lib/python3.10/dist-packages/sklearn/metrics/_classification.py:227: FutureWarning: elementwise comparison failed; returning scalar instead, but in the future will perform elementwise comparison\n",
            "  score = y_true == y_pred\n"
          ]
        },
        {
          "output_type": "stream",
          "name": "stdout",
          "text": [
            "Intercept 0.9988414150930837\n",
            "Prediction_local [0.99894112]\n",
            "Right: 0.9989594\n"
          ]
        },
        {
          "output_type": "stream",
          "name": "stderr",
          "text": [
            "/usr/local/lib/python3.10/dist-packages/sklearn/metrics/_classification.py:227: FutureWarning: elementwise comparison failed; returning scalar instead, but in the future will perform elementwise comparison\n",
            "  score = y_true == y_pred\n"
          ]
        },
        {
          "output_type": "stream",
          "name": "stdout",
          "text": [
            "Intercept 0.020065897371504902\n",
            "Prediction_local [0.00166441]\n",
            "Right: 0.0009115656\n"
          ]
        },
        {
          "output_type": "stream",
          "name": "stderr",
          "text": [
            "/usr/local/lib/python3.10/dist-packages/sklearn/metrics/_classification.py:227: FutureWarning: elementwise comparison failed; returning scalar instead, but in the future will perform elementwise comparison\n",
            "  score = y_true == y_pred\n"
          ]
        },
        {
          "output_type": "stream",
          "name": "stdout",
          "text": [
            "Intercept 0.9990330271138974\n",
            "Prediction_local [0.99904049]\n",
            "Right: 0.9990361\n"
          ]
        },
        {
          "output_type": "stream",
          "name": "stderr",
          "text": [
            "/usr/local/lib/python3.10/dist-packages/sklearn/metrics/_classification.py:227: FutureWarning: elementwise comparison failed; returning scalar instead, but in the future will perform elementwise comparison\n",
            "  score = y_true == y_pred\n"
          ]
        },
        {
          "output_type": "stream",
          "name": "stdout",
          "text": [
            "Intercept 0.13766987899285954\n",
            "Prediction_local [0.89314056]\n",
            "Right: 0.96477824\n"
          ]
        },
        {
          "output_type": "stream",
          "name": "stderr",
          "text": [
            "/usr/local/lib/python3.10/dist-packages/sklearn/metrics/_classification.py:227: FutureWarning: elementwise comparison failed; returning scalar instead, but in the future will perform elementwise comparison\n",
            "  score = y_true == y_pred\n"
          ]
        },
        {
          "output_type": "stream",
          "name": "stdout",
          "text": [
            "Intercept 0.0010793950865056786\n",
            "Prediction_local [0.0009928]\n",
            "Right: 0.00096808706\n"
          ]
        },
        {
          "output_type": "stream",
          "name": "stderr",
          "text": [
            "/usr/local/lib/python3.10/dist-packages/sklearn/metrics/_classification.py:227: FutureWarning: elementwise comparison failed; returning scalar instead, but in the future will perform elementwise comparison\n",
            "  score = y_true == y_pred\n"
          ]
        },
        {
          "output_type": "stream",
          "name": "stdout",
          "text": [
            "Intercept 0.0009439671346771582\n",
            "Prediction_local [0.0008553]\n",
            "Right: 0.00084570306\n"
          ]
        },
        {
          "output_type": "stream",
          "name": "stderr",
          "text": [
            "/usr/local/lib/python3.10/dist-packages/sklearn/metrics/_classification.py:227: FutureWarning: elementwise comparison failed; returning scalar instead, but in the future will perform elementwise comparison\n",
            "  score = y_true == y_pred\n"
          ]
        },
        {
          "output_type": "stream",
          "name": "stdout",
          "text": [
            "Intercept 0.0007775874341482108\n",
            "Prediction_local [0.00072117]\n",
            "Right: 0.00071742246\n"
          ]
        },
        {
          "output_type": "stream",
          "name": "stderr",
          "text": [
            "/usr/local/lib/python3.10/dist-packages/sklearn/metrics/_classification.py:227: FutureWarning: elementwise comparison failed; returning scalar instead, but in the future will perform elementwise comparison\n",
            "  score = y_true == y_pred\n"
          ]
        },
        {
          "output_type": "stream",
          "name": "stdout",
          "text": [
            "Intercept 0.007905665006377526\n",
            "Prediction_local [0.00398433]\n",
            "Right: 0.0035938758\n"
          ]
        },
        {
          "output_type": "stream",
          "name": "stderr",
          "text": [
            "/usr/local/lib/python3.10/dist-packages/sklearn/metrics/_classification.py:227: FutureWarning: elementwise comparison failed; returning scalar instead, but in the future will perform elementwise comparison\n",
            "  score = y_true == y_pred\n"
          ]
        },
        {
          "output_type": "stream",
          "name": "stdout",
          "text": [
            "Intercept 0.0008868496276441679\n",
            "Prediction_local [0.00084751]\n",
            "Right: 0.0008371007\n"
          ]
        },
        {
          "output_type": "stream",
          "name": "stderr",
          "text": [
            "/usr/local/lib/python3.10/dist-packages/sklearn/metrics/_classification.py:227: FutureWarning: elementwise comparison failed; returning scalar instead, but in the future will perform elementwise comparison\n",
            "  score = y_true == y_pred\n"
          ]
        },
        {
          "output_type": "stream",
          "name": "stdout",
          "text": [
            "Intercept 0.3945660267001312\n",
            "Prediction_local [0.97310427]\n",
            "Right: 0.91357636\n"
          ]
        },
        {
          "output_type": "stream",
          "name": "stderr",
          "text": [
            "/usr/local/lib/python3.10/dist-packages/sklearn/metrics/_classification.py:227: FutureWarning: elementwise comparison failed; returning scalar instead, but in the future will perform elementwise comparison\n",
            "  score = y_true == y_pred\n"
          ]
        },
        {
          "output_type": "stream",
          "name": "stdout",
          "text": [
            "Intercept 0.9140899308361785\n",
            "Prediction_local [0.99719513]\n",
            "Right: 0.99688977\n"
          ]
        },
        {
          "output_type": "stream",
          "name": "stderr",
          "text": [
            "/usr/local/lib/python3.10/dist-packages/sklearn/metrics/_classification.py:227: FutureWarning: elementwise comparison failed; returning scalar instead, but in the future will perform elementwise comparison\n",
            "  score = y_true == y_pred\n"
          ]
        },
        {
          "output_type": "stream",
          "name": "stdout",
          "text": [
            "Intercept 0.0008166980496721874\n",
            "Prediction_local [0.00075606]\n",
            "Right: 0.00073403446\n"
          ]
        },
        {
          "output_type": "stream",
          "name": "stderr",
          "text": [
            "/usr/local/lib/python3.10/dist-packages/sklearn/metrics/_classification.py:227: FutureWarning: elementwise comparison failed; returning scalar instead, but in the future will perform elementwise comparison\n",
            "  score = y_true == y_pred\n"
          ]
        },
        {
          "output_type": "stream",
          "name": "stdout",
          "text": [
            "Intercept 0.11625415846705207\n",
            "Prediction_local [0.00834761]\n",
            "Right: 0.0021163863\n"
          ]
        },
        {
          "output_type": "stream",
          "name": "stderr",
          "text": [
            "/usr/local/lib/python3.10/dist-packages/sklearn/metrics/_classification.py:227: FutureWarning: elementwise comparison failed; returning scalar instead, but in the future will perform elementwise comparison\n",
            "  score = y_true == y_pred\n"
          ]
        },
        {
          "output_type": "stream",
          "name": "stdout",
          "text": [
            "Intercept 0.0007148163586407091\n",
            "Prediction_local [0.00071682]\n",
            "Right: 0.0007177514\n"
          ]
        },
        {
          "output_type": "stream",
          "name": "stderr",
          "text": [
            "/usr/local/lib/python3.10/dist-packages/sklearn/metrics/_classification.py:227: FutureWarning: elementwise comparison failed; returning scalar instead, but in the future will perform elementwise comparison\n",
            "  score = y_true == y_pred\n"
          ]
        },
        {
          "output_type": "stream",
          "name": "stdout",
          "text": [
            "Intercept 0.9990782461563033\n",
            "Prediction_local [0.9990269]\n",
            "Right: 0.9990294\n"
          ]
        },
        {
          "output_type": "stream",
          "name": "stderr",
          "text": [
            "/usr/local/lib/python3.10/dist-packages/sklearn/metrics/_classification.py:227: FutureWarning: elementwise comparison failed; returning scalar instead, but in the future will perform elementwise comparison\n",
            "  score = y_true == y_pred\n"
          ]
        },
        {
          "output_type": "stream",
          "name": "stdout",
          "text": [
            "Intercept 0.9933510697051561\n",
            "Prediction_local [0.99788953]\n",
            "Right: 0.9984132\n"
          ]
        },
        {
          "output_type": "stream",
          "name": "stderr",
          "text": [
            "/usr/local/lib/python3.10/dist-packages/sklearn/metrics/_classification.py:227: FutureWarning: elementwise comparison failed; returning scalar instead, but in the future will perform elementwise comparison\n",
            "  score = y_true == y_pred\n"
          ]
        },
        {
          "output_type": "stream",
          "name": "stdout",
          "text": [
            "Intercept 0.9988143240297351\n",
            "Prediction_local [0.99900168]\n",
            "Right: 0.9990656\n"
          ]
        },
        {
          "output_type": "stream",
          "name": "stderr",
          "text": [
            "/usr/local/lib/python3.10/dist-packages/sklearn/metrics/_classification.py:227: FutureWarning: elementwise comparison failed; returning scalar instead, but in the future will perform elementwise comparison\n",
            "  score = y_true == y_pred\n"
          ]
        },
        {
          "output_type": "stream",
          "name": "stdout",
          "text": [
            "Intercept 0.9992041850667801\n",
            "Prediction_local [0.99922967]\n",
            "Right: 0.99923337\n",
            "Average accuracy for kernel_width 1.0, num_samples 400: 0.0\n",
            "Testing kernel_width: 1.0, num_samples: 500\n"
          ]
        },
        {
          "output_type": "stream",
          "name": "stderr",
          "text": [
            "/usr/local/lib/python3.10/dist-packages/sklearn/metrics/_classification.py:227: FutureWarning: elementwise comparison failed; returning scalar instead, but in the future will perform elementwise comparison\n",
            "  score = y_true == y_pred\n"
          ]
        },
        {
          "output_type": "stream",
          "name": "stdout",
          "text": [
            "Intercept 0.7938123721177103\n",
            "Prediction_local [0.97398835]\n",
            "Right: 0.99611354\n"
          ]
        },
        {
          "output_type": "stream",
          "name": "stderr",
          "text": [
            "/usr/local/lib/python3.10/dist-packages/sklearn/metrics/_classification.py:227: FutureWarning: elementwise comparison failed; returning scalar instead, but in the future will perform elementwise comparison\n",
            "  score = y_true == y_pred\n"
          ]
        },
        {
          "output_type": "stream",
          "name": "stdout",
          "text": [
            "Intercept 0.34095287151056186\n",
            "Prediction_local [0.07830797]\n",
            "Right: 0.043278545\n"
          ]
        },
        {
          "output_type": "stream",
          "name": "stderr",
          "text": [
            "/usr/local/lib/python3.10/dist-packages/sklearn/metrics/_classification.py:227: FutureWarning: elementwise comparison failed; returning scalar instead, but in the future will perform elementwise comparison\n",
            "  score = y_true == y_pred\n"
          ]
        },
        {
          "output_type": "stream",
          "name": "stdout",
          "text": [
            "Intercept 0.0007297553310310789\n",
            "Prediction_local [0.00072566]\n",
            "Right: 0.0007274526\n"
          ]
        },
        {
          "output_type": "stream",
          "name": "stderr",
          "text": [
            "/usr/local/lib/python3.10/dist-packages/sklearn/metrics/_classification.py:227: FutureWarning: elementwise comparison failed; returning scalar instead, but in the future will perform elementwise comparison\n",
            "  score = y_true == y_pred\n"
          ]
        },
        {
          "output_type": "stream",
          "name": "stdout",
          "text": [
            "Intercept 0.9985528316465323\n",
            "Prediction_local [0.99887111]\n",
            "Right: 0.998904\n"
          ]
        },
        {
          "output_type": "stream",
          "name": "stderr",
          "text": [
            "/usr/local/lib/python3.10/dist-packages/sklearn/metrics/_classification.py:227: FutureWarning: elementwise comparison failed; returning scalar instead, but in the future will perform elementwise comparison\n",
            "  score = y_true == y_pred\n"
          ]
        },
        {
          "output_type": "stream",
          "name": "stdout",
          "text": [
            "Intercept 0.0007563594708723955\n",
            "Prediction_local [0.00072979]\n",
            "Right: 0.0007344822\n"
          ]
        },
        {
          "output_type": "stream",
          "name": "stderr",
          "text": [
            "/usr/local/lib/python3.10/dist-packages/sklearn/metrics/_classification.py:227: FutureWarning: elementwise comparison failed; returning scalar instead, but in the future will perform elementwise comparison\n",
            "  score = y_true == y_pred\n"
          ]
        },
        {
          "output_type": "stream",
          "name": "stdout",
          "text": [
            "Intercept 0.0022891694067106983\n",
            "Prediction_local [0.00092421]\n",
            "Right: 0.00083768636\n"
          ]
        },
        {
          "output_type": "stream",
          "name": "stderr",
          "text": [
            "/usr/local/lib/python3.10/dist-packages/sklearn/metrics/_classification.py:227: FutureWarning: elementwise comparison failed; returning scalar instead, but in the future will perform elementwise comparison\n",
            "  score = y_true == y_pred\n"
          ]
        },
        {
          "output_type": "stream",
          "name": "stdout",
          "text": [
            "Intercept 0.8753345591448507\n",
            "Prediction_local [0.99274787]\n",
            "Right: 0.9964223\n"
          ]
        },
        {
          "output_type": "stream",
          "name": "stderr",
          "text": [
            "/usr/local/lib/python3.10/dist-packages/sklearn/metrics/_classification.py:227: FutureWarning: elementwise comparison failed; returning scalar instead, but in the future will perform elementwise comparison\n",
            "  score = y_true == y_pred\n"
          ]
        },
        {
          "output_type": "stream",
          "name": "stdout",
          "text": [
            "Intercept 0.07657594011393609\n",
            "Prediction_local [0.89445296]\n",
            "Right: 0.97473156\n"
          ]
        },
        {
          "output_type": "stream",
          "name": "stderr",
          "text": [
            "/usr/local/lib/python3.10/dist-packages/sklearn/metrics/_classification.py:227: FutureWarning: elementwise comparison failed; returning scalar instead, but in the future will perform elementwise comparison\n",
            "  score = y_true == y_pred\n"
          ]
        },
        {
          "output_type": "stream",
          "name": "stdout",
          "text": [
            "Intercept 0.9992555355699624\n",
            "Prediction_local [0.99926178]\n",
            "Right: 0.9992624\n"
          ]
        },
        {
          "output_type": "stream",
          "name": "stderr",
          "text": [
            "/usr/local/lib/python3.10/dist-packages/sklearn/metrics/_classification.py:227: FutureWarning: elementwise comparison failed; returning scalar instead, but in the future will perform elementwise comparison\n",
            "  score = y_true == y_pred\n"
          ]
        },
        {
          "output_type": "stream",
          "name": "stdout",
          "text": [
            "Intercept 0.000837370653579973\n",
            "Prediction_local [0.0007745]\n",
            "Right: 0.0007707312\n"
          ]
        },
        {
          "output_type": "stream",
          "name": "stderr",
          "text": [
            "/usr/local/lib/python3.10/dist-packages/sklearn/metrics/_classification.py:227: FutureWarning: elementwise comparison failed; returning scalar instead, but in the future will perform elementwise comparison\n",
            "  score = y_true == y_pred\n"
          ]
        },
        {
          "output_type": "stream",
          "name": "stdout",
          "text": [
            "Intercept 0.999289012835093\n",
            "Prediction_local [0.99931259]\n",
            "Right: 0.9993167\n"
          ]
        },
        {
          "output_type": "stream",
          "name": "stderr",
          "text": [
            "/usr/local/lib/python3.10/dist-packages/sklearn/metrics/_classification.py:227: FutureWarning: elementwise comparison failed; returning scalar instead, but in the future will perform elementwise comparison\n",
            "  score = y_true == y_pred\n"
          ]
        },
        {
          "output_type": "stream",
          "name": "stdout",
          "text": [
            "Intercept 0.9991670726929037\n",
            "Prediction_local [0.99921805]\n",
            "Right: 0.99922764\n"
          ]
        },
        {
          "output_type": "stream",
          "name": "stderr",
          "text": [
            "/usr/local/lib/python3.10/dist-packages/sklearn/metrics/_classification.py:227: FutureWarning: elementwise comparison failed; returning scalar instead, but in the future will perform elementwise comparison\n",
            "  score = y_true == y_pred\n"
          ]
        },
        {
          "output_type": "stream",
          "name": "stdout",
          "text": [
            "Intercept 0.9988886154803249\n",
            "Prediction_local [0.99894641]\n",
            "Right: 0.9989594\n"
          ]
        },
        {
          "output_type": "stream",
          "name": "stderr",
          "text": [
            "/usr/local/lib/python3.10/dist-packages/sklearn/metrics/_classification.py:227: FutureWarning: elementwise comparison failed; returning scalar instead, but in the future will perform elementwise comparison\n",
            "  score = y_true == y_pred\n"
          ]
        },
        {
          "output_type": "stream",
          "name": "stdout",
          "text": [
            "Intercept 0.00761833632910678\n",
            "Prediction_local [0.00125514]\n",
            "Right: 0.0009115656\n"
          ]
        },
        {
          "output_type": "stream",
          "name": "stderr",
          "text": [
            "/usr/local/lib/python3.10/dist-packages/sklearn/metrics/_classification.py:227: FutureWarning: elementwise comparison failed; returning scalar instead, but in the future will perform elementwise comparison\n",
            "  score = y_true == y_pred\n"
          ]
        },
        {
          "output_type": "stream",
          "name": "stdout",
          "text": [
            "Intercept 0.9989783072693741\n",
            "Prediction_local [0.99902844]\n",
            "Right: 0.9990361\n"
          ]
        },
        {
          "output_type": "stream",
          "name": "stderr",
          "text": [
            "/usr/local/lib/python3.10/dist-packages/sklearn/metrics/_classification.py:227: FutureWarning: elementwise comparison failed; returning scalar instead, but in the future will perform elementwise comparison\n",
            "  score = y_true == y_pred\n"
          ]
        },
        {
          "output_type": "stream",
          "name": "stdout",
          "text": [
            "Intercept -0.042356696513989545\n",
            "Prediction_local [0.94024076]\n",
            "Right: 0.96477824\n"
          ]
        },
        {
          "output_type": "stream",
          "name": "stderr",
          "text": [
            "/usr/local/lib/python3.10/dist-packages/sklearn/metrics/_classification.py:227: FutureWarning: elementwise comparison failed; returning scalar instead, but in the future will perform elementwise comparison\n",
            "  score = y_true == y_pred\n"
          ]
        },
        {
          "output_type": "stream",
          "name": "stdout",
          "text": [
            "Intercept 0.0014021588666758209\n",
            "Prediction_local [0.00100233]\n",
            "Right: 0.00096808706\n"
          ]
        },
        {
          "output_type": "stream",
          "name": "stderr",
          "text": [
            "/usr/local/lib/python3.10/dist-packages/sklearn/metrics/_classification.py:227: FutureWarning: elementwise comparison failed; returning scalar instead, but in the future will perform elementwise comparison\n",
            "  score = y_true == y_pred\n"
          ]
        },
        {
          "output_type": "stream",
          "name": "stdout",
          "text": [
            "Intercept 0.0010488524526588742\n",
            "Prediction_local [0.00086035]\n",
            "Right: 0.00084570306\n"
          ]
        },
        {
          "output_type": "stream",
          "name": "stderr",
          "text": [
            "/usr/local/lib/python3.10/dist-packages/sklearn/metrics/_classification.py:227: FutureWarning: elementwise comparison failed; returning scalar instead, but in the future will perform elementwise comparison\n",
            "  score = y_true == y_pred\n"
          ]
        },
        {
          "output_type": "stream",
          "name": "stdout",
          "text": [
            "Intercept 0.0008616842731616948\n",
            "Prediction_local [0.00072199]\n",
            "Right: 0.00071742246\n"
          ]
        },
        {
          "output_type": "stream",
          "name": "stderr",
          "text": [
            "/usr/local/lib/python3.10/dist-packages/sklearn/metrics/_classification.py:227: FutureWarning: elementwise comparison failed; returning scalar instead, but in the future will perform elementwise comparison\n",
            "  score = y_true == y_pred\n"
          ]
        },
        {
          "output_type": "stream",
          "name": "stdout",
          "text": [
            "Intercept 0.013339036024219342\n",
            "Prediction_local [0.00427829]\n",
            "Right: 0.0035938758\n"
          ]
        },
        {
          "output_type": "stream",
          "name": "stderr",
          "text": [
            "/usr/local/lib/python3.10/dist-packages/sklearn/metrics/_classification.py:227: FutureWarning: elementwise comparison failed; returning scalar instead, but in the future will perform elementwise comparison\n",
            "  score = y_true == y_pred\n"
          ]
        },
        {
          "output_type": "stream",
          "name": "stdout",
          "text": [
            "Intercept 0.0008941242981784551\n",
            "Prediction_local [0.00084499]\n",
            "Right: 0.0008371007\n"
          ]
        },
        {
          "output_type": "stream",
          "name": "stderr",
          "text": [
            "/usr/local/lib/python3.10/dist-packages/sklearn/metrics/_classification.py:227: FutureWarning: elementwise comparison failed; returning scalar instead, but in the future will perform elementwise comparison\n",
            "  score = y_true == y_pred\n"
          ]
        },
        {
          "output_type": "stream",
          "name": "stdout",
          "text": [
            "Intercept -0.09529277750473641\n",
            "Prediction_local [0.91288296]\n",
            "Right: 0.91357636\n"
          ]
        },
        {
          "output_type": "stream",
          "name": "stderr",
          "text": [
            "/usr/local/lib/python3.10/dist-packages/sklearn/metrics/_classification.py:227: FutureWarning: elementwise comparison failed; returning scalar instead, but in the future will perform elementwise comparison\n",
            "  score = y_true == y_pred\n"
          ]
        },
        {
          "output_type": "stream",
          "name": "stdout",
          "text": [
            "Intercept 0.9991823214688818\n",
            "Prediction_local [0.99742633]\n",
            "Right: 0.99688977\n"
          ]
        },
        {
          "output_type": "stream",
          "name": "stderr",
          "text": [
            "/usr/local/lib/python3.10/dist-packages/sklearn/metrics/_classification.py:227: FutureWarning: elementwise comparison failed; returning scalar instead, but in the future will perform elementwise comparison\n",
            "  score = y_true == y_pred\n"
          ]
        },
        {
          "output_type": "stream",
          "name": "stdout",
          "text": [
            "Intercept 0.000807019270191996\n",
            "Prediction_local [0.00074303]\n",
            "Right: 0.00073403446\n"
          ]
        },
        {
          "output_type": "stream",
          "name": "stderr",
          "text": [
            "/usr/local/lib/python3.10/dist-packages/sklearn/metrics/_classification.py:227: FutureWarning: elementwise comparison failed; returning scalar instead, but in the future will perform elementwise comparison\n",
            "  score = y_true == y_pred\n"
          ]
        },
        {
          "output_type": "stream",
          "name": "stdout",
          "text": [
            "Intercept 0.60990282351491\n",
            "Prediction_local [0.00941526]\n",
            "Right: 0.0021163863\n"
          ]
        },
        {
          "output_type": "stream",
          "name": "stderr",
          "text": [
            "/usr/local/lib/python3.10/dist-packages/sklearn/metrics/_classification.py:227: FutureWarning: elementwise comparison failed; returning scalar instead, but in the future will perform elementwise comparison\n",
            "  score = y_true == y_pred\n"
          ]
        },
        {
          "output_type": "stream",
          "name": "stdout",
          "text": [
            "Intercept 0.0007181233695066129\n",
            "Prediction_local [0.00071504]\n",
            "Right: 0.0007177514\n"
          ]
        },
        {
          "output_type": "stream",
          "name": "stderr",
          "text": [
            "/usr/local/lib/python3.10/dist-packages/sklearn/metrics/_classification.py:227: FutureWarning: elementwise comparison failed; returning scalar instead, but in the future will perform elementwise comparison\n",
            "  score = y_true == y_pred\n"
          ]
        },
        {
          "output_type": "stream",
          "name": "stdout",
          "text": [
            "Intercept 0.9990215179827516\n",
            "Prediction_local [0.99902452]\n",
            "Right: 0.9990294\n"
          ]
        },
        {
          "output_type": "stream",
          "name": "stderr",
          "text": [
            "/usr/local/lib/python3.10/dist-packages/sklearn/metrics/_classification.py:227: FutureWarning: elementwise comparison failed; returning scalar instead, but in the future will perform elementwise comparison\n",
            "  score = y_true == y_pred\n"
          ]
        },
        {
          "output_type": "stream",
          "name": "stdout",
          "text": [
            "Intercept 0.8164797662794773\n",
            "Prediction_local [0.99341712]\n",
            "Right: 0.9984132\n"
          ]
        },
        {
          "output_type": "stream",
          "name": "stderr",
          "text": [
            "/usr/local/lib/python3.10/dist-packages/sklearn/metrics/_classification.py:227: FutureWarning: elementwise comparison failed; returning scalar instead, but in the future will perform elementwise comparison\n",
            "  score = y_true == y_pred\n"
          ]
        },
        {
          "output_type": "stream",
          "name": "stdout",
          "text": [
            "Intercept 0.9985961223258786\n",
            "Prediction_local [0.99897226]\n",
            "Right: 0.9990656\n"
          ]
        },
        {
          "output_type": "stream",
          "name": "stderr",
          "text": [
            "/usr/local/lib/python3.10/dist-packages/sklearn/metrics/_classification.py:227: FutureWarning: elementwise comparison failed; returning scalar instead, but in the future will perform elementwise comparison\n",
            "  score = y_true == y_pred\n"
          ]
        },
        {
          "output_type": "stream",
          "name": "stdout",
          "text": [
            "Intercept 0.9991915383855311\n",
            "Prediction_local [0.99923135]\n",
            "Right: 0.99923337\n",
            "Average accuracy for kernel_width 1.0, num_samples 500: 0.0\n",
            "Testing kernel_width: 1.0, num_samples: 600\n"
          ]
        },
        {
          "output_type": "stream",
          "name": "stderr",
          "text": [
            "/usr/local/lib/python3.10/dist-packages/sklearn/metrics/_classification.py:227: FutureWarning: elementwise comparison failed; returning scalar instead, but in the future will perform elementwise comparison\n",
            "  score = y_true == y_pred\n"
          ]
        },
        {
          "output_type": "stream",
          "name": "stdout",
          "text": [
            "Intercept 0.8297047145773323\n",
            "Prediction_local [0.98512203]\n",
            "Right: 0.99611354\n"
          ]
        },
        {
          "output_type": "stream",
          "name": "stderr",
          "text": [
            "/usr/local/lib/python3.10/dist-packages/sklearn/metrics/_classification.py:227: FutureWarning: elementwise comparison failed; returning scalar instead, but in the future will perform elementwise comparison\n",
            "  score = y_true == y_pred\n"
          ]
        },
        {
          "output_type": "stream",
          "name": "stdout",
          "text": [
            "Intercept 0.8339808759828946\n",
            "Prediction_local [0.10730078]\n",
            "Right: 0.043278545\n"
          ]
        },
        {
          "output_type": "stream",
          "name": "stderr",
          "text": [
            "/usr/local/lib/python3.10/dist-packages/sklearn/metrics/_classification.py:227: FutureWarning: elementwise comparison failed; returning scalar instead, but in the future will perform elementwise comparison\n",
            "  score = y_true == y_pred\n"
          ]
        },
        {
          "output_type": "stream",
          "name": "stdout",
          "text": [
            "Intercept 0.0007699187635020663\n",
            "Prediction_local [0.00072795]\n",
            "Right: 0.0007274526\n"
          ]
        },
        {
          "output_type": "stream",
          "name": "stderr",
          "text": [
            "/usr/local/lib/python3.10/dist-packages/sklearn/metrics/_classification.py:227: FutureWarning: elementwise comparison failed; returning scalar instead, but in the future will perform elementwise comparison\n",
            "  score = y_true == y_pred\n"
          ]
        },
        {
          "output_type": "stream",
          "name": "stdout",
          "text": [
            "Intercept 0.9989854110155786\n",
            "Prediction_local [0.99891415]\n",
            "Right: 0.998904\n"
          ]
        },
        {
          "output_type": "stream",
          "name": "stderr",
          "text": [
            "/usr/local/lib/python3.10/dist-packages/sklearn/metrics/_classification.py:227: FutureWarning: elementwise comparison failed; returning scalar instead, but in the future will perform elementwise comparison\n",
            "  score = y_true == y_pred\n"
          ]
        },
        {
          "output_type": "stream",
          "name": "stdout",
          "text": [
            "Intercept 0.0007513200637358225\n",
            "Prediction_local [0.00072925]\n",
            "Right: 0.0007344822\n"
          ]
        },
        {
          "output_type": "stream",
          "name": "stderr",
          "text": [
            "/usr/local/lib/python3.10/dist-packages/sklearn/metrics/_classification.py:227: FutureWarning: elementwise comparison failed; returning scalar instead, but in the future will perform elementwise comparison\n",
            "  score = y_true == y_pred\n"
          ]
        },
        {
          "output_type": "stream",
          "name": "stdout",
          "text": [
            "Intercept 0.00089238755627157\n",
            "Prediction_local [0.00085606]\n",
            "Right: 0.00083768636\n"
          ]
        },
        {
          "output_type": "stream",
          "name": "stderr",
          "text": [
            "/usr/local/lib/python3.10/dist-packages/sklearn/metrics/_classification.py:227: FutureWarning: elementwise comparison failed; returning scalar instead, but in the future will perform elementwise comparison\n",
            "  score = y_true == y_pred\n"
          ]
        },
        {
          "output_type": "stream",
          "name": "stdout",
          "text": [
            "Intercept 0.48466805754030146\n",
            "Prediction_local [0.97777233]\n",
            "Right: 0.9964223\n"
          ]
        },
        {
          "output_type": "stream",
          "name": "stderr",
          "text": [
            "/usr/local/lib/python3.10/dist-packages/sklearn/metrics/_classification.py:227: FutureWarning: elementwise comparison failed; returning scalar instead, but in the future will perform elementwise comparison\n",
            "  score = y_true == y_pred\n"
          ]
        },
        {
          "output_type": "stream",
          "name": "stdout",
          "text": [
            "Intercept -0.03157489531780089\n",
            "Prediction_local [0.91356158]\n",
            "Right: 0.97473156\n"
          ]
        },
        {
          "output_type": "stream",
          "name": "stderr",
          "text": [
            "/usr/local/lib/python3.10/dist-packages/sklearn/metrics/_classification.py:227: FutureWarning: elementwise comparison failed; returning scalar instead, but in the future will perform elementwise comparison\n",
            "  score = y_true == y_pred\n"
          ]
        },
        {
          "output_type": "stream",
          "name": "stdout",
          "text": [
            "Intercept 0.9992750712072843\n",
            "Prediction_local [0.99926294]\n",
            "Right: 0.9992624\n"
          ]
        },
        {
          "output_type": "stream",
          "name": "stderr",
          "text": [
            "/usr/local/lib/python3.10/dist-packages/sklearn/metrics/_classification.py:227: FutureWarning: elementwise comparison failed; returning scalar instead, but in the future will perform elementwise comparison\n",
            "  score = y_true == y_pred\n"
          ]
        },
        {
          "output_type": "stream",
          "name": "stdout",
          "text": [
            "Intercept 0.0008550265562825398\n",
            "Prediction_local [0.00077925]\n",
            "Right: 0.0007707312\n"
          ]
        },
        {
          "output_type": "stream",
          "name": "stderr",
          "text": [
            "/usr/local/lib/python3.10/dist-packages/sklearn/metrics/_classification.py:227: FutureWarning: elementwise comparison failed; returning scalar instead, but in the future will perform elementwise comparison\n",
            "  score = y_true == y_pred\n"
          ]
        },
        {
          "output_type": "stream",
          "name": "stdout",
          "text": [
            "Intercept 0.9992755487983782\n",
            "Prediction_local [0.99931355]\n",
            "Right: 0.9993167\n"
          ]
        },
        {
          "output_type": "stream",
          "name": "stderr",
          "text": [
            "/usr/local/lib/python3.10/dist-packages/sklearn/metrics/_classification.py:227: FutureWarning: elementwise comparison failed; returning scalar instead, but in the future will perform elementwise comparison\n",
            "  score = y_true == y_pred\n"
          ]
        },
        {
          "output_type": "stream",
          "name": "stdout",
          "text": [
            "Intercept 0.9991844590758946\n",
            "Prediction_local [0.99922043]\n",
            "Right: 0.99922764\n"
          ]
        },
        {
          "output_type": "stream",
          "name": "stderr",
          "text": [
            "/usr/local/lib/python3.10/dist-packages/sklearn/metrics/_classification.py:227: FutureWarning: elementwise comparison failed; returning scalar instead, but in the future will perform elementwise comparison\n",
            "  score = y_true == y_pred\n"
          ]
        },
        {
          "output_type": "stream",
          "name": "stdout",
          "text": [
            "Intercept 0.9988002748188728\n",
            "Prediction_local [0.99894406]\n",
            "Right: 0.9989594\n"
          ]
        },
        {
          "output_type": "stream",
          "name": "stderr",
          "text": [
            "/usr/local/lib/python3.10/dist-packages/sklearn/metrics/_classification.py:227: FutureWarning: elementwise comparison failed; returning scalar instead, but in the future will perform elementwise comparison\n",
            "  score = y_true == y_pred\n"
          ]
        },
        {
          "output_type": "stream",
          "name": "stdout",
          "text": [
            "Intercept 0.008168660218206255\n",
            "Prediction_local [0.00101185]\n",
            "Right: 0.0009115656\n"
          ]
        },
        {
          "output_type": "stream",
          "name": "stderr",
          "text": [
            "/usr/local/lib/python3.10/dist-packages/sklearn/metrics/_classification.py:227: FutureWarning: elementwise comparison failed; returning scalar instead, but in the future will perform elementwise comparison\n",
            "  score = y_true == y_pred\n"
          ]
        },
        {
          "output_type": "stream",
          "name": "stdout",
          "text": [
            "Intercept 0.998950236635071\n",
            "Prediction_local [0.99903593]\n",
            "Right: 0.9990361\n"
          ]
        },
        {
          "output_type": "stream",
          "name": "stderr",
          "text": [
            "/usr/local/lib/python3.10/dist-packages/sklearn/metrics/_classification.py:227: FutureWarning: elementwise comparison failed; returning scalar instead, but in the future will perform elementwise comparison\n",
            "  score = y_true == y_pred\n"
          ]
        },
        {
          "output_type": "stream",
          "name": "stdout",
          "text": [
            "Intercept 0.2932229693904711\n",
            "Prediction_local [0.95856107]\n",
            "Right: 0.96477824\n"
          ]
        },
        {
          "output_type": "stream",
          "name": "stderr",
          "text": [
            "/usr/local/lib/python3.10/dist-packages/sklearn/metrics/_classification.py:227: FutureWarning: elementwise comparison failed; returning scalar instead, but in the future will perform elementwise comparison\n",
            "  score = y_true == y_pred\n"
          ]
        },
        {
          "output_type": "stream",
          "name": "stdout",
          "text": [
            "Intercept 0.001078787226310528\n",
            "Prediction_local [0.00100234]\n",
            "Right: 0.00096808706\n"
          ]
        },
        {
          "output_type": "stream",
          "name": "stderr",
          "text": [
            "/usr/local/lib/python3.10/dist-packages/sklearn/metrics/_classification.py:227: FutureWarning: elementwise comparison failed; returning scalar instead, but in the future will perform elementwise comparison\n",
            "  score = y_true == y_pred\n"
          ]
        },
        {
          "output_type": "stream",
          "name": "stdout",
          "text": [
            "Intercept 0.0009538925190172547\n",
            "Prediction_local [0.00086214]\n",
            "Right: 0.00084570306\n"
          ]
        },
        {
          "output_type": "stream",
          "name": "stderr",
          "text": [
            "/usr/local/lib/python3.10/dist-packages/sklearn/metrics/_classification.py:227: FutureWarning: elementwise comparison failed; returning scalar instead, but in the future will perform elementwise comparison\n",
            "  score = y_true == y_pred\n"
          ]
        },
        {
          "output_type": "stream",
          "name": "stdout",
          "text": [
            "Intercept 0.0007600482825501758\n",
            "Prediction_local [0.00072077]\n",
            "Right: 0.00071742246\n"
          ]
        },
        {
          "output_type": "stream",
          "name": "stderr",
          "text": [
            "/usr/local/lib/python3.10/dist-packages/sklearn/metrics/_classification.py:227: FutureWarning: elementwise comparison failed; returning scalar instead, but in the future will perform elementwise comparison\n",
            "  score = y_true == y_pred\n"
          ]
        },
        {
          "output_type": "stream",
          "name": "stdout",
          "text": [
            "Intercept 0.03624752216345282\n",
            "Prediction_local [0.00548534]\n",
            "Right: 0.0035938758\n"
          ]
        },
        {
          "output_type": "stream",
          "name": "stderr",
          "text": [
            "/usr/local/lib/python3.10/dist-packages/sklearn/metrics/_classification.py:227: FutureWarning: elementwise comparison failed; returning scalar instead, but in the future will perform elementwise comparison\n",
            "  score = y_true == y_pred\n"
          ]
        },
        {
          "output_type": "stream",
          "name": "stdout",
          "text": [
            "Intercept 0.0009275100485435972\n",
            "Prediction_local [0.00084723]\n",
            "Right: 0.0008371007\n"
          ]
        },
        {
          "output_type": "stream",
          "name": "stderr",
          "text": [
            "/usr/local/lib/python3.10/dist-packages/sklearn/metrics/_classification.py:227: FutureWarning: elementwise comparison failed; returning scalar instead, but in the future will perform elementwise comparison\n",
            "  score = y_true == y_pred\n"
          ]
        },
        {
          "output_type": "stream",
          "name": "stdout",
          "text": [
            "Intercept -0.19850544763251143\n",
            "Prediction_local [0.92418013]\n",
            "Right: 0.91357636\n"
          ]
        },
        {
          "output_type": "stream",
          "name": "stderr",
          "text": [
            "/usr/local/lib/python3.10/dist-packages/sklearn/metrics/_classification.py:227: FutureWarning: elementwise comparison failed; returning scalar instead, but in the future will perform elementwise comparison\n",
            "  score = y_true == y_pred\n"
          ]
        },
        {
          "output_type": "stream",
          "name": "stdout",
          "text": [
            "Intercept 0.9936805942906308\n",
            "Prediction_local [0.99764201]\n",
            "Right: 0.99688977\n"
          ]
        },
        {
          "output_type": "stream",
          "name": "stderr",
          "text": [
            "/usr/local/lib/python3.10/dist-packages/sklearn/metrics/_classification.py:227: FutureWarning: elementwise comparison failed; returning scalar instead, but in the future will perform elementwise comparison\n",
            "  score = y_true == y_pred\n"
          ]
        },
        {
          "output_type": "stream",
          "name": "stdout",
          "text": [
            "Intercept 0.0010229475900394639\n",
            "Prediction_local [0.0007476]\n",
            "Right: 0.00073403446\n"
          ]
        },
        {
          "output_type": "stream",
          "name": "stderr",
          "text": [
            "/usr/local/lib/python3.10/dist-packages/sklearn/metrics/_classification.py:227: FutureWarning: elementwise comparison failed; returning scalar instead, but in the future will perform elementwise comparison\n",
            "  score = y_true == y_pred\n"
          ]
        },
        {
          "output_type": "stream",
          "name": "stdout",
          "text": [
            "Intercept 0.06688962949469081\n",
            "Prediction_local [0.00250358]\n",
            "Right: 0.0021163863\n"
          ]
        },
        {
          "output_type": "stream",
          "name": "stderr",
          "text": [
            "/usr/local/lib/python3.10/dist-packages/sklearn/metrics/_classification.py:227: FutureWarning: elementwise comparison failed; returning scalar instead, but in the future will perform elementwise comparison\n",
            "  score = y_true == y_pred\n"
          ]
        },
        {
          "output_type": "stream",
          "name": "stdout",
          "text": [
            "Intercept 0.0007312492844202358\n",
            "Prediction_local [0.00071617]\n",
            "Right: 0.0007177514\n"
          ]
        },
        {
          "output_type": "stream",
          "name": "stderr",
          "text": [
            "/usr/local/lib/python3.10/dist-packages/sklearn/metrics/_classification.py:227: FutureWarning: elementwise comparison failed; returning scalar instead, but in the future will perform elementwise comparison\n",
            "  score = y_true == y_pred\n"
          ]
        },
        {
          "output_type": "stream",
          "name": "stdout",
          "text": [
            "Intercept 0.9989613731770979\n",
            "Prediction_local [0.99902741]\n",
            "Right: 0.9990294\n"
          ]
        },
        {
          "output_type": "stream",
          "name": "stderr",
          "text": [
            "/usr/local/lib/python3.10/dist-packages/sklearn/metrics/_classification.py:227: FutureWarning: elementwise comparison failed; returning scalar instead, but in the future will perform elementwise comparison\n",
            "  score = y_true == y_pred\n"
          ]
        },
        {
          "output_type": "stream",
          "name": "stdout",
          "text": [
            "Intercept 0.9922683187271742\n",
            "Prediction_local [0.99833456]\n",
            "Right: 0.9984132\n"
          ]
        },
        {
          "output_type": "stream",
          "name": "stderr",
          "text": [
            "/usr/local/lib/python3.10/dist-packages/sklearn/metrics/_classification.py:227: FutureWarning: elementwise comparison failed; returning scalar instead, but in the future will perform elementwise comparison\n",
            "  score = y_true == y_pred\n"
          ]
        },
        {
          "output_type": "stream",
          "name": "stdout",
          "text": [
            "Intercept 0.9972779266870021\n",
            "Prediction_local [0.99867846]\n",
            "Right: 0.9990656\n"
          ]
        },
        {
          "output_type": "stream",
          "name": "stderr",
          "text": [
            "/usr/local/lib/python3.10/dist-packages/sklearn/metrics/_classification.py:227: FutureWarning: elementwise comparison failed; returning scalar instead, but in the future will perform elementwise comparison\n",
            "  score = y_true == y_pred\n"
          ]
        },
        {
          "output_type": "stream",
          "name": "stdout",
          "text": [
            "Intercept 0.998978112178034\n",
            "Prediction_local [0.99922478]\n",
            "Right: 0.99923337\n",
            "Average accuracy for kernel_width 1.0, num_samples 600: 0.0\n",
            "Testing kernel_width: 1.0, num_samples: 700\n"
          ]
        },
        {
          "output_type": "stream",
          "name": "stderr",
          "text": [
            "/usr/local/lib/python3.10/dist-packages/sklearn/metrics/_classification.py:227: FutureWarning: elementwise comparison failed; returning scalar instead, but in the future will perform elementwise comparison\n",
            "  score = y_true == y_pred\n"
          ]
        },
        {
          "output_type": "stream",
          "name": "stdout",
          "text": [
            "Intercept 0.8617740394106389\n",
            "Prediction_local [0.98584448]\n",
            "Right: 0.99611354\n"
          ]
        },
        {
          "output_type": "stream",
          "name": "stderr",
          "text": [
            "/usr/local/lib/python3.10/dist-packages/sklearn/metrics/_classification.py:227: FutureWarning: elementwise comparison failed; returning scalar instead, but in the future will perform elementwise comparison\n",
            "  score = y_true == y_pred\n"
          ]
        },
        {
          "output_type": "stream",
          "name": "stdout",
          "text": [
            "Intercept 0.766137319904486\n",
            "Prediction_local [0.06361836]\n",
            "Right: 0.043278545\n"
          ]
        },
        {
          "output_type": "stream",
          "name": "stderr",
          "text": [
            "/usr/local/lib/python3.10/dist-packages/sklearn/metrics/_classification.py:227: FutureWarning: elementwise comparison failed; returning scalar instead, but in the future will perform elementwise comparison\n",
            "  score = y_true == y_pred\n"
          ]
        },
        {
          "output_type": "stream",
          "name": "stdout",
          "text": [
            "Intercept 0.0007654015827624732\n",
            "Prediction_local [0.00072802]\n",
            "Right: 0.0007274526\n"
          ]
        },
        {
          "output_type": "stream",
          "name": "stderr",
          "text": [
            "/usr/local/lib/python3.10/dist-packages/sklearn/metrics/_classification.py:227: FutureWarning: elementwise comparison failed; returning scalar instead, but in the future will perform elementwise comparison\n",
            "  score = y_true == y_pred\n"
          ]
        },
        {
          "output_type": "stream",
          "name": "stdout",
          "text": [
            "Intercept 0.9988674473756542\n",
            "Prediction_local [0.99891004]\n",
            "Right: 0.998904\n"
          ]
        },
        {
          "output_type": "stream",
          "name": "stderr",
          "text": [
            "/usr/local/lib/python3.10/dist-packages/sklearn/metrics/_classification.py:227: FutureWarning: elementwise comparison failed; returning scalar instead, but in the future will perform elementwise comparison\n",
            "  score = y_true == y_pred\n"
          ]
        },
        {
          "output_type": "stream",
          "name": "stdout",
          "text": [
            "Intercept 0.0007265736749812224\n",
            "Prediction_local [0.00072934]\n",
            "Right: 0.0007344822\n"
          ]
        },
        {
          "output_type": "stream",
          "name": "stderr",
          "text": [
            "/usr/local/lib/python3.10/dist-packages/sklearn/metrics/_classification.py:227: FutureWarning: elementwise comparison failed; returning scalar instead, but in the future will perform elementwise comparison\n",
            "  score = y_true == y_pred\n"
          ]
        },
        {
          "output_type": "stream",
          "name": "stdout",
          "text": [
            "Intercept 0.0016121349064221603\n",
            "Prediction_local [0.0008776]\n",
            "Right: 0.00083768636\n"
          ]
        },
        {
          "output_type": "stream",
          "name": "stderr",
          "text": [
            "/usr/local/lib/python3.10/dist-packages/sklearn/metrics/_classification.py:227: FutureWarning: elementwise comparison failed; returning scalar instead, but in the future will perform elementwise comparison\n",
            "  score = y_true == y_pred\n"
          ]
        },
        {
          "output_type": "stream",
          "name": "stdout",
          "text": [
            "Intercept 0.40221876631090525\n",
            "Prediction_local [0.97576454]\n",
            "Right: 0.9964223\n"
          ]
        },
        {
          "output_type": "stream",
          "name": "stderr",
          "text": [
            "/usr/local/lib/python3.10/dist-packages/sklearn/metrics/_classification.py:227: FutureWarning: elementwise comparison failed; returning scalar instead, but in the future will perform elementwise comparison\n",
            "  score = y_true == y_pred\n"
          ]
        },
        {
          "output_type": "stream",
          "name": "stdout",
          "text": [
            "Intercept -0.2766307107314465\n",
            "Prediction_local [0.88632884]\n",
            "Right: 0.97473156\n"
          ]
        },
        {
          "output_type": "stream",
          "name": "stderr",
          "text": [
            "/usr/local/lib/python3.10/dist-packages/sklearn/metrics/_classification.py:227: FutureWarning: elementwise comparison failed; returning scalar instead, but in the future will perform elementwise comparison\n",
            "  score = y_true == y_pred\n"
          ]
        },
        {
          "output_type": "stream",
          "name": "stdout",
          "text": [
            "Intercept 0.9992678182045664\n",
            "Prediction_local [0.99926396]\n",
            "Right: 0.9992624\n"
          ]
        },
        {
          "output_type": "stream",
          "name": "stderr",
          "text": [
            "/usr/local/lib/python3.10/dist-packages/sklearn/metrics/_classification.py:227: FutureWarning: elementwise comparison failed; returning scalar instead, but in the future will perform elementwise comparison\n",
            "  score = y_true == y_pred\n"
          ]
        },
        {
          "output_type": "stream",
          "name": "stdout",
          "text": [
            "Intercept 0.0008917169752765822\n",
            "Prediction_local [0.00077571]\n",
            "Right: 0.0007707312\n"
          ]
        },
        {
          "output_type": "stream",
          "name": "stderr",
          "text": [
            "/usr/local/lib/python3.10/dist-packages/sklearn/metrics/_classification.py:227: FutureWarning: elementwise comparison failed; returning scalar instead, but in the future will perform elementwise comparison\n",
            "  score = y_true == y_pred\n"
          ]
        },
        {
          "output_type": "stream",
          "name": "stdout",
          "text": [
            "Intercept 0.9992931130389879\n",
            "Prediction_local [0.99931485]\n",
            "Right: 0.9993167\n"
          ]
        },
        {
          "output_type": "stream",
          "name": "stderr",
          "text": [
            "/usr/local/lib/python3.10/dist-packages/sklearn/metrics/_classification.py:227: FutureWarning: elementwise comparison failed; returning scalar instead, but in the future will perform elementwise comparison\n",
            "  score = y_true == y_pred\n"
          ]
        },
        {
          "output_type": "stream",
          "name": "stdout",
          "text": [
            "Intercept 0.9991465685106142\n",
            "Prediction_local [0.99921778]\n",
            "Right: 0.99922764\n"
          ]
        },
        {
          "output_type": "stream",
          "name": "stderr",
          "text": [
            "/usr/local/lib/python3.10/dist-packages/sklearn/metrics/_classification.py:227: FutureWarning: elementwise comparison failed; returning scalar instead, but in the future will perform elementwise comparison\n",
            "  score = y_true == y_pred\n"
          ]
        },
        {
          "output_type": "stream",
          "name": "stdout",
          "text": [
            "Intercept 0.9988574723122693\n",
            "Prediction_local [0.99894928]\n",
            "Right: 0.9989594\n"
          ]
        },
        {
          "output_type": "stream",
          "name": "stderr",
          "text": [
            "/usr/local/lib/python3.10/dist-packages/sklearn/metrics/_classification.py:227: FutureWarning: elementwise comparison failed; returning scalar instead, but in the future will perform elementwise comparison\n",
            "  score = y_true == y_pred\n"
          ]
        },
        {
          "output_type": "stream",
          "name": "stdout",
          "text": [
            "Intercept 0.0016466060337790244\n",
            "Prediction_local [0.00093855]\n",
            "Right: 0.0009115656\n"
          ]
        },
        {
          "output_type": "stream",
          "name": "stderr",
          "text": [
            "/usr/local/lib/python3.10/dist-packages/sklearn/metrics/_classification.py:227: FutureWarning: elementwise comparison failed; returning scalar instead, but in the future will perform elementwise comparison\n",
            "  score = y_true == y_pred\n"
          ]
        },
        {
          "output_type": "stream",
          "name": "stdout",
          "text": [
            "Intercept 0.9989857996959233\n",
            "Prediction_local [0.99903043]\n",
            "Right: 0.9990361\n"
          ]
        },
        {
          "output_type": "stream",
          "name": "stderr",
          "text": [
            "/usr/local/lib/python3.10/dist-packages/sklearn/metrics/_classification.py:227: FutureWarning: elementwise comparison failed; returning scalar instead, but in the future will perform elementwise comparison\n",
            "  score = y_true == y_pred\n"
          ]
        },
        {
          "output_type": "stream",
          "name": "stdout",
          "text": [
            "Intercept 0.07036638703346176\n",
            "Prediction_local [0.95868522]\n",
            "Right: 0.96477824\n"
          ]
        },
        {
          "output_type": "stream",
          "name": "stderr",
          "text": [
            "/usr/local/lib/python3.10/dist-packages/sklearn/metrics/_classification.py:227: FutureWarning: elementwise comparison failed; returning scalar instead, but in the future will perform elementwise comparison\n",
            "  score = y_true == y_pred\n"
          ]
        },
        {
          "output_type": "stream",
          "name": "stdout",
          "text": [
            "Intercept 0.0012335887218007284\n",
            "Prediction_local [0.00099657]\n",
            "Right: 0.00096808706\n"
          ]
        },
        {
          "output_type": "stream",
          "name": "stderr",
          "text": [
            "/usr/local/lib/python3.10/dist-packages/sklearn/metrics/_classification.py:227: FutureWarning: elementwise comparison failed; returning scalar instead, but in the future will perform elementwise comparison\n",
            "  score = y_true == y_pred\n"
          ]
        },
        {
          "output_type": "stream",
          "name": "stdout",
          "text": [
            "Intercept 0.0008738103441533492\n",
            "Prediction_local [0.00085511]\n",
            "Right: 0.00084570306\n"
          ]
        },
        {
          "output_type": "stream",
          "name": "stderr",
          "text": [
            "/usr/local/lib/python3.10/dist-packages/sklearn/metrics/_classification.py:227: FutureWarning: elementwise comparison failed; returning scalar instead, but in the future will perform elementwise comparison\n",
            "  score = y_true == y_pred\n"
          ]
        },
        {
          "output_type": "stream",
          "name": "stdout",
          "text": [
            "Intercept 0.0007976704714298407\n",
            "Prediction_local [0.00071907]\n",
            "Right: 0.00071742246\n"
          ]
        },
        {
          "output_type": "stream",
          "name": "stderr",
          "text": [
            "/usr/local/lib/python3.10/dist-packages/sklearn/metrics/_classification.py:227: FutureWarning: elementwise comparison failed; returning scalar instead, but in the future will perform elementwise comparison\n",
            "  score = y_true == y_pred\n"
          ]
        },
        {
          "output_type": "stream",
          "name": "stdout",
          "text": [
            "Intercept 0.012603429927623297\n",
            "Prediction_local [0.00670229]\n",
            "Right: 0.0035938758\n"
          ]
        },
        {
          "output_type": "stream",
          "name": "stderr",
          "text": [
            "/usr/local/lib/python3.10/dist-packages/sklearn/metrics/_classification.py:227: FutureWarning: elementwise comparison failed; returning scalar instead, but in the future will perform elementwise comparison\n",
            "  score = y_true == y_pred\n"
          ]
        },
        {
          "output_type": "stream",
          "name": "stdout",
          "text": [
            "Intercept 0.0009428693114496083\n",
            "Prediction_local [0.00084709]\n",
            "Right: 0.0008371007\n"
          ]
        },
        {
          "output_type": "stream",
          "name": "stderr",
          "text": [
            "/usr/local/lib/python3.10/dist-packages/sklearn/metrics/_classification.py:227: FutureWarning: elementwise comparison failed; returning scalar instead, but in the future will perform elementwise comparison\n",
            "  score = y_true == y_pred\n"
          ]
        },
        {
          "output_type": "stream",
          "name": "stdout",
          "text": [
            "Intercept -0.24650498720316816\n",
            "Prediction_local [0.89884173]\n",
            "Right: 0.91357636\n"
          ]
        },
        {
          "output_type": "stream",
          "name": "stderr",
          "text": [
            "/usr/local/lib/python3.10/dist-packages/sklearn/metrics/_classification.py:227: FutureWarning: elementwise comparison failed; returning scalar instead, but in the future will perform elementwise comparison\n",
            "  score = y_true == y_pred\n"
          ]
        },
        {
          "output_type": "stream",
          "name": "stdout",
          "text": [
            "Intercept 0.9946561061059283\n",
            "Prediction_local [0.99751147]\n",
            "Right: 0.99688977\n"
          ]
        },
        {
          "output_type": "stream",
          "name": "stderr",
          "text": [
            "/usr/local/lib/python3.10/dist-packages/sklearn/metrics/_classification.py:227: FutureWarning: elementwise comparison failed; returning scalar instead, but in the future will perform elementwise comparison\n",
            "  score = y_true == y_pred\n"
          ]
        },
        {
          "output_type": "stream",
          "name": "stdout",
          "text": [
            "Intercept 0.0009943095085146456\n",
            "Prediction_local [0.00074849]\n",
            "Right: 0.00073403446\n"
          ]
        },
        {
          "output_type": "stream",
          "name": "stderr",
          "text": [
            "/usr/local/lib/python3.10/dist-packages/sklearn/metrics/_classification.py:227: FutureWarning: elementwise comparison failed; returning scalar instead, but in the future will perform elementwise comparison\n",
            "  score = y_true == y_pred\n"
          ]
        },
        {
          "output_type": "stream",
          "name": "stdout",
          "text": [
            "Intercept 0.5340308335675831\n",
            "Prediction_local [0.01213791]\n",
            "Right: 0.0021163863\n"
          ]
        },
        {
          "output_type": "stream",
          "name": "stderr",
          "text": [
            "/usr/local/lib/python3.10/dist-packages/sklearn/metrics/_classification.py:227: FutureWarning: elementwise comparison failed; returning scalar instead, but in the future will perform elementwise comparison\n",
            "  score = y_true == y_pred\n"
          ]
        },
        {
          "output_type": "stream",
          "name": "stdout",
          "text": [
            "Intercept 0.0007001258638740366\n",
            "Prediction_local [0.00071569]\n",
            "Right: 0.0007177514\n"
          ]
        },
        {
          "output_type": "stream",
          "name": "stderr",
          "text": [
            "/usr/local/lib/python3.10/dist-packages/sklearn/metrics/_classification.py:227: FutureWarning: elementwise comparison failed; returning scalar instead, but in the future will perform elementwise comparison\n",
            "  score = y_true == y_pred\n"
          ]
        },
        {
          "output_type": "stream",
          "name": "stdout",
          "text": [
            "Intercept 0.9990115152471531\n",
            "Prediction_local [0.99901549]\n",
            "Right: 0.9990294\n"
          ]
        },
        {
          "output_type": "stream",
          "name": "stderr",
          "text": [
            "/usr/local/lib/python3.10/dist-packages/sklearn/metrics/_classification.py:227: FutureWarning: elementwise comparison failed; returning scalar instead, but in the future will perform elementwise comparison\n",
            "  score = y_true == y_pred\n"
          ]
        },
        {
          "output_type": "stream",
          "name": "stdout",
          "text": [
            "Intercept 0.9894464285319294\n",
            "Prediction_local [0.9980355]\n",
            "Right: 0.9984132\n"
          ]
        },
        {
          "output_type": "stream",
          "name": "stderr",
          "text": [
            "/usr/local/lib/python3.10/dist-packages/sklearn/metrics/_classification.py:227: FutureWarning: elementwise comparison failed; returning scalar instead, but in the future will perform elementwise comparison\n",
            "  score = y_true == y_pred\n"
          ]
        },
        {
          "output_type": "stream",
          "name": "stdout",
          "text": [
            "Intercept 0.9984517755097058\n",
            "Prediction_local [0.99894148]\n",
            "Right: 0.9990656\n"
          ]
        },
        {
          "output_type": "stream",
          "name": "stderr",
          "text": [
            "/usr/local/lib/python3.10/dist-packages/sklearn/metrics/_classification.py:227: FutureWarning: elementwise comparison failed; returning scalar instead, but in the future will perform elementwise comparison\n",
            "  score = y_true == y_pred\n"
          ]
        },
        {
          "output_type": "stream",
          "name": "stdout",
          "text": [
            "Intercept 0.9990185241724148\n",
            "Prediction_local [0.99922655]\n",
            "Right: 0.99923337\n",
            "Average accuracy for kernel_width 1.0, num_samples 700: 0.0\n",
            "Testing kernel_width: 1.0, num_samples: 800\n"
          ]
        },
        {
          "output_type": "stream",
          "name": "stderr",
          "text": [
            "/usr/local/lib/python3.10/dist-packages/sklearn/metrics/_classification.py:227: FutureWarning: elementwise comparison failed; returning scalar instead, but in the future will perform elementwise comparison\n",
            "  score = y_true == y_pred\n"
          ]
        },
        {
          "output_type": "stream",
          "name": "stdout",
          "text": [
            "Intercept 0.8105390069067147\n",
            "Prediction_local [0.98558718]\n",
            "Right: 0.99611354\n"
          ]
        },
        {
          "output_type": "stream",
          "name": "stderr",
          "text": [
            "/usr/local/lib/python3.10/dist-packages/sklearn/metrics/_classification.py:227: FutureWarning: elementwise comparison failed; returning scalar instead, but in the future will perform elementwise comparison\n",
            "  score = y_true == y_pred\n"
          ]
        },
        {
          "output_type": "stream",
          "name": "stdout",
          "text": [
            "Intercept 0.39299326345172814\n",
            "Prediction_local [0.0689627]\n",
            "Right: 0.043278545\n"
          ]
        },
        {
          "output_type": "stream",
          "name": "stderr",
          "text": [
            "/usr/local/lib/python3.10/dist-packages/sklearn/metrics/_classification.py:227: FutureWarning: elementwise comparison failed; returning scalar instead, but in the future will perform elementwise comparison\n",
            "  score = y_true == y_pred\n"
          ]
        },
        {
          "output_type": "stream",
          "name": "stdout",
          "text": [
            "Intercept 0.0007569823544300194\n",
            "Prediction_local [0.00072733]\n",
            "Right: 0.0007274526\n"
          ]
        },
        {
          "output_type": "stream",
          "name": "stderr",
          "text": [
            "/usr/local/lib/python3.10/dist-packages/sklearn/metrics/_classification.py:227: FutureWarning: elementwise comparison failed; returning scalar instead, but in the future will perform elementwise comparison\n",
            "  score = y_true == y_pred\n"
          ]
        },
        {
          "output_type": "stream",
          "name": "stdout",
          "text": [
            "Intercept 0.9985055986365462\n",
            "Prediction_local [0.99891351]\n",
            "Right: 0.998904\n"
          ]
        },
        {
          "output_type": "stream",
          "name": "stderr",
          "text": [
            "/usr/local/lib/python3.10/dist-packages/sklearn/metrics/_classification.py:227: FutureWarning: elementwise comparison failed; returning scalar instead, but in the future will perform elementwise comparison\n",
            "  score = y_true == y_pred\n"
          ]
        },
        {
          "output_type": "stream",
          "name": "stdout",
          "text": [
            "Intercept 0.000687542652403374\n",
            "Prediction_local [0.00072923]\n",
            "Right: 0.0007344822\n"
          ]
        },
        {
          "output_type": "stream",
          "name": "stderr",
          "text": [
            "/usr/local/lib/python3.10/dist-packages/sklearn/metrics/_classification.py:227: FutureWarning: elementwise comparison failed; returning scalar instead, but in the future will perform elementwise comparison\n",
            "  score = y_true == y_pred\n"
          ]
        },
        {
          "output_type": "stream",
          "name": "stdout",
          "text": [
            "Intercept 0.0009012324687893759\n",
            "Prediction_local [0.00085844]\n",
            "Right: 0.00083768636\n"
          ]
        },
        {
          "output_type": "stream",
          "name": "stderr",
          "text": [
            "/usr/local/lib/python3.10/dist-packages/sklearn/metrics/_classification.py:227: FutureWarning: elementwise comparison failed; returning scalar instead, but in the future will perform elementwise comparison\n",
            "  score = y_true == y_pred\n"
          ]
        },
        {
          "output_type": "stream",
          "name": "stdout",
          "text": [
            "Intercept 0.1578526513206573\n",
            "Prediction_local [0.95923148]\n",
            "Right: 0.9964223\n"
          ]
        },
        {
          "output_type": "stream",
          "name": "stderr",
          "text": [
            "/usr/local/lib/python3.10/dist-packages/sklearn/metrics/_classification.py:227: FutureWarning: elementwise comparison failed; returning scalar instead, but in the future will perform elementwise comparison\n",
            "  score = y_true == y_pred\n"
          ]
        },
        {
          "output_type": "stream",
          "name": "stdout",
          "text": [
            "Intercept -0.09956703323584037\n",
            "Prediction_local [0.92052213]\n",
            "Right: 0.97473156\n"
          ]
        },
        {
          "output_type": "stream",
          "name": "stderr",
          "text": [
            "/usr/local/lib/python3.10/dist-packages/sklearn/metrics/_classification.py:227: FutureWarning: elementwise comparison failed; returning scalar instead, but in the future will perform elementwise comparison\n",
            "  score = y_true == y_pred\n"
          ]
        },
        {
          "output_type": "stream",
          "name": "stdout",
          "text": [
            "Intercept 0.9992868928077553\n",
            "Prediction_local [0.99926457]\n",
            "Right: 0.9992624\n"
          ]
        },
        {
          "output_type": "stream",
          "name": "stderr",
          "text": [
            "/usr/local/lib/python3.10/dist-packages/sklearn/metrics/_classification.py:227: FutureWarning: elementwise comparison failed; returning scalar instead, but in the future will perform elementwise comparison\n",
            "  score = y_true == y_pred\n"
          ]
        },
        {
          "output_type": "stream",
          "name": "stdout",
          "text": [
            "Intercept 0.0008432469771190939\n",
            "Prediction_local [0.00076881]\n",
            "Right: 0.0007707312\n"
          ]
        },
        {
          "output_type": "stream",
          "name": "stderr",
          "text": [
            "/usr/local/lib/python3.10/dist-packages/sklearn/metrics/_classification.py:227: FutureWarning: elementwise comparison failed; returning scalar instead, but in the future will perform elementwise comparison\n",
            "  score = y_true == y_pred\n"
          ]
        },
        {
          "output_type": "stream",
          "name": "stdout",
          "text": [
            "Intercept 0.9992974746206548\n",
            "Prediction_local [0.99931438]\n",
            "Right: 0.9993167\n"
          ]
        },
        {
          "output_type": "stream",
          "name": "stderr",
          "text": [
            "/usr/local/lib/python3.10/dist-packages/sklearn/metrics/_classification.py:227: FutureWarning: elementwise comparison failed; returning scalar instead, but in the future will perform elementwise comparison\n",
            "  score = y_true == y_pred\n"
          ]
        },
        {
          "output_type": "stream",
          "name": "stdout",
          "text": [
            "Intercept 0.999134859802511\n",
            "Prediction_local [0.99921882]\n",
            "Right: 0.99922764\n"
          ]
        },
        {
          "output_type": "stream",
          "name": "stderr",
          "text": [
            "/usr/local/lib/python3.10/dist-packages/sklearn/metrics/_classification.py:227: FutureWarning: elementwise comparison failed; returning scalar instead, but in the future will perform elementwise comparison\n",
            "  score = y_true == y_pred\n"
          ]
        },
        {
          "output_type": "stream",
          "name": "stdout",
          "text": [
            "Intercept 0.9988259642409484\n",
            "Prediction_local [0.99894941]\n",
            "Right: 0.9989594\n"
          ]
        },
        {
          "output_type": "stream",
          "name": "stderr",
          "text": [
            "/usr/local/lib/python3.10/dist-packages/sklearn/metrics/_classification.py:227: FutureWarning: elementwise comparison failed; returning scalar instead, but in the future will perform elementwise comparison\n",
            "  score = y_true == y_pred\n"
          ]
        },
        {
          "output_type": "stream",
          "name": "stdout",
          "text": [
            "Intercept 0.0012059109667869948\n",
            "Prediction_local [0.00093127]\n",
            "Right: 0.0009115656\n"
          ]
        },
        {
          "output_type": "stream",
          "name": "stderr",
          "text": [
            "/usr/local/lib/python3.10/dist-packages/sklearn/metrics/_classification.py:227: FutureWarning: elementwise comparison failed; returning scalar instead, but in the future will perform elementwise comparison\n",
            "  score = y_true == y_pred\n"
          ]
        },
        {
          "output_type": "stream",
          "name": "stdout",
          "text": [
            "Intercept 0.9990532036589986\n",
            "Prediction_local [0.9990333]\n",
            "Right: 0.9990361\n"
          ]
        },
        {
          "output_type": "stream",
          "name": "stderr",
          "text": [
            "/usr/local/lib/python3.10/dist-packages/sklearn/metrics/_classification.py:227: FutureWarning: elementwise comparison failed; returning scalar instead, but in the future will perform elementwise comparison\n",
            "  score = y_true == y_pred\n"
          ]
        },
        {
          "output_type": "stream",
          "name": "stdout",
          "text": [
            "Intercept 0.0754313039381459\n",
            "Prediction_local [0.94208664]\n",
            "Right: 0.96477824\n"
          ]
        },
        {
          "output_type": "stream",
          "name": "stderr",
          "text": [
            "/usr/local/lib/python3.10/dist-packages/sklearn/metrics/_classification.py:227: FutureWarning: elementwise comparison failed; returning scalar instead, but in the future will perform elementwise comparison\n",
            "  score = y_true == y_pred\n"
          ]
        },
        {
          "output_type": "stream",
          "name": "stdout",
          "text": [
            "Intercept 0.001421183676314283\n",
            "Prediction_local [0.00099939]\n",
            "Right: 0.00096808706\n"
          ]
        },
        {
          "output_type": "stream",
          "name": "stderr",
          "text": [
            "/usr/local/lib/python3.10/dist-packages/sklearn/metrics/_classification.py:227: FutureWarning: elementwise comparison failed; returning scalar instead, but in the future will perform elementwise comparison\n",
            "  score = y_true == y_pred\n"
          ]
        },
        {
          "output_type": "stream",
          "name": "stdout",
          "text": [
            "Intercept 0.0009836037344695657\n",
            "Prediction_local [0.00084934]\n",
            "Right: 0.00084570306\n"
          ]
        },
        {
          "output_type": "stream",
          "name": "stderr",
          "text": [
            "/usr/local/lib/python3.10/dist-packages/sklearn/metrics/_classification.py:227: FutureWarning: elementwise comparison failed; returning scalar instead, but in the future will perform elementwise comparison\n",
            "  score = y_true == y_pred\n"
          ]
        },
        {
          "output_type": "stream",
          "name": "stdout",
          "text": [
            "Intercept 0.000837035713470294\n",
            "Prediction_local [0.00072005]\n",
            "Right: 0.00071742246\n"
          ]
        },
        {
          "output_type": "stream",
          "name": "stderr",
          "text": [
            "/usr/local/lib/python3.10/dist-packages/sklearn/metrics/_classification.py:227: FutureWarning: elementwise comparison failed; returning scalar instead, but in the future will perform elementwise comparison\n",
            "  score = y_true == y_pred\n"
          ]
        },
        {
          "output_type": "stream",
          "name": "stdout",
          "text": [
            "Intercept 0.01755233208906795\n",
            "Prediction_local [0.00655064]\n",
            "Right: 0.0035938758\n"
          ]
        },
        {
          "output_type": "stream",
          "name": "stderr",
          "text": [
            "/usr/local/lib/python3.10/dist-packages/sklearn/metrics/_classification.py:227: FutureWarning: elementwise comparison failed; returning scalar instead, but in the future will perform elementwise comparison\n",
            "  score = y_true == y_pred\n"
          ]
        },
        {
          "output_type": "stream",
          "name": "stdout",
          "text": [
            "Intercept 0.0009492265461128633\n",
            "Prediction_local [0.00084117]\n",
            "Right: 0.0008371007\n"
          ]
        },
        {
          "output_type": "stream",
          "name": "stderr",
          "text": [
            "/usr/local/lib/python3.10/dist-packages/sklearn/metrics/_classification.py:227: FutureWarning: elementwise comparison failed; returning scalar instead, but in the future will perform elementwise comparison\n",
            "  score = y_true == y_pred\n"
          ]
        },
        {
          "output_type": "stream",
          "name": "stdout",
          "text": [
            "Intercept -0.5573422328489726\n",
            "Prediction_local [0.93436798]\n",
            "Right: 0.91357636\n"
          ]
        },
        {
          "output_type": "stream",
          "name": "stderr",
          "text": [
            "/usr/local/lib/python3.10/dist-packages/sklearn/metrics/_classification.py:227: FutureWarning: elementwise comparison failed; returning scalar instead, but in the future will perform elementwise comparison\n",
            "  score = y_true == y_pred\n"
          ]
        },
        {
          "output_type": "stream",
          "name": "stdout",
          "text": [
            "Intercept 0.996190686382566\n",
            "Prediction_local [0.99772322]\n",
            "Right: 0.99688977\n"
          ]
        },
        {
          "output_type": "stream",
          "name": "stderr",
          "text": [
            "/usr/local/lib/python3.10/dist-packages/sklearn/metrics/_classification.py:227: FutureWarning: elementwise comparison failed; returning scalar instead, but in the future will perform elementwise comparison\n",
            "  score = y_true == y_pred\n"
          ]
        },
        {
          "output_type": "stream",
          "name": "stdout",
          "text": [
            "Intercept 0.0010176111226130886\n",
            "Prediction_local [0.00075239]\n",
            "Right: 0.00073403446\n"
          ]
        },
        {
          "output_type": "stream",
          "name": "stderr",
          "text": [
            "/usr/local/lib/python3.10/dist-packages/sklearn/metrics/_classification.py:227: FutureWarning: elementwise comparison failed; returning scalar instead, but in the future will perform elementwise comparison\n",
            "  score = y_true == y_pred\n"
          ]
        },
        {
          "output_type": "stream",
          "name": "stdout",
          "text": [
            "Intercept 0.07953678549369275\n",
            "Prediction_local [0.00349626]\n",
            "Right: 0.0021163863\n"
          ]
        },
        {
          "output_type": "stream",
          "name": "stderr",
          "text": [
            "/usr/local/lib/python3.10/dist-packages/sklearn/metrics/_classification.py:227: FutureWarning: elementwise comparison failed; returning scalar instead, but in the future will perform elementwise comparison\n",
            "  score = y_true == y_pred\n"
          ]
        },
        {
          "output_type": "stream",
          "name": "stdout",
          "text": [
            "Intercept 0.0007070199995942269\n",
            "Prediction_local [0.00071401]\n",
            "Right: 0.0007177514\n"
          ]
        },
        {
          "output_type": "stream",
          "name": "stderr",
          "text": [
            "/usr/local/lib/python3.10/dist-packages/sklearn/metrics/_classification.py:227: FutureWarning: elementwise comparison failed; returning scalar instead, but in the future will perform elementwise comparison\n",
            "  score = y_true == y_pred\n"
          ]
        },
        {
          "output_type": "stream",
          "name": "stdout",
          "text": [
            "Intercept 0.999026502262709\n",
            "Prediction_local [0.9990135]\n",
            "Right: 0.9990294\n"
          ]
        },
        {
          "output_type": "stream",
          "name": "stderr",
          "text": [
            "/usr/local/lib/python3.10/dist-packages/sklearn/metrics/_classification.py:227: FutureWarning: elementwise comparison failed; returning scalar instead, but in the future will perform elementwise comparison\n",
            "  score = y_true == y_pred\n"
          ]
        },
        {
          "output_type": "stream",
          "name": "stdout",
          "text": [
            "Intercept 0.09722701949914236\n",
            "Prediction_local [0.99333269]\n",
            "Right: 0.9984132\n"
          ]
        },
        {
          "output_type": "stream",
          "name": "stderr",
          "text": [
            "/usr/local/lib/python3.10/dist-packages/sklearn/metrics/_classification.py:227: FutureWarning: elementwise comparison failed; returning scalar instead, but in the future will perform elementwise comparison\n",
            "  score = y_true == y_pred\n"
          ]
        },
        {
          "output_type": "stream",
          "name": "stdout",
          "text": [
            "Intercept 0.99891861029356\n",
            "Prediction_local [0.99902532]\n",
            "Right: 0.9990656\n"
          ]
        },
        {
          "output_type": "stream",
          "name": "stderr",
          "text": [
            "/usr/local/lib/python3.10/dist-packages/sklearn/metrics/_classification.py:227: FutureWarning: elementwise comparison failed; returning scalar instead, but in the future will perform elementwise comparison\n",
            "  score = y_true == y_pred\n"
          ]
        },
        {
          "output_type": "stream",
          "name": "stdout",
          "text": [
            "Intercept 0.9991550093368212\n",
            "Prediction_local [0.99923019]\n",
            "Right: 0.99923337\n",
            "Average accuracy for kernel_width 1.0, num_samples 800: 0.0\n",
            "Testing kernel_width: 1.0, num_samples: 900\n"
          ]
        },
        {
          "output_type": "stream",
          "name": "stderr",
          "text": [
            "/usr/local/lib/python3.10/dist-packages/sklearn/metrics/_classification.py:227: FutureWarning: elementwise comparison failed; returning scalar instead, but in the future will perform elementwise comparison\n",
            "  score = y_true == y_pred\n"
          ]
        },
        {
          "output_type": "stream",
          "name": "stdout",
          "text": [
            "Intercept 0.9297524652311422\n",
            "Prediction_local [0.99167546]\n",
            "Right: 0.99611354\n"
          ]
        },
        {
          "output_type": "stream",
          "name": "stderr",
          "text": [
            "/usr/local/lib/python3.10/dist-packages/sklearn/metrics/_classification.py:227: FutureWarning: elementwise comparison failed; returning scalar instead, but in the future will perform elementwise comparison\n",
            "  score = y_true == y_pred\n"
          ]
        },
        {
          "output_type": "stream",
          "name": "stdout",
          "text": [
            "Intercept 0.9329915247787728\n",
            "Prediction_local [0.08785229]\n",
            "Right: 0.043278545\n"
          ]
        },
        {
          "output_type": "stream",
          "name": "stderr",
          "text": [
            "/usr/local/lib/python3.10/dist-packages/sklearn/metrics/_classification.py:227: FutureWarning: elementwise comparison failed; returning scalar instead, but in the future will perform elementwise comparison\n",
            "  score = y_true == y_pred\n"
          ]
        },
        {
          "output_type": "stream",
          "name": "stdout",
          "text": [
            "Intercept 0.0007805407476333297\n",
            "Prediction_local [0.00073151]\n",
            "Right: 0.0007274526\n"
          ]
        },
        {
          "output_type": "stream",
          "name": "stderr",
          "text": [
            "/usr/local/lib/python3.10/dist-packages/sklearn/metrics/_classification.py:227: FutureWarning: elementwise comparison failed; returning scalar instead, but in the future will perform elementwise comparison\n",
            "  score = y_true == y_pred\n"
          ]
        },
        {
          "output_type": "stream",
          "name": "stdout",
          "text": [
            "Intercept 0.9984849128073815\n",
            "Prediction_local [0.99891291]\n",
            "Right: 0.998904\n"
          ]
        },
        {
          "output_type": "stream",
          "name": "stderr",
          "text": [
            "/usr/local/lib/python3.10/dist-packages/sklearn/metrics/_classification.py:227: FutureWarning: elementwise comparison failed; returning scalar instead, but in the future will perform elementwise comparison\n",
            "  score = y_true == y_pred\n"
          ]
        },
        {
          "output_type": "stream",
          "name": "stdout",
          "text": [
            "Intercept 0.0007375471311346126\n",
            "Prediction_local [0.00072927]\n",
            "Right: 0.0007344822\n"
          ]
        },
        {
          "output_type": "stream",
          "name": "stderr",
          "text": [
            "/usr/local/lib/python3.10/dist-packages/sklearn/metrics/_classification.py:227: FutureWarning: elementwise comparison failed; returning scalar instead, but in the future will perform elementwise comparison\n",
            "  score = y_true == y_pred\n"
          ]
        },
        {
          "output_type": "stream",
          "name": "stdout",
          "text": [
            "Intercept 0.0029142966144200134\n",
            "Prediction_local [0.00092254]\n",
            "Right: 0.00083768636\n"
          ]
        },
        {
          "output_type": "stream",
          "name": "stderr",
          "text": [
            "/usr/local/lib/python3.10/dist-packages/sklearn/metrics/_classification.py:227: FutureWarning: elementwise comparison failed; returning scalar instead, but in the future will perform elementwise comparison\n",
            "  score = y_true == y_pred\n"
          ]
        },
        {
          "output_type": "stream",
          "name": "stdout",
          "text": [
            "Intercept -0.23591126251114636\n",
            "Prediction_local [0.96367026]\n",
            "Right: 0.9964223\n"
          ]
        },
        {
          "output_type": "stream",
          "name": "stderr",
          "text": [
            "/usr/local/lib/python3.10/dist-packages/sklearn/metrics/_classification.py:227: FutureWarning: elementwise comparison failed; returning scalar instead, but in the future will perform elementwise comparison\n",
            "  score = y_true == y_pred\n"
          ]
        },
        {
          "output_type": "stream",
          "name": "stdout",
          "text": [
            "Intercept -0.060542333616024346\n",
            "Prediction_local [0.89673485]\n",
            "Right: 0.97473156\n"
          ]
        },
        {
          "output_type": "stream",
          "name": "stderr",
          "text": [
            "/usr/local/lib/python3.10/dist-packages/sklearn/metrics/_classification.py:227: FutureWarning: elementwise comparison failed; returning scalar instead, but in the future will perform elementwise comparison\n",
            "  score = y_true == y_pred\n"
          ]
        },
        {
          "output_type": "stream",
          "name": "stdout",
          "text": [
            "Intercept 0.9992603802938927\n",
            "Prediction_local [0.9992613]\n",
            "Right: 0.9992624\n"
          ]
        },
        {
          "output_type": "stream",
          "name": "stderr",
          "text": [
            "/usr/local/lib/python3.10/dist-packages/sklearn/metrics/_classification.py:227: FutureWarning: elementwise comparison failed; returning scalar instead, but in the future will perform elementwise comparison\n",
            "  score = y_true == y_pred\n"
          ]
        },
        {
          "output_type": "stream",
          "name": "stdout",
          "text": [
            "Intercept 0.0009651775892314284\n",
            "Prediction_local [0.00077922]\n",
            "Right: 0.0007707312\n"
          ]
        },
        {
          "output_type": "stream",
          "name": "stderr",
          "text": [
            "/usr/local/lib/python3.10/dist-packages/sklearn/metrics/_classification.py:227: FutureWarning: elementwise comparison failed; returning scalar instead, but in the future will perform elementwise comparison\n",
            "  score = y_true == y_pred\n"
          ]
        },
        {
          "output_type": "stream",
          "name": "stdout",
          "text": [
            "Intercept 0.999281843158345\n",
            "Prediction_local [0.99931513]\n",
            "Right: 0.9993167\n"
          ]
        },
        {
          "output_type": "stream",
          "name": "stderr",
          "text": [
            "/usr/local/lib/python3.10/dist-packages/sklearn/metrics/_classification.py:227: FutureWarning: elementwise comparison failed; returning scalar instead, but in the future will perform elementwise comparison\n",
            "  score = y_true == y_pred\n"
          ]
        },
        {
          "output_type": "stream",
          "name": "stdout",
          "text": [
            "Intercept 0.9991545942603195\n",
            "Prediction_local [0.99921736]\n",
            "Right: 0.99922764\n"
          ]
        },
        {
          "output_type": "stream",
          "name": "stderr",
          "text": [
            "/usr/local/lib/python3.10/dist-packages/sklearn/metrics/_classification.py:227: FutureWarning: elementwise comparison failed; returning scalar instead, but in the future will perform elementwise comparison\n",
            "  score = y_true == y_pred\n"
          ]
        },
        {
          "output_type": "stream",
          "name": "stdout",
          "text": [
            "Intercept 0.9990031227290584\n",
            "Prediction_local [0.99895196]\n",
            "Right: 0.9989594\n"
          ]
        },
        {
          "output_type": "stream",
          "name": "stderr",
          "text": [
            "/usr/local/lib/python3.10/dist-packages/sklearn/metrics/_classification.py:227: FutureWarning: elementwise comparison failed; returning scalar instead, but in the future will perform elementwise comparison\n",
            "  score = y_true == y_pred\n"
          ]
        },
        {
          "output_type": "stream",
          "name": "stdout",
          "text": [
            "Intercept 0.07590923156349197\n",
            "Prediction_local [0.0033534]\n",
            "Right: 0.0009115656\n"
          ]
        },
        {
          "output_type": "stream",
          "name": "stderr",
          "text": [
            "/usr/local/lib/python3.10/dist-packages/sklearn/metrics/_classification.py:227: FutureWarning: elementwise comparison failed; returning scalar instead, but in the future will perform elementwise comparison\n",
            "  score = y_true == y_pred\n"
          ]
        },
        {
          "output_type": "stream",
          "name": "stdout",
          "text": [
            "Intercept 0.9990053009785745\n",
            "Prediction_local [0.99903056]\n",
            "Right: 0.9990361\n"
          ]
        },
        {
          "output_type": "stream",
          "name": "stderr",
          "text": [
            "/usr/local/lib/python3.10/dist-packages/sklearn/metrics/_classification.py:227: FutureWarning: elementwise comparison failed; returning scalar instead, but in the future will perform elementwise comparison\n",
            "  score = y_true == y_pred\n"
          ]
        },
        {
          "output_type": "stream",
          "name": "stdout",
          "text": [
            "Intercept 0.7420618934919132\n",
            "Prediction_local [0.97375695]\n",
            "Right: 0.96477824\n"
          ]
        },
        {
          "output_type": "stream",
          "name": "stderr",
          "text": [
            "/usr/local/lib/python3.10/dist-packages/sklearn/metrics/_classification.py:227: FutureWarning: elementwise comparison failed; returning scalar instead, but in the future will perform elementwise comparison\n",
            "  score = y_true == y_pred\n"
          ]
        },
        {
          "output_type": "stream",
          "name": "stdout",
          "text": [
            "Intercept 0.001301852744042189\n",
            "Prediction_local [0.00100341]\n",
            "Right: 0.00096808706\n"
          ]
        },
        {
          "output_type": "stream",
          "name": "stderr",
          "text": [
            "/usr/local/lib/python3.10/dist-packages/sklearn/metrics/_classification.py:227: FutureWarning: elementwise comparison failed; returning scalar instead, but in the future will perform elementwise comparison\n",
            "  score = y_true == y_pred\n"
          ]
        },
        {
          "output_type": "stream",
          "name": "stdout",
          "text": [
            "Intercept 0.000917717677877069\n",
            "Prediction_local [0.00085392]\n",
            "Right: 0.00084570306\n"
          ]
        },
        {
          "output_type": "stream",
          "name": "stderr",
          "text": [
            "/usr/local/lib/python3.10/dist-packages/sklearn/metrics/_classification.py:227: FutureWarning: elementwise comparison failed; returning scalar instead, but in the future will perform elementwise comparison\n",
            "  score = y_true == y_pred\n"
          ]
        },
        {
          "output_type": "stream",
          "name": "stdout",
          "text": [
            "Intercept 0.0008443230409196953\n",
            "Prediction_local [0.00072195]\n",
            "Right: 0.00071742246\n"
          ]
        },
        {
          "output_type": "stream",
          "name": "stderr",
          "text": [
            "/usr/local/lib/python3.10/dist-packages/sklearn/metrics/_classification.py:227: FutureWarning: elementwise comparison failed; returning scalar instead, but in the future will perform elementwise comparison\n",
            "  score = y_true == y_pred\n"
          ]
        },
        {
          "output_type": "stream",
          "name": "stdout",
          "text": [
            "Intercept 0.07837316321088764\n",
            "Prediction_local [0.00609863]\n",
            "Right: 0.0035938758\n"
          ]
        },
        {
          "output_type": "stream",
          "name": "stderr",
          "text": [
            "/usr/local/lib/python3.10/dist-packages/sklearn/metrics/_classification.py:227: FutureWarning: elementwise comparison failed; returning scalar instead, but in the future will perform elementwise comparison\n",
            "  score = y_true == y_pred\n"
          ]
        },
        {
          "output_type": "stream",
          "name": "stdout",
          "text": [
            "Intercept 0.0009332422624889775\n",
            "Prediction_local [0.00084531]\n",
            "Right: 0.0008371007\n"
          ]
        },
        {
          "output_type": "stream",
          "name": "stderr",
          "text": [
            "/usr/local/lib/python3.10/dist-packages/sklearn/metrics/_classification.py:227: FutureWarning: elementwise comparison failed; returning scalar instead, but in the future will perform elementwise comparison\n",
            "  score = y_true == y_pred\n"
          ]
        },
        {
          "output_type": "stream",
          "name": "stdout",
          "text": [
            "Intercept -0.8642748093335739\n",
            "Prediction_local [0.89987281]\n",
            "Right: 0.91357636\n"
          ]
        },
        {
          "output_type": "stream",
          "name": "stderr",
          "text": [
            "/usr/local/lib/python3.10/dist-packages/sklearn/metrics/_classification.py:227: FutureWarning: elementwise comparison failed; returning scalar instead, but in the future will perform elementwise comparison\n",
            "  score = y_true == y_pred\n"
          ]
        },
        {
          "output_type": "stream",
          "name": "stdout",
          "text": [
            "Intercept 0.9986980075794937\n",
            "Prediction_local [0.99778038]\n",
            "Right: 0.99688977\n"
          ]
        },
        {
          "output_type": "stream",
          "name": "stderr",
          "text": [
            "/usr/local/lib/python3.10/dist-packages/sklearn/metrics/_classification.py:227: FutureWarning: elementwise comparison failed; returning scalar instead, but in the future will perform elementwise comparison\n",
            "  score = y_true == y_pred\n"
          ]
        },
        {
          "output_type": "stream",
          "name": "stdout",
          "text": [
            "Intercept 0.0012659385934426712\n",
            "Prediction_local [0.00076227]\n",
            "Right: 0.00073403446\n"
          ]
        },
        {
          "output_type": "stream",
          "name": "stderr",
          "text": [
            "/usr/local/lib/python3.10/dist-packages/sklearn/metrics/_classification.py:227: FutureWarning: elementwise comparison failed; returning scalar instead, but in the future will perform elementwise comparison\n",
            "  score = y_true == y_pred\n"
          ]
        },
        {
          "output_type": "stream",
          "name": "stdout",
          "text": [
            "Intercept 0.07948938854592238\n",
            "Prediction_local [0.00384363]\n",
            "Right: 0.0021163863\n"
          ]
        },
        {
          "output_type": "stream",
          "name": "stderr",
          "text": [
            "/usr/local/lib/python3.10/dist-packages/sklearn/metrics/_classification.py:227: FutureWarning: elementwise comparison failed; returning scalar instead, but in the future will perform elementwise comparison\n",
            "  score = y_true == y_pred\n"
          ]
        },
        {
          "output_type": "stream",
          "name": "stdout",
          "text": [
            "Intercept 0.0007182280506780782\n",
            "Prediction_local [0.00071685]\n",
            "Right: 0.0007177514\n"
          ]
        },
        {
          "output_type": "stream",
          "name": "stderr",
          "text": [
            "/usr/local/lib/python3.10/dist-packages/sklearn/metrics/_classification.py:227: FutureWarning: elementwise comparison failed; returning scalar instead, but in the future will perform elementwise comparison\n",
            "  score = y_true == y_pred\n"
          ]
        },
        {
          "output_type": "stream",
          "name": "stdout",
          "text": [
            "Intercept 0.9988507533194028\n",
            "Prediction_local [0.99902514]\n",
            "Right: 0.9990294\n"
          ]
        },
        {
          "output_type": "stream",
          "name": "stderr",
          "text": [
            "/usr/local/lib/python3.10/dist-packages/sklearn/metrics/_classification.py:227: FutureWarning: elementwise comparison failed; returning scalar instead, but in the future will perform elementwise comparison\n",
            "  score = y_true == y_pred\n"
          ]
        },
        {
          "output_type": "stream",
          "name": "stdout",
          "text": [
            "Intercept 0.3815905245655191\n",
            "Prediction_local [0.98179716]\n",
            "Right: 0.9984132\n"
          ]
        },
        {
          "output_type": "stream",
          "name": "stderr",
          "text": [
            "/usr/local/lib/python3.10/dist-packages/sklearn/metrics/_classification.py:227: FutureWarning: elementwise comparison failed; returning scalar instead, but in the future will perform elementwise comparison\n",
            "  score = y_true == y_pred\n"
          ]
        },
        {
          "output_type": "stream",
          "name": "stdout",
          "text": [
            "Intercept 0.99715967367906\n",
            "Prediction_local [0.99876645]\n",
            "Right: 0.9990656\n"
          ]
        },
        {
          "output_type": "stream",
          "name": "stderr",
          "text": [
            "/usr/local/lib/python3.10/dist-packages/sklearn/metrics/_classification.py:227: FutureWarning: elementwise comparison failed; returning scalar instead, but in the future will perform elementwise comparison\n",
            "  score = y_true == y_pred\n"
          ]
        },
        {
          "output_type": "stream",
          "name": "stdout",
          "text": [
            "Intercept 0.9991679074382328\n",
            "Prediction_local [0.99922768]\n",
            "Right: 0.99923337\n",
            "Average accuracy for kernel_width 1.0, num_samples 900: 0.0\n",
            "Testing kernel_width: 1.0, num_samples: 1000\n"
          ]
        },
        {
          "output_type": "stream",
          "name": "stderr",
          "text": [
            "/usr/local/lib/python3.10/dist-packages/sklearn/metrics/_classification.py:227: FutureWarning: elementwise comparison failed; returning scalar instead, but in the future will perform elementwise comparison\n",
            "  score = y_true == y_pred\n"
          ]
        },
        {
          "output_type": "stream",
          "name": "stdout",
          "text": [
            "Intercept 0.8216205107343519\n",
            "Prediction_local [0.99112986]\n",
            "Right: 0.99611354\n"
          ]
        },
        {
          "output_type": "stream",
          "name": "stderr",
          "text": [
            "/usr/local/lib/python3.10/dist-packages/sklearn/metrics/_classification.py:227: FutureWarning: elementwise comparison failed; returning scalar instead, but in the future will perform elementwise comparison\n",
            "  score = y_true == y_pred\n"
          ]
        },
        {
          "output_type": "stream",
          "name": "stdout",
          "text": [
            "Intercept 0.654179775891406\n",
            "Prediction_local [0.05979394]\n",
            "Right: 0.043278545\n"
          ]
        },
        {
          "output_type": "stream",
          "name": "stderr",
          "text": [
            "/usr/local/lib/python3.10/dist-packages/sklearn/metrics/_classification.py:227: FutureWarning: elementwise comparison failed; returning scalar instead, but in the future will perform elementwise comparison\n",
            "  score = y_true == y_pred\n"
          ]
        },
        {
          "output_type": "stream",
          "name": "stdout",
          "text": [
            "Intercept 0.0008080817664187206\n",
            "Prediction_local [0.00072711]\n",
            "Right: 0.0007274526\n"
          ]
        },
        {
          "output_type": "stream",
          "name": "stderr",
          "text": [
            "/usr/local/lib/python3.10/dist-packages/sklearn/metrics/_classification.py:227: FutureWarning: elementwise comparison failed; returning scalar instead, but in the future will perform elementwise comparison\n",
            "  score = y_true == y_pred\n"
          ]
        },
        {
          "output_type": "stream",
          "name": "stdout",
          "text": [
            "Intercept 0.9987938842968681\n",
            "Prediction_local [0.99892001]\n",
            "Right: 0.998904\n"
          ]
        },
        {
          "output_type": "stream",
          "name": "stderr",
          "text": [
            "/usr/local/lib/python3.10/dist-packages/sklearn/metrics/_classification.py:227: FutureWarning: elementwise comparison failed; returning scalar instead, but in the future will perform elementwise comparison\n",
            "  score = y_true == y_pred\n"
          ]
        },
        {
          "output_type": "stream",
          "name": "stdout",
          "text": [
            "Intercept 0.0007134561827502541\n",
            "Prediction_local [0.00072705]\n",
            "Right: 0.0007344822\n"
          ]
        },
        {
          "output_type": "stream",
          "name": "stderr",
          "text": [
            "/usr/local/lib/python3.10/dist-packages/sklearn/metrics/_classification.py:227: FutureWarning: elementwise comparison failed; returning scalar instead, but in the future will perform elementwise comparison\n",
            "  score = y_true == y_pred\n"
          ]
        },
        {
          "output_type": "stream",
          "name": "stdout",
          "text": [
            "Intercept 0.0034303486611174934\n",
            "Prediction_local [0.00096196]\n",
            "Right: 0.00083768636\n"
          ]
        },
        {
          "output_type": "stream",
          "name": "stderr",
          "text": [
            "/usr/local/lib/python3.10/dist-packages/sklearn/metrics/_classification.py:227: FutureWarning: elementwise comparison failed; returning scalar instead, but in the future will perform elementwise comparison\n",
            "  score = y_true == y_pred\n"
          ]
        },
        {
          "output_type": "stream",
          "name": "stdout",
          "text": [
            "Intercept 0.45019740976904365\n",
            "Prediction_local [0.97817432]\n",
            "Right: 0.9964223\n"
          ]
        },
        {
          "output_type": "stream",
          "name": "stderr",
          "text": [
            "/usr/local/lib/python3.10/dist-packages/sklearn/metrics/_classification.py:227: FutureWarning: elementwise comparison failed; returning scalar instead, but in the future will perform elementwise comparison\n",
            "  score = y_true == y_pred\n"
          ]
        },
        {
          "output_type": "stream",
          "name": "stdout",
          "text": [
            "Intercept -0.03389132688748342\n",
            "Prediction_local [0.90539543]\n",
            "Right: 0.97473156\n"
          ]
        },
        {
          "output_type": "stream",
          "name": "stderr",
          "text": [
            "/usr/local/lib/python3.10/dist-packages/sklearn/metrics/_classification.py:227: FutureWarning: elementwise comparison failed; returning scalar instead, but in the future will perform elementwise comparison\n",
            "  score = y_true == y_pred\n"
          ]
        },
        {
          "output_type": "stream",
          "name": "stdout",
          "text": [
            "Intercept 0.9992710309753585\n",
            "Prediction_local [0.9992631]\n",
            "Right: 0.9992624\n"
          ]
        },
        {
          "output_type": "stream",
          "name": "stderr",
          "text": [
            "/usr/local/lib/python3.10/dist-packages/sklearn/metrics/_classification.py:227: FutureWarning: elementwise comparison failed; returning scalar instead, but in the future will perform elementwise comparison\n",
            "  score = y_true == y_pred\n"
          ]
        },
        {
          "output_type": "stream",
          "name": "stdout",
          "text": [
            "Intercept 0.0008867855124747226\n",
            "Prediction_local [0.00077837]\n",
            "Right: 0.0007707312\n"
          ]
        },
        {
          "output_type": "stream",
          "name": "stderr",
          "text": [
            "/usr/local/lib/python3.10/dist-packages/sklearn/metrics/_classification.py:227: FutureWarning: elementwise comparison failed; returning scalar instead, but in the future will perform elementwise comparison\n",
            "  score = y_true == y_pred\n"
          ]
        },
        {
          "output_type": "stream",
          "name": "stdout",
          "text": [
            "Intercept 0.9992957942089621\n",
            "Prediction_local [0.99931443]\n",
            "Right: 0.9993167\n"
          ]
        },
        {
          "output_type": "stream",
          "name": "stderr",
          "text": [
            "/usr/local/lib/python3.10/dist-packages/sklearn/metrics/_classification.py:227: FutureWarning: elementwise comparison failed; returning scalar instead, but in the future will perform elementwise comparison\n",
            "  score = y_true == y_pred\n"
          ]
        },
        {
          "output_type": "stream",
          "name": "stdout",
          "text": [
            "Intercept 0.9991049615836959\n",
            "Prediction_local [0.99922018]\n",
            "Right: 0.99922764\n"
          ]
        },
        {
          "output_type": "stream",
          "name": "stderr",
          "text": [
            "/usr/local/lib/python3.10/dist-packages/sklearn/metrics/_classification.py:227: FutureWarning: elementwise comparison failed; returning scalar instead, but in the future will perform elementwise comparison\n",
            "  score = y_true == y_pred\n"
          ]
        },
        {
          "output_type": "stream",
          "name": "stdout",
          "text": [
            "Intercept 0.9989514243206177\n",
            "Prediction_local [0.99896273]\n",
            "Right: 0.9989594\n"
          ]
        },
        {
          "output_type": "stream",
          "name": "stderr",
          "text": [
            "/usr/local/lib/python3.10/dist-packages/sklearn/metrics/_classification.py:227: FutureWarning: elementwise comparison failed; returning scalar instead, but in the future will perform elementwise comparison\n",
            "  score = y_true == y_pred\n"
          ]
        },
        {
          "output_type": "stream",
          "name": "stdout",
          "text": [
            "Intercept 0.01635342190443811\n",
            "Prediction_local [0.00112163]\n",
            "Right: 0.0009115656\n"
          ]
        },
        {
          "output_type": "stream",
          "name": "stderr",
          "text": [
            "/usr/local/lib/python3.10/dist-packages/sklearn/metrics/_classification.py:227: FutureWarning: elementwise comparison failed; returning scalar instead, but in the future will perform elementwise comparison\n",
            "  score = y_true == y_pred\n"
          ]
        },
        {
          "output_type": "stream",
          "name": "stdout",
          "text": [
            "Intercept 0.9989154432021995\n",
            "Prediction_local [0.99903175]\n",
            "Right: 0.9990361\n"
          ]
        },
        {
          "output_type": "stream",
          "name": "stderr",
          "text": [
            "/usr/local/lib/python3.10/dist-packages/sklearn/metrics/_classification.py:227: FutureWarning: elementwise comparison failed; returning scalar instead, but in the future will perform elementwise comparison\n",
            "  score = y_true == y_pred\n"
          ]
        },
        {
          "output_type": "stream",
          "name": "stdout",
          "text": [
            "Intercept -0.12500151624117428\n",
            "Prediction_local [0.93582646]\n",
            "Right: 0.96477824\n"
          ]
        },
        {
          "output_type": "stream",
          "name": "stderr",
          "text": [
            "/usr/local/lib/python3.10/dist-packages/sklearn/metrics/_classification.py:227: FutureWarning: elementwise comparison failed; returning scalar instead, but in the future will perform elementwise comparison\n",
            "  score = y_true == y_pred\n"
          ]
        },
        {
          "output_type": "stream",
          "name": "stdout",
          "text": [
            "Intercept 0.001184742910569961\n",
            "Prediction_local [0.00099101]\n",
            "Right: 0.00096808706\n"
          ]
        },
        {
          "output_type": "stream",
          "name": "stderr",
          "text": [
            "/usr/local/lib/python3.10/dist-packages/sklearn/metrics/_classification.py:227: FutureWarning: elementwise comparison failed; returning scalar instead, but in the future will perform elementwise comparison\n",
            "  score = y_true == y_pred\n"
          ]
        },
        {
          "output_type": "stream",
          "name": "stdout",
          "text": [
            "Intercept 0.001106357709835373\n",
            "Prediction_local [0.00085624]\n",
            "Right: 0.00084570306\n"
          ]
        },
        {
          "output_type": "stream",
          "name": "stderr",
          "text": [
            "/usr/local/lib/python3.10/dist-packages/sklearn/metrics/_classification.py:227: FutureWarning: elementwise comparison failed; returning scalar instead, but in the future will perform elementwise comparison\n",
            "  score = y_true == y_pred\n"
          ]
        },
        {
          "output_type": "stream",
          "name": "stdout",
          "text": [
            "Intercept 0.0007703535349729319\n",
            "Prediction_local [0.00071842]\n",
            "Right: 0.00071742246\n"
          ]
        },
        {
          "output_type": "stream",
          "name": "stderr",
          "text": [
            "/usr/local/lib/python3.10/dist-packages/sklearn/metrics/_classification.py:227: FutureWarning: elementwise comparison failed; returning scalar instead, but in the future will perform elementwise comparison\n",
            "  score = y_true == y_pred\n"
          ]
        },
        {
          "output_type": "stream",
          "name": "stdout",
          "text": [
            "Intercept 0.06571129465432843\n",
            "Prediction_local [0.00498371]\n",
            "Right: 0.0035938758\n"
          ]
        },
        {
          "output_type": "stream",
          "name": "stderr",
          "text": [
            "/usr/local/lib/python3.10/dist-packages/sklearn/metrics/_classification.py:227: FutureWarning: elementwise comparison failed; returning scalar instead, but in the future will perform elementwise comparison\n",
            "  score = y_true == y_pred\n"
          ]
        },
        {
          "output_type": "stream",
          "name": "stdout",
          "text": [
            "Intercept 0.0008745596390332845\n",
            "Prediction_local [0.00084631]\n",
            "Right: 0.0008371007\n"
          ]
        },
        {
          "output_type": "stream",
          "name": "stderr",
          "text": [
            "/usr/local/lib/python3.10/dist-packages/sklearn/metrics/_classification.py:227: FutureWarning: elementwise comparison failed; returning scalar instead, but in the future will perform elementwise comparison\n",
            "  score = y_true == y_pred\n"
          ]
        },
        {
          "output_type": "stream",
          "name": "stdout",
          "text": [
            "Intercept -0.44296821102173256\n",
            "Prediction_local [0.93965321]\n",
            "Right: 0.91357636\n"
          ]
        },
        {
          "output_type": "stream",
          "name": "stderr",
          "text": [
            "/usr/local/lib/python3.10/dist-packages/sklearn/metrics/_classification.py:227: FutureWarning: elementwise comparison failed; returning scalar instead, but in the future will perform elementwise comparison\n",
            "  score = y_true == y_pred\n"
          ]
        },
        {
          "output_type": "stream",
          "name": "stdout",
          "text": [
            "Intercept 0.9731712991280798\n",
            "Prediction_local [0.99739579]\n",
            "Right: 0.99688977\n"
          ]
        },
        {
          "output_type": "stream",
          "name": "stderr",
          "text": [
            "/usr/local/lib/python3.10/dist-packages/sklearn/metrics/_classification.py:227: FutureWarning: elementwise comparison failed; returning scalar instead, but in the future will perform elementwise comparison\n",
            "  score = y_true == y_pred\n"
          ]
        },
        {
          "output_type": "stream",
          "name": "stdout",
          "text": [
            "Intercept 0.0010080334317479566\n",
            "Prediction_local [0.00075238]\n",
            "Right: 0.00073403446\n"
          ]
        },
        {
          "output_type": "stream",
          "name": "stderr",
          "text": [
            "/usr/local/lib/python3.10/dist-packages/sklearn/metrics/_classification.py:227: FutureWarning: elementwise comparison failed; returning scalar instead, but in the future will perform elementwise comparison\n",
            "  score = y_true == y_pred\n"
          ]
        },
        {
          "output_type": "stream",
          "name": "stdout",
          "text": [
            "Intercept 0.22734738056240367\n",
            "Prediction_local [0.00403995]\n",
            "Right: 0.0021163863\n"
          ]
        },
        {
          "output_type": "stream",
          "name": "stderr",
          "text": [
            "/usr/local/lib/python3.10/dist-packages/sklearn/metrics/_classification.py:227: FutureWarning: elementwise comparison failed; returning scalar instead, but in the future will perform elementwise comparison\n",
            "  score = y_true == y_pred\n"
          ]
        },
        {
          "output_type": "stream",
          "name": "stdout",
          "text": [
            "Intercept 0.000699780790619211\n",
            "Prediction_local [0.00071335]\n",
            "Right: 0.0007177514\n"
          ]
        },
        {
          "output_type": "stream",
          "name": "stderr",
          "text": [
            "/usr/local/lib/python3.10/dist-packages/sklearn/metrics/_classification.py:227: FutureWarning: elementwise comparison failed; returning scalar instead, but in the future will perform elementwise comparison\n",
            "  score = y_true == y_pred\n"
          ]
        },
        {
          "output_type": "stream",
          "name": "stdout",
          "text": [
            "Intercept 0.9990311589993466\n",
            "Prediction_local [0.99902681]\n",
            "Right: 0.9990294\n"
          ]
        },
        {
          "output_type": "stream",
          "name": "stderr",
          "text": [
            "/usr/local/lib/python3.10/dist-packages/sklearn/metrics/_classification.py:227: FutureWarning: elementwise comparison failed; returning scalar instead, but in the future will perform elementwise comparison\n",
            "  score = y_true == y_pred\n"
          ]
        },
        {
          "output_type": "stream",
          "name": "stdout",
          "text": [
            "Intercept 0.15629792503171092\n",
            "Prediction_local [0.9963439]\n",
            "Right: 0.9984132\n"
          ]
        },
        {
          "output_type": "stream",
          "name": "stderr",
          "text": [
            "/usr/local/lib/python3.10/dist-packages/sklearn/metrics/_classification.py:227: FutureWarning: elementwise comparison failed; returning scalar instead, but in the future will perform elementwise comparison\n",
            "  score = y_true == y_pred\n"
          ]
        },
        {
          "output_type": "stream",
          "name": "stdout",
          "text": [
            "Intercept 0.9988921248630576\n",
            "Prediction_local [0.99902632]\n",
            "Right: 0.9990656\n"
          ]
        },
        {
          "output_type": "stream",
          "name": "stderr",
          "text": [
            "/usr/local/lib/python3.10/dist-packages/sklearn/metrics/_classification.py:227: FutureWarning: elementwise comparison failed; returning scalar instead, but in the future will perform elementwise comparison\n",
            "  score = y_true == y_pred\n"
          ]
        },
        {
          "output_type": "stream",
          "name": "stdout",
          "text": [
            "Intercept 0.9985754086732326\n",
            "Prediction_local [0.99922156]\n",
            "Right: 0.99923337\n",
            "Average accuracy for kernel_width 1.0, num_samples 1000: 0.0\n",
            "Testing kernel_width: 1.0, num_samples: 1100\n"
          ]
        },
        {
          "output_type": "stream",
          "name": "stderr",
          "text": [
            "/usr/local/lib/python3.10/dist-packages/sklearn/metrics/_classification.py:227: FutureWarning: elementwise comparison failed; returning scalar instead, but in the future will perform elementwise comparison\n",
            "  score = y_true == y_pred\n"
          ]
        },
        {
          "output_type": "stream",
          "name": "stdout",
          "text": [
            "Intercept 0.8840520206783589\n",
            "Prediction_local [0.99106593]\n",
            "Right: 0.99611354\n"
          ]
        },
        {
          "output_type": "stream",
          "name": "stderr",
          "text": [
            "/usr/local/lib/python3.10/dist-packages/sklearn/metrics/_classification.py:227: FutureWarning: elementwise comparison failed; returning scalar instead, but in the future will perform elementwise comparison\n",
            "  score = y_true == y_pred\n"
          ]
        },
        {
          "output_type": "stream",
          "name": "stdout",
          "text": [
            "Intercept 0.6369368843636279\n",
            "Prediction_local [0.07179562]\n",
            "Right: 0.043278545\n"
          ]
        },
        {
          "output_type": "stream",
          "name": "stderr",
          "text": [
            "/usr/local/lib/python3.10/dist-packages/sklearn/metrics/_classification.py:227: FutureWarning: elementwise comparison failed; returning scalar instead, but in the future will perform elementwise comparison\n",
            "  score = y_true == y_pred\n"
          ]
        },
        {
          "output_type": "stream",
          "name": "stdout",
          "text": [
            "Intercept 0.000858916638685185\n",
            "Prediction_local [0.00072848]\n",
            "Right: 0.0007274526\n"
          ]
        },
        {
          "output_type": "stream",
          "name": "stderr",
          "text": [
            "/usr/local/lib/python3.10/dist-packages/sklearn/metrics/_classification.py:227: FutureWarning: elementwise comparison failed; returning scalar instead, but in the future will perform elementwise comparison\n",
            "  score = y_true == y_pred\n"
          ]
        },
        {
          "output_type": "stream",
          "name": "stdout",
          "text": [
            "Intercept 0.9987213759340936\n",
            "Prediction_local [0.99892048]\n",
            "Right: 0.998904\n"
          ]
        },
        {
          "output_type": "stream",
          "name": "stderr",
          "text": [
            "/usr/local/lib/python3.10/dist-packages/sklearn/metrics/_classification.py:227: FutureWarning: elementwise comparison failed; returning scalar instead, but in the future will perform elementwise comparison\n",
            "  score = y_true == y_pred\n"
          ]
        },
        {
          "output_type": "stream",
          "name": "stdout",
          "text": [
            "Intercept 0.0007300790746983353\n",
            "Prediction_local [0.00072679]\n",
            "Right: 0.0007344822\n"
          ]
        },
        {
          "output_type": "stream",
          "name": "stderr",
          "text": [
            "/usr/local/lib/python3.10/dist-packages/sklearn/metrics/_classification.py:227: FutureWarning: elementwise comparison failed; returning scalar instead, but in the future will perform elementwise comparison\n",
            "  score = y_true == y_pred\n"
          ]
        },
        {
          "output_type": "stream",
          "name": "stdout",
          "text": [
            "Intercept 0.002077759111426309\n",
            "Prediction_local [0.00092057]\n",
            "Right: 0.00083768636\n"
          ]
        },
        {
          "output_type": "stream",
          "name": "stderr",
          "text": [
            "/usr/local/lib/python3.10/dist-packages/sklearn/metrics/_classification.py:227: FutureWarning: elementwise comparison failed; returning scalar instead, but in the future will perform elementwise comparison\n",
            "  score = y_true == y_pred\n"
          ]
        },
        {
          "output_type": "stream",
          "name": "stdout",
          "text": [
            "Intercept -0.5101874477570215\n",
            "Prediction_local [0.96241916]\n",
            "Right: 0.9964223\n"
          ]
        },
        {
          "output_type": "stream",
          "name": "stderr",
          "text": [
            "/usr/local/lib/python3.10/dist-packages/sklearn/metrics/_classification.py:227: FutureWarning: elementwise comparison failed; returning scalar instead, but in the future will perform elementwise comparison\n",
            "  score = y_true == y_pred\n"
          ]
        },
        {
          "output_type": "stream",
          "name": "stdout",
          "text": [
            "Intercept 0.06416154428669951\n",
            "Prediction_local [0.90830653]\n",
            "Right: 0.97473156\n"
          ]
        },
        {
          "output_type": "stream",
          "name": "stderr",
          "text": [
            "/usr/local/lib/python3.10/dist-packages/sklearn/metrics/_classification.py:227: FutureWarning: elementwise comparison failed; returning scalar instead, but in the future will perform elementwise comparison\n",
            "  score = y_true == y_pred\n"
          ]
        },
        {
          "output_type": "stream",
          "name": "stdout",
          "text": [
            "Intercept 0.9992689620943955\n",
            "Prediction_local [0.99926204]\n",
            "Right: 0.9992624\n"
          ]
        },
        {
          "output_type": "stream",
          "name": "stderr",
          "text": [
            "/usr/local/lib/python3.10/dist-packages/sklearn/metrics/_classification.py:227: FutureWarning: elementwise comparison failed; returning scalar instead, but in the future will perform elementwise comparison\n",
            "  score = y_true == y_pred\n"
          ]
        },
        {
          "output_type": "stream",
          "name": "stdout",
          "text": [
            "Intercept 0.00099935770763698\n",
            "Prediction_local [0.00078326]\n",
            "Right: 0.0007707312\n"
          ]
        },
        {
          "output_type": "stream",
          "name": "stderr",
          "text": [
            "/usr/local/lib/python3.10/dist-packages/sklearn/metrics/_classification.py:227: FutureWarning: elementwise comparison failed; returning scalar instead, but in the future will perform elementwise comparison\n",
            "  score = y_true == y_pred\n"
          ]
        },
        {
          "output_type": "stream",
          "name": "stdout",
          "text": [
            "Intercept 0.9992830376494263\n",
            "Prediction_local [0.99931553]\n",
            "Right: 0.9993167\n"
          ]
        },
        {
          "output_type": "stream",
          "name": "stderr",
          "text": [
            "/usr/local/lib/python3.10/dist-packages/sklearn/metrics/_classification.py:227: FutureWarning: elementwise comparison failed; returning scalar instead, but in the future will perform elementwise comparison\n",
            "  score = y_true == y_pred\n"
          ]
        },
        {
          "output_type": "stream",
          "name": "stdout",
          "text": [
            "Intercept 0.999144720067403\n",
            "Prediction_local [0.9992191]\n",
            "Right: 0.99922764\n"
          ]
        },
        {
          "output_type": "stream",
          "name": "stderr",
          "text": [
            "/usr/local/lib/python3.10/dist-packages/sklearn/metrics/_classification.py:227: FutureWarning: elementwise comparison failed; returning scalar instead, but in the future will perform elementwise comparison\n",
            "  score = y_true == y_pred\n"
          ]
        },
        {
          "output_type": "stream",
          "name": "stdout",
          "text": [
            "Intercept 0.9989124385089699\n",
            "Prediction_local [0.99895426]\n",
            "Right: 0.9989594\n"
          ]
        },
        {
          "output_type": "stream",
          "name": "stderr",
          "text": [
            "/usr/local/lib/python3.10/dist-packages/sklearn/metrics/_classification.py:227: FutureWarning: elementwise comparison failed; returning scalar instead, but in the future will perform elementwise comparison\n",
            "  score = y_true == y_pred\n"
          ]
        },
        {
          "output_type": "stream",
          "name": "stdout",
          "text": [
            "Intercept 0.29763102249434276\n",
            "Prediction_local [0.00453261]\n",
            "Right: 0.0009115656\n"
          ]
        },
        {
          "output_type": "stream",
          "name": "stderr",
          "text": [
            "/usr/local/lib/python3.10/dist-packages/sklearn/metrics/_classification.py:227: FutureWarning: elementwise comparison failed; returning scalar instead, but in the future will perform elementwise comparison\n",
            "  score = y_true == y_pred\n"
          ]
        },
        {
          "output_type": "stream",
          "name": "stdout",
          "text": [
            "Intercept 0.9989340853231097\n",
            "Prediction_local [0.9990389]\n",
            "Right: 0.9990361\n"
          ]
        },
        {
          "output_type": "stream",
          "name": "stderr",
          "text": [
            "/usr/local/lib/python3.10/dist-packages/sklearn/metrics/_classification.py:227: FutureWarning: elementwise comparison failed; returning scalar instead, but in the future will perform elementwise comparison\n",
            "  score = y_true == y_pred\n"
          ]
        },
        {
          "output_type": "stream",
          "name": "stdout",
          "text": [
            "Intercept -0.3652183859769478\n",
            "Prediction_local [0.94003048]\n",
            "Right: 0.96477824\n"
          ]
        },
        {
          "output_type": "stream",
          "name": "stderr",
          "text": [
            "/usr/local/lib/python3.10/dist-packages/sklearn/metrics/_classification.py:227: FutureWarning: elementwise comparison failed; returning scalar instead, but in the future will perform elementwise comparison\n",
            "  score = y_true == y_pred\n"
          ]
        },
        {
          "output_type": "stream",
          "name": "stdout",
          "text": [
            "Intercept 0.0014966841194909543\n",
            "Prediction_local [0.0010126]\n",
            "Right: 0.00096808706\n"
          ]
        },
        {
          "output_type": "stream",
          "name": "stderr",
          "text": [
            "/usr/local/lib/python3.10/dist-packages/sklearn/metrics/_classification.py:227: FutureWarning: elementwise comparison failed; returning scalar instead, but in the future will perform elementwise comparison\n",
            "  score = y_true == y_pred\n"
          ]
        },
        {
          "output_type": "stream",
          "name": "stdout",
          "text": [
            "Intercept 0.0009888161229888758\n",
            "Prediction_local [0.00086283]\n",
            "Right: 0.00084570306\n"
          ]
        },
        {
          "output_type": "stream",
          "name": "stderr",
          "text": [
            "/usr/local/lib/python3.10/dist-packages/sklearn/metrics/_classification.py:227: FutureWarning: elementwise comparison failed; returning scalar instead, but in the future will perform elementwise comparison\n",
            "  score = y_true == y_pred\n"
          ]
        },
        {
          "output_type": "stream",
          "name": "stdout",
          "text": [
            "Intercept 0.0009181636405971689\n",
            "Prediction_local [0.00072538]\n",
            "Right: 0.00071742246\n"
          ]
        },
        {
          "output_type": "stream",
          "name": "stderr",
          "text": [
            "/usr/local/lib/python3.10/dist-packages/sklearn/metrics/_classification.py:227: FutureWarning: elementwise comparison failed; returning scalar instead, but in the future will perform elementwise comparison\n",
            "  score = y_true == y_pred\n"
          ]
        },
        {
          "output_type": "stream",
          "name": "stdout",
          "text": [
            "Intercept 0.02600205674882124\n",
            "Prediction_local [0.00459476]\n",
            "Right: 0.0035938758\n"
          ]
        },
        {
          "output_type": "stream",
          "name": "stderr",
          "text": [
            "/usr/local/lib/python3.10/dist-packages/sklearn/metrics/_classification.py:227: FutureWarning: elementwise comparison failed; returning scalar instead, but in the future will perform elementwise comparison\n",
            "  score = y_true == y_pred\n"
          ]
        },
        {
          "output_type": "stream",
          "name": "stdout",
          "text": [
            "Intercept 0.0008869445507236314\n",
            "Prediction_local [0.00084805]\n",
            "Right: 0.0008371007\n"
          ]
        },
        {
          "output_type": "stream",
          "name": "stderr",
          "text": [
            "/usr/local/lib/python3.10/dist-packages/sklearn/metrics/_classification.py:227: FutureWarning: elementwise comparison failed; returning scalar instead, but in the future will perform elementwise comparison\n",
            "  score = y_true == y_pred\n"
          ]
        },
        {
          "output_type": "stream",
          "name": "stdout",
          "text": [
            "Intercept -0.26692191933850573\n",
            "Prediction_local [0.93876553]\n",
            "Right: 0.91357636\n"
          ]
        },
        {
          "output_type": "stream",
          "name": "stderr",
          "text": [
            "/usr/local/lib/python3.10/dist-packages/sklearn/metrics/_classification.py:227: FutureWarning: elementwise comparison failed; returning scalar instead, but in the future will perform elementwise comparison\n",
            "  score = y_true == y_pred\n"
          ]
        },
        {
          "output_type": "stream",
          "name": "stdout",
          "text": [
            "Intercept 0.9847212426153326\n",
            "Prediction_local [0.99730234]\n",
            "Right: 0.99688977\n"
          ]
        },
        {
          "output_type": "stream",
          "name": "stderr",
          "text": [
            "/usr/local/lib/python3.10/dist-packages/sklearn/metrics/_classification.py:227: FutureWarning: elementwise comparison failed; returning scalar instead, but in the future will perform elementwise comparison\n",
            "  score = y_true == y_pred\n"
          ]
        },
        {
          "output_type": "stream",
          "name": "stdout",
          "text": [
            "Intercept 0.0009294966957681787\n",
            "Prediction_local [0.00074856]\n",
            "Right: 0.00073403446\n"
          ]
        },
        {
          "output_type": "stream",
          "name": "stderr",
          "text": [
            "/usr/local/lib/python3.10/dist-packages/sklearn/metrics/_classification.py:227: FutureWarning: elementwise comparison failed; returning scalar instead, but in the future will perform elementwise comparison\n",
            "  score = y_true == y_pred\n"
          ]
        },
        {
          "output_type": "stream",
          "name": "stdout",
          "text": [
            "Intercept 0.21926340115984308\n",
            "Prediction_local [0.00400221]\n",
            "Right: 0.0021163863\n"
          ]
        },
        {
          "output_type": "stream",
          "name": "stderr",
          "text": [
            "/usr/local/lib/python3.10/dist-packages/sklearn/metrics/_classification.py:227: FutureWarning: elementwise comparison failed; returning scalar instead, but in the future will perform elementwise comparison\n",
            "  score = y_true == y_pred\n"
          ]
        },
        {
          "output_type": "stream",
          "name": "stdout",
          "text": [
            "Intercept 0.0007094868206004532\n",
            "Prediction_local [0.00071669]\n",
            "Right: 0.0007177514\n"
          ]
        },
        {
          "output_type": "stream",
          "name": "stderr",
          "text": [
            "/usr/local/lib/python3.10/dist-packages/sklearn/metrics/_classification.py:227: FutureWarning: elementwise comparison failed; returning scalar instead, but in the future will perform elementwise comparison\n",
            "  score = y_true == y_pred\n"
          ]
        },
        {
          "output_type": "stream",
          "name": "stdout",
          "text": [
            "Intercept 0.9989654322579209\n",
            "Prediction_local [0.99901445]\n",
            "Right: 0.9990294\n"
          ]
        },
        {
          "output_type": "stream",
          "name": "stderr",
          "text": [
            "/usr/local/lib/python3.10/dist-packages/sklearn/metrics/_classification.py:227: FutureWarning: elementwise comparison failed; returning scalar instead, but in the future will perform elementwise comparison\n",
            "  score = y_true == y_pred\n"
          ]
        },
        {
          "output_type": "stream",
          "name": "stdout",
          "text": [
            "Intercept 0.20740354309254794\n",
            "Prediction_local [0.99253467]\n",
            "Right: 0.9984132\n"
          ]
        },
        {
          "output_type": "stream",
          "name": "stderr",
          "text": [
            "/usr/local/lib/python3.10/dist-packages/sklearn/metrics/_classification.py:227: FutureWarning: elementwise comparison failed; returning scalar instead, but in the future will perform elementwise comparison\n",
            "  score = y_true == y_pred\n"
          ]
        },
        {
          "output_type": "stream",
          "name": "stdout",
          "text": [
            "Intercept 0.9888174351887073\n",
            "Prediction_local [0.99860653]\n",
            "Right: 0.9990656\n"
          ]
        },
        {
          "output_type": "stream",
          "name": "stderr",
          "text": [
            "/usr/local/lib/python3.10/dist-packages/sklearn/metrics/_classification.py:227: FutureWarning: elementwise comparison failed; returning scalar instead, but in the future will perform elementwise comparison\n",
            "  score = y_true == y_pred\n"
          ]
        },
        {
          "output_type": "stream",
          "name": "stdout",
          "text": [
            "Intercept 0.9991275404671118\n",
            "Prediction_local [0.99922898]\n",
            "Right: 0.99923337\n",
            "Average accuracy for kernel_width 1.0, num_samples 1100: 0.0\n",
            "Testing kernel_width: 1.0, num_samples: 1200\n"
          ]
        },
        {
          "output_type": "stream",
          "name": "stderr",
          "text": [
            "/usr/local/lib/python3.10/dist-packages/sklearn/metrics/_classification.py:227: FutureWarning: elementwise comparison failed; returning scalar instead, but in the future will perform elementwise comparison\n",
            "  score = y_true == y_pred\n"
          ]
        },
        {
          "output_type": "stream",
          "name": "stdout",
          "text": [
            "Intercept 0.7370138729382666\n",
            "Prediction_local [0.98559171]\n",
            "Right: 0.99611354\n"
          ]
        },
        {
          "output_type": "stream",
          "name": "stderr",
          "text": [
            "/usr/local/lib/python3.10/dist-packages/sklearn/metrics/_classification.py:227: FutureWarning: elementwise comparison failed; returning scalar instead, but in the future will perform elementwise comparison\n",
            "  score = y_true == y_pred\n"
          ]
        },
        {
          "output_type": "stream",
          "name": "stdout",
          "text": [
            "Intercept 0.46211352914433196\n",
            "Prediction_local [0.07728275]\n",
            "Right: 0.043278545\n"
          ]
        },
        {
          "output_type": "stream",
          "name": "stderr",
          "text": [
            "/usr/local/lib/python3.10/dist-packages/sklearn/metrics/_classification.py:227: FutureWarning: elementwise comparison failed; returning scalar instead, but in the future will perform elementwise comparison\n",
            "  score = y_true == y_pred\n"
          ]
        },
        {
          "output_type": "stream",
          "name": "stdout",
          "text": [
            "Intercept 0.000873141526894855\n",
            "Prediction_local [0.00072806]\n",
            "Right: 0.0007274526\n"
          ]
        },
        {
          "output_type": "stream",
          "name": "stderr",
          "text": [
            "/usr/local/lib/python3.10/dist-packages/sklearn/metrics/_classification.py:227: FutureWarning: elementwise comparison failed; returning scalar instead, but in the future will perform elementwise comparison\n",
            "  score = y_true == y_pred\n"
          ]
        },
        {
          "output_type": "stream",
          "name": "stdout",
          "text": [
            "Intercept 0.9987955734545461\n",
            "Prediction_local [0.99891063]\n",
            "Right: 0.998904\n"
          ]
        },
        {
          "output_type": "stream",
          "name": "stderr",
          "text": [
            "/usr/local/lib/python3.10/dist-packages/sklearn/metrics/_classification.py:227: FutureWarning: elementwise comparison failed; returning scalar instead, but in the future will perform elementwise comparison\n",
            "  score = y_true == y_pred\n"
          ]
        },
        {
          "output_type": "stream",
          "name": "stdout",
          "text": [
            "Intercept 0.0007056422927982698\n",
            "Prediction_local [0.00072722]\n",
            "Right: 0.0007344822\n"
          ]
        },
        {
          "output_type": "stream",
          "name": "stderr",
          "text": [
            "/usr/local/lib/python3.10/dist-packages/sklearn/metrics/_classification.py:227: FutureWarning: elementwise comparison failed; returning scalar instead, but in the future will perform elementwise comparison\n",
            "  score = y_true == y_pred\n"
          ]
        },
        {
          "output_type": "stream",
          "name": "stdout",
          "text": [
            "Intercept 0.0010010384448036825\n",
            "Prediction_local [0.00085052]\n",
            "Right: 0.00083768636\n"
          ]
        },
        {
          "output_type": "stream",
          "name": "stderr",
          "text": [
            "/usr/local/lib/python3.10/dist-packages/sklearn/metrics/_classification.py:227: FutureWarning: elementwise comparison failed; returning scalar instead, but in the future will perform elementwise comparison\n",
            "  score = y_true == y_pred\n"
          ]
        },
        {
          "output_type": "stream",
          "name": "stdout",
          "text": [
            "Intercept 0.028008910608011472\n",
            "Prediction_local [0.96436361]\n",
            "Right: 0.9964223\n"
          ]
        },
        {
          "output_type": "stream",
          "name": "stderr",
          "text": [
            "/usr/local/lib/python3.10/dist-packages/sklearn/metrics/_classification.py:227: FutureWarning: elementwise comparison failed; returning scalar instead, but in the future will perform elementwise comparison\n",
            "  score = y_true == y_pred\n"
          ]
        },
        {
          "output_type": "stream",
          "name": "stdout",
          "text": [
            "Intercept 0.10260261758016498\n",
            "Prediction_local [0.92312561]\n",
            "Right: 0.97473156\n"
          ]
        },
        {
          "output_type": "stream",
          "name": "stderr",
          "text": [
            "/usr/local/lib/python3.10/dist-packages/sklearn/metrics/_classification.py:227: FutureWarning: elementwise comparison failed; returning scalar instead, but in the future will perform elementwise comparison\n",
            "  score = y_true == y_pred\n"
          ]
        },
        {
          "output_type": "stream",
          "name": "stdout",
          "text": [
            "Intercept 0.9992712048724885\n",
            "Prediction_local [0.99926331]\n",
            "Right: 0.9992624\n"
          ]
        },
        {
          "output_type": "stream",
          "name": "stderr",
          "text": [
            "/usr/local/lib/python3.10/dist-packages/sklearn/metrics/_classification.py:227: FutureWarning: elementwise comparison failed; returning scalar instead, but in the future will perform elementwise comparison\n",
            "  score = y_true == y_pred\n"
          ]
        },
        {
          "output_type": "stream",
          "name": "stdout",
          "text": [
            "Intercept 0.0009548256586275224\n",
            "Prediction_local [0.00077664]\n",
            "Right: 0.0007707312\n"
          ]
        },
        {
          "output_type": "stream",
          "name": "stderr",
          "text": [
            "/usr/local/lib/python3.10/dist-packages/sklearn/metrics/_classification.py:227: FutureWarning: elementwise comparison failed; returning scalar instead, but in the future will perform elementwise comparison\n",
            "  score = y_true == y_pred\n"
          ]
        },
        {
          "output_type": "stream",
          "name": "stdout",
          "text": [
            "Intercept 0.999282351259602\n",
            "Prediction_local [0.99931512]\n",
            "Right: 0.9993167\n"
          ]
        },
        {
          "output_type": "stream",
          "name": "stderr",
          "text": [
            "/usr/local/lib/python3.10/dist-packages/sklearn/metrics/_classification.py:227: FutureWarning: elementwise comparison failed; returning scalar instead, but in the future will perform elementwise comparison\n",
            "  score = y_true == y_pred\n"
          ]
        },
        {
          "output_type": "stream",
          "name": "stdout",
          "text": [
            "Intercept 0.9991587176845187\n",
            "Prediction_local [0.99921777]\n",
            "Right: 0.99922764\n"
          ]
        },
        {
          "output_type": "stream",
          "name": "stderr",
          "text": [
            "/usr/local/lib/python3.10/dist-packages/sklearn/metrics/_classification.py:227: FutureWarning: elementwise comparison failed; returning scalar instead, but in the future will perform elementwise comparison\n",
            "  score = y_true == y_pred\n"
          ]
        },
        {
          "output_type": "stream",
          "name": "stdout",
          "text": [
            "Intercept 0.9988573840392125\n",
            "Prediction_local [0.99894075]\n",
            "Right: 0.9989594\n"
          ]
        },
        {
          "output_type": "stream",
          "name": "stderr",
          "text": [
            "/usr/local/lib/python3.10/dist-packages/sklearn/metrics/_classification.py:227: FutureWarning: elementwise comparison failed; returning scalar instead, but in the future will perform elementwise comparison\n",
            "  score = y_true == y_pred\n"
          ]
        },
        {
          "output_type": "stream",
          "name": "stdout",
          "text": [
            "Intercept 0.013914417331175313\n",
            "Prediction_local [0.00142091]\n",
            "Right: 0.0009115656\n"
          ]
        },
        {
          "output_type": "stream",
          "name": "stderr",
          "text": [
            "/usr/local/lib/python3.10/dist-packages/sklearn/metrics/_classification.py:227: FutureWarning: elementwise comparison failed; returning scalar instead, but in the future will perform elementwise comparison\n",
            "  score = y_true == y_pred\n"
          ]
        },
        {
          "output_type": "stream",
          "name": "stdout",
          "text": [
            "Intercept 0.9990499589000867\n",
            "Prediction_local [0.9990469]\n",
            "Right: 0.9990361\n"
          ]
        },
        {
          "output_type": "stream",
          "name": "stderr",
          "text": [
            "/usr/local/lib/python3.10/dist-packages/sklearn/metrics/_classification.py:227: FutureWarning: elementwise comparison failed; returning scalar instead, but in the future will perform elementwise comparison\n",
            "  score = y_true == y_pred\n"
          ]
        },
        {
          "output_type": "stream",
          "name": "stdout",
          "text": [
            "Intercept 0.05222190614781563\n",
            "Prediction_local [0.95052917]\n",
            "Right: 0.96477824\n"
          ]
        },
        {
          "output_type": "stream",
          "name": "stderr",
          "text": [
            "/usr/local/lib/python3.10/dist-packages/sklearn/metrics/_classification.py:227: FutureWarning: elementwise comparison failed; returning scalar instead, but in the future will perform elementwise comparison\n",
            "  score = y_true == y_pred\n"
          ]
        },
        {
          "output_type": "stream",
          "name": "stdout",
          "text": [
            "Intercept 0.001295706548869922\n",
            "Prediction_local [0.00100715]\n",
            "Right: 0.00096808706\n"
          ]
        },
        {
          "output_type": "stream",
          "name": "stderr",
          "text": [
            "/usr/local/lib/python3.10/dist-packages/sklearn/metrics/_classification.py:227: FutureWarning: elementwise comparison failed; returning scalar instead, but in the future will perform elementwise comparison\n",
            "  score = y_true == y_pred\n"
          ]
        },
        {
          "output_type": "stream",
          "name": "stdout",
          "text": [
            "Intercept 0.0009546266850561801\n",
            "Prediction_local [0.00085489]\n",
            "Right: 0.00084570306\n"
          ]
        },
        {
          "output_type": "stream",
          "name": "stderr",
          "text": [
            "/usr/local/lib/python3.10/dist-packages/sklearn/metrics/_classification.py:227: FutureWarning: elementwise comparison failed; returning scalar instead, but in the future will perform elementwise comparison\n",
            "  score = y_true == y_pred\n"
          ]
        },
        {
          "output_type": "stream",
          "name": "stdout",
          "text": [
            "Intercept 0.0008039422239217983\n",
            "Prediction_local [0.0007216]\n",
            "Right: 0.00071742246\n"
          ]
        },
        {
          "output_type": "stream",
          "name": "stderr",
          "text": [
            "/usr/local/lib/python3.10/dist-packages/sklearn/metrics/_classification.py:227: FutureWarning: elementwise comparison failed; returning scalar instead, but in the future will perform elementwise comparison\n",
            "  score = y_true == y_pred\n"
          ]
        },
        {
          "output_type": "stream",
          "name": "stdout",
          "text": [
            "Intercept 0.20878530891665062\n",
            "Prediction_local [0.00695944]\n",
            "Right: 0.0035938758\n"
          ]
        },
        {
          "output_type": "stream",
          "name": "stderr",
          "text": [
            "/usr/local/lib/python3.10/dist-packages/sklearn/metrics/_classification.py:227: FutureWarning: elementwise comparison failed; returning scalar instead, but in the future will perform elementwise comparison\n",
            "  score = y_true == y_pred\n"
          ]
        },
        {
          "output_type": "stream",
          "name": "stdout",
          "text": [
            "Intercept 0.0009689529242200744\n",
            "Prediction_local [0.0008442]\n",
            "Right: 0.0008371007\n"
          ]
        },
        {
          "output_type": "stream",
          "name": "stderr",
          "text": [
            "/usr/local/lib/python3.10/dist-packages/sklearn/metrics/_classification.py:227: FutureWarning: elementwise comparison failed; returning scalar instead, but in the future will perform elementwise comparison\n",
            "  score = y_true == y_pred\n"
          ]
        },
        {
          "output_type": "stream",
          "name": "stdout",
          "text": [
            "Intercept -0.7880136811156372\n",
            "Prediction_local [0.92958886]\n",
            "Right: 0.91357636\n"
          ]
        },
        {
          "output_type": "stream",
          "name": "stderr",
          "text": [
            "/usr/local/lib/python3.10/dist-packages/sklearn/metrics/_classification.py:227: FutureWarning: elementwise comparison failed; returning scalar instead, but in the future will perform elementwise comparison\n",
            "  score = y_true == y_pred\n"
          ]
        },
        {
          "output_type": "stream",
          "name": "stdout",
          "text": [
            "Intercept 0.9722639240426931\n",
            "Prediction_local [0.99728551]\n",
            "Right: 0.99688977\n"
          ]
        },
        {
          "output_type": "stream",
          "name": "stderr",
          "text": [
            "/usr/local/lib/python3.10/dist-packages/sklearn/metrics/_classification.py:227: FutureWarning: elementwise comparison failed; returning scalar instead, but in the future will perform elementwise comparison\n",
            "  score = y_true == y_pred\n"
          ]
        },
        {
          "output_type": "stream",
          "name": "stdout",
          "text": [
            "Intercept 0.0010473048225437334\n",
            "Prediction_local [0.00074922]\n",
            "Right: 0.00073403446\n"
          ]
        },
        {
          "output_type": "stream",
          "name": "stderr",
          "text": [
            "/usr/local/lib/python3.10/dist-packages/sklearn/metrics/_classification.py:227: FutureWarning: elementwise comparison failed; returning scalar instead, but in the future will perform elementwise comparison\n",
            "  score = y_true == y_pred\n"
          ]
        },
        {
          "output_type": "stream",
          "name": "stdout",
          "text": [
            "Intercept 0.5325748711628676\n",
            "Prediction_local [0.01593665]\n",
            "Right: 0.0021163863\n"
          ]
        },
        {
          "output_type": "stream",
          "name": "stderr",
          "text": [
            "/usr/local/lib/python3.10/dist-packages/sklearn/metrics/_classification.py:227: FutureWarning: elementwise comparison failed; returning scalar instead, but in the future will perform elementwise comparison\n",
            "  score = y_true == y_pred\n"
          ]
        },
        {
          "output_type": "stream",
          "name": "stdout",
          "text": [
            "Intercept 0.0006961272897835072\n",
            "Prediction_local [0.0007168]\n",
            "Right: 0.0007177514\n"
          ]
        },
        {
          "output_type": "stream",
          "name": "stderr",
          "text": [
            "/usr/local/lib/python3.10/dist-packages/sklearn/metrics/_classification.py:227: FutureWarning: elementwise comparison failed; returning scalar instead, but in the future will perform elementwise comparison\n",
            "  score = y_true == y_pred\n"
          ]
        },
        {
          "output_type": "stream",
          "name": "stdout",
          "text": [
            "Intercept 0.9990015811277181\n",
            "Prediction_local [0.99902043]\n",
            "Right: 0.9990294\n"
          ]
        },
        {
          "output_type": "stream",
          "name": "stderr",
          "text": [
            "/usr/local/lib/python3.10/dist-packages/sklearn/metrics/_classification.py:227: FutureWarning: elementwise comparison failed; returning scalar instead, but in the future will perform elementwise comparison\n",
            "  score = y_true == y_pred\n"
          ]
        },
        {
          "output_type": "stream",
          "name": "stdout",
          "text": [
            "Intercept 0.7916613831323451\n",
            "Prediction_local [0.99562223]\n",
            "Right: 0.9984132\n"
          ]
        },
        {
          "output_type": "stream",
          "name": "stderr",
          "text": [
            "/usr/local/lib/python3.10/dist-packages/sklearn/metrics/_classification.py:227: FutureWarning: elementwise comparison failed; returning scalar instead, but in the future will perform elementwise comparison\n",
            "  score = y_true == y_pred\n"
          ]
        },
        {
          "output_type": "stream",
          "name": "stdout",
          "text": [
            "Intercept 0.998732299972924\n",
            "Prediction_local [0.99902378]\n",
            "Right: 0.9990656\n"
          ]
        },
        {
          "output_type": "stream",
          "name": "stderr",
          "text": [
            "/usr/local/lib/python3.10/dist-packages/sklearn/metrics/_classification.py:227: FutureWarning: elementwise comparison failed; returning scalar instead, but in the future will perform elementwise comparison\n",
            "  score = y_true == y_pred\n"
          ]
        },
        {
          "output_type": "stream",
          "name": "stdout",
          "text": [
            "Intercept 0.9991509230854653\n",
            "Prediction_local [0.99923064]\n",
            "Right: 0.99923337\n",
            "Average accuracy for kernel_width 1.0, num_samples 1200: 0.0\n",
            "Testing kernel_width: 1.0, num_samples: 1300\n"
          ]
        },
        {
          "output_type": "stream",
          "name": "stderr",
          "text": [
            "/usr/local/lib/python3.10/dist-packages/sklearn/metrics/_classification.py:227: FutureWarning: elementwise comparison failed; returning scalar instead, but in the future will perform elementwise comparison\n",
            "  score = y_true == y_pred\n"
          ]
        },
        {
          "output_type": "stream",
          "name": "stdout",
          "text": [
            "Intercept 0.942109099145137\n",
            "Prediction_local [0.99330116]\n",
            "Right: 0.99611354\n"
          ]
        },
        {
          "output_type": "stream",
          "name": "stderr",
          "text": [
            "/usr/local/lib/python3.10/dist-packages/sklearn/metrics/_classification.py:227: FutureWarning: elementwise comparison failed; returning scalar instead, but in the future will perform elementwise comparison\n",
            "  score = y_true == y_pred\n"
          ]
        },
        {
          "output_type": "stream",
          "name": "stdout",
          "text": [
            "Intercept 0.6375176513484462\n",
            "Prediction_local [0.07241807]\n",
            "Right: 0.043278545\n"
          ]
        },
        {
          "output_type": "stream",
          "name": "stderr",
          "text": [
            "/usr/local/lib/python3.10/dist-packages/sklearn/metrics/_classification.py:227: FutureWarning: elementwise comparison failed; returning scalar instead, but in the future will perform elementwise comparison\n",
            "  score = y_true == y_pred\n"
          ]
        },
        {
          "output_type": "stream",
          "name": "stdout",
          "text": [
            "Intercept 0.0008459431240939964\n",
            "Prediction_local [0.00072923]\n",
            "Right: 0.0007274526\n"
          ]
        },
        {
          "output_type": "stream",
          "name": "stderr",
          "text": [
            "/usr/local/lib/python3.10/dist-packages/sklearn/metrics/_classification.py:227: FutureWarning: elementwise comparison failed; returning scalar instead, but in the future will perform elementwise comparison\n",
            "  score = y_true == y_pred\n"
          ]
        },
        {
          "output_type": "stream",
          "name": "stdout",
          "text": [
            "Intercept 0.9987478888663399\n",
            "Prediction_local [0.99891814]\n",
            "Right: 0.998904\n"
          ]
        },
        {
          "output_type": "stream",
          "name": "stderr",
          "text": [
            "/usr/local/lib/python3.10/dist-packages/sklearn/metrics/_classification.py:227: FutureWarning: elementwise comparison failed; returning scalar instead, but in the future will perform elementwise comparison\n",
            "  score = y_true == y_pred\n"
          ]
        },
        {
          "output_type": "stream",
          "name": "stdout",
          "text": [
            "Intercept 0.0007279512039738626\n",
            "Prediction_local [0.00072681]\n",
            "Right: 0.0007344822\n"
          ]
        },
        {
          "output_type": "stream",
          "name": "stderr",
          "text": [
            "/usr/local/lib/python3.10/dist-packages/sklearn/metrics/_classification.py:227: FutureWarning: elementwise comparison failed; returning scalar instead, but in the future will perform elementwise comparison\n",
            "  score = y_true == y_pred\n"
          ]
        },
        {
          "output_type": "stream",
          "name": "stdout",
          "text": [
            "Intercept 0.0015790856903181278\n",
            "Prediction_local [0.00087692]\n",
            "Right: 0.00083768636\n"
          ]
        },
        {
          "output_type": "stream",
          "name": "stderr",
          "text": [
            "/usr/local/lib/python3.10/dist-packages/sklearn/metrics/_classification.py:227: FutureWarning: elementwise comparison failed; returning scalar instead, but in the future will perform elementwise comparison\n",
            "  score = y_true == y_pred\n"
          ]
        },
        {
          "output_type": "stream",
          "name": "stdout",
          "text": [
            "Intercept 0.039717885649332985\n",
            "Prediction_local [0.97805718]\n",
            "Right: 0.9964223\n"
          ]
        },
        {
          "output_type": "stream",
          "name": "stderr",
          "text": [
            "/usr/local/lib/python3.10/dist-packages/sklearn/metrics/_classification.py:227: FutureWarning: elementwise comparison failed; returning scalar instead, but in the future will perform elementwise comparison\n",
            "  score = y_true == y_pred\n"
          ]
        },
        {
          "output_type": "stream",
          "name": "stdout",
          "text": [
            "Intercept -0.8185411638264297\n",
            "Prediction_local [0.89122578]\n",
            "Right: 0.97473156\n"
          ]
        },
        {
          "output_type": "stream",
          "name": "stderr",
          "text": [
            "/usr/local/lib/python3.10/dist-packages/sklearn/metrics/_classification.py:227: FutureWarning: elementwise comparison failed; returning scalar instead, but in the future will perform elementwise comparison\n",
            "  score = y_true == y_pred\n"
          ]
        },
        {
          "output_type": "stream",
          "name": "stdout",
          "text": [
            "Intercept 0.999243937597959\n",
            "Prediction_local [0.99926503]\n",
            "Right: 0.9992624\n"
          ]
        },
        {
          "output_type": "stream",
          "name": "stderr",
          "text": [
            "/usr/local/lib/python3.10/dist-packages/sklearn/metrics/_classification.py:227: FutureWarning: elementwise comparison failed; returning scalar instead, but in the future will perform elementwise comparison\n",
            "  score = y_true == y_pred\n"
          ]
        },
        {
          "output_type": "stream",
          "name": "stdout",
          "text": [
            "Intercept 0.000950844664393976\n",
            "Prediction_local [0.00077767]\n",
            "Right: 0.0007707312\n"
          ]
        },
        {
          "output_type": "stream",
          "name": "stderr",
          "text": [
            "/usr/local/lib/python3.10/dist-packages/sklearn/metrics/_classification.py:227: FutureWarning: elementwise comparison failed; returning scalar instead, but in the future will perform elementwise comparison\n",
            "  score = y_true == y_pred\n"
          ]
        },
        {
          "output_type": "stream",
          "name": "stdout",
          "text": [
            "Intercept 0.9992768283778224\n",
            "Prediction_local [0.99931366]\n",
            "Right: 0.9993167\n"
          ]
        },
        {
          "output_type": "stream",
          "name": "stderr",
          "text": [
            "/usr/local/lib/python3.10/dist-packages/sklearn/metrics/_classification.py:227: FutureWarning: elementwise comparison failed; returning scalar instead, but in the future will perform elementwise comparison\n",
            "  score = y_true == y_pred\n"
          ]
        },
        {
          "output_type": "stream",
          "name": "stdout",
          "text": [
            "Intercept 0.9991279616283937\n",
            "Prediction_local [0.99921738]\n",
            "Right: 0.99922764\n"
          ]
        },
        {
          "output_type": "stream",
          "name": "stderr",
          "text": [
            "/usr/local/lib/python3.10/dist-packages/sklearn/metrics/_classification.py:227: FutureWarning: elementwise comparison failed; returning scalar instead, but in the future will perform elementwise comparison\n",
            "  score = y_true == y_pred\n"
          ]
        },
        {
          "output_type": "stream",
          "name": "stdout",
          "text": [
            "Intercept 0.9989212430339149\n",
            "Prediction_local [0.99894986]\n",
            "Right: 0.9989594\n"
          ]
        },
        {
          "output_type": "stream",
          "name": "stderr",
          "text": [
            "/usr/local/lib/python3.10/dist-packages/sklearn/metrics/_classification.py:227: FutureWarning: elementwise comparison failed; returning scalar instead, but in the future will perform elementwise comparison\n",
            "  score = y_true == y_pred\n"
          ]
        },
        {
          "output_type": "stream",
          "name": "stdout",
          "text": [
            "Intercept 0.0324621168739524\n",
            "Prediction_local [0.00128822]\n",
            "Right: 0.0009115656\n"
          ]
        },
        {
          "output_type": "stream",
          "name": "stderr",
          "text": [
            "/usr/local/lib/python3.10/dist-packages/sklearn/metrics/_classification.py:227: FutureWarning: elementwise comparison failed; returning scalar instead, but in the future will perform elementwise comparison\n",
            "  score = y_true == y_pred\n"
          ]
        },
        {
          "output_type": "stream",
          "name": "stdout",
          "text": [
            "Intercept 0.9989840343008313\n",
            "Prediction_local [0.99903799]\n",
            "Right: 0.9990361\n"
          ]
        },
        {
          "output_type": "stream",
          "name": "stderr",
          "text": [
            "/usr/local/lib/python3.10/dist-packages/sklearn/metrics/_classification.py:227: FutureWarning: elementwise comparison failed; returning scalar instead, but in the future will perform elementwise comparison\n",
            "  score = y_true == y_pred\n"
          ]
        },
        {
          "output_type": "stream",
          "name": "stdout",
          "text": [
            "Intercept -0.6579801057792812\n",
            "Prediction_local [0.93685976]\n",
            "Right: 0.96477824\n"
          ]
        },
        {
          "output_type": "stream",
          "name": "stderr",
          "text": [
            "/usr/local/lib/python3.10/dist-packages/sklearn/metrics/_classification.py:227: FutureWarning: elementwise comparison failed; returning scalar instead, but in the future will perform elementwise comparison\n",
            "  score = y_true == y_pred\n"
          ]
        },
        {
          "output_type": "stream",
          "name": "stdout",
          "text": [
            "Intercept 0.0011911778787616497\n",
            "Prediction_local [0.00100666]\n",
            "Right: 0.00096808706\n"
          ]
        },
        {
          "output_type": "stream",
          "name": "stderr",
          "text": [
            "/usr/local/lib/python3.10/dist-packages/sklearn/metrics/_classification.py:227: FutureWarning: elementwise comparison failed; returning scalar instead, but in the future will perform elementwise comparison\n",
            "  score = y_true == y_pred\n"
          ]
        },
        {
          "output_type": "stream",
          "name": "stdout",
          "text": [
            "Intercept 0.0009919606076430306\n",
            "Prediction_local [0.00085492]\n",
            "Right: 0.00084570306\n"
          ]
        },
        {
          "output_type": "stream",
          "name": "stderr",
          "text": [
            "/usr/local/lib/python3.10/dist-packages/sklearn/metrics/_classification.py:227: FutureWarning: elementwise comparison failed; returning scalar instead, but in the future will perform elementwise comparison\n",
            "  score = y_true == y_pred\n"
          ]
        },
        {
          "output_type": "stream",
          "name": "stdout",
          "text": [
            "Intercept 0.000810285763467349\n",
            "Prediction_local [0.00072169]\n",
            "Right: 0.00071742246\n"
          ]
        },
        {
          "output_type": "stream",
          "name": "stderr",
          "text": [
            "/usr/local/lib/python3.10/dist-packages/sklearn/metrics/_classification.py:227: FutureWarning: elementwise comparison failed; returning scalar instead, but in the future will perform elementwise comparison\n",
            "  score = y_true == y_pred\n"
          ]
        },
        {
          "output_type": "stream",
          "name": "stdout",
          "text": [
            "Intercept 0.03782789026709126\n",
            "Prediction_local [0.00507423]\n",
            "Right: 0.0035938758\n"
          ]
        },
        {
          "output_type": "stream",
          "name": "stderr",
          "text": [
            "/usr/local/lib/python3.10/dist-packages/sklearn/metrics/_classification.py:227: FutureWarning: elementwise comparison failed; returning scalar instead, but in the future will perform elementwise comparison\n",
            "  score = y_true == y_pred\n"
          ]
        },
        {
          "output_type": "stream",
          "name": "stdout",
          "text": [
            "Intercept 0.0009527056167431661\n",
            "Prediction_local [0.00084424]\n",
            "Right: 0.0008371007\n"
          ]
        },
        {
          "output_type": "stream",
          "name": "stderr",
          "text": [
            "/usr/local/lib/python3.10/dist-packages/sklearn/metrics/_classification.py:227: FutureWarning: elementwise comparison failed; returning scalar instead, but in the future will perform elementwise comparison\n",
            "  score = y_true == y_pred\n"
          ]
        },
        {
          "output_type": "stream",
          "name": "stdout",
          "text": [
            "Intercept -1.0918618957133037\n",
            "Prediction_local [0.9196781]\n",
            "Right: 0.91357636\n"
          ]
        },
        {
          "output_type": "stream",
          "name": "stderr",
          "text": [
            "/usr/local/lib/python3.10/dist-packages/sklearn/metrics/_classification.py:227: FutureWarning: elementwise comparison failed; returning scalar instead, but in the future will perform elementwise comparison\n",
            "  score = y_true == y_pred\n"
          ]
        },
        {
          "output_type": "stream",
          "name": "stdout",
          "text": [
            "Intercept 0.9940756359630339\n",
            "Prediction_local [0.99745463]\n",
            "Right: 0.99688977\n"
          ]
        },
        {
          "output_type": "stream",
          "name": "stderr",
          "text": [
            "/usr/local/lib/python3.10/dist-packages/sklearn/metrics/_classification.py:227: FutureWarning: elementwise comparison failed; returning scalar instead, but in the future will perform elementwise comparison\n",
            "  score = y_true == y_pred\n"
          ]
        },
        {
          "output_type": "stream",
          "name": "stdout",
          "text": [
            "Intercept 0.001057867856776211\n",
            "Prediction_local [0.00075066]\n",
            "Right: 0.00073403446\n"
          ]
        },
        {
          "output_type": "stream",
          "name": "stderr",
          "text": [
            "/usr/local/lib/python3.10/dist-packages/sklearn/metrics/_classification.py:227: FutureWarning: elementwise comparison failed; returning scalar instead, but in the future will perform elementwise comparison\n",
            "  score = y_true == y_pred\n"
          ]
        },
        {
          "output_type": "stream",
          "name": "stdout",
          "text": [
            "Intercept 0.3783691594157314\n",
            "Prediction_local [0.00762883]\n",
            "Right: 0.0021163863\n"
          ]
        },
        {
          "output_type": "stream",
          "name": "stderr",
          "text": [
            "/usr/local/lib/python3.10/dist-packages/sklearn/metrics/_classification.py:227: FutureWarning: elementwise comparison failed; returning scalar instead, but in the future will perform elementwise comparison\n",
            "  score = y_true == y_pred\n"
          ]
        },
        {
          "output_type": "stream",
          "name": "stdout",
          "text": [
            "Intercept 0.000700170051789947\n",
            "Prediction_local [0.00071702]\n",
            "Right: 0.0007177514\n"
          ]
        },
        {
          "output_type": "stream",
          "name": "stderr",
          "text": [
            "/usr/local/lib/python3.10/dist-packages/sklearn/metrics/_classification.py:227: FutureWarning: elementwise comparison failed; returning scalar instead, but in the future will perform elementwise comparison\n",
            "  score = y_true == y_pred\n"
          ]
        },
        {
          "output_type": "stream",
          "name": "stdout",
          "text": [
            "Intercept 0.9990808732494302\n",
            "Prediction_local [0.99902659]\n",
            "Right: 0.9990294\n"
          ]
        },
        {
          "output_type": "stream",
          "name": "stderr",
          "text": [
            "/usr/local/lib/python3.10/dist-packages/sklearn/metrics/_classification.py:227: FutureWarning: elementwise comparison failed; returning scalar instead, but in the future will perform elementwise comparison\n",
            "  score = y_true == y_pred\n"
          ]
        },
        {
          "output_type": "stream",
          "name": "stdout",
          "text": [
            "Intercept 0.9720041646314903\n",
            "Prediction_local [0.99814378]\n",
            "Right: 0.9984132\n"
          ]
        },
        {
          "output_type": "stream",
          "name": "stderr",
          "text": [
            "/usr/local/lib/python3.10/dist-packages/sklearn/metrics/_classification.py:227: FutureWarning: elementwise comparison failed; returning scalar instead, but in the future will perform elementwise comparison\n",
            "  score = y_true == y_pred\n"
          ]
        },
        {
          "output_type": "stream",
          "name": "stdout",
          "text": [
            "Intercept 0.9964898708945812\n",
            "Prediction_local [0.99878683]\n",
            "Right: 0.9990656\n"
          ]
        },
        {
          "output_type": "stream",
          "name": "stderr",
          "text": [
            "/usr/local/lib/python3.10/dist-packages/sklearn/metrics/_classification.py:227: FutureWarning: elementwise comparison failed; returning scalar instead, but in the future will perform elementwise comparison\n",
            "  score = y_true == y_pred\n"
          ]
        },
        {
          "output_type": "stream",
          "name": "stdout",
          "text": [
            "Intercept 0.9991123979978744\n",
            "Prediction_local [0.99923061]\n",
            "Right: 0.99923337\n",
            "Average accuracy for kernel_width 1.0, num_samples 1300: 0.0\n",
            "Testing kernel_width: 1.0, num_samples: 1400\n"
          ]
        },
        {
          "output_type": "stream",
          "name": "stderr",
          "text": [
            "/usr/local/lib/python3.10/dist-packages/sklearn/metrics/_classification.py:227: FutureWarning: elementwise comparison failed; returning scalar instead, but in the future will perform elementwise comparison\n",
            "  score = y_true == y_pred\n"
          ]
        },
        {
          "output_type": "stream",
          "name": "stdout",
          "text": [
            "Intercept 0.7746252197436334\n",
            "Prediction_local [0.97799413]\n",
            "Right: 0.99611354\n"
          ]
        },
        {
          "output_type": "stream",
          "name": "stderr",
          "text": [
            "/usr/local/lib/python3.10/dist-packages/sklearn/metrics/_classification.py:227: FutureWarning: elementwise comparison failed; returning scalar instead, but in the future will perform elementwise comparison\n",
            "  score = y_true == y_pred\n"
          ]
        },
        {
          "output_type": "stream",
          "name": "stdout",
          "text": [
            "Intercept 0.8634409563202192\n",
            "Prediction_local [0.09855431]\n",
            "Right: 0.043278545\n"
          ]
        },
        {
          "output_type": "stream",
          "name": "stderr",
          "text": [
            "/usr/local/lib/python3.10/dist-packages/sklearn/metrics/_classification.py:227: FutureWarning: elementwise comparison failed; returning scalar instead, but in the future will perform elementwise comparison\n",
            "  score = y_true == y_pred\n"
          ]
        },
        {
          "output_type": "stream",
          "name": "stdout",
          "text": [
            "Intercept 0.0008230352150755569\n",
            "Prediction_local [0.0007299]\n",
            "Right: 0.0007274526\n"
          ]
        },
        {
          "output_type": "stream",
          "name": "stderr",
          "text": [
            "/usr/local/lib/python3.10/dist-packages/sklearn/metrics/_classification.py:227: FutureWarning: elementwise comparison failed; returning scalar instead, but in the future will perform elementwise comparison\n",
            "  score = y_true == y_pred\n"
          ]
        },
        {
          "output_type": "stream",
          "name": "stdout",
          "text": [
            "Intercept 0.9985538328780466\n",
            "Prediction_local [0.99890699]\n",
            "Right: 0.998904\n"
          ]
        },
        {
          "output_type": "stream",
          "name": "stderr",
          "text": [
            "/usr/local/lib/python3.10/dist-packages/sklearn/metrics/_classification.py:227: FutureWarning: elementwise comparison failed; returning scalar instead, but in the future will perform elementwise comparison\n",
            "  score = y_true == y_pred\n"
          ]
        },
        {
          "output_type": "stream",
          "name": "stdout",
          "text": [
            "Intercept 0.000759391476440023\n",
            "Prediction_local [0.00072717]\n",
            "Right: 0.0007344822\n"
          ]
        },
        {
          "output_type": "stream",
          "name": "stderr",
          "text": [
            "/usr/local/lib/python3.10/dist-packages/sklearn/metrics/_classification.py:227: FutureWarning: elementwise comparison failed; returning scalar instead, but in the future will perform elementwise comparison\n",
            "  score = y_true == y_pred\n"
          ]
        },
        {
          "output_type": "stream",
          "name": "stdout",
          "text": [
            "Intercept 0.0035951326858776754\n",
            "Prediction_local [0.00089989]\n",
            "Right: 0.00083768636\n"
          ]
        },
        {
          "output_type": "stream",
          "name": "stderr",
          "text": [
            "/usr/local/lib/python3.10/dist-packages/sklearn/metrics/_classification.py:227: FutureWarning: elementwise comparison failed; returning scalar instead, but in the future will perform elementwise comparison\n",
            "  score = y_true == y_pred\n"
          ]
        },
        {
          "output_type": "stream",
          "name": "stdout",
          "text": [
            "Intercept -0.12945932428382778\n",
            "Prediction_local [0.97275977]\n",
            "Right: 0.9964223\n"
          ]
        },
        {
          "output_type": "stream",
          "name": "stderr",
          "text": [
            "/usr/local/lib/python3.10/dist-packages/sklearn/metrics/_classification.py:227: FutureWarning: elementwise comparison failed; returning scalar instead, but in the future will perform elementwise comparison\n",
            "  score = y_true == y_pred\n"
          ]
        },
        {
          "output_type": "stream",
          "name": "stdout",
          "text": [
            "Intercept -0.12382175110224802\n",
            "Prediction_local [0.91695544]\n",
            "Right: 0.97473156\n"
          ]
        },
        {
          "output_type": "stream",
          "name": "stderr",
          "text": [
            "/usr/local/lib/python3.10/dist-packages/sklearn/metrics/_classification.py:227: FutureWarning: elementwise comparison failed; returning scalar instead, but in the future will perform elementwise comparison\n",
            "  score = y_true == y_pred\n"
          ]
        },
        {
          "output_type": "stream",
          "name": "stdout",
          "text": [
            "Intercept 0.9992593630810426\n",
            "Prediction_local [0.99926251]\n",
            "Right: 0.9992624\n"
          ]
        },
        {
          "output_type": "stream",
          "name": "stderr",
          "text": [
            "/usr/local/lib/python3.10/dist-packages/sklearn/metrics/_classification.py:227: FutureWarning: elementwise comparison failed; returning scalar instead, but in the future will perform elementwise comparison\n",
            "  score = y_true == y_pred\n"
          ]
        },
        {
          "output_type": "stream",
          "name": "stdout",
          "text": [
            "Intercept 0.0009473336481225943\n",
            "Prediction_local [0.00078229]\n",
            "Right: 0.0007707312\n"
          ]
        },
        {
          "output_type": "stream",
          "name": "stderr",
          "text": [
            "/usr/local/lib/python3.10/dist-packages/sklearn/metrics/_classification.py:227: FutureWarning: elementwise comparison failed; returning scalar instead, but in the future will perform elementwise comparison\n",
            "  score = y_true == y_pred\n"
          ]
        },
        {
          "output_type": "stream",
          "name": "stdout",
          "text": [
            "Intercept 0.9992764441186882\n",
            "Prediction_local [0.99931436]\n",
            "Right: 0.9993167\n"
          ]
        },
        {
          "output_type": "stream",
          "name": "stderr",
          "text": [
            "/usr/local/lib/python3.10/dist-packages/sklearn/metrics/_classification.py:227: FutureWarning: elementwise comparison failed; returning scalar instead, but in the future will perform elementwise comparison\n",
            "  score = y_true == y_pred\n"
          ]
        },
        {
          "output_type": "stream",
          "name": "stdout",
          "text": [
            "Intercept 0.9991757251562641\n",
            "Prediction_local [0.99921734]\n",
            "Right: 0.99922764\n"
          ]
        },
        {
          "output_type": "stream",
          "name": "stderr",
          "text": [
            "/usr/local/lib/python3.10/dist-packages/sklearn/metrics/_classification.py:227: FutureWarning: elementwise comparison failed; returning scalar instead, but in the future will perform elementwise comparison\n",
            "  score = y_true == y_pred\n"
          ]
        },
        {
          "output_type": "stream",
          "name": "stdout",
          "text": [
            "Intercept 0.9988132622783022\n",
            "Prediction_local [0.99895014]\n",
            "Right: 0.9989594\n"
          ]
        },
        {
          "output_type": "stream",
          "name": "stderr",
          "text": [
            "/usr/local/lib/python3.10/dist-packages/sklearn/metrics/_classification.py:227: FutureWarning: elementwise comparison failed; returning scalar instead, but in the future will perform elementwise comparison\n",
            "  score = y_true == y_pred\n"
          ]
        },
        {
          "output_type": "stream",
          "name": "stdout",
          "text": [
            "Intercept 0.03509388343194232\n",
            "Prediction_local [0.00130338]\n",
            "Right: 0.0009115656\n"
          ]
        },
        {
          "output_type": "stream",
          "name": "stderr",
          "text": [
            "/usr/local/lib/python3.10/dist-packages/sklearn/metrics/_classification.py:227: FutureWarning: elementwise comparison failed; returning scalar instead, but in the future will perform elementwise comparison\n",
            "  score = y_true == y_pred\n"
          ]
        },
        {
          "output_type": "stream",
          "name": "stdout",
          "text": [
            "Intercept 0.9989766572732004\n",
            "Prediction_local [0.99902468]\n",
            "Right: 0.9990361\n"
          ]
        },
        {
          "output_type": "stream",
          "name": "stderr",
          "text": [
            "/usr/local/lib/python3.10/dist-packages/sklearn/metrics/_classification.py:227: FutureWarning: elementwise comparison failed; returning scalar instead, but in the future will perform elementwise comparison\n",
            "  score = y_true == y_pred\n"
          ]
        },
        {
          "output_type": "stream",
          "name": "stdout",
          "text": [
            "Intercept -0.4292130746317706\n",
            "Prediction_local [0.94869753]\n",
            "Right: 0.96477824\n"
          ]
        },
        {
          "output_type": "stream",
          "name": "stderr",
          "text": [
            "/usr/local/lib/python3.10/dist-packages/sklearn/metrics/_classification.py:227: FutureWarning: elementwise comparison failed; returning scalar instead, but in the future will perform elementwise comparison\n",
            "  score = y_true == y_pred\n"
          ]
        },
        {
          "output_type": "stream",
          "name": "stdout",
          "text": [
            "Intercept 0.0013658572899015948\n",
            "Prediction_local [0.0010062]\n",
            "Right: 0.00096808706\n"
          ]
        },
        {
          "output_type": "stream",
          "name": "stderr",
          "text": [
            "/usr/local/lib/python3.10/dist-packages/sklearn/metrics/_classification.py:227: FutureWarning: elementwise comparison failed; returning scalar instead, but in the future will perform elementwise comparison\n",
            "  score = y_true == y_pred\n"
          ]
        },
        {
          "output_type": "stream",
          "name": "stdout",
          "text": [
            "Intercept 0.0009651282363783985\n",
            "Prediction_local [0.00085506]\n",
            "Right: 0.00084570306\n"
          ]
        },
        {
          "output_type": "stream",
          "name": "stderr",
          "text": [
            "/usr/local/lib/python3.10/dist-packages/sklearn/metrics/_classification.py:227: FutureWarning: elementwise comparison failed; returning scalar instead, but in the future will perform elementwise comparison\n",
            "  score = y_true == y_pred\n"
          ]
        },
        {
          "output_type": "stream",
          "name": "stdout",
          "text": [
            "Intercept 0.0008172775258779766\n",
            "Prediction_local [0.0007188]\n",
            "Right: 0.00071742246\n"
          ]
        },
        {
          "output_type": "stream",
          "name": "stderr",
          "text": [
            "/usr/local/lib/python3.10/dist-packages/sklearn/metrics/_classification.py:227: FutureWarning: elementwise comparison failed; returning scalar instead, but in the future will perform elementwise comparison\n",
            "  score = y_true == y_pred\n"
          ]
        },
        {
          "output_type": "stream",
          "name": "stdout",
          "text": [
            "Intercept 0.0857372013965323\n",
            "Prediction_local [0.00574574]\n",
            "Right: 0.0035938758\n"
          ]
        },
        {
          "output_type": "stream",
          "name": "stderr",
          "text": [
            "/usr/local/lib/python3.10/dist-packages/sklearn/metrics/_classification.py:227: FutureWarning: elementwise comparison failed; returning scalar instead, but in the future will perform elementwise comparison\n",
            "  score = y_true == y_pred\n"
          ]
        },
        {
          "output_type": "stream",
          "name": "stdout",
          "text": [
            "Intercept 0.0009910984738973265\n",
            "Prediction_local [0.00084571]\n",
            "Right: 0.0008371007\n"
          ]
        },
        {
          "output_type": "stream",
          "name": "stderr",
          "text": [
            "/usr/local/lib/python3.10/dist-packages/sklearn/metrics/_classification.py:227: FutureWarning: elementwise comparison failed; returning scalar instead, but in the future will perform elementwise comparison\n",
            "  score = y_true == y_pred\n"
          ]
        },
        {
          "output_type": "stream",
          "name": "stdout",
          "text": [
            "Intercept -0.5442333506502045\n",
            "Prediction_local [0.93749654]\n",
            "Right: 0.91357636\n"
          ]
        },
        {
          "output_type": "stream",
          "name": "stderr",
          "text": [
            "/usr/local/lib/python3.10/dist-packages/sklearn/metrics/_classification.py:227: FutureWarning: elementwise comparison failed; returning scalar instead, but in the future will perform elementwise comparison\n",
            "  score = y_true == y_pred\n"
          ]
        },
        {
          "output_type": "stream",
          "name": "stdout",
          "text": [
            "Intercept 0.8575317493115473\n",
            "Prediction_local [0.99669438]\n",
            "Right: 0.99688977\n"
          ]
        },
        {
          "output_type": "stream",
          "name": "stderr",
          "text": [
            "/usr/local/lib/python3.10/dist-packages/sklearn/metrics/_classification.py:227: FutureWarning: elementwise comparison failed; returning scalar instead, but in the future will perform elementwise comparison\n",
            "  score = y_true == y_pred\n"
          ]
        },
        {
          "output_type": "stream",
          "name": "stdout",
          "text": [
            "Intercept 0.0012219646875680727\n",
            "Prediction_local [0.00074733]\n",
            "Right: 0.00073403446\n"
          ]
        },
        {
          "output_type": "stream",
          "name": "stderr",
          "text": [
            "/usr/local/lib/python3.10/dist-packages/sklearn/metrics/_classification.py:227: FutureWarning: elementwise comparison failed; returning scalar instead, but in the future will perform elementwise comparison\n",
            "  score = y_true == y_pred\n"
          ]
        },
        {
          "output_type": "stream",
          "name": "stdout",
          "text": [
            "Intercept 0.3168392411590537\n",
            "Prediction_local [0.00513588]\n",
            "Right: 0.0021163863\n"
          ]
        },
        {
          "output_type": "stream",
          "name": "stderr",
          "text": [
            "/usr/local/lib/python3.10/dist-packages/sklearn/metrics/_classification.py:227: FutureWarning: elementwise comparison failed; returning scalar instead, but in the future will perform elementwise comparison\n",
            "  score = y_true == y_pred\n"
          ]
        },
        {
          "output_type": "stream",
          "name": "stdout",
          "text": [
            "Intercept 0.0006977662839526443\n",
            "Prediction_local [0.00071508]\n",
            "Right: 0.0007177514\n"
          ]
        },
        {
          "output_type": "stream",
          "name": "stderr",
          "text": [
            "/usr/local/lib/python3.10/dist-packages/sklearn/metrics/_classification.py:227: FutureWarning: elementwise comparison failed; returning scalar instead, but in the future will perform elementwise comparison\n",
            "  score = y_true == y_pred\n"
          ]
        },
        {
          "output_type": "stream",
          "name": "stdout",
          "text": [
            "Intercept 0.9990165557909263\n",
            "Prediction_local [0.99901238]\n",
            "Right: 0.9990294\n"
          ]
        },
        {
          "output_type": "stream",
          "name": "stderr",
          "text": [
            "/usr/local/lib/python3.10/dist-packages/sklearn/metrics/_classification.py:227: FutureWarning: elementwise comparison failed; returning scalar instead, but in the future will perform elementwise comparison\n",
            "  score = y_true == y_pred\n"
          ]
        },
        {
          "output_type": "stream",
          "name": "stdout",
          "text": [
            "Intercept -0.009998823014739644\n",
            "Prediction_local [0.99362714]\n",
            "Right: 0.9984132\n"
          ]
        },
        {
          "output_type": "stream",
          "name": "stderr",
          "text": [
            "/usr/local/lib/python3.10/dist-packages/sklearn/metrics/_classification.py:227: FutureWarning: elementwise comparison failed; returning scalar instead, but in the future will perform elementwise comparison\n",
            "  score = y_true == y_pred\n"
          ]
        },
        {
          "output_type": "stream",
          "name": "stdout",
          "text": [
            "Intercept 0.9982538150829086\n",
            "Prediction_local [0.99898753]\n",
            "Right: 0.9990656\n"
          ]
        },
        {
          "output_type": "stream",
          "name": "stderr",
          "text": [
            "/usr/local/lib/python3.10/dist-packages/sklearn/metrics/_classification.py:227: FutureWarning: elementwise comparison failed; returning scalar instead, but in the future will perform elementwise comparison\n",
            "  score = y_true == y_pred\n"
          ]
        },
        {
          "output_type": "stream",
          "name": "stdout",
          "text": [
            "Intercept 0.9989419166347814\n",
            "Prediction_local [0.99922922]\n",
            "Right: 0.99923337\n",
            "Average accuracy for kernel_width 1.0, num_samples 1400: 0.0\n",
            "Testing kernel_width: 1.0, num_samples: 1500\n"
          ]
        },
        {
          "output_type": "stream",
          "name": "stderr",
          "text": [
            "/usr/local/lib/python3.10/dist-packages/sklearn/metrics/_classification.py:227: FutureWarning: elementwise comparison failed; returning scalar instead, but in the future will perform elementwise comparison\n",
            "  score = y_true == y_pred\n"
          ]
        },
        {
          "output_type": "stream",
          "name": "stdout",
          "text": [
            "Intercept 0.6664757578028551\n",
            "Prediction_local [0.98765309]\n",
            "Right: 0.99611354\n"
          ]
        },
        {
          "output_type": "stream",
          "name": "stderr",
          "text": [
            "/usr/local/lib/python3.10/dist-packages/sklearn/metrics/_classification.py:227: FutureWarning: elementwise comparison failed; returning scalar instead, but in the future will perform elementwise comparison\n",
            "  score = y_true == y_pred\n"
          ]
        },
        {
          "output_type": "stream",
          "name": "stdout",
          "text": [
            "Intercept 0.931543741453799\n",
            "Prediction_local [0.08900714]\n",
            "Right: 0.043278545\n"
          ]
        },
        {
          "output_type": "stream",
          "name": "stderr",
          "text": [
            "/usr/local/lib/python3.10/dist-packages/sklearn/metrics/_classification.py:227: FutureWarning: elementwise comparison failed; returning scalar instead, but in the future will perform elementwise comparison\n",
            "  score = y_true == y_pred\n"
          ]
        },
        {
          "output_type": "stream",
          "name": "stdout",
          "text": [
            "Intercept 0.0008516967052744957\n",
            "Prediction_local [0.00072806]\n",
            "Right: 0.0007274526\n"
          ]
        },
        {
          "output_type": "stream",
          "name": "stderr",
          "text": [
            "/usr/local/lib/python3.10/dist-packages/sklearn/metrics/_classification.py:227: FutureWarning: elementwise comparison failed; returning scalar instead, but in the future will perform elementwise comparison\n",
            "  score = y_true == y_pred\n"
          ]
        },
        {
          "output_type": "stream",
          "name": "stdout",
          "text": [
            "Intercept 0.9985806739599173\n",
            "Prediction_local [0.99890852]\n",
            "Right: 0.998904\n"
          ]
        },
        {
          "output_type": "stream",
          "name": "stderr",
          "text": [
            "/usr/local/lib/python3.10/dist-packages/sklearn/metrics/_classification.py:227: FutureWarning: elementwise comparison failed; returning scalar instead, but in the future will perform elementwise comparison\n",
            "  score = y_true == y_pred\n"
          ]
        },
        {
          "output_type": "stream",
          "name": "stdout",
          "text": [
            "Intercept 0.0007248411210215617\n",
            "Prediction_local [0.00072831]\n",
            "Right: 0.0007344822\n"
          ]
        },
        {
          "output_type": "stream",
          "name": "stderr",
          "text": [
            "/usr/local/lib/python3.10/dist-packages/sklearn/metrics/_classification.py:227: FutureWarning: elementwise comparison failed; returning scalar instead, but in the future will perform elementwise comparison\n",
            "  score = y_true == y_pred\n"
          ]
        },
        {
          "output_type": "stream",
          "name": "stdout",
          "text": [
            "Intercept 0.003824506391628418\n",
            "Prediction_local [0.00094227]\n",
            "Right: 0.00083768636\n"
          ]
        },
        {
          "output_type": "stream",
          "name": "stderr",
          "text": [
            "/usr/local/lib/python3.10/dist-packages/sklearn/metrics/_classification.py:227: FutureWarning: elementwise comparison failed; returning scalar instead, but in the future will perform elementwise comparison\n",
            "  score = y_true == y_pred\n"
          ]
        },
        {
          "output_type": "stream",
          "name": "stdout",
          "text": [
            "Intercept 0.1061527290738028\n",
            "Prediction_local [0.97551072]\n",
            "Right: 0.9964223\n"
          ]
        },
        {
          "output_type": "stream",
          "name": "stderr",
          "text": [
            "/usr/local/lib/python3.10/dist-packages/sklearn/metrics/_classification.py:227: FutureWarning: elementwise comparison failed; returning scalar instead, but in the future will perform elementwise comparison\n",
            "  score = y_true == y_pred\n"
          ]
        },
        {
          "output_type": "stream",
          "name": "stdout",
          "text": [
            "Intercept 0.11431302939706967\n",
            "Prediction_local [0.88649316]\n",
            "Right: 0.97473156\n"
          ]
        },
        {
          "output_type": "stream",
          "name": "stderr",
          "text": [
            "/usr/local/lib/python3.10/dist-packages/sklearn/metrics/_classification.py:227: FutureWarning: elementwise comparison failed; returning scalar instead, but in the future will perform elementwise comparison\n",
            "  score = y_true == y_pred\n"
          ]
        },
        {
          "output_type": "stream",
          "name": "stdout",
          "text": [
            "Intercept 0.9992668127731548\n",
            "Prediction_local [0.99926346]\n",
            "Right: 0.9992624\n"
          ]
        },
        {
          "output_type": "stream",
          "name": "stderr",
          "text": [
            "/usr/local/lib/python3.10/dist-packages/sklearn/metrics/_classification.py:227: FutureWarning: elementwise comparison failed; returning scalar instead, but in the future will perform elementwise comparison\n",
            "  score = y_true == y_pred\n"
          ]
        },
        {
          "output_type": "stream",
          "name": "stdout",
          "text": [
            "Intercept 0.0009029929931463977\n",
            "Prediction_local [0.00077236]\n",
            "Right: 0.0007707312\n"
          ]
        },
        {
          "output_type": "stream",
          "name": "stderr",
          "text": [
            "/usr/local/lib/python3.10/dist-packages/sklearn/metrics/_classification.py:227: FutureWarning: elementwise comparison failed; returning scalar instead, but in the future will perform elementwise comparison\n",
            "  score = y_true == y_pred\n"
          ]
        },
        {
          "output_type": "stream",
          "name": "stdout",
          "text": [
            "Intercept 0.999286739783375\n",
            "Prediction_local [0.99931396]\n",
            "Right: 0.9993167\n"
          ]
        },
        {
          "output_type": "stream",
          "name": "stderr",
          "text": [
            "/usr/local/lib/python3.10/dist-packages/sklearn/metrics/_classification.py:227: FutureWarning: elementwise comparison failed; returning scalar instead, but in the future will perform elementwise comparison\n",
            "  score = y_true == y_pred\n"
          ]
        },
        {
          "output_type": "stream",
          "name": "stdout",
          "text": [
            "Intercept 0.9991003623277595\n",
            "Prediction_local [0.9992168]\n",
            "Right: 0.99922764\n"
          ]
        },
        {
          "output_type": "stream",
          "name": "stderr",
          "text": [
            "/usr/local/lib/python3.10/dist-packages/sklearn/metrics/_classification.py:227: FutureWarning: elementwise comparison failed; returning scalar instead, but in the future will perform elementwise comparison\n",
            "  score = y_true == y_pred\n"
          ]
        },
        {
          "output_type": "stream",
          "name": "stdout",
          "text": [
            "Intercept 0.99900966466522\n",
            "Prediction_local [0.99895509]\n",
            "Right: 0.9989594\n"
          ]
        },
        {
          "output_type": "stream",
          "name": "stderr",
          "text": [
            "/usr/local/lib/python3.10/dist-packages/sklearn/metrics/_classification.py:227: FutureWarning: elementwise comparison failed; returning scalar instead, but in the future will perform elementwise comparison\n",
            "  score = y_true == y_pred\n"
          ]
        },
        {
          "output_type": "stream",
          "name": "stdout",
          "text": [
            "Intercept 0.09638037477331411\n",
            "Prediction_local [0.00162614]\n",
            "Right: 0.0009115656\n"
          ]
        },
        {
          "output_type": "stream",
          "name": "stderr",
          "text": [
            "/usr/local/lib/python3.10/dist-packages/sklearn/metrics/_classification.py:227: FutureWarning: elementwise comparison failed; returning scalar instead, but in the future will perform elementwise comparison\n",
            "  score = y_true == y_pred\n"
          ]
        },
        {
          "output_type": "stream",
          "name": "stdout",
          "text": [
            "Intercept 0.9989377839739516\n",
            "Prediction_local [0.99903895]\n",
            "Right: 0.9990361\n"
          ]
        },
        {
          "output_type": "stream",
          "name": "stderr",
          "text": [
            "/usr/local/lib/python3.10/dist-packages/sklearn/metrics/_classification.py:227: FutureWarning: elementwise comparison failed; returning scalar instead, but in the future will perform elementwise comparison\n",
            "  score = y_true == y_pred\n"
          ]
        },
        {
          "output_type": "stream",
          "name": "stdout",
          "text": [
            "Intercept 0.02287745044939571\n",
            "Prediction_local [0.93987935]\n",
            "Right: 0.96477824\n"
          ]
        },
        {
          "output_type": "stream",
          "name": "stderr",
          "text": [
            "/usr/local/lib/python3.10/dist-packages/sklearn/metrics/_classification.py:227: FutureWarning: elementwise comparison failed; returning scalar instead, but in the future will perform elementwise comparison\n",
            "  score = y_true == y_pred\n"
          ]
        },
        {
          "output_type": "stream",
          "name": "stdout",
          "text": [
            "Intercept 0.0013094670190968807\n",
            "Prediction_local [0.00099927]\n",
            "Right: 0.00096808706\n"
          ]
        },
        {
          "output_type": "stream",
          "name": "stderr",
          "text": [
            "/usr/local/lib/python3.10/dist-packages/sklearn/metrics/_classification.py:227: FutureWarning: elementwise comparison failed; returning scalar instead, but in the future will perform elementwise comparison\n",
            "  score = y_true == y_pred\n"
          ]
        },
        {
          "output_type": "stream",
          "name": "stdout",
          "text": [
            "Intercept 0.0010669728681985046\n",
            "Prediction_local [0.00085358]\n",
            "Right: 0.00084570306\n"
          ]
        },
        {
          "output_type": "stream",
          "name": "stderr",
          "text": [
            "/usr/local/lib/python3.10/dist-packages/sklearn/metrics/_classification.py:227: FutureWarning: elementwise comparison failed; returning scalar instead, but in the future will perform elementwise comparison\n",
            "  score = y_true == y_pred\n"
          ]
        },
        {
          "output_type": "stream",
          "name": "stdout",
          "text": [
            "Intercept 0.0009587785100099474\n",
            "Prediction_local [0.00072367]\n",
            "Right: 0.00071742246\n"
          ]
        },
        {
          "output_type": "stream",
          "name": "stderr",
          "text": [
            "/usr/local/lib/python3.10/dist-packages/sklearn/metrics/_classification.py:227: FutureWarning: elementwise comparison failed; returning scalar instead, but in the future will perform elementwise comparison\n",
            "  score = y_true == y_pred\n"
          ]
        },
        {
          "output_type": "stream",
          "name": "stdout",
          "text": [
            "Intercept 0.02441202977513569\n",
            "Prediction_local [0.00460608]\n",
            "Right: 0.0035938758\n"
          ]
        },
        {
          "output_type": "stream",
          "name": "stderr",
          "text": [
            "/usr/local/lib/python3.10/dist-packages/sklearn/metrics/_classification.py:227: FutureWarning: elementwise comparison failed; returning scalar instead, but in the future will perform elementwise comparison\n",
            "  score = y_true == y_pred\n"
          ]
        },
        {
          "output_type": "stream",
          "name": "stdout",
          "text": [
            "Intercept 0.0009220632041770874\n",
            "Prediction_local [0.00084755]\n",
            "Right: 0.0008371007\n"
          ]
        },
        {
          "output_type": "stream",
          "name": "stderr",
          "text": [
            "/usr/local/lib/python3.10/dist-packages/sklearn/metrics/_classification.py:227: FutureWarning: elementwise comparison failed; returning scalar instead, but in the future will perform elementwise comparison\n",
            "  score = y_true == y_pred\n"
          ]
        },
        {
          "output_type": "stream",
          "name": "stdout",
          "text": [
            "Intercept -0.37021985404568536\n",
            "Prediction_local [0.93175943]\n",
            "Right: 0.91357636\n"
          ]
        },
        {
          "output_type": "stream",
          "name": "stderr",
          "text": [
            "/usr/local/lib/python3.10/dist-packages/sklearn/metrics/_classification.py:227: FutureWarning: elementwise comparison failed; returning scalar instead, but in the future will perform elementwise comparison\n",
            "  score = y_true == y_pred\n"
          ]
        },
        {
          "output_type": "stream",
          "name": "stdout",
          "text": [
            "Intercept 0.8368369664608888\n",
            "Prediction_local [0.99847243]\n",
            "Right: 0.99688977\n"
          ]
        },
        {
          "output_type": "stream",
          "name": "stderr",
          "text": [
            "/usr/local/lib/python3.10/dist-packages/sklearn/metrics/_classification.py:227: FutureWarning: elementwise comparison failed; returning scalar instead, but in the future will perform elementwise comparison\n",
            "  score = y_true == y_pred\n"
          ]
        },
        {
          "output_type": "stream",
          "name": "stdout",
          "text": [
            "Intercept 0.0009264870123193011\n",
            "Prediction_local [0.0007524]\n",
            "Right: 0.00073403446\n"
          ]
        },
        {
          "output_type": "stream",
          "name": "stderr",
          "text": [
            "/usr/local/lib/python3.10/dist-packages/sklearn/metrics/_classification.py:227: FutureWarning: elementwise comparison failed; returning scalar instead, but in the future will perform elementwise comparison\n",
            "  score = y_true == y_pred\n"
          ]
        },
        {
          "output_type": "stream",
          "name": "stdout",
          "text": [
            "Intercept 0.8409280264035581\n",
            "Prediction_local [0.01064263]\n",
            "Right: 0.0021163863\n"
          ]
        },
        {
          "output_type": "stream",
          "name": "stderr",
          "text": [
            "/usr/local/lib/python3.10/dist-packages/sklearn/metrics/_classification.py:227: FutureWarning: elementwise comparison failed; returning scalar instead, but in the future will perform elementwise comparison\n",
            "  score = y_true == y_pred\n"
          ]
        },
        {
          "output_type": "stream",
          "name": "stdout",
          "text": [
            "Intercept 0.0007193746755555894\n",
            "Prediction_local [0.00071317]\n",
            "Right: 0.0007177514\n"
          ]
        },
        {
          "output_type": "stream",
          "name": "stderr",
          "text": [
            "/usr/local/lib/python3.10/dist-packages/sklearn/metrics/_classification.py:227: FutureWarning: elementwise comparison failed; returning scalar instead, but in the future will perform elementwise comparison\n",
            "  score = y_true == y_pred\n"
          ]
        },
        {
          "output_type": "stream",
          "name": "stdout",
          "text": [
            "Intercept 0.9988892455578264\n",
            "Prediction_local [0.99901071]\n",
            "Right: 0.9990294\n"
          ]
        },
        {
          "output_type": "stream",
          "name": "stderr",
          "text": [
            "/usr/local/lib/python3.10/dist-packages/sklearn/metrics/_classification.py:227: FutureWarning: elementwise comparison failed; returning scalar instead, but in the future will perform elementwise comparison\n",
            "  score = y_true == y_pred\n"
          ]
        },
        {
          "output_type": "stream",
          "name": "stdout",
          "text": [
            "Intercept -0.009614765648146784\n",
            "Prediction_local [0.99287654]\n",
            "Right: 0.9984132\n"
          ]
        },
        {
          "output_type": "stream",
          "name": "stderr",
          "text": [
            "/usr/local/lib/python3.10/dist-packages/sklearn/metrics/_classification.py:227: FutureWarning: elementwise comparison failed; returning scalar instead, but in the future will perform elementwise comparison\n",
            "  score = y_true == y_pred\n"
          ]
        },
        {
          "output_type": "stream",
          "name": "stdout",
          "text": [
            "Intercept 0.9976631136720608\n",
            "Prediction_local [0.99893049]\n",
            "Right: 0.9990656\n"
          ]
        },
        {
          "output_type": "stream",
          "name": "stderr",
          "text": [
            "/usr/local/lib/python3.10/dist-packages/sklearn/metrics/_classification.py:227: FutureWarning: elementwise comparison failed; returning scalar instead, but in the future will perform elementwise comparison\n",
            "  score = y_true == y_pred\n"
          ]
        },
        {
          "output_type": "stream",
          "name": "stdout",
          "text": [
            "Intercept 0.9990867923267336\n",
            "Prediction_local [0.99922872]\n",
            "Right: 0.99923337\n",
            "Average accuracy for kernel_width 1.0, num_samples 1500: 0.0\n",
            "Testing kernel_width: 1.0, num_samples: 1600\n"
          ]
        },
        {
          "output_type": "stream",
          "name": "stderr",
          "text": [
            "/usr/local/lib/python3.10/dist-packages/sklearn/metrics/_classification.py:227: FutureWarning: elementwise comparison failed; returning scalar instead, but in the future will perform elementwise comparison\n",
            "  score = y_true == y_pred\n"
          ]
        },
        {
          "output_type": "stream",
          "name": "stdout",
          "text": [
            "Intercept 0.8508374819021338\n",
            "Prediction_local [0.99204406]\n",
            "Right: 0.99611354\n"
          ]
        },
        {
          "output_type": "stream",
          "name": "stderr",
          "text": [
            "/usr/local/lib/python3.10/dist-packages/sklearn/metrics/_classification.py:227: FutureWarning: elementwise comparison failed; returning scalar instead, but in the future will perform elementwise comparison\n",
            "  score = y_true == y_pred\n"
          ]
        },
        {
          "output_type": "stream",
          "name": "stdout",
          "text": [
            "Intercept 0.7433804205649096\n",
            "Prediction_local [0.08684638]\n",
            "Right: 0.043278545\n"
          ]
        },
        {
          "output_type": "stream",
          "name": "stderr",
          "text": [
            "/usr/local/lib/python3.10/dist-packages/sklearn/metrics/_classification.py:227: FutureWarning: elementwise comparison failed; returning scalar instead, but in the future will perform elementwise comparison\n",
            "  score = y_true == y_pred\n"
          ]
        },
        {
          "output_type": "stream",
          "name": "stdout",
          "text": [
            "Intercept 0.0007858076259575904\n",
            "Prediction_local [0.00072619]\n",
            "Right: 0.0007274526\n"
          ]
        },
        {
          "output_type": "stream",
          "name": "stderr",
          "text": [
            "/usr/local/lib/python3.10/dist-packages/sklearn/metrics/_classification.py:227: FutureWarning: elementwise comparison failed; returning scalar instead, but in the future will perform elementwise comparison\n",
            "  score = y_true == y_pred\n"
          ]
        },
        {
          "output_type": "stream",
          "name": "stdout",
          "text": [
            "Intercept 0.9987761225485017\n",
            "Prediction_local [0.99890855]\n",
            "Right: 0.998904\n"
          ]
        },
        {
          "output_type": "stream",
          "name": "stderr",
          "text": [
            "/usr/local/lib/python3.10/dist-packages/sklearn/metrics/_classification.py:227: FutureWarning: elementwise comparison failed; returning scalar instead, but in the future will perform elementwise comparison\n",
            "  score = y_true == y_pred\n"
          ]
        },
        {
          "output_type": "stream",
          "name": "stdout",
          "text": [
            "Intercept 0.0007711693281154928\n",
            "Prediction_local [0.00072842]\n",
            "Right: 0.0007344822\n"
          ]
        },
        {
          "output_type": "stream",
          "name": "stderr",
          "text": [
            "/usr/local/lib/python3.10/dist-packages/sklearn/metrics/_classification.py:227: FutureWarning: elementwise comparison failed; returning scalar instead, but in the future will perform elementwise comparison\n",
            "  score = y_true == y_pred\n"
          ]
        },
        {
          "output_type": "stream",
          "name": "stdout",
          "text": [
            "Intercept 0.0010072633364885536\n",
            "Prediction_local [0.00086524]\n",
            "Right: 0.00083768636\n"
          ]
        },
        {
          "output_type": "stream",
          "name": "stderr",
          "text": [
            "/usr/local/lib/python3.10/dist-packages/sklearn/metrics/_classification.py:227: FutureWarning: elementwise comparison failed; returning scalar instead, but in the future will perform elementwise comparison\n",
            "  score = y_true == y_pred\n"
          ]
        },
        {
          "output_type": "stream",
          "name": "stdout",
          "text": [
            "Intercept 0.11910041606162158\n",
            "Prediction_local [0.96133415]\n",
            "Right: 0.9964223\n"
          ]
        },
        {
          "output_type": "stream",
          "name": "stderr",
          "text": [
            "/usr/local/lib/python3.10/dist-packages/sklearn/metrics/_classification.py:227: FutureWarning: elementwise comparison failed; returning scalar instead, but in the future will perform elementwise comparison\n",
            "  score = y_true == y_pred\n"
          ]
        },
        {
          "output_type": "stream",
          "name": "stdout",
          "text": [
            "Intercept -0.5763051332630171\n",
            "Prediction_local [0.89987651]\n",
            "Right: 0.97473156\n"
          ]
        },
        {
          "output_type": "stream",
          "name": "stderr",
          "text": [
            "/usr/local/lib/python3.10/dist-packages/sklearn/metrics/_classification.py:227: FutureWarning: elementwise comparison failed; returning scalar instead, but in the future will perform elementwise comparison\n",
            "  score = y_true == y_pred\n"
          ]
        },
        {
          "output_type": "stream",
          "name": "stdout",
          "text": [
            "Intercept 0.9992541644627896\n",
            "Prediction_local [0.99926386]\n",
            "Right: 0.9992624\n"
          ]
        },
        {
          "output_type": "stream",
          "name": "stderr",
          "text": [
            "/usr/local/lib/python3.10/dist-packages/sklearn/metrics/_classification.py:227: FutureWarning: elementwise comparison failed; returning scalar instead, but in the future will perform elementwise comparison\n",
            "  score = y_true == y_pred\n"
          ]
        },
        {
          "output_type": "stream",
          "name": "stdout",
          "text": [
            "Intercept 0.0008568693477814821\n",
            "Prediction_local [0.00077309]\n",
            "Right: 0.0007707312\n"
          ]
        },
        {
          "output_type": "stream",
          "name": "stderr",
          "text": [
            "/usr/local/lib/python3.10/dist-packages/sklearn/metrics/_classification.py:227: FutureWarning: elementwise comparison failed; returning scalar instead, but in the future will perform elementwise comparison\n",
            "  score = y_true == y_pred\n"
          ]
        },
        {
          "output_type": "stream",
          "name": "stdout",
          "text": [
            "Intercept 0.9992711801336275\n",
            "Prediction_local [0.99931469]\n",
            "Right: 0.9993167\n"
          ]
        },
        {
          "output_type": "stream",
          "name": "stderr",
          "text": [
            "/usr/local/lib/python3.10/dist-packages/sklearn/metrics/_classification.py:227: FutureWarning: elementwise comparison failed; returning scalar instead, but in the future will perform elementwise comparison\n",
            "  score = y_true == y_pred\n"
          ]
        },
        {
          "output_type": "stream",
          "name": "stdout",
          "text": [
            "Intercept 0.9990943635108344\n",
            "Prediction_local [0.99921797]\n",
            "Right: 0.99922764\n"
          ]
        },
        {
          "output_type": "stream",
          "name": "stderr",
          "text": [
            "/usr/local/lib/python3.10/dist-packages/sklearn/metrics/_classification.py:227: FutureWarning: elementwise comparison failed; returning scalar instead, but in the future will perform elementwise comparison\n",
            "  score = y_true == y_pred\n"
          ]
        },
        {
          "output_type": "stream",
          "name": "stdout",
          "text": [
            "Intercept 0.9988268680359893\n",
            "Prediction_local [0.99895135]\n",
            "Right: 0.9989594\n"
          ]
        },
        {
          "output_type": "stream",
          "name": "stderr",
          "text": [
            "/usr/local/lib/python3.10/dist-packages/sklearn/metrics/_classification.py:227: FutureWarning: elementwise comparison failed; returning scalar instead, but in the future will perform elementwise comparison\n",
            "  score = y_true == y_pred\n"
          ]
        },
        {
          "output_type": "stream",
          "name": "stdout",
          "text": [
            "Intercept 0.05187882614222546\n",
            "Prediction_local [0.00418505]\n",
            "Right: 0.0009115656\n"
          ]
        },
        {
          "output_type": "stream",
          "name": "stderr",
          "text": [
            "/usr/local/lib/python3.10/dist-packages/sklearn/metrics/_classification.py:227: FutureWarning: elementwise comparison failed; returning scalar instead, but in the future will perform elementwise comparison\n",
            "  score = y_true == y_pred\n"
          ]
        },
        {
          "output_type": "stream",
          "name": "stdout",
          "text": [
            "Intercept 0.9989389568784209\n",
            "Prediction_local [0.99903674]\n",
            "Right: 0.9990361\n"
          ]
        },
        {
          "output_type": "stream",
          "name": "stderr",
          "text": [
            "/usr/local/lib/python3.10/dist-packages/sklearn/metrics/_classification.py:227: FutureWarning: elementwise comparison failed; returning scalar instead, but in the future will perform elementwise comparison\n",
            "  score = y_true == y_pred\n"
          ]
        },
        {
          "output_type": "stream",
          "name": "stdout",
          "text": [
            "Intercept -0.08294800171353778\n",
            "Prediction_local [0.9545499]\n",
            "Right: 0.96477824\n"
          ]
        },
        {
          "output_type": "stream",
          "name": "stderr",
          "text": [
            "/usr/local/lib/python3.10/dist-packages/sklearn/metrics/_classification.py:227: FutureWarning: elementwise comparison failed; returning scalar instead, but in the future will perform elementwise comparison\n",
            "  score = y_true == y_pred\n"
          ]
        },
        {
          "output_type": "stream",
          "name": "stdout",
          "text": [
            "Intercept 0.0013082538083546188\n",
            "Prediction_local [0.00100053]\n",
            "Right: 0.00096808706\n"
          ]
        },
        {
          "output_type": "stream",
          "name": "stderr",
          "text": [
            "/usr/local/lib/python3.10/dist-packages/sklearn/metrics/_classification.py:227: FutureWarning: elementwise comparison failed; returning scalar instead, but in the future will perform elementwise comparison\n",
            "  score = y_true == y_pred\n"
          ]
        },
        {
          "output_type": "stream",
          "name": "stdout",
          "text": [
            "Intercept 0.0010655354963167534\n",
            "Prediction_local [0.00086637]\n",
            "Right: 0.00084570306\n"
          ]
        },
        {
          "output_type": "stream",
          "name": "stderr",
          "text": [
            "/usr/local/lib/python3.10/dist-packages/sklearn/metrics/_classification.py:227: FutureWarning: elementwise comparison failed; returning scalar instead, but in the future will perform elementwise comparison\n",
            "  score = y_true == y_pred\n"
          ]
        },
        {
          "output_type": "stream",
          "name": "stdout",
          "text": [
            "Intercept 0.0007832599996490648\n",
            "Prediction_local [0.00072065]\n",
            "Right: 0.00071742246\n"
          ]
        },
        {
          "output_type": "stream",
          "name": "stderr",
          "text": [
            "/usr/local/lib/python3.10/dist-packages/sklearn/metrics/_classification.py:227: FutureWarning: elementwise comparison failed; returning scalar instead, but in the future will perform elementwise comparison\n",
            "  score = y_true == y_pred\n"
          ]
        },
        {
          "output_type": "stream",
          "name": "stdout",
          "text": [
            "Intercept 0.14363624589411347\n",
            "Prediction_local [0.00588909]\n",
            "Right: 0.0035938758\n"
          ]
        },
        {
          "output_type": "stream",
          "name": "stderr",
          "text": [
            "/usr/local/lib/python3.10/dist-packages/sklearn/metrics/_classification.py:227: FutureWarning: elementwise comparison failed; returning scalar instead, but in the future will perform elementwise comparison\n",
            "  score = y_true == y_pred\n"
          ]
        },
        {
          "output_type": "stream",
          "name": "stdout",
          "text": [
            "Intercept 0.000907303540360132\n",
            "Prediction_local [0.00084752]\n",
            "Right: 0.0008371007\n"
          ]
        },
        {
          "output_type": "stream",
          "name": "stderr",
          "text": [
            "/usr/local/lib/python3.10/dist-packages/sklearn/metrics/_classification.py:227: FutureWarning: elementwise comparison failed; returning scalar instead, but in the future will perform elementwise comparison\n",
            "  score = y_true == y_pred\n"
          ]
        },
        {
          "output_type": "stream",
          "name": "stdout",
          "text": [
            "Intercept -0.51871711276094\n",
            "Prediction_local [0.92777844]\n",
            "Right: 0.91357636\n"
          ]
        },
        {
          "output_type": "stream",
          "name": "stderr",
          "text": [
            "/usr/local/lib/python3.10/dist-packages/sklearn/metrics/_classification.py:227: FutureWarning: elementwise comparison failed; returning scalar instead, but in the future will perform elementwise comparison\n",
            "  score = y_true == y_pred\n"
          ]
        },
        {
          "output_type": "stream",
          "name": "stdout",
          "text": [
            "Intercept 0.9893205409460657\n",
            "Prediction_local [0.99739545]\n",
            "Right: 0.99688977\n"
          ]
        },
        {
          "output_type": "stream",
          "name": "stderr",
          "text": [
            "/usr/local/lib/python3.10/dist-packages/sklearn/metrics/_classification.py:227: FutureWarning: elementwise comparison failed; returning scalar instead, but in the future will perform elementwise comparison\n",
            "  score = y_true == y_pred\n"
          ]
        },
        {
          "output_type": "stream",
          "name": "stdout",
          "text": [
            "Intercept 0.000962480033176952\n",
            "Prediction_local [0.00075342]\n",
            "Right: 0.00073403446\n"
          ]
        },
        {
          "output_type": "stream",
          "name": "stderr",
          "text": [
            "/usr/local/lib/python3.10/dist-packages/sklearn/metrics/_classification.py:227: FutureWarning: elementwise comparison failed; returning scalar instead, but in the future will perform elementwise comparison\n",
            "  score = y_true == y_pred\n"
          ]
        },
        {
          "output_type": "stream",
          "name": "stdout",
          "text": [
            "Intercept 0.5451177538710757\n",
            "Prediction_local [0.0084778]\n",
            "Right: 0.0021163863\n"
          ]
        },
        {
          "output_type": "stream",
          "name": "stderr",
          "text": [
            "/usr/local/lib/python3.10/dist-packages/sklearn/metrics/_classification.py:227: FutureWarning: elementwise comparison failed; returning scalar instead, but in the future will perform elementwise comparison\n",
            "  score = y_true == y_pred\n"
          ]
        },
        {
          "output_type": "stream",
          "name": "stdout",
          "text": [
            "Intercept 0.0007390670254165043\n",
            "Prediction_local [0.0007154]\n",
            "Right: 0.0007177514\n"
          ]
        },
        {
          "output_type": "stream",
          "name": "stderr",
          "text": [
            "/usr/local/lib/python3.10/dist-packages/sklearn/metrics/_classification.py:227: FutureWarning: elementwise comparison failed; returning scalar instead, but in the future will perform elementwise comparison\n",
            "  score = y_true == y_pred\n"
          ]
        },
        {
          "output_type": "stream",
          "name": "stdout",
          "text": [
            "Intercept 0.9988657088449822\n",
            "Prediction_local [0.9990156]\n",
            "Right: 0.9990294\n"
          ]
        },
        {
          "output_type": "stream",
          "name": "stderr",
          "text": [
            "/usr/local/lib/python3.10/dist-packages/sklearn/metrics/_classification.py:227: FutureWarning: elementwise comparison failed; returning scalar instead, but in the future will perform elementwise comparison\n",
            "  score = y_true == y_pred\n"
          ]
        },
        {
          "output_type": "stream",
          "name": "stdout",
          "text": [
            "Intercept 0.4166178662099401\n",
            "Prediction_local [0.99189707]\n",
            "Right: 0.9984132\n"
          ]
        },
        {
          "output_type": "stream",
          "name": "stderr",
          "text": [
            "/usr/local/lib/python3.10/dist-packages/sklearn/metrics/_classification.py:227: FutureWarning: elementwise comparison failed; returning scalar instead, but in the future will perform elementwise comparison\n",
            "  score = y_true == y_pred\n"
          ]
        },
        {
          "output_type": "stream",
          "name": "stdout",
          "text": [
            "Intercept 0.9975657080875989\n",
            "Prediction_local [0.99891532]\n",
            "Right: 0.9990656\n"
          ]
        },
        {
          "output_type": "stream",
          "name": "stderr",
          "text": [
            "/usr/local/lib/python3.10/dist-packages/sklearn/metrics/_classification.py:227: FutureWarning: elementwise comparison failed; returning scalar instead, but in the future will perform elementwise comparison\n",
            "  score = y_true == y_pred\n"
          ]
        },
        {
          "output_type": "stream",
          "name": "stdout",
          "text": [
            "Intercept 0.9989686000189809\n",
            "Prediction_local [0.99923152]\n",
            "Right: 0.99923337\n",
            "Average accuracy for kernel_width 1.0, num_samples 1600: 0.0\n",
            "Testing kernel_width: 1.0, num_samples: 1700\n"
          ]
        },
        {
          "output_type": "stream",
          "name": "stderr",
          "text": [
            "/usr/local/lib/python3.10/dist-packages/sklearn/metrics/_classification.py:227: FutureWarning: elementwise comparison failed; returning scalar instead, but in the future will perform elementwise comparison\n",
            "  score = y_true == y_pred\n"
          ]
        },
        {
          "output_type": "stream",
          "name": "stdout",
          "text": [
            "Intercept 0.6707172535177073\n",
            "Prediction_local [0.98350274]\n",
            "Right: 0.99611354\n"
          ]
        },
        {
          "output_type": "stream",
          "name": "stderr",
          "text": [
            "/usr/local/lib/python3.10/dist-packages/sklearn/metrics/_classification.py:227: FutureWarning: elementwise comparison failed; returning scalar instead, but in the future will perform elementwise comparison\n",
            "  score = y_true == y_pred\n"
          ]
        },
        {
          "output_type": "stream",
          "name": "stdout",
          "text": [
            "Intercept 0.6486810457699225\n",
            "Prediction_local [0.07598665]\n",
            "Right: 0.043278545\n"
          ]
        },
        {
          "output_type": "stream",
          "name": "stderr",
          "text": [
            "/usr/local/lib/python3.10/dist-packages/sklearn/metrics/_classification.py:227: FutureWarning: elementwise comparison failed; returning scalar instead, but in the future will perform elementwise comparison\n",
            "  score = y_true == y_pred\n"
          ]
        },
        {
          "output_type": "stream",
          "name": "stdout",
          "text": [
            "Intercept 0.0008629076032857835\n",
            "Prediction_local [0.00072632]\n",
            "Right: 0.0007274526\n"
          ]
        },
        {
          "output_type": "stream",
          "name": "stderr",
          "text": [
            "/usr/local/lib/python3.10/dist-packages/sklearn/metrics/_classification.py:227: FutureWarning: elementwise comparison failed; returning scalar instead, but in the future will perform elementwise comparison\n",
            "  score = y_true == y_pred\n"
          ]
        },
        {
          "output_type": "stream",
          "name": "stdout",
          "text": [
            "Intercept 0.9984647719514607\n",
            "Prediction_local [0.99891412]\n",
            "Right: 0.998904\n"
          ]
        },
        {
          "output_type": "stream",
          "name": "stderr",
          "text": [
            "/usr/local/lib/python3.10/dist-packages/sklearn/metrics/_classification.py:227: FutureWarning: elementwise comparison failed; returning scalar instead, but in the future will perform elementwise comparison\n",
            "  score = y_true == y_pred\n"
          ]
        },
        {
          "output_type": "stream",
          "name": "stdout",
          "text": [
            "Intercept 0.0007621998700535396\n",
            "Prediction_local [0.00072926]\n",
            "Right: 0.0007344822\n"
          ]
        },
        {
          "output_type": "stream",
          "name": "stderr",
          "text": [
            "/usr/local/lib/python3.10/dist-packages/sklearn/metrics/_classification.py:227: FutureWarning: elementwise comparison failed; returning scalar instead, but in the future will perform elementwise comparison\n",
            "  score = y_true == y_pred\n"
          ]
        },
        {
          "output_type": "stream",
          "name": "stdout",
          "text": [
            "Intercept 0.0024582611067617203\n",
            "Prediction_local [0.00094743]\n",
            "Right: 0.00083768636\n"
          ]
        },
        {
          "output_type": "stream",
          "name": "stderr",
          "text": [
            "/usr/local/lib/python3.10/dist-packages/sklearn/metrics/_classification.py:227: FutureWarning: elementwise comparison failed; returning scalar instead, but in the future will perform elementwise comparison\n",
            "  score = y_true == y_pred\n"
          ]
        },
        {
          "output_type": "stream",
          "name": "stdout",
          "text": [
            "Intercept 0.34708037794566626\n",
            "Prediction_local [0.98730765]\n",
            "Right: 0.9964223\n"
          ]
        },
        {
          "output_type": "stream",
          "name": "stderr",
          "text": [
            "/usr/local/lib/python3.10/dist-packages/sklearn/metrics/_classification.py:227: FutureWarning: elementwise comparison failed; returning scalar instead, but in the future will perform elementwise comparison\n",
            "  score = y_true == y_pred\n"
          ]
        },
        {
          "output_type": "stream",
          "name": "stdout",
          "text": [
            "Intercept 0.15429184105374594\n",
            "Prediction_local [0.91526234]\n",
            "Right: 0.97473156\n"
          ]
        },
        {
          "output_type": "stream",
          "name": "stderr",
          "text": [
            "/usr/local/lib/python3.10/dist-packages/sklearn/metrics/_classification.py:227: FutureWarning: elementwise comparison failed; returning scalar instead, but in the future will perform elementwise comparison\n",
            "  score = y_true == y_pred\n"
          ]
        },
        {
          "output_type": "stream",
          "name": "stdout",
          "text": [
            "Intercept 0.9992633763994666\n",
            "Prediction_local [0.99926329]\n",
            "Right: 0.9992624\n"
          ]
        },
        {
          "output_type": "stream",
          "name": "stderr",
          "text": [
            "/usr/local/lib/python3.10/dist-packages/sklearn/metrics/_classification.py:227: FutureWarning: elementwise comparison failed; returning scalar instead, but in the future will perform elementwise comparison\n",
            "  score = y_true == y_pred\n"
          ]
        },
        {
          "output_type": "stream",
          "name": "stdout",
          "text": [
            "Intercept 0.000996862149234407\n",
            "Prediction_local [0.00077565]\n",
            "Right: 0.0007707312\n"
          ]
        },
        {
          "output_type": "stream",
          "name": "stderr",
          "text": [
            "/usr/local/lib/python3.10/dist-packages/sklearn/metrics/_classification.py:227: FutureWarning: elementwise comparison failed; returning scalar instead, but in the future will perform elementwise comparison\n",
            "  score = y_true == y_pred\n"
          ]
        },
        {
          "output_type": "stream",
          "name": "stdout",
          "text": [
            "Intercept 0.9992681409847254\n",
            "Prediction_local [0.99931387]\n",
            "Right: 0.9993167\n"
          ]
        },
        {
          "output_type": "stream",
          "name": "stderr",
          "text": [
            "/usr/local/lib/python3.10/dist-packages/sklearn/metrics/_classification.py:227: FutureWarning: elementwise comparison failed; returning scalar instead, but in the future will perform elementwise comparison\n",
            "  score = y_true == y_pred\n"
          ]
        },
        {
          "output_type": "stream",
          "name": "stdout",
          "text": [
            "Intercept 0.9990920062927549\n",
            "Prediction_local [0.99921659]\n",
            "Right: 0.99922764\n"
          ]
        },
        {
          "output_type": "stream",
          "name": "stderr",
          "text": [
            "/usr/local/lib/python3.10/dist-packages/sklearn/metrics/_classification.py:227: FutureWarning: elementwise comparison failed; returning scalar instead, but in the future will perform elementwise comparison\n",
            "  score = y_true == y_pred\n"
          ]
        },
        {
          "output_type": "stream",
          "name": "stdout",
          "text": [
            "Intercept 0.9989686079150221\n",
            "Prediction_local [0.99894764]\n",
            "Right: 0.9989594\n"
          ]
        },
        {
          "output_type": "stream",
          "name": "stderr",
          "text": [
            "/usr/local/lib/python3.10/dist-packages/sklearn/metrics/_classification.py:227: FutureWarning: elementwise comparison failed; returning scalar instead, but in the future will perform elementwise comparison\n",
            "  score = y_true == y_pred\n"
          ]
        },
        {
          "output_type": "stream",
          "name": "stdout",
          "text": [
            "Intercept 0.11338575581941973\n",
            "Prediction_local [0.00297237]\n",
            "Right: 0.0009115656\n"
          ]
        },
        {
          "output_type": "stream",
          "name": "stderr",
          "text": [
            "/usr/local/lib/python3.10/dist-packages/sklearn/metrics/_classification.py:227: FutureWarning: elementwise comparison failed; returning scalar instead, but in the future will perform elementwise comparison\n",
            "  score = y_true == y_pred\n"
          ]
        },
        {
          "output_type": "stream",
          "name": "stdout",
          "text": [
            "Intercept 0.9989192445531306\n",
            "Prediction_local [0.99903455]\n",
            "Right: 0.9990361\n"
          ]
        },
        {
          "output_type": "stream",
          "name": "stderr",
          "text": [
            "/usr/local/lib/python3.10/dist-packages/sklearn/metrics/_classification.py:227: FutureWarning: elementwise comparison failed; returning scalar instead, but in the future will perform elementwise comparison\n",
            "  score = y_true == y_pred\n"
          ]
        },
        {
          "output_type": "stream",
          "name": "stdout",
          "text": [
            "Intercept -0.048741892144425036\n",
            "Prediction_local [0.95137825]\n",
            "Right: 0.96477824\n"
          ]
        },
        {
          "output_type": "stream",
          "name": "stderr",
          "text": [
            "/usr/local/lib/python3.10/dist-packages/sklearn/metrics/_classification.py:227: FutureWarning: elementwise comparison failed; returning scalar instead, but in the future will perform elementwise comparison\n",
            "  score = y_true == y_pred\n"
          ]
        },
        {
          "output_type": "stream",
          "name": "stdout",
          "text": [
            "Intercept 0.0011626572992817145\n",
            "Prediction_local [0.00099782]\n",
            "Right: 0.00096808706\n"
          ]
        },
        {
          "output_type": "stream",
          "name": "stderr",
          "text": [
            "/usr/local/lib/python3.10/dist-packages/sklearn/metrics/_classification.py:227: FutureWarning: elementwise comparison failed; returning scalar instead, but in the future will perform elementwise comparison\n",
            "  score = y_true == y_pred\n"
          ]
        },
        {
          "output_type": "stream",
          "name": "stdout",
          "text": [
            "Intercept 0.0010824239454333942\n",
            "Prediction_local [0.00085984]\n",
            "Right: 0.00084570306\n"
          ]
        },
        {
          "output_type": "stream",
          "name": "stderr",
          "text": [
            "/usr/local/lib/python3.10/dist-packages/sklearn/metrics/_classification.py:227: FutureWarning: elementwise comparison failed; returning scalar instead, but in the future will perform elementwise comparison\n",
            "  score = y_true == y_pred\n"
          ]
        },
        {
          "output_type": "stream",
          "name": "stdout",
          "text": [
            "Intercept 0.0008672911152810405\n",
            "Prediction_local [0.00072151]\n",
            "Right: 0.00071742246\n"
          ]
        },
        {
          "output_type": "stream",
          "name": "stderr",
          "text": [
            "/usr/local/lib/python3.10/dist-packages/sklearn/metrics/_classification.py:227: FutureWarning: elementwise comparison failed; returning scalar instead, but in the future will perform elementwise comparison\n",
            "  score = y_true == y_pred\n"
          ]
        },
        {
          "output_type": "stream",
          "name": "stdout",
          "text": [
            "Intercept 0.2013035270526341\n",
            "Prediction_local [0.00682018]\n",
            "Right: 0.0035938758\n"
          ]
        },
        {
          "output_type": "stream",
          "name": "stderr",
          "text": [
            "/usr/local/lib/python3.10/dist-packages/sklearn/metrics/_classification.py:227: FutureWarning: elementwise comparison failed; returning scalar instead, but in the future will perform elementwise comparison\n",
            "  score = y_true == y_pred\n"
          ]
        },
        {
          "output_type": "stream",
          "name": "stdout",
          "text": [
            "Intercept 0.00091111605595338\n",
            "Prediction_local [0.00084939]\n",
            "Right: 0.0008371007\n"
          ]
        },
        {
          "output_type": "stream",
          "name": "stderr",
          "text": [
            "/usr/local/lib/python3.10/dist-packages/sklearn/metrics/_classification.py:227: FutureWarning: elementwise comparison failed; returning scalar instead, but in the future will perform elementwise comparison\n",
            "  score = y_true == y_pred\n"
          ]
        },
        {
          "output_type": "stream",
          "name": "stdout",
          "text": [
            "Intercept 0.21803724307564276\n",
            "Prediction_local [0.95936528]\n",
            "Right: 0.91357636\n"
          ]
        },
        {
          "output_type": "stream",
          "name": "stderr",
          "text": [
            "/usr/local/lib/python3.10/dist-packages/sklearn/metrics/_classification.py:227: FutureWarning: elementwise comparison failed; returning scalar instead, but in the future will perform elementwise comparison\n",
            "  score = y_true == y_pred\n"
          ]
        },
        {
          "output_type": "stream",
          "name": "stdout",
          "text": [
            "Intercept 0.951379399179257\n",
            "Prediction_local [0.99762724]\n",
            "Right: 0.99688977\n"
          ]
        },
        {
          "output_type": "stream",
          "name": "stderr",
          "text": [
            "/usr/local/lib/python3.10/dist-packages/sklearn/metrics/_classification.py:227: FutureWarning: elementwise comparison failed; returning scalar instead, but in the future will perform elementwise comparison\n",
            "  score = y_true == y_pred\n"
          ]
        },
        {
          "output_type": "stream",
          "name": "stdout",
          "text": [
            "Intercept 0.0012238951886826784\n",
            "Prediction_local [0.00075196]\n",
            "Right: 0.00073403446\n"
          ]
        },
        {
          "output_type": "stream",
          "name": "stderr",
          "text": [
            "/usr/local/lib/python3.10/dist-packages/sklearn/metrics/_classification.py:227: FutureWarning: elementwise comparison failed; returning scalar instead, but in the future will perform elementwise comparison\n",
            "  score = y_true == y_pred\n"
          ]
        },
        {
          "output_type": "stream",
          "name": "stdout",
          "text": [
            "Intercept 0.3366183788621337\n",
            "Prediction_local [0.0042819]\n",
            "Right: 0.0021163863\n"
          ]
        },
        {
          "output_type": "stream",
          "name": "stderr",
          "text": [
            "/usr/local/lib/python3.10/dist-packages/sklearn/metrics/_classification.py:227: FutureWarning: elementwise comparison failed; returning scalar instead, but in the future will perform elementwise comparison\n",
            "  score = y_true == y_pred\n"
          ]
        },
        {
          "output_type": "stream",
          "name": "stdout",
          "text": [
            "Intercept 0.0007637836857995431\n",
            "Prediction_local [0.00071605]\n",
            "Right: 0.0007177514\n"
          ]
        },
        {
          "output_type": "stream",
          "name": "stderr",
          "text": [
            "/usr/local/lib/python3.10/dist-packages/sklearn/metrics/_classification.py:227: FutureWarning: elementwise comparison failed; returning scalar instead, but in the future will perform elementwise comparison\n",
            "  score = y_true == y_pred\n"
          ]
        },
        {
          "output_type": "stream",
          "name": "stdout",
          "text": [
            "Intercept 0.9989217870124242\n",
            "Prediction_local [0.99901815]\n",
            "Right: 0.9990294\n"
          ]
        },
        {
          "output_type": "stream",
          "name": "stderr",
          "text": [
            "/usr/local/lib/python3.10/dist-packages/sklearn/metrics/_classification.py:227: FutureWarning: elementwise comparison failed; returning scalar instead, but in the future will perform elementwise comparison\n",
            "  score = y_true == y_pred\n"
          ]
        },
        {
          "output_type": "stream",
          "name": "stdout",
          "text": [
            "Intercept 0.4657663723424029\n",
            "Prediction_local [0.99517635]\n",
            "Right: 0.9984132\n"
          ]
        },
        {
          "output_type": "stream",
          "name": "stderr",
          "text": [
            "/usr/local/lib/python3.10/dist-packages/sklearn/metrics/_classification.py:227: FutureWarning: elementwise comparison failed; returning scalar instead, but in the future will perform elementwise comparison\n",
            "  score = y_true == y_pred\n"
          ]
        },
        {
          "output_type": "stream",
          "name": "stdout",
          "text": [
            "Intercept 0.9983831329518197\n",
            "Prediction_local [0.99899277]\n",
            "Right: 0.9990656\n"
          ]
        },
        {
          "output_type": "stream",
          "name": "stderr",
          "text": [
            "/usr/local/lib/python3.10/dist-packages/sklearn/metrics/_classification.py:227: FutureWarning: elementwise comparison failed; returning scalar instead, but in the future will perform elementwise comparison\n",
            "  score = y_true == y_pred\n"
          ]
        },
        {
          "output_type": "stream",
          "name": "stdout",
          "text": [
            "Intercept 0.9989139964136293\n",
            "Prediction_local [0.99922568]\n",
            "Right: 0.99923337\n",
            "Average accuracy for kernel_width 1.0, num_samples 1700: 0.0\n",
            "Testing kernel_width: 1.0, num_samples: 1800\n"
          ]
        },
        {
          "output_type": "stream",
          "name": "stderr",
          "text": [
            "/usr/local/lib/python3.10/dist-packages/sklearn/metrics/_classification.py:227: FutureWarning: elementwise comparison failed; returning scalar instead, but in the future will perform elementwise comparison\n",
            "  score = y_true == y_pred\n"
          ]
        },
        {
          "output_type": "stream",
          "name": "stdout",
          "text": [
            "Intercept 0.6404834532376615\n",
            "Prediction_local [0.98529245]\n",
            "Right: 0.99611354\n"
          ]
        },
        {
          "output_type": "stream",
          "name": "stderr",
          "text": [
            "/usr/local/lib/python3.10/dist-packages/sklearn/metrics/_classification.py:227: FutureWarning: elementwise comparison failed; returning scalar instead, but in the future will perform elementwise comparison\n",
            "  score = y_true == y_pred\n"
          ]
        },
        {
          "output_type": "stream",
          "name": "stdout",
          "text": [
            "Intercept 0.6646881514473365\n",
            "Prediction_local [0.08163112]\n",
            "Right: 0.043278545\n"
          ]
        },
        {
          "output_type": "stream",
          "name": "stderr",
          "text": [
            "/usr/local/lib/python3.10/dist-packages/sklearn/metrics/_classification.py:227: FutureWarning: elementwise comparison failed; returning scalar instead, but in the future will perform elementwise comparison\n",
            "  score = y_true == y_pred\n"
          ]
        },
        {
          "output_type": "stream",
          "name": "stdout",
          "text": [
            "Intercept 0.0008273398446404177\n",
            "Prediction_local [0.00072899]\n",
            "Right: 0.0007274526\n"
          ]
        },
        {
          "output_type": "stream",
          "name": "stderr",
          "text": [
            "/usr/local/lib/python3.10/dist-packages/sklearn/metrics/_classification.py:227: FutureWarning: elementwise comparison failed; returning scalar instead, but in the future will perform elementwise comparison\n",
            "  score = y_true == y_pred\n"
          ]
        },
        {
          "output_type": "stream",
          "name": "stdout",
          "text": [
            "Intercept 0.9988518334412042\n",
            "Prediction_local [0.99891102]\n",
            "Right: 0.998904\n"
          ]
        },
        {
          "output_type": "stream",
          "name": "stderr",
          "text": [
            "/usr/local/lib/python3.10/dist-packages/sklearn/metrics/_classification.py:227: FutureWarning: elementwise comparison failed; returning scalar instead, but in the future will perform elementwise comparison\n",
            "  score = y_true == y_pred\n"
          ]
        },
        {
          "output_type": "stream",
          "name": "stdout",
          "text": [
            "Intercept 0.0007678355731207539\n",
            "Prediction_local [0.00072837]\n",
            "Right: 0.0007344822\n"
          ]
        },
        {
          "output_type": "stream",
          "name": "stderr",
          "text": [
            "/usr/local/lib/python3.10/dist-packages/sklearn/metrics/_classification.py:227: FutureWarning: elementwise comparison failed; returning scalar instead, but in the future will perform elementwise comparison\n",
            "  score = y_true == y_pred\n"
          ]
        },
        {
          "output_type": "stream",
          "name": "stdout",
          "text": [
            "Intercept 0.002041532856475877\n",
            "Prediction_local [0.00088218]\n",
            "Right: 0.00083768636\n"
          ]
        },
        {
          "output_type": "stream",
          "name": "stderr",
          "text": [
            "/usr/local/lib/python3.10/dist-packages/sklearn/metrics/_classification.py:227: FutureWarning: elementwise comparison failed; returning scalar instead, but in the future will perform elementwise comparison\n",
            "  score = y_true == y_pred\n"
          ]
        },
        {
          "output_type": "stream",
          "name": "stdout",
          "text": [
            "Intercept -0.16336792187393612\n",
            "Prediction_local [0.97238634]\n",
            "Right: 0.9964223\n"
          ]
        },
        {
          "output_type": "stream",
          "name": "stderr",
          "text": [
            "/usr/local/lib/python3.10/dist-packages/sklearn/metrics/_classification.py:227: FutureWarning: elementwise comparison failed; returning scalar instead, but in the future will perform elementwise comparison\n",
            "  score = y_true == y_pred\n"
          ]
        },
        {
          "output_type": "stream",
          "name": "stdout",
          "text": [
            "Intercept -0.9173517135151416\n",
            "Prediction_local [0.89934472]\n",
            "Right: 0.97473156\n"
          ]
        },
        {
          "output_type": "stream",
          "name": "stderr",
          "text": [
            "/usr/local/lib/python3.10/dist-packages/sklearn/metrics/_classification.py:227: FutureWarning: elementwise comparison failed; returning scalar instead, but in the future will perform elementwise comparison\n",
            "  score = y_true == y_pred\n"
          ]
        },
        {
          "output_type": "stream",
          "name": "stdout",
          "text": [
            "Intercept 0.9992804995296304\n",
            "Prediction_local [0.99926321]\n",
            "Right: 0.9992624\n"
          ]
        },
        {
          "output_type": "stream",
          "name": "stderr",
          "text": [
            "/usr/local/lib/python3.10/dist-packages/sklearn/metrics/_classification.py:227: FutureWarning: elementwise comparison failed; returning scalar instead, but in the future will perform elementwise comparison\n",
            "  score = y_true == y_pred\n"
          ]
        },
        {
          "output_type": "stream",
          "name": "stdout",
          "text": [
            "Intercept 0.0009889863323843942\n",
            "Prediction_local [0.00077595]\n",
            "Right: 0.0007707312\n"
          ]
        },
        {
          "output_type": "stream",
          "name": "stderr",
          "text": [
            "/usr/local/lib/python3.10/dist-packages/sklearn/metrics/_classification.py:227: FutureWarning: elementwise comparison failed; returning scalar instead, but in the future will perform elementwise comparison\n",
            "  score = y_true == y_pred\n"
          ]
        },
        {
          "output_type": "stream",
          "name": "stdout",
          "text": [
            "Intercept 0.9992898260208413\n",
            "Prediction_local [0.99931442]\n",
            "Right: 0.9993167\n"
          ]
        },
        {
          "output_type": "stream",
          "name": "stderr",
          "text": [
            "/usr/local/lib/python3.10/dist-packages/sklearn/metrics/_classification.py:227: FutureWarning: elementwise comparison failed; returning scalar instead, but in the future will perform elementwise comparison\n",
            "  score = y_true == y_pred\n"
          ]
        },
        {
          "output_type": "stream",
          "name": "stdout",
          "text": [
            "Intercept 0.9991151973681902\n",
            "Prediction_local [0.99921653]\n",
            "Right: 0.99922764\n"
          ]
        },
        {
          "output_type": "stream",
          "name": "stderr",
          "text": [
            "/usr/local/lib/python3.10/dist-packages/sklearn/metrics/_classification.py:227: FutureWarning: elementwise comparison failed; returning scalar instead, but in the future will perform elementwise comparison\n",
            "  score = y_true == y_pred\n"
          ]
        },
        {
          "output_type": "stream",
          "name": "stdout",
          "text": [
            "Intercept 0.9988975237788027\n",
            "Prediction_local [0.99894581]\n",
            "Right: 0.9989594\n"
          ]
        },
        {
          "output_type": "stream",
          "name": "stderr",
          "text": [
            "/usr/local/lib/python3.10/dist-packages/sklearn/metrics/_classification.py:227: FutureWarning: elementwise comparison failed; returning scalar instead, but in the future will perform elementwise comparison\n",
            "  score = y_true == y_pred\n"
          ]
        },
        {
          "output_type": "stream",
          "name": "stdout",
          "text": [
            "Intercept 0.018213463677042973\n",
            "Prediction_local [0.0012472]\n",
            "Right: 0.0009115656\n"
          ]
        },
        {
          "output_type": "stream",
          "name": "stderr",
          "text": [
            "/usr/local/lib/python3.10/dist-packages/sklearn/metrics/_classification.py:227: FutureWarning: elementwise comparison failed; returning scalar instead, but in the future will perform elementwise comparison\n",
            "  score = y_true == y_pred\n"
          ]
        },
        {
          "output_type": "stream",
          "name": "stdout",
          "text": [
            "Intercept 0.9989411479861056\n",
            "Prediction_local [0.99903752]\n",
            "Right: 0.9990361\n"
          ]
        },
        {
          "output_type": "stream",
          "name": "stderr",
          "text": [
            "/usr/local/lib/python3.10/dist-packages/sklearn/metrics/_classification.py:227: FutureWarning: elementwise comparison failed; returning scalar instead, but in the future will perform elementwise comparison\n",
            "  score = y_true == y_pred\n"
          ]
        },
        {
          "output_type": "stream",
          "name": "stdout",
          "text": [
            "Intercept -0.1534013231276714\n",
            "Prediction_local [0.9563341]\n",
            "Right: 0.96477824\n"
          ]
        },
        {
          "output_type": "stream",
          "name": "stderr",
          "text": [
            "/usr/local/lib/python3.10/dist-packages/sklearn/metrics/_classification.py:227: FutureWarning: elementwise comparison failed; returning scalar instead, but in the future will perform elementwise comparison\n",
            "  score = y_true == y_pred\n"
          ]
        },
        {
          "output_type": "stream",
          "name": "stdout",
          "text": [
            "Intercept 0.0012007355628865985\n",
            "Prediction_local [0.00101348]\n",
            "Right: 0.00096808706\n"
          ]
        },
        {
          "output_type": "stream",
          "name": "stderr",
          "text": [
            "/usr/local/lib/python3.10/dist-packages/sklearn/metrics/_classification.py:227: FutureWarning: elementwise comparison failed; returning scalar instead, but in the future will perform elementwise comparison\n",
            "  score = y_true == y_pred\n"
          ]
        },
        {
          "output_type": "stream",
          "name": "stdout",
          "text": [
            "Intercept 0.0009338263888527877\n",
            "Prediction_local [0.00085372]\n",
            "Right: 0.00084570306\n"
          ]
        },
        {
          "output_type": "stream",
          "name": "stderr",
          "text": [
            "/usr/local/lib/python3.10/dist-packages/sklearn/metrics/_classification.py:227: FutureWarning: elementwise comparison failed; returning scalar instead, but in the future will perform elementwise comparison\n",
            "  score = y_true == y_pred\n"
          ]
        },
        {
          "output_type": "stream",
          "name": "stdout",
          "text": [
            "Intercept 0.0008167093625463528\n",
            "Prediction_local [0.00071735]\n",
            "Right: 0.00071742246\n"
          ]
        },
        {
          "output_type": "stream",
          "name": "stderr",
          "text": [
            "/usr/local/lib/python3.10/dist-packages/sklearn/metrics/_classification.py:227: FutureWarning: elementwise comparison failed; returning scalar instead, but in the future will perform elementwise comparison\n",
            "  score = y_true == y_pred\n"
          ]
        },
        {
          "output_type": "stream",
          "name": "stdout",
          "text": [
            "Intercept 0.06563953441296135\n",
            "Prediction_local [0.00560163]\n",
            "Right: 0.0035938758\n"
          ]
        },
        {
          "output_type": "stream",
          "name": "stderr",
          "text": [
            "/usr/local/lib/python3.10/dist-packages/sklearn/metrics/_classification.py:227: FutureWarning: elementwise comparison failed; returning scalar instead, but in the future will perform elementwise comparison\n",
            "  score = y_true == y_pred\n"
          ]
        },
        {
          "output_type": "stream",
          "name": "stdout",
          "text": [
            "Intercept 0.0010094732606567688\n",
            "Prediction_local [0.00084156]\n",
            "Right: 0.0008371007\n"
          ]
        },
        {
          "output_type": "stream",
          "name": "stderr",
          "text": [
            "/usr/local/lib/python3.10/dist-packages/sklearn/metrics/_classification.py:227: FutureWarning: elementwise comparison failed; returning scalar instead, but in the future will perform elementwise comparison\n",
            "  score = y_true == y_pred\n"
          ]
        },
        {
          "output_type": "stream",
          "name": "stdout",
          "text": [
            "Intercept -0.9650429910044825\n",
            "Prediction_local [0.91229536]\n",
            "Right: 0.91357636\n"
          ]
        },
        {
          "output_type": "stream",
          "name": "stderr",
          "text": [
            "/usr/local/lib/python3.10/dist-packages/sklearn/metrics/_classification.py:227: FutureWarning: elementwise comparison failed; returning scalar instead, but in the future will perform elementwise comparison\n",
            "  score = y_true == y_pred\n"
          ]
        },
        {
          "output_type": "stream",
          "name": "stdout",
          "text": [
            "Intercept 0.979645011928631\n",
            "Prediction_local [0.99765851]\n",
            "Right: 0.99688977\n"
          ]
        },
        {
          "output_type": "stream",
          "name": "stderr",
          "text": [
            "/usr/local/lib/python3.10/dist-packages/sklearn/metrics/_classification.py:227: FutureWarning: elementwise comparison failed; returning scalar instead, but in the future will perform elementwise comparison\n",
            "  score = y_true == y_pred\n"
          ]
        },
        {
          "output_type": "stream",
          "name": "stdout",
          "text": [
            "Intercept 0.00100607192632292\n",
            "Prediction_local [0.00075189]\n",
            "Right: 0.00073403446\n"
          ]
        },
        {
          "output_type": "stream",
          "name": "stderr",
          "text": [
            "/usr/local/lib/python3.10/dist-packages/sklearn/metrics/_classification.py:227: FutureWarning: elementwise comparison failed; returning scalar instead, but in the future will perform elementwise comparison\n",
            "  score = y_true == y_pred\n"
          ]
        },
        {
          "output_type": "stream",
          "name": "stdout",
          "text": [
            "Intercept 0.36764075335525126\n",
            "Prediction_local [0.01043055]\n",
            "Right: 0.0021163863\n"
          ]
        },
        {
          "output_type": "stream",
          "name": "stderr",
          "text": [
            "/usr/local/lib/python3.10/dist-packages/sklearn/metrics/_classification.py:227: FutureWarning: elementwise comparison failed; returning scalar instead, but in the future will perform elementwise comparison\n",
            "  score = y_true == y_pred\n"
          ]
        },
        {
          "output_type": "stream",
          "name": "stdout",
          "text": [
            "Intercept 0.0006928499273010445\n",
            "Prediction_local [0.00071589]\n",
            "Right: 0.0007177514\n"
          ]
        },
        {
          "output_type": "stream",
          "name": "stderr",
          "text": [
            "/usr/local/lib/python3.10/dist-packages/sklearn/metrics/_classification.py:227: FutureWarning: elementwise comparison failed; returning scalar instead, but in the future will perform elementwise comparison\n",
            "  score = y_true == y_pred\n"
          ]
        },
        {
          "output_type": "stream",
          "name": "stdout",
          "text": [
            "Intercept 0.9989912281849623\n",
            "Prediction_local [0.9990208]\n",
            "Right: 0.9990294\n"
          ]
        },
        {
          "output_type": "stream",
          "name": "stderr",
          "text": [
            "/usr/local/lib/python3.10/dist-packages/sklearn/metrics/_classification.py:227: FutureWarning: elementwise comparison failed; returning scalar instead, but in the future will perform elementwise comparison\n",
            "  score = y_true == y_pred\n"
          ]
        },
        {
          "output_type": "stream",
          "name": "stdout",
          "text": [
            "Intercept 0.6994115786648478\n",
            "Prediction_local [0.99487559]\n",
            "Right: 0.9984132\n"
          ]
        },
        {
          "output_type": "stream",
          "name": "stderr",
          "text": [
            "/usr/local/lib/python3.10/dist-packages/sklearn/metrics/_classification.py:227: FutureWarning: elementwise comparison failed; returning scalar instead, but in the future will perform elementwise comparison\n",
            "  score = y_true == y_pred\n"
          ]
        },
        {
          "output_type": "stream",
          "name": "stdout",
          "text": [
            "Intercept 0.9974715331605407\n",
            "Prediction_local [0.99891651]\n",
            "Right: 0.9990656\n"
          ]
        },
        {
          "output_type": "stream",
          "name": "stderr",
          "text": [
            "/usr/local/lib/python3.10/dist-packages/sklearn/metrics/_classification.py:227: FutureWarning: elementwise comparison failed; returning scalar instead, but in the future will perform elementwise comparison\n",
            "  score = y_true == y_pred\n"
          ]
        },
        {
          "output_type": "stream",
          "name": "stdout",
          "text": [
            "Intercept 0.998875777322868\n",
            "Prediction_local [0.99922394]\n",
            "Right: 0.99923337\n",
            "Average accuracy for kernel_width 1.0, num_samples 1800: 0.0\n",
            "Testing kernel_width: 1.0, num_samples: 1900\n"
          ]
        },
        {
          "output_type": "stream",
          "name": "stderr",
          "text": [
            "/usr/local/lib/python3.10/dist-packages/sklearn/metrics/_classification.py:227: FutureWarning: elementwise comparison failed; returning scalar instead, but in the future will perform elementwise comparison\n",
            "  score = y_true == y_pred\n"
          ]
        },
        {
          "output_type": "stream",
          "name": "stdout",
          "text": [
            "Intercept 0.8833815805791752\n",
            "Prediction_local [0.99067142]\n",
            "Right: 0.99611354\n"
          ]
        },
        {
          "output_type": "stream",
          "name": "stderr",
          "text": [
            "/usr/local/lib/python3.10/dist-packages/sklearn/metrics/_classification.py:227: FutureWarning: elementwise comparison failed; returning scalar instead, but in the future will perform elementwise comparison\n",
            "  score = y_true == y_pred\n"
          ]
        },
        {
          "output_type": "stream",
          "name": "stdout",
          "text": [
            "Intercept 0.7755674003133213\n",
            "Prediction_local [0.07948846]\n",
            "Right: 0.043278545\n"
          ]
        },
        {
          "output_type": "stream",
          "name": "stderr",
          "text": [
            "/usr/local/lib/python3.10/dist-packages/sklearn/metrics/_classification.py:227: FutureWarning: elementwise comparison failed; returning scalar instead, but in the future will perform elementwise comparison\n",
            "  score = y_true == y_pred\n"
          ]
        },
        {
          "output_type": "stream",
          "name": "stdout",
          "text": [
            "Intercept 0.0008126866936595708\n",
            "Prediction_local [0.00072912]\n",
            "Right: 0.0007274526\n"
          ]
        },
        {
          "output_type": "stream",
          "name": "stderr",
          "text": [
            "/usr/local/lib/python3.10/dist-packages/sklearn/metrics/_classification.py:227: FutureWarning: elementwise comparison failed; returning scalar instead, but in the future will perform elementwise comparison\n",
            "  score = y_true == y_pred\n"
          ]
        },
        {
          "output_type": "stream",
          "name": "stdout",
          "text": [
            "Intercept 0.9986487748352554\n",
            "Prediction_local [0.99891399]\n",
            "Right: 0.998904\n"
          ]
        },
        {
          "output_type": "stream",
          "name": "stderr",
          "text": [
            "/usr/local/lib/python3.10/dist-packages/sklearn/metrics/_classification.py:227: FutureWarning: elementwise comparison failed; returning scalar instead, but in the future will perform elementwise comparison\n",
            "  score = y_true == y_pred\n"
          ]
        },
        {
          "output_type": "stream",
          "name": "stdout",
          "text": [
            "Intercept 0.0007199227112247152\n",
            "Prediction_local [0.00072754]\n",
            "Right: 0.0007344822\n"
          ]
        },
        {
          "output_type": "stream",
          "name": "stderr",
          "text": [
            "/usr/local/lib/python3.10/dist-packages/sklearn/metrics/_classification.py:227: FutureWarning: elementwise comparison failed; returning scalar instead, but in the future will perform elementwise comparison\n",
            "  score = y_true == y_pred\n"
          ]
        },
        {
          "output_type": "stream",
          "name": "stdout",
          "text": [
            "Intercept 0.00293857324696238\n",
            "Prediction_local [0.00092719]\n",
            "Right: 0.00083768636\n"
          ]
        },
        {
          "output_type": "stream",
          "name": "stderr",
          "text": [
            "/usr/local/lib/python3.10/dist-packages/sklearn/metrics/_classification.py:227: FutureWarning: elementwise comparison failed; returning scalar instead, but in the future will perform elementwise comparison\n",
            "  score = y_true == y_pred\n"
          ]
        },
        {
          "output_type": "stream",
          "name": "stdout",
          "text": [
            "Intercept 0.14505077582014436\n",
            "Prediction_local [0.97901285]\n",
            "Right: 0.9964223\n"
          ]
        },
        {
          "output_type": "stream",
          "name": "stderr",
          "text": [
            "/usr/local/lib/python3.10/dist-packages/sklearn/metrics/_classification.py:227: FutureWarning: elementwise comparison failed; returning scalar instead, but in the future will perform elementwise comparison\n",
            "  score = y_true == y_pred\n"
          ]
        },
        {
          "output_type": "stream",
          "name": "stdout",
          "text": [
            "Intercept 0.44113895533342506\n",
            "Prediction_local [0.9213925]\n",
            "Right: 0.97473156\n"
          ]
        },
        {
          "output_type": "stream",
          "name": "stderr",
          "text": [
            "/usr/local/lib/python3.10/dist-packages/sklearn/metrics/_classification.py:227: FutureWarning: elementwise comparison failed; returning scalar instead, but in the future will perform elementwise comparison\n",
            "  score = y_true == y_pred\n"
          ]
        },
        {
          "output_type": "stream",
          "name": "stdout",
          "text": [
            "Intercept 0.9992531934884638\n",
            "Prediction_local [0.99926364]\n",
            "Right: 0.9992624\n"
          ]
        },
        {
          "output_type": "stream",
          "name": "stderr",
          "text": [
            "/usr/local/lib/python3.10/dist-packages/sklearn/metrics/_classification.py:227: FutureWarning: elementwise comparison failed; returning scalar instead, but in the future will perform elementwise comparison\n",
            "  score = y_true == y_pred\n"
          ]
        },
        {
          "output_type": "stream",
          "name": "stdout",
          "text": [
            "Intercept 0.0009446208524864386\n",
            "Prediction_local [0.00077611]\n",
            "Right: 0.0007707312\n"
          ]
        },
        {
          "output_type": "stream",
          "name": "stderr",
          "text": [
            "/usr/local/lib/python3.10/dist-packages/sklearn/metrics/_classification.py:227: FutureWarning: elementwise comparison failed; returning scalar instead, but in the future will perform elementwise comparison\n",
            "  score = y_true == y_pred\n"
          ]
        },
        {
          "output_type": "stream",
          "name": "stdout",
          "text": [
            "Intercept 0.9992790080689745\n",
            "Prediction_local [0.99931316]\n",
            "Right: 0.9993167\n"
          ]
        },
        {
          "output_type": "stream",
          "name": "stderr",
          "text": [
            "/usr/local/lib/python3.10/dist-packages/sklearn/metrics/_classification.py:227: FutureWarning: elementwise comparison failed; returning scalar instead, but in the future will perform elementwise comparison\n",
            "  score = y_true == y_pred\n"
          ]
        },
        {
          "output_type": "stream",
          "name": "stdout",
          "text": [
            "Intercept 0.9990954483272667\n",
            "Prediction_local [0.99921589]\n",
            "Right: 0.99922764\n"
          ]
        },
        {
          "output_type": "stream",
          "name": "stderr",
          "text": [
            "/usr/local/lib/python3.10/dist-packages/sklearn/metrics/_classification.py:227: FutureWarning: elementwise comparison failed; returning scalar instead, but in the future will perform elementwise comparison\n",
            "  score = y_true == y_pred\n"
          ]
        },
        {
          "output_type": "stream",
          "name": "stdout",
          "text": [
            "Intercept 0.9989908406840134\n",
            "Prediction_local [0.99895206]\n",
            "Right: 0.9989594\n"
          ]
        },
        {
          "output_type": "stream",
          "name": "stderr",
          "text": [
            "/usr/local/lib/python3.10/dist-packages/sklearn/metrics/_classification.py:227: FutureWarning: elementwise comparison failed; returning scalar instead, but in the future will perform elementwise comparison\n",
            "  score = y_true == y_pred\n"
          ]
        },
        {
          "output_type": "stream",
          "name": "stdout",
          "text": [
            "Intercept 0.09098750901164125\n",
            "Prediction_local [0.00169079]\n",
            "Right: 0.0009115656\n"
          ]
        },
        {
          "output_type": "stream",
          "name": "stderr",
          "text": [
            "/usr/local/lib/python3.10/dist-packages/sklearn/metrics/_classification.py:227: FutureWarning: elementwise comparison failed; returning scalar instead, but in the future will perform elementwise comparison\n",
            "  score = y_true == y_pred\n"
          ]
        },
        {
          "output_type": "stream",
          "name": "stdout",
          "text": [
            "Intercept 0.9988676157575361\n",
            "Prediction_local [0.9990332]\n",
            "Right: 0.9990361\n"
          ]
        },
        {
          "output_type": "stream",
          "name": "stderr",
          "text": [
            "/usr/local/lib/python3.10/dist-packages/sklearn/metrics/_classification.py:227: FutureWarning: elementwise comparison failed; returning scalar instead, but in the future will perform elementwise comparison\n",
            "  score = y_true == y_pred\n"
          ]
        },
        {
          "output_type": "stream",
          "name": "stdout",
          "text": [
            "Intercept -0.5679458548547821\n",
            "Prediction_local [0.94842563]\n",
            "Right: 0.96477824\n"
          ]
        },
        {
          "output_type": "stream",
          "name": "stderr",
          "text": [
            "/usr/local/lib/python3.10/dist-packages/sklearn/metrics/_classification.py:227: FutureWarning: elementwise comparison failed; returning scalar instead, but in the future will perform elementwise comparison\n",
            "  score = y_true == y_pred\n"
          ]
        },
        {
          "output_type": "stream",
          "name": "stdout",
          "text": [
            "Intercept 0.001343615932360726\n",
            "Prediction_local [0.0010136]\n",
            "Right: 0.00096808706\n"
          ]
        },
        {
          "output_type": "stream",
          "name": "stderr",
          "text": [
            "/usr/local/lib/python3.10/dist-packages/sklearn/metrics/_classification.py:227: FutureWarning: elementwise comparison failed; returning scalar instead, but in the future will perform elementwise comparison\n",
            "  score = y_true == y_pred\n"
          ]
        },
        {
          "output_type": "stream",
          "name": "stdout",
          "text": [
            "Intercept 0.0010606983923445604\n",
            "Prediction_local [0.000856]\n",
            "Right: 0.00084570306\n"
          ]
        },
        {
          "output_type": "stream",
          "name": "stderr",
          "text": [
            "/usr/local/lib/python3.10/dist-packages/sklearn/metrics/_classification.py:227: FutureWarning: elementwise comparison failed; returning scalar instead, but in the future will perform elementwise comparison\n",
            "  score = y_true == y_pred\n"
          ]
        },
        {
          "output_type": "stream",
          "name": "stdout",
          "text": [
            "Intercept 0.0008439978758067116\n",
            "Prediction_local [0.00071765]\n",
            "Right: 0.00071742246\n"
          ]
        },
        {
          "output_type": "stream",
          "name": "stderr",
          "text": [
            "/usr/local/lib/python3.10/dist-packages/sklearn/metrics/_classification.py:227: FutureWarning: elementwise comparison failed; returning scalar instead, but in the future will perform elementwise comparison\n",
            "  score = y_true == y_pred\n"
          ]
        },
        {
          "output_type": "stream",
          "name": "stdout",
          "text": [
            "Intercept 0.08800280325067626\n",
            "Prediction_local [0.00596068]\n",
            "Right: 0.0035938758\n"
          ]
        },
        {
          "output_type": "stream",
          "name": "stderr",
          "text": [
            "/usr/local/lib/python3.10/dist-packages/sklearn/metrics/_classification.py:227: FutureWarning: elementwise comparison failed; returning scalar instead, but in the future will perform elementwise comparison\n",
            "  score = y_true == y_pred\n"
          ]
        },
        {
          "output_type": "stream",
          "name": "stdout",
          "text": [
            "Intercept 0.0009588103312156765\n",
            "Prediction_local [0.00084688]\n",
            "Right: 0.0008371007\n"
          ]
        },
        {
          "output_type": "stream",
          "name": "stderr",
          "text": [
            "/usr/local/lib/python3.10/dist-packages/sklearn/metrics/_classification.py:227: FutureWarning: elementwise comparison failed; returning scalar instead, but in the future will perform elementwise comparison\n",
            "  score = y_true == y_pred\n"
          ]
        },
        {
          "output_type": "stream",
          "name": "stdout",
          "text": [
            "Intercept -1.0577420268019952\n",
            "Prediction_local [0.90151475]\n",
            "Right: 0.91357636\n"
          ]
        },
        {
          "output_type": "stream",
          "name": "stderr",
          "text": [
            "/usr/local/lib/python3.10/dist-packages/sklearn/metrics/_classification.py:227: FutureWarning: elementwise comparison failed; returning scalar instead, but in the future will perform elementwise comparison\n",
            "  score = y_true == y_pred\n"
          ]
        },
        {
          "output_type": "stream",
          "name": "stdout",
          "text": [
            "Intercept 0.9917848560726221\n",
            "Prediction_local [0.9974479]\n",
            "Right: 0.99688977\n"
          ]
        },
        {
          "output_type": "stream",
          "name": "stderr",
          "text": [
            "/usr/local/lib/python3.10/dist-packages/sklearn/metrics/_classification.py:227: FutureWarning: elementwise comparison failed; returning scalar instead, but in the future will perform elementwise comparison\n",
            "  score = y_true == y_pred\n"
          ]
        },
        {
          "output_type": "stream",
          "name": "stdout",
          "text": [
            "Intercept 0.0010116725988784515\n",
            "Prediction_local [0.00074458]\n",
            "Right: 0.00073403446\n"
          ]
        },
        {
          "output_type": "stream",
          "name": "stderr",
          "text": [
            "/usr/local/lib/python3.10/dist-packages/sklearn/metrics/_classification.py:227: FutureWarning: elementwise comparison failed; returning scalar instead, but in the future will perform elementwise comparison\n",
            "  score = y_true == y_pred\n"
          ]
        },
        {
          "output_type": "stream",
          "name": "stdout",
          "text": [
            "Intercept 0.11615815290222134\n",
            "Prediction_local [0.00359815]\n",
            "Right: 0.0021163863\n"
          ]
        },
        {
          "output_type": "stream",
          "name": "stderr",
          "text": [
            "/usr/local/lib/python3.10/dist-packages/sklearn/metrics/_classification.py:227: FutureWarning: elementwise comparison failed; returning scalar instead, but in the future will perform elementwise comparison\n",
            "  score = y_true == y_pred\n"
          ]
        },
        {
          "output_type": "stream",
          "name": "stdout",
          "text": [
            "Intercept 0.0007014075197716732\n",
            "Prediction_local [0.00071607]\n",
            "Right: 0.0007177514\n"
          ]
        },
        {
          "output_type": "stream",
          "name": "stderr",
          "text": [
            "/usr/local/lib/python3.10/dist-packages/sklearn/metrics/_classification.py:227: FutureWarning: elementwise comparison failed; returning scalar instead, but in the future will perform elementwise comparison\n",
            "  score = y_true == y_pred\n"
          ]
        },
        {
          "output_type": "stream",
          "name": "stdout",
          "text": [
            "Intercept 0.9990137089194153\n",
            "Prediction_local [0.99902594]\n",
            "Right: 0.9990294\n"
          ]
        },
        {
          "output_type": "stream",
          "name": "stderr",
          "text": [
            "/usr/local/lib/python3.10/dist-packages/sklearn/metrics/_classification.py:227: FutureWarning: elementwise comparison failed; returning scalar instead, but in the future will perform elementwise comparison\n",
            "  score = y_true == y_pred\n"
          ]
        },
        {
          "output_type": "stream",
          "name": "stdout",
          "text": [
            "Intercept 0.7442184508357752\n",
            "Prediction_local [0.99697033]\n",
            "Right: 0.9984132\n"
          ]
        },
        {
          "output_type": "stream",
          "name": "stderr",
          "text": [
            "/usr/local/lib/python3.10/dist-packages/sklearn/metrics/_classification.py:227: FutureWarning: elementwise comparison failed; returning scalar instead, but in the future will perform elementwise comparison\n",
            "  score = y_true == y_pred\n"
          ]
        },
        {
          "output_type": "stream",
          "name": "stdout",
          "text": [
            "Intercept 0.9977509293154447\n",
            "Prediction_local [0.99894974]\n",
            "Right: 0.9990656\n"
          ]
        },
        {
          "output_type": "stream",
          "name": "stderr",
          "text": [
            "/usr/local/lib/python3.10/dist-packages/sklearn/metrics/_classification.py:227: FutureWarning: elementwise comparison failed; returning scalar instead, but in the future will perform elementwise comparison\n",
            "  score = y_true == y_pred\n"
          ]
        },
        {
          "output_type": "stream",
          "name": "stdout",
          "text": [
            "Intercept 0.9990674755935617\n",
            "Prediction_local [0.9992305]\n",
            "Right: 0.99923337\n",
            "Average accuracy for kernel_width 1.0, num_samples 1900: 0.0\n",
            "Testing kernel_width: 1.0, num_samples: 2000\n"
          ]
        },
        {
          "output_type": "stream",
          "name": "stderr",
          "text": [
            "/usr/local/lib/python3.10/dist-packages/sklearn/metrics/_classification.py:227: FutureWarning: elementwise comparison failed; returning scalar instead, but in the future will perform elementwise comparison\n",
            "  score = y_true == y_pred\n"
          ]
        },
        {
          "output_type": "stream",
          "name": "stdout",
          "text": [
            "Intercept 0.8647560298084981\n",
            "Prediction_local [0.98987411]\n",
            "Right: 0.99611354\n"
          ]
        },
        {
          "output_type": "stream",
          "name": "stderr",
          "text": [
            "/usr/local/lib/python3.10/dist-packages/sklearn/metrics/_classification.py:227: FutureWarning: elementwise comparison failed; returning scalar instead, but in the future will perform elementwise comparison\n",
            "  score = y_true == y_pred\n"
          ]
        },
        {
          "output_type": "stream",
          "name": "stdout",
          "text": [
            "Intercept 1.0955702391349886\n",
            "Prediction_local [0.08765088]\n",
            "Right: 0.043278545\n"
          ]
        },
        {
          "output_type": "stream",
          "name": "stderr",
          "text": [
            "/usr/local/lib/python3.10/dist-packages/sklearn/metrics/_classification.py:227: FutureWarning: elementwise comparison failed; returning scalar instead, but in the future will perform elementwise comparison\n",
            "  score = y_true == y_pred\n"
          ]
        },
        {
          "output_type": "stream",
          "name": "stdout",
          "text": [
            "Intercept 0.0007850947999451301\n",
            "Prediction_local [0.00072915]\n",
            "Right: 0.0007274526\n"
          ]
        },
        {
          "output_type": "stream",
          "name": "stderr",
          "text": [
            "/usr/local/lib/python3.10/dist-packages/sklearn/metrics/_classification.py:227: FutureWarning: elementwise comparison failed; returning scalar instead, but in the future will perform elementwise comparison\n",
            "  score = y_true == y_pred\n"
          ]
        },
        {
          "output_type": "stream",
          "name": "stdout",
          "text": [
            "Intercept 0.9987591767512082\n",
            "Prediction_local [0.99891118]\n",
            "Right: 0.998904\n"
          ]
        },
        {
          "output_type": "stream",
          "name": "stderr",
          "text": [
            "/usr/local/lib/python3.10/dist-packages/sklearn/metrics/_classification.py:227: FutureWarning: elementwise comparison failed; returning scalar instead, but in the future will perform elementwise comparison\n",
            "  score = y_true == y_pred\n"
          ]
        },
        {
          "output_type": "stream",
          "name": "stdout",
          "text": [
            "Intercept 0.0008007587266406483\n",
            "Prediction_local [0.00072721]\n",
            "Right: 0.0007344822\n"
          ]
        },
        {
          "output_type": "stream",
          "name": "stderr",
          "text": [
            "/usr/local/lib/python3.10/dist-packages/sklearn/metrics/_classification.py:227: FutureWarning: elementwise comparison failed; returning scalar instead, but in the future will perform elementwise comparison\n",
            "  score = y_true == y_pred\n"
          ]
        },
        {
          "output_type": "stream",
          "name": "stdout",
          "text": [
            "Intercept 0.002283599159868215\n",
            "Prediction_local [0.00089453]\n",
            "Right: 0.00083768636\n"
          ]
        },
        {
          "output_type": "stream",
          "name": "stderr",
          "text": [
            "/usr/local/lib/python3.10/dist-packages/sklearn/metrics/_classification.py:227: FutureWarning: elementwise comparison failed; returning scalar instead, but in the future will perform elementwise comparison\n",
            "  score = y_true == y_pred\n"
          ]
        },
        {
          "output_type": "stream",
          "name": "stdout",
          "text": [
            "Intercept -0.2253733472471261\n",
            "Prediction_local [0.97071976]\n",
            "Right: 0.9964223\n"
          ]
        },
        {
          "output_type": "stream",
          "name": "stderr",
          "text": [
            "/usr/local/lib/python3.10/dist-packages/sklearn/metrics/_classification.py:227: FutureWarning: elementwise comparison failed; returning scalar instead, but in the future will perform elementwise comparison\n",
            "  score = y_true == y_pred\n"
          ]
        },
        {
          "output_type": "stream",
          "name": "stdout",
          "text": [
            "Intercept -0.5240676820802895\n",
            "Prediction_local [0.90181665]\n",
            "Right: 0.97473156\n"
          ]
        },
        {
          "output_type": "stream",
          "name": "stderr",
          "text": [
            "/usr/local/lib/python3.10/dist-packages/sklearn/metrics/_classification.py:227: FutureWarning: elementwise comparison failed; returning scalar instead, but in the future will perform elementwise comparison\n",
            "  score = y_true == y_pred\n"
          ]
        },
        {
          "output_type": "stream",
          "name": "stdout",
          "text": [
            "Intercept 0.9992648806117276\n",
            "Prediction_local [0.99926236]\n",
            "Right: 0.9992624\n"
          ]
        },
        {
          "output_type": "stream",
          "name": "stderr",
          "text": [
            "/usr/local/lib/python3.10/dist-packages/sklearn/metrics/_classification.py:227: FutureWarning: elementwise comparison failed; returning scalar instead, but in the future will perform elementwise comparison\n",
            "  score = y_true == y_pred\n"
          ]
        },
        {
          "output_type": "stream",
          "name": "stdout",
          "text": [
            "Intercept 0.0009757537884924746\n",
            "Prediction_local [0.00077858]\n",
            "Right: 0.0007707312\n"
          ]
        },
        {
          "output_type": "stream",
          "name": "stderr",
          "text": [
            "/usr/local/lib/python3.10/dist-packages/sklearn/metrics/_classification.py:227: FutureWarning: elementwise comparison failed; returning scalar instead, but in the future will perform elementwise comparison\n",
            "  score = y_true == y_pred\n"
          ]
        },
        {
          "output_type": "stream",
          "name": "stdout",
          "text": [
            "Intercept 0.9992839976488906\n",
            "Prediction_local [0.99931456]\n",
            "Right: 0.9993167\n"
          ]
        },
        {
          "output_type": "stream",
          "name": "stderr",
          "text": [
            "/usr/local/lib/python3.10/dist-packages/sklearn/metrics/_classification.py:227: FutureWarning: elementwise comparison failed; returning scalar instead, but in the future will perform elementwise comparison\n",
            "  score = y_true == y_pred\n"
          ]
        },
        {
          "output_type": "stream",
          "name": "stdout",
          "text": [
            "Intercept 0.9990713636494706\n",
            "Prediction_local [0.99921749]\n",
            "Right: 0.99922764\n"
          ]
        },
        {
          "output_type": "stream",
          "name": "stderr",
          "text": [
            "/usr/local/lib/python3.10/dist-packages/sklearn/metrics/_classification.py:227: FutureWarning: elementwise comparison failed; returning scalar instead, but in the future will perform elementwise comparison\n",
            "  score = y_true == y_pred\n"
          ]
        },
        {
          "output_type": "error",
          "ename": "KeyboardInterrupt",
          "evalue": "ignored",
          "traceback": [
            "\u001b[0;31m---------------------------------------------------------------------------\u001b[0m",
            "\u001b[0;31mKeyboardInterrupt\u001b[0m                         Traceback (most recent call last)",
            "\u001b[0;32m<ipython-input-71-92cbd4035e5f>\u001b[0m in \u001b[0;36m<cell line: 66>\u001b[0;34m()\u001b[0m\n\u001b[1;32m     64\u001b[0m \u001b[0mnum_samples_list\u001b[0m \u001b[0;34m=\u001b[0m \u001b[0mlist\u001b[0m\u001b[0;34m(\u001b[0m\u001b[0mrange\u001b[0m\u001b[0;34m(\u001b[0m\u001b[0;36m100\u001b[0m\u001b[0;34m,\u001b[0m \u001b[0;36m3000\u001b[0m\u001b[0;34m,\u001b[0m \u001b[0;36m100\u001b[0m\u001b[0;34m)\u001b[0m\u001b[0;34m)\u001b[0m\u001b[0;34m\u001b[0m\u001b[0;34m\u001b[0m\u001b[0m\n\u001b[1;32m     65\u001b[0m \u001b[0maccuracy_threshold\u001b[0m \u001b[0;34m=\u001b[0m \u001b[0;36m0.9\u001b[0m  \u001b[0;31m# Define your desired threshold for average accuracy\u001b[0m\u001b[0;34m\u001b[0m\u001b[0;34m\u001b[0m\u001b[0m\n\u001b[0;32m---> 66\u001b[0;31m \u001b[0moptimal_kernel_width\u001b[0m\u001b[0;34m,\u001b[0m \u001b[0moptimal_num_samples\u001b[0m\u001b[0;34m,\u001b[0m \u001b[0mbest_avg_accuracy\u001b[0m \u001b[0;34m=\u001b[0m \u001b[0mlime_grid_search\u001b[0m\u001b[0;34m(\u001b[0m\u001b[0mpredict_function\u001b[0m\u001b[0;34m,\u001b[0m \u001b[0mtokenized_sample\u001b[0m\u001b[0;34m,\u001b[0m \u001b[0mtrue_labels\u001b[0m\u001b[0;34m,\u001b[0m \u001b[0mkernel_widths\u001b[0m\u001b[0;34m,\u001b[0m \u001b[0mnum_samples_list\u001b[0m\u001b[0;34m,\u001b[0m \u001b[0maccuracy_threshold\u001b[0m\u001b[0;34m)\u001b[0m\u001b[0;34m\u001b[0m\u001b[0;34m\u001b[0m\u001b[0m\n\u001b[0m\u001b[1;32m     67\u001b[0m \u001b[0;34m\u001b[0m\u001b[0m\n\u001b[1;32m     68\u001b[0m \u001b[0mprint\u001b[0m\u001b[0;34m(\u001b[0m\u001b[0;34mf\"Optimal kernel width: {optimal_kernel_width}\"\u001b[0m\u001b[0;34m)\u001b[0m\u001b[0;34m\u001b[0m\u001b[0;34m\u001b[0m\u001b[0m\n",
            "\u001b[0;32m<ipython-input-71-92cbd4035e5f>\u001b[0m in \u001b[0;36mlime_grid_search\u001b[0;34m(predict_function, tokenized_sample, true_labels, kernel_widths, num_samples_list, accuracy_threshold, sample_size)\u001b[0m\n\u001b[1;32m     33\u001b[0m \u001b[0;34m\u001b[0m\u001b[0m\n\u001b[1;32m     34\u001b[0m                 \u001b[0mexplainer\u001b[0m \u001b[0;34m=\u001b[0m \u001b[0mLimeTextExplainer\u001b[0m\u001b[0;34m(\u001b[0m\u001b[0mkernel_width\u001b[0m\u001b[0;34m=\u001b[0m\u001b[0mkernel_width\u001b[0m\u001b[0;34m,\u001b[0m \u001b[0mclass_names\u001b[0m\u001b[0;34m=\u001b[0m\u001b[0;34m[\u001b[0m\u001b[0;34m\"negative\"\u001b[0m\u001b[0;34m,\u001b[0m \u001b[0;34m\"positive\"\u001b[0m\u001b[0;34m]\u001b[0m\u001b[0;34m,\u001b[0m \u001b[0mverbose\u001b[0m\u001b[0;34m=\u001b[0m\u001b[0;32mTrue\u001b[0m\u001b[0;34m,\u001b[0m \u001b[0mfeature_selection\u001b[0m\u001b[0;34m=\u001b[0m\u001b[0;34m'auto'\u001b[0m\u001b[0;34m)\u001b[0m\u001b[0;34m\u001b[0m\u001b[0;34m\u001b[0m\u001b[0m\n\u001b[0;32m---> 35\u001b[0;31m                 \u001b[0mexplanation\u001b[0m \u001b[0;34m=\u001b[0m \u001b[0mexplainer\u001b[0m\u001b[0;34m.\u001b[0m\u001b[0mexplain_instance\u001b[0m\u001b[0;34m(\u001b[0m\u001b[0mtext_to_explain\u001b[0m\u001b[0;34m,\u001b[0m \u001b[0mpredict_function\u001b[0m\u001b[0;34m,\u001b[0m \u001b[0mnum_samples\u001b[0m\u001b[0;34m=\u001b[0m\u001b[0mnum_samples\u001b[0m\u001b[0;34m)\u001b[0m\u001b[0;34m\u001b[0m\u001b[0;34m\u001b[0m\u001b[0m\n\u001b[0m\u001b[1;32m     36\u001b[0m                 \u001b[0mexplanation_list\u001b[0m \u001b[0;34m=\u001b[0m \u001b[0mexplanation\u001b[0m\u001b[0;34m.\u001b[0m\u001b[0mas_list\u001b[0m\u001b[0;34m(\u001b[0m\u001b[0;34m)\u001b[0m\u001b[0;34m\u001b[0m\u001b[0;34m\u001b[0m\u001b[0m\n\u001b[1;32m     37\u001b[0m \u001b[0;34m\u001b[0m\u001b[0m\n",
            "\u001b[0;32m/usr/local/lib/python3.10/dist-packages/lime/lime_text.py\u001b[0m in \u001b[0;36mexplain_instance\u001b[0;34m(self, text_instance, classifier_fn, labels, top_labels, num_features, num_samples, distance_metric, model_regressor)\u001b[0m\n\u001b[1;32m    411\u001b[0m                                         mask_string=self.mask_string))\n\u001b[1;32m    412\u001b[0m         \u001b[0mdomain_mapper\u001b[0m \u001b[0;34m=\u001b[0m \u001b[0mTextDomainMapper\u001b[0m\u001b[0;34m(\u001b[0m\u001b[0mindexed_string\u001b[0m\u001b[0;34m)\u001b[0m\u001b[0;34m\u001b[0m\u001b[0;34m\u001b[0m\u001b[0m\n\u001b[0;32m--> 413\u001b[0;31m         data, yss, distances = self.__data_labels_distances(\n\u001b[0m\u001b[1;32m    414\u001b[0m             \u001b[0mindexed_string\u001b[0m\u001b[0;34m,\u001b[0m \u001b[0mclassifier_fn\u001b[0m\u001b[0;34m,\u001b[0m \u001b[0mnum_samples\u001b[0m\u001b[0;34m,\u001b[0m\u001b[0;34m\u001b[0m\u001b[0;34m\u001b[0m\u001b[0m\n\u001b[1;32m    415\u001b[0m             distance_metric=distance_metric)\n",
            "\u001b[0;32m/usr/local/lib/python3.10/dist-packages/lime/lime_text.py\u001b[0m in \u001b[0;36m__data_labels_distances\u001b[0;34m(self, indexed_string, classifier_fn, num_samples, distance_metric)\u001b[0m\n\u001b[1;32m    480\u001b[0m             \u001b[0mdata\u001b[0m\u001b[0;34m[\u001b[0m\u001b[0mi\u001b[0m\u001b[0;34m,\u001b[0m \u001b[0minactive\u001b[0m\u001b[0;34m]\u001b[0m \u001b[0;34m=\u001b[0m \u001b[0;36m0\u001b[0m\u001b[0;34m\u001b[0m\u001b[0;34m\u001b[0m\u001b[0m\n\u001b[1;32m    481\u001b[0m             \u001b[0minverse_data\u001b[0m\u001b[0;34m.\u001b[0m\u001b[0mappend\u001b[0m\u001b[0;34m(\u001b[0m\u001b[0mindexed_string\u001b[0m\u001b[0;34m.\u001b[0m\u001b[0minverse_removing\u001b[0m\u001b[0;34m(\u001b[0m\u001b[0minactive\u001b[0m\u001b[0;34m)\u001b[0m\u001b[0;34m)\u001b[0m\u001b[0;34m\u001b[0m\u001b[0;34m\u001b[0m\u001b[0m\n\u001b[0;32m--> 482\u001b[0;31m         \u001b[0mlabels\u001b[0m \u001b[0;34m=\u001b[0m \u001b[0mclassifier_fn\u001b[0m\u001b[0;34m(\u001b[0m\u001b[0minverse_data\u001b[0m\u001b[0;34m)\u001b[0m\u001b[0;34m\u001b[0m\u001b[0;34m\u001b[0m\u001b[0m\n\u001b[0m\u001b[1;32m    483\u001b[0m         \u001b[0mdistances\u001b[0m \u001b[0;34m=\u001b[0m \u001b[0mdistance_fn\u001b[0m\u001b[0;34m(\u001b[0m\u001b[0msp\u001b[0m\u001b[0;34m.\u001b[0m\u001b[0msparse\u001b[0m\u001b[0;34m.\u001b[0m\u001b[0mcsr_matrix\u001b[0m\u001b[0;34m(\u001b[0m\u001b[0mdata\u001b[0m\u001b[0;34m)\u001b[0m\u001b[0;34m)\u001b[0m\u001b[0;34m\u001b[0m\u001b[0;34m\u001b[0m\u001b[0m\n\u001b[1;32m    484\u001b[0m         \u001b[0;32mreturn\u001b[0m \u001b[0mdata\u001b[0m\u001b[0;34m,\u001b[0m \u001b[0mlabels\u001b[0m\u001b[0;34m,\u001b[0m \u001b[0mdistances\u001b[0m\u001b[0;34m\u001b[0m\u001b[0;34m\u001b[0m\u001b[0m\n",
            "\u001b[0;32m<ipython-input-71-92cbd4035e5f>\u001b[0m in \u001b[0;36mpredict_function\u001b[0;34m(text_list)\u001b[0m\n\u001b[1;32m      5\u001b[0m         \u001b[0;32mwith\u001b[0m \u001b[0mtorch\u001b[0m\u001b[0;34m.\u001b[0m\u001b[0mno_grad\u001b[0m\u001b[0;34m(\u001b[0m\u001b[0;34m)\u001b[0m\u001b[0;34m:\u001b[0m\u001b[0;34m\u001b[0m\u001b[0;34m\u001b[0m\u001b[0m\n\u001b[1;32m      6\u001b[0m             \u001b[0moutput\u001b[0m \u001b[0;34m=\u001b[0m \u001b[0mDistilBERT\u001b[0m\u001b[0;34m(\u001b[0m\u001b[0mtest_encodings\u001b[0m\u001b[0;34m[\u001b[0m\u001b[0;34m'input_ids'\u001b[0m\u001b[0;34m]\u001b[0m\u001b[0;34m.\u001b[0m\u001b[0mto\u001b[0m\u001b[0;34m(\u001b[0m\u001b[0mDistilBERT\u001b[0m\u001b[0;34m.\u001b[0m\u001b[0mdevice\u001b[0m\u001b[0;34m)\u001b[0m\u001b[0;34m,\u001b[0m \u001b[0mtest_encodings\u001b[0m\u001b[0;34m[\u001b[0m\u001b[0;34m'attention_mask'\u001b[0m\u001b[0;34m]\u001b[0m\u001b[0;34m.\u001b[0m\u001b[0mto\u001b[0m\u001b[0;34m(\u001b[0m\u001b[0mDistilBERT\u001b[0m\u001b[0;34m.\u001b[0m\u001b[0mdevice\u001b[0m\u001b[0;34m)\u001b[0m\u001b[0;34m)\u001b[0m\u001b[0;34m\u001b[0m\u001b[0;34m\u001b[0m\u001b[0m\n\u001b[0;32m----> 7\u001b[0;31m         \u001b[0mpredicted_probabilities\u001b[0m\u001b[0;34m.\u001b[0m\u001b[0mappend\u001b[0m\u001b[0;34m(\u001b[0m\u001b[0mtorch\u001b[0m\u001b[0;34m.\u001b[0m\u001b[0msoftmax\u001b[0m\u001b[0;34m(\u001b[0m\u001b[0moutput\u001b[0m\u001b[0;34m.\u001b[0m\u001b[0mlogits\u001b[0m\u001b[0;34m,\u001b[0m \u001b[0mdim\u001b[0m\u001b[0;34m=\u001b[0m\u001b[0;36m1\u001b[0m\u001b[0;34m)\u001b[0m\u001b[0;34m.\u001b[0m\u001b[0mcpu\u001b[0m\u001b[0;34m(\u001b[0m\u001b[0;34m)\u001b[0m\u001b[0;34m.\u001b[0m\u001b[0mdetach\u001b[0m\u001b[0;34m(\u001b[0m\u001b[0;34m)\u001b[0m\u001b[0;34m.\u001b[0m\u001b[0mnumpy\u001b[0m\u001b[0;34m(\u001b[0m\u001b[0;34m)\u001b[0m\u001b[0;34m[\u001b[0m\u001b[0;36m0\u001b[0m\u001b[0;34m]\u001b[0m\u001b[0;34m)\u001b[0m\u001b[0;34m\u001b[0m\u001b[0;34m\u001b[0m\u001b[0m\n\u001b[0m\u001b[1;32m      8\u001b[0m     \u001b[0;32mreturn\u001b[0m \u001b[0mnp\u001b[0m\u001b[0;34m.\u001b[0m\u001b[0marray\u001b[0m\u001b[0;34m(\u001b[0m\u001b[0mpredicted_probabilities\u001b[0m\u001b[0;34m)\u001b[0m\u001b[0;34m\u001b[0m\u001b[0;34m\u001b[0m\u001b[0m\n\u001b[1;32m      9\u001b[0m \u001b[0;34m\u001b[0m\u001b[0m\n",
            "\u001b[0;31mKeyboardInterrupt\u001b[0m: "
          ]
        }
      ]
    },
    {
      "cell_type": "markdown",
      "source": [
        "#EXPLANATION AND F1 SCORE SURROGATE"
      ],
      "metadata": {
        "id": "rHUq_fuj_2y-"
      }
    },
    {
      "cell_type": "code",
      "source": [],
      "metadata": {
        "colab": {
          "base_uri": "https://localhost:8080/",
          "height": 165
        },
        "id": "rYrn8LVyzuWf",
        "outputId": "ab73325e-4a96-4105-cd6a-744cf9b3ca90"
      },
      "execution_count": 73,
      "outputs": [
        {
          "output_type": "error",
          "ename": "AttributeError",
          "evalue": "ignored",
          "traceback": [
            "\u001b[0;31m---------------------------------------------------------------------------\u001b[0m",
            "\u001b[0;31mAttributeError\u001b[0m                            Traceback (most recent call last)",
            "\u001b[0;32m<ipython-input-73-c604482129ca>\u001b[0m in \u001b[0;36m<cell line: 1>\u001b[0;34m()\u001b[0m\n\u001b[0;32m----> 1\u001b[0;31m \u001b[0mtest_dataset\u001b[0m\u001b[0;34m[\u001b[0m\u001b[0;34m'text'\u001b[0m\u001b[0;34m]\u001b[0m\u001b[0;34m.\u001b[0m\u001b[0mshape\u001b[0m\u001b[0;34m\u001b[0m\u001b[0;34m\u001b[0m\u001b[0m\n\u001b[0m",
            "\u001b[0;31mAttributeError\u001b[0m: 'list' object has no attribute 'shape'"
          ]
        }
      ]
    },
    {
      "cell_type": "code",
      "execution_count": 122,
      "metadata": {
        "id": "am93cSxfftuW",
        "colab": {
          "base_uri": "https://localhost:8080/",
          "height": 1000
        },
        "outputId": "a2d3e775-4c59-4422-a115-63bcd2d22448"
      },
      "outputs": [
        {
          "output_type": "stream",
          "name": "stdout",
          "text": [
            "\u001b[1;30;43mStreaming output truncated to the last 5000 lines.\u001b[0m\n",
            "Explanating index 1809/10000\n",
            "Explanating index 1810/10000\n",
            "Explanating index 1811/10000\n",
            "Explanating index 1812/10000\n",
            "Explanating index 1813/10000\n",
            "Explanating index 1814/10000\n",
            "Explanating index 1815/10000\n",
            "Explanating index 1816/10000\n",
            "Explanating index 1817/10000\n",
            "Explanating index 1818/10000\n",
            "Explanating index 1819/10000\n",
            "Explanating index 1820/10000\n",
            "Explanating index 1821/10000\n",
            "Explanating index 1822/10000\n",
            "Explanating index 1823/10000\n",
            "Explanating index 1824/10000\n",
            "Explanating index 1825/10000\n",
            "Explanating index 1826/10000\n",
            "Explanating index 1827/10000\n",
            "Explanating index 1828/10000\n",
            "Explanating index 1829/10000\n",
            "Explanating index 1830/10000\n",
            "Explanating index 1831/10000\n",
            "Explanating index 1832/10000\n",
            "Explanating index 1833/10000\n",
            "Explanating index 1834/10000\n",
            "Explanating index 1835/10000\n",
            "Explanating index 1836/10000\n",
            "Explanating index 1837/10000\n",
            "Explanating index 1838/10000\n",
            "Explanating index 1839/10000\n",
            "Explanating index 1840/10000\n",
            "Explanating index 1841/10000\n",
            "Explanating index 1842/10000\n",
            "Explanating index 1843/10000\n",
            "Explanating index 1844/10000\n",
            "Explanating index 1845/10000\n",
            "Explanating index 1846/10000\n",
            "Explanating index 1847/10000\n",
            "Explanating index 1848/10000\n",
            "Explanating index 1849/10000\n",
            "Explanating index 1850/10000\n",
            "Explanating index 1851/10000\n",
            "Explanating index 1852/10000\n",
            "Explanating index 1853/10000\n",
            "Explanating index 1854/10000\n",
            "Explanating index 1855/10000\n",
            "Explanating index 1856/10000\n",
            "Explanating index 1857/10000\n",
            "Explanating index 1858/10000\n",
            "Explanating index 1859/10000\n",
            "Explanating index 1860/10000\n",
            "Explanating index 1861/10000\n",
            "Explanating index 1862/10000\n",
            "Explanating index 1863/10000\n",
            "Explanating index 1864/10000\n",
            "Explanating index 1865/10000\n",
            "Explanating index 1866/10000\n",
            "Explanating index 1867/10000\n",
            "Explanating index 1868/10000\n",
            "Explanating index 1869/10000\n",
            "Explanating index 1870/10000\n",
            "Explanating index 1871/10000\n",
            "Explanating index 1872/10000\n",
            "Explanating index 1873/10000\n",
            "Explanating index 1874/10000\n",
            "Explanating index 1875/10000\n",
            "Explanating index 1876/10000\n",
            "Explanating index 1877/10000\n",
            "Explanating index 1878/10000\n",
            "Explanating index 1879/10000\n",
            "Explanating index 1880/10000\n",
            "Explanating index 1881/10000\n",
            "Explanating index 1882/10000\n",
            "Explanating index 1883/10000\n",
            "Explanating index 1884/10000\n",
            "Explanating index 1885/10000\n",
            "Explanating index 1886/10000\n",
            "Explanating index 1887/10000\n",
            "Explanating index 1888/10000\n",
            "Explanating index 1889/10000\n",
            "Explanating index 1890/10000\n",
            "Explanating index 1891/10000\n",
            "Explanating index 1892/10000\n",
            "Explanating index 1893/10000\n",
            "Explanating index 1894/10000\n",
            "Explanating index 1895/10000\n",
            "Explanating index 1896/10000\n",
            "Explanating index 1897/10000\n",
            "Explanating index 1898/10000\n",
            "Explanating index 1899/10000\n",
            "Explanating index 1900/10000\n",
            "Explanating index 1901/10000\n",
            "Explanating index 1902/10000\n",
            "Explanating index 1903/10000\n",
            "Explanating index 1904/10000\n",
            "Explanating index 1905/10000\n",
            "Explanating index 1906/10000\n",
            "Explanating index 1907/10000\n",
            "Explanating index 1908/10000\n",
            "Explanating index 1909/10000\n",
            "Explanating index 1910/10000\n",
            "Explanating index 1911/10000\n",
            "Explanating index 1912/10000\n",
            "Explanating index 1913/10000\n",
            "Explanating index 1914/10000\n",
            "Explanating index 1915/10000\n",
            "Explanating index 1916/10000\n",
            "Explanating index 1917/10000\n",
            "Explanating index 1918/10000\n",
            "Explanating index 1919/10000\n",
            "Explanating index 1920/10000\n",
            "Explanating index 1921/10000\n",
            "Explanating index 1922/10000\n",
            "Explanating index 1923/10000\n",
            "Explanating index 1924/10000\n",
            "Explanating index 1925/10000\n",
            "Explanating index 1926/10000\n",
            "Explanating index 1927/10000\n",
            "Explanating index 1928/10000\n",
            "Explanating index 1929/10000\n",
            "Explanating index 1930/10000\n",
            "Explanating index 1931/10000\n",
            "Explanating index 1932/10000\n",
            "Explanating index 1933/10000\n",
            "Explanating index 1934/10000\n",
            "Explanating index 1935/10000\n",
            "Explanating index 1936/10000\n",
            "Explanating index 1937/10000\n",
            "Explanating index 1938/10000\n",
            "Explanating index 1939/10000\n",
            "Explanating index 1940/10000\n",
            "Explanating index 1941/10000\n",
            "Explanating index 1942/10000\n",
            "Explanating index 1943/10000\n",
            "Explanating index 1944/10000\n",
            "Explanating index 1945/10000\n",
            "Explanating index 1946/10000\n",
            "Explanating index 1947/10000\n",
            "Explanating index 1948/10000\n",
            "Explanating index 1949/10000\n",
            "Explanating index 1950/10000\n",
            "Explanating index 1951/10000\n",
            "Explanating index 1952/10000\n",
            "Explanating index 1953/10000\n",
            "Explanating index 1954/10000\n",
            "Explanating index 1955/10000\n",
            "Explanating index 1956/10000\n",
            "Explanating index 1957/10000\n",
            "Explanating index 1958/10000\n",
            "Explanating index 1959/10000\n",
            "Explanating index 1960/10000\n",
            "Explanating index 1961/10000\n",
            "Explanating index 1962/10000\n",
            "Explanating index 1963/10000\n",
            "Explanating index 1964/10000\n",
            "Explanating index 1965/10000\n",
            "Explanating index 1966/10000\n",
            "Explanating index 1967/10000\n",
            "Explanating index 1968/10000\n",
            "Explanating index 1969/10000\n",
            "Explanating index 1970/10000\n",
            "Explanating index 1971/10000\n",
            "Explanating index 1972/10000\n",
            "Explanating index 1973/10000\n",
            "Explanating index 1974/10000\n",
            "Explanating index 1975/10000\n",
            "Explanating index 1976/10000\n",
            "Explanating index 1977/10000\n",
            "Explanating index 1978/10000\n",
            "Explanating index 1979/10000\n",
            "Explanating index 1980/10000\n",
            "Explanating index 1981/10000\n",
            "Explanating index 1982/10000\n",
            "Explanating index 1983/10000\n",
            "Explanating index 1984/10000\n",
            "Explanating index 1985/10000\n",
            "Explanating index 1986/10000\n",
            "Explanating index 1987/10000\n",
            "Explanating index 1988/10000\n",
            "Explanating index 1989/10000\n",
            "Explanating index 1990/10000\n",
            "Explanating index 1991/10000\n",
            "Explanating index 1992/10000\n",
            "Explanating index 1993/10000\n",
            "Explanating index 1994/10000\n",
            "Explanating index 1995/10000\n",
            "Explanating index 1996/10000\n",
            "Explanating index 1997/10000\n",
            "Explanating index 1998/10000\n",
            "Explanating index 1999/10000\n",
            "Explanating index 2000/10000\n",
            "Explanating index 2001/10000\n",
            "Explanating index 2002/10000\n",
            "Explanating index 2003/10000\n",
            "Explanating index 2004/10000\n",
            "Explanating index 2005/10000\n",
            "Explanating index 2006/10000\n",
            "Explanating index 2007/10000\n",
            "Explanating index 2008/10000\n",
            "Explanating index 2009/10000\n",
            "Explanating index 2010/10000\n",
            "Explanating index 2011/10000\n",
            "Explanating index 2012/10000\n",
            "Explanating index 2013/10000\n",
            "Explanating index 2014/10000\n",
            "Explanating index 2015/10000\n",
            "Explanating index 2016/10000\n",
            "Explanating index 2017/10000\n",
            "Explanating index 2018/10000\n",
            "Explanating index 2019/10000\n",
            "Explanating index 2020/10000\n",
            "Explanating index 2021/10000\n",
            "Explanating index 2022/10000\n",
            "Explanating index 2023/10000\n",
            "Explanating index 2024/10000\n",
            "Explanating index 2025/10000\n",
            "Explanating index 2026/10000\n",
            "Explanating index 2027/10000\n",
            "Explanating index 2028/10000\n",
            "Explanating index 2029/10000\n",
            "Explanating index 2030/10000\n",
            "Explanating index 2031/10000\n",
            "Explanating index 2032/10000\n",
            "Explanating index 2033/10000\n",
            "Explanating index 2034/10000\n",
            "Explanating index 2035/10000\n",
            "Explanating index 2036/10000\n",
            "Explanating index 2037/10000\n",
            "Explanating index 2038/10000\n",
            "Explanating index 2039/10000\n",
            "Explanating index 2040/10000\n",
            "Explanating index 2041/10000\n",
            "Explanating index 2042/10000\n",
            "Explanating index 2043/10000\n",
            "Explanating index 2044/10000\n",
            "Explanating index 2045/10000\n",
            "Explanating index 2046/10000\n",
            "Explanating index 2047/10000\n",
            "Explanating index 2048/10000\n",
            "Explanating index 2049/10000\n",
            "Explanating index 2050/10000\n",
            "Explanating index 2051/10000\n",
            "Explanating index 2052/10000\n",
            "Explanating index 2053/10000\n",
            "Explanating index 2054/10000\n",
            "Explanating index 2055/10000\n",
            "Explanating index 2056/10000\n",
            "Explanating index 2057/10000\n",
            "Explanating index 2058/10000\n",
            "Explanating index 2059/10000\n",
            "Explanating index 2060/10000\n",
            "Explanating index 2061/10000\n",
            "Explanating index 2062/10000\n",
            "Explanating index 2063/10000\n",
            "Explanating index 2064/10000\n",
            "Explanating index 2065/10000\n",
            "Explanating index 2066/10000\n",
            "Explanating index 2067/10000\n",
            "Explanating index 2068/10000\n",
            "Explanating index 2069/10000\n",
            "Explanating index 2070/10000\n",
            "Explanating index 2071/10000\n",
            "Explanating index 2072/10000\n",
            "Explanating index 2073/10000\n",
            "Explanating index 2074/10000\n",
            "Explanating index 2075/10000\n",
            "Explanating index 2076/10000\n",
            "Explanating index 2077/10000\n",
            "Explanating index 2078/10000\n",
            "Explanating index 2079/10000\n",
            "Explanating index 2080/10000\n",
            "Explanating index 2081/10000\n",
            "Explanating index 2082/10000\n",
            "Explanating index 2083/10000\n",
            "Explanating index 2084/10000\n",
            "Explanating index 2085/10000\n",
            "Explanating index 2086/10000\n",
            "Explanating index 2087/10000\n",
            "Explanating index 2088/10000\n",
            "Explanating index 2089/10000\n",
            "Explanating index 2090/10000\n",
            "Explanating index 2091/10000\n",
            "Explanating index 2092/10000\n",
            "Explanating index 2093/10000\n",
            "Explanating index 2094/10000\n",
            "Explanating index 2095/10000\n",
            "Explanating index 2096/10000\n",
            "Explanating index 2097/10000\n",
            "Explanating index 2098/10000\n",
            "Explanating index 2099/10000\n",
            "Explanating index 2100/10000\n",
            "Explanating index 2101/10000\n",
            "Explanating index 2102/10000\n",
            "Explanating index 2103/10000\n",
            "Explanating index 2104/10000\n",
            "Explanating index 2105/10000\n",
            "Explanating index 2106/10000\n",
            "Explanating index 2107/10000\n",
            "Explanating index 2108/10000\n",
            "Explanating index 2109/10000\n",
            "Explanating index 2110/10000\n",
            "Explanating index 2111/10000\n",
            "Explanating index 2112/10000\n",
            "Explanating index 2113/10000\n",
            "Explanating index 2114/10000\n",
            "Explanating index 2115/10000\n",
            "Explanating index 2116/10000\n",
            "Explanating index 2117/10000\n",
            "Explanating index 2118/10000\n",
            "Explanating index 2119/10000\n",
            "Explanating index 2120/10000\n",
            "Explanating index 2121/10000\n",
            "Explanating index 2122/10000\n",
            "Explanating index 2123/10000\n",
            "Explanating index 2124/10000\n",
            "Explanating index 2125/10000\n",
            "Explanating index 2126/10000\n",
            "Explanating index 2127/10000\n",
            "Explanating index 2128/10000\n",
            "Explanating index 2129/10000\n",
            "Explanating index 2130/10000\n",
            "Explanating index 2131/10000\n",
            "Explanating index 2132/10000\n",
            "Explanating index 2133/10000\n",
            "Explanating index 2134/10000\n",
            "Explanating index 2135/10000\n",
            "Explanating index 2136/10000\n",
            "Explanating index 2137/10000\n",
            "Explanating index 2138/10000\n",
            "Explanating index 2139/10000\n",
            "Explanating index 2140/10000\n",
            "Explanating index 2141/10000\n",
            "Explanating index 2142/10000\n",
            "Explanating index 2143/10000\n",
            "Explanating index 2144/10000\n",
            "Explanating index 2145/10000\n",
            "Explanating index 2146/10000\n",
            "Explanating index 2147/10000\n",
            "Explanating index 2148/10000\n",
            "Explanating index 2149/10000\n",
            "Explanating index 2150/10000\n",
            "Explanating index 2151/10000\n",
            "Explanating index 2152/10000\n",
            "Explanating index 2153/10000\n",
            "Explanating index 2154/10000\n",
            "Explanating index 2155/10000\n",
            "Explanating index 2156/10000\n",
            "Explanating index 2157/10000\n",
            "Explanating index 2158/10000\n",
            "Explanating index 2159/10000\n",
            "Explanating index 2160/10000\n",
            "Explanating index 2161/10000\n",
            "Explanating index 2162/10000\n",
            "Explanating index 2163/10000\n",
            "Explanating index 2164/10000\n",
            "Explanating index 2165/10000\n",
            "Explanating index 2166/10000\n",
            "Explanating index 2167/10000\n",
            "Explanating index 2168/10000\n",
            "Explanating index 2169/10000\n",
            "Explanating index 2170/10000\n",
            "Explanating index 2171/10000\n",
            "Explanating index 2172/10000\n",
            "Explanating index 2173/10000\n",
            "Explanating index 2174/10000\n",
            "Explanating index 2175/10000\n",
            "Explanating index 2176/10000\n",
            "Explanating index 2177/10000\n",
            "Explanating index 2178/10000\n",
            "Explanating index 2179/10000\n",
            "Explanating index 2180/10000\n",
            "Explanating index 2181/10000\n",
            "Explanating index 2182/10000\n",
            "Explanating index 2183/10000\n",
            "Explanating index 2184/10000\n",
            "Explanating index 2185/10000\n",
            "Explanating index 2186/10000\n",
            "Explanating index 2187/10000\n",
            "Explanating index 2188/10000\n",
            "Explanating index 2189/10000\n",
            "Explanating index 2190/10000\n",
            "Explanating index 2191/10000\n",
            "Explanating index 2192/10000\n",
            "Explanating index 2193/10000\n",
            "Explanating index 2194/10000\n",
            "Explanating index 2195/10000\n",
            "Explanating index 2196/10000\n",
            "Explanating index 2197/10000\n",
            "Explanating index 2198/10000\n",
            "Explanating index 2199/10000\n",
            "Explanating index 2200/10000\n",
            "Explanating index 2201/10000\n",
            "Explanating index 2202/10000\n",
            "Explanating index 2203/10000\n",
            "Explanating index 2204/10000\n",
            "Explanating index 2205/10000\n",
            "Explanating index 2206/10000\n",
            "Explanating index 2207/10000\n",
            "Explanating index 2208/10000\n",
            "Explanating index 2209/10000\n",
            "Explanating index 2210/10000\n",
            "Explanating index 2211/10000\n",
            "Explanating index 2212/10000\n",
            "Explanating index 2213/10000\n",
            "Explanating index 2214/10000\n",
            "Explanating index 2215/10000\n",
            "Explanating index 2216/10000\n",
            "Explanating index 2217/10000\n",
            "Explanating index 2218/10000\n",
            "Explanating index 2219/10000\n",
            "Explanating index 2220/10000\n",
            "Explanating index 2221/10000\n",
            "Explanating index 2222/10000\n",
            "Explanating index 2223/10000\n",
            "Explanating index 2224/10000\n",
            "Explanating index 2225/10000\n",
            "Explanating index 2226/10000\n",
            "Explanating index 2227/10000\n",
            "Explanating index 2228/10000\n",
            "Explanating index 2229/10000\n",
            "Explanating index 2230/10000\n",
            "Explanating index 2231/10000\n",
            "Explanating index 2232/10000\n",
            "Explanating index 2233/10000\n",
            "Explanating index 2234/10000\n",
            "Explanating index 2235/10000\n",
            "Explanating index 2236/10000\n",
            "Explanating index 2237/10000\n",
            "Explanating index 2238/10000\n",
            "Explanating index 2239/10000\n",
            "Explanating index 2240/10000\n",
            "Explanating index 2241/10000\n",
            "Explanating index 2242/10000\n",
            "Explanating index 2243/10000\n",
            "Explanating index 2244/10000\n",
            "Explanating index 2245/10000\n",
            "Explanating index 2246/10000\n",
            "Explanating index 2247/10000\n",
            "Explanating index 2248/10000\n",
            "Explanating index 2249/10000\n",
            "Explanating index 2250/10000\n",
            "Explanating index 2251/10000\n",
            "Explanating index 2252/10000\n",
            "Explanating index 2253/10000\n",
            "Explanating index 2254/10000\n",
            "Explanating index 2255/10000\n",
            "Explanating index 2256/10000\n",
            "Explanating index 2257/10000\n",
            "Explanating index 2258/10000\n",
            "Explanating index 2259/10000\n",
            "Explanating index 2260/10000\n",
            "Explanating index 2261/10000\n",
            "Explanating index 2262/10000\n",
            "Explanating index 2263/10000\n",
            "Explanating index 2264/10000\n",
            "Explanating index 2265/10000\n",
            "Explanating index 2266/10000\n",
            "Explanating index 2267/10000\n",
            "Explanating index 2268/10000\n",
            "Explanating index 2269/10000\n",
            "Explanating index 2270/10000\n",
            "Explanating index 2271/10000\n",
            "Explanating index 2272/10000\n",
            "Explanating index 2273/10000\n",
            "Explanating index 2274/10000\n",
            "Explanating index 2275/10000\n",
            "Explanating index 2276/10000\n",
            "Explanating index 2277/10000\n",
            "Explanating index 2278/10000\n",
            "Explanating index 2279/10000\n",
            "Explanating index 2280/10000\n",
            "Explanating index 2281/10000\n",
            "Explanating index 2282/10000\n",
            "Explanating index 2283/10000\n",
            "Explanating index 2284/10000\n",
            "Explanating index 2285/10000\n",
            "Explanating index 2286/10000\n",
            "Explanating index 2287/10000\n",
            "Explanating index 2288/10000\n",
            "Explanating index 2289/10000\n",
            "Explanating index 2290/10000\n",
            "Explanating index 2291/10000\n",
            "Explanating index 2292/10000\n",
            "Explanating index 2293/10000\n",
            "Explanating index 2294/10000\n",
            "Explanating index 2295/10000\n",
            "Explanating index 2296/10000\n",
            "Explanating index 2297/10000\n",
            "Explanating index 2298/10000\n",
            "Explanating index 2299/10000\n",
            "Explanating index 2300/10000\n",
            "Explanating index 2301/10000\n",
            "Explanating index 2302/10000\n",
            "Explanating index 2303/10000\n",
            "Explanating index 2304/10000\n",
            "Explanating index 2305/10000\n",
            "Explanating index 2306/10000\n",
            "Explanating index 2307/10000\n",
            "Explanating index 2308/10000\n",
            "Explanating index 2309/10000\n",
            "Explanating index 2310/10000\n",
            "Explanating index 2311/10000\n",
            "Explanating index 2312/10000\n",
            "Explanating index 2313/10000\n",
            "Explanating index 2314/10000\n",
            "Explanating index 2315/10000\n",
            "Explanating index 2316/10000\n",
            "Explanating index 2317/10000\n",
            "Explanating index 2318/10000\n",
            "Explanating index 2319/10000\n",
            "Explanating index 2320/10000\n",
            "Explanating index 2321/10000\n",
            "Explanating index 2322/10000\n",
            "Explanating index 2323/10000\n",
            "Explanating index 2324/10000\n",
            "Explanating index 2325/10000\n",
            "Explanating index 2326/10000\n",
            "Explanating index 2327/10000\n",
            "Explanating index 2328/10000\n",
            "Explanating index 2329/10000\n",
            "Explanating index 2330/10000\n",
            "Explanating index 2331/10000\n",
            "Explanating index 2332/10000\n",
            "Explanating index 2333/10000\n",
            "Explanating index 2334/10000\n",
            "Explanating index 2335/10000\n",
            "Explanating index 2336/10000\n",
            "Explanating index 2337/10000\n",
            "Explanating index 2338/10000\n",
            "Explanating index 2339/10000\n",
            "Explanating index 2340/10000\n",
            "Explanating index 2341/10000\n",
            "Explanating index 2342/10000\n",
            "Explanating index 2343/10000\n",
            "Explanating index 2344/10000\n",
            "Explanating index 2345/10000\n",
            "Explanating index 2346/10000\n",
            "Explanating index 2347/10000\n",
            "Explanating index 2348/10000\n",
            "Explanating index 2349/10000\n",
            "Explanating index 2350/10000\n",
            "Explanating index 2351/10000\n",
            "Explanating index 2352/10000\n",
            "Explanating index 2353/10000\n",
            "Explanating index 2354/10000\n",
            "Explanating index 2355/10000\n",
            "Explanating index 2356/10000\n",
            "Explanating index 2357/10000\n",
            "Explanating index 2358/10000\n",
            "Explanating index 2359/10000\n",
            "Explanating index 2360/10000\n",
            "Explanating index 2361/10000\n",
            "Explanating index 2362/10000\n",
            "Explanating index 2363/10000\n",
            "Explanating index 2364/10000\n",
            "Explanating index 2365/10000\n",
            "Explanating index 2366/10000\n",
            "Explanating index 2367/10000\n",
            "Explanating index 2368/10000\n",
            "Explanating index 2369/10000\n",
            "Explanating index 2370/10000\n",
            "Explanating index 2371/10000\n",
            "Explanating index 2372/10000\n",
            "Explanating index 2373/10000\n",
            "Explanating index 2374/10000\n",
            "Explanating index 2375/10000\n",
            "Explanating index 2376/10000\n",
            "Explanating index 2377/10000\n",
            "Explanating index 2378/10000\n",
            "Explanating index 2379/10000\n",
            "Explanating index 2380/10000\n",
            "Explanating index 2381/10000\n",
            "Explanating index 2382/10000\n",
            "Explanating index 2383/10000\n",
            "Explanating index 2384/10000\n",
            "Explanating index 2385/10000\n",
            "Explanating index 2386/10000\n",
            "Explanating index 2387/10000\n",
            "Explanating index 2388/10000\n",
            "Explanating index 2389/10000\n",
            "Explanating index 2390/10000\n",
            "Explanating index 2391/10000\n",
            "Explanating index 2392/10000\n",
            "Explanating index 2393/10000\n",
            "Explanating index 2394/10000\n",
            "Explanating index 2395/10000\n",
            "Explanating index 2396/10000\n",
            "Explanating index 2397/10000\n",
            "Explanating index 2398/10000\n",
            "Explanating index 2399/10000\n",
            "Explanating index 2400/10000\n",
            "Explanating index 2401/10000\n",
            "Explanating index 2402/10000\n",
            "Explanating index 2403/10000\n",
            "Explanating index 2404/10000\n",
            "Explanating index 2405/10000\n",
            "Explanating index 2406/10000\n",
            "Explanating index 2407/10000\n",
            "Explanating index 2408/10000\n",
            "Explanating index 2409/10000\n",
            "Explanating index 2410/10000\n",
            "Explanating index 2411/10000\n",
            "Explanating index 2412/10000\n",
            "Explanating index 2413/10000\n",
            "Explanating index 2414/10000\n",
            "Explanating index 2415/10000\n",
            "Explanating index 2416/10000\n",
            "Explanating index 2417/10000\n",
            "Explanating index 2418/10000\n",
            "Explanating index 2419/10000\n",
            "Explanating index 2420/10000\n",
            "Explanating index 2421/10000\n",
            "Explanating index 2422/10000\n",
            "Explanating index 2423/10000\n",
            "Explanating index 2424/10000\n",
            "Explanating index 2425/10000\n",
            "Explanating index 2426/10000\n",
            "Explanating index 2427/10000\n",
            "Explanating index 2428/10000\n",
            "Explanating index 2429/10000\n",
            "Explanating index 2430/10000\n",
            "Explanating index 2431/10000\n",
            "Explanating index 2432/10000\n",
            "Explanating index 2433/10000\n",
            "Explanating index 2434/10000\n",
            "Explanating index 2435/10000\n",
            "Explanating index 2436/10000\n",
            "Explanating index 2437/10000\n",
            "Explanating index 2438/10000\n",
            "Explanating index 2439/10000\n",
            "Explanating index 2440/10000\n",
            "Explanating index 2441/10000\n",
            "Explanating index 2442/10000\n",
            "Explanating index 2443/10000\n",
            "Explanating index 2444/10000\n",
            "Explanating index 2445/10000\n",
            "Explanating index 2446/10000\n",
            "Explanating index 2447/10000\n",
            "Explanating index 2448/10000\n",
            "Explanating index 2449/10000\n",
            "Explanating index 2450/10000\n",
            "Explanating index 2451/10000\n",
            "Explanating index 2452/10000\n",
            "Explanating index 2453/10000\n",
            "Explanating index 2454/10000\n",
            "Explanating index 2455/10000\n",
            "Explanating index 2456/10000\n",
            "Explanating index 2457/10000\n",
            "Explanating index 2458/10000\n",
            "Explanating index 2459/10000\n",
            "Explanating index 2460/10000\n",
            "Explanating index 2461/10000\n",
            "Explanating index 2462/10000\n",
            "Explanating index 2463/10000\n",
            "Explanating index 2464/10000\n",
            "Explanating index 2465/10000\n",
            "Explanating index 2466/10000\n",
            "Explanating index 2467/10000\n",
            "Explanating index 2468/10000\n",
            "Explanating index 2469/10000\n",
            "Explanating index 2470/10000\n",
            "Explanating index 2471/10000\n",
            "Explanating index 2472/10000\n",
            "Explanating index 2473/10000\n",
            "Explanating index 2474/10000\n",
            "Explanating index 2475/10000\n",
            "Explanating index 2476/10000\n",
            "Explanating index 2477/10000\n",
            "Explanating index 2478/10000\n",
            "Explanating index 2479/10000\n",
            "Explanating index 2480/10000\n",
            "Explanating index 2481/10000\n",
            "Explanating index 2482/10000\n",
            "Explanating index 2483/10000\n",
            "Explanating index 2484/10000\n",
            "Explanating index 2485/10000\n",
            "Explanating index 2486/10000\n",
            "Explanating index 2487/10000\n",
            "Explanating index 2488/10000\n",
            "Explanating index 2489/10000\n",
            "Explanating index 2490/10000\n",
            "Explanating index 2491/10000\n",
            "Explanating index 2492/10000\n",
            "Explanating index 2493/10000\n",
            "Explanating index 2494/10000\n",
            "Explanating index 2495/10000\n",
            "Explanating index 2496/10000\n",
            "Explanating index 2497/10000\n",
            "Explanating index 2498/10000\n",
            "Explanating index 2499/10000\n",
            "Explanating index 2500/10000\n",
            "Explanating index 2501/10000\n",
            "Explanating index 2502/10000\n",
            "Explanating index 2503/10000\n",
            "Explanating index 2504/10000\n",
            "Explanating index 2505/10000\n",
            "Explanating index 2506/10000\n",
            "Explanating index 2507/10000\n",
            "Explanating index 2508/10000\n",
            "Explanating index 2509/10000\n",
            "Explanating index 2510/10000\n",
            "Explanating index 2511/10000\n",
            "Explanating index 2512/10000\n",
            "Explanating index 2513/10000\n",
            "Explanating index 2514/10000\n",
            "Explanating index 2515/10000\n",
            "Explanating index 2516/10000\n",
            "Explanating index 2517/10000\n",
            "Explanating index 2518/10000\n",
            "Explanating index 2519/10000\n",
            "Explanating index 2520/10000\n",
            "Explanating index 2521/10000\n",
            "Explanating index 2522/10000\n",
            "Explanating index 2523/10000\n",
            "Explanating index 2524/10000\n",
            "Explanating index 2525/10000\n",
            "Explanating index 2526/10000\n",
            "Explanating index 2527/10000\n",
            "Explanating index 2528/10000\n",
            "Explanating index 2529/10000\n",
            "Explanating index 2530/10000\n",
            "Explanating index 2531/10000\n",
            "Explanating index 2532/10000\n",
            "Explanating index 2533/10000\n",
            "Explanating index 2534/10000\n",
            "Explanating index 2535/10000\n",
            "Explanating index 2536/10000\n",
            "Explanating index 2537/10000\n",
            "Explanating index 2538/10000\n",
            "Explanating index 2539/10000\n",
            "Explanating index 2540/10000\n",
            "Explanating index 2541/10000\n",
            "Explanating index 2542/10000\n",
            "Explanating index 2543/10000\n",
            "Explanating index 2544/10000\n",
            "Explanating index 2545/10000\n",
            "Explanating index 2546/10000\n",
            "Explanating index 2547/10000\n",
            "Explanating index 2548/10000\n",
            "Explanating index 2549/10000\n",
            "Explanating index 2550/10000\n",
            "Explanating index 2551/10000\n",
            "Explanating index 2552/10000\n",
            "Explanating index 2553/10000\n",
            "Explanating index 2554/10000\n",
            "Explanating index 2555/10000\n",
            "Explanating index 2556/10000\n",
            "Explanating index 2557/10000\n",
            "Explanating index 2558/10000\n",
            "Explanating index 2559/10000\n",
            "Explanating index 2560/10000\n",
            "Explanating index 2561/10000\n",
            "Explanating index 2562/10000\n",
            "Explanating index 2563/10000\n",
            "Explanating index 2564/10000\n",
            "Explanating index 2565/10000\n",
            "Explanating index 2566/10000\n",
            "Explanating index 2567/10000\n",
            "Explanating index 2568/10000\n",
            "Explanating index 2569/10000\n",
            "Explanating index 2570/10000\n",
            "Explanating index 2571/10000\n",
            "Explanating index 2572/10000\n",
            "Explanating index 2573/10000\n",
            "Explanating index 2574/10000\n",
            "Explanating index 2575/10000\n",
            "Explanating index 2576/10000\n",
            "Explanating index 2577/10000\n",
            "Explanating index 2578/10000\n",
            "Explanating index 2579/10000\n",
            "Explanating index 2580/10000\n",
            "Explanating index 2581/10000\n",
            "Explanating index 2582/10000\n",
            "Explanating index 2583/10000\n",
            "Explanating index 2584/10000\n",
            "Explanating index 2585/10000\n",
            "Explanating index 2586/10000\n",
            "Explanating index 2587/10000\n",
            "Explanating index 2588/10000\n",
            "Explanating index 2589/10000\n",
            "Explanating index 2590/10000\n",
            "Explanating index 2591/10000\n",
            "Explanating index 2592/10000\n",
            "Explanating index 2593/10000\n",
            "Explanating index 2594/10000\n",
            "Explanating index 2595/10000\n",
            "Explanating index 2596/10000\n",
            "Explanating index 2597/10000\n",
            "Explanating index 2598/10000\n",
            "Explanating index 2599/10000\n",
            "Explanating index 2600/10000\n",
            "Explanating index 2601/10000\n",
            "Explanating index 2602/10000\n",
            "Explanating index 2603/10000\n",
            "Explanating index 2604/10000\n",
            "Explanating index 2605/10000\n",
            "Explanating index 2606/10000\n",
            "Explanating index 2607/10000\n",
            "Explanating index 2608/10000\n",
            "Explanating index 2609/10000\n",
            "Explanating index 2610/10000\n",
            "Explanating index 2611/10000\n",
            "Explanating index 2612/10000\n",
            "Explanating index 2613/10000\n",
            "Explanating index 2614/10000\n",
            "Explanating index 2615/10000\n",
            "Explanating index 2616/10000\n",
            "Explanating index 2617/10000\n",
            "Explanating index 2618/10000\n",
            "Explanating index 2619/10000\n",
            "Explanating index 2620/10000\n",
            "Explanating index 2621/10000\n",
            "Explanating index 2622/10000\n",
            "Explanating index 2623/10000\n",
            "Explanating index 2624/10000\n",
            "Explanating index 2625/10000\n",
            "Explanating index 2626/10000\n",
            "Explanating index 2627/10000\n",
            "Explanating index 2628/10000\n",
            "Explanating index 2629/10000\n",
            "Explanating index 2630/10000\n",
            "Explanating index 2631/10000\n",
            "Explanating index 2632/10000\n",
            "Explanating index 2633/10000\n",
            "Explanating index 2634/10000\n",
            "Explanating index 2635/10000\n",
            "Explanating index 2636/10000\n",
            "Explanating index 2637/10000\n",
            "Explanating index 2638/10000\n",
            "Explanating index 2639/10000\n",
            "Explanating index 2640/10000\n",
            "Explanating index 2641/10000\n",
            "Explanating index 2642/10000\n",
            "Explanating index 2643/10000\n",
            "Explanating index 2644/10000\n",
            "Explanating index 2645/10000\n",
            "Explanating index 2646/10000\n",
            "Explanating index 2647/10000\n",
            "Explanating index 2648/10000\n",
            "Explanating index 2649/10000\n",
            "Explanating index 2650/10000\n",
            "Explanating index 2651/10000\n",
            "Explanating index 2652/10000\n",
            "Explanating index 2653/10000\n",
            "Explanating index 2654/10000\n",
            "Explanating index 2655/10000\n",
            "Explanating index 2656/10000\n",
            "Explanating index 2657/10000\n",
            "Explanating index 2658/10000\n",
            "Explanating index 2659/10000\n",
            "Explanating index 2660/10000\n",
            "Explanating index 2661/10000\n",
            "Explanating index 2662/10000\n",
            "Explanating index 2663/10000\n",
            "Explanating index 2664/10000\n",
            "Explanating index 2665/10000\n",
            "Explanating index 2666/10000\n",
            "Explanating index 2667/10000\n",
            "Explanating index 2668/10000\n",
            "Explanating index 2669/10000\n",
            "Explanating index 2670/10000\n",
            "Explanating index 2671/10000\n",
            "Explanating index 2672/10000\n",
            "Explanating index 2673/10000\n",
            "Explanating index 2674/10000\n",
            "Explanating index 2675/10000\n",
            "Explanating index 2676/10000\n",
            "Explanating index 2677/10000\n",
            "Explanating index 2678/10000\n",
            "Explanating index 2679/10000\n",
            "Explanating index 2680/10000\n",
            "Explanating index 2681/10000\n",
            "Explanating index 2682/10000\n",
            "Explanating index 2683/10000\n",
            "Explanating index 2684/10000\n",
            "Explanating index 2685/10000\n",
            "Explanating index 2686/10000\n",
            "Explanating index 2687/10000\n",
            "Explanating index 2688/10000\n",
            "Explanating index 2689/10000\n",
            "Explanating index 2690/10000\n",
            "Explanating index 2691/10000\n",
            "Explanating index 2692/10000\n",
            "Explanating index 2693/10000\n",
            "Explanating index 2694/10000\n",
            "Explanating index 2695/10000\n",
            "Explanating index 2696/10000\n",
            "Explanating index 2697/10000\n",
            "Explanating index 2698/10000\n",
            "Explanating index 2699/10000\n",
            "Explanating index 2700/10000\n",
            "Explanating index 2701/10000\n",
            "Explanating index 2702/10000\n",
            "Explanating index 2703/10000\n",
            "Explanating index 2704/10000\n",
            "Explanating index 2705/10000\n",
            "Explanating index 2706/10000\n",
            "Explanating index 2707/10000\n",
            "Explanating index 2708/10000\n",
            "Explanating index 2709/10000\n",
            "Explanating index 2710/10000\n",
            "Explanating index 2711/10000\n",
            "Explanating index 2712/10000\n",
            "Explanating index 2713/10000\n",
            "Explanating index 2714/10000\n",
            "Explanating index 2715/10000\n",
            "Explanating index 2716/10000\n",
            "Explanating index 2717/10000\n",
            "Explanating index 2718/10000\n",
            "Explanating index 2719/10000\n",
            "Explanating index 2720/10000\n",
            "Explanating index 2721/10000\n",
            "Explanating index 2722/10000\n",
            "Explanating index 2723/10000\n",
            "Explanating index 2724/10000\n",
            "Explanating index 2725/10000\n",
            "Explanating index 2726/10000\n",
            "Explanating index 2727/10000\n",
            "Explanating index 2728/10000\n",
            "Explanating index 2729/10000\n",
            "Explanating index 2730/10000\n",
            "Explanating index 2731/10000\n",
            "Explanating index 2732/10000\n",
            "Explanating index 2733/10000\n",
            "Explanating index 2734/10000\n",
            "Explanating index 2735/10000\n",
            "Explanating index 2736/10000\n",
            "Explanating index 2737/10000\n",
            "Explanating index 2738/10000\n",
            "Explanating index 2739/10000\n",
            "Explanating index 2740/10000\n",
            "Explanating index 2741/10000\n",
            "Explanating index 2742/10000\n",
            "Explanating index 2743/10000\n",
            "Explanating index 2744/10000\n",
            "Explanating index 2745/10000\n",
            "Explanating index 2746/10000\n",
            "Explanating index 2747/10000\n",
            "Explanating index 2748/10000\n",
            "Explanating index 2749/10000\n",
            "Explanating index 2750/10000\n",
            "Explanating index 2751/10000\n",
            "Explanating index 2752/10000\n",
            "Explanating index 2753/10000\n",
            "Explanating index 2754/10000\n",
            "Explanating index 2755/10000\n",
            "Explanating index 2756/10000\n",
            "Explanating index 2757/10000\n",
            "Explanating index 2758/10000\n",
            "Explanating index 2759/10000\n",
            "Explanating index 2760/10000\n",
            "Explanating index 2761/10000\n",
            "Explanating index 2762/10000\n",
            "Explanating index 2763/10000\n",
            "Explanating index 2764/10000\n",
            "Explanating index 2765/10000\n",
            "Explanating index 2766/10000\n",
            "Explanating index 2767/10000\n",
            "Explanating index 2768/10000\n",
            "Explanating index 2769/10000\n",
            "Explanating index 2770/10000\n",
            "Explanating index 2771/10000\n",
            "Explanating index 2772/10000\n",
            "Explanating index 2773/10000\n",
            "Explanating index 2774/10000\n",
            "Explanating index 2775/10000\n",
            "Explanating index 2776/10000\n",
            "Explanating index 2777/10000\n",
            "Explanating index 2778/10000\n",
            "Explanating index 2779/10000\n",
            "Explanating index 2780/10000\n",
            "Explanating index 2781/10000\n",
            "Explanating index 2782/10000\n",
            "Explanating index 2783/10000\n",
            "Explanating index 2784/10000\n",
            "Explanating index 2785/10000\n",
            "Explanating index 2786/10000\n",
            "Explanating index 2787/10000\n",
            "Explanating index 2788/10000\n",
            "Explanating index 2789/10000\n",
            "Explanating index 2790/10000\n",
            "Explanating index 2791/10000\n",
            "Explanating index 2792/10000\n",
            "Explanating index 2793/10000\n",
            "Explanating index 2794/10000\n",
            "Explanating index 2795/10000\n",
            "Explanating index 2796/10000\n",
            "Explanating index 2797/10000\n",
            "Explanating index 2798/10000\n",
            "Explanating index 2799/10000\n",
            "Explanating index 2800/10000\n",
            "Explanating index 2801/10000\n",
            "Explanating index 2802/10000\n",
            "Explanating index 2803/10000\n",
            "Explanating index 2804/10000\n",
            "Explanating index 2805/10000\n",
            "Explanating index 2806/10000\n",
            "Explanating index 2807/10000\n",
            "Explanating index 2808/10000\n",
            "Explanating index 2809/10000\n",
            "Explanating index 2810/10000\n",
            "Explanating index 2811/10000\n",
            "Explanating index 2812/10000\n",
            "Explanating index 2813/10000\n",
            "Explanating index 2814/10000\n",
            "Explanating index 2815/10000\n",
            "Explanating index 2816/10000\n",
            "Explanating index 2817/10000\n",
            "Explanating index 2818/10000\n",
            "Explanating index 2819/10000\n",
            "Explanating index 2820/10000\n",
            "Explanating index 2821/10000\n",
            "Explanating index 2822/10000\n",
            "Explanating index 2823/10000\n",
            "Explanating index 2824/10000\n",
            "Explanating index 2825/10000\n",
            "Explanating index 2826/10000\n",
            "Explanating index 2827/10000\n",
            "Explanating index 2828/10000\n",
            "Explanating index 2829/10000\n",
            "Explanating index 2830/10000\n",
            "Explanating index 2831/10000\n",
            "Explanating index 2832/10000\n",
            "Explanating index 2833/10000\n",
            "Explanating index 2834/10000\n",
            "Explanating index 2835/10000\n",
            "Explanating index 2836/10000\n",
            "Explanating index 2837/10000\n",
            "Explanating index 2838/10000\n",
            "Explanating index 2839/10000\n",
            "Explanating index 2840/10000\n",
            "Explanating index 2841/10000\n",
            "Explanating index 2842/10000\n",
            "Explanating index 2843/10000\n",
            "Explanating index 2844/10000\n",
            "Explanating index 2845/10000\n",
            "Explanating index 2846/10000\n",
            "Explanating index 2847/10000\n",
            "Explanating index 2848/10000\n",
            "Explanating index 2849/10000\n",
            "Explanating index 2850/10000\n",
            "Explanating index 2851/10000\n",
            "Explanating index 2852/10000\n",
            "Explanating index 2853/10000\n",
            "Explanating index 2854/10000\n",
            "Explanating index 2855/10000\n",
            "Explanating index 2856/10000\n",
            "Explanating index 2857/10000\n",
            "Explanating index 2858/10000\n",
            "Explanating index 2859/10000\n",
            "Explanating index 2860/10000\n",
            "Explanating index 2861/10000\n",
            "Explanating index 2862/10000\n",
            "Explanating index 2863/10000\n",
            "Explanating index 2864/10000\n",
            "Explanating index 2865/10000\n",
            "Explanating index 2866/10000\n",
            "Explanating index 2867/10000\n",
            "Explanating index 2868/10000\n",
            "Explanating index 2869/10000\n",
            "Explanating index 2870/10000\n",
            "Explanating index 2871/10000\n",
            "Explanating index 2872/10000\n",
            "Explanating index 2873/10000\n",
            "Explanating index 2874/10000\n",
            "Explanating index 2875/10000\n",
            "Explanating index 2876/10000\n",
            "Explanating index 2877/10000\n",
            "Explanating index 2878/10000\n",
            "Explanating index 2879/10000\n",
            "Explanating index 2880/10000\n",
            "Explanating index 2881/10000\n",
            "Explanating index 2882/10000\n",
            "Explanating index 2883/10000\n",
            "Explanating index 2884/10000\n",
            "Explanating index 2885/10000\n",
            "Explanating index 2886/10000\n",
            "Explanating index 2887/10000\n",
            "Explanating index 2888/10000\n",
            "Explanating index 2889/10000\n",
            "Explanating index 2890/10000\n",
            "Explanating index 2891/10000\n",
            "Explanating index 2892/10000\n",
            "Explanating index 2893/10000\n",
            "Explanating index 2894/10000\n",
            "Explanating index 2895/10000\n",
            "Explanating index 2896/10000\n",
            "Explanating index 2897/10000\n",
            "Explanating index 2898/10000\n",
            "Explanating index 2899/10000\n",
            "Explanating index 2900/10000\n",
            "Explanating index 2901/10000\n",
            "Explanating index 2902/10000\n",
            "Explanating index 2903/10000\n",
            "Explanating index 2904/10000\n",
            "Explanating index 2905/10000\n",
            "Explanating index 2906/10000\n",
            "Explanating index 2907/10000\n",
            "Explanating index 2908/10000\n",
            "Explanating index 2909/10000\n",
            "Explanating index 2910/10000\n",
            "Explanating index 2911/10000\n",
            "Explanating index 2912/10000\n",
            "Explanating index 2913/10000\n",
            "Explanating index 2914/10000\n",
            "Explanating index 2915/10000\n",
            "Explanating index 2916/10000\n",
            "Explanating index 2917/10000\n",
            "Explanating index 2918/10000\n",
            "Explanating index 2919/10000\n",
            "Explanating index 2920/10000\n",
            "Explanating index 2921/10000\n",
            "Explanating index 2922/10000\n",
            "Explanating index 2923/10000\n",
            "Explanating index 2924/10000\n",
            "Explanating index 2925/10000\n",
            "Explanating index 2926/10000\n",
            "Explanating index 2927/10000\n",
            "Explanating index 2928/10000\n",
            "Explanating index 2929/10000\n",
            "Explanating index 2930/10000\n",
            "Explanating index 2931/10000\n",
            "Explanating index 2932/10000\n",
            "Explanating index 2933/10000\n",
            "Explanating index 2934/10000\n",
            "Explanating index 2935/10000\n",
            "Explanating index 2936/10000\n",
            "Explanating index 2937/10000\n",
            "Explanating index 2938/10000\n",
            "Explanating index 2939/10000\n",
            "Explanating index 2940/10000\n",
            "Explanating index 2941/10000\n",
            "Explanating index 2942/10000\n",
            "Explanating index 2943/10000\n",
            "Explanating index 2944/10000\n",
            "Explanating index 2945/10000\n",
            "Explanating index 2946/10000\n",
            "Explanating index 2947/10000\n",
            "Explanating index 2948/10000\n",
            "Explanating index 2949/10000\n",
            "Explanating index 2950/10000\n",
            "Explanating index 2951/10000\n",
            "Explanating index 2952/10000\n",
            "Explanating index 2953/10000\n",
            "Explanating index 2954/10000\n",
            "Explanating index 2955/10000\n",
            "Explanating index 2956/10000\n",
            "Explanating index 2957/10000\n",
            "Explanating index 2958/10000\n",
            "Explanating index 2959/10000\n",
            "Explanating index 2960/10000\n",
            "Explanating index 2961/10000\n",
            "Explanating index 2962/10000\n",
            "Explanating index 2963/10000\n",
            "Explanating index 2964/10000\n",
            "Explanating index 2965/10000\n",
            "Explanating index 2966/10000\n",
            "Explanating index 2967/10000\n",
            "Explanating index 2968/10000\n",
            "Explanating index 2969/10000\n",
            "Explanating index 2970/10000\n",
            "Explanating index 2971/10000\n",
            "Explanating index 2972/10000\n",
            "Explanating index 2973/10000\n",
            "Explanating index 2974/10000\n",
            "Explanating index 2975/10000\n",
            "Explanating index 2976/10000\n",
            "Explanating index 2977/10000\n",
            "Explanating index 2978/10000\n",
            "Explanating index 2979/10000\n",
            "Explanating index 2980/10000\n",
            "Explanating index 2981/10000\n",
            "Explanating index 2982/10000\n",
            "Explanating index 2983/10000\n",
            "Explanating index 2984/10000\n",
            "Explanating index 2985/10000\n",
            "Explanating index 2986/10000\n",
            "Explanating index 2987/10000\n",
            "Explanating index 2988/10000\n",
            "Explanating index 2989/10000\n",
            "Explanating index 2990/10000\n",
            "Explanating index 2991/10000\n",
            "Explanating index 2992/10000\n",
            "Explanating index 2993/10000\n",
            "Explanating index 2994/10000\n",
            "Explanating index 2995/10000\n",
            "Explanating index 2996/10000\n",
            "Explanating index 2997/10000\n",
            "Explanating index 2998/10000\n",
            "Explanating index 2999/10000\n",
            "Explanating index 3000/10000\n",
            "Explanating index 3001/10000\n",
            "Explanating index 3002/10000\n",
            "Explanating index 3003/10000\n",
            "Explanating index 3004/10000\n",
            "Explanating index 3005/10000\n",
            "Explanating index 3006/10000\n",
            "Explanating index 3007/10000\n",
            "Explanating index 3008/10000\n",
            "Explanating index 3009/10000\n",
            "Explanating index 3010/10000\n",
            "Explanating index 3011/10000\n",
            "Explanating index 3012/10000\n",
            "Explanating index 3013/10000\n",
            "Explanating index 3014/10000\n",
            "Explanating index 3015/10000\n",
            "Explanating index 3016/10000\n",
            "Explanating index 3017/10000\n",
            "Explanating index 3018/10000\n",
            "Explanating index 3019/10000\n",
            "Explanating index 3020/10000\n",
            "Explanating index 3021/10000\n",
            "Explanating index 3022/10000\n",
            "Explanating index 3023/10000\n",
            "Explanating index 3024/10000\n",
            "Explanating index 3025/10000\n",
            "Explanating index 3026/10000\n",
            "Explanating index 3027/10000\n",
            "Explanating index 3028/10000\n",
            "Explanating index 3029/10000\n",
            "Explanating index 3030/10000\n",
            "Explanating index 3031/10000\n",
            "Explanating index 3032/10000\n",
            "Explanating index 3033/10000\n",
            "Explanating index 3034/10000\n",
            "Explanating index 3035/10000\n",
            "Explanating index 3036/10000\n",
            "Explanating index 3037/10000\n",
            "Explanating index 3038/10000\n",
            "Explanating index 3039/10000\n",
            "Explanating index 3040/10000\n",
            "Explanating index 3041/10000\n",
            "Explanating index 3042/10000\n",
            "Explanating index 3043/10000\n",
            "Explanating index 3044/10000\n",
            "Explanating index 3045/10000\n",
            "Explanating index 3046/10000\n",
            "Explanating index 3047/10000\n",
            "Explanating index 3048/10000\n",
            "Explanating index 3049/10000\n",
            "Explanating index 3050/10000\n",
            "Explanating index 3051/10000\n",
            "Explanating index 3052/10000\n",
            "Explanating index 3053/10000\n",
            "Explanating index 3054/10000\n",
            "Explanating index 3055/10000\n",
            "Explanating index 3056/10000\n",
            "Explanating index 3057/10000\n",
            "Explanating index 3058/10000\n",
            "Explanating index 3059/10000\n",
            "Explanating index 3060/10000\n",
            "Explanating index 3061/10000\n",
            "Explanating index 3062/10000\n",
            "Explanating index 3063/10000\n",
            "Explanating index 3064/10000\n",
            "Explanating index 3065/10000\n",
            "Explanating index 3066/10000\n",
            "Explanating index 3067/10000\n",
            "Explanating index 3068/10000\n",
            "Explanating index 3069/10000\n",
            "Explanating index 3070/10000\n",
            "Explanating index 3071/10000\n",
            "Explanating index 3072/10000\n",
            "Explanating index 3073/10000\n",
            "Explanating index 3074/10000\n",
            "Explanating index 3075/10000\n",
            "Explanating index 3076/10000\n",
            "Explanating index 3077/10000\n",
            "Explanating index 3078/10000\n",
            "Explanating index 3079/10000\n",
            "Explanating index 3080/10000\n",
            "Explanating index 3081/10000\n",
            "Explanating index 3082/10000\n",
            "Explanating index 3083/10000\n",
            "Explanating index 3084/10000\n",
            "Explanating index 3085/10000\n",
            "Explanating index 3086/10000\n",
            "Explanating index 3087/10000\n",
            "Explanating index 3088/10000\n",
            "Explanating index 3089/10000\n",
            "Explanating index 3090/10000\n",
            "Explanating index 3091/10000\n",
            "Explanating index 3092/10000\n",
            "Explanating index 3093/10000\n",
            "Explanating index 3094/10000\n",
            "Explanating index 3095/10000\n",
            "Explanating index 3096/10000\n",
            "Explanating index 3097/10000\n",
            "Explanating index 3098/10000\n",
            "Explanating index 3099/10000\n",
            "Explanating index 3100/10000\n",
            "Explanating index 3101/10000\n",
            "Explanating index 3102/10000\n",
            "Explanating index 3103/10000\n",
            "Explanating index 3104/10000\n",
            "Explanating index 3105/10000\n",
            "Explanating index 3106/10000\n",
            "Explanating index 3107/10000\n",
            "Explanating index 3108/10000\n",
            "Explanating index 3109/10000\n",
            "Explanating index 3110/10000\n",
            "Explanating index 3111/10000\n",
            "Explanating index 3112/10000\n",
            "Explanating index 3113/10000\n",
            "Explanating index 3114/10000\n",
            "Explanating index 3115/10000\n",
            "Explanating index 3116/10000\n",
            "Explanating index 3117/10000\n",
            "Explanating index 3118/10000\n",
            "Explanating index 3119/10000\n",
            "Explanating index 3120/10000\n",
            "Explanating index 3121/10000\n",
            "Explanating index 3122/10000\n",
            "Explanating index 3123/10000\n",
            "Explanating index 3124/10000\n",
            "Explanating index 3125/10000\n",
            "Explanating index 3126/10000\n",
            "Explanating index 3127/10000\n",
            "Explanating index 3128/10000\n",
            "Explanating index 3129/10000\n",
            "Explanating index 3130/10000\n",
            "Explanating index 3131/10000\n",
            "Explanating index 3132/10000\n",
            "Explanating index 3133/10000\n",
            "Explanating index 3134/10000\n",
            "Explanating index 3135/10000\n",
            "Explanating index 3136/10000\n",
            "Explanating index 3137/10000\n",
            "Explanating index 3138/10000\n",
            "Explanating index 3139/10000\n",
            "Explanating index 3140/10000\n",
            "Explanating index 3141/10000\n",
            "Explanating index 3142/10000\n",
            "Explanating index 3143/10000\n",
            "Explanating index 3144/10000\n",
            "Explanating index 3145/10000\n",
            "Explanating index 3146/10000\n",
            "Explanating index 3147/10000\n",
            "Explanating index 3148/10000\n",
            "Explanating index 3149/10000\n",
            "Explanating index 3150/10000\n",
            "Explanating index 3151/10000\n",
            "Explanating index 3152/10000\n",
            "Explanating index 3153/10000\n",
            "Explanating index 3154/10000\n",
            "Explanating index 3155/10000\n",
            "Explanating index 3156/10000\n",
            "Explanating index 3157/10000\n",
            "Explanating index 3158/10000\n",
            "Explanating index 3159/10000\n",
            "Explanating index 3160/10000\n",
            "Explanating index 3161/10000\n",
            "Explanating index 3162/10000\n",
            "Explanating index 3163/10000\n",
            "Explanating index 3164/10000\n",
            "Explanating index 3165/10000\n",
            "Explanating index 3166/10000\n",
            "Explanating index 3167/10000\n",
            "Explanating index 3168/10000\n",
            "Explanating index 3169/10000\n",
            "Explanating index 3170/10000\n",
            "Explanating index 3171/10000\n",
            "Explanating index 3172/10000\n",
            "Explanating index 3173/10000\n",
            "Explanating index 3174/10000\n",
            "Explanating index 3175/10000\n",
            "Explanating index 3176/10000\n",
            "Explanating index 3177/10000\n",
            "Explanating index 3178/10000\n",
            "Explanating index 3179/10000\n",
            "Explanating index 3180/10000\n",
            "Explanating index 3181/10000\n",
            "Explanating index 3182/10000\n",
            "Explanating index 3183/10000\n",
            "Explanating index 3184/10000\n",
            "Explanating index 3185/10000\n",
            "Explanating index 3186/10000\n",
            "Explanating index 3187/10000\n",
            "Explanating index 3188/10000\n",
            "Explanating index 3189/10000\n",
            "Explanating index 3190/10000\n",
            "Explanating index 3191/10000\n",
            "Explanating index 3192/10000\n",
            "Explanating index 3193/10000\n",
            "Explanating index 3194/10000\n",
            "Explanating index 3195/10000\n",
            "Explanating index 3196/10000\n",
            "Explanating index 3197/10000\n",
            "Explanating index 3198/10000\n",
            "Explanating index 3199/10000\n",
            "Explanating index 3200/10000\n",
            "Explanating index 3201/10000\n",
            "Explanating index 3202/10000\n",
            "Explanating index 3203/10000\n",
            "Explanating index 3204/10000\n",
            "Explanating index 3205/10000\n",
            "Explanating index 3206/10000\n",
            "Explanating index 3207/10000\n",
            "Explanating index 3208/10000\n",
            "Explanating index 3209/10000\n",
            "Explanating index 3210/10000\n",
            "Explanating index 3211/10000\n",
            "Explanating index 3212/10000\n",
            "Explanating index 3213/10000\n",
            "Explanating index 3214/10000\n",
            "Explanating index 3215/10000\n",
            "Explanating index 3216/10000\n",
            "Explanating index 3217/10000\n",
            "Explanating index 3218/10000\n",
            "Explanating index 3219/10000\n",
            "Explanating index 3220/10000\n",
            "Explanating index 3221/10000\n",
            "Explanating index 3222/10000\n",
            "Explanating index 3223/10000\n",
            "Explanating index 3224/10000\n",
            "Explanating index 3225/10000\n",
            "Explanating index 3226/10000\n",
            "Explanating index 3227/10000\n",
            "Explanating index 3228/10000\n",
            "Explanating index 3229/10000\n",
            "Explanating index 3230/10000\n",
            "Explanating index 3231/10000\n",
            "Explanating index 3232/10000\n",
            "Explanating index 3233/10000\n",
            "Explanating index 3234/10000\n",
            "Explanating index 3235/10000\n",
            "Explanating index 3236/10000\n",
            "Explanating index 3237/10000\n",
            "Explanating index 3238/10000\n",
            "Explanating index 3239/10000\n",
            "Explanating index 3240/10000\n",
            "Explanating index 3241/10000\n",
            "Explanating index 3242/10000\n",
            "Explanating index 3243/10000\n",
            "Explanating index 3244/10000\n",
            "Explanating index 3245/10000\n",
            "Explanating index 3246/10000\n",
            "Explanating index 3247/10000\n",
            "Explanating index 3248/10000\n",
            "Explanating index 3249/10000\n",
            "Explanating index 3250/10000\n",
            "Explanating index 3251/10000\n",
            "Explanating index 3252/10000\n",
            "Explanating index 3253/10000\n",
            "Explanating index 3254/10000\n",
            "Explanating index 3255/10000\n",
            "Explanating index 3256/10000\n",
            "Explanating index 3257/10000\n",
            "Explanating index 3258/10000\n",
            "Explanating index 3259/10000\n",
            "Explanating index 3260/10000\n",
            "Explanating index 3261/10000\n",
            "Explanating index 3262/10000\n",
            "Explanating index 3263/10000\n",
            "Explanating index 3264/10000\n",
            "Explanating index 3265/10000\n",
            "Explanating index 3266/10000\n",
            "Explanating index 3267/10000\n",
            "Explanating index 3268/10000\n",
            "Explanating index 3269/10000\n",
            "Explanating index 3270/10000\n",
            "Explanating index 3271/10000\n",
            "Explanating index 3272/10000\n",
            "Explanating index 3273/10000\n",
            "Explanating index 3274/10000\n",
            "Explanating index 3275/10000\n",
            "Explanating index 3276/10000\n",
            "Explanating index 3277/10000\n",
            "Explanating index 3278/10000\n",
            "Explanating index 3279/10000\n",
            "Explanating index 3280/10000\n",
            "Explanating index 3281/10000\n",
            "Explanating index 3282/10000\n",
            "Explanating index 3283/10000\n",
            "Explanating index 3284/10000\n",
            "Explanating index 3285/10000\n",
            "Explanating index 3286/10000\n",
            "Explanating index 3287/10000\n",
            "Explanating index 3288/10000\n",
            "Explanating index 3289/10000\n",
            "Explanating index 3290/10000\n",
            "Explanating index 3291/10000\n",
            "Explanating index 3292/10000\n",
            "Explanating index 3293/10000\n",
            "Explanating index 3294/10000\n",
            "Explanating index 3295/10000\n",
            "Explanating index 3296/10000\n",
            "Explanating index 3297/10000\n",
            "Explanating index 3298/10000\n",
            "Explanating index 3299/10000\n",
            "Explanating index 3300/10000\n",
            "Explanating index 3301/10000\n",
            "Explanating index 3302/10000\n",
            "Explanating index 3303/10000\n",
            "Explanating index 3304/10000\n",
            "Explanating index 3305/10000\n",
            "Explanating index 3306/10000\n",
            "Explanating index 3307/10000\n",
            "Explanating index 3308/10000\n",
            "Explanating index 3309/10000\n",
            "Explanating index 3310/10000\n",
            "Explanating index 3311/10000\n",
            "Explanating index 3312/10000\n",
            "Explanating index 3313/10000\n",
            "Explanating index 3314/10000\n",
            "Explanating index 3315/10000\n",
            "Explanating index 3316/10000\n",
            "Explanating index 3317/10000\n",
            "Explanating index 3318/10000\n",
            "Explanating index 3319/10000\n",
            "Explanating index 3320/10000\n",
            "Explanating index 3321/10000\n",
            "Explanating index 3322/10000\n",
            "Explanating index 3323/10000\n",
            "Explanating index 3324/10000\n",
            "Explanating index 3325/10000\n",
            "Explanating index 3326/10000\n",
            "Explanating index 3327/10000\n",
            "Explanating index 3328/10000\n",
            "Explanating index 3329/10000\n",
            "Explanating index 3330/10000\n",
            "Explanating index 3331/10000\n",
            "Explanating index 3332/10000\n",
            "Explanating index 3333/10000\n",
            "Explanating index 3334/10000\n",
            "Explanating index 3335/10000\n",
            "Explanating index 3336/10000\n",
            "Explanating index 3337/10000\n",
            "Explanating index 3338/10000\n",
            "Explanating index 3339/10000\n",
            "Explanating index 3340/10000\n",
            "Explanating index 3341/10000\n",
            "Explanating index 3342/10000\n",
            "Explanating index 3343/10000\n",
            "Explanating index 3344/10000\n",
            "Explanating index 3345/10000\n",
            "Explanating index 3346/10000\n",
            "Explanating index 3347/10000\n",
            "Explanating index 3348/10000\n",
            "Explanating index 3349/10000\n",
            "Explanating index 3350/10000\n",
            "Explanating index 3351/10000\n",
            "Explanating index 3352/10000\n",
            "Explanating index 3353/10000\n",
            "Explanating index 3354/10000\n",
            "Explanating index 3355/10000\n",
            "Explanating index 3356/10000\n",
            "Explanating index 3357/10000\n",
            "Explanating index 3358/10000\n",
            "Explanating index 3359/10000\n",
            "Explanating index 3360/10000\n",
            "Explanating index 3361/10000\n",
            "Explanating index 3362/10000\n",
            "Explanating index 3363/10000\n",
            "Explanating index 3364/10000\n",
            "Explanating index 3365/10000\n",
            "Explanating index 3366/10000\n",
            "Explanating index 3367/10000\n",
            "Explanating index 3368/10000\n",
            "Explanating index 3369/10000\n",
            "Explanating index 3370/10000\n",
            "Explanating index 3371/10000\n",
            "Explanating index 3372/10000\n",
            "Explanating index 3373/10000\n",
            "Explanating index 3374/10000\n",
            "Explanating index 3375/10000\n",
            "Explanating index 3376/10000\n",
            "Explanating index 3377/10000\n",
            "Explanating index 3378/10000\n",
            "Explanating index 3379/10000\n",
            "Explanating index 3380/10000\n",
            "Explanating index 3381/10000\n",
            "Explanating index 3382/10000\n",
            "Explanating index 3383/10000\n",
            "Explanating index 3384/10000\n",
            "Explanating index 3385/10000\n",
            "Explanating index 3386/10000\n",
            "Explanating index 3387/10000\n",
            "Explanating index 3388/10000\n",
            "Explanating index 3389/10000\n",
            "Explanating index 3390/10000\n",
            "Explanating index 3391/10000\n",
            "Explanating index 3392/10000\n",
            "Explanating index 3393/10000\n",
            "Explanating index 3394/10000\n",
            "Explanating index 3395/10000\n",
            "Explanating index 3396/10000\n",
            "Explanating index 3397/10000\n",
            "Explanating index 3398/10000\n",
            "Explanating index 3399/10000\n",
            "Explanating index 3400/10000\n",
            "Explanating index 3401/10000\n",
            "Explanating index 3402/10000\n",
            "Explanating index 3403/10000\n",
            "Explanating index 3404/10000\n",
            "Explanating index 3405/10000\n",
            "Explanating index 3406/10000\n",
            "Explanating index 3407/10000\n",
            "Explanating index 3408/10000\n",
            "Explanating index 3409/10000\n",
            "Explanating index 3410/10000\n",
            "Explanating index 3411/10000\n",
            "Explanating index 3412/10000\n",
            "Explanating index 3413/10000\n",
            "Explanating index 3414/10000\n",
            "Explanating index 3415/10000\n",
            "Explanating index 3416/10000\n",
            "Explanating index 3417/10000\n",
            "Explanating index 3418/10000\n",
            "Explanating index 3419/10000\n",
            "Explanating index 3420/10000\n",
            "Explanating index 3421/10000\n",
            "Explanating index 3422/10000\n",
            "Explanating index 3423/10000\n",
            "Explanating index 3424/10000\n",
            "Explanating index 3425/10000\n",
            "Explanating index 3426/10000\n",
            "Explanating index 3427/10000\n",
            "Explanating index 3428/10000\n",
            "Explanating index 3429/10000\n",
            "Explanating index 3430/10000\n",
            "Explanating index 3431/10000\n",
            "Explanating index 3432/10000\n",
            "Explanating index 3433/10000\n",
            "Explanating index 3434/10000\n",
            "Explanating index 3435/10000\n",
            "Explanating index 3436/10000\n",
            "Explanating index 3437/10000\n",
            "Explanating index 3438/10000\n",
            "Explanating index 3439/10000\n",
            "Explanating index 3440/10000\n",
            "Explanating index 3441/10000\n",
            "Explanating index 3442/10000\n",
            "Explanating index 3443/10000\n",
            "Explanating index 3444/10000\n",
            "Explanating index 3445/10000\n",
            "Explanating index 3446/10000\n",
            "Explanating index 3447/10000\n",
            "Explanating index 3448/10000\n",
            "Explanating index 3449/10000\n",
            "Explanating index 3450/10000\n",
            "Explanating index 3451/10000\n",
            "Explanating index 3452/10000\n",
            "Explanating index 3453/10000\n",
            "Explanating index 3454/10000\n",
            "Explanating index 3455/10000\n",
            "Explanating index 3456/10000\n",
            "Explanating index 3457/10000\n",
            "Explanating index 3458/10000\n",
            "Explanating index 3459/10000\n",
            "Explanating index 3460/10000\n",
            "Explanating index 3461/10000\n",
            "Explanating index 3462/10000\n",
            "Explanating index 3463/10000\n",
            "Explanating index 3464/10000\n",
            "Explanating index 3465/10000\n",
            "Explanating index 3466/10000\n",
            "Explanating index 3467/10000\n",
            "Explanating index 3468/10000\n",
            "Explanating index 3469/10000\n",
            "Explanating index 3470/10000\n",
            "Explanating index 3471/10000\n",
            "Explanating index 3472/10000\n",
            "Explanating index 3473/10000\n",
            "Explanating index 3474/10000\n",
            "Explanating index 3475/10000\n",
            "Explanating index 3476/10000\n",
            "Explanating index 3477/10000\n",
            "Explanating index 3478/10000\n",
            "Explanating index 3479/10000\n",
            "Explanating index 3480/10000\n",
            "Explanating index 3481/10000\n",
            "Explanating index 3482/10000\n",
            "Explanating index 3483/10000\n",
            "Explanating index 3484/10000\n",
            "Explanating index 3485/10000\n",
            "Explanating index 3486/10000\n",
            "Explanating index 3487/10000\n",
            "Explanating index 3488/10000\n",
            "Explanating index 3489/10000\n",
            "Explanating index 3490/10000\n",
            "Explanating index 3491/10000\n",
            "Explanating index 3492/10000\n",
            "Explanating index 3493/10000\n",
            "Explanating index 3494/10000\n",
            "Explanating index 3495/10000\n",
            "Explanating index 3496/10000\n",
            "Explanating index 3497/10000\n",
            "Explanating index 3498/10000\n",
            "Explanating index 3499/10000\n",
            "Explanating index 3500/10000\n",
            "Explanating index 3501/10000\n",
            "Explanating index 3502/10000\n",
            "Explanating index 3503/10000\n",
            "Explanating index 3504/10000\n",
            "Explanating index 3505/10000\n",
            "Explanating index 3506/10000\n",
            "Explanating index 3507/10000\n",
            "Explanating index 3508/10000\n",
            "Explanating index 3509/10000\n",
            "Explanating index 3510/10000\n",
            "Explanating index 3511/10000\n",
            "Explanating index 3512/10000\n",
            "Explanating index 3513/10000\n",
            "Explanating index 3514/10000\n",
            "Explanating index 3515/10000\n",
            "Explanating index 3516/10000\n",
            "Explanating index 3517/10000\n",
            "Explanating index 3518/10000\n",
            "Explanating index 3519/10000\n",
            "Explanating index 3520/10000\n",
            "Explanating index 3521/10000\n",
            "Explanating index 3522/10000\n",
            "Explanating index 3523/10000\n",
            "Explanating index 3524/10000\n",
            "Explanating index 3525/10000\n",
            "Explanating index 3526/10000\n",
            "Explanating index 3527/10000\n",
            "Explanating index 3528/10000\n",
            "Explanating index 3529/10000\n",
            "Explanating index 3530/10000\n",
            "Explanating index 3531/10000\n",
            "Explanating index 3532/10000\n",
            "Explanating index 3533/10000\n",
            "Explanating index 3534/10000\n",
            "Explanating index 3535/10000\n",
            "Explanating index 3536/10000\n",
            "Explanating index 3537/10000\n",
            "Explanating index 3538/10000\n",
            "Explanating index 3539/10000\n",
            "Explanating index 3540/10000\n",
            "Explanating index 3541/10000\n",
            "Explanating index 3542/10000\n",
            "Explanating index 3543/10000\n",
            "Explanating index 3544/10000\n",
            "Explanating index 3545/10000\n",
            "Explanating index 3546/10000\n",
            "Explanating index 3547/10000\n",
            "Explanating index 3548/10000\n",
            "Explanating index 3549/10000\n",
            "Explanating index 3550/10000\n",
            "Explanating index 3551/10000\n",
            "Explanating index 3552/10000\n",
            "Explanating index 3553/10000\n",
            "Explanating index 3554/10000\n",
            "Explanating index 3555/10000\n",
            "Explanating index 3556/10000\n",
            "Explanating index 3557/10000\n",
            "Explanating index 3558/10000\n",
            "Explanating index 3559/10000\n",
            "Explanating index 3560/10000\n",
            "Explanating index 3561/10000\n",
            "Explanating index 3562/10000\n",
            "Explanating index 3563/10000\n",
            "Explanating index 3564/10000\n",
            "Explanating index 3565/10000\n",
            "Explanating index 3566/10000\n",
            "Explanating index 3567/10000\n",
            "Explanating index 3568/10000\n",
            "Explanating index 3569/10000\n",
            "Explanating index 3570/10000\n",
            "Explanating index 3571/10000\n",
            "Explanating index 3572/10000\n",
            "Explanating index 3573/10000\n",
            "Explanating index 3574/10000\n",
            "Explanating index 3575/10000\n",
            "Explanating index 3576/10000\n",
            "Explanating index 3577/10000\n",
            "Explanating index 3578/10000\n",
            "Explanating index 3579/10000\n",
            "Explanating index 3580/10000\n",
            "Explanating index 3581/10000\n",
            "Explanating index 3582/10000\n",
            "Explanating index 3583/10000\n",
            "Explanating index 3584/10000\n",
            "Explanating index 3585/10000\n",
            "Explanating index 3586/10000\n",
            "Explanating index 3587/10000\n",
            "Explanating index 3588/10000\n",
            "Explanating index 3589/10000\n",
            "Explanating index 3590/10000\n",
            "Explanating index 3591/10000\n",
            "Explanating index 3592/10000\n",
            "Explanating index 3593/10000\n",
            "Explanating index 3594/10000\n",
            "Explanating index 3595/10000\n",
            "Explanating index 3596/10000\n",
            "Explanating index 3597/10000\n",
            "Explanating index 3598/10000\n",
            "Explanating index 3599/10000\n",
            "Explanating index 3600/10000\n",
            "Explanating index 3601/10000\n",
            "Explanating index 3602/10000\n",
            "Explanating index 3603/10000\n",
            "Explanating index 3604/10000\n",
            "Explanating index 3605/10000\n",
            "Explanating index 3606/10000\n",
            "Explanating index 3607/10000\n",
            "Explanating index 3608/10000\n",
            "Explanating index 3609/10000\n",
            "Explanating index 3610/10000\n",
            "Explanating index 3611/10000\n",
            "Explanating index 3612/10000\n",
            "Explanating index 3613/10000\n",
            "Explanating index 3614/10000\n",
            "Explanating index 3615/10000\n",
            "Explanating index 3616/10000\n",
            "Explanating index 3617/10000\n",
            "Explanating index 3618/10000\n",
            "Explanating index 3619/10000\n",
            "Explanating index 3620/10000\n",
            "Explanating index 3621/10000\n",
            "Explanating index 3622/10000\n",
            "Explanating index 3623/10000\n",
            "Explanating index 3624/10000\n",
            "Explanating index 3625/10000\n",
            "Explanating index 3626/10000\n",
            "Explanating index 3627/10000\n",
            "Explanating index 3628/10000\n",
            "Explanating index 3629/10000\n",
            "Explanating index 3630/10000\n",
            "Explanating index 3631/10000\n",
            "Explanating index 3632/10000\n",
            "Explanating index 3633/10000\n",
            "Explanating index 3634/10000\n",
            "Explanating index 3635/10000\n",
            "Explanating index 3636/10000\n",
            "Explanating index 3637/10000\n",
            "Explanating index 3638/10000\n",
            "Explanating index 3639/10000\n",
            "Explanating index 3640/10000\n",
            "Explanating index 3641/10000\n",
            "Explanating index 3642/10000\n",
            "Explanating index 3643/10000\n",
            "Explanating index 3644/10000\n",
            "Explanating index 3645/10000\n",
            "Explanating index 3646/10000\n",
            "Explanating index 3647/10000\n",
            "Explanating index 3648/10000\n",
            "Explanating index 3649/10000\n",
            "Explanating index 3650/10000\n",
            "Explanating index 3651/10000\n",
            "Explanating index 3652/10000\n",
            "Explanating index 3653/10000\n",
            "Explanating index 3654/10000\n",
            "Explanating index 3655/10000\n",
            "Explanating index 3656/10000\n",
            "Explanating index 3657/10000\n",
            "Explanating index 3658/10000\n",
            "Explanating index 3659/10000\n",
            "Explanating index 3660/10000\n",
            "Explanating index 3661/10000\n",
            "Explanating index 3662/10000\n",
            "Explanating index 3663/10000\n",
            "Explanating index 3664/10000\n",
            "Explanating index 3665/10000\n",
            "Explanating index 3666/10000\n",
            "Explanating index 3667/10000\n",
            "Explanating index 3668/10000\n",
            "Explanating index 3669/10000\n",
            "Explanating index 3670/10000\n",
            "Explanating index 3671/10000\n",
            "Explanating index 3672/10000\n",
            "Explanating index 3673/10000\n",
            "Explanating index 3674/10000\n",
            "Explanating index 3675/10000\n",
            "Explanating index 3676/10000\n",
            "Explanating index 3677/10000\n",
            "Explanating index 3678/10000\n",
            "Explanating index 3679/10000\n",
            "Explanating index 3680/10000\n",
            "Explanating index 3681/10000\n",
            "Explanating index 3682/10000\n",
            "Explanating index 3683/10000\n",
            "Explanating index 3684/10000\n",
            "Explanating index 3685/10000\n",
            "Explanating index 3686/10000\n",
            "Explanating index 3687/10000\n",
            "Explanating index 3688/10000\n",
            "Explanating index 3689/10000\n",
            "Explanating index 3690/10000\n",
            "Explanating index 3691/10000\n",
            "Explanating index 3692/10000\n",
            "Explanating index 3693/10000\n",
            "Explanating index 3694/10000\n",
            "Explanating index 3695/10000\n",
            "Explanating index 3696/10000\n",
            "Explanating index 3697/10000\n",
            "Explanating index 3698/10000\n",
            "Explanating index 3699/10000\n",
            "Explanating index 3700/10000\n",
            "Explanating index 3701/10000\n",
            "Explanating index 3702/10000\n",
            "Explanating index 3703/10000\n",
            "Explanating index 3704/10000\n",
            "Explanating index 3705/10000\n",
            "Explanating index 3706/10000\n",
            "Explanating index 3707/10000\n",
            "Explanating index 3708/10000\n",
            "Explanating index 3709/10000\n",
            "Explanating index 3710/10000\n",
            "Explanating index 3711/10000\n",
            "Explanating index 3712/10000\n",
            "Explanating index 3713/10000\n",
            "Explanating index 3714/10000\n",
            "Explanating index 3715/10000\n",
            "Explanating index 3716/10000\n",
            "Explanating index 3717/10000\n",
            "Explanating index 3718/10000\n",
            "Explanating index 3719/10000\n",
            "Explanating index 3720/10000\n",
            "Explanating index 3721/10000\n",
            "Explanating index 3722/10000\n",
            "Explanating index 3723/10000\n",
            "Explanating index 3724/10000\n",
            "Explanating index 3725/10000\n",
            "Explanating index 3726/10000\n",
            "Explanating index 3727/10000\n",
            "Explanating index 3728/10000\n",
            "Explanating index 3729/10000\n",
            "Explanating index 3730/10000\n",
            "Explanating index 3731/10000\n",
            "Explanating index 3732/10000\n",
            "Explanating index 3733/10000\n",
            "Explanating index 3734/10000\n",
            "Explanating index 3735/10000\n",
            "Explanating index 3736/10000\n",
            "Explanating index 3737/10000\n",
            "Explanating index 3738/10000\n",
            "Explanating index 3739/10000\n",
            "Explanating index 3740/10000\n",
            "Explanating index 3741/10000\n",
            "Explanating index 3742/10000\n",
            "Explanating index 3743/10000\n",
            "Explanating index 3744/10000\n",
            "Explanating index 3745/10000\n",
            "Explanating index 3746/10000\n",
            "Explanating index 3747/10000\n",
            "Explanating index 3748/10000\n",
            "Explanating index 3749/10000\n",
            "Explanating index 3750/10000\n",
            "Explanating index 3751/10000\n",
            "Explanating index 3752/10000\n",
            "Explanating index 3753/10000\n",
            "Explanating index 3754/10000\n",
            "Explanating index 3755/10000\n",
            "Explanating index 3756/10000\n",
            "Explanating index 3757/10000\n",
            "Explanating index 3758/10000\n",
            "Explanating index 3759/10000\n",
            "Explanating index 3760/10000\n",
            "Explanating index 3761/10000\n",
            "Explanating index 3762/10000\n",
            "Explanating index 3763/10000\n",
            "Explanating index 3764/10000\n",
            "Explanating index 3765/10000\n",
            "Explanating index 3766/10000\n",
            "Explanating index 3767/10000\n",
            "Explanating index 3768/10000\n",
            "Explanating index 3769/10000\n",
            "Explanating index 3770/10000\n",
            "Explanating index 3771/10000\n",
            "Explanating index 3772/10000\n",
            "Explanating index 3773/10000\n",
            "Explanating index 3774/10000\n",
            "Explanating index 3775/10000\n",
            "Explanating index 3776/10000\n",
            "Explanating index 3777/10000\n",
            "Explanating index 3778/10000\n",
            "Explanating index 3779/10000\n",
            "Explanating index 3780/10000\n",
            "Explanating index 3781/10000\n",
            "Explanating index 3782/10000\n",
            "Explanating index 3783/10000\n",
            "Explanating index 3784/10000\n",
            "Explanating index 3785/10000\n",
            "Explanating index 3786/10000\n",
            "Explanating index 3787/10000\n",
            "Explanating index 3788/10000\n",
            "Explanating index 3789/10000\n",
            "Explanating index 3790/10000\n",
            "Explanating index 3791/10000\n",
            "Explanating index 3792/10000\n",
            "Explanating index 3793/10000\n",
            "Explanating index 3794/10000\n",
            "Explanating index 3795/10000\n",
            "Explanating index 3796/10000\n",
            "Explanating index 3797/10000\n",
            "Explanating index 3798/10000\n",
            "Explanating index 3799/10000\n",
            "Explanating index 3800/10000\n",
            "Explanating index 3801/10000\n",
            "Explanating index 3802/10000\n",
            "Explanating index 3803/10000\n",
            "Explanating index 3804/10000\n",
            "Explanating index 3805/10000\n",
            "Explanating index 3806/10000\n",
            "Explanating index 3807/10000\n",
            "Explanating index 3808/10000\n",
            "Explanating index 3809/10000\n",
            "Explanating index 3810/10000\n",
            "Explanating index 3811/10000\n",
            "Explanating index 3812/10000\n",
            "Explanating index 3813/10000\n",
            "Explanating index 3814/10000\n",
            "Explanating index 3815/10000\n",
            "Explanating index 3816/10000\n",
            "Explanating index 3817/10000\n",
            "Explanating index 3818/10000\n",
            "Explanating index 3819/10000\n",
            "Explanating index 3820/10000\n",
            "Explanating index 3821/10000\n",
            "Explanating index 3822/10000\n",
            "Explanating index 3823/10000\n",
            "Explanating index 3824/10000\n",
            "Explanating index 3825/10000\n",
            "Explanating index 3826/10000\n",
            "Explanating index 3827/10000\n",
            "Explanating index 3828/10000\n",
            "Explanating index 3829/10000\n",
            "Explanating index 3830/10000\n",
            "Explanating index 3831/10000\n",
            "Explanating index 3832/10000\n",
            "Explanating index 3833/10000\n",
            "Explanating index 3834/10000\n",
            "Explanating index 3835/10000\n",
            "Explanating index 3836/10000\n",
            "Explanating index 3837/10000\n",
            "Explanating index 3838/10000\n",
            "Explanating index 3839/10000\n",
            "Explanating index 3840/10000\n",
            "Explanating index 3841/10000\n",
            "Explanating index 3842/10000\n",
            "Explanating index 3843/10000\n",
            "Explanating index 3844/10000\n",
            "Explanating index 3845/10000\n",
            "Explanating index 3846/10000\n",
            "Explanating index 3847/10000\n",
            "Explanating index 3848/10000\n",
            "Explanating index 3849/10000\n",
            "Explanating index 3850/10000\n",
            "Explanating index 3851/10000\n",
            "Explanating index 3852/10000\n",
            "Explanating index 3853/10000\n",
            "Explanating index 3854/10000\n",
            "Explanating index 3855/10000\n",
            "Explanating index 3856/10000\n",
            "Explanating index 3857/10000\n",
            "Explanating index 3858/10000\n",
            "Explanating index 3859/10000\n",
            "Explanating index 3860/10000\n",
            "Explanating index 3861/10000\n",
            "Explanating index 3862/10000\n",
            "Explanating index 3863/10000\n",
            "Explanating index 3864/10000\n",
            "Explanating index 3865/10000\n",
            "Explanating index 3866/10000\n",
            "Explanating index 3867/10000\n",
            "Explanating index 3868/10000\n",
            "Explanating index 3869/10000\n",
            "Explanating index 3870/10000\n",
            "Explanating index 3871/10000\n",
            "Explanating index 3872/10000\n",
            "Explanating index 3873/10000\n",
            "Explanating index 3874/10000\n",
            "Explanating index 3875/10000\n",
            "Explanating index 3876/10000\n",
            "Explanating index 3877/10000\n",
            "Explanating index 3878/10000\n",
            "Explanating index 3879/10000\n",
            "Explanating index 3880/10000\n",
            "Explanating index 3881/10000\n",
            "Explanating index 3882/10000\n",
            "Explanating index 3883/10000\n",
            "Explanating index 3884/10000\n",
            "Explanating index 3885/10000\n",
            "Explanating index 3886/10000\n",
            "Explanating index 3887/10000\n",
            "Explanating index 3888/10000\n",
            "Explanating index 3889/10000\n",
            "Explanating index 3890/10000\n",
            "Explanating index 3891/10000\n",
            "Explanating index 3892/10000\n",
            "Explanating index 3893/10000\n",
            "Explanating index 3894/10000\n",
            "Explanating index 3895/10000\n",
            "Explanating index 3896/10000\n",
            "Explanating index 3897/10000\n",
            "Explanating index 3898/10000\n",
            "Explanating index 3899/10000\n",
            "Explanating index 3900/10000\n",
            "Explanating index 3901/10000\n",
            "Explanating index 3902/10000\n",
            "Explanating index 3903/10000\n",
            "Explanating index 3904/10000\n",
            "Explanating index 3905/10000\n",
            "Explanating index 3906/10000\n",
            "Explanating index 3907/10000\n",
            "Explanating index 3908/10000\n",
            "Explanating index 3909/10000\n",
            "Explanating index 3910/10000\n",
            "Explanating index 3911/10000\n",
            "Explanating index 3912/10000\n",
            "Explanating index 3913/10000\n",
            "Explanating index 3914/10000\n",
            "Explanating index 3915/10000\n",
            "Explanating index 3916/10000\n",
            "Explanating index 3917/10000\n",
            "Explanating index 3918/10000\n",
            "Explanating index 3919/10000\n",
            "Explanating index 3920/10000\n",
            "Explanating index 3921/10000\n",
            "Explanating index 3922/10000\n",
            "Explanating index 3923/10000\n",
            "Explanating index 3924/10000\n",
            "Explanating index 3925/10000\n",
            "Explanating index 3926/10000\n",
            "Explanating index 3927/10000\n",
            "Explanating index 3928/10000\n",
            "Explanating index 3929/10000\n",
            "Explanating index 3930/10000\n",
            "Explanating index 3931/10000\n",
            "Explanating index 3932/10000\n",
            "Explanating index 3933/10000\n",
            "Explanating index 3934/10000\n",
            "Explanating index 3935/10000\n",
            "Explanating index 3936/10000\n",
            "Explanating index 3937/10000\n",
            "Explanating index 3938/10000\n",
            "Explanating index 3939/10000\n",
            "Explanating index 3940/10000\n",
            "Explanating index 3941/10000\n",
            "Explanating index 3942/10000\n",
            "Explanating index 3943/10000\n",
            "Explanating index 3944/10000\n",
            "Explanating index 3945/10000\n",
            "Explanating index 3946/10000\n",
            "Explanating index 3947/10000\n",
            "Explanating index 3948/10000\n",
            "Explanating index 3949/10000\n",
            "Explanating index 3950/10000\n",
            "Explanating index 3951/10000\n",
            "Explanating index 3952/10000\n",
            "Explanating index 3953/10000\n",
            "Explanating index 3954/10000\n",
            "Explanating index 3955/10000\n",
            "Explanating index 3956/10000\n",
            "Explanating index 3957/10000\n",
            "Explanating index 3958/10000\n",
            "Explanating index 3959/10000\n",
            "Explanating index 3960/10000\n",
            "Explanating index 3961/10000\n",
            "Explanating index 3962/10000\n",
            "Explanating index 3963/10000\n",
            "Explanating index 3964/10000\n",
            "Explanating index 3965/10000\n",
            "Explanating index 3966/10000\n",
            "Explanating index 3967/10000\n",
            "Explanating index 3968/10000\n",
            "Explanating index 3969/10000\n",
            "Explanating index 3970/10000\n",
            "Explanating index 3971/10000\n",
            "Explanating index 3972/10000\n",
            "Explanating index 3973/10000\n",
            "Explanating index 3974/10000\n",
            "Explanating index 3975/10000\n",
            "Explanating index 3976/10000\n",
            "Explanating index 3977/10000\n",
            "Explanating index 3978/10000\n",
            "Explanating index 3979/10000\n",
            "Explanating index 3980/10000\n",
            "Explanating index 3981/10000\n",
            "Explanating index 3982/10000\n",
            "Explanating index 3983/10000\n",
            "Explanating index 3984/10000\n",
            "Explanating index 3985/10000\n",
            "Explanating index 3986/10000\n",
            "Explanating index 3987/10000\n",
            "Explanating index 3988/10000\n",
            "Explanating index 3989/10000\n",
            "Explanating index 3990/10000\n",
            "Explanating index 3991/10000\n",
            "Explanating index 3992/10000\n",
            "Explanating index 3993/10000\n",
            "Explanating index 3994/10000\n",
            "Explanating index 3995/10000\n",
            "Explanating index 3996/10000\n",
            "Explanating index 3997/10000\n",
            "Explanating index 3998/10000\n",
            "Explanating index 3999/10000\n",
            "Explanating index 4000/10000\n",
            "Explanating index 4001/10000\n",
            "Explanating index 4002/10000\n",
            "Explanating index 4003/10000\n",
            "Explanating index 4004/10000\n",
            "Explanating index 4005/10000\n",
            "Explanating index 4006/10000\n",
            "Explanating index 4007/10000\n",
            "Explanating index 4008/10000\n",
            "Explanating index 4009/10000\n",
            "Explanating index 4010/10000\n",
            "Explanating index 4011/10000\n",
            "Explanating index 4012/10000\n",
            "Explanating index 4013/10000\n",
            "Explanating index 4014/10000\n",
            "Explanating index 4015/10000\n",
            "Explanating index 4016/10000\n",
            "Explanating index 4017/10000\n",
            "Explanating index 4018/10000\n",
            "Explanating index 4019/10000\n",
            "Explanating index 4020/10000\n",
            "Explanating index 4021/10000\n",
            "Explanating index 4022/10000\n",
            "Explanating index 4023/10000\n",
            "Explanating index 4024/10000\n",
            "Explanating index 4025/10000\n",
            "Explanating index 4026/10000\n",
            "Explanating index 4027/10000\n",
            "Explanating index 4028/10000\n",
            "Explanating index 4029/10000\n",
            "Explanating index 4030/10000\n",
            "Explanating index 4031/10000\n",
            "Explanating index 4032/10000\n",
            "Explanating index 4033/10000\n",
            "Explanating index 4034/10000\n",
            "Explanating index 4035/10000\n",
            "Explanating index 4036/10000\n",
            "Explanating index 4037/10000\n",
            "Explanating index 4038/10000\n",
            "Explanating index 4039/10000\n",
            "Explanating index 4040/10000\n",
            "Explanating index 4041/10000\n",
            "Explanating index 4042/10000\n",
            "Explanating index 4043/10000\n",
            "Explanating index 4044/10000\n",
            "Explanating index 4045/10000\n",
            "Explanating index 4046/10000\n",
            "Explanating index 4047/10000\n",
            "Explanating index 4048/10000\n",
            "Explanating index 4049/10000\n",
            "Explanating index 4050/10000\n",
            "Explanating index 4051/10000\n",
            "Explanating index 4052/10000\n",
            "Explanating index 4053/10000\n",
            "Explanating index 4054/10000\n",
            "Explanating index 4055/10000\n",
            "Explanating index 4056/10000\n",
            "Explanating index 4057/10000\n",
            "Explanating index 4058/10000\n",
            "Explanating index 4059/10000\n",
            "Explanating index 4060/10000\n",
            "Explanating index 4061/10000\n",
            "Explanating index 4062/10000\n",
            "Explanating index 4063/10000\n",
            "Explanating index 4064/10000\n",
            "Explanating index 4065/10000\n",
            "Explanating index 4066/10000\n",
            "Explanating index 4067/10000\n",
            "Explanating index 4068/10000\n",
            "Explanating index 4069/10000\n",
            "Explanating index 4070/10000\n",
            "Explanating index 4071/10000\n",
            "Explanating index 4072/10000\n",
            "Explanating index 4073/10000\n",
            "Explanating index 4074/10000\n",
            "Explanating index 4075/10000\n",
            "Explanating index 4076/10000\n",
            "Explanating index 4077/10000\n",
            "Explanating index 4078/10000\n",
            "Explanating index 4079/10000\n",
            "Explanating index 4080/10000\n",
            "Explanating index 4081/10000\n",
            "Explanating index 4082/10000\n",
            "Explanating index 4083/10000\n",
            "Explanating index 4084/10000\n",
            "Explanating index 4085/10000\n",
            "Explanating index 4086/10000\n",
            "Explanating index 4087/10000\n",
            "Explanating index 4088/10000\n",
            "Explanating index 4089/10000\n",
            "Explanating index 4090/10000\n",
            "Explanating index 4091/10000\n",
            "Explanating index 4092/10000\n",
            "Explanating index 4093/10000\n",
            "Explanating index 4094/10000\n",
            "Explanating index 4095/10000\n",
            "Explanating index 4096/10000\n",
            "Explanating index 4097/10000\n",
            "Explanating index 4098/10000\n",
            "Explanating index 4099/10000\n",
            "Explanating index 4100/10000\n",
            "Explanating index 4101/10000\n",
            "Explanating index 4102/10000\n",
            "Explanating index 4103/10000\n",
            "Explanating index 4104/10000\n",
            "Explanating index 4105/10000\n",
            "Explanating index 4106/10000\n",
            "Explanating index 4107/10000\n",
            "Explanating index 4108/10000\n",
            "Explanating index 4109/10000\n",
            "Explanating index 4110/10000\n",
            "Explanating index 4111/10000\n",
            "Explanating index 4112/10000\n",
            "Explanating index 4113/10000\n",
            "Explanating index 4114/10000\n",
            "Explanating index 4115/10000\n",
            "Explanating index 4116/10000\n",
            "Explanating index 4117/10000\n",
            "Explanating index 4118/10000\n",
            "Explanating index 4119/10000\n",
            "Explanating index 4120/10000\n",
            "Explanating index 4121/10000\n",
            "Explanating index 4122/10000\n",
            "Explanating index 4123/10000\n",
            "Explanating index 4124/10000\n",
            "Explanating index 4125/10000\n",
            "Explanating index 4126/10000\n",
            "Explanating index 4127/10000\n",
            "Explanating index 4128/10000\n",
            "Explanating index 4129/10000\n",
            "Explanating index 4130/10000\n",
            "Explanating index 4131/10000\n",
            "Explanating index 4132/10000\n",
            "Explanating index 4133/10000\n",
            "Explanating index 4134/10000\n",
            "Explanating index 4135/10000\n",
            "Explanating index 4136/10000\n",
            "Explanating index 4137/10000\n",
            "Explanating index 4138/10000\n",
            "Explanating index 4139/10000\n",
            "Explanating index 4140/10000\n",
            "Explanating index 4141/10000\n",
            "Explanating index 4142/10000\n",
            "Explanating index 4143/10000\n",
            "Explanating index 4144/10000\n",
            "Explanating index 4145/10000\n",
            "Explanating index 4146/10000\n",
            "Explanating index 4147/10000\n",
            "Explanating index 4148/10000\n",
            "Explanating index 4149/10000\n",
            "Explanating index 4150/10000\n",
            "Explanating index 4151/10000\n",
            "Explanating index 4152/10000\n",
            "Explanating index 4153/10000\n",
            "Explanating index 4154/10000\n",
            "Explanating index 4155/10000\n",
            "Explanating index 4156/10000\n",
            "Explanating index 4157/10000\n",
            "Explanating index 4158/10000\n",
            "Explanating index 4159/10000\n",
            "Explanating index 4160/10000\n",
            "Explanating index 4161/10000\n",
            "Explanating index 4162/10000\n",
            "Explanating index 4163/10000\n",
            "Explanating index 4164/10000\n",
            "Explanating index 4165/10000\n",
            "Explanating index 4166/10000\n",
            "Explanating index 4167/10000\n",
            "Explanating index 4168/10000\n",
            "Explanating index 4169/10000\n",
            "Explanating index 4170/10000\n",
            "Explanating index 4171/10000\n",
            "Explanating index 4172/10000\n",
            "Explanating index 4173/10000\n",
            "Explanating index 4174/10000\n",
            "Explanating index 4175/10000\n",
            "Explanating index 4176/10000\n",
            "Explanating index 4177/10000\n",
            "Explanating index 4178/10000\n",
            "Explanating index 4179/10000\n",
            "Explanating index 4180/10000\n",
            "Explanating index 4181/10000\n",
            "Explanating index 4182/10000\n",
            "Explanating index 4183/10000\n",
            "Explanating index 4184/10000\n",
            "Explanating index 4185/10000\n",
            "Explanating index 4186/10000\n",
            "Explanating index 4187/10000\n",
            "Explanating index 4188/10000\n",
            "Explanating index 4189/10000\n",
            "Explanating index 4190/10000\n",
            "Explanating index 4191/10000\n",
            "Explanating index 4192/10000\n",
            "Explanating index 4193/10000\n",
            "Explanating index 4194/10000\n",
            "Explanating index 4195/10000\n",
            "Explanating index 4196/10000\n",
            "Explanating index 4197/10000\n",
            "Explanating index 4198/10000\n",
            "Explanating index 4199/10000\n",
            "Explanating index 4200/10000\n",
            "Explanating index 4201/10000\n",
            "Explanating index 4202/10000\n",
            "Explanating index 4203/10000\n",
            "Explanating index 4204/10000\n",
            "Explanating index 4205/10000\n",
            "Explanating index 4206/10000\n",
            "Explanating index 4207/10000\n",
            "Explanating index 4208/10000\n",
            "Explanating index 4209/10000\n",
            "Explanating index 4210/10000\n",
            "Explanating index 4211/10000\n",
            "Explanating index 4212/10000\n",
            "Explanating index 4213/10000\n",
            "Explanating index 4214/10000\n",
            "Explanating index 4215/10000\n",
            "Explanating index 4216/10000\n",
            "Explanating index 4217/10000\n",
            "Explanating index 4218/10000\n",
            "Explanating index 4219/10000\n",
            "Explanating index 4220/10000\n",
            "Explanating index 4221/10000\n",
            "Explanating index 4222/10000\n",
            "Explanating index 4223/10000\n",
            "Explanating index 4224/10000\n",
            "Explanating index 4225/10000\n",
            "Explanating index 4226/10000\n",
            "Explanating index 4227/10000\n",
            "Explanating index 4228/10000\n",
            "Explanating index 4229/10000\n",
            "Explanating index 4230/10000\n",
            "Explanating index 4231/10000\n",
            "Explanating index 4232/10000\n",
            "Explanating index 4233/10000\n",
            "Explanating index 4234/10000\n",
            "Explanating index 4235/10000\n",
            "Explanating index 4236/10000\n",
            "Explanating index 4237/10000\n",
            "Explanating index 4238/10000\n",
            "Explanating index 4239/10000\n",
            "Explanating index 4240/10000\n",
            "Explanating index 4241/10000\n",
            "Explanating index 4242/10000\n",
            "Explanating index 4243/10000\n",
            "Explanating index 4244/10000\n",
            "Explanating index 4245/10000\n",
            "Explanating index 4246/10000\n",
            "Explanating index 4247/10000\n",
            "Explanating index 4248/10000\n",
            "Explanating index 4249/10000\n",
            "Explanating index 4250/10000\n",
            "Explanating index 4251/10000\n",
            "Explanating index 4252/10000\n",
            "Explanating index 4253/10000\n",
            "Explanating index 4254/10000\n",
            "Explanating index 4255/10000\n",
            "Explanating index 4256/10000\n",
            "Explanating index 4257/10000\n",
            "Explanating index 4258/10000\n",
            "Explanating index 4259/10000\n",
            "Explanating index 4260/10000\n",
            "Explanating index 4261/10000\n",
            "Explanating index 4262/10000\n",
            "Explanating index 4263/10000\n",
            "Explanating index 4264/10000\n",
            "Explanating index 4265/10000\n",
            "Explanating index 4266/10000\n",
            "Explanating index 4267/10000\n",
            "Explanating index 4268/10000\n",
            "Explanating index 4269/10000\n",
            "Explanating index 4270/10000\n",
            "Explanating index 4271/10000\n",
            "Explanating index 4272/10000\n",
            "Explanating index 4273/10000\n",
            "Explanating index 4274/10000\n",
            "Explanating index 4275/10000\n",
            "Explanating index 4276/10000\n",
            "Explanating index 4277/10000\n",
            "Explanating index 4278/10000\n",
            "Explanating index 4279/10000\n",
            "Explanating index 4280/10000\n",
            "Explanating index 4281/10000\n",
            "Explanating index 4282/10000\n",
            "Explanating index 4283/10000\n",
            "Explanating index 4284/10000\n",
            "Explanating index 4285/10000\n",
            "Explanating index 4286/10000\n",
            "Explanating index 4287/10000\n",
            "Explanating index 4288/10000\n",
            "Explanating index 4289/10000\n",
            "Explanating index 4290/10000\n",
            "Explanating index 4291/10000\n",
            "Explanating index 4292/10000\n",
            "Explanating index 4293/10000\n",
            "Explanating index 4294/10000\n",
            "Explanating index 4295/10000\n",
            "Explanating index 4296/10000\n",
            "Explanating index 4297/10000\n",
            "Explanating index 4298/10000\n",
            "Explanating index 4299/10000\n",
            "Explanating index 4300/10000\n",
            "Explanating index 4301/10000\n",
            "Explanating index 4302/10000\n",
            "Explanating index 4303/10000\n",
            "Explanating index 4304/10000\n",
            "Explanating index 4305/10000\n",
            "Explanating index 4306/10000\n",
            "Explanating index 4307/10000\n",
            "Explanating index 4308/10000\n",
            "Explanating index 4309/10000\n",
            "Explanating index 4310/10000\n",
            "Explanating index 4311/10000\n",
            "Explanating index 4312/10000\n",
            "Explanating index 4313/10000\n",
            "Explanating index 4314/10000\n",
            "Explanating index 4315/10000\n",
            "Explanating index 4316/10000\n",
            "Explanating index 4317/10000\n",
            "Explanating index 4318/10000\n",
            "Explanating index 4319/10000\n",
            "Explanating index 4320/10000\n",
            "Explanating index 4321/10000\n",
            "Explanating index 4322/10000\n",
            "Explanating index 4323/10000\n",
            "Explanating index 4324/10000\n",
            "Explanating index 4325/10000\n",
            "Explanating index 4326/10000\n",
            "Explanating index 4327/10000\n",
            "Explanating index 4328/10000\n",
            "Explanating index 4329/10000\n",
            "Explanating index 4330/10000\n",
            "Explanating index 4331/10000\n",
            "Explanating index 4332/10000\n",
            "Explanating index 4333/10000\n",
            "Explanating index 4334/10000\n",
            "Explanating index 4335/10000\n",
            "Explanating index 4336/10000\n",
            "Explanating index 4337/10000\n",
            "Explanating index 4338/10000\n",
            "Explanating index 4339/10000\n",
            "Explanating index 4340/10000\n",
            "Explanating index 4341/10000\n",
            "Explanating index 4342/10000\n",
            "Explanating index 4343/10000\n",
            "Explanating index 4344/10000\n",
            "Explanating index 4345/10000\n",
            "Explanating index 4346/10000\n",
            "Explanating index 4347/10000\n",
            "Explanating index 4348/10000\n",
            "Explanating index 4349/10000\n",
            "Explanating index 4350/10000\n",
            "Explanating index 4351/10000\n",
            "Explanating index 4352/10000\n",
            "Explanating index 4353/10000\n",
            "Explanating index 4354/10000\n",
            "Explanating index 4355/10000\n",
            "Explanating index 4356/10000\n",
            "Explanating index 4357/10000\n",
            "Explanating index 4358/10000\n",
            "Explanating index 4359/10000\n",
            "Explanating index 4360/10000\n",
            "Explanating index 4361/10000\n",
            "Explanating index 4362/10000\n",
            "Explanating index 4363/10000\n",
            "Explanating index 4364/10000\n",
            "Explanating index 4365/10000\n",
            "Explanating index 4366/10000\n",
            "Explanating index 4367/10000\n",
            "Explanating index 4368/10000\n",
            "Explanating index 4369/10000\n",
            "Explanating index 4370/10000\n",
            "Explanating index 4371/10000\n",
            "Explanating index 4372/10000\n",
            "Explanating index 4373/10000\n",
            "Explanating index 4374/10000\n",
            "Explanating index 4375/10000\n",
            "Explanating index 4376/10000\n",
            "Explanating index 4377/10000\n",
            "Explanating index 4378/10000\n",
            "Explanating index 4379/10000\n",
            "Explanating index 4380/10000\n",
            "Explanating index 4381/10000\n",
            "Explanating index 4382/10000\n",
            "Explanating index 4383/10000\n",
            "Explanating index 4384/10000\n",
            "Explanating index 4385/10000\n",
            "Explanating index 4386/10000\n",
            "Explanating index 4387/10000\n",
            "Explanating index 4388/10000\n",
            "Explanating index 4389/10000\n",
            "Explanating index 4390/10000\n",
            "Explanating index 4391/10000\n",
            "Explanating index 4392/10000\n",
            "Explanating index 4393/10000\n",
            "Explanating index 4394/10000\n",
            "Explanating index 4395/10000\n",
            "Explanating index 4396/10000\n",
            "Explanating index 4397/10000\n",
            "Explanating index 4398/10000\n",
            "Explanating index 4399/10000\n",
            "Explanating index 4400/10000\n",
            "Explanating index 4401/10000\n",
            "Explanating index 4402/10000\n",
            "Explanating index 4403/10000\n",
            "Explanating index 4404/10000\n",
            "Explanating index 4405/10000\n",
            "Explanating index 4406/10000\n",
            "Explanating index 4407/10000\n",
            "Explanating index 4408/10000\n",
            "Explanating index 4409/10000\n",
            "Explanating index 4410/10000\n",
            "Explanating index 4411/10000\n",
            "Explanating index 4412/10000\n",
            "Explanating index 4413/10000\n",
            "Explanating index 4414/10000\n",
            "Explanating index 4415/10000\n",
            "Explanating index 4416/10000\n",
            "Explanating index 4417/10000\n",
            "Explanating index 4418/10000\n",
            "Explanating index 4419/10000\n",
            "Explanating index 4420/10000\n",
            "Explanating index 4421/10000\n",
            "Explanating index 4422/10000\n",
            "Explanating index 4423/10000\n",
            "Explanating index 4424/10000\n",
            "Explanating index 4425/10000\n",
            "Explanating index 4426/10000\n",
            "Explanating index 4427/10000\n",
            "Explanating index 4428/10000\n",
            "Explanating index 4429/10000\n",
            "Explanating index 4430/10000\n",
            "Explanating index 4431/10000\n",
            "Explanating index 4432/10000\n",
            "Explanating index 4433/10000\n",
            "Explanating index 4434/10000\n",
            "Explanating index 4435/10000\n",
            "Explanating index 4436/10000\n",
            "Explanating index 4437/10000\n",
            "Explanating index 4438/10000\n",
            "Explanating index 4439/10000\n",
            "Explanating index 4440/10000\n",
            "Explanating index 4441/10000\n",
            "Explanating index 4442/10000\n",
            "Explanating index 4443/10000\n",
            "Explanating index 4444/10000\n",
            "Explanating index 4445/10000\n",
            "Explanating index 4446/10000\n",
            "Explanating index 4447/10000\n",
            "Explanating index 4448/10000\n",
            "Explanating index 4449/10000\n",
            "Explanating index 4450/10000\n",
            "Explanating index 4451/10000\n",
            "Explanating index 4452/10000\n",
            "Explanating index 4453/10000\n",
            "Explanating index 4454/10000\n",
            "Explanating index 4455/10000\n",
            "Explanating index 4456/10000\n",
            "Explanating index 4457/10000\n",
            "Explanating index 4458/10000\n",
            "Explanating index 4459/10000\n",
            "Explanating index 4460/10000\n",
            "Explanating index 4461/10000\n",
            "Explanating index 4462/10000\n",
            "Explanating index 4463/10000\n",
            "Explanating index 4464/10000\n",
            "Explanating index 4465/10000\n",
            "Explanating index 4466/10000\n",
            "Explanating index 4467/10000\n",
            "Explanating index 4468/10000\n",
            "Explanating index 4469/10000\n",
            "Explanating index 4470/10000\n",
            "Explanating index 4471/10000\n",
            "Explanating index 4472/10000\n",
            "Explanating index 4473/10000\n",
            "Explanating index 4474/10000\n",
            "Explanating index 4475/10000\n",
            "Explanating index 4476/10000\n",
            "Explanating index 4477/10000\n",
            "Explanating index 4478/10000\n",
            "Explanating index 4479/10000\n",
            "Explanating index 4480/10000\n",
            "Explanating index 4481/10000\n",
            "Explanating index 4482/10000\n",
            "Explanating index 4483/10000\n",
            "Explanating index 4484/10000\n",
            "Explanating index 4485/10000\n",
            "Explanating index 4486/10000\n",
            "Explanating index 4487/10000\n",
            "Explanating index 4488/10000\n",
            "Explanating index 4489/10000\n",
            "Explanating index 4490/10000\n",
            "Explanating index 4491/10000\n",
            "Explanating index 4492/10000\n",
            "Explanating index 4493/10000\n",
            "Explanating index 4494/10000\n",
            "Explanating index 4495/10000\n",
            "Explanating index 4496/10000\n",
            "Explanating index 4497/10000\n",
            "Explanating index 4498/10000\n",
            "Explanating index 4499/10000\n",
            "Explanating index 4500/10000\n",
            "Explanating index 4501/10000\n",
            "Explanating index 4502/10000\n",
            "Explanating index 4503/10000\n",
            "Explanating index 4504/10000\n",
            "Explanating index 4505/10000\n",
            "Explanating index 4506/10000\n",
            "Explanating index 4507/10000\n",
            "Explanating index 4508/10000\n",
            "Explanating index 4509/10000\n",
            "Explanating index 4510/10000\n",
            "Explanating index 4511/10000\n",
            "Explanating index 4512/10000\n",
            "Explanating index 4513/10000\n",
            "Explanating index 4514/10000\n",
            "Explanating index 4515/10000\n",
            "Explanating index 4516/10000\n",
            "Explanating index 4517/10000\n",
            "Explanating index 4518/10000\n",
            "Explanating index 4519/10000\n",
            "Explanating index 4520/10000\n",
            "Explanating index 4521/10000\n",
            "Explanating index 4522/10000\n",
            "Explanating index 4523/10000\n",
            "Explanating index 4524/10000\n",
            "Explanating index 4525/10000\n",
            "Explanating index 4526/10000\n",
            "Explanating index 4527/10000\n",
            "Explanating index 4528/10000\n",
            "Explanating index 4529/10000\n",
            "Explanating index 4530/10000\n",
            "Explanating index 4531/10000\n",
            "Explanating index 4532/10000\n",
            "Explanating index 4533/10000\n",
            "Explanating index 4534/10000\n",
            "Explanating index 4535/10000\n",
            "Explanating index 4536/10000\n",
            "Explanating index 4537/10000\n",
            "Explanating index 4538/10000\n",
            "Explanating index 4539/10000\n",
            "Explanating index 4540/10000\n",
            "Explanating index 4541/10000\n",
            "Explanating index 4542/10000\n",
            "Explanating index 4543/10000\n",
            "Explanating index 4544/10000\n",
            "Explanating index 4545/10000\n",
            "Explanating index 4546/10000\n",
            "Explanating index 4547/10000\n",
            "Explanating index 4548/10000\n",
            "Explanating index 4549/10000\n",
            "Explanating index 4550/10000\n",
            "Explanating index 4551/10000\n",
            "Explanating index 4552/10000\n",
            "Explanating index 4553/10000\n",
            "Explanating index 4554/10000\n",
            "Explanating index 4555/10000\n",
            "Explanating index 4556/10000\n",
            "Explanating index 4557/10000\n",
            "Explanating index 4558/10000\n",
            "Explanating index 4559/10000\n",
            "Explanating index 4560/10000\n",
            "Explanating index 4561/10000\n",
            "Explanating index 4562/10000\n",
            "Explanating index 4563/10000\n",
            "Explanating index 4564/10000\n",
            "Explanating index 4565/10000\n",
            "Explanating index 4566/10000\n",
            "Explanating index 4567/10000\n",
            "Explanating index 4568/10000\n",
            "Explanating index 4569/10000\n",
            "Explanating index 4570/10000\n",
            "Explanating index 4571/10000\n",
            "Explanating index 4572/10000\n",
            "Explanating index 4573/10000\n",
            "Explanating index 4574/10000\n",
            "Explanating index 4575/10000\n",
            "Explanating index 4576/10000\n",
            "Explanating index 4577/10000\n",
            "Explanating index 4578/10000\n",
            "Explanating index 4579/10000\n",
            "Explanating index 4580/10000\n",
            "Explanating index 4581/10000\n",
            "Explanating index 4582/10000\n",
            "Explanating index 4583/10000\n",
            "Explanating index 4584/10000\n",
            "Explanating index 4585/10000\n",
            "Explanating index 4586/10000\n",
            "Explanating index 4587/10000\n",
            "Explanating index 4588/10000\n",
            "Explanating index 4589/10000\n",
            "Explanating index 4590/10000\n",
            "Explanating index 4591/10000\n",
            "Explanating index 4592/10000\n",
            "Explanating index 4593/10000\n",
            "Explanating index 4594/10000\n",
            "Explanating index 4595/10000\n",
            "Explanating index 4596/10000\n",
            "Explanating index 4597/10000\n",
            "Explanating index 4598/10000\n",
            "Explanating index 4599/10000\n",
            "Explanating index 4600/10000\n",
            "Explanating index 4601/10000\n",
            "Explanating index 4602/10000\n",
            "Explanating index 4603/10000\n",
            "Explanating index 4604/10000\n",
            "Explanating index 4605/10000\n",
            "Explanating index 4606/10000\n",
            "Explanating index 4607/10000\n",
            "Explanating index 4608/10000\n",
            "Explanating index 4609/10000\n",
            "Explanating index 4610/10000\n",
            "Explanating index 4611/10000\n",
            "Explanating index 4612/10000\n",
            "Explanating index 4613/10000\n",
            "Explanating index 4614/10000\n",
            "Explanating index 4615/10000\n",
            "Explanating index 4616/10000\n",
            "Explanating index 4617/10000\n",
            "Explanating index 4618/10000\n",
            "Explanating index 4619/10000\n",
            "Explanating index 4620/10000\n",
            "Explanating index 4621/10000\n",
            "Explanating index 4622/10000\n",
            "Explanating index 4623/10000\n",
            "Explanating index 4624/10000\n",
            "Explanating index 4625/10000\n",
            "Explanating index 4626/10000\n",
            "Explanating index 4627/10000\n",
            "Explanating index 4628/10000\n",
            "Explanating index 4629/10000\n",
            "Explanating index 4630/10000\n",
            "Explanating index 4631/10000\n",
            "Explanating index 4632/10000\n",
            "Explanating index 4633/10000\n",
            "Explanating index 4634/10000\n",
            "Explanating index 4635/10000\n",
            "Explanating index 4636/10000\n",
            "Explanating index 4637/10000\n",
            "Explanating index 4638/10000\n",
            "Explanating index 4639/10000\n",
            "Explanating index 4640/10000\n",
            "Explanating index 4641/10000\n",
            "Explanating index 4642/10000\n",
            "Explanating index 4643/10000\n",
            "Explanating index 4644/10000\n",
            "Explanating index 4645/10000\n",
            "Explanating index 4646/10000\n",
            "Explanating index 4647/10000\n",
            "Explanating index 4648/10000\n",
            "Explanating index 4649/10000\n",
            "Explanating index 4650/10000\n",
            "Explanating index 4651/10000\n",
            "Explanating index 4652/10000\n",
            "Explanating index 4653/10000\n",
            "Explanating index 4654/10000\n",
            "Explanating index 4655/10000\n",
            "Explanating index 4656/10000\n",
            "Explanating index 4657/10000\n",
            "Explanating index 4658/10000\n",
            "Explanating index 4659/10000\n",
            "Explanating index 4660/10000\n",
            "Explanating index 4661/10000\n",
            "Explanating index 4662/10000\n",
            "Explanating index 4663/10000\n",
            "Explanating index 4664/10000\n",
            "Explanating index 4665/10000\n",
            "Explanating index 4666/10000\n",
            "Explanating index 4667/10000\n",
            "Explanating index 4668/10000\n",
            "Explanating index 4669/10000\n",
            "Explanating index 4670/10000\n",
            "Explanating index 4671/10000\n",
            "Explanating index 4672/10000\n",
            "Explanating index 4673/10000\n",
            "Explanating index 4674/10000\n",
            "Explanating index 4675/10000\n",
            "Explanating index 4676/10000\n",
            "Explanating index 4677/10000\n",
            "Explanating index 4678/10000\n",
            "Explanating index 4679/10000\n",
            "Explanating index 4680/10000\n",
            "Explanating index 4681/10000\n",
            "Explanating index 4682/10000\n",
            "Explanating index 4683/10000\n",
            "Explanating index 4684/10000\n",
            "Explanating index 4685/10000\n",
            "Explanating index 4686/10000\n",
            "Explanating index 4687/10000\n",
            "Explanating index 4688/10000\n",
            "Explanating index 4689/10000\n",
            "Explanating index 4690/10000\n",
            "Explanating index 4691/10000\n",
            "Explanating index 4692/10000\n",
            "Explanating index 4693/10000\n",
            "Explanating index 4694/10000\n",
            "Explanating index 4695/10000\n",
            "Explanating index 4696/10000\n",
            "Explanating index 4697/10000\n",
            "Explanating index 4698/10000\n",
            "Explanating index 4699/10000\n",
            "Explanating index 4700/10000\n",
            "Explanating index 4701/10000\n",
            "Explanating index 4702/10000\n",
            "Explanating index 4703/10000\n",
            "Explanating index 4704/10000\n",
            "Explanating index 4705/10000\n",
            "Explanating index 4706/10000\n",
            "Explanating index 4707/10000\n",
            "Explanating index 4708/10000\n",
            "Explanating index 4709/10000\n",
            "Explanating index 4710/10000\n",
            "Explanating index 4711/10000\n",
            "Explanating index 4712/10000\n",
            "Explanating index 4713/10000\n",
            "Explanating index 4714/10000\n",
            "Explanating index 4715/10000\n",
            "Explanating index 4716/10000\n",
            "Explanating index 4717/10000\n",
            "Explanating index 4718/10000\n",
            "Explanating index 4719/10000\n",
            "Explanating index 4720/10000\n",
            "Explanating index 4721/10000\n",
            "Explanating index 4722/10000\n",
            "Explanating index 4723/10000\n",
            "Explanating index 4724/10000\n",
            "Explanating index 4725/10000\n",
            "Explanating index 4726/10000\n",
            "Explanating index 4727/10000\n",
            "Explanating index 4728/10000\n",
            "Explanating index 4729/10000\n",
            "Explanating index 4730/10000\n",
            "Explanating index 4731/10000\n",
            "Explanating index 4732/10000\n",
            "Explanating index 4733/10000\n",
            "Explanating index 4734/10000\n",
            "Explanating index 4735/10000\n",
            "Explanating index 4736/10000\n",
            "Explanating index 4737/10000\n",
            "Explanating index 4738/10000\n",
            "Explanating index 4739/10000\n",
            "Explanating index 4740/10000\n",
            "Explanating index 4741/10000\n",
            "Explanating index 4742/10000\n",
            "Explanating index 4743/10000\n",
            "Explanating index 4744/10000\n",
            "Explanating index 4745/10000\n",
            "Explanating index 4746/10000\n",
            "Explanating index 4747/10000\n",
            "Explanating index 4748/10000\n",
            "Explanating index 4749/10000\n",
            "Explanating index 4750/10000\n",
            "Explanating index 4751/10000\n",
            "Explanating index 4752/10000\n",
            "Explanating index 4753/10000\n",
            "Explanating index 4754/10000\n",
            "Explanating index 4755/10000\n",
            "Explanating index 4756/10000\n",
            "Explanating index 4757/10000\n",
            "Explanating index 4758/10000\n",
            "Explanating index 4759/10000\n",
            "Explanating index 4760/10000\n",
            "Explanating index 4761/10000\n",
            "Explanating index 4762/10000\n",
            "Explanating index 4763/10000\n",
            "Explanating index 4764/10000\n",
            "Explanating index 4765/10000\n",
            "Explanating index 4766/10000\n",
            "Explanating index 4767/10000\n",
            "Explanating index 4768/10000\n",
            "Explanating index 4769/10000\n",
            "Explanating index 4770/10000\n",
            "Explanating index 4771/10000\n",
            "Explanating index 4772/10000\n",
            "Explanating index 4773/10000\n",
            "Explanating index 4774/10000\n",
            "Explanating index 4775/10000\n",
            "Explanating index 4776/10000\n",
            "Explanating index 4777/10000\n",
            "Explanating index 4778/10000\n",
            "Explanating index 4779/10000\n",
            "Explanating index 4780/10000\n",
            "Explanating index 4781/10000\n",
            "Explanating index 4782/10000\n",
            "Explanating index 4783/10000\n",
            "Explanating index 4784/10000\n",
            "Explanating index 4785/10000\n",
            "Explanating index 4786/10000\n",
            "Explanating index 4787/10000\n",
            "Explanating index 4788/10000\n",
            "Explanating index 4789/10000\n",
            "Explanating index 4790/10000\n",
            "Explanating index 4791/10000\n",
            "Explanating index 4792/10000\n",
            "Explanating index 4793/10000\n",
            "Explanating index 4794/10000\n",
            "Explanating index 4795/10000\n",
            "Explanating index 4796/10000\n",
            "Explanating index 4797/10000\n",
            "Explanating index 4798/10000\n",
            "Explanating index 4799/10000\n",
            "Explanating index 4800/10000\n",
            "Explanating index 4801/10000\n",
            "Explanating index 4802/10000\n",
            "Explanating index 4803/10000\n",
            "Explanating index 4804/10000\n",
            "Explanating index 4805/10000\n",
            "Explanating index 4806/10000\n",
            "Explanating index 4807/10000\n",
            "Explanating index 4808/10000\n",
            "Explanating index 4809/10000\n",
            "Explanating index 4810/10000\n",
            "Explanating index 4811/10000\n",
            "Explanating index 4812/10000\n",
            "Explanating index 4813/10000\n",
            "Explanating index 4814/10000\n",
            "Explanating index 4815/10000\n",
            "Explanating index 4816/10000\n",
            "Explanating index 4817/10000\n",
            "Explanating index 4818/10000\n",
            "Explanating index 4819/10000\n",
            "Explanating index 4820/10000\n",
            "Explanating index 4821/10000\n",
            "Explanating index 4822/10000\n",
            "Explanating index 4823/10000\n",
            "Explanating index 4824/10000\n",
            "Explanating index 4825/10000\n",
            "Explanating index 4826/10000\n",
            "Explanating index 4827/10000\n",
            "Explanating index 4828/10000\n",
            "Explanating index 4829/10000\n",
            "Explanating index 4830/10000\n",
            "Explanating index 4831/10000\n",
            "Explanating index 4832/10000\n",
            "Explanating index 4833/10000\n",
            "Explanating index 4834/10000\n",
            "Explanating index 4835/10000\n",
            "Explanating index 4836/10000\n",
            "Explanating index 4837/10000\n",
            "Explanating index 4838/10000\n",
            "Explanating index 4839/10000\n",
            "Explanating index 4840/10000\n",
            "Explanating index 4841/10000\n",
            "Explanating index 4842/10000\n",
            "Explanating index 4843/10000\n",
            "Explanating index 4844/10000\n",
            "Explanating index 4845/10000\n",
            "Explanating index 4846/10000\n",
            "Explanating index 4847/10000\n",
            "Explanating index 4848/10000\n",
            "Explanating index 4849/10000\n",
            "Explanating index 4850/10000\n",
            "Explanating index 4851/10000\n",
            "Explanating index 4852/10000\n",
            "Explanating index 4853/10000\n",
            "Explanating index 4854/10000\n",
            "Explanating index 4855/10000\n",
            "Explanating index 4856/10000\n",
            "Explanating index 4857/10000\n",
            "Explanating index 4858/10000\n",
            "Explanating index 4859/10000\n",
            "Explanating index 4860/10000\n",
            "Explanating index 4861/10000\n",
            "Explanating index 4862/10000\n",
            "Explanating index 4863/10000\n",
            "Explanating index 4864/10000\n",
            "Explanating index 4865/10000\n",
            "Explanating index 4866/10000\n",
            "Explanating index 4867/10000\n",
            "Explanating index 4868/10000\n",
            "Explanating index 4869/10000\n",
            "Explanating index 4870/10000\n",
            "Explanating index 4871/10000\n",
            "Explanating index 4872/10000\n",
            "Explanating index 4873/10000\n",
            "Explanating index 4874/10000\n",
            "Explanating index 4875/10000\n",
            "Explanating index 4876/10000\n",
            "Explanating index 4877/10000\n",
            "Explanating index 4878/10000\n",
            "Explanating index 4879/10000\n",
            "Explanating index 4880/10000\n",
            "Explanating index 4881/10000\n",
            "Explanating index 4882/10000\n",
            "Explanating index 4883/10000\n",
            "Explanating index 4884/10000\n",
            "Explanating index 4885/10000\n",
            "Explanating index 4886/10000\n",
            "Explanating index 4887/10000\n",
            "Explanating index 4888/10000\n",
            "Explanating index 4889/10000\n",
            "Explanating index 4890/10000\n",
            "Explanating index 4891/10000\n",
            "Explanating index 4892/10000\n",
            "Explanating index 4893/10000\n",
            "Explanating index 4894/10000\n",
            "Explanating index 4895/10000\n",
            "Explanating index 4896/10000\n",
            "Explanating index 4897/10000\n",
            "Explanating index 4898/10000\n",
            "Explanating index 4899/10000\n",
            "Explanating index 4900/10000\n",
            "Explanating index 4901/10000\n",
            "Explanating index 4902/10000\n",
            "Explanating index 4903/10000\n",
            "Explanating index 4904/10000\n",
            "Explanating index 4905/10000\n",
            "Explanating index 4906/10000\n",
            "Explanating index 4907/10000\n",
            "Explanating index 4908/10000\n",
            "Explanating index 4909/10000\n",
            "Explanating index 4910/10000\n",
            "Explanating index 4911/10000\n",
            "Explanating index 4912/10000\n",
            "Explanating index 4913/10000\n",
            "Explanating index 4914/10000\n",
            "Explanating index 4915/10000\n",
            "Explanating index 4916/10000\n",
            "Explanating index 4917/10000\n",
            "Explanating index 4918/10000\n",
            "Explanating index 4919/10000\n",
            "Explanating index 4920/10000\n",
            "Explanating index 4921/10000\n",
            "Explanating index 4922/10000\n",
            "Explanating index 4923/10000\n",
            "Explanating index 4924/10000\n",
            "Explanating index 4925/10000\n",
            "Explanating index 4926/10000\n",
            "Explanating index 4927/10000\n",
            "Explanating index 4928/10000\n",
            "Explanating index 4929/10000\n",
            "Explanating index 4930/10000\n",
            "Explanating index 4931/10000\n",
            "Explanating index 4932/10000\n",
            "Explanating index 4933/10000\n",
            "Explanating index 4934/10000\n",
            "Explanating index 4935/10000\n",
            "Explanating index 4936/10000\n",
            "Explanating index 4937/10000\n",
            "Explanating index 4938/10000\n",
            "Explanating index 4939/10000\n",
            "Explanating index 4940/10000\n",
            "Explanating index 4941/10000\n",
            "Explanating index 4942/10000\n",
            "Explanating index 4943/10000\n",
            "Explanating index 4944/10000\n",
            "Explanating index 4945/10000\n",
            "Explanating index 4946/10000\n",
            "Explanating index 4947/10000\n",
            "Explanating index 4948/10000\n",
            "Explanating index 4949/10000\n",
            "Explanating index 4950/10000\n",
            "Explanating index 4951/10000\n",
            "Explanating index 4952/10000\n",
            "Explanating index 4953/10000\n",
            "Explanating index 4954/10000\n",
            "Explanating index 4955/10000\n",
            "Explanating index 4956/10000\n",
            "Explanating index 4957/10000\n",
            "Explanating index 4958/10000\n",
            "Explanating index 4959/10000\n",
            "Explanating index 4960/10000\n",
            "Explanating index 4961/10000\n",
            "Explanating index 4962/10000\n",
            "Explanating index 4963/10000\n",
            "Explanating index 4964/10000\n",
            "Explanating index 4965/10000\n",
            "Explanating index 4966/10000\n",
            "Explanating index 4967/10000\n",
            "Explanating index 4968/10000\n",
            "Explanating index 4969/10000\n",
            "Explanating index 4970/10000\n",
            "Explanating index 4971/10000\n",
            "Explanating index 4972/10000\n",
            "Explanating index 4973/10000\n",
            "Explanating index 4974/10000\n",
            "Explanating index 4975/10000\n",
            "Explanating index 4976/10000\n",
            "Explanating index 4977/10000\n",
            "Explanating index 4978/10000\n",
            "Explanating index 4979/10000\n",
            "Explanating index 4980/10000\n",
            "Explanating index 4981/10000\n",
            "Explanating index 4982/10000\n",
            "Explanating index 4983/10000\n",
            "Explanating index 4984/10000\n",
            "Explanating index 4985/10000\n",
            "Explanating index 4986/10000\n",
            "Explanating index 4987/10000\n",
            "Explanating index 4988/10000\n",
            "Explanating index 4989/10000\n",
            "Explanating index 4990/10000\n",
            "Explanating index 4991/10000\n",
            "Explanating index 4992/10000\n",
            "Explanating index 4993/10000\n",
            "Explanating index 4994/10000\n",
            "Explanating index 4995/10000\n",
            "Explanating index 4996/10000\n",
            "Explanating index 4997/10000\n",
            "Explanating index 4998/10000\n",
            "Explanating index 4999/10000\n",
            "Explanating index 5000/10000\n",
            "Explanating index 5001/10000\n",
            "Explanating index 5002/10000\n",
            "Explanating index 5003/10000\n",
            "Explanating index 5004/10000\n",
            "Explanating index 5005/10000\n",
            "Explanating index 5006/10000\n",
            "Explanating index 5007/10000\n",
            "Explanating index 5008/10000\n",
            "Explanating index 5009/10000\n",
            "Explanating index 5010/10000\n",
            "Explanating index 5011/10000\n",
            "Explanating index 5012/10000\n",
            "Explanating index 5013/10000\n",
            "Explanating index 5014/10000\n",
            "Explanating index 5015/10000\n",
            "Explanating index 5016/10000\n",
            "Explanating index 5017/10000\n",
            "Explanating index 5018/10000\n",
            "Explanating index 5019/10000\n",
            "Explanating index 5020/10000\n",
            "Explanating index 5021/10000\n",
            "Explanating index 5022/10000\n",
            "Explanating index 5023/10000\n",
            "Explanating index 5024/10000\n",
            "Explanating index 5025/10000\n",
            "Explanating index 5026/10000\n",
            "Explanating index 5027/10000\n",
            "Explanating index 5028/10000\n",
            "Explanating index 5029/10000\n",
            "Explanating index 5030/10000\n",
            "Explanating index 5031/10000\n",
            "Explanating index 5032/10000\n",
            "Explanating index 5033/10000\n",
            "Explanating index 5034/10000\n",
            "Explanating index 5035/10000\n",
            "Explanating index 5036/10000\n",
            "Explanating index 5037/10000\n",
            "Explanating index 5038/10000\n",
            "Explanating index 5039/10000\n",
            "Explanating index 5040/10000\n",
            "Explanating index 5041/10000\n",
            "Explanating index 5042/10000\n",
            "Explanating index 5043/10000\n",
            "Explanating index 5044/10000\n",
            "Explanating index 5045/10000\n",
            "Explanating index 5046/10000\n",
            "Explanating index 5047/10000\n",
            "Explanating index 5048/10000\n",
            "Explanating index 5049/10000\n",
            "Explanating index 5050/10000\n",
            "Explanating index 5051/10000\n",
            "Explanating index 5052/10000\n",
            "Explanating index 5053/10000\n",
            "Explanating index 5054/10000\n",
            "Explanating index 5055/10000\n",
            "Explanating index 5056/10000\n",
            "Explanating index 5057/10000\n",
            "Explanating index 5058/10000\n",
            "Explanating index 5059/10000\n",
            "Explanating index 5060/10000\n",
            "Explanating index 5061/10000\n",
            "Explanating index 5062/10000\n",
            "Explanating index 5063/10000\n",
            "Explanating index 5064/10000\n",
            "Explanating index 5065/10000\n",
            "Explanating index 5066/10000\n",
            "Explanating index 5067/10000\n",
            "Explanating index 5068/10000\n",
            "Explanating index 5069/10000\n",
            "Explanating index 5070/10000\n",
            "Explanating index 5071/10000\n",
            "Explanating index 5072/10000\n",
            "Explanating index 5073/10000\n",
            "Explanating index 5074/10000\n",
            "Explanating index 5075/10000\n",
            "Explanating index 5076/10000\n",
            "Explanating index 5077/10000\n",
            "Explanating index 5078/10000\n",
            "Explanating index 5079/10000\n",
            "Explanating index 5080/10000\n",
            "Explanating index 5081/10000\n",
            "Explanating index 5082/10000\n",
            "Explanating index 5083/10000\n",
            "Explanating index 5084/10000\n",
            "Explanating index 5085/10000\n",
            "Explanating index 5086/10000\n",
            "Explanating index 5087/10000\n",
            "Explanating index 5088/10000\n",
            "Explanating index 5089/10000\n",
            "Explanating index 5090/10000\n",
            "Explanating index 5091/10000\n",
            "Explanating index 5092/10000\n",
            "Explanating index 5093/10000\n",
            "Explanating index 5094/10000\n",
            "Explanating index 5095/10000\n",
            "Explanating index 5096/10000\n",
            "Explanating index 5097/10000\n",
            "Explanating index 5098/10000\n",
            "Explanating index 5099/10000\n",
            "Explanating index 5100/10000\n",
            "Explanating index 5101/10000\n",
            "Explanating index 5102/10000\n",
            "Explanating index 5103/10000\n",
            "Explanating index 5104/10000\n",
            "Explanating index 5105/10000\n",
            "Explanating index 5106/10000\n",
            "Explanating index 5107/10000\n",
            "Explanating index 5108/10000\n",
            "Explanating index 5109/10000\n",
            "Explanating index 5110/10000\n",
            "Explanating index 5111/10000\n",
            "Explanating index 5112/10000\n",
            "Explanating index 5113/10000\n",
            "Explanating index 5114/10000\n",
            "Explanating index 5115/10000\n",
            "Explanating index 5116/10000\n",
            "Explanating index 5117/10000\n",
            "Explanating index 5118/10000\n",
            "Explanating index 5119/10000\n",
            "Explanating index 5120/10000\n",
            "Explanating index 5121/10000\n",
            "Explanating index 5122/10000\n",
            "Explanating index 5123/10000\n",
            "Explanating index 5124/10000\n",
            "Explanating index 5125/10000\n",
            "Explanating index 5126/10000\n",
            "Explanating index 5127/10000\n",
            "Explanating index 5128/10000\n",
            "Explanating index 5129/10000\n",
            "Explanating index 5130/10000\n",
            "Explanating index 5131/10000\n",
            "Explanating index 5132/10000\n",
            "Explanating index 5133/10000\n",
            "Explanating index 5134/10000\n",
            "Explanating index 5135/10000\n",
            "Explanating index 5136/10000\n",
            "Explanating index 5137/10000\n",
            "Explanating index 5138/10000\n",
            "Explanating index 5139/10000\n",
            "Explanating index 5140/10000\n",
            "Explanating index 5141/10000\n",
            "Explanating index 5142/10000\n",
            "Explanating index 5143/10000\n",
            "Explanating index 5144/10000\n",
            "Explanating index 5145/10000\n",
            "Explanating index 5146/10000\n",
            "Explanating index 5147/10000\n",
            "Explanating index 5148/10000\n",
            "Explanating index 5149/10000\n",
            "Explanating index 5150/10000\n",
            "Explanating index 5151/10000\n",
            "Explanating index 5152/10000\n",
            "Explanating index 5153/10000\n",
            "Explanating index 5154/10000\n",
            "Explanating index 5155/10000\n",
            "Explanating index 5156/10000\n",
            "Explanating index 5157/10000\n",
            "Explanating index 5158/10000\n",
            "Explanating index 5159/10000\n",
            "Explanating index 5160/10000\n",
            "Explanating index 5161/10000\n",
            "Explanating index 5162/10000\n",
            "Explanating index 5163/10000\n",
            "Explanating index 5164/10000\n",
            "Explanating index 5165/10000\n",
            "Explanating index 5166/10000\n",
            "Explanating index 5167/10000\n",
            "Explanating index 5168/10000\n",
            "Explanating index 5169/10000\n",
            "Explanating index 5170/10000\n",
            "Explanating index 5171/10000\n",
            "Explanating index 5172/10000\n",
            "Explanating index 5173/10000\n",
            "Explanating index 5174/10000\n",
            "Explanating index 5175/10000\n",
            "Explanating index 5176/10000\n",
            "Explanating index 5177/10000\n",
            "Explanating index 5178/10000\n",
            "Explanating index 5179/10000\n",
            "Explanating index 5180/10000\n",
            "Explanating index 5181/10000\n",
            "Explanating index 5182/10000\n",
            "Explanating index 5183/10000\n",
            "Explanating index 5184/10000\n",
            "Explanating index 5185/10000\n",
            "Explanating index 5186/10000\n",
            "Explanating index 5187/10000\n",
            "Explanating index 5188/10000\n",
            "Explanating index 5189/10000\n",
            "Explanating index 5190/10000\n",
            "Explanating index 5191/10000\n",
            "Explanating index 5192/10000\n",
            "Explanating index 5193/10000\n",
            "Explanating index 5194/10000\n",
            "Explanating index 5195/10000\n",
            "Explanating index 5196/10000\n",
            "Explanating index 5197/10000\n",
            "Explanating index 5198/10000\n",
            "Explanating index 5199/10000\n",
            "Explanating index 5200/10000\n",
            "Explanating index 5201/10000\n",
            "Explanating index 5202/10000\n",
            "Explanating index 5203/10000\n",
            "Explanating index 5204/10000\n",
            "Explanating index 5205/10000\n",
            "Explanating index 5206/10000\n",
            "Explanating index 5207/10000\n",
            "Explanating index 5208/10000\n",
            "Explanating index 5209/10000\n",
            "Explanating index 5210/10000\n",
            "Explanating index 5211/10000\n",
            "Explanating index 5212/10000\n",
            "Explanating index 5213/10000\n",
            "Explanating index 5214/10000\n",
            "Explanating index 5215/10000\n",
            "Explanating index 5216/10000\n",
            "Explanating index 5217/10000\n",
            "Explanating index 5218/10000\n",
            "Explanating index 5219/10000\n",
            "Explanating index 5220/10000\n",
            "Explanating index 5221/10000\n",
            "Explanating index 5222/10000\n",
            "Explanating index 5223/10000\n",
            "Explanating index 5224/10000\n",
            "Explanating index 5225/10000\n",
            "Explanating index 5226/10000\n",
            "Explanating index 5227/10000\n",
            "Explanating index 5228/10000\n",
            "Explanating index 5229/10000\n",
            "Explanating index 5230/10000\n",
            "Explanating index 5231/10000\n",
            "Explanating index 5232/10000\n",
            "Explanating index 5233/10000\n",
            "Explanating index 5234/10000\n",
            "Explanating index 5235/10000\n",
            "Explanating index 5236/10000\n",
            "Explanating index 5237/10000\n",
            "Explanating index 5238/10000\n",
            "Explanating index 5239/10000\n",
            "Explanating index 5240/10000\n",
            "Explanating index 5241/10000\n",
            "Explanating index 5242/10000\n",
            "Explanating index 5243/10000\n",
            "Explanating index 5244/10000\n",
            "Explanating index 5245/10000\n",
            "Explanating index 5246/10000\n",
            "Explanating index 5247/10000\n",
            "Explanating index 5248/10000\n",
            "Explanating index 5249/10000\n",
            "Explanating index 5250/10000\n",
            "Explanating index 5251/10000\n",
            "Explanating index 5252/10000\n",
            "Explanating index 5253/10000\n",
            "Explanating index 5254/10000\n",
            "Explanating index 5255/10000\n",
            "Explanating index 5256/10000\n",
            "Explanating index 5257/10000\n",
            "Explanating index 5258/10000\n",
            "Explanating index 5259/10000\n",
            "Explanating index 5260/10000\n",
            "Explanating index 5261/10000\n",
            "Explanating index 5262/10000\n",
            "Explanating index 5263/10000\n",
            "Explanating index 5264/10000\n",
            "Explanating index 5265/10000\n",
            "Explanating index 5266/10000\n",
            "Explanating index 5267/10000\n",
            "Explanating index 5268/10000\n",
            "Explanating index 5269/10000\n",
            "Explanating index 5270/10000\n",
            "Explanating index 5271/10000\n",
            "Explanating index 5272/10000\n",
            "Explanating index 5273/10000\n",
            "Explanating index 5274/10000\n",
            "Explanating index 5275/10000\n",
            "Explanating index 5276/10000\n",
            "Explanating index 5277/10000\n",
            "Explanating index 5278/10000\n",
            "Explanating index 5279/10000\n",
            "Explanating index 5280/10000\n",
            "Explanating index 5281/10000\n",
            "Explanating index 5282/10000\n",
            "Explanating index 5283/10000\n",
            "Explanating index 5284/10000\n",
            "Explanating index 5285/10000\n",
            "Explanating index 5286/10000\n",
            "Explanating index 5287/10000\n",
            "Explanating index 5288/10000\n",
            "Explanating index 5289/10000\n",
            "Explanating index 5290/10000\n",
            "Explanating index 5291/10000\n",
            "Explanating index 5292/10000\n",
            "Explanating index 5293/10000\n",
            "Explanating index 5294/10000\n",
            "Explanating index 5295/10000\n",
            "Explanating index 5296/10000\n",
            "Explanating index 5297/10000\n",
            "Explanating index 5298/10000\n",
            "Explanating index 5299/10000\n",
            "Explanating index 5300/10000\n",
            "Explanating index 5301/10000\n",
            "Explanating index 5302/10000\n",
            "Explanating index 5303/10000\n",
            "Explanating index 5304/10000\n",
            "Explanating index 5305/10000\n",
            "Explanating index 5306/10000\n",
            "Explanating index 5307/10000\n",
            "Explanating index 5308/10000\n",
            "Explanating index 5309/10000\n",
            "Explanating index 5310/10000\n",
            "Explanating index 5311/10000\n",
            "Explanating index 5312/10000\n",
            "Explanating index 5313/10000\n",
            "Explanating index 5314/10000\n",
            "Explanating index 5315/10000\n",
            "Explanating index 5316/10000\n",
            "Explanating index 5317/10000\n",
            "Explanating index 5318/10000\n",
            "Explanating index 5319/10000\n",
            "Explanating index 5320/10000\n",
            "Explanating index 5321/10000\n",
            "Explanating index 5322/10000\n",
            "Explanating index 5323/10000\n",
            "Explanating index 5324/10000\n",
            "Explanating index 5325/10000\n",
            "Explanating index 5326/10000\n",
            "Explanating index 5327/10000\n",
            "Explanating index 5328/10000\n",
            "Explanating index 5329/10000\n",
            "Explanating index 5330/10000\n",
            "Explanating index 5331/10000\n",
            "Explanating index 5332/10000\n",
            "Explanating index 5333/10000\n",
            "Explanating index 5334/10000\n",
            "Explanating index 5335/10000\n",
            "Explanating index 5336/10000\n",
            "Explanating index 5337/10000\n",
            "Explanating index 5338/10000\n",
            "Explanating index 5339/10000\n",
            "Explanating index 5340/10000\n",
            "Explanating index 5341/10000\n",
            "Explanating index 5342/10000\n",
            "Explanating index 5343/10000\n",
            "Explanating index 5344/10000\n",
            "Explanating index 5345/10000\n",
            "Explanating index 5346/10000\n",
            "Explanating index 5347/10000\n",
            "Explanating index 5348/10000\n",
            "Explanating index 5349/10000\n",
            "Explanating index 5350/10000\n",
            "Explanating index 5351/10000\n",
            "Explanating index 5352/10000\n",
            "Explanating index 5353/10000\n",
            "Explanating index 5354/10000\n",
            "Explanating index 5355/10000\n",
            "Explanating index 5356/10000\n",
            "Explanating index 5357/10000\n",
            "Explanating index 5358/10000\n",
            "Explanating index 5359/10000\n",
            "Explanating index 5360/10000\n",
            "Explanating index 5361/10000\n",
            "Explanating index 5362/10000\n",
            "Explanating index 5363/10000\n",
            "Explanating index 5364/10000\n",
            "Explanating index 5365/10000\n",
            "Explanating index 5366/10000\n",
            "Explanating index 5367/10000\n",
            "Explanating index 5368/10000\n",
            "Explanating index 5369/10000\n",
            "Explanating index 5370/10000\n",
            "Explanating index 5371/10000\n",
            "Explanating index 5372/10000\n",
            "Explanating index 5373/10000\n",
            "Explanating index 5374/10000\n",
            "Explanating index 5375/10000\n",
            "Explanating index 5376/10000\n",
            "Explanating index 5377/10000\n",
            "Explanating index 5378/10000\n",
            "Explanating index 5379/10000\n",
            "Explanating index 5380/10000\n",
            "Explanating index 5381/10000\n",
            "Explanating index 5382/10000\n",
            "Explanating index 5383/10000\n",
            "Explanating index 5384/10000\n",
            "Explanating index 5385/10000\n",
            "Explanating index 5386/10000\n",
            "Explanating index 5387/10000\n",
            "Explanating index 5388/10000\n",
            "Explanating index 5389/10000\n",
            "Explanating index 5390/10000\n",
            "Explanating index 5391/10000\n",
            "Explanating index 5392/10000\n",
            "Explanating index 5393/10000\n",
            "Explanating index 5394/10000\n",
            "Explanating index 5395/10000\n",
            "Explanating index 5396/10000\n",
            "Explanating index 5397/10000\n",
            "Explanating index 5398/10000\n",
            "Explanating index 5399/10000\n",
            "Explanating index 5400/10000\n",
            "Explanating index 5401/10000\n",
            "Explanating index 5402/10000\n",
            "Explanating index 5403/10000\n",
            "Explanating index 5404/10000\n",
            "Explanating index 5405/10000\n",
            "Explanating index 5406/10000\n",
            "Explanating index 5407/10000\n",
            "Explanating index 5408/10000\n",
            "Explanating index 5409/10000\n",
            "Explanating index 5410/10000\n",
            "Explanating index 5411/10000\n",
            "Explanating index 5412/10000\n",
            "Explanating index 5413/10000\n",
            "Explanating index 5414/10000\n",
            "Explanating index 5415/10000\n",
            "Explanating index 5416/10000\n",
            "Explanating index 5417/10000\n",
            "Explanating index 5418/10000\n",
            "Explanating index 5419/10000\n",
            "Explanating index 5420/10000\n",
            "Explanating index 5421/10000\n",
            "Explanating index 5422/10000\n",
            "Explanating index 5423/10000\n",
            "Explanating index 5424/10000\n",
            "Explanating index 5425/10000\n",
            "Explanating index 5426/10000\n",
            "Explanating index 5427/10000\n",
            "Explanating index 5428/10000\n",
            "Explanating index 5429/10000\n",
            "Explanating index 5430/10000\n",
            "Explanating index 5431/10000\n",
            "Explanating index 5432/10000\n",
            "Explanating index 5433/10000\n",
            "Explanating index 5434/10000\n",
            "Explanating index 5435/10000\n",
            "Explanating index 5436/10000\n",
            "Explanating index 5437/10000\n",
            "Explanating index 5438/10000\n",
            "Explanating index 5439/10000\n",
            "Explanating index 5440/10000\n",
            "Explanating index 5441/10000\n",
            "Explanating index 5442/10000\n",
            "Explanating index 5443/10000\n",
            "Explanating index 5444/10000\n",
            "Explanating index 5445/10000\n",
            "Explanating index 5446/10000\n",
            "Explanating index 5447/10000\n",
            "Explanating index 5448/10000\n",
            "Explanating index 5449/10000\n",
            "Explanating index 5450/10000\n",
            "Explanating index 5451/10000\n",
            "Explanating index 5452/10000\n",
            "Explanating index 5453/10000\n",
            "Explanating index 5454/10000\n",
            "Explanating index 5455/10000\n",
            "Explanating index 5456/10000\n",
            "Explanating index 5457/10000\n",
            "Explanating index 5458/10000\n",
            "Explanating index 5459/10000\n",
            "Explanating index 5460/10000\n",
            "Explanating index 5461/10000\n",
            "Explanating index 5462/10000\n",
            "Explanating index 5463/10000\n",
            "Explanating index 5464/10000\n",
            "Explanating index 5465/10000\n",
            "Explanating index 5466/10000\n",
            "Explanating index 5467/10000\n",
            "Explanating index 5468/10000\n",
            "Explanating index 5469/10000\n",
            "Explanating index 5470/10000\n",
            "Explanating index 5471/10000\n",
            "Explanating index 5472/10000\n",
            "Explanating index 5473/10000\n",
            "Explanating index 5474/10000\n",
            "Explanating index 5475/10000\n",
            "Explanating index 5476/10000\n",
            "Explanating index 5477/10000\n",
            "Explanating index 5478/10000\n",
            "Explanating index 5479/10000\n",
            "Explanating index 5480/10000\n",
            "Explanating index 5481/10000\n",
            "Explanating index 5482/10000\n",
            "Explanating index 5483/10000\n",
            "Explanating index 5484/10000\n",
            "Explanating index 5485/10000\n",
            "Explanating index 5486/10000\n",
            "Explanating index 5487/10000\n",
            "Explanating index 5488/10000\n",
            "Explanating index 5489/10000\n",
            "Explanating index 5490/10000\n",
            "Explanating index 5491/10000\n",
            "Explanating index 5492/10000\n",
            "Explanating index 5493/10000\n",
            "Explanating index 5494/10000\n",
            "Explanating index 5495/10000\n",
            "Explanating index 5496/10000\n",
            "Explanating index 5497/10000\n",
            "Explanating index 5498/10000\n",
            "Explanating index 5499/10000\n",
            "Explanating index 5500/10000\n",
            "Explanating index 5501/10000\n",
            "Explanating index 5502/10000\n",
            "Explanating index 5503/10000\n",
            "Explanating index 5504/10000\n",
            "Explanating index 5505/10000\n",
            "Explanating index 5506/10000\n",
            "Explanating index 5507/10000\n",
            "Explanating index 5508/10000\n",
            "Explanating index 5509/10000\n",
            "Explanating index 5510/10000\n",
            "Explanating index 5511/10000\n",
            "Explanating index 5512/10000\n",
            "Explanating index 5513/10000\n",
            "Explanating index 5514/10000\n",
            "Explanating index 5515/10000\n",
            "Explanating index 5516/10000\n",
            "Explanating index 5517/10000\n",
            "Explanating index 5518/10000\n",
            "Explanating index 5519/10000\n",
            "Explanating index 5520/10000\n",
            "Explanating index 5521/10000\n",
            "Explanating index 5522/10000\n",
            "Explanating index 5523/10000\n",
            "Explanating index 5524/10000\n",
            "Explanating index 5525/10000\n",
            "Explanating index 5526/10000\n",
            "Explanating index 5527/10000\n",
            "Explanating index 5528/10000\n",
            "Explanating index 5529/10000\n",
            "Explanating index 5530/10000\n",
            "Explanating index 5531/10000\n",
            "Explanating index 5532/10000\n",
            "Explanating index 5533/10000\n",
            "Explanating index 5534/10000\n",
            "Explanating index 5535/10000\n",
            "Explanating index 5536/10000\n",
            "Explanating index 5537/10000\n",
            "Explanating index 5538/10000\n",
            "Explanating index 5539/10000\n",
            "Explanating index 5540/10000\n",
            "Explanating index 5541/10000\n",
            "Explanating index 5542/10000\n",
            "Explanating index 5543/10000\n",
            "Explanating index 5544/10000\n",
            "Explanating index 5545/10000\n",
            "Explanating index 5546/10000\n",
            "Explanating index 5547/10000\n",
            "Explanating index 5548/10000\n",
            "Explanating index 5549/10000\n",
            "Explanating index 5550/10000\n",
            "Explanating index 5551/10000\n",
            "Explanating index 5552/10000\n",
            "Explanating index 5553/10000\n",
            "Explanating index 5554/10000\n",
            "Explanating index 5555/10000\n",
            "Explanating index 5556/10000\n",
            "Explanating index 5557/10000\n",
            "Explanating index 5558/10000\n",
            "Explanating index 5559/10000\n",
            "Explanating index 5560/10000\n",
            "Explanating index 5561/10000\n",
            "Explanating index 5562/10000\n",
            "Explanating index 5563/10000\n",
            "Explanating index 5564/10000\n",
            "Explanating index 5565/10000\n",
            "Explanating index 5566/10000\n",
            "Explanating index 5567/10000\n",
            "Explanating index 5568/10000\n",
            "Explanating index 5569/10000\n",
            "Explanating index 5570/10000\n",
            "Explanating index 5571/10000\n",
            "Explanating index 5572/10000\n",
            "Explanating index 5573/10000\n",
            "Explanating index 5574/10000\n",
            "Explanating index 5575/10000\n",
            "Explanating index 5576/10000\n",
            "Explanating index 5577/10000\n",
            "Explanating index 5578/10000\n",
            "Explanating index 5579/10000\n",
            "Explanating index 5580/10000\n",
            "Explanating index 5581/10000\n",
            "Explanating index 5582/10000\n",
            "Explanating index 5583/10000\n",
            "Explanating index 5584/10000\n",
            "Explanating index 5585/10000\n",
            "Explanating index 5586/10000\n",
            "Explanating index 5587/10000\n",
            "Explanating index 5588/10000\n",
            "Explanating index 5589/10000\n",
            "Explanating index 5590/10000\n",
            "Explanating index 5591/10000\n",
            "Explanating index 5592/10000\n",
            "Explanating index 5593/10000\n",
            "Explanating index 5594/10000\n",
            "Explanating index 5595/10000\n",
            "Explanating index 5596/10000\n",
            "Explanating index 5597/10000\n",
            "Explanating index 5598/10000\n",
            "Explanating index 5599/10000\n",
            "Explanating index 5600/10000\n",
            "Explanating index 5601/10000\n",
            "Explanating index 5602/10000\n",
            "Explanating index 5603/10000\n",
            "Explanating index 5604/10000\n",
            "Explanating index 5605/10000\n",
            "Explanating index 5606/10000\n",
            "Explanating index 5607/10000\n",
            "Explanating index 5608/10000\n",
            "Explanating index 5609/10000\n",
            "Explanating index 5610/10000\n",
            "Explanating index 5611/10000\n",
            "Explanating index 5612/10000\n",
            "Explanating index 5613/10000\n",
            "Explanating index 5614/10000\n",
            "Explanating index 5615/10000\n",
            "Explanating index 5616/10000\n",
            "Explanating index 5617/10000\n",
            "Explanating index 5618/10000\n",
            "Explanating index 5619/10000\n",
            "Explanating index 5620/10000\n",
            "Explanating index 5621/10000\n",
            "Explanating index 5622/10000\n",
            "Explanating index 5623/10000\n",
            "Explanating index 5624/10000\n",
            "Explanating index 5625/10000\n",
            "Explanating index 5626/10000\n",
            "Explanating index 5627/10000\n",
            "Explanating index 5628/10000\n",
            "Explanating index 5629/10000\n",
            "Explanating index 5630/10000\n",
            "Explanating index 5631/10000\n",
            "Explanating index 5632/10000\n",
            "Explanating index 5633/10000\n",
            "Explanating index 5634/10000\n",
            "Explanating index 5635/10000\n",
            "Explanating index 5636/10000\n",
            "Explanating index 5637/10000\n",
            "Explanating index 5638/10000\n",
            "Explanating index 5639/10000\n",
            "Explanating index 5640/10000\n",
            "Explanating index 5641/10000\n",
            "Explanating index 5642/10000\n",
            "Explanating index 5643/10000\n",
            "Explanating index 5644/10000\n",
            "Explanating index 5645/10000\n",
            "Explanating index 5646/10000\n",
            "Explanating index 5647/10000\n",
            "Explanating index 5648/10000\n",
            "Explanating index 5649/10000\n",
            "Explanating index 5650/10000\n",
            "Explanating index 5651/10000\n",
            "Explanating index 5652/10000\n",
            "Explanating index 5653/10000\n",
            "Explanating index 5654/10000\n",
            "Explanating index 5655/10000\n",
            "Explanating index 5656/10000\n",
            "Explanating index 5657/10000\n",
            "Explanating index 5658/10000\n",
            "Explanating index 5659/10000\n",
            "Explanating index 5660/10000\n",
            "Explanating index 5661/10000\n",
            "Explanating index 5662/10000\n",
            "Explanating index 5663/10000\n",
            "Explanating index 5664/10000\n",
            "Explanating index 5665/10000\n",
            "Explanating index 5666/10000\n",
            "Explanating index 5667/10000\n",
            "Explanating index 5668/10000\n",
            "Explanating index 5669/10000\n",
            "Explanating index 5670/10000\n",
            "Explanating index 5671/10000\n",
            "Explanating index 5672/10000\n",
            "Explanating index 5673/10000\n",
            "Explanating index 5674/10000\n",
            "Explanating index 5675/10000\n",
            "Explanating index 5676/10000\n",
            "Explanating index 5677/10000\n",
            "Explanating index 5678/10000\n",
            "Explanating index 5679/10000\n",
            "Explanating index 5680/10000\n",
            "Explanating index 5681/10000\n",
            "Explanating index 5682/10000\n",
            "Explanating index 5683/10000\n",
            "Explanating index 5684/10000\n",
            "Explanating index 5685/10000\n",
            "Explanating index 5686/10000\n",
            "Explanating index 5687/10000\n",
            "Explanating index 5688/10000\n",
            "Explanating index 5689/10000\n",
            "Explanating index 5690/10000\n",
            "Explanating index 5691/10000\n",
            "Explanating index 5692/10000\n",
            "Explanating index 5693/10000\n",
            "Explanating index 5694/10000\n",
            "Explanating index 5695/10000\n",
            "Explanating index 5696/10000\n",
            "Explanating index 5697/10000\n",
            "Explanating index 5698/10000\n",
            "Explanating index 5699/10000\n",
            "Explanating index 5700/10000\n",
            "Explanating index 5701/10000\n",
            "Explanating index 5702/10000\n",
            "Explanating index 5703/10000\n",
            "Explanating index 5704/10000\n",
            "Explanating index 5705/10000\n",
            "Explanating index 5706/10000\n",
            "Explanating index 5707/10000\n",
            "Explanating index 5708/10000\n",
            "Explanating index 5709/10000\n",
            "Explanating index 5710/10000\n",
            "Explanating index 5711/10000\n",
            "Explanating index 5712/10000\n",
            "Explanating index 5713/10000\n",
            "Explanating index 5714/10000\n",
            "Explanating index 5715/10000\n",
            "Explanating index 5716/10000\n",
            "Explanating index 5717/10000\n",
            "Explanating index 5718/10000\n",
            "Explanating index 5719/10000\n",
            "Explanating index 5720/10000\n",
            "Explanating index 5721/10000\n",
            "Explanating index 5722/10000\n",
            "Explanating index 5723/10000\n",
            "Explanating index 5724/10000\n",
            "Explanating index 5725/10000\n",
            "Explanating index 5726/10000\n",
            "Explanating index 5727/10000\n",
            "Explanating index 5728/10000\n",
            "Explanating index 5729/10000\n",
            "Explanating index 5730/10000\n",
            "Explanating index 5731/10000\n",
            "Explanating index 5732/10000\n",
            "Explanating index 5733/10000\n",
            "Explanating index 5734/10000\n",
            "Explanating index 5735/10000\n",
            "Explanating index 5736/10000\n",
            "Explanating index 5737/10000\n",
            "Explanating index 5738/10000\n",
            "Explanating index 5739/10000\n",
            "Explanating index 5740/10000\n",
            "Explanating index 5741/10000\n",
            "Explanating index 5742/10000\n",
            "Explanating index 5743/10000\n",
            "Explanating index 5744/10000\n",
            "Explanating index 5745/10000\n",
            "Explanating index 5746/10000\n",
            "Explanating index 5747/10000\n",
            "Explanating index 5748/10000\n",
            "Explanating index 5749/10000\n",
            "Explanating index 5750/10000\n",
            "Explanating index 5751/10000\n",
            "Explanating index 5752/10000\n",
            "Explanating index 5753/10000\n",
            "Explanating index 5754/10000\n",
            "Explanating index 5755/10000\n",
            "Explanating index 5756/10000\n",
            "Explanating index 5757/10000\n",
            "Explanating index 5758/10000\n",
            "Explanating index 5759/10000\n",
            "Explanating index 5760/10000\n",
            "Explanating index 5761/10000\n",
            "Explanating index 5762/10000\n",
            "Explanating index 5763/10000\n",
            "Explanating index 5764/10000\n",
            "Explanating index 5765/10000\n",
            "Explanating index 5766/10000\n",
            "Explanating index 5767/10000\n",
            "Explanating index 5768/10000\n",
            "Explanating index 5769/10000\n",
            "Explanating index 5770/10000\n",
            "Explanating index 5771/10000\n",
            "Explanating index 5772/10000\n",
            "Explanating index 5773/10000\n",
            "Explanating index 5774/10000\n",
            "Explanating index 5775/10000\n",
            "Explanating index 5776/10000\n",
            "Explanating index 5777/10000\n",
            "Explanating index 5778/10000\n",
            "Explanating index 5779/10000\n",
            "Explanating index 5780/10000\n",
            "Explanating index 5781/10000\n",
            "Explanating index 5782/10000\n",
            "Explanating index 5783/10000\n",
            "Explanating index 5784/10000\n",
            "Explanating index 5785/10000\n",
            "Explanating index 5786/10000\n",
            "Explanating index 5787/10000\n",
            "Explanating index 5788/10000\n",
            "Explanating index 5789/10000\n",
            "Explanating index 5790/10000\n",
            "Explanating index 5791/10000\n",
            "Explanating index 5792/10000\n",
            "Explanating index 5793/10000\n",
            "Explanating index 5794/10000\n",
            "Explanating index 5795/10000\n",
            "Explanating index 5796/10000\n",
            "Explanating index 5797/10000\n",
            "Explanating index 5798/10000\n",
            "Explanating index 5799/10000\n",
            "Explanating index 5800/10000\n",
            "Explanating index 5801/10000\n",
            "Explanating index 5802/10000\n",
            "Explanating index 5803/10000\n",
            "Explanating index 5804/10000\n",
            "Explanating index 5805/10000\n",
            "Explanating index 5806/10000\n",
            "Explanating index 5807/10000\n",
            "Explanating index 5808/10000\n",
            "Explanating index 5809/10000\n",
            "Explanating index 5810/10000\n",
            "Explanating index 5811/10000\n",
            "Explanating index 5812/10000\n",
            "Explanating index 5813/10000\n",
            "Explanating index 5814/10000\n",
            "Explanating index 5815/10000\n",
            "Explanating index 5816/10000\n",
            "Explanating index 5817/10000\n",
            "Explanating index 5818/10000\n",
            "Explanating index 5819/10000\n",
            "Explanating index 5820/10000\n",
            "Explanating index 5821/10000\n",
            "Explanating index 5822/10000\n",
            "Explanating index 5823/10000\n",
            "Explanating index 5824/10000\n",
            "Explanating index 5825/10000\n",
            "Explanating index 5826/10000\n",
            "Explanating index 5827/10000\n",
            "Explanating index 5828/10000\n",
            "Explanating index 5829/10000\n",
            "Explanating index 5830/10000\n",
            "Explanating index 5831/10000\n",
            "Explanating index 5832/10000\n",
            "Explanating index 5833/10000\n",
            "Explanating index 5834/10000\n",
            "Explanating index 5835/10000\n",
            "Explanating index 5836/10000\n",
            "Explanating index 5837/10000\n",
            "Explanating index 5838/10000\n",
            "Explanating index 5839/10000\n",
            "Explanating index 5840/10000\n",
            "Explanating index 5841/10000\n",
            "Explanating index 5842/10000\n",
            "Explanating index 5843/10000\n",
            "Explanating index 5844/10000\n",
            "Explanating index 5845/10000\n",
            "Explanating index 5846/10000\n",
            "Explanating index 5847/10000\n",
            "Explanating index 5848/10000\n",
            "Explanating index 5849/10000\n",
            "Explanating index 5850/10000\n",
            "Explanating index 5851/10000\n",
            "Explanating index 5852/10000\n",
            "Explanating index 5853/10000\n",
            "Explanating index 5854/10000\n",
            "Explanating index 5855/10000\n",
            "Explanating index 5856/10000\n",
            "Explanating index 5857/10000\n",
            "Explanating index 5858/10000\n",
            "Explanating index 5859/10000\n",
            "Explanating index 5860/10000\n",
            "Explanating index 5861/10000\n",
            "Explanating index 5862/10000\n",
            "Explanating index 5863/10000\n",
            "Explanating index 5864/10000\n",
            "Explanating index 5865/10000\n",
            "Explanating index 5866/10000\n",
            "Explanating index 5867/10000\n",
            "Explanating index 5868/10000\n",
            "Explanating index 5869/10000\n",
            "Explanating index 5870/10000\n",
            "Explanating index 5871/10000\n",
            "Explanating index 5872/10000\n",
            "Explanating index 5873/10000\n",
            "Explanating index 5874/10000\n",
            "Explanating index 5875/10000\n",
            "Explanating index 5876/10000\n",
            "Explanating index 5877/10000\n",
            "Explanating index 5878/10000\n",
            "Explanating index 5879/10000\n",
            "Explanating index 5880/10000\n",
            "Explanating index 5881/10000\n",
            "Explanating index 5882/10000\n",
            "Explanating index 5883/10000\n",
            "Explanating index 5884/10000\n",
            "Explanating index 5885/10000\n",
            "Explanating index 5886/10000\n",
            "Explanating index 5887/10000\n",
            "Explanating index 5888/10000\n",
            "Explanating index 5889/10000\n",
            "Explanating index 5890/10000\n",
            "Explanating index 5891/10000\n",
            "Explanating index 5892/10000\n",
            "Explanating index 5893/10000\n",
            "Explanating index 5894/10000\n",
            "Explanating index 5895/10000\n",
            "Explanating index 5896/10000\n",
            "Explanating index 5897/10000\n",
            "Explanating index 5898/10000\n",
            "Explanating index 5899/10000\n",
            "Explanating index 5900/10000\n",
            "Explanating index 5901/10000\n",
            "Explanating index 5902/10000\n",
            "Explanating index 5903/10000\n",
            "Explanating index 5904/10000\n",
            "Explanating index 5905/10000\n",
            "Explanating index 5906/10000\n",
            "Explanating index 5907/10000\n",
            "Explanating index 5908/10000\n",
            "Explanating index 5909/10000\n",
            "Explanating index 5910/10000\n",
            "Explanating index 5911/10000\n",
            "Explanating index 5912/10000\n",
            "Explanating index 5913/10000\n",
            "Explanating index 5914/10000\n",
            "Explanating index 5915/10000\n",
            "Explanating index 5916/10000\n",
            "Explanating index 5917/10000\n",
            "Explanating index 5918/10000\n",
            "Explanating index 5919/10000\n",
            "Explanating index 5920/10000\n",
            "Explanating index 5921/10000\n",
            "Explanating index 5922/10000\n",
            "Explanating index 5923/10000\n",
            "Explanating index 5924/10000\n",
            "Explanating index 5925/10000\n",
            "Explanating index 5926/10000\n",
            "Explanating index 5927/10000\n",
            "Explanating index 5928/10000\n",
            "Explanating index 5929/10000\n",
            "Explanating index 5930/10000\n",
            "Explanating index 5931/10000\n",
            "Explanating index 5932/10000\n",
            "Explanating index 5933/10000\n",
            "Explanating index 5934/10000\n",
            "Explanating index 5935/10000\n",
            "Explanating index 5936/10000\n",
            "Explanating index 5937/10000\n",
            "Explanating index 5938/10000\n",
            "Explanating index 5939/10000\n",
            "Explanating index 5940/10000\n",
            "Explanating index 5941/10000\n",
            "Explanating index 5942/10000\n",
            "Explanating index 5943/10000\n",
            "Explanating index 5944/10000\n",
            "Explanating index 5945/10000\n",
            "Explanating index 5946/10000\n",
            "Explanating index 5947/10000\n",
            "Explanating index 5948/10000\n",
            "Explanating index 5949/10000\n",
            "Explanating index 5950/10000\n",
            "Explanating index 5951/10000\n",
            "Explanating index 5952/10000\n",
            "Explanating index 5953/10000\n",
            "Explanating index 5954/10000\n",
            "Explanating index 5955/10000\n",
            "Explanating index 5956/10000\n",
            "Explanating index 5957/10000\n",
            "Explanating index 5958/10000\n",
            "Explanating index 5959/10000\n",
            "Explanating index 5960/10000\n",
            "Explanating index 5961/10000\n",
            "Explanating index 5962/10000\n",
            "Explanating index 5963/10000\n",
            "Explanating index 5964/10000\n",
            "Explanating index 5965/10000\n",
            "Explanating index 5966/10000\n",
            "Explanating index 5967/10000\n",
            "Explanating index 5968/10000\n",
            "Explanating index 5969/10000\n",
            "Explanating index 5970/10000\n",
            "Explanating index 5971/10000\n",
            "Explanating index 5972/10000\n",
            "Explanating index 5973/10000\n",
            "Explanating index 5974/10000\n",
            "Explanating index 5975/10000\n",
            "Explanating index 5976/10000\n",
            "Explanating index 5977/10000\n",
            "Explanating index 5978/10000\n",
            "Explanating index 5979/10000\n",
            "Explanating index 5980/10000\n",
            "Explanating index 5981/10000\n",
            "Explanating index 5982/10000\n",
            "Explanating index 5983/10000\n",
            "Explanating index 5984/10000\n",
            "Explanating index 5985/10000\n",
            "Explanating index 5986/10000\n",
            "Explanating index 5987/10000\n",
            "Explanating index 5988/10000\n",
            "Explanating index 5989/10000\n",
            "Explanating index 5990/10000\n",
            "Explanating index 5991/10000\n",
            "Explanating index 5992/10000\n",
            "Explanating index 5993/10000\n",
            "Explanating index 5994/10000\n",
            "Explanating index 5995/10000\n",
            "Explanating index 5996/10000\n",
            "Explanating index 5997/10000\n",
            "Explanating index 5998/10000\n",
            "Explanating index 5999/10000\n",
            "Explanating index 6000/10000\n",
            "Explanating index 6001/10000\n",
            "Explanating index 6002/10000\n",
            "Explanating index 6003/10000\n",
            "Explanating index 6004/10000\n",
            "Explanating index 6005/10000\n",
            "Explanating index 6006/10000\n",
            "Explanating index 6007/10000\n",
            "Explanating index 6008/10000\n",
            "Explanating index 6009/10000\n",
            "Explanating index 6010/10000\n",
            "Explanating index 6011/10000\n",
            "Explanating index 6012/10000\n",
            "Explanating index 6013/10000\n",
            "Explanating index 6014/10000\n",
            "Explanating index 6015/10000\n",
            "Explanating index 6016/10000\n",
            "Explanating index 6017/10000\n",
            "Explanating index 6018/10000\n",
            "Explanating index 6019/10000\n",
            "Explanating index 6020/10000\n",
            "Explanating index 6021/10000\n",
            "Explanating index 6022/10000\n",
            "Explanating index 6023/10000\n",
            "Explanating index 6024/10000\n",
            "Explanating index 6025/10000\n",
            "Explanating index 6026/10000\n",
            "Explanating index 6027/10000\n",
            "Explanating index 6028/10000\n",
            "Explanating index 6029/10000\n",
            "Explanating index 6030/10000\n",
            "Explanating index 6031/10000\n",
            "Explanating index 6032/10000\n",
            "Explanating index 6033/10000\n",
            "Explanating index 6034/10000\n",
            "Explanating index 6035/10000\n",
            "Explanating index 6036/10000\n",
            "Explanating index 6037/10000\n",
            "Explanating index 6038/10000\n",
            "Explanating index 6039/10000\n",
            "Explanating index 6040/10000\n",
            "Explanating index 6041/10000\n",
            "Explanating index 6042/10000\n",
            "Explanating index 6043/10000\n",
            "Explanating index 6044/10000\n",
            "Explanating index 6045/10000\n",
            "Explanating index 6046/10000\n",
            "Explanating index 6047/10000\n",
            "Explanating index 6048/10000\n",
            "Explanating index 6049/10000\n",
            "Explanating index 6050/10000\n",
            "Explanating index 6051/10000\n",
            "Explanating index 6052/10000\n",
            "Explanating index 6053/10000\n",
            "Explanating index 6054/10000\n",
            "Explanating index 6055/10000\n",
            "Explanating index 6056/10000\n",
            "Explanating index 6057/10000\n",
            "Explanating index 6058/10000\n",
            "Explanating index 6059/10000\n",
            "Explanating index 6060/10000\n",
            "Explanating index 6061/10000\n",
            "Explanating index 6062/10000\n",
            "Explanating index 6063/10000\n",
            "Explanating index 6064/10000\n",
            "Explanating index 6065/10000\n",
            "Explanating index 6066/10000\n",
            "Explanating index 6067/10000\n",
            "Explanating index 6068/10000\n",
            "Explanating index 6069/10000\n",
            "Explanating index 6070/10000\n",
            "Explanating index 6071/10000\n",
            "Explanating index 6072/10000\n",
            "Explanating index 6073/10000\n",
            "Explanating index 6074/10000\n",
            "Explanating index 6075/10000\n",
            "Explanating index 6076/10000\n",
            "Explanating index 6077/10000\n",
            "Explanating index 6078/10000\n",
            "Explanating index 6079/10000\n",
            "Explanating index 6080/10000\n",
            "Explanating index 6081/10000\n",
            "Explanating index 6082/10000\n",
            "Explanating index 6083/10000\n",
            "Explanating index 6084/10000\n",
            "Explanating index 6085/10000\n",
            "Explanating index 6086/10000\n",
            "Explanating index 6087/10000\n",
            "Explanating index 6088/10000\n",
            "Explanating index 6089/10000\n",
            "Explanating index 6090/10000\n",
            "Explanating index 6091/10000\n",
            "Explanating index 6092/10000\n",
            "Explanating index 6093/10000\n",
            "Explanating index 6094/10000\n",
            "Explanating index 6095/10000\n",
            "Explanating index 6096/10000\n",
            "Explanating index 6097/10000\n",
            "Explanating index 6098/10000\n",
            "Explanating index 6099/10000\n",
            "Explanating index 6100/10000\n",
            "Explanating index 6101/10000\n",
            "Explanating index 6102/10000\n",
            "Explanating index 6103/10000\n",
            "Explanating index 6104/10000\n",
            "Explanating index 6105/10000\n",
            "Explanating index 6106/10000\n",
            "Explanating index 6107/10000\n",
            "Explanating index 6108/10000\n",
            "Explanating index 6109/10000\n",
            "Explanating index 6110/10000\n",
            "Explanating index 6111/10000\n",
            "Explanating index 6112/10000\n",
            "Explanating index 6113/10000\n",
            "Explanating index 6114/10000\n",
            "Explanating index 6115/10000\n",
            "Explanating index 6116/10000\n",
            "Explanating index 6117/10000\n",
            "Explanating index 6118/10000\n",
            "Explanating index 6119/10000\n",
            "Explanating index 6120/10000\n",
            "Explanating index 6121/10000\n",
            "Explanating index 6122/10000\n",
            "Explanating index 6123/10000\n",
            "Explanating index 6124/10000\n",
            "Explanating index 6125/10000\n",
            "Explanating index 6126/10000\n",
            "Explanating index 6127/10000\n",
            "Explanating index 6128/10000\n",
            "Explanating index 6129/10000\n",
            "Explanating index 6130/10000\n",
            "Explanating index 6131/10000\n",
            "Explanating index 6132/10000\n",
            "Explanating index 6133/10000\n",
            "Explanating index 6134/10000\n",
            "Explanating index 6135/10000\n",
            "Explanating index 6136/10000\n",
            "Explanating index 6137/10000\n",
            "Explanating index 6138/10000\n",
            "Explanating index 6139/10000\n",
            "Explanating index 6140/10000\n",
            "Explanating index 6141/10000\n",
            "Explanating index 6142/10000\n",
            "Explanating index 6143/10000\n",
            "Explanating index 6144/10000\n",
            "Explanating index 6145/10000\n",
            "Explanating index 6146/10000\n",
            "Explanating index 6147/10000\n",
            "Explanating index 6148/10000\n",
            "Explanating index 6149/10000\n",
            "Explanating index 6150/10000\n",
            "Explanating index 6151/10000\n",
            "Explanating index 6152/10000\n",
            "Explanating index 6153/10000\n",
            "Explanating index 6154/10000\n",
            "Explanating index 6155/10000\n",
            "Explanating index 6156/10000\n",
            "Explanating index 6157/10000\n",
            "Explanating index 6158/10000\n",
            "Explanating index 6159/10000\n",
            "Explanating index 6160/10000\n",
            "Explanating index 6161/10000\n",
            "Explanating index 6162/10000\n",
            "Explanating index 6163/10000\n",
            "Explanating index 6164/10000\n",
            "Explanating index 6165/10000\n",
            "Explanating index 6166/10000\n",
            "Explanating index 6167/10000\n",
            "Explanating index 6168/10000\n",
            "Explanating index 6169/10000\n",
            "Explanating index 6170/10000\n",
            "Explanating index 6171/10000\n",
            "Explanating index 6172/10000\n",
            "Explanating index 6173/10000\n",
            "Explanating index 6174/10000\n",
            "Explanating index 6175/10000\n",
            "Explanating index 6176/10000\n",
            "Explanating index 6177/10000\n",
            "Explanating index 6178/10000\n",
            "Explanating index 6179/10000\n",
            "Explanating index 6180/10000\n",
            "Explanating index 6181/10000\n",
            "Explanating index 6182/10000\n",
            "Explanating index 6183/10000\n",
            "Explanating index 6184/10000\n",
            "Explanating index 6185/10000\n",
            "Explanating index 6186/10000\n",
            "Explanating index 6187/10000\n",
            "Explanating index 6188/10000\n",
            "Explanating index 6189/10000\n",
            "Explanating index 6190/10000\n",
            "Explanating index 6191/10000\n",
            "Explanating index 6192/10000\n",
            "Explanating index 6193/10000\n",
            "Explanating index 6194/10000\n",
            "Explanating index 6195/10000\n",
            "Explanating index 6196/10000\n",
            "Explanating index 6197/10000\n",
            "Explanating index 6198/10000\n",
            "Explanating index 6199/10000\n",
            "Explanating index 6200/10000\n",
            "Explanating index 6201/10000\n",
            "Explanating index 6202/10000\n",
            "Explanating index 6203/10000\n",
            "Explanating index 6204/10000\n",
            "Explanating index 6205/10000\n",
            "Explanating index 6206/10000\n",
            "Explanating index 6207/10000\n",
            "Explanating index 6208/10000\n",
            "Explanating index 6209/10000\n",
            "Explanating index 6210/10000\n",
            "Explanating index 6211/10000\n",
            "Explanating index 6212/10000\n",
            "Explanating index 6213/10000\n",
            "Explanating index 6214/10000\n",
            "Explanating index 6215/10000\n",
            "Explanating index 6216/10000\n",
            "Explanating index 6217/10000\n",
            "Explanating index 6218/10000\n",
            "Explanating index 6219/10000\n",
            "Explanating index 6220/10000\n",
            "Explanating index 6221/10000\n",
            "Explanating index 6222/10000\n",
            "Explanating index 6223/10000\n",
            "Explanating index 6224/10000\n",
            "Explanating index 6225/10000\n",
            "Explanating index 6226/10000\n",
            "Explanating index 6227/10000\n",
            "Explanating index 6228/10000\n",
            "Explanating index 6229/10000\n",
            "Explanating index 6230/10000\n",
            "Explanating index 6231/10000\n",
            "Explanating index 6232/10000\n",
            "Explanating index 6233/10000\n",
            "Explanating index 6234/10000\n",
            "Explanating index 6235/10000\n",
            "Explanating index 6236/10000\n",
            "Explanating index 6237/10000\n",
            "Explanating index 6238/10000\n",
            "Explanating index 6239/10000\n",
            "Explanating index 6240/10000\n",
            "Explanating index 6241/10000\n",
            "Explanating index 6242/10000\n",
            "Explanating index 6243/10000\n",
            "Explanating index 6244/10000\n",
            "Explanating index 6245/10000\n",
            "Explanating index 6246/10000\n",
            "Explanating index 6247/10000\n",
            "Explanating index 6248/10000\n",
            "Explanating index 6249/10000\n",
            "Explanating index 6250/10000\n",
            "Explanating index 6251/10000\n",
            "Explanating index 6252/10000\n",
            "Explanating index 6253/10000\n",
            "Explanating index 6254/10000\n",
            "Explanating index 6255/10000\n",
            "Explanating index 6256/10000\n",
            "Explanating index 6257/10000\n",
            "Explanating index 6258/10000\n",
            "Explanating index 6259/10000\n",
            "Explanating index 6260/10000\n",
            "Explanating index 6261/10000\n",
            "Explanating index 6262/10000\n",
            "Explanating index 6263/10000\n",
            "Explanating index 6264/10000\n",
            "Explanating index 6265/10000\n",
            "Explanating index 6266/10000\n",
            "Explanating index 6267/10000\n",
            "Explanating index 6268/10000\n",
            "Explanating index 6269/10000\n",
            "Explanating index 6270/10000\n",
            "Explanating index 6271/10000\n",
            "Explanating index 6272/10000\n",
            "Explanating index 6273/10000\n",
            "Explanating index 6274/10000\n",
            "Explanating index 6275/10000\n",
            "Explanating index 6276/10000\n",
            "Explanating index 6277/10000\n",
            "Explanating index 6278/10000\n",
            "Explanating index 6279/10000\n",
            "Explanating index 6280/10000\n",
            "Explanating index 6281/10000\n",
            "Explanating index 6282/10000\n",
            "Explanating index 6283/10000\n",
            "Explanating index 6284/10000\n",
            "Explanating index 6285/10000\n",
            "Explanating index 6286/10000\n",
            "Explanating index 6287/10000\n",
            "Explanating index 6288/10000\n",
            "Explanating index 6289/10000\n",
            "Explanating index 6290/10000\n",
            "Explanating index 6291/10000\n",
            "Explanating index 6292/10000\n",
            "Explanating index 6293/10000\n",
            "Explanating index 6294/10000\n",
            "Explanating index 6295/10000\n",
            "Explanating index 6296/10000\n",
            "Explanating index 6297/10000\n",
            "Explanating index 6298/10000\n",
            "Explanating index 6299/10000\n",
            "Explanating index 6300/10000\n",
            "Explanating index 6301/10000\n",
            "Explanating index 6302/10000\n",
            "Explanating index 6303/10000\n",
            "Explanating index 6304/10000\n",
            "Explanating index 6305/10000\n",
            "Explanating index 6306/10000\n",
            "Explanating index 6307/10000\n",
            "Explanating index 6308/10000\n",
            "Explanating index 6309/10000\n",
            "Explanating index 6310/10000\n",
            "Explanating index 6311/10000\n",
            "Explanating index 6312/10000\n",
            "Explanating index 6313/10000\n",
            "Explanating index 6314/10000\n",
            "Explanating index 6315/10000\n",
            "Explanating index 6316/10000\n",
            "Explanating index 6317/10000\n",
            "Explanating index 6318/10000\n",
            "Explanating index 6319/10000\n",
            "Explanating index 6320/10000\n",
            "Explanating index 6321/10000\n",
            "Explanating index 6322/10000\n",
            "Explanating index 6323/10000\n",
            "Explanating index 6324/10000\n",
            "Explanating index 6325/10000\n",
            "Explanating index 6326/10000\n",
            "Explanating index 6327/10000\n",
            "Explanating index 6328/10000\n",
            "Explanating index 6329/10000\n",
            "Explanating index 6330/10000\n",
            "Explanating index 6331/10000\n",
            "Explanating index 6332/10000\n",
            "Explanating index 6333/10000\n",
            "Explanating index 6334/10000\n",
            "Explanating index 6335/10000\n",
            "Explanating index 6336/10000\n",
            "Explanating index 6337/10000\n",
            "Explanating index 6338/10000\n",
            "Explanating index 6339/10000\n",
            "Explanating index 6340/10000\n",
            "Explanating index 6341/10000\n",
            "Explanating index 6342/10000\n",
            "Explanating index 6343/10000\n",
            "Explanating index 6344/10000\n",
            "Explanating index 6345/10000\n",
            "Explanating index 6346/10000\n",
            "Explanating index 6347/10000\n",
            "Explanating index 6348/10000\n",
            "Explanating index 6349/10000\n",
            "Explanating index 6350/10000\n",
            "Explanating index 6351/10000\n",
            "Explanating index 6352/10000\n",
            "Explanating index 6353/10000\n",
            "Explanating index 6354/10000\n",
            "Explanating index 6355/10000\n",
            "Explanating index 6356/10000\n",
            "Explanating index 6357/10000\n",
            "Explanating index 6358/10000\n",
            "Explanating index 6359/10000\n",
            "Explanating index 6360/10000\n",
            "Explanating index 6361/10000\n",
            "Explanating index 6362/10000\n",
            "Explanating index 6363/10000\n",
            "Explanating index 6364/10000\n",
            "Explanating index 6365/10000\n",
            "Explanating index 6366/10000\n",
            "Explanating index 6367/10000\n",
            "Explanating index 6368/10000\n",
            "Explanating index 6369/10000\n",
            "Explanating index 6370/10000\n",
            "Explanating index 6371/10000\n",
            "Explanating index 6372/10000\n",
            "Explanating index 6373/10000\n",
            "Explanating index 6374/10000\n",
            "Explanating index 6375/10000\n",
            "Explanating index 6376/10000\n",
            "Explanating index 6377/10000\n",
            "Explanating index 6378/10000\n",
            "Explanating index 6379/10000\n",
            "Explanating index 6380/10000\n",
            "Explanating index 6381/10000\n",
            "Explanating index 6382/10000\n",
            "Explanating index 6383/10000\n",
            "Explanating index 6384/10000\n",
            "Explanating index 6385/10000\n",
            "Explanating index 6386/10000\n",
            "Explanating index 6387/10000\n",
            "Explanating index 6388/10000\n",
            "Explanating index 6389/10000\n",
            "Explanating index 6390/10000\n",
            "Explanating index 6391/10000\n",
            "Explanating index 6392/10000\n",
            "Explanating index 6393/10000\n",
            "Explanating index 6394/10000\n",
            "Explanating index 6395/10000\n",
            "Explanating index 6396/10000\n",
            "Explanating index 6397/10000\n",
            "Explanating index 6398/10000\n",
            "Explanating index 6399/10000\n",
            "Explanating index 6400/10000\n",
            "Explanating index 6401/10000\n",
            "Explanating index 6402/10000\n",
            "Explanating index 6403/10000\n",
            "Explanating index 6404/10000\n",
            "Explanating index 6405/10000\n",
            "Explanating index 6406/10000\n",
            "Explanating index 6407/10000\n",
            "Explanating index 6408/10000\n",
            "Explanating index 6409/10000\n",
            "Explanating index 6410/10000\n",
            "Explanating index 6411/10000\n",
            "Explanating index 6412/10000\n",
            "Explanating index 6413/10000\n",
            "Explanating index 6414/10000\n",
            "Explanating index 6415/10000\n",
            "Explanating index 6416/10000\n",
            "Explanating index 6417/10000\n",
            "Explanating index 6418/10000\n",
            "Explanating index 6419/10000\n",
            "Explanating index 6420/10000\n",
            "Explanating index 6421/10000\n",
            "Explanating index 6422/10000\n",
            "Explanating index 6423/10000\n",
            "Explanating index 6424/10000\n",
            "Explanating index 6425/10000\n",
            "Explanating index 6426/10000\n",
            "Explanating index 6427/10000\n",
            "Explanating index 6428/10000\n",
            "Explanating index 6429/10000\n",
            "Explanating index 6430/10000\n",
            "Explanating index 6431/10000\n",
            "Explanating index 6432/10000\n",
            "Explanating index 6433/10000\n",
            "Explanating index 6434/10000\n",
            "Explanating index 6435/10000\n",
            "Explanating index 6436/10000\n",
            "Explanating index 6437/10000\n",
            "Explanating index 6438/10000\n",
            "Explanating index 6439/10000\n",
            "Explanating index 6440/10000\n",
            "Explanating index 6441/10000\n",
            "Explanating index 6442/10000\n",
            "Explanating index 6443/10000\n",
            "Explanating index 6444/10000\n",
            "Explanating index 6445/10000\n",
            "Explanating index 6446/10000\n",
            "Explanating index 6447/10000\n",
            "Explanating index 6448/10000\n",
            "Explanating index 6449/10000\n",
            "Explanating index 6450/10000\n",
            "Explanating index 6451/10000\n",
            "Explanating index 6452/10000\n",
            "Explanating index 6453/10000\n",
            "Explanating index 6454/10000\n",
            "Explanating index 6455/10000\n",
            "Explanating index 6456/10000\n",
            "Explanating index 6457/10000\n",
            "Explanating index 6458/10000\n",
            "Explanating index 6459/10000\n",
            "Explanating index 6460/10000\n",
            "Explanating index 6461/10000\n",
            "Explanating index 6462/10000\n",
            "Explanating index 6463/10000\n",
            "Explanating index 6464/10000\n",
            "Explanating index 6465/10000\n",
            "Explanating index 6466/10000\n",
            "Explanating index 6467/10000\n",
            "Explanating index 6468/10000\n",
            "Explanating index 6469/10000\n",
            "Explanating index 6470/10000\n",
            "Explanating index 6471/10000\n",
            "Explanating index 6472/10000\n",
            "Explanating index 6473/10000\n",
            "Explanating index 6474/10000\n",
            "Explanating index 6475/10000\n",
            "Explanating index 6476/10000\n",
            "Explanating index 6477/10000\n",
            "Explanating index 6478/10000\n",
            "Explanating index 6479/10000\n",
            "Explanating index 6480/10000\n",
            "Explanating index 6481/10000\n",
            "Explanating index 6482/10000\n",
            "Explanating index 6483/10000\n",
            "Explanating index 6484/10000\n",
            "Explanating index 6485/10000\n",
            "Explanating index 6486/10000\n",
            "Explanating index 6487/10000\n",
            "Explanating index 6488/10000\n",
            "Explanating index 6489/10000\n",
            "Explanating index 6490/10000\n",
            "Explanating index 6491/10000\n",
            "Explanating index 6492/10000\n",
            "Explanating index 6493/10000\n",
            "Explanating index 6494/10000\n",
            "Explanating index 6495/10000\n",
            "Explanating index 6496/10000\n",
            "Explanating index 6497/10000\n",
            "Explanating index 6498/10000\n",
            "Explanating index 6499/10000\n",
            "Explanating index 6500/10000\n",
            "Explanating index 6501/10000\n",
            "Explanating index 6502/10000\n",
            "Explanating index 6503/10000\n",
            "Explanating index 6504/10000\n",
            "Explanating index 6505/10000\n",
            "Explanating index 6506/10000\n",
            "Explanating index 6507/10000\n",
            "Explanating index 6508/10000\n",
            "Explanating index 6509/10000\n",
            "Explanating index 6510/10000\n",
            "Explanating index 6511/10000\n",
            "Explanating index 6512/10000\n",
            "Explanating index 6513/10000\n",
            "Explanating index 6514/10000\n",
            "Explanating index 6515/10000\n",
            "Explanating index 6516/10000\n",
            "Explanating index 6517/10000\n",
            "Explanating index 6518/10000\n",
            "Explanating index 6519/10000\n",
            "Explanating index 6520/10000\n",
            "Explanating index 6521/10000\n",
            "Explanating index 6522/10000\n",
            "Explanating index 6523/10000\n",
            "Explanating index 6524/10000\n",
            "Explanating index 6525/10000\n",
            "Explanating index 6526/10000\n",
            "Explanating index 6527/10000\n",
            "Explanating index 6528/10000\n",
            "Explanating index 6529/10000\n",
            "Explanating index 6530/10000\n",
            "Explanating index 6531/10000\n",
            "Explanating index 6532/10000\n",
            "Explanating index 6533/10000\n",
            "Explanating index 6534/10000\n",
            "Explanating index 6535/10000\n",
            "Explanating index 6536/10000\n",
            "Explanating index 6537/10000\n",
            "Explanating index 6538/10000\n",
            "Explanating index 6539/10000\n",
            "Explanating index 6540/10000\n",
            "Explanating index 6541/10000\n",
            "Explanating index 6542/10000\n",
            "Explanating index 6543/10000\n",
            "Explanating index 6544/10000\n",
            "Explanating index 6545/10000\n",
            "Explanating index 6546/10000\n",
            "Explanating index 6547/10000\n",
            "Explanating index 6548/10000\n",
            "Explanating index 6549/10000\n",
            "Explanating index 6550/10000\n",
            "Explanating index 6551/10000\n",
            "Explanating index 6552/10000\n",
            "Explanating index 6553/10000\n",
            "Explanating index 6554/10000\n",
            "Explanating index 6555/10000\n",
            "Explanating index 6556/10000\n",
            "Explanating index 6557/10000\n",
            "Explanating index 6558/10000\n",
            "Explanating index 6559/10000\n",
            "Explanating index 6560/10000\n",
            "Explanating index 6561/10000\n",
            "Explanating index 6562/10000\n",
            "Explanating index 6563/10000\n",
            "Explanating index 6564/10000\n",
            "Explanating index 6565/10000\n",
            "Explanating index 6566/10000\n",
            "Explanating index 6567/10000\n",
            "Explanating index 6568/10000\n",
            "Explanating index 6569/10000\n",
            "Explanating index 6570/10000\n",
            "Explanating index 6571/10000\n",
            "Explanating index 6572/10000\n",
            "Explanating index 6573/10000\n",
            "Explanating index 6574/10000\n",
            "Explanating index 6575/10000\n",
            "Explanating index 6576/10000\n",
            "Explanating index 6577/10000\n",
            "Explanating index 6578/10000\n",
            "Explanating index 6579/10000\n",
            "Explanating index 6580/10000\n",
            "Explanating index 6581/10000\n",
            "Explanating index 6582/10000\n",
            "Explanating index 6583/10000\n",
            "Explanating index 6584/10000\n",
            "Explanating index 6585/10000\n",
            "Explanating index 6586/10000\n",
            "Explanating index 6587/10000\n",
            "Explanating index 6588/10000\n",
            "Explanating index 6589/10000\n",
            "Explanating index 6590/10000\n",
            "Explanating index 6591/10000\n",
            "Explanating index 6592/10000\n",
            "Explanating index 6593/10000\n",
            "Explanating index 6594/10000\n",
            "Explanating index 6595/10000\n",
            "Explanating index 6596/10000\n",
            "Explanating index 6597/10000\n",
            "Explanating index 6598/10000\n",
            "Explanating index 6599/10000\n",
            "Explanating index 6600/10000\n",
            "Explanating index 6601/10000\n",
            "Explanating index 6602/10000\n",
            "Explanating index 6603/10000\n",
            "Explanating index 6604/10000\n",
            "Explanating index 6605/10000\n",
            "Explanating index 6606/10000\n",
            "Explanating index 6607/10000\n",
            "Explanating index 6608/10000\n",
            "Explanating index 6609/10000\n",
            "Explanating index 6610/10000\n",
            "Explanating index 6611/10000\n",
            "Explanating index 6612/10000\n",
            "Explanating index 6613/10000\n",
            "Explanating index 6614/10000\n",
            "Explanating index 6615/10000\n",
            "Explanating index 6616/10000\n",
            "Explanating index 6617/10000\n",
            "Explanating index 6618/10000\n",
            "Explanating index 6619/10000\n",
            "Explanating index 6620/10000\n",
            "Explanating index 6621/10000\n",
            "Explanating index 6622/10000\n",
            "Explanating index 6623/10000\n",
            "Explanating index 6624/10000\n",
            "Explanating index 6625/10000\n",
            "Explanating index 6626/10000\n",
            "Explanating index 6627/10000\n",
            "Explanating index 6628/10000\n",
            "Explanating index 6629/10000\n",
            "Explanating index 6630/10000\n",
            "Explanating index 6631/10000\n",
            "Explanating index 6632/10000\n",
            "Explanating index 6633/10000\n",
            "Explanating index 6634/10000\n",
            "Explanating index 6635/10000\n",
            "Explanating index 6636/10000\n",
            "Explanating index 6637/10000\n",
            "Explanating index 6638/10000\n",
            "Explanating index 6639/10000\n",
            "Explanating index 6640/10000\n",
            "Explanating index 6641/10000\n",
            "Explanating index 6642/10000\n",
            "Explanating index 6643/10000\n",
            "Explanating index 6644/10000\n",
            "Explanating index 6645/10000\n",
            "Explanating index 6646/10000\n",
            "Explanating index 6647/10000\n",
            "Explanating index 6648/10000\n",
            "Explanating index 6649/10000\n",
            "Explanating index 6650/10000\n",
            "Explanating index 6651/10000\n",
            "Explanating index 6652/10000\n",
            "Explanating index 6653/10000\n",
            "Explanating index 6654/10000\n",
            "Explanating index 6655/10000\n",
            "Explanating index 6656/10000\n",
            "Explanating index 6657/10000\n",
            "Explanating index 6658/10000\n",
            "Explanating index 6659/10000\n",
            "Explanating index 6660/10000\n",
            "Explanating index 6661/10000\n",
            "Explanating index 6662/10000\n",
            "Explanating index 6663/10000\n",
            "Explanating index 6664/10000\n",
            "Explanating index 6665/10000\n",
            "Explanating index 6666/10000\n",
            "Explanating index 6667/10000\n",
            "Explanating index 6668/10000\n",
            "Explanating index 6669/10000\n",
            "Explanating index 6670/10000\n",
            "Explanating index 6671/10000\n",
            "Explanating index 6672/10000\n",
            "Explanating index 6673/10000\n",
            "Explanating index 6674/10000\n",
            "Explanating index 6675/10000\n",
            "Explanating index 6676/10000\n",
            "Explanating index 6677/10000\n",
            "Explanating index 6678/10000\n",
            "Explanating index 6679/10000\n",
            "Explanating index 6680/10000\n",
            "Explanating index 6681/10000\n",
            "Explanating index 6682/10000\n",
            "Explanating index 6683/10000\n",
            "Explanating index 6684/10000\n",
            "Explanating index 6685/10000\n",
            "Explanating index 6686/10000\n",
            "Explanating index 6687/10000\n",
            "Explanating index 6688/10000\n",
            "Explanating index 6689/10000\n",
            "Explanating index 6690/10000\n",
            "Explanating index 6691/10000\n",
            "Explanating index 6692/10000\n",
            "Explanating index 6693/10000\n",
            "Explanating index 6694/10000\n",
            "Explanating index 6695/10000\n",
            "Explanating index 6696/10000\n",
            "Explanating index 6697/10000\n",
            "Explanating index 6698/10000\n",
            "Explanating index 6699/10000\n",
            "Explanating index 6700/10000\n",
            "Explanating index 6701/10000\n",
            "Explanating index 6702/10000\n",
            "Explanating index 6703/10000\n",
            "Explanating index 6704/10000\n",
            "Explanating index 6705/10000\n",
            "Explanating index 6706/10000\n",
            "Explanating index 6707/10000\n",
            "Explanating index 6708/10000\n",
            "Explanating index 6709/10000\n",
            "Explanating index 6710/10000\n",
            "Explanating index 6711/10000\n",
            "Explanating index 6712/10000\n",
            "Explanating index 6713/10000\n",
            "Explanating index 6714/10000\n",
            "Explanating index 6715/10000\n",
            "Explanating index 6716/10000\n",
            "Explanating index 6717/10000\n",
            "Explanating index 6718/10000\n",
            "Explanating index 6719/10000\n",
            "Explanating index 6720/10000\n",
            "Explanating index 6721/10000\n",
            "Explanating index 6722/10000\n",
            "Explanating index 6723/10000\n",
            "Explanating index 6724/10000\n",
            "Explanating index 6725/10000\n",
            "Explanating index 6726/10000\n",
            "Explanating index 6727/10000\n",
            "Explanating index 6728/10000\n",
            "Explanating index 6729/10000\n",
            "Explanating index 6730/10000\n",
            "Explanating index 6731/10000\n",
            "Explanating index 6732/10000\n",
            "Explanating index 6733/10000\n",
            "Explanating index 6734/10000\n",
            "Explanating index 6735/10000\n",
            "Explanating index 6736/10000\n",
            "Explanating index 6737/10000\n",
            "Explanating index 6738/10000\n",
            "Explanating index 6739/10000\n",
            "Explanating index 6740/10000\n",
            "Explanating index 6741/10000\n",
            "Explanating index 6742/10000\n",
            "Explanating index 6743/10000\n",
            "Explanating index 6744/10000\n",
            "Explanating index 6745/10000\n",
            "Explanating index 6746/10000\n",
            "Explanating index 6747/10000\n",
            "Explanating index 6748/10000\n",
            "Explanating index 6749/10000\n",
            "Explanating index 6750/10000\n",
            "Explanating index 6751/10000\n",
            "Explanating index 6752/10000\n",
            "Explanating index 6753/10000\n",
            "Explanating index 6754/10000\n",
            "Explanating index 6755/10000\n",
            "Explanating index 6756/10000\n",
            "Explanating index 6757/10000\n",
            "Explanating index 6758/10000\n",
            "Explanating index 6759/10000\n",
            "Explanating index 6760/10000\n",
            "Explanating index 6761/10000\n",
            "Explanating index 6762/10000\n",
            "Explanating index 6763/10000\n",
            "Explanating index 6764/10000\n",
            "Explanating index 6765/10000\n",
            "Explanating index 6766/10000\n",
            "Explanating index 6767/10000\n",
            "Explanating index 6768/10000\n",
            "Explanating index 6769/10000\n",
            "Explanating index 6770/10000\n",
            "Explanating index 6771/10000\n",
            "Explanating index 6772/10000\n",
            "Explanating index 6773/10000\n",
            "Explanating index 6774/10000\n",
            "Explanating index 6775/10000\n",
            "Explanating index 6776/10000\n",
            "Explanating index 6777/10000\n",
            "Explanating index 6778/10000\n",
            "Explanating index 6779/10000\n",
            "Explanating index 6780/10000\n",
            "Explanating index 6781/10000\n",
            "Explanating index 6782/10000\n",
            "Explanating index 6783/10000\n",
            "Explanating index 6784/10000\n",
            "Explanating index 6785/10000\n",
            "Explanating index 6786/10000\n",
            "Explanating index 6787/10000\n",
            "Explanating index 6788/10000\n",
            "Explanating index 6789/10000\n",
            "Explanating index 6790/10000\n",
            "Explanating index 6791/10000\n",
            "Explanating index 6792/10000\n",
            "Explanating index 6793/10000\n",
            "Explanating index 6794/10000\n",
            "Explanating index 6795/10000\n",
            "Explanating index 6796/10000\n",
            "Explanating index 6797/10000\n",
            "Explanating index 6798/10000\n",
            "Explanating index 6799/10000\n",
            "Explanating index 6800/10000\n",
            "Explanating index 6801/10000\n",
            "Explanating index 6802/10000\n",
            "Explanating index 6803/10000\n",
            "Explanating index 6804/10000\n",
            "Explanating index 6805/10000\n",
            "Explanating index 6806/10000\n",
            "Explanating index 6807/10000\n",
            "Explanating index 6808/10000\n"
          ]
        },
        {
          "output_type": "error",
          "ename": "KeyboardInterrupt",
          "evalue": "ignored",
          "traceback": [
            "\u001b[0;31m---------------------------------------------------------------------------\u001b[0m",
            "\u001b[0;31mKeyboardInterrupt\u001b[0m                         Traceback (most recent call last)",
            "\u001b[0;32m<ipython-input-122-079c0ac35a4e>\u001b[0m in \u001b[0;36m<cell line: 23>\u001b[0;34m()\u001b[0m\n\u001b[1;32m     29\u001b[0m         \u001b[0mtext_to_explain\u001b[0m \u001b[0;34m=\u001b[0m \u001b[0mtext_to_explain\u001b[0m\u001b[0;34m[\u001b[0m\u001b[0;34m:\u001b[0m\u001b[0mmax_len\u001b[0m\u001b[0;34m]\u001b[0m\u001b[0;34m\u001b[0m\u001b[0;34m\u001b[0m\u001b[0m\n\u001b[1;32m     30\u001b[0m \u001b[0;34m\u001b[0m\u001b[0m\n\u001b[0;32m---> 31\u001b[0;31m     \u001b[0mexplanation\u001b[0m \u001b[0;34m=\u001b[0m \u001b[0mexplainer\u001b[0m\u001b[0;34m.\u001b[0m\u001b[0mexplain_instance\u001b[0m\u001b[0;34m(\u001b[0m\u001b[0mtext_to_explain\u001b[0m\u001b[0;34m,\u001b[0m \u001b[0mpredict_function\u001b[0m\u001b[0;34m,\u001b[0m \u001b[0mnum_samples\u001b[0m\u001b[0;34m=\u001b[0m\u001b[0;36m1100\u001b[0m\u001b[0;34m)\u001b[0m\u001b[0;34m\u001b[0m\u001b[0;34m\u001b[0m\u001b[0m\n\u001b[0m\u001b[1;32m     32\u001b[0m     \u001b[0mexplanation_list\u001b[0m \u001b[0;34m=\u001b[0m \u001b[0mexplanation\u001b[0m\u001b[0;34m.\u001b[0m\u001b[0mas_list\u001b[0m\u001b[0;34m(\u001b[0m\u001b[0;34m)\u001b[0m\u001b[0;34m\u001b[0m\u001b[0;34m\u001b[0m\u001b[0m\n\u001b[1;32m     33\u001b[0m \u001b[0;34m\u001b[0m\u001b[0m\n",
            "\u001b[0;32m/usr/local/lib/python3.10/dist-packages/lime/lime_text.py\u001b[0m in \u001b[0;36mexplain_instance\u001b[0;34m(self, text_instance, classifier_fn, labels, top_labels, num_features, num_samples, distance_metric, model_regressor)\u001b[0m\n\u001b[1;32m    411\u001b[0m                                         mask_string=self.mask_string))\n\u001b[1;32m    412\u001b[0m         \u001b[0mdomain_mapper\u001b[0m \u001b[0;34m=\u001b[0m \u001b[0mTextDomainMapper\u001b[0m\u001b[0;34m(\u001b[0m\u001b[0mindexed_string\u001b[0m\u001b[0;34m)\u001b[0m\u001b[0;34m\u001b[0m\u001b[0;34m\u001b[0m\u001b[0m\n\u001b[0;32m--> 413\u001b[0;31m         data, yss, distances = self.__data_labels_distances(\n\u001b[0m\u001b[1;32m    414\u001b[0m             \u001b[0mindexed_string\u001b[0m\u001b[0;34m,\u001b[0m \u001b[0mclassifier_fn\u001b[0m\u001b[0;34m,\u001b[0m \u001b[0mnum_samples\u001b[0m\u001b[0;34m,\u001b[0m\u001b[0;34m\u001b[0m\u001b[0;34m\u001b[0m\u001b[0m\n\u001b[1;32m    415\u001b[0m             distance_metric=distance_metric)\n",
            "\u001b[0;32m/usr/local/lib/python3.10/dist-packages/lime/lime_text.py\u001b[0m in \u001b[0;36m__data_labels_distances\u001b[0;34m(self, indexed_string, classifier_fn, num_samples, distance_metric)\u001b[0m\n\u001b[1;32m    480\u001b[0m             \u001b[0mdata\u001b[0m\u001b[0;34m[\u001b[0m\u001b[0mi\u001b[0m\u001b[0;34m,\u001b[0m \u001b[0minactive\u001b[0m\u001b[0;34m]\u001b[0m \u001b[0;34m=\u001b[0m \u001b[0;36m0\u001b[0m\u001b[0;34m\u001b[0m\u001b[0;34m\u001b[0m\u001b[0m\n\u001b[1;32m    481\u001b[0m             \u001b[0minverse_data\u001b[0m\u001b[0;34m.\u001b[0m\u001b[0mappend\u001b[0m\u001b[0;34m(\u001b[0m\u001b[0mindexed_string\u001b[0m\u001b[0;34m.\u001b[0m\u001b[0minverse_removing\u001b[0m\u001b[0;34m(\u001b[0m\u001b[0minactive\u001b[0m\u001b[0;34m)\u001b[0m\u001b[0;34m)\u001b[0m\u001b[0;34m\u001b[0m\u001b[0;34m\u001b[0m\u001b[0m\n\u001b[0;32m--> 482\u001b[0;31m         \u001b[0mlabels\u001b[0m \u001b[0;34m=\u001b[0m \u001b[0mclassifier_fn\u001b[0m\u001b[0;34m(\u001b[0m\u001b[0minverse_data\u001b[0m\u001b[0;34m)\u001b[0m\u001b[0;34m\u001b[0m\u001b[0;34m\u001b[0m\u001b[0m\n\u001b[0m\u001b[1;32m    483\u001b[0m         \u001b[0mdistances\u001b[0m \u001b[0;34m=\u001b[0m \u001b[0mdistance_fn\u001b[0m\u001b[0;34m(\u001b[0m\u001b[0msp\u001b[0m\u001b[0;34m.\u001b[0m\u001b[0msparse\u001b[0m\u001b[0;34m.\u001b[0m\u001b[0mcsr_matrix\u001b[0m\u001b[0;34m(\u001b[0m\u001b[0mdata\u001b[0m\u001b[0;34m)\u001b[0m\u001b[0;34m)\u001b[0m\u001b[0;34m\u001b[0m\u001b[0;34m\u001b[0m\u001b[0m\n\u001b[1;32m    484\u001b[0m         \u001b[0;32mreturn\u001b[0m \u001b[0mdata\u001b[0m\u001b[0;34m,\u001b[0m \u001b[0mlabels\u001b[0m\u001b[0;34m,\u001b[0m \u001b[0mdistances\u001b[0m\u001b[0;34m\u001b[0m\u001b[0;34m\u001b[0m\u001b[0m\n",
            "\u001b[0;32m<ipython-input-122-079c0ac35a4e>\u001b[0m in \u001b[0;36mpredict_function\u001b[0;34m(text_list)\u001b[0m\n\u001b[1;32m     14\u001b[0m         \u001b[0mtest_encodings\u001b[0m \u001b[0;34m=\u001b[0m \u001b[0mtokenizer\u001b[0m\u001b[0;34m(\u001b[0m\u001b[0mtext\u001b[0m\u001b[0;34m,\u001b[0m \u001b[0mtruncation\u001b[0m\u001b[0;34m=\u001b[0m\u001b[0;32mTrue\u001b[0m\u001b[0;34m,\u001b[0m \u001b[0mpadding\u001b[0m\u001b[0;34m=\u001b[0m\u001b[0;32mTrue\u001b[0m\u001b[0;34m,\u001b[0m \u001b[0mreturn_tensors\u001b[0m\u001b[0;34m=\u001b[0m\u001b[0;34m'pt'\u001b[0m\u001b[0;34m)\u001b[0m\u001b[0;34m\u001b[0m\u001b[0;34m\u001b[0m\u001b[0m\n\u001b[1;32m     15\u001b[0m         \u001b[0;32mwith\u001b[0m \u001b[0mtorch\u001b[0m\u001b[0;34m.\u001b[0m\u001b[0mno_grad\u001b[0m\u001b[0;34m(\u001b[0m\u001b[0;34m)\u001b[0m\u001b[0;34m:\u001b[0m\u001b[0;34m\u001b[0m\u001b[0;34m\u001b[0m\u001b[0m\n\u001b[0;32m---> 16\u001b[0;31m             \u001b[0moutput\u001b[0m \u001b[0;34m=\u001b[0m \u001b[0mDistilBERT\u001b[0m\u001b[0;34m(\u001b[0m\u001b[0mtest_encodings\u001b[0m\u001b[0;34m[\u001b[0m\u001b[0;34m'input_ids'\u001b[0m\u001b[0;34m]\u001b[0m\u001b[0;34m.\u001b[0m\u001b[0mto\u001b[0m\u001b[0;34m(\u001b[0m\u001b[0mDistilBERT\u001b[0m\u001b[0;34m.\u001b[0m\u001b[0mdevice\u001b[0m\u001b[0;34m)\u001b[0m\u001b[0;34m,\u001b[0m \u001b[0mtest_encodings\u001b[0m\u001b[0;34m[\u001b[0m\u001b[0;34m'attention_mask'\u001b[0m\u001b[0;34m]\u001b[0m\u001b[0;34m.\u001b[0m\u001b[0mto\u001b[0m\u001b[0;34m(\u001b[0m\u001b[0mDistilBERT\u001b[0m\u001b[0;34m.\u001b[0m\u001b[0mdevice\u001b[0m\u001b[0;34m)\u001b[0m\u001b[0;34m)\u001b[0m\u001b[0;34m\u001b[0m\u001b[0;34m\u001b[0m\u001b[0m\n\u001b[0m\u001b[1;32m     17\u001b[0m         \u001b[0mpredicted_probabilities\u001b[0m\u001b[0;34m.\u001b[0m\u001b[0mappend\u001b[0m\u001b[0;34m(\u001b[0m\u001b[0mtorch\u001b[0m\u001b[0;34m.\u001b[0m\u001b[0msoftmax\u001b[0m\u001b[0;34m(\u001b[0m\u001b[0moutput\u001b[0m\u001b[0;34m.\u001b[0m\u001b[0mlogits\u001b[0m\u001b[0;34m,\u001b[0m \u001b[0mdim\u001b[0m\u001b[0;34m=\u001b[0m\u001b[0;36m1\u001b[0m\u001b[0;34m)\u001b[0m\u001b[0;34m.\u001b[0m\u001b[0mcpu\u001b[0m\u001b[0;34m(\u001b[0m\u001b[0;34m)\u001b[0m\u001b[0;34m.\u001b[0m\u001b[0mdetach\u001b[0m\u001b[0;34m(\u001b[0m\u001b[0;34m)\u001b[0m\u001b[0;34m.\u001b[0m\u001b[0mnumpy\u001b[0m\u001b[0;34m(\u001b[0m\u001b[0;34m)\u001b[0m\u001b[0;34m[\u001b[0m\u001b[0;36m0\u001b[0m\u001b[0;34m]\u001b[0m\u001b[0;34m)\u001b[0m\u001b[0;34m\u001b[0m\u001b[0;34m\u001b[0m\u001b[0m\n\u001b[1;32m     18\u001b[0m     \u001b[0;32mreturn\u001b[0m \u001b[0mnp\u001b[0m\u001b[0;34m.\u001b[0m\u001b[0marray\u001b[0m\u001b[0;34m(\u001b[0m\u001b[0mpredicted_probabilities\u001b[0m\u001b[0;34m)\u001b[0m\u001b[0;34m\u001b[0m\u001b[0;34m\u001b[0m\u001b[0m\n",
            "\u001b[0;32m/usr/local/lib/python3.10/dist-packages/torch/nn/modules/module.py\u001b[0m in \u001b[0;36m_call_impl\u001b[0;34m(self, *args, **kwargs)\u001b[0m\n\u001b[1;32m   1499\u001b[0m                 \u001b[0;32mor\u001b[0m \u001b[0m_global_backward_pre_hooks\u001b[0m \u001b[0;32mor\u001b[0m \u001b[0m_global_backward_hooks\u001b[0m\u001b[0;34m\u001b[0m\u001b[0;34m\u001b[0m\u001b[0m\n\u001b[1;32m   1500\u001b[0m                 or _global_forward_hooks or _global_forward_pre_hooks):\n\u001b[0;32m-> 1501\u001b[0;31m             \u001b[0;32mreturn\u001b[0m \u001b[0mforward_call\u001b[0m\u001b[0;34m(\u001b[0m\u001b[0;34m*\u001b[0m\u001b[0margs\u001b[0m\u001b[0;34m,\u001b[0m \u001b[0;34m**\u001b[0m\u001b[0mkwargs\u001b[0m\u001b[0;34m)\u001b[0m\u001b[0;34m\u001b[0m\u001b[0;34m\u001b[0m\u001b[0m\n\u001b[0m\u001b[1;32m   1502\u001b[0m         \u001b[0;31m# Do not call functions when jit is used\u001b[0m\u001b[0;34m\u001b[0m\u001b[0;34m\u001b[0m\u001b[0m\n\u001b[1;32m   1503\u001b[0m         \u001b[0mfull_backward_hooks\u001b[0m\u001b[0;34m,\u001b[0m \u001b[0mnon_full_backward_hooks\u001b[0m \u001b[0;34m=\u001b[0m \u001b[0;34m[\u001b[0m\u001b[0;34m]\u001b[0m\u001b[0;34m,\u001b[0m \u001b[0;34m[\u001b[0m\u001b[0;34m]\u001b[0m\u001b[0;34m\u001b[0m\u001b[0;34m\u001b[0m\u001b[0m\n",
            "\u001b[0;32m/usr/local/lib/python3.10/dist-packages/transformers/models/distilbert/modeling_distilbert.py\u001b[0m in \u001b[0;36mforward\u001b[0;34m(self, input_ids, attention_mask, head_mask, inputs_embeds, labels, output_attentions, output_hidden_states, return_dict)\u001b[0m\n\u001b[1;32m    761\u001b[0m         \u001b[0mreturn_dict\u001b[0m \u001b[0;34m=\u001b[0m \u001b[0mreturn_dict\u001b[0m \u001b[0;32mif\u001b[0m \u001b[0mreturn_dict\u001b[0m \u001b[0;32mis\u001b[0m \u001b[0;32mnot\u001b[0m \u001b[0;32mNone\u001b[0m \u001b[0;32melse\u001b[0m \u001b[0mself\u001b[0m\u001b[0;34m.\u001b[0m\u001b[0mconfig\u001b[0m\u001b[0;34m.\u001b[0m\u001b[0muse_return_dict\u001b[0m\u001b[0;34m\u001b[0m\u001b[0;34m\u001b[0m\u001b[0m\n\u001b[1;32m    762\u001b[0m \u001b[0;34m\u001b[0m\u001b[0m\n\u001b[0;32m--> 763\u001b[0;31m         distilbert_output = self.distilbert(\n\u001b[0m\u001b[1;32m    764\u001b[0m             \u001b[0minput_ids\u001b[0m\u001b[0;34m=\u001b[0m\u001b[0minput_ids\u001b[0m\u001b[0;34m,\u001b[0m\u001b[0;34m\u001b[0m\u001b[0;34m\u001b[0m\u001b[0m\n\u001b[1;32m    765\u001b[0m             \u001b[0mattention_mask\u001b[0m\u001b[0;34m=\u001b[0m\u001b[0mattention_mask\u001b[0m\u001b[0;34m,\u001b[0m\u001b[0;34m\u001b[0m\u001b[0;34m\u001b[0m\u001b[0m\n",
            "\u001b[0;32m/usr/local/lib/python3.10/dist-packages/torch/nn/modules/module.py\u001b[0m in \u001b[0;36m_call_impl\u001b[0;34m(self, *args, **kwargs)\u001b[0m\n\u001b[1;32m   1499\u001b[0m                 \u001b[0;32mor\u001b[0m \u001b[0m_global_backward_pre_hooks\u001b[0m \u001b[0;32mor\u001b[0m \u001b[0m_global_backward_hooks\u001b[0m\u001b[0;34m\u001b[0m\u001b[0;34m\u001b[0m\u001b[0m\n\u001b[1;32m   1500\u001b[0m                 or _global_forward_hooks or _global_forward_pre_hooks):\n\u001b[0;32m-> 1501\u001b[0;31m             \u001b[0;32mreturn\u001b[0m \u001b[0mforward_call\u001b[0m\u001b[0;34m(\u001b[0m\u001b[0;34m*\u001b[0m\u001b[0margs\u001b[0m\u001b[0;34m,\u001b[0m \u001b[0;34m**\u001b[0m\u001b[0mkwargs\u001b[0m\u001b[0;34m)\u001b[0m\u001b[0;34m\u001b[0m\u001b[0;34m\u001b[0m\u001b[0m\n\u001b[0m\u001b[1;32m   1502\u001b[0m         \u001b[0;31m# Do not call functions when jit is used\u001b[0m\u001b[0;34m\u001b[0m\u001b[0;34m\u001b[0m\u001b[0m\n\u001b[1;32m   1503\u001b[0m         \u001b[0mfull_backward_hooks\u001b[0m\u001b[0;34m,\u001b[0m \u001b[0mnon_full_backward_hooks\u001b[0m \u001b[0;34m=\u001b[0m \u001b[0;34m[\u001b[0m\u001b[0;34m]\u001b[0m\u001b[0;34m,\u001b[0m \u001b[0;34m[\u001b[0m\u001b[0;34m]\u001b[0m\u001b[0;34m\u001b[0m\u001b[0;34m\u001b[0m\u001b[0m\n",
            "\u001b[0;32m/usr/local/lib/python3.10/dist-packages/transformers/models/distilbert/modeling_distilbert.py\u001b[0m in \u001b[0;36mforward\u001b[0;34m(self, input_ids, attention_mask, head_mask, inputs_embeds, output_attentions, output_hidden_states, return_dict)\u001b[0m\n\u001b[1;32m    581\u001b[0m         \u001b[0membeddings\u001b[0m \u001b[0;34m=\u001b[0m \u001b[0mself\u001b[0m\u001b[0;34m.\u001b[0m\u001b[0membeddings\u001b[0m\u001b[0;34m(\u001b[0m\u001b[0minput_ids\u001b[0m\u001b[0;34m,\u001b[0m \u001b[0minputs_embeds\u001b[0m\u001b[0;34m)\u001b[0m  \u001b[0;31m# (bs, seq_length, dim)\u001b[0m\u001b[0;34m\u001b[0m\u001b[0;34m\u001b[0m\u001b[0m\n\u001b[1;32m    582\u001b[0m \u001b[0;34m\u001b[0m\u001b[0m\n\u001b[0;32m--> 583\u001b[0;31m         return self.transformer(\n\u001b[0m\u001b[1;32m    584\u001b[0m             \u001b[0mx\u001b[0m\u001b[0;34m=\u001b[0m\u001b[0membeddings\u001b[0m\u001b[0;34m,\u001b[0m\u001b[0;34m\u001b[0m\u001b[0;34m\u001b[0m\u001b[0m\n\u001b[1;32m    585\u001b[0m             \u001b[0mattn_mask\u001b[0m\u001b[0;34m=\u001b[0m\u001b[0mattention_mask\u001b[0m\u001b[0;34m,\u001b[0m\u001b[0;34m\u001b[0m\u001b[0;34m\u001b[0m\u001b[0m\n",
            "\u001b[0;32m/usr/local/lib/python3.10/dist-packages/torch/nn/modules/module.py\u001b[0m in \u001b[0;36m_call_impl\u001b[0;34m(self, *args, **kwargs)\u001b[0m\n\u001b[1;32m   1499\u001b[0m                 \u001b[0;32mor\u001b[0m \u001b[0m_global_backward_pre_hooks\u001b[0m \u001b[0;32mor\u001b[0m \u001b[0m_global_backward_hooks\u001b[0m\u001b[0;34m\u001b[0m\u001b[0;34m\u001b[0m\u001b[0m\n\u001b[1;32m   1500\u001b[0m                 or _global_forward_hooks or _global_forward_pre_hooks):\n\u001b[0;32m-> 1501\u001b[0;31m             \u001b[0;32mreturn\u001b[0m \u001b[0mforward_call\u001b[0m\u001b[0;34m(\u001b[0m\u001b[0;34m*\u001b[0m\u001b[0margs\u001b[0m\u001b[0;34m,\u001b[0m \u001b[0;34m**\u001b[0m\u001b[0mkwargs\u001b[0m\u001b[0;34m)\u001b[0m\u001b[0;34m\u001b[0m\u001b[0;34m\u001b[0m\u001b[0m\n\u001b[0m\u001b[1;32m   1502\u001b[0m         \u001b[0;31m# Do not call functions when jit is used\u001b[0m\u001b[0;34m\u001b[0m\u001b[0;34m\u001b[0m\u001b[0m\n\u001b[1;32m   1503\u001b[0m         \u001b[0mfull_backward_hooks\u001b[0m\u001b[0;34m,\u001b[0m \u001b[0mnon_full_backward_hooks\u001b[0m \u001b[0;34m=\u001b[0m \u001b[0;34m[\u001b[0m\u001b[0;34m]\u001b[0m\u001b[0;34m,\u001b[0m \u001b[0;34m[\u001b[0m\u001b[0;34m]\u001b[0m\u001b[0;34m\u001b[0m\u001b[0;34m\u001b[0m\u001b[0m\n",
            "\u001b[0;32m/usr/local/lib/python3.10/dist-packages/transformers/models/distilbert/modeling_distilbert.py\u001b[0m in \u001b[0;36mforward\u001b[0;34m(self, x, attn_mask, head_mask, output_attentions, output_hidden_states, return_dict)\u001b[0m\n\u001b[1;32m    357\u001b[0m                 \u001b[0mall_hidden_states\u001b[0m \u001b[0;34m=\u001b[0m \u001b[0mall_hidden_states\u001b[0m \u001b[0;34m+\u001b[0m \u001b[0;34m(\u001b[0m\u001b[0mhidden_state\u001b[0m\u001b[0;34m,\u001b[0m\u001b[0;34m)\u001b[0m\u001b[0;34m\u001b[0m\u001b[0;34m\u001b[0m\u001b[0m\n\u001b[1;32m    358\u001b[0m \u001b[0;34m\u001b[0m\u001b[0m\n\u001b[0;32m--> 359\u001b[0;31m             layer_outputs = layer_module(\n\u001b[0m\u001b[1;32m    360\u001b[0m                 \u001b[0mx\u001b[0m\u001b[0;34m=\u001b[0m\u001b[0mhidden_state\u001b[0m\u001b[0;34m,\u001b[0m \u001b[0mattn_mask\u001b[0m\u001b[0;34m=\u001b[0m\u001b[0mattn_mask\u001b[0m\u001b[0;34m,\u001b[0m \u001b[0mhead_mask\u001b[0m\u001b[0;34m=\u001b[0m\u001b[0mhead_mask\u001b[0m\u001b[0;34m[\u001b[0m\u001b[0mi\u001b[0m\u001b[0;34m]\u001b[0m\u001b[0;34m,\u001b[0m \u001b[0moutput_attentions\u001b[0m\u001b[0;34m=\u001b[0m\u001b[0moutput_attentions\u001b[0m\u001b[0;34m\u001b[0m\u001b[0;34m\u001b[0m\u001b[0m\n\u001b[1;32m    361\u001b[0m             )\n",
            "\u001b[0;32m/usr/local/lib/python3.10/dist-packages/torch/nn/modules/module.py\u001b[0m in \u001b[0;36m_call_impl\u001b[0;34m(self, *args, **kwargs)\u001b[0m\n\u001b[1;32m   1499\u001b[0m                 \u001b[0;32mor\u001b[0m \u001b[0m_global_backward_pre_hooks\u001b[0m \u001b[0;32mor\u001b[0m \u001b[0m_global_backward_hooks\u001b[0m\u001b[0;34m\u001b[0m\u001b[0;34m\u001b[0m\u001b[0m\n\u001b[1;32m   1500\u001b[0m                 or _global_forward_hooks or _global_forward_pre_hooks):\n\u001b[0;32m-> 1501\u001b[0;31m             \u001b[0;32mreturn\u001b[0m \u001b[0mforward_call\u001b[0m\u001b[0;34m(\u001b[0m\u001b[0;34m*\u001b[0m\u001b[0margs\u001b[0m\u001b[0;34m,\u001b[0m \u001b[0;34m**\u001b[0m\u001b[0mkwargs\u001b[0m\u001b[0;34m)\u001b[0m\u001b[0;34m\u001b[0m\u001b[0;34m\u001b[0m\u001b[0m\n\u001b[0m\u001b[1;32m   1502\u001b[0m         \u001b[0;31m# Do not call functions when jit is used\u001b[0m\u001b[0;34m\u001b[0m\u001b[0;34m\u001b[0m\u001b[0m\n\u001b[1;32m   1503\u001b[0m         \u001b[0mfull_backward_hooks\u001b[0m\u001b[0;34m,\u001b[0m \u001b[0mnon_full_backward_hooks\u001b[0m \u001b[0;34m=\u001b[0m \u001b[0;34m[\u001b[0m\u001b[0;34m]\u001b[0m\u001b[0;34m,\u001b[0m \u001b[0;34m[\u001b[0m\u001b[0;34m]\u001b[0m\u001b[0;34m\u001b[0m\u001b[0;34m\u001b[0m\u001b[0m\n",
            "\u001b[0;31mKeyboardInterrupt\u001b[0m: "
          ]
        }
      ],
      "source": [
        "#actual calculation of f1 score for surrogate model\n",
        "from transformers import AutoTokenizer\n",
        "from lime.lime_text import LimeTextExplainer\n",
        "import torch\n",
        "import numpy as np\n",
        "import pandas as pd\n",
        "index_all=10000\n",
        "explainer = LimeTextExplainer(class_names=[\"negative\", \"positive\"])\n",
        "tokenizer = AutoTokenizer.from_pretrained('distilbert-base-uncased')\n",
        "\n",
        "def predict_function(text_list):\n",
        "    predicted_probabilities = []\n",
        "    for text in text_list:\n",
        "        test_encodings = tokenizer(text, truncation=True, padding=True, return_tensors='pt')\n",
        "        with torch.no_grad():\n",
        "            output = DistilBERT(test_encodings['input_ids'].to(DistilBERT.device), test_encodings['attention_mask'].to(DistilBERT.device))\n",
        "        predicted_probabilities.append(torch.softmax(output.logits, dim=1).cpu().detach().numpy()[0])\n",
        "    return np.array(predicted_probabilities)\n",
        "\n",
        "text_data = test_dataset['text'][:index_all]\n",
        "results_df = pd.DataFrame(columns=[\"review_index\", \"word_count\", \"positive_count\", \"negative_count\", \"sentiment_score\", \"label\"])\n",
        "\n",
        "for index, text in enumerate(text_data):\n",
        "    explainer = LimeTextExplainer(class_names=[\"negative\", \"positive\"],kernel_width=1)\n",
        "    text_to_explain = text\n",
        "\n",
        "    max_len = 200\n",
        "    if len(text_to_explain) > max_len:\n",
        "        text_to_explain = text_to_explain[:max_len]\n",
        "\n",
        "    explanation = explainer.explain_instance(text_to_explain, predict_function, num_samples=1100)\n",
        "    explanation_list = explanation.as_list()\n",
        "\n",
        "    #print('Explanation for index {}: {}'.format(index, explanation.as_list()))\n",
        "    print('Explanating index {}/{}'.format(index,index_all))\n",
        "\n",
        "    positive_count = 0\n",
        "    negative_count = 0\n",
        "    sentiment_score = 0\n",
        "\n",
        "    for word, weight in explanation_list:\n",
        "        if weight >= 0:\n",
        "            positive_count += 1\n",
        "            sentiment_score += weight\n",
        "        else:\n",
        "            negative_count += 1\n",
        "            sentiment_score += weight\n",
        "\n",
        "    # Determine a threshold for converting sentiment scores into class labels\n",
        "    sentiment_threshold = 0\n",
        "\n",
        "    if sentiment_score > sentiment_threshold:\n",
        "        label = \"positive\"\n",
        "    else:\n",
        "        label = \"negative\"\n",
        "\n",
        "    word_count = len(text_to_explain.split())\n",
        "    new_row = {\"review_index\": index, \"word_count\": word_count,\n",
        "           \"positive_count\": positive_count, \"negative_count\": negative_count,\n",
        "           \"sentiment_score\": sentiment_score, \"label\": label}\n",
        "    results_df = pd.concat([results_df, pd.DataFrame(new_row, index=[0])], ignore_index=True)\n",
        "print(results_df)\n"
      ]
    },
    {
      "cell_type": "code",
      "source": [],
      "metadata": {
        "id": "NVsvH0KxA3zM"
      },
      "execution_count": null,
      "outputs": []
    },
    {
      "cell_type": "code",
      "execution_count": 123,
      "metadata": {
        "id": "nSKMf5wUAj_q"
      },
      "outputs": [],
      "source": [
        "results_df.to_csv('SA_transformer10000.csv', index=False)"
      ]
    },
    {
      "cell_type": "code",
      "source": [
        "from google.colab import files\n",
        "\n",
        "files.download('SA_transformer10000.csv')"
      ],
      "metadata": {
        "colab": {
          "base_uri": "https://localhost:8080/",
          "height": 17
        },
        "id": "G4Z4XKtKT2T2",
        "outputId": "322d5e64-7730-43f9-d70e-a56afd59a5c4"
      },
      "execution_count": 124,
      "outputs": [
        {
          "output_type": "display_data",
          "data": {
            "text/plain": [
              "<IPython.core.display.Javascript object>"
            ],
            "application/javascript": [
              "\n",
              "    async function download(id, filename, size) {\n",
              "      if (!google.colab.kernel.accessAllowed) {\n",
              "        return;\n",
              "      }\n",
              "      const div = document.createElement('div');\n",
              "      const label = document.createElement('label');\n",
              "      label.textContent = `Downloading \"${filename}\": `;\n",
              "      div.appendChild(label);\n",
              "      const progress = document.createElement('progress');\n",
              "      progress.max = size;\n",
              "      div.appendChild(progress);\n",
              "      document.body.appendChild(div);\n",
              "\n",
              "      const buffers = [];\n",
              "      let downloaded = 0;\n",
              "\n",
              "      const channel = await google.colab.kernel.comms.open(id);\n",
              "      // Send a message to notify the kernel that we're ready.\n",
              "      channel.send({})\n",
              "\n",
              "      for await (const message of channel.messages) {\n",
              "        // Send a message to notify the kernel that we're ready.\n",
              "        channel.send({})\n",
              "        if (message.buffers) {\n",
              "          for (const buffer of message.buffers) {\n",
              "            buffers.push(buffer);\n",
              "            downloaded += buffer.byteLength;\n",
              "            progress.value = downloaded;\n",
              "          }\n",
              "        }\n",
              "      }\n",
              "      const blob = new Blob(buffers, {type: 'application/binary'});\n",
              "      const a = document.createElement('a');\n",
              "      a.href = window.URL.createObjectURL(blob);\n",
              "      a.download = filename;\n",
              "      div.appendChild(a);\n",
              "      a.click();\n",
              "      div.remove();\n",
              "    }\n",
              "  "
            ]
          },
          "metadata": {}
        },
        {
          "output_type": "display_data",
          "data": {
            "text/plain": [
              "<IPython.core.display.Javascript object>"
            ],
            "application/javascript": [
              "download(\"download_bd67d093-ea58-4d8b-9cf0-f6973ac17d00\", \"SA_transformer10000.csv\", 289300)"
            ]
          },
          "metadata": {}
        }
      ]
    },
    {
      "cell_type": "code",
      "source": [
        "results_df"
      ],
      "metadata": {
        "colab": {
          "base_uri": "https://localhost:8080/",
          "height": 488
        },
        "id": "aamRVgB1CDds",
        "outputId": "9df3c67c-1d0d-4bfd-f280-df8aa25ad54e"
      },
      "execution_count": 139,
      "outputs": [
        {
          "output_type": "execute_result",
          "data": {
            "text/plain": [
              "      review_index  word_count  positive_count  negative_count  \\\n",
              "0                0          37               6               4   \n",
              "1                1          34               6               4   \n",
              "2                2          38               4               6   \n",
              "3                3          32               1               9   \n",
              "4                4          39               4               6   \n",
              "...            ...         ...             ...             ...   \n",
              "6804          6804          37               6               4   \n",
              "6805          6805          38               8               2   \n",
              "6806          6806          38               8               2   \n",
              "6807          6807          35               3               7   \n",
              "6808          6808          39               6               4   \n",
              "\n",
              "      sentiment_score     label  positive_percentage  negative_percentage  \n",
              "0            0.002344  positive             0.162162             0.108108  \n",
              "1            0.178417  positive             0.176471             0.117647  \n",
              "2           -0.013636  negative             0.105263             0.157895  \n",
              "3           -0.091742  negative             0.031250             0.281250  \n",
              "4            0.327029  positive             0.102564             0.153846  \n",
              "...               ...       ...                  ...                  ...  \n",
              "6804        -0.000031  negative             0.162162             0.108108  \n",
              "6805        -0.006273  negative             0.210526             0.052632  \n",
              "6806         0.044961  positive             0.210526             0.052632  \n",
              "6807        -0.000063  negative             0.085714             0.200000  \n",
              "6808         0.448436  positive             0.153846             0.102564  \n",
              "\n",
              "[6809 rows x 8 columns]"
            ],
            "text/html": [
              "\n",
              "  <div id=\"df-7acaedcd-ea7a-4e39-bdaa-e98f27f62c66\">\n",
              "    <div class=\"colab-df-container\">\n",
              "      <div>\n",
              "<style scoped>\n",
              "    .dataframe tbody tr th:only-of-type {\n",
              "        vertical-align: middle;\n",
              "    }\n",
              "\n",
              "    .dataframe tbody tr th {\n",
              "        vertical-align: top;\n",
              "    }\n",
              "\n",
              "    .dataframe thead th {\n",
              "        text-align: right;\n",
              "    }\n",
              "</style>\n",
              "<table border=\"1\" class=\"dataframe\">\n",
              "  <thead>\n",
              "    <tr style=\"text-align: right;\">\n",
              "      <th></th>\n",
              "      <th>review_index</th>\n",
              "      <th>word_count</th>\n",
              "      <th>positive_count</th>\n",
              "      <th>negative_count</th>\n",
              "      <th>sentiment_score</th>\n",
              "      <th>label</th>\n",
              "      <th>positive_percentage</th>\n",
              "      <th>negative_percentage</th>\n",
              "    </tr>\n",
              "  </thead>\n",
              "  <tbody>\n",
              "    <tr>\n",
              "      <th>0</th>\n",
              "      <td>0</td>\n",
              "      <td>37</td>\n",
              "      <td>6</td>\n",
              "      <td>4</td>\n",
              "      <td>0.002344</td>\n",
              "      <td>positive</td>\n",
              "      <td>0.162162</td>\n",
              "      <td>0.108108</td>\n",
              "    </tr>\n",
              "    <tr>\n",
              "      <th>1</th>\n",
              "      <td>1</td>\n",
              "      <td>34</td>\n",
              "      <td>6</td>\n",
              "      <td>4</td>\n",
              "      <td>0.178417</td>\n",
              "      <td>positive</td>\n",
              "      <td>0.176471</td>\n",
              "      <td>0.117647</td>\n",
              "    </tr>\n",
              "    <tr>\n",
              "      <th>2</th>\n",
              "      <td>2</td>\n",
              "      <td>38</td>\n",
              "      <td>4</td>\n",
              "      <td>6</td>\n",
              "      <td>-0.013636</td>\n",
              "      <td>negative</td>\n",
              "      <td>0.105263</td>\n",
              "      <td>0.157895</td>\n",
              "    </tr>\n",
              "    <tr>\n",
              "      <th>3</th>\n",
              "      <td>3</td>\n",
              "      <td>32</td>\n",
              "      <td>1</td>\n",
              "      <td>9</td>\n",
              "      <td>-0.091742</td>\n",
              "      <td>negative</td>\n",
              "      <td>0.031250</td>\n",
              "      <td>0.281250</td>\n",
              "    </tr>\n",
              "    <tr>\n",
              "      <th>4</th>\n",
              "      <td>4</td>\n",
              "      <td>39</td>\n",
              "      <td>4</td>\n",
              "      <td>6</td>\n",
              "      <td>0.327029</td>\n",
              "      <td>positive</td>\n",
              "      <td>0.102564</td>\n",
              "      <td>0.153846</td>\n",
              "    </tr>\n",
              "    <tr>\n",
              "      <th>...</th>\n",
              "      <td>...</td>\n",
              "      <td>...</td>\n",
              "      <td>...</td>\n",
              "      <td>...</td>\n",
              "      <td>...</td>\n",
              "      <td>...</td>\n",
              "      <td>...</td>\n",
              "      <td>...</td>\n",
              "    </tr>\n",
              "    <tr>\n",
              "      <th>6804</th>\n",
              "      <td>6804</td>\n",
              "      <td>37</td>\n",
              "      <td>6</td>\n",
              "      <td>4</td>\n",
              "      <td>-0.000031</td>\n",
              "      <td>negative</td>\n",
              "      <td>0.162162</td>\n",
              "      <td>0.108108</td>\n",
              "    </tr>\n",
              "    <tr>\n",
              "      <th>6805</th>\n",
              "      <td>6805</td>\n",
              "      <td>38</td>\n",
              "      <td>8</td>\n",
              "      <td>2</td>\n",
              "      <td>-0.006273</td>\n",
              "      <td>negative</td>\n",
              "      <td>0.210526</td>\n",
              "      <td>0.052632</td>\n",
              "    </tr>\n",
              "    <tr>\n",
              "      <th>6806</th>\n",
              "      <td>6806</td>\n",
              "      <td>38</td>\n",
              "      <td>8</td>\n",
              "      <td>2</td>\n",
              "      <td>0.044961</td>\n",
              "      <td>positive</td>\n",
              "      <td>0.210526</td>\n",
              "      <td>0.052632</td>\n",
              "    </tr>\n",
              "    <tr>\n",
              "      <th>6807</th>\n",
              "      <td>6807</td>\n",
              "      <td>35</td>\n",
              "      <td>3</td>\n",
              "      <td>7</td>\n",
              "      <td>-0.000063</td>\n",
              "      <td>negative</td>\n",
              "      <td>0.085714</td>\n",
              "      <td>0.200000</td>\n",
              "    </tr>\n",
              "    <tr>\n",
              "      <th>6808</th>\n",
              "      <td>6808</td>\n",
              "      <td>39</td>\n",
              "      <td>6</td>\n",
              "      <td>4</td>\n",
              "      <td>0.448436</td>\n",
              "      <td>positive</td>\n",
              "      <td>0.153846</td>\n",
              "      <td>0.102564</td>\n",
              "    </tr>\n",
              "  </tbody>\n",
              "</table>\n",
              "<p>6809 rows × 8 columns</p>\n",
              "</div>\n",
              "      <button class=\"colab-df-convert\" onclick=\"convertToInteractive('df-7acaedcd-ea7a-4e39-bdaa-e98f27f62c66')\"\n",
              "              title=\"Convert this dataframe to an interactive table.\"\n",
              "              style=\"display:none;\">\n",
              "        \n",
              "  <svg xmlns=\"http://www.w3.org/2000/svg\" height=\"24px\"viewBox=\"0 0 24 24\"\n",
              "       width=\"24px\">\n",
              "    <path d=\"M0 0h24v24H0V0z\" fill=\"none\"/>\n",
              "    <path d=\"M18.56 5.44l.94 2.06.94-2.06 2.06-.94-2.06-.94-.94-2.06-.94 2.06-2.06.94zm-11 1L8.5 8.5l.94-2.06 2.06-.94-2.06-.94L8.5 2.5l-.94 2.06-2.06.94zm10 10l.94 2.06.94-2.06 2.06-.94-2.06-.94-.94-2.06-.94 2.06-2.06.94z\"/><path d=\"M17.41 7.96l-1.37-1.37c-.4-.4-.92-.59-1.43-.59-.52 0-1.04.2-1.43.59L10.3 9.45l-7.72 7.72c-.78.78-.78 2.05 0 2.83L4 21.41c.39.39.9.59 1.41.59.51 0 1.02-.2 1.41-.59l7.78-7.78 2.81-2.81c.8-.78.8-2.07 0-2.86zM5.41 20L4 18.59l7.72-7.72 1.47 1.35L5.41 20z\"/>\n",
              "  </svg>\n",
              "      </button>\n",
              "      \n",
              "  <style>\n",
              "    .colab-df-container {\n",
              "      display:flex;\n",
              "      flex-wrap:wrap;\n",
              "      gap: 12px;\n",
              "    }\n",
              "\n",
              "    .colab-df-convert {\n",
              "      background-color: #E8F0FE;\n",
              "      border: none;\n",
              "      border-radius: 50%;\n",
              "      cursor: pointer;\n",
              "      display: none;\n",
              "      fill: #1967D2;\n",
              "      height: 32px;\n",
              "      padding: 0 0 0 0;\n",
              "      width: 32px;\n",
              "    }\n",
              "\n",
              "    .colab-df-convert:hover {\n",
              "      background-color: #E2EBFA;\n",
              "      box-shadow: 0px 1px 2px rgba(60, 64, 67, 0.3), 0px 1px 3px 1px rgba(60, 64, 67, 0.15);\n",
              "      fill: #174EA6;\n",
              "    }\n",
              "\n",
              "    [theme=dark] .colab-df-convert {\n",
              "      background-color: #3B4455;\n",
              "      fill: #D2E3FC;\n",
              "    }\n",
              "\n",
              "    [theme=dark] .colab-df-convert:hover {\n",
              "      background-color: #434B5C;\n",
              "      box-shadow: 0px 1px 3px 1px rgba(0, 0, 0, 0.15);\n",
              "      filter: drop-shadow(0px 1px 2px rgba(0, 0, 0, 0.3));\n",
              "      fill: #FFFFFF;\n",
              "    }\n",
              "  </style>\n",
              "\n",
              "      <script>\n",
              "        const buttonEl =\n",
              "          document.querySelector('#df-7acaedcd-ea7a-4e39-bdaa-e98f27f62c66 button.colab-df-convert');\n",
              "        buttonEl.style.display =\n",
              "          google.colab.kernel.accessAllowed ? 'block' : 'none';\n",
              "\n",
              "        async function convertToInteractive(key) {\n",
              "          const element = document.querySelector('#df-7acaedcd-ea7a-4e39-bdaa-e98f27f62c66');\n",
              "          const dataTable =\n",
              "            await google.colab.kernel.invokeFunction('convertToInteractive',\n",
              "                                                     [key], {});\n",
              "          if (!dataTable) return;\n",
              "\n",
              "          const docLinkHtml = 'Like what you see? Visit the ' +\n",
              "            '<a target=\"_blank\" href=https://colab.research.google.com/notebooks/data_table.ipynb>data table notebook</a>'\n",
              "            + ' to learn more about interactive tables.';\n",
              "          element.innerHTML = '';\n",
              "          dataTable['output_type'] = 'display_data';\n",
              "          await google.colab.output.renderOutput(dataTable, element);\n",
              "          const docLink = document.createElement('div');\n",
              "          docLink.innerHTML = docLinkHtml;\n",
              "          element.appendChild(docLink);\n",
              "        }\n",
              "      </script>\n",
              "    </div>\n",
              "  </div>\n",
              "  "
            ]
          },
          "metadata": {},
          "execution_count": 139
        }
      ]
    },
    {
      "cell_type": "code",
      "execution_count": 140,
      "metadata": {
        "id": "h3cc2immWxHo",
        "colab": {
          "base_uri": "https://localhost:8080/",
          "height": 397
        },
        "outputId": "4ff7baa5-945d-4c1d-c7ed-f0935c861e7f"
      },
      "outputs": [
        {
          "output_type": "error",
          "ename": "UFuncTypeError",
          "evalue": "ignored",
          "traceback": [
            "\u001b[0;31m---------------------------------------------------------------------------\u001b[0m",
            "\u001b[0;31mUFuncTypeError\u001b[0m                            Traceback (most recent call last)",
            "\u001b[0;32m<ipython-input-140-a2e39dfe63fb>\u001b[0m in \u001b[0;36m<cell line: 16>\u001b[0;34m()\u001b[0m\n\u001b[1;32m     14\u001b[0m \u001b[0;34m\u001b[0m\u001b[0m\n\u001b[1;32m     15\u001b[0m \u001b[0;31m# Calculate the ROC curve and AUC for both models\u001b[0m\u001b[0;34m\u001b[0m\u001b[0;34m\u001b[0m\u001b[0m\n\u001b[0;32m---> 16\u001b[0;31m \u001b[0mfpr_lime\u001b[0m\u001b[0;34m,\u001b[0m \u001b[0mtpr_lime\u001b[0m\u001b[0;34m,\u001b[0m \u001b[0m_\u001b[0m \u001b[0;34m=\u001b[0m \u001b[0mroc_curve\u001b[0m\u001b[0;34m(\u001b[0m\u001b[0mlime_labels\u001b[0m\u001b[0;34m,\u001b[0m \u001b[0mresults_df\u001b[0m\u001b[0;34m.\u001b[0m\u001b[0mlabel\u001b[0m\u001b[0;34m[\u001b[0m\u001b[0;34m:\u001b[0m\u001b[0;36m6809\u001b[0m\u001b[0;34m]\u001b[0m\u001b[0;34m.\u001b[0m\u001b[0mto_list\u001b[0m\u001b[0;34m(\u001b[0m\u001b[0;34m)\u001b[0m\u001b[0;34m)\u001b[0m\u001b[0;34m\u001b[0m\u001b[0;34m\u001b[0m\u001b[0m\n\u001b[0m\u001b[1;32m     17\u001b[0m \u001b[0mroc_auc_lime\u001b[0m \u001b[0;34m=\u001b[0m \u001b[0mauc\u001b[0m\u001b[0;34m(\u001b[0m\u001b[0mfpr_lime\u001b[0m\u001b[0;34m,\u001b[0m \u001b[0mtpr_lime\u001b[0m\u001b[0;34m)\u001b[0m\u001b[0;34m\u001b[0m\u001b[0;34m\u001b[0m\u001b[0m\n\u001b[1;32m     18\u001b[0m \u001b[0mfpr_transformer\u001b[0m\u001b[0;34m,\u001b[0m \u001b[0mtpr_transformer\u001b[0m\u001b[0;34m,\u001b[0m \u001b[0m_\u001b[0m \u001b[0;34m=\u001b[0m \u001b[0mroc_curve\u001b[0m\u001b[0;34m(\u001b[0m\u001b[0mtrue_labels\u001b[0m\u001b[0;34m,\u001b[0m \u001b[0mpredicted_probs\u001b[0m\u001b[0;34m[\u001b[0m\u001b[0;34m:\u001b[0m\u001b[0;34m,\u001b[0m \u001b[0;36m1\u001b[0m\u001b[0;34m]\u001b[0m\u001b[0;34m)\u001b[0m\u001b[0;34m\u001b[0m\u001b[0;34m\u001b[0m\u001b[0m\n",
            "\u001b[0;32m/usr/local/lib/python3.10/dist-packages/sklearn/metrics/_ranking.py\u001b[0m in \u001b[0;36mroc_curve\u001b[0;34m(y_true, y_score, pos_label, sample_weight, drop_intermediate)\u001b[0m\n\u001b[1;32m    990\u001b[0m     \u001b[0marray\u001b[0m\u001b[0;34m(\u001b[0m\u001b[0;34m[\u001b[0m\u001b[0;36m1.8\u001b[0m \u001b[0;34m,\u001b[0m \u001b[0;36m0.8\u001b[0m \u001b[0;34m,\u001b[0m \u001b[0;36m0.4\u001b[0m \u001b[0;34m,\u001b[0m \u001b[0;36m0.35\u001b[0m\u001b[0;34m,\u001b[0m \u001b[0;36m0.1\u001b[0m \u001b[0;34m]\u001b[0m\u001b[0;34m)\u001b[0m\u001b[0;34m\u001b[0m\u001b[0;34m\u001b[0m\u001b[0m\n\u001b[1;32m    991\u001b[0m     \"\"\"\n\u001b[0;32m--> 992\u001b[0;31m     fps, tps, thresholds = _binary_clf_curve(\n\u001b[0m\u001b[1;32m    993\u001b[0m         \u001b[0my_true\u001b[0m\u001b[0;34m,\u001b[0m \u001b[0my_score\u001b[0m\u001b[0;34m,\u001b[0m \u001b[0mpos_label\u001b[0m\u001b[0;34m=\u001b[0m\u001b[0mpos_label\u001b[0m\u001b[0;34m,\u001b[0m \u001b[0msample_weight\u001b[0m\u001b[0;34m=\u001b[0m\u001b[0msample_weight\u001b[0m\u001b[0;34m\u001b[0m\u001b[0;34m\u001b[0m\u001b[0m\n\u001b[1;32m    994\u001b[0m     )\n",
            "\u001b[0;32m/usr/local/lib/python3.10/dist-packages/sklearn/metrics/_ranking.py\u001b[0m in \u001b[0;36m_binary_clf_curve\u001b[0;34m(y_true, y_score, pos_label, sample_weight)\u001b[0m\n\u001b[1;32m    781\u001b[0m     \u001b[0;31m# the indices associated with the distinct values. We also\u001b[0m\u001b[0;34m\u001b[0m\u001b[0;34m\u001b[0m\u001b[0m\n\u001b[1;32m    782\u001b[0m     \u001b[0;31m# concatenate a value for the end of the curve.\u001b[0m\u001b[0;34m\u001b[0m\u001b[0;34m\u001b[0m\u001b[0m\n\u001b[0;32m--> 783\u001b[0;31m     \u001b[0mdistinct_value_indices\u001b[0m \u001b[0;34m=\u001b[0m \u001b[0mnp\u001b[0m\u001b[0;34m.\u001b[0m\u001b[0mwhere\u001b[0m\u001b[0;34m(\u001b[0m\u001b[0mnp\u001b[0m\u001b[0;34m.\u001b[0m\u001b[0mdiff\u001b[0m\u001b[0;34m(\u001b[0m\u001b[0my_score\u001b[0m\u001b[0;34m)\u001b[0m\u001b[0;34m)\u001b[0m\u001b[0;34m[\u001b[0m\u001b[0;36m0\u001b[0m\u001b[0;34m]\u001b[0m\u001b[0;34m\u001b[0m\u001b[0;34m\u001b[0m\u001b[0m\n\u001b[0m\u001b[1;32m    784\u001b[0m     \u001b[0mthreshold_idxs\u001b[0m \u001b[0;34m=\u001b[0m \u001b[0mnp\u001b[0m\u001b[0;34m.\u001b[0m\u001b[0mr_\u001b[0m\u001b[0;34m[\u001b[0m\u001b[0mdistinct_value_indices\u001b[0m\u001b[0;34m,\u001b[0m \u001b[0my_true\u001b[0m\u001b[0;34m.\u001b[0m\u001b[0msize\u001b[0m \u001b[0;34m-\u001b[0m \u001b[0;36m1\u001b[0m\u001b[0;34m]\u001b[0m\u001b[0;34m\u001b[0m\u001b[0;34m\u001b[0m\u001b[0m\n\u001b[1;32m    785\u001b[0m \u001b[0;34m\u001b[0m\u001b[0m\n",
            "\u001b[0;32m/usr/local/lib/python3.10/dist-packages/numpy/core/overrides.py\u001b[0m in \u001b[0;36mdiff\u001b[0;34m(*args, **kwargs)\u001b[0m\n",
            "\u001b[0;32m/usr/local/lib/python3.10/dist-packages/numpy/lib/function_base.py\u001b[0m in \u001b[0;36mdiff\u001b[0;34m(a, n, axis, prepend, append)\u001b[0m\n\u001b[1;32m   1421\u001b[0m     \u001b[0mop\u001b[0m \u001b[0;34m=\u001b[0m \u001b[0mnot_equal\u001b[0m \u001b[0;32mif\u001b[0m \u001b[0ma\u001b[0m\u001b[0;34m.\u001b[0m\u001b[0mdtype\u001b[0m \u001b[0;34m==\u001b[0m \u001b[0mnp\u001b[0m\u001b[0;34m.\u001b[0m\u001b[0mbool_\u001b[0m \u001b[0;32melse\u001b[0m \u001b[0msubtract\u001b[0m\u001b[0;34m\u001b[0m\u001b[0;34m\u001b[0m\u001b[0m\n\u001b[1;32m   1422\u001b[0m     \u001b[0;32mfor\u001b[0m \u001b[0m_\u001b[0m \u001b[0;32min\u001b[0m \u001b[0mrange\u001b[0m\u001b[0;34m(\u001b[0m\u001b[0mn\u001b[0m\u001b[0;34m)\u001b[0m\u001b[0;34m:\u001b[0m\u001b[0;34m\u001b[0m\u001b[0;34m\u001b[0m\u001b[0m\n\u001b[0;32m-> 1423\u001b[0;31m         \u001b[0ma\u001b[0m \u001b[0;34m=\u001b[0m \u001b[0mop\u001b[0m\u001b[0;34m(\u001b[0m\u001b[0ma\u001b[0m\u001b[0;34m[\u001b[0m\u001b[0mslice1\u001b[0m\u001b[0;34m]\u001b[0m\u001b[0;34m,\u001b[0m \u001b[0ma\u001b[0m\u001b[0;34m[\u001b[0m\u001b[0mslice2\u001b[0m\u001b[0;34m]\u001b[0m\u001b[0;34m)\u001b[0m\u001b[0;34m\u001b[0m\u001b[0;34m\u001b[0m\u001b[0m\n\u001b[0m\u001b[1;32m   1424\u001b[0m \u001b[0;34m\u001b[0m\u001b[0m\n\u001b[1;32m   1425\u001b[0m     \u001b[0;32mreturn\u001b[0m \u001b[0ma\u001b[0m\u001b[0;34m\u001b[0m\u001b[0;34m\u001b[0m\u001b[0m\n",
            "\u001b[0;31mUFuncTypeError\u001b[0m: ufunc 'subtract' did not contain a loop with signature matching types (dtype('<U8'), dtype('<U8')) -> None"
          ]
        }
      ],
      "source": [
        "##roc auc for lime and actual model\n",
        "\n",
        "from sklearn.metrics import roc_curve, auc\n",
        "import matplotlib.pyplot as plt\n",
        "from sklearn.preprocessing import LabelEncoder\n",
        "\n",
        "# Extract the Lime labels and y_pred labels\n",
        "le = LabelEncoder()\n",
        "lime_labels = le.fit_transform(results_df['label'])\n",
        "\n",
        "# Get the predicted probabilities for X_test\n",
        "predicted_probs = predict_function(test_dataset['text'][:6809])\n",
        "y_pred_transformer = np.argmax(predicted_probs, axis=1)\n",
        "\n",
        "# Calculate the ROC curve and AUC for both models\n",
        "fpr_lime, tpr_lime, _ = roc_curve(lime_labels, results_df.label[:6809].to_list())\n",
        "roc_auc_lime = auc(fpr_lime, tpr_lime)\n",
        "fpr_transformer, tpr_transformer, _ = roc_curve(true_labels, predicted_probs[:, 1])\n",
        "roc_auc_transformer = auc(fpr_transformer, tpr_transformer)\n",
        "\n",
        "# Plot the ROC curve for both models\n",
        "plt.figure()\n",
        "lw = 2\n",
        "plt.plot(fpr_lime, tpr_lime, color='darkorange',\n",
        "         lw=lw, label='Lime ROC curve (AUC = %0.2f)' % roc_auc_lime)\n",
        "plt.plot(fpr_transformer, tpr_transformer, color='blue',\n",
        "         lw=lw, label='Transformer ROC curve (AUC = %0.2f)' % roc_auc_transformer)\n",
        "plt.plot([0, 1], [0, 1], color='gray', lw=lw, linestyle='--')\n",
        "plt.xlim([0.0, 1.0])\n",
        "plt.ylim([0.0, 1.05])\n",
        "plt.xlabel('False Positive Rate')\n",
        "plt.ylabel('True Positive Rate')\n",
        "plt.title('ROC curve')\n",
        "plt.legend(loc=\"lower right\")\n",
        "plt.savefig('ROC_curve.png')\n",
        "plt.show()\n"
      ]
    },
    {
      "cell_type": "code",
      "source": [
        "from sklearn.metrics import f1_score\n",
        "\n",
        "# Extract the Lime labels and y_pred labels\n",
        "le = LabelEncoder()\n",
        "lime_labels = le.fit_transform(results_df['label'])\n",
        "\n",
        "# Get the predicted probabilities for X_test\n",
        "predicted_probs = predict_function(test_dataset['text'][:6809])\n",
        "y_pred_transformer = np.argmax(predicted_probs, axis=1)\n",
        "\n",
        "# Calculate the F1 scores for both models\n",
        "f1_score_lime = f1_score(true_labels, lime_labels, average='weighted')\n",
        "f1_score_transformer = f1_score(true_labels, y_pred_transformer, average='weighted')\n",
        "\n",
        "# Print the F1 scores\n",
        "print(f\"LIME model F1 score: {f1_score_lime:.2f}\")\n",
        "print(f\"Transformer model F1 score: {f1_score_transformer:.2f}\")\n"
      ],
      "metadata": {
        "colab": {
          "base_uri": "https://localhost:8080/",
          "height": 380
        },
        "id": "dUObTRZKCnHE",
        "outputId": "ac6822db-d7df-4281-ff3e-e34683d1ee0c"
      },
      "execution_count": 147,
      "outputs": [
        {
          "output_type": "error",
          "ename": "ValueError",
          "evalue": "ignored",
          "traceback": [
            "\u001b[0;31m---------------------------------------------------------------------------\u001b[0m",
            "\u001b[0;31mValueError\u001b[0m                                Traceback (most recent call last)",
            "\u001b[0;32m<ipython-input-147-cc8d3922a6b0>\u001b[0m in \u001b[0;36m<cell line: 12>\u001b[0;34m()\u001b[0m\n\u001b[1;32m     10\u001b[0m \u001b[0;34m\u001b[0m\u001b[0m\n\u001b[1;32m     11\u001b[0m \u001b[0;31m# Calculate the F1 scores for both models\u001b[0m\u001b[0;34m\u001b[0m\u001b[0;34m\u001b[0m\u001b[0m\n\u001b[0;32m---> 12\u001b[0;31m \u001b[0mf1_score_lime\u001b[0m \u001b[0;34m=\u001b[0m \u001b[0mf1_score\u001b[0m\u001b[0;34m(\u001b[0m\u001b[0mtrue_labels\u001b[0m\u001b[0;34m,\u001b[0m \u001b[0mlime_labels\u001b[0m\u001b[0;34m,\u001b[0m \u001b[0maverage\u001b[0m\u001b[0;34m=\u001b[0m\u001b[0;34m'weighted'\u001b[0m\u001b[0;34m)\u001b[0m\u001b[0;34m\u001b[0m\u001b[0;34m\u001b[0m\u001b[0m\n\u001b[0m\u001b[1;32m     13\u001b[0m \u001b[0mf1_score_transformer\u001b[0m \u001b[0;34m=\u001b[0m \u001b[0mf1_score\u001b[0m\u001b[0;34m(\u001b[0m\u001b[0mtrue_labels\u001b[0m\u001b[0;34m,\u001b[0m \u001b[0my_pred_transformer\u001b[0m\u001b[0;34m,\u001b[0m \u001b[0maverage\u001b[0m\u001b[0;34m=\u001b[0m\u001b[0;34m'weighted'\u001b[0m\u001b[0;34m)\u001b[0m\u001b[0;34m\u001b[0m\u001b[0;34m\u001b[0m\u001b[0m\n\u001b[1;32m     14\u001b[0m \u001b[0;34m\u001b[0m\u001b[0m\n",
            "\u001b[0;32m/usr/local/lib/python3.10/dist-packages/sklearn/metrics/_classification.py\u001b[0m in \u001b[0;36mf1_score\u001b[0;34m(y_true, y_pred, labels, pos_label, average, sample_weight, zero_division)\u001b[0m\n\u001b[1;32m   1144\u001b[0m     \u001b[0marray\u001b[0m\u001b[0;34m(\u001b[0m\u001b[0;34m[\u001b[0m\u001b[0;36m0.66666667\u001b[0m\u001b[0;34m,\u001b[0m \u001b[0;36m1.\u001b[0m        \u001b[0;34m,\u001b[0m \u001b[0;36m0.66666667\u001b[0m\u001b[0;34m]\u001b[0m\u001b[0;34m)\u001b[0m\u001b[0;34m\u001b[0m\u001b[0;34m\u001b[0m\u001b[0m\n\u001b[1;32m   1145\u001b[0m     \"\"\"\n\u001b[0;32m-> 1146\u001b[0;31m     return fbeta_score(\n\u001b[0m\u001b[1;32m   1147\u001b[0m         \u001b[0my_true\u001b[0m\u001b[0;34m,\u001b[0m\u001b[0;34m\u001b[0m\u001b[0;34m\u001b[0m\u001b[0m\n\u001b[1;32m   1148\u001b[0m         \u001b[0my_pred\u001b[0m\u001b[0;34m,\u001b[0m\u001b[0;34m\u001b[0m\u001b[0;34m\u001b[0m\u001b[0m\n",
            "\u001b[0;32m/usr/local/lib/python3.10/dist-packages/sklearn/metrics/_classification.py\u001b[0m in \u001b[0;36mfbeta_score\u001b[0;34m(y_true, y_pred, beta, labels, pos_label, average, sample_weight, zero_division)\u001b[0m\n\u001b[1;32m   1285\u001b[0m     \"\"\"\n\u001b[1;32m   1286\u001b[0m \u001b[0;34m\u001b[0m\u001b[0m\n\u001b[0;32m-> 1287\u001b[0;31m     _, _, f, _ = precision_recall_fscore_support(\n\u001b[0m\u001b[1;32m   1288\u001b[0m         \u001b[0my_true\u001b[0m\u001b[0;34m,\u001b[0m\u001b[0;34m\u001b[0m\u001b[0;34m\u001b[0m\u001b[0m\n\u001b[1;32m   1289\u001b[0m         \u001b[0my_pred\u001b[0m\u001b[0;34m,\u001b[0m\u001b[0;34m\u001b[0m\u001b[0;34m\u001b[0m\u001b[0m\n",
            "\u001b[0;32m/usr/local/lib/python3.10/dist-packages/sklearn/metrics/_classification.py\u001b[0m in \u001b[0;36mprecision_recall_fscore_support\u001b[0;34m(y_true, y_pred, beta, labels, pos_label, average, warn_for, sample_weight, zero_division)\u001b[0m\n\u001b[1;32m   1571\u001b[0m     \u001b[0;32mif\u001b[0m \u001b[0mbeta\u001b[0m \u001b[0;34m<\u001b[0m \u001b[0;36m0\u001b[0m\u001b[0;34m:\u001b[0m\u001b[0;34m\u001b[0m\u001b[0;34m\u001b[0m\u001b[0m\n\u001b[1;32m   1572\u001b[0m         \u001b[0;32mraise\u001b[0m \u001b[0mValueError\u001b[0m\u001b[0;34m(\u001b[0m\u001b[0;34m\"beta should be >=0 in the F-beta score\"\u001b[0m\u001b[0;34m)\u001b[0m\u001b[0;34m\u001b[0m\u001b[0;34m\u001b[0m\u001b[0m\n\u001b[0;32m-> 1573\u001b[0;31m     \u001b[0mlabels\u001b[0m \u001b[0;34m=\u001b[0m \u001b[0m_check_set_wise_labels\u001b[0m\u001b[0;34m(\u001b[0m\u001b[0my_true\u001b[0m\u001b[0;34m,\u001b[0m \u001b[0my_pred\u001b[0m\u001b[0;34m,\u001b[0m \u001b[0maverage\u001b[0m\u001b[0;34m,\u001b[0m \u001b[0mlabels\u001b[0m\u001b[0;34m,\u001b[0m \u001b[0mpos_label\u001b[0m\u001b[0;34m)\u001b[0m\u001b[0;34m\u001b[0m\u001b[0;34m\u001b[0m\u001b[0m\n\u001b[0m\u001b[1;32m   1574\u001b[0m \u001b[0;34m\u001b[0m\u001b[0m\n\u001b[1;32m   1575\u001b[0m     \u001b[0;31m# Calculate tp_sum, pred_sum, true_sum ###\u001b[0m\u001b[0;34m\u001b[0m\u001b[0;34m\u001b[0m\u001b[0m\n",
            "\u001b[0;32m/usr/local/lib/python3.10/dist-packages/sklearn/metrics/_classification.py\u001b[0m in \u001b[0;36m_check_set_wise_labels\u001b[0;34m(y_true, y_pred, average, labels, pos_label)\u001b[0m\n\u001b[1;32m   1372\u001b[0m         \u001b[0;32mraise\u001b[0m \u001b[0mValueError\u001b[0m\u001b[0;34m(\u001b[0m\u001b[0;34m\"average has to be one of \"\u001b[0m \u001b[0;34m+\u001b[0m \u001b[0mstr\u001b[0m\u001b[0;34m(\u001b[0m\u001b[0maverage_options\u001b[0m\u001b[0;34m)\u001b[0m\u001b[0;34m)\u001b[0m\u001b[0;34m\u001b[0m\u001b[0;34m\u001b[0m\u001b[0m\n\u001b[1;32m   1373\u001b[0m \u001b[0;34m\u001b[0m\u001b[0m\n\u001b[0;32m-> 1374\u001b[0;31m     \u001b[0my_type\u001b[0m\u001b[0;34m,\u001b[0m \u001b[0my_true\u001b[0m\u001b[0;34m,\u001b[0m \u001b[0my_pred\u001b[0m \u001b[0;34m=\u001b[0m \u001b[0m_check_targets\u001b[0m\u001b[0;34m(\u001b[0m\u001b[0my_true\u001b[0m\u001b[0;34m,\u001b[0m \u001b[0my_pred\u001b[0m\u001b[0;34m)\u001b[0m\u001b[0;34m\u001b[0m\u001b[0;34m\u001b[0m\u001b[0m\n\u001b[0m\u001b[1;32m   1375\u001b[0m     \u001b[0;31m# Convert to Python primitive type to avoid NumPy type / Python str\u001b[0m\u001b[0;34m\u001b[0m\u001b[0;34m\u001b[0m\u001b[0m\n\u001b[1;32m   1376\u001b[0m     \u001b[0;31m# comparison. See https://github.com/numpy/numpy/issues/6784\u001b[0m\u001b[0;34m\u001b[0m\u001b[0;34m\u001b[0m\u001b[0m\n",
            "\u001b[0;32m/usr/local/lib/python3.10/dist-packages/sklearn/metrics/_classification.py\u001b[0m in \u001b[0;36m_check_targets\u001b[0;34m(y_true, y_pred)\u001b[0m\n\u001b[1;32m     84\u001b[0m     \u001b[0my_pred\u001b[0m \u001b[0;34m:\u001b[0m \u001b[0marray\u001b[0m \u001b[0;32mor\u001b[0m \u001b[0mindicator\u001b[0m \u001b[0mmatrix\u001b[0m\u001b[0;34m\u001b[0m\u001b[0;34m\u001b[0m\u001b[0m\n\u001b[1;32m     85\u001b[0m     \"\"\"\n\u001b[0;32m---> 86\u001b[0;31m     \u001b[0mcheck_consistent_length\u001b[0m\u001b[0;34m(\u001b[0m\u001b[0my_true\u001b[0m\u001b[0;34m,\u001b[0m \u001b[0my_pred\u001b[0m\u001b[0;34m)\u001b[0m\u001b[0;34m\u001b[0m\u001b[0;34m\u001b[0m\u001b[0m\n\u001b[0m\u001b[1;32m     87\u001b[0m     \u001b[0mtype_true\u001b[0m \u001b[0;34m=\u001b[0m \u001b[0mtype_of_target\u001b[0m\u001b[0;34m(\u001b[0m\u001b[0my_true\u001b[0m\u001b[0;34m,\u001b[0m \u001b[0minput_name\u001b[0m\u001b[0;34m=\u001b[0m\u001b[0;34m\"y_true\"\u001b[0m\u001b[0;34m)\u001b[0m\u001b[0;34m\u001b[0m\u001b[0;34m\u001b[0m\u001b[0m\n\u001b[1;32m     88\u001b[0m     \u001b[0mtype_pred\u001b[0m \u001b[0;34m=\u001b[0m \u001b[0mtype_of_target\u001b[0m\u001b[0;34m(\u001b[0m\u001b[0my_pred\u001b[0m\u001b[0;34m,\u001b[0m \u001b[0minput_name\u001b[0m\u001b[0;34m=\u001b[0m\u001b[0;34m\"y_pred\"\u001b[0m\u001b[0;34m)\u001b[0m\u001b[0;34m\u001b[0m\u001b[0;34m\u001b[0m\u001b[0m\n",
            "\u001b[0;32m/usr/local/lib/python3.10/dist-packages/sklearn/utils/validation.py\u001b[0m in \u001b[0;36mcheck_consistent_length\u001b[0;34m(*arrays)\u001b[0m\n\u001b[1;32m    395\u001b[0m     \u001b[0muniques\u001b[0m \u001b[0;34m=\u001b[0m \u001b[0mnp\u001b[0m\u001b[0;34m.\u001b[0m\u001b[0munique\u001b[0m\u001b[0;34m(\u001b[0m\u001b[0mlengths\u001b[0m\u001b[0;34m)\u001b[0m\u001b[0;34m\u001b[0m\u001b[0;34m\u001b[0m\u001b[0m\n\u001b[1;32m    396\u001b[0m     \u001b[0;32mif\u001b[0m \u001b[0mlen\u001b[0m\u001b[0;34m(\u001b[0m\u001b[0muniques\u001b[0m\u001b[0;34m)\u001b[0m \u001b[0;34m>\u001b[0m \u001b[0;36m1\u001b[0m\u001b[0;34m:\u001b[0m\u001b[0;34m\u001b[0m\u001b[0;34m\u001b[0m\u001b[0m\n\u001b[0;32m--> 397\u001b[0;31m         raise ValueError(\n\u001b[0m\u001b[1;32m    398\u001b[0m             \u001b[0;34m\"Found input variables with inconsistent numbers of samples: %r\"\u001b[0m\u001b[0;34m\u001b[0m\u001b[0;34m\u001b[0m\u001b[0m\n\u001b[1;32m    399\u001b[0m             \u001b[0;34m%\u001b[0m \u001b[0;34m[\u001b[0m\u001b[0mint\u001b[0m\u001b[0;34m(\u001b[0m\u001b[0ml\u001b[0m\u001b[0;34m)\u001b[0m \u001b[0;32mfor\u001b[0m \u001b[0ml\u001b[0m \u001b[0;32min\u001b[0m \u001b[0mlengths\u001b[0m\u001b[0;34m]\u001b[0m\u001b[0;34m\u001b[0m\u001b[0;34m\u001b[0m\u001b[0m\n",
            "\u001b[0;31mValueError\u001b[0m: Found input variables with inconsistent numbers of samples: [25000, 6809]"
          ]
        }
      ]
    },
    {
      "cell_type": "code",
      "source": [
        "import numpy as np\n",
        "import matplotlib.pyplot as plt\n",
        "from sklearn.metrics import f1_score\n",
        "\n",
        "# Initialize the lists to store the F1 scores\n",
        "f1_scores_lime = []\n",
        "f1_scores_transformer = []\n",
        "\n",
        "# Loop through the range of sample sizes\n",
        "for size in range(100, 6810, 100):\n",
        "    # Calculate the F1 scores for both models\n",
        "    f1_score_lime = f1_score(true_labels[:size], lime_labels[:size], average='weighted')\n",
        "    f1_score_transformer = f1_score(true_labels[:size], y_pred_transformer[:size], average='weighted')\n",
        "\n",
        "    # Append the F1 scores to the respective lists\n",
        "    f1_scores_lime.append(f1_score_lime)\n",
        "    f1_scores_transformer.append(f1_score_transformer)\n",
        "\n",
        "# Plot the F1 scores for both models\n",
        "plt.figure()\n",
        "plt.plot(range(100, 6810, 100), f1_scores_lime, label='LIME F1 Score', marker='o')\n",
        "plt.plot(range(100, 6810, 100), f1_scores_transformer, label='Transformer F1 Score', marker='o')\n",
        "plt.xlabel('Complexity')\n",
        "plt.ylabel('Fidelity')\n",
        "plt.title('DistilBERT')\n",
        "plt.legend()\n",
        "plt.savefig('F1_scores_Transformer.png')\n",
        "plt.show()\n"
      ],
      "metadata": {
        "colab": {
          "base_uri": "https://localhost:8080/",
          "height": 472
        },
        "id": "uvSNsEjhDNy7",
        "outputId": "f5f6e237-f34f-44f9-f7e0-2b9074682f08"
      },
      "execution_count": 149,
      "outputs": [
        {
          "output_type": "display_data",
          "data": {
            "text/plain": [
              "<Figure size 640x480 with 1 Axes>"
            ],
            "image/png": "[encoded data removed]"
          },
          "metadata": {}
        }
      ]
    },
    {
      "cell_type": "code",
      "source": [
        "###plot actual complexity vs fidelity\n",
        "\n",
        "import matplotlib.pyplot as plt\n",
        "from sklearn.metrics import f1_score\n",
        "\n",
        "# Define a helper function to calculate F1 score for a given number of samples\n",
        "#def calculate_f1_score(num_samples):\n",
        "    # Create a new explainer with the specified number of samples\n",
        "#    explainer = LimeTextExplainer(class_names=[\"negative\", \"positive\"], kernel_width=1, verbose=False, feature_selection='auto')\n",
        "\n",
        "    # Obtain a set of instances for evaluation\n",
        "#    eval_text_data = test_dataset['text'][:1000]\n",
        "\n",
        "#    true_labels = []\n",
        "#    predicted_labels = []\n",
        "\n",
        "        for text in eval_text_data:\n",
        "        true_label = 1 if text['label'] == 'positive' else 0\n",
        "        true_labels.append(true_label)\n",
        "\n",
        "        explanation = explainer.explain_instance(text['text'], predict_function)\n",
        "        explanation_list = explanation.as_list()\n",
        "\n",
        "        sentiment_score = sum([weight for _, weight in explanation_list])\n",
        "\n",
        "        # Convert sentiment score to class label using a threshold (e.g., 0)\n",
        "        predicted_label = 1 if sentiment_score > 0 else 0\n",
        "        predicted_labels.append(predicted_label)\n",
        "\n",
        "    # Calculate F1 score\n",
        "    f1 = f1_score(true_labels, predicted_labels)\n",
        "    return f1\n",
        "\n",
        "# Set up the range of samples and a list to store the F1 scores\n",
        "samples_range = range(100, 10000, 100)\n",
        "f1_scores = []\n",
        "\n",
        "# Calculate F1 scores for each number of samples\n",
        "for num_samples in samples_range:\n",
        "    f1 = calculate_f1_score(num_samples)\n",
        "    f1_scores.append(f1)\n",
        "\n",
        "# Plot the F1 scores against the number of samples\n",
        "plt.plot(samples_range, f1_scores)\n",
        "plt.xlabel('Number of samples for surrogate model creation')\n",
        "plt.ylabel('F1 score')\n",
        "plt.title('F1 score vs. Surrogate complexity')\n",
        "plt.show()\n"
      ],
      "metadata": {
        "colab": {
          "base_uri": "https://localhost:8080/",
          "height": 130
        },
        "id": "EriqbimYhPmE",
        "outputId": "4a84284e-7bbc-417c-b0a4-01eff38e17a5"
      },
      "execution_count": 131,
      "outputs": [
        {
          "output_type": "error",
          "ename": "IndentationError",
          "evalue": "ignored",
          "traceback": [
            "\u001b[0;36m  File \u001b[0;32m\"<tokenize>\"\u001b[0;36m, line \u001b[0;32m31\u001b[0m\n\u001b[0;31m    f1 = f1_score(true_labels, predicted_labels)\u001b[0m\n\u001b[0m    ^\u001b[0m\n\u001b[0;31mIndentationError\u001b[0m\u001b[0;31m:\u001b[0m unindent does not match any outer indentation level\n"
          ]
        }
      ]
    },
    {
      "cell_type": "code",
      "source": [
        "import matplotlib.pyplot as plt\n",
        "from sklearn.metrics import f1_score\n",
        "from sklearn.preprocessing import LabelEncoder\n",
        "\n",
        "le = LabelEncoder()\n",
        "lime_labels = le.fit_transform(results_df['label'])\n",
        "\n",
        "# Calculate the true labels for the test_dataset\n",
        "true_labelss = true_labels[:10000]\n",
        "\n",
        "# Calculate F1 scores for the transformer model and LIME surrogate\n",
        "f1_transformer = f1_score(true_labels, y_pred_transformer, average='weighted')\n",
        "f1_lime = f1_score(true_labelss, lime_labels, average='weighted')\n",
        "\n",
        "print(\"F1 score for the transformer model: \", f1_transformer)\n",
        "print(\"F1 score for the LIME surrogate model: \", f1_lime)\n"
      ],
      "metadata": {
        "colab": {
          "base_uri": "https://localhost:8080/",
          "height": 380
        },
        "id": "-a-DElFYhNZl",
        "outputId": "9f815f29-cd3c-4c7a-c2a6-dce634aececb"
      },
      "execution_count": 128,
      "outputs": [
        {
          "output_type": "error",
          "ename": "ValueError",
          "evalue": "ignored",
          "traceback": [
            "\u001b[0;31m---------------------------------------------------------------------------\u001b[0m",
            "\u001b[0;31mValueError\u001b[0m                                Traceback (most recent call last)",
            "\u001b[0;32m<ipython-input-128-ec0ea12c2186>\u001b[0m in \u001b[0;36m<cell line: 12>\u001b[0;34m()\u001b[0m\n\u001b[1;32m     10\u001b[0m \u001b[0;34m\u001b[0m\u001b[0m\n\u001b[1;32m     11\u001b[0m \u001b[0;31m# Calculate F1 scores for the transformer model and LIME surrogate\u001b[0m\u001b[0;34m\u001b[0m\u001b[0;34m\u001b[0m\u001b[0m\n\u001b[0;32m---> 12\u001b[0;31m \u001b[0mf1_transformer\u001b[0m \u001b[0;34m=\u001b[0m \u001b[0mf1_score\u001b[0m\u001b[0;34m(\u001b[0m\u001b[0mtrue_labels\u001b[0m\u001b[0;34m,\u001b[0m \u001b[0my_pred_transformer\u001b[0m\u001b[0;34m,\u001b[0m \u001b[0maverage\u001b[0m\u001b[0;34m=\u001b[0m\u001b[0;34m'weighted'\u001b[0m\u001b[0;34m)\u001b[0m\u001b[0;34m\u001b[0m\u001b[0;34m\u001b[0m\u001b[0m\n\u001b[0m\u001b[1;32m     13\u001b[0m \u001b[0mf1_lime\u001b[0m \u001b[0;34m=\u001b[0m \u001b[0mf1_score\u001b[0m\u001b[0;34m(\u001b[0m\u001b[0mtrue_labelss\u001b[0m\u001b[0;34m,\u001b[0m \u001b[0mlime_labels\u001b[0m\u001b[0;34m,\u001b[0m \u001b[0maverage\u001b[0m\u001b[0;34m=\u001b[0m\u001b[0;34m'weighted'\u001b[0m\u001b[0;34m)\u001b[0m\u001b[0;34m\u001b[0m\u001b[0;34m\u001b[0m\u001b[0m\n\u001b[1;32m     14\u001b[0m \u001b[0;34m\u001b[0m\u001b[0m\n",
            "\u001b[0;32m/usr/local/lib/python3.10/dist-packages/sklearn/metrics/_classification.py\u001b[0m in \u001b[0;36mf1_score\u001b[0;34m(y_true, y_pred, labels, pos_label, average, sample_weight, zero_division)\u001b[0m\n\u001b[1;32m   1144\u001b[0m     \u001b[0marray\u001b[0m\u001b[0;34m(\u001b[0m\u001b[0;34m[\u001b[0m\u001b[0;36m0.66666667\u001b[0m\u001b[0;34m,\u001b[0m \u001b[0;36m1.\u001b[0m        \u001b[0;34m,\u001b[0m \u001b[0;36m0.66666667\u001b[0m\u001b[0;34m]\u001b[0m\u001b[0;34m)\u001b[0m\u001b[0;34m\u001b[0m\u001b[0;34m\u001b[0m\u001b[0m\n\u001b[1;32m   1145\u001b[0m     \"\"\"\n\u001b[0;32m-> 1146\u001b[0;31m     return fbeta_score(\n\u001b[0m\u001b[1;32m   1147\u001b[0m         \u001b[0my_true\u001b[0m\u001b[0;34m,\u001b[0m\u001b[0;34m\u001b[0m\u001b[0;34m\u001b[0m\u001b[0m\n\u001b[1;32m   1148\u001b[0m         \u001b[0my_pred\u001b[0m\u001b[0;34m,\u001b[0m\u001b[0;34m\u001b[0m\u001b[0;34m\u001b[0m\u001b[0m\n",
            "\u001b[0;32m/usr/local/lib/python3.10/dist-packages/sklearn/metrics/_classification.py\u001b[0m in \u001b[0;36mfbeta_score\u001b[0;34m(y_true, y_pred, beta, labels, pos_label, average, sample_weight, zero_division)\u001b[0m\n\u001b[1;32m   1285\u001b[0m     \"\"\"\n\u001b[1;32m   1286\u001b[0m \u001b[0;34m\u001b[0m\u001b[0m\n\u001b[0;32m-> 1287\u001b[0;31m     _, _, f, _ = precision_recall_fscore_support(\n\u001b[0m\u001b[1;32m   1288\u001b[0m         \u001b[0my_true\u001b[0m\u001b[0;34m,\u001b[0m\u001b[0;34m\u001b[0m\u001b[0;34m\u001b[0m\u001b[0m\n\u001b[1;32m   1289\u001b[0m         \u001b[0my_pred\u001b[0m\u001b[0;34m,\u001b[0m\u001b[0;34m\u001b[0m\u001b[0;34m\u001b[0m\u001b[0m\n",
            "\u001b[0;32m/usr/local/lib/python3.10/dist-packages/sklearn/metrics/_classification.py\u001b[0m in \u001b[0;36mprecision_recall_fscore_support\u001b[0;34m(y_true, y_pred, beta, labels, pos_label, average, warn_for, sample_weight, zero_division)\u001b[0m\n\u001b[1;32m   1571\u001b[0m     \u001b[0;32mif\u001b[0m \u001b[0mbeta\u001b[0m \u001b[0;34m<\u001b[0m \u001b[0;36m0\u001b[0m\u001b[0;34m:\u001b[0m\u001b[0;34m\u001b[0m\u001b[0;34m\u001b[0m\u001b[0m\n\u001b[1;32m   1572\u001b[0m         \u001b[0;32mraise\u001b[0m \u001b[0mValueError\u001b[0m\u001b[0;34m(\u001b[0m\u001b[0;34m\"beta should be >=0 in the F-beta score\"\u001b[0m\u001b[0;34m)\u001b[0m\u001b[0;34m\u001b[0m\u001b[0;34m\u001b[0m\u001b[0m\n\u001b[0;32m-> 1573\u001b[0;31m     \u001b[0mlabels\u001b[0m \u001b[0;34m=\u001b[0m \u001b[0m_check_set_wise_labels\u001b[0m\u001b[0;34m(\u001b[0m\u001b[0my_true\u001b[0m\u001b[0;34m,\u001b[0m \u001b[0my_pred\u001b[0m\u001b[0;34m,\u001b[0m \u001b[0maverage\u001b[0m\u001b[0;34m,\u001b[0m \u001b[0mlabels\u001b[0m\u001b[0;34m,\u001b[0m \u001b[0mpos_label\u001b[0m\u001b[0;34m)\u001b[0m\u001b[0;34m\u001b[0m\u001b[0;34m\u001b[0m\u001b[0m\n\u001b[0m\u001b[1;32m   1574\u001b[0m \u001b[0;34m\u001b[0m\u001b[0m\n\u001b[1;32m   1575\u001b[0m     \u001b[0;31m# Calculate tp_sum, pred_sum, true_sum ###\u001b[0m\u001b[0;34m\u001b[0m\u001b[0;34m\u001b[0m\u001b[0m\n",
            "\u001b[0;32m/usr/local/lib/python3.10/dist-packages/sklearn/metrics/_classification.py\u001b[0m in \u001b[0;36m_check_set_wise_labels\u001b[0;34m(y_true, y_pred, average, labels, pos_label)\u001b[0m\n\u001b[1;32m   1372\u001b[0m         \u001b[0;32mraise\u001b[0m \u001b[0mValueError\u001b[0m\u001b[0;34m(\u001b[0m\u001b[0;34m\"average has to be one of \"\u001b[0m \u001b[0;34m+\u001b[0m \u001b[0mstr\u001b[0m\u001b[0;34m(\u001b[0m\u001b[0maverage_options\u001b[0m\u001b[0;34m)\u001b[0m\u001b[0;34m)\u001b[0m\u001b[0;34m\u001b[0m\u001b[0;34m\u001b[0m\u001b[0m\n\u001b[1;32m   1373\u001b[0m \u001b[0;34m\u001b[0m\u001b[0m\n\u001b[0;32m-> 1374\u001b[0;31m     \u001b[0my_type\u001b[0m\u001b[0;34m,\u001b[0m \u001b[0my_true\u001b[0m\u001b[0;34m,\u001b[0m \u001b[0my_pred\u001b[0m \u001b[0;34m=\u001b[0m \u001b[0m_check_targets\u001b[0m\u001b[0;34m(\u001b[0m\u001b[0my_true\u001b[0m\u001b[0;34m,\u001b[0m \u001b[0my_pred\u001b[0m\u001b[0;34m)\u001b[0m\u001b[0;34m\u001b[0m\u001b[0;34m\u001b[0m\u001b[0m\n\u001b[0m\u001b[1;32m   1375\u001b[0m     \u001b[0;31m# Convert to Python primitive type to avoid NumPy type / Python str\u001b[0m\u001b[0;34m\u001b[0m\u001b[0;34m\u001b[0m\u001b[0m\n\u001b[1;32m   1376\u001b[0m     \u001b[0;31m# comparison. See https://github.com/numpy/numpy/issues/6784\u001b[0m\u001b[0;34m\u001b[0m\u001b[0;34m\u001b[0m\u001b[0m\n",
            "\u001b[0;32m/usr/local/lib/python3.10/dist-packages/sklearn/metrics/_classification.py\u001b[0m in \u001b[0;36m_check_targets\u001b[0;34m(y_true, y_pred)\u001b[0m\n\u001b[1;32m     84\u001b[0m     \u001b[0my_pred\u001b[0m \u001b[0;34m:\u001b[0m \u001b[0marray\u001b[0m \u001b[0;32mor\u001b[0m \u001b[0mindicator\u001b[0m \u001b[0mmatrix\u001b[0m\u001b[0;34m\u001b[0m\u001b[0;34m\u001b[0m\u001b[0m\n\u001b[1;32m     85\u001b[0m     \"\"\"\n\u001b[0;32m---> 86\u001b[0;31m     \u001b[0mcheck_consistent_length\u001b[0m\u001b[0;34m(\u001b[0m\u001b[0my_true\u001b[0m\u001b[0;34m,\u001b[0m \u001b[0my_pred\u001b[0m\u001b[0;34m)\u001b[0m\u001b[0;34m\u001b[0m\u001b[0;34m\u001b[0m\u001b[0m\n\u001b[0m\u001b[1;32m     87\u001b[0m     \u001b[0mtype_true\u001b[0m \u001b[0;34m=\u001b[0m \u001b[0mtype_of_target\u001b[0m\u001b[0;34m(\u001b[0m\u001b[0my_true\u001b[0m\u001b[0;34m,\u001b[0m \u001b[0minput_name\u001b[0m\u001b[0;34m=\u001b[0m\u001b[0;34m\"y_true\"\u001b[0m\u001b[0;34m)\u001b[0m\u001b[0;34m\u001b[0m\u001b[0;34m\u001b[0m\u001b[0m\n\u001b[1;32m     88\u001b[0m     \u001b[0mtype_pred\u001b[0m \u001b[0;34m=\u001b[0m \u001b[0mtype_of_target\u001b[0m\u001b[0;34m(\u001b[0m\u001b[0my_pred\u001b[0m\u001b[0;34m,\u001b[0m \u001b[0minput_name\u001b[0m\u001b[0;34m=\u001b[0m\u001b[0;34m\"y_pred\"\u001b[0m\u001b[0;34m)\u001b[0m\u001b[0;34m\u001b[0m\u001b[0;34m\u001b[0m\u001b[0m\n",
            "\u001b[0;32m/usr/local/lib/python3.10/dist-packages/sklearn/utils/validation.py\u001b[0m in \u001b[0;36mcheck_consistent_length\u001b[0;34m(*arrays)\u001b[0m\n\u001b[1;32m    395\u001b[0m     \u001b[0muniques\u001b[0m \u001b[0;34m=\u001b[0m \u001b[0mnp\u001b[0m\u001b[0;34m.\u001b[0m\u001b[0munique\u001b[0m\u001b[0;34m(\u001b[0m\u001b[0mlengths\u001b[0m\u001b[0;34m)\u001b[0m\u001b[0;34m\u001b[0m\u001b[0;34m\u001b[0m\u001b[0m\n\u001b[1;32m    396\u001b[0m     \u001b[0;32mif\u001b[0m \u001b[0mlen\u001b[0m\u001b[0;34m(\u001b[0m\u001b[0muniques\u001b[0m\u001b[0;34m)\u001b[0m \u001b[0;34m>\u001b[0m \u001b[0;36m1\u001b[0m\u001b[0;34m:\u001b[0m\u001b[0;34m\u001b[0m\u001b[0;34m\u001b[0m\u001b[0m\n\u001b[0;32m--> 397\u001b[0;31m         raise ValueError(\n\u001b[0m\u001b[1;32m    398\u001b[0m             \u001b[0;34m\"Found input variables with inconsistent numbers of samples: %r\"\u001b[0m\u001b[0;34m\u001b[0m\u001b[0;34m\u001b[0m\u001b[0m\n\u001b[1;32m    399\u001b[0m             \u001b[0;34m%\u001b[0m \u001b[0;34m[\u001b[0m\u001b[0mint\u001b[0m\u001b[0;34m(\u001b[0m\u001b[0ml\u001b[0m\u001b[0;34m)\u001b[0m \u001b[0;32mfor\u001b[0m \u001b[0ml\u001b[0m \u001b[0;32min\u001b[0m \u001b[0mlengths\u001b[0m\u001b[0;34m]\u001b[0m\u001b[0;34m\u001b[0m\u001b[0;34m\u001b[0m\u001b[0m\n",
            "\u001b[0;31mValueError\u001b[0m: Found input variables with inconsistent numbers of samples: [100, 10000]"
          ]
        }
      ]
    },
    {
      "cell_type": "code",
      "execution_count": null,
      "metadata": {
        "id": "PdOVNQY-Bu8q"
      },
      "outputs": [],
      "source": [
        "import matplotlib.pyplot as plt\n",
        "from sklearn.metrics import f1_score\n",
        "\n",
        "# Extract the Lime labels and y_pred labels\n",
        "lime_labels = results_df['label']\n",
        "y_pred_sample_lime = y_pred[:10000]\n",
        "\n",
        "# Calculate the F1 score for Lime on the entire test set\n",
        "f1_lime = f1_score(lime_labels, y_pred_sample_lime, pos_label=1) \n",
        "\n",
        "# Calculate the F1 score for the original DistilBERT model as a function of the number of samples\n",
        "num_samples = np.arange(10, len(y_pred_sample_lime), 10)\n",
        "f1_scores_distilbert = []\n",
        "for n in num_samples:\n",
        "    y_pred_distilbert = np.round(DistilBERT.predict(X_test[:n]))[:, 0]\n",
        "    labels = y_test[:n].astype(int)\n",
        "    f1 = f1_score(labels, y_pred_distilbert, pos_label=1)\n",
        "    f1_scores_distilbert.append(f1)\n",
        "\n",
        "# Calculate the F1 score as a function of the number of samples for Lime\n",
        "f1_scores_lime = []\n",
        "for n in num_samples:\n",
        "    f1 = f1_score(lime_labels[:n], y_pred_sample_lime[:n], pos_label=1)\n",
        "    f1_scores_lime.append(f1)\n",
        "\n",
        "# Plot the F1 score as a function of the number of samples\n",
        "fig, ax = plt.subplots()\n",
        "ax.plot(num_samples, f1_scores_lime, 'o-', label='Lime')\n",
        "ax.plot(num_samples, f1_scores_distilbert, 'o-', label='DistilBERT')\n",
        "ax.set_xlabel('Number of samples\\n(subcaption for complexity)', fontsize=12)\n",
        "ax.set_ylabel('F1 score\\n(subcaption for fidelity)', fontsize=12)\n",
        "ax.set_title('F1 score for Lime and DistilBERT', fontsize=14)\n",
        "ax.legend()\n",
        "plt.savefig('f1_score_lime_distilbert.png')\n",
        "plt.show()\n"
      ]
    },
    {
      "cell_type": "code",
      "execution_count": 111,
      "metadata": {
        "id": "GVpfCd2bjc3y",
        "colab": {
          "base_uri": "https://localhost:8080/",
          "height": 356
        },
        "outputId": "1813eb70-2dd2-47ba-e979-e9fc4945a30d"
      },
      "outputs": [
        {
          "output_type": "error",
          "ename": "TypeError",
          "evalue": "ignored",
          "traceback": [
            "\u001b[0;31m---------------------------------------------------------------------------\u001b[0m",
            "\u001b[0;31mTypeError\u001b[0m                                 Traceback (most recent call last)",
            "\u001b[0;32m<ipython-input-111-3af50c0870eb>\u001b[0m in \u001b[0;36m<cell line: 24>\u001b[0;34m()\u001b[0m\n\u001b[1;32m     22\u001b[0m \u001b[0;34m\u001b[0m\u001b[0m\n\u001b[1;32m     23\u001b[0m \u001b[0;31m# Calculate the F1 score for the original model\u001b[0m\u001b[0;34m\u001b[0m\u001b[0;34m\u001b[0m\u001b[0m\n\u001b[0;32m---> 24\u001b[0;31m \u001b[0moriginal_model_f1_score\u001b[0m \u001b[0;34m=\u001b[0m \u001b[0mcalculate_original_model_f1_score\u001b[0m\u001b[0;34m(\u001b[0m\u001b[0;34m)\u001b[0m\u001b[0;34m\u001b[0m\u001b[0;34m\u001b[0m\u001b[0m\n\u001b[0m\u001b[1;32m     25\u001b[0m \u001b[0;34m\u001b[0m\u001b[0m\n\u001b[1;32m     26\u001b[0m \u001b[0;31m# Calculate F1 scores for LIME surrogate models\u001b[0m\u001b[0;34m\u001b[0m\u001b[0;34m\u001b[0m\u001b[0m\n",
            "\u001b[0;32m<ipython-input-111-3af50c0870eb>\u001b[0m in \u001b[0;36mcalculate_original_model_f1_score\u001b[0;34m()\u001b[0m\n\u001b[1;32m     11\u001b[0m \u001b[0;34m\u001b[0m\u001b[0m\n\u001b[1;32m     12\u001b[0m     \u001b[0;32mfor\u001b[0m \u001b[0mtext\u001b[0m \u001b[0;32min\u001b[0m \u001b[0meval_text_data\u001b[0m\u001b[0;34m:\u001b[0m\u001b[0;34m\u001b[0m\u001b[0;34m\u001b[0m\u001b[0m\n\u001b[0;32m---> 13\u001b[0;31m         \u001b[0mtrue_label\u001b[0m \u001b[0;34m=\u001b[0m \u001b[0;36m1\u001b[0m \u001b[0;32mif\u001b[0m \u001b[0mtext\u001b[0m\u001b[0;34m[\u001b[0m\u001b[0;34m'label'\u001b[0m\u001b[0;34m]\u001b[0m \u001b[0;34m==\u001b[0m \u001b[0;34m'positive'\u001b[0m \u001b[0;32melse\u001b[0m \u001b[0;36m0\u001b[0m\u001b[0;34m\u001b[0m\u001b[0;34m\u001b[0m\u001b[0m\n\u001b[0m\u001b[1;32m     14\u001b[0m         \u001b[0mtrue_labels\u001b[0m\u001b[0;34m.\u001b[0m\u001b[0mappend\u001b[0m\u001b[0;34m(\u001b[0m\u001b[0mtrue_label\u001b[0m\u001b[0;34m)\u001b[0m\u001b[0;34m\u001b[0m\u001b[0;34m\u001b[0m\u001b[0m\n\u001b[1;32m     15\u001b[0m \u001b[0;34m\u001b[0m\u001b[0m\n",
            "\u001b[0;31mTypeError\u001b[0m: string indices must be integers"
          ]
        }
      ],
      "source": [
        "## incorporated original model and surrogate\n",
        "import matplotlib.pyplot as plt\n",
        "from sklearn.metrics import f1_score\n",
        "\n",
        "# Calculate F1 score for the original model\n",
        "def calculate_original_model_f1_score():\n",
        "    eval_text_data = test_dataset['text'][:1000]\n",
        "\n",
        "    true_labels = []\n",
        "    predicted_labels = []\n",
        "\n",
        "    for text in eval_text_data:\n",
        "        true_label = 1 if text['label'] == 'positive' else 0\n",
        "        true_labels.append(true_label)\n",
        "\n",
        "        predicted_probs = predict_function([text['text']])\n",
        "        predicted_label = np.argmax(predicted_probs)\n",
        "        predicted_labels.append(predicted_label)\n",
        "\n",
        "    f1 = f1_score(true_labels, predicted_labels)\n",
        "    return f1\n",
        "\n",
        "# Calculate the F1 score for the original model\n",
        "original_model_f1_score = calculate_original_model_f1_score()\n",
        "\n",
        "# Calculate F1 scores for LIME surrogate models\n",
        "samples_range = range(10, 310, 10)\n",
        "f1_scores = []\n",
        "\n",
        "for num_samples in samples_range:\n",
        "    f1 = calculate_f1_score(num_samples)\n",
        "    f1_scores.append(f1)\n",
        "\n",
        "# Plot the F1 scores against the number of samples\n",
        "plt.plot(samples_range, f1_scores, label='LIME surrogate models')\n",
        "plt.axhline(y=original_model_f1_score, color='r', linestyle='--', label='Original model')\n",
        "plt.xlabel('Number of samples for surrogate model creation')\n",
        "plt.ylabel('F1 score')\n",
        "plt.title('F1 score vs. Surrogate complexity')\n",
        "plt.legend()\n",
        "plt.show()\n"
      ]
    },
    {
      "cell_type": "code",
      "execution_count": null,
      "metadata": {
        "id": "bt41gBiJqrUo"
      },
      "outputs": [],
      "source": []
    },
    {
      "cell_type": "code",
      "execution_count": null,
      "metadata": {
        "id": "YUl0ctwbqrYD"
      },
      "outputs": [],
      "source": []
    },
    {
      "cell_type": "code",
      "execution_count": 132,
      "metadata": {
        "id": "VCDlCuho4xnl",
        "colab": {
          "base_uri": "https://localhost:8080/",
          "height": 380
        },
        "outputId": "4525ad8c-62a0-4213-9deb-591a406546f4"
      },
      "outputs": [
        {
          "output_type": "error",
          "ename": "KeyboardInterrupt",
          "evalue": "ignored",
          "traceback": [
            "\u001b[0;31m---------------------------------------------------------------------------\u001b[0m",
            "\u001b[0;31mKeyboardInterrupt\u001b[0m                         Traceback (most recent call last)",
            "\u001b[0;32m<ipython-input-132-ff806d7ea1a5>\u001b[0m in \u001b[0;36m<cell line: 26>\u001b[0;34m()\u001b[0m\n\u001b[1;32m     32\u001b[0m         \u001b[0mtext_to_explain\u001b[0m \u001b[0;34m=\u001b[0m \u001b[0mtext_to_explain\u001b[0m\u001b[0;34m[\u001b[0m\u001b[0;34m:\u001b[0m\u001b[0mmax_len\u001b[0m\u001b[0;34m]\u001b[0m\u001b[0;34m\u001b[0m\u001b[0;34m\u001b[0m\u001b[0m\n\u001b[1;32m     33\u001b[0m \u001b[0;34m\u001b[0m\u001b[0m\n\u001b[0;32m---> 34\u001b[0;31m     \u001b[0mexplanation\u001b[0m \u001b[0;34m=\u001b[0m \u001b[0mexplainer\u001b[0m\u001b[0;34m.\u001b[0m\u001b[0mexplain_instance\u001b[0m\u001b[0;34m(\u001b[0m\u001b[0mtext_to_explain\u001b[0m\u001b[0;34m,\u001b[0m \u001b[0mpredict_function\u001b[0m\u001b[0;34m)\u001b[0m\u001b[0;34m\u001b[0m\u001b[0;34m\u001b[0m\u001b[0m\n\u001b[0m\u001b[1;32m     35\u001b[0m     \u001b[0mexplanation_list\u001b[0m \u001b[0;34m=\u001b[0m \u001b[0mexplanation\u001b[0m\u001b[0;34m.\u001b[0m\u001b[0mas_list\u001b[0m\u001b[0;34m(\u001b[0m\u001b[0;34m)\u001b[0m\u001b[0;34m\u001b[0m\u001b[0;34m\u001b[0m\u001b[0m\n\u001b[1;32m     36\u001b[0m \u001b[0;34m\u001b[0m\u001b[0m\n",
            "\u001b[0;32m/usr/local/lib/python3.10/dist-packages/lime/lime_text.py\u001b[0m in \u001b[0;36mexplain_instance\u001b[0;34m(self, text_instance, classifier_fn, labels, top_labels, num_features, num_samples, distance_metric, model_regressor)\u001b[0m\n\u001b[1;32m    411\u001b[0m                                         mask_string=self.mask_string))\n\u001b[1;32m    412\u001b[0m         \u001b[0mdomain_mapper\u001b[0m \u001b[0;34m=\u001b[0m \u001b[0mTextDomainMapper\u001b[0m\u001b[0;34m(\u001b[0m\u001b[0mindexed_string\u001b[0m\u001b[0;34m)\u001b[0m\u001b[0;34m\u001b[0m\u001b[0;34m\u001b[0m\u001b[0m\n\u001b[0;32m--> 413\u001b[0;31m         data, yss, distances = self.__data_labels_distances(\n\u001b[0m\u001b[1;32m    414\u001b[0m             \u001b[0mindexed_string\u001b[0m\u001b[0;34m,\u001b[0m \u001b[0mclassifier_fn\u001b[0m\u001b[0;34m,\u001b[0m \u001b[0mnum_samples\u001b[0m\u001b[0;34m,\u001b[0m\u001b[0;34m\u001b[0m\u001b[0;34m\u001b[0m\u001b[0m\n\u001b[1;32m    415\u001b[0m             distance_metric=distance_metric)\n",
            "\u001b[0;32m/usr/local/lib/python3.10/dist-packages/lime/lime_text.py\u001b[0m in \u001b[0;36m__data_labels_distances\u001b[0;34m(self, indexed_string, classifier_fn, num_samples, distance_metric)\u001b[0m\n\u001b[1;32m    480\u001b[0m             \u001b[0mdata\u001b[0m\u001b[0;34m[\u001b[0m\u001b[0mi\u001b[0m\u001b[0;34m,\u001b[0m \u001b[0minactive\u001b[0m\u001b[0;34m]\u001b[0m \u001b[0;34m=\u001b[0m \u001b[0;36m0\u001b[0m\u001b[0;34m\u001b[0m\u001b[0;34m\u001b[0m\u001b[0m\n\u001b[1;32m    481\u001b[0m             \u001b[0minverse_data\u001b[0m\u001b[0;34m.\u001b[0m\u001b[0mappend\u001b[0m\u001b[0;34m(\u001b[0m\u001b[0mindexed_string\u001b[0m\u001b[0;34m.\u001b[0m\u001b[0minverse_removing\u001b[0m\u001b[0;34m(\u001b[0m\u001b[0minactive\u001b[0m\u001b[0;34m)\u001b[0m\u001b[0;34m)\u001b[0m\u001b[0;34m\u001b[0m\u001b[0;34m\u001b[0m\u001b[0m\n\u001b[0;32m--> 482\u001b[0;31m         \u001b[0mlabels\u001b[0m \u001b[0;34m=\u001b[0m \u001b[0mclassifier_fn\u001b[0m\u001b[0;34m(\u001b[0m\u001b[0minverse_data\u001b[0m\u001b[0;34m)\u001b[0m\u001b[0;34m\u001b[0m\u001b[0;34m\u001b[0m\u001b[0m\n\u001b[0m\u001b[1;32m    483\u001b[0m         \u001b[0mdistances\u001b[0m \u001b[0;34m=\u001b[0m \u001b[0mdistance_fn\u001b[0m\u001b[0;34m(\u001b[0m\u001b[0msp\u001b[0m\u001b[0;34m.\u001b[0m\u001b[0msparse\u001b[0m\u001b[0;34m.\u001b[0m\u001b[0mcsr_matrix\u001b[0m\u001b[0;34m(\u001b[0m\u001b[0mdata\u001b[0m\u001b[0;34m)\u001b[0m\u001b[0;34m)\u001b[0m\u001b[0;34m\u001b[0m\u001b[0;34m\u001b[0m\u001b[0m\n\u001b[1;32m    484\u001b[0m         \u001b[0;32mreturn\u001b[0m \u001b[0mdata\u001b[0m\u001b[0;34m,\u001b[0m \u001b[0mlabels\u001b[0m\u001b[0;34m,\u001b[0m \u001b[0mdistances\u001b[0m\u001b[0;34m\u001b[0m\u001b[0;34m\u001b[0m\u001b[0m\n",
            "\u001b[0;32m<ipython-input-132-ff806d7ea1a5>\u001b[0m in \u001b[0;36mpredict_function\u001b[0;34m(text_list)\u001b[0m\n\u001b[1;32m     14\u001b[0m         \u001b[0mtest_encodings\u001b[0m \u001b[0;34m=\u001b[0m \u001b[0mtokenizer\u001b[0m\u001b[0;34m(\u001b[0m\u001b[0mtext\u001b[0m\u001b[0;34m,\u001b[0m \u001b[0mtruncation\u001b[0m\u001b[0;34m=\u001b[0m\u001b[0;32mTrue\u001b[0m\u001b[0;34m,\u001b[0m \u001b[0mpadding\u001b[0m\u001b[0;34m=\u001b[0m\u001b[0;32mTrue\u001b[0m\u001b[0;34m,\u001b[0m \u001b[0mreturn_tensors\u001b[0m\u001b[0;34m=\u001b[0m\u001b[0;34m'pt'\u001b[0m\u001b[0;34m)\u001b[0m\u001b[0;34m\u001b[0m\u001b[0;34m\u001b[0m\u001b[0m\n\u001b[1;32m     15\u001b[0m         \u001b[0;32mwith\u001b[0m \u001b[0mtorch\u001b[0m\u001b[0;34m.\u001b[0m\u001b[0mno_grad\u001b[0m\u001b[0;34m(\u001b[0m\u001b[0;34m)\u001b[0m\u001b[0;34m:\u001b[0m\u001b[0;34m\u001b[0m\u001b[0;34m\u001b[0m\u001b[0m\n\u001b[0;32m---> 16\u001b[0;31m             \u001b[0moutput\u001b[0m \u001b[0;34m=\u001b[0m \u001b[0mDistilBERT\u001b[0m\u001b[0;34m(\u001b[0m\u001b[0mtest_encodings\u001b[0m\u001b[0;34m[\u001b[0m\u001b[0;34m'input_ids'\u001b[0m\u001b[0;34m]\u001b[0m\u001b[0;34m.\u001b[0m\u001b[0mto\u001b[0m\u001b[0;34m(\u001b[0m\u001b[0mDistilBERT\u001b[0m\u001b[0;34m.\u001b[0m\u001b[0mdevice\u001b[0m\u001b[0;34m)\u001b[0m\u001b[0;34m,\u001b[0m \u001b[0mtest_encodings\u001b[0m\u001b[0;34m[\u001b[0m\u001b[0;34m'attention_mask'\u001b[0m\u001b[0;34m]\u001b[0m\u001b[0;34m.\u001b[0m\u001b[0mto\u001b[0m\u001b[0;34m(\u001b[0m\u001b[0mDistilBERT\u001b[0m\u001b[0;34m.\u001b[0m\u001b[0mdevice\u001b[0m\u001b[0;34m)\u001b[0m\u001b[0;34m)\u001b[0m\u001b[0;34m\u001b[0m\u001b[0;34m\u001b[0m\u001b[0m\n\u001b[0m\u001b[1;32m     17\u001b[0m         \u001b[0mpredicted_probabilities\u001b[0m\u001b[0;34m.\u001b[0m\u001b[0mappend\u001b[0m\u001b[0;34m(\u001b[0m\u001b[0mtorch\u001b[0m\u001b[0;34m.\u001b[0m\u001b[0msoftmax\u001b[0m\u001b[0;34m(\u001b[0m\u001b[0moutput\u001b[0m\u001b[0;34m.\u001b[0m\u001b[0mlogits\u001b[0m\u001b[0;34m,\u001b[0m \u001b[0mdim\u001b[0m\u001b[0;34m=\u001b[0m\u001b[0;36m1\u001b[0m\u001b[0;34m)\u001b[0m\u001b[0;34m.\u001b[0m\u001b[0mcpu\u001b[0m\u001b[0;34m(\u001b[0m\u001b[0;34m)\u001b[0m\u001b[0;34m.\u001b[0m\u001b[0mdetach\u001b[0m\u001b[0;34m(\u001b[0m\u001b[0;34m)\u001b[0m\u001b[0;34m.\u001b[0m\u001b[0mnumpy\u001b[0m\u001b[0;34m(\u001b[0m\u001b[0;34m)\u001b[0m\u001b[0;34m[\u001b[0m\u001b[0;36m0\u001b[0m\u001b[0;34m]\u001b[0m\u001b[0;34m)\u001b[0m\u001b[0;34m\u001b[0m\u001b[0;34m\u001b[0m\u001b[0m\n\u001b[1;32m     18\u001b[0m     \u001b[0;32mreturn\u001b[0m \u001b[0mnp\u001b[0m\u001b[0;34m.\u001b[0m\u001b[0marray\u001b[0m\u001b[0;34m(\u001b[0m\u001b[0mpredicted_probabilities\u001b[0m\u001b[0;34m)\u001b[0m\u001b[0;34m\u001b[0m\u001b[0;34m\u001b[0m\u001b[0m\n",
            "\u001b[0;32m/usr/local/lib/python3.10/dist-packages/torch/nn/modules/module.py\u001b[0m in \u001b[0;36m_call_impl\u001b[0;34m(self, *args, **kwargs)\u001b[0m\n\u001b[1;32m   1499\u001b[0m                 \u001b[0;32mor\u001b[0m \u001b[0m_global_backward_pre_hooks\u001b[0m \u001b[0;32mor\u001b[0m \u001b[0m_global_backward_hooks\u001b[0m\u001b[0;34m\u001b[0m\u001b[0;34m\u001b[0m\u001b[0m\n\u001b[1;32m   1500\u001b[0m                 or _global_forward_hooks or _global_forward_pre_hooks):\n\u001b[0;32m-> 1501\u001b[0;31m             \u001b[0;32mreturn\u001b[0m \u001b[0mforward_call\u001b[0m\u001b[0;34m(\u001b[0m\u001b[0;34m*\u001b[0m\u001b[0margs\u001b[0m\u001b[0;34m,\u001b[0m \u001b[0;34m**\u001b[0m\u001b[0mkwargs\u001b[0m\u001b[0;34m)\u001b[0m\u001b[0;34m\u001b[0m\u001b[0;34m\u001b[0m\u001b[0m\n\u001b[0m\u001b[1;32m   1502\u001b[0m         \u001b[0;31m# Do not call functions when jit is used\u001b[0m\u001b[0;34m\u001b[0m\u001b[0;34m\u001b[0m\u001b[0m\n\u001b[1;32m   1503\u001b[0m         \u001b[0mfull_backward_hooks\u001b[0m\u001b[0;34m,\u001b[0m \u001b[0mnon_full_backward_hooks\u001b[0m \u001b[0;34m=\u001b[0m \u001b[0;34m[\u001b[0m\u001b[0;34m]\u001b[0m\u001b[0;34m,\u001b[0m \u001b[0;34m[\u001b[0m\u001b[0;34m]\u001b[0m\u001b[0;34m\u001b[0m\u001b[0;34m\u001b[0m\u001b[0m\n",
            "\u001b[0;32m/usr/local/lib/python3.10/dist-packages/transformers/models/distilbert/modeling_distilbert.py\u001b[0m in \u001b[0;36mforward\u001b[0;34m(self, input_ids, attention_mask, head_mask, inputs_embeds, labels, output_attentions, output_hidden_states, return_dict)\u001b[0m\n\u001b[1;32m    773\u001b[0m         \u001b[0mpooled_output\u001b[0m \u001b[0;34m=\u001b[0m \u001b[0mhidden_state\u001b[0m\u001b[0;34m[\u001b[0m\u001b[0;34m:\u001b[0m\u001b[0;34m,\u001b[0m \u001b[0;36m0\u001b[0m\u001b[0;34m]\u001b[0m  \u001b[0;31m# (bs, dim)\u001b[0m\u001b[0;34m\u001b[0m\u001b[0;34m\u001b[0m\u001b[0m\n\u001b[1;32m    774\u001b[0m         \u001b[0mpooled_output\u001b[0m \u001b[0;34m=\u001b[0m \u001b[0mself\u001b[0m\u001b[0;34m.\u001b[0m\u001b[0mpre_classifier\u001b[0m\u001b[0;34m(\u001b[0m\u001b[0mpooled_output\u001b[0m\u001b[0;34m)\u001b[0m  \u001b[0;31m# (bs, dim)\u001b[0m\u001b[0;34m\u001b[0m\u001b[0;34m\u001b[0m\u001b[0m\n\u001b[0;32m--> 775\u001b[0;31m         \u001b[0mpooled_output\u001b[0m \u001b[0;34m=\u001b[0m \u001b[0mnn\u001b[0m\u001b[0;34m.\u001b[0m\u001b[0mReLU\u001b[0m\u001b[0;34m(\u001b[0m\u001b[0;34m)\u001b[0m\u001b[0;34m(\u001b[0m\u001b[0mpooled_output\u001b[0m\u001b[0;34m)\u001b[0m  \u001b[0;31m# (bs, dim)\u001b[0m\u001b[0;34m\u001b[0m\u001b[0;34m\u001b[0m\u001b[0m\n\u001b[0m\u001b[1;32m    776\u001b[0m         \u001b[0mpooled_output\u001b[0m \u001b[0;34m=\u001b[0m \u001b[0mself\u001b[0m\u001b[0;34m.\u001b[0m\u001b[0mdropout\u001b[0m\u001b[0;34m(\u001b[0m\u001b[0mpooled_output\u001b[0m\u001b[0;34m)\u001b[0m  \u001b[0;31m# (bs, dim)\u001b[0m\u001b[0;34m\u001b[0m\u001b[0;34m\u001b[0m\u001b[0m\n\u001b[1;32m    777\u001b[0m         \u001b[0mlogits\u001b[0m \u001b[0;34m=\u001b[0m \u001b[0mself\u001b[0m\u001b[0;34m.\u001b[0m\u001b[0mclassifier\u001b[0m\u001b[0;34m(\u001b[0m\u001b[0mpooled_output\u001b[0m\u001b[0;34m)\u001b[0m  \u001b[0;31m# (bs, num_labels)\u001b[0m\u001b[0;34m\u001b[0m\u001b[0;34m\u001b[0m\u001b[0m\n",
            "\u001b[0;32m/usr/local/lib/python3.10/dist-packages/torch/nn/modules/module.py\u001b[0m in \u001b[0;36m_call_impl\u001b[0;34m(self, *args, **kwargs)\u001b[0m\n\u001b[1;32m   1499\u001b[0m                 \u001b[0;32mor\u001b[0m \u001b[0m_global_backward_pre_hooks\u001b[0m \u001b[0;32mor\u001b[0m \u001b[0m_global_backward_hooks\u001b[0m\u001b[0;34m\u001b[0m\u001b[0;34m\u001b[0m\u001b[0m\n\u001b[1;32m   1500\u001b[0m                 or _global_forward_hooks or _global_forward_pre_hooks):\n\u001b[0;32m-> 1501\u001b[0;31m             \u001b[0;32mreturn\u001b[0m \u001b[0mforward_call\u001b[0m\u001b[0;34m(\u001b[0m\u001b[0;34m*\u001b[0m\u001b[0margs\u001b[0m\u001b[0;34m,\u001b[0m \u001b[0;34m**\u001b[0m\u001b[0mkwargs\u001b[0m\u001b[0;34m)\u001b[0m\u001b[0;34m\u001b[0m\u001b[0;34m\u001b[0m\u001b[0m\n\u001b[0m\u001b[1;32m   1502\u001b[0m         \u001b[0;31m# Do not call functions when jit is used\u001b[0m\u001b[0;34m\u001b[0m\u001b[0;34m\u001b[0m\u001b[0m\n\u001b[1;32m   1503\u001b[0m         \u001b[0mfull_backward_hooks\u001b[0m\u001b[0;34m,\u001b[0m \u001b[0mnon_full_backward_hooks\u001b[0m \u001b[0;34m=\u001b[0m \u001b[0;34m[\u001b[0m\u001b[0;34m]\u001b[0m\u001b[0;34m,\u001b[0m \u001b[0;34m[\u001b[0m\u001b[0;34m]\u001b[0m\u001b[0;34m\u001b[0m\u001b[0;34m\u001b[0m\u001b[0m\n",
            "\u001b[0;32m/usr/local/lib/python3.10/dist-packages/torch/nn/modules/activation.py\u001b[0m in \u001b[0;36mforward\u001b[0;34m(self, input)\u001b[0m\n\u001b[1;32m    101\u001b[0m \u001b[0;34m\u001b[0m\u001b[0m\n\u001b[1;32m    102\u001b[0m     \u001b[0;32mdef\u001b[0m \u001b[0mforward\u001b[0m\u001b[0;34m(\u001b[0m\u001b[0mself\u001b[0m\u001b[0;34m,\u001b[0m \u001b[0minput\u001b[0m\u001b[0;34m:\u001b[0m \u001b[0mTensor\u001b[0m\u001b[0;34m)\u001b[0m \u001b[0;34m->\u001b[0m \u001b[0mTensor\u001b[0m\u001b[0;34m:\u001b[0m\u001b[0;34m\u001b[0m\u001b[0;34m\u001b[0m\u001b[0m\n\u001b[0;32m--> 103\u001b[0;31m         \u001b[0;32mreturn\u001b[0m \u001b[0mF\u001b[0m\u001b[0;34m.\u001b[0m\u001b[0mrelu\u001b[0m\u001b[0;34m(\u001b[0m\u001b[0minput\u001b[0m\u001b[0;34m,\u001b[0m \u001b[0minplace\u001b[0m\u001b[0;34m=\u001b[0m\u001b[0mself\u001b[0m\u001b[0;34m.\u001b[0m\u001b[0minplace\u001b[0m\u001b[0;34m)\u001b[0m\u001b[0;34m\u001b[0m\u001b[0;34m\u001b[0m\u001b[0m\n\u001b[0m\u001b[1;32m    104\u001b[0m \u001b[0;34m\u001b[0m\u001b[0m\n\u001b[1;32m    105\u001b[0m     \u001b[0;32mdef\u001b[0m \u001b[0mextra_repr\u001b[0m\u001b[0;34m(\u001b[0m\u001b[0mself\u001b[0m\u001b[0;34m)\u001b[0m \u001b[0;34m->\u001b[0m \u001b[0mstr\u001b[0m\u001b[0;34m:\u001b[0m\u001b[0;34m\u001b[0m\u001b[0;34m\u001b[0m\u001b[0m\n",
            "\u001b[0;32m/usr/local/lib/python3.10/dist-packages/torch/nn/functional.py\u001b[0m in \u001b[0;36mrelu\u001b[0;34m(input, inplace)\u001b[0m\n\u001b[1;32m   1455\u001b[0m         \u001b[0mresult\u001b[0m \u001b[0;34m=\u001b[0m \u001b[0mtorch\u001b[0m\u001b[0;34m.\u001b[0m\u001b[0mrelu_\u001b[0m\u001b[0;34m(\u001b[0m\u001b[0minput\u001b[0m\u001b[0;34m)\u001b[0m\u001b[0;34m\u001b[0m\u001b[0;34m\u001b[0m\u001b[0m\n\u001b[1;32m   1456\u001b[0m     \u001b[0;32melse\u001b[0m\u001b[0;34m:\u001b[0m\u001b[0;34m\u001b[0m\u001b[0;34m\u001b[0m\u001b[0m\n\u001b[0;32m-> 1457\u001b[0;31m         \u001b[0mresult\u001b[0m \u001b[0;34m=\u001b[0m \u001b[0mtorch\u001b[0m\u001b[0;34m.\u001b[0m\u001b[0mrelu\u001b[0m\u001b[0;34m(\u001b[0m\u001b[0minput\u001b[0m\u001b[0;34m)\u001b[0m\u001b[0;34m\u001b[0m\u001b[0;34m\u001b[0m\u001b[0m\n\u001b[0m\u001b[1;32m   1458\u001b[0m     \u001b[0;32mreturn\u001b[0m \u001b[0mresult\u001b[0m\u001b[0;34m\u001b[0m\u001b[0;34m\u001b[0m\u001b[0m\n\u001b[1;32m   1459\u001b[0m \u001b[0;34m\u001b[0m\u001b[0m\n",
            "\u001b[0;31mKeyboardInterrupt\u001b[0m: "
          ]
        }
      ],
      "source": [
        "#GET WEIGHTED PERCENTAGE ON AVERAGE WORD USED FOR LABELING\n",
        "from transformers import AutoTokenizer\n",
        "from lime.lime_text import LimeTextExplainer\n",
        "import torch\n",
        "import numpy as np\n",
        "import pandas as pd\n",
        "\n",
        "explainer = LimeTextExplainer(class_names=[\"negative\", \"positive\"])\n",
        "tokenizer = AutoTokenizer.from_pretrained('distilbert-base-uncased')\n",
        "\n",
        "def predict_function(text_list):\n",
        "    predicted_probabilities = []\n",
        "    for text in text_list:\n",
        "        test_encodings = tokenizer(text, truncation=True, padding=True, return_tensors='pt')\n",
        "        with torch.no_grad():\n",
        "            output = DistilBERT(test_encodings['input_ids'].to(DistilBERT.device), test_encodings['attention_mask'].to(DistilBERT.device))\n",
        "        predicted_probabilities.append(torch.softmax(output.logits, dim=1).cpu().detach().numpy()[0])\n",
        "    return np.array(predicted_probabilities)\n",
        "\n",
        "\n",
        "# get text data for the first 50 reviews\n",
        "text_data = test_dataset['text'][:60]\n",
        "\n",
        "results_df = pd.DataFrame(columns=[\"review_index\", \"word_count\", \"positive_count\", \"negative_count\", \"label\"])\n",
        "\n",
        "for index, text in enumerate(text_data):\n",
        "    explainer = LimeTextExplainer(class_names=[\"negative\", \"positive\"])\n",
        "    text_to_explain = text\n",
        "\n",
        "    max_len = 200\n",
        "    if len(text_to_explain) > max_len:\n",
        "        text_to_explain = text_to_explain[:max_len]\n",
        "\n",
        "    explanation = explainer.explain_instance(text_to_explain, predict_function)\n",
        "    explanation_list = explanation.as_list()\n",
        "\n",
        "    print('Explanation for index {}: {}'.format(index, explanation.as_list()))\n",
        "\n",
        "    positive_count = 0\n",
        "    negative_count = 0\n",
        "\n",
        "    for word, weight in explanation_list:\n",
        "        if weight >= 0:\n",
        "            positive_count += 1\n",
        "        else:\n",
        "            negative_count += 1\n",
        "\n",
        "    total_count = positive_count + negative_count\n",
        "    positive_percentage = (positive_count / total_count) * 100\n",
        "    negative_percentage = (negative_count / total_count) * 100\n",
        "\n",
        "    if positive_count > negative_count:\n",
        "        label = \"positive\"\n",
        "    else:\n",
        "        label = \"negative\"\n",
        "\n",
        "    word_count = len(text_to_explain.split())\n",
        "    new_row = {\"review_index\": index, \"word_count\": word_count,\n",
        "           \"positive_count\": positive_count, \"negative_count\": negative_count,\n",
        "           \"label\": label}\n",
        "    results_df = pd.concat([results_df, pd.DataFrame(new_row, index=[0])], ignore_index=True)\n",
        "print(results_df)\n"
      ]
    },
    {
      "cell_type": "code",
      "source": [
        "results_df = pd.read_csv('SA_transformer10000.csv')"
      ],
      "metadata": {
        "id": "iUIInfAuBkL4"
      },
      "execution_count": 135,
      "outputs": []
    },
    {
      "cell_type": "code",
      "execution_count": 136,
      "metadata": {
        "id": "kgeiof9m-7EV",
        "colab": {
          "base_uri": "https://localhost:8080/"
        },
        "outputId": "2efc443a-079d-4947-cea7-7f2bf7a7d2f3"
      },
      "outputs": [
        {
          "output_type": "stream",
          "name": "stdout",
          "text": [
            "Weighted average percentage of words used to detect positive label: 13.86%\n",
            "Weighted average percentage of words used to detect negative label: 13.55%\n"
          ]
        }
      ],
      "source": [
        "# Calculate the percentage of positive and negative words required for each review\n",
        "results_df['positive_percentage'] = results_df['positive_count'] / results_df['word_count']\n",
        "results_df['negative_percentage'] = results_df['negative_count'] / results_df['word_count']\n",
        "\n",
        "# Calculate the weighted average of the positive and negative percentages based on the length of each review\n",
        "weighted_positive_percentage = (results_df['positive_percentage'] * results_df['word_count']).sum() / results_df['word_count'].sum()\n",
        "weighted_negative_percentage = (results_df['negative_percentage'] * results_df['word_count']).sum() / results_df['word_count'].sum()\n",
        "\n",
        "print(\"Weighted average percentage of words used to detect positive label: {:.2f}%\".format(weighted_positive_percentage * 100))\n",
        "print(\"Weighted average percentage of words used to detect negative label: {:.2f}%\".format(weighted_negative_percentage * 100))\n"
      ]
    },
    {
      "cell_type": "markdown",
      "metadata": {
        "id": "SRB6OWoMV6Hy"
      },
      "source": [
        "ROC AUC curve for LIME Surrogate"
      ]
    },
    {
      "cell_type": "code",
      "execution_count": 138,
      "metadata": {
        "id": "lfsaOMFTwr3o",
        "colab": {
          "base_uri": "https://localhost:8080/",
          "height": 380
        },
        "outputId": "ce11751a-d822-4b48-c9f1-ccbad3c2221a"
      },
      "outputs": [
        {
          "output_type": "error",
          "ename": "ValueError",
          "evalue": "ignored",
          "traceback": [
            "\u001b[0;31m---------------------------------------------------------------------------\u001b[0m",
            "\u001b[0;31mValueError\u001b[0m                                Traceback (most recent call last)",
            "\u001b[0;32m<ipython-input-138-3821307edb4a>\u001b[0m in \u001b[0;36m<cell line: 12>\u001b[0;34m()\u001b[0m\n\u001b[1;32m     10\u001b[0m \u001b[0mfpr_lime\u001b[0m\u001b[0;34m,\u001b[0m \u001b[0mtpr_lime\u001b[0m\u001b[0;34m,\u001b[0m \u001b[0m_\u001b[0m \u001b[0;34m=\u001b[0m \u001b[0mroc_curve\u001b[0m\u001b[0;34m(\u001b[0m\u001b[0mlime_labels\u001b[0m\u001b[0;34m,\u001b[0m \u001b[0my_scores\u001b[0m\u001b[0;34m)\u001b[0m\u001b[0;34m\u001b[0m\u001b[0;34m\u001b[0m\u001b[0m\n\u001b[1;32m     11\u001b[0m \u001b[0mroc_auc_lime\u001b[0m \u001b[0;34m=\u001b[0m \u001b[0mauc\u001b[0m\u001b[0;34m(\u001b[0m\u001b[0mfpr_lime\u001b[0m\u001b[0;34m,\u001b[0m \u001b[0mtpr_lime\u001b[0m\u001b[0;34m)\u001b[0m\u001b[0;34m\u001b[0m\u001b[0;34m\u001b[0m\u001b[0m\n\u001b[0;32m---> 12\u001b[0;31m \u001b[0mfpr_lstm\u001b[0m\u001b[0;34m,\u001b[0m \u001b[0mtpr_lstm\u001b[0m\u001b[0;34m,\u001b[0m \u001b[0m_\u001b[0m \u001b[0;34m=\u001b[0m \u001b[0mroc_curve\u001b[0m\u001b[0;34m(\u001b[0m\u001b[0mtrue_labels\u001b[0m\u001b[0;34m,\u001b[0m \u001b[0mpredicted_probabilities\u001b[0m\u001b[0;34m[\u001b[0m\u001b[0;34m:\u001b[0m\u001b[0;34m,\u001b[0m \u001b[0;36m1\u001b[0m\u001b[0;34m]\u001b[0m\u001b[0;34m)\u001b[0m\u001b[0;34m\u001b[0m\u001b[0;34m\u001b[0m\u001b[0m\n\u001b[0m\u001b[1;32m     13\u001b[0m \u001b[0mroc_auc_lstm\u001b[0m \u001b[0;34m=\u001b[0m \u001b[0mauc\u001b[0m\u001b[0;34m(\u001b[0m\u001b[0mfpr_lstm\u001b[0m\u001b[0;34m,\u001b[0m \u001b[0mtpr_lstm\u001b[0m\u001b[0;34m)\u001b[0m\u001b[0;34m\u001b[0m\u001b[0;34m\u001b[0m\u001b[0m\n\u001b[1;32m     14\u001b[0m \u001b[0;34m\u001b[0m\u001b[0m\n",
            "\u001b[0;32m/usr/local/lib/python3.10/dist-packages/sklearn/metrics/_ranking.py\u001b[0m in \u001b[0;36mroc_curve\u001b[0;34m(y_true, y_score, pos_label, sample_weight, drop_intermediate)\u001b[0m\n\u001b[1;32m    990\u001b[0m     \u001b[0marray\u001b[0m\u001b[0;34m(\u001b[0m\u001b[0;34m[\u001b[0m\u001b[0;36m1.8\u001b[0m \u001b[0;34m,\u001b[0m \u001b[0;36m0.8\u001b[0m \u001b[0;34m,\u001b[0m \u001b[0;36m0.4\u001b[0m \u001b[0;34m,\u001b[0m \u001b[0;36m0.35\u001b[0m\u001b[0;34m,\u001b[0m \u001b[0;36m0.1\u001b[0m \u001b[0;34m]\u001b[0m\u001b[0;34m)\u001b[0m\u001b[0;34m\u001b[0m\u001b[0;34m\u001b[0m\u001b[0m\n\u001b[1;32m    991\u001b[0m     \"\"\"\n\u001b[0;32m--> 992\u001b[0;31m     fps, tps, thresholds = _binary_clf_curve(\n\u001b[0m\u001b[1;32m    993\u001b[0m         \u001b[0my_true\u001b[0m\u001b[0;34m,\u001b[0m \u001b[0my_score\u001b[0m\u001b[0;34m,\u001b[0m \u001b[0mpos_label\u001b[0m\u001b[0;34m=\u001b[0m\u001b[0mpos_label\u001b[0m\u001b[0;34m,\u001b[0m \u001b[0msample_weight\u001b[0m\u001b[0;34m=\u001b[0m\u001b[0msample_weight\u001b[0m\u001b[0;34m\u001b[0m\u001b[0;34m\u001b[0m\u001b[0m\n\u001b[1;32m    994\u001b[0m     )\n",
            "\u001b[0;32m/usr/local/lib/python3.10/dist-packages/sklearn/metrics/_ranking.py\u001b[0m in \u001b[0;36m_binary_clf_curve\u001b[0;34m(y_true, y_score, pos_label, sample_weight)\u001b[0m\n\u001b[1;32m    749\u001b[0m         \u001b[0;32mraise\u001b[0m \u001b[0mValueError\u001b[0m\u001b[0;34m(\u001b[0m\u001b[0;34m\"{0} format is not supported\"\u001b[0m\u001b[0;34m.\u001b[0m\u001b[0mformat\u001b[0m\u001b[0;34m(\u001b[0m\u001b[0my_type\u001b[0m\u001b[0;34m)\u001b[0m\u001b[0;34m)\u001b[0m\u001b[0;34m\u001b[0m\u001b[0;34m\u001b[0m\u001b[0m\n\u001b[1;32m    750\u001b[0m \u001b[0;34m\u001b[0m\u001b[0m\n\u001b[0;32m--> 751\u001b[0;31m     \u001b[0mcheck_consistent_length\u001b[0m\u001b[0;34m(\u001b[0m\u001b[0my_true\u001b[0m\u001b[0;34m,\u001b[0m \u001b[0my_score\u001b[0m\u001b[0;34m,\u001b[0m \u001b[0msample_weight\u001b[0m\u001b[0;34m)\u001b[0m\u001b[0;34m\u001b[0m\u001b[0;34m\u001b[0m\u001b[0m\n\u001b[0m\u001b[1;32m    752\u001b[0m     \u001b[0my_true\u001b[0m \u001b[0;34m=\u001b[0m \u001b[0mcolumn_or_1d\u001b[0m\u001b[0;34m(\u001b[0m\u001b[0my_true\u001b[0m\u001b[0;34m)\u001b[0m\u001b[0;34m\u001b[0m\u001b[0;34m\u001b[0m\u001b[0m\n\u001b[1;32m    753\u001b[0m     \u001b[0my_score\u001b[0m \u001b[0;34m=\u001b[0m \u001b[0mcolumn_or_1d\u001b[0m\u001b[0;34m(\u001b[0m\u001b[0my_score\u001b[0m\u001b[0;34m)\u001b[0m\u001b[0;34m\u001b[0m\u001b[0;34m\u001b[0m\u001b[0m\n",
            "\u001b[0;32m/usr/local/lib/python3.10/dist-packages/sklearn/utils/validation.py\u001b[0m in \u001b[0;36mcheck_consistent_length\u001b[0;34m(*arrays)\u001b[0m\n\u001b[1;32m    395\u001b[0m     \u001b[0muniques\u001b[0m \u001b[0;34m=\u001b[0m \u001b[0mnp\u001b[0m\u001b[0;34m.\u001b[0m\u001b[0munique\u001b[0m\u001b[0;34m(\u001b[0m\u001b[0mlengths\u001b[0m\u001b[0;34m)\u001b[0m\u001b[0;34m\u001b[0m\u001b[0;34m\u001b[0m\u001b[0m\n\u001b[1;32m    396\u001b[0m     \u001b[0;32mif\u001b[0m \u001b[0mlen\u001b[0m\u001b[0;34m(\u001b[0m\u001b[0muniques\u001b[0m\u001b[0;34m)\u001b[0m \u001b[0;34m>\u001b[0m \u001b[0;36m1\u001b[0m\u001b[0;34m:\u001b[0m\u001b[0;34m\u001b[0m\u001b[0;34m\u001b[0m\u001b[0m\n\u001b[0;32m--> 397\u001b[0;31m         raise ValueError(\n\u001b[0m\u001b[1;32m    398\u001b[0m             \u001b[0;34m\"Found input variables with inconsistent numbers of samples: %r\"\u001b[0m\u001b[0;34m\u001b[0m\u001b[0;34m\u001b[0m\u001b[0m\n\u001b[1;32m    399\u001b[0m             \u001b[0;34m%\u001b[0m \u001b[0;34m[\u001b[0m\u001b[0mint\u001b[0m\u001b[0;34m(\u001b[0m\u001b[0ml\u001b[0m\u001b[0;34m)\u001b[0m \u001b[0;32mfor\u001b[0m \u001b[0ml\u001b[0m \u001b[0;32min\u001b[0m \u001b[0mlengths\u001b[0m\u001b[0;34m]\u001b[0m\u001b[0;34m\u001b[0m\u001b[0;34m\u001b[0m\u001b[0m\n",
            "\u001b[0;31mValueError\u001b[0m: Found input variables with inconsistent numbers of samples: [100, 25000]"
          ]
        }
      ],
      "source": [
        "from sklearn.metrics import roc_curve, auc\n",
        "from sklearn.preprocessing import LabelEncoder\n",
        "\n",
        "# Extract the Lime labels and y_pred labels\n",
        "le = LabelEncoder()\n",
        "lime_labels = le.fit_transform(results_df['label'])\n",
        "y_scores = np.round(predicted_probabilities[:6809, 1])\n",
        "\n",
        "# Calculate the ROC curve and AUC for both models\n",
        "fpr_lime, tpr_lime, _ = roc_curve(lime_labels, y_scores)\n",
        "roc_auc_lime = auc(fpr_lime, tpr_lime)\n",
        "fpr_lstm, tpr_lstm, _ = roc_curve(true_labels, predicted_probabilities[:, 1])\n",
        "roc_auc_lstm = auc(fpr_lstm, tpr_lstm)\n",
        "\n",
        "# Plot the ROC curve for both models\n",
        "plt.figure()\n",
        "lw = 2\n",
        "plt.plot(fpr_lime, tpr_lime, color='darkorange',\n",
        "         lw=lw, label='Lime ROC curve (AUC = %0.2f)' % roc_auc_lime)\n",
        "plt.plot(fpr_lstm, tpr_lstm, color='blue',\n",
        "         lw=lw, label='LSTM ROC curve (AUC = %0.2f)' % roc_auc_lstm)\n",
        "plt.plot([0, 1], [0, 1], color='gray', lw=lw, linestyle='--')\n",
        "plt.xlim([0.0, 1.0])\n",
        "plt.ylim([0.0, 1.05])\n",
        "plt.xlabel('False Positive Rate')\n",
        "plt.ylabel('True Positive Rate')\n",
        "plt.title('ROC curve')\n",
        "plt.legend(loc=\"lower right\")\n",
        "plt.savefig('ROC_curve_60.png')\n",
        "plt.show()\n"
      ]
    },
    {
      "cell_type": "code",
      "execution_count": null,
      "metadata": {
        "id": "eClNedbiVwd4"
      },
      "outputs": [],
      "source": [
        "from sklearn.metrics import f1_score\n",
        "import matplotlib.pyplot as plt\n",
        "\n",
        "# Extract the Lime labels and surrogate model predictions\n",
        "le = LabelEncoder()\n",
        "lime_labels = le.fit_transform(results_df['label'])\n",
        "surrogate_labels = np.argmax(DistilBERT(test_dataset['label'])[0].cpu().detach().numpy(), axis=1)\n",
        "\n",
        "# Calculate the F1 score for the surrogate model on the entire test set\n",
        "f1_surrogate = f1_score(lime_labels, surrogate_labels, pos_label=1)\n",
        "\n",
        "# Calculate the F1 score as a function of the number of samples\n",
        "num_samples = np.arange(60, len(lime_labels), 50)\n",
        "f1_scores = []\n",
        "for n in num_samples:\n",
        "    f1 = f1_score(lime_labels[:n], surrogate_labels[:n], pos_label=1)\n",
        "    f1_scores.append(f1)\n",
        "\n",
        "# Plot the F1 score as a function of the number of samples\n",
        "plt.plot(num_samples, f1_scores, 'o-')\n",
        "plt.xlabel('Number of Samples')\n",
        "plt.ylabel('F1 Score')\n",
        "plt.title('F1 score for surrogate model')\n",
        "plt.axhline(y=f1_surrogate, color='r', linestyle='--', label='Overall F1 Score')\n",
        "plt.legend()\n",
        "plt.savefig('f1_score_surrogate.png')\n",
        "plt.show()\n",
        "\n",
        "# Plot the ROC curve for both models\n",
        "from sklearn.metrics import roc_curve, auc\n",
        "\n",
        "# Extract the predicted scores for the positive class for the first 60 samples\n",
        "y_scores = np.round(predicted_probabilities[:60, 1])\n",
        "\n",
        "# Calculate the ROC curve and AUC for the surrogate model\n",
        "fpr_surrogate, tpr_surrogate, _ = roc_curve(lime_labels, surrogate_labels)\n",
        "roc_auc_surrogate = auc(fpr_surrogate, tpr_surrogate)\n",
        "\n",
        "# Calculate the ROC curve and AUC for Lime\n",
        "fpr_lime, tpr_lime, _ = roc_curve(lime_labels, y_scores)\n",
        "roc_auc_lime = auc(fpr_lime, tpr_lime)\n",
        "\n",
        "# Plot the ROC curve for both models\n",
        "plt.figure()\n",
        "lw = 2\n",
        "plt.plot(fpr_lime, tpr_lime, color='darkorange',\n",
        "         lw=lw, label='Lime ROC curve (AUC = %0.2f)' % roc_auc_lime)\n",
        "plt.plot(fpr_surrogate, tpr_surrogate, color='blue',\n",
        "         lw=lw, label='Surrogate ROC curve (AUC = %0.2f)' % roc_auc_surrogate)\n",
        "plt.plot([0, 1], [0, 1], color='gray', lw=lw, linestyle='--')\n",
        "plt.xlim([0.0, 1.0])\n",
        "plt.ylim([0.0, 1.05])\n",
        "plt.xlabel('False Positive Rate')\n",
        "plt.ylabel('True Positive Rate')\n",
        "plt.title('ROC curve')\n",
        "plt.legend(loc=\"lower right\")\n",
        "plt.savefig('ROC_curve_surrogate.png')\n",
        "plt.show()\n"
      ]
    },
    {
      "cell_type": "code",
      "execution_count": null,
      "metadata": {
        "id": "tmATFTXaVwhS"
      },
      "outputs": [],
      "source": []
    },
    {
      "cell_type": "code",
      "execution_count": null,
      "metadata": {
        "id": "PwwuPRFKVwl9"
      },
      "outputs": [],
      "source": []
    },
    {
      "cell_type": "code",
      "execution_count": null,
      "metadata": {
        "id": "9UoKrfUqVwo4"
      },
      "outputs": [],
      "source": []
    },
    {
      "cell_type": "code",
      "execution_count": null,
      "metadata": {
        "id": "-cXPdzh72eaH"
      },
      "outputs": [],
      "source": [
        "# loop over batches\n",
        "num_features = 5\n",
        "batch_size = 3\n",
        "num_reviews = 3\n",
        "\n",
        "results_df = pd.DataFrame(columns=[\"review_index\", \"word_count\", \"positive_count\", \"negative_count\", \"label\"])\n",
        "\n",
        "for i in range(math.ceil(num_reviews/batch_size)):\n",
        "    start_idx = i * batch_size\n",
        "    end_idx = min((i + 1) * batch_size, num_reviews)\n",
        "    batch_texts = text_data[start_idx:end_idx]\n",
        "    \n",
        "    for idx, batch_text in enumerate(batch_texts):\n",
        "        explainer = LimeTextExplainer(class_names=[\"negative\", \"positive\"])\n",
        "        text_to_explain = batch_text\n",
        "\n",
        "        max_len = 200\n",
        "        if len(text_to_explain) > max_len:\n",
        "            text_to_explain = text_to_explain[:max_len]\n",
        "\n",
        "        explanation = explainer.explain_instance(text_to_explain, predict_function, num_features=num_features, top_labels=2)\n",
        "        \n",
        "        explanation_list = explanation.as_list()\n",
        "        positive_count = 0\n",
        "        negative_count = 0\n",
        "\n",
        "        for word, weight in explanation_list:\n",
        "            if weight >= 0:\n",
        "                positive_count += 1\n",
        "            else:\n",
        "                negative_count += 1\n",
        "\n",
        "        total_count = positive_count + negative_count\n",
        "        positive_percentage = (positive_count / total_count) * 100\n",
        "        negative_percentage = (negative_count / total_count) * 100\n",
        "\n",
        "        available_labels = explanation.available_labels()\n",
        "        if available_labels[0] == \"positive\":\n",
        "            label = \"positive\"\n",
        "\n",
        "        word_count = len(text_to_explain.split())\n",
        "\n",
        "        new_row = {\"review_index\": start_idx+idx, \"word_count\": word_count, \n",
        "           \"positive_count\": positive_count, \"negative_count\": negative_count,\n",
        "           \"label\": label}\n",
        "        results_df = pd.concat([results_df, pd.DataFrame(new_row, index=[0])], ignore_index=True)\n",
        "\n",
        "\n",
        "    print(\"Completed batch:\", i+1, \"out of\", math.ceil(num_reviews/batch_size))\n"
      ]
    },
    {
      "cell_type": "code",
      "execution_count": null,
      "metadata": {
        "id": "POnbZ3wqjnlj"
      },
      "outputs": [],
      "source": [
        "#explainer for whole dataset via batch\n",
        "\n",
        "from transformers import AutoTokenizer\n",
        "from lime.lime_text import LimeTextExplainer\n",
        "import torch\n",
        "import math\n",
        "import numpy as np\n",
        "import pandas as pd\n",
        "\n",
        "explainer = LimeTextExplainer(class_names=[\"negative\", \"positive\"])\n",
        "tokenizer = AutoTokenizer.from_pretrained('distilbert-base-uncased')\n",
        "\n",
        "def predict_function(text_list):\n",
        "    predicted_probabilities = []\n",
        "    for text in text_list:\n",
        "        test_encodings = tokenizer(text, truncation=True, padding=True, return_tensors='pt')\n",
        "        with torch.no_grad():\n",
        "            output = DistilBERT(test_encodings['input_ids'].to(DistilBERT.device), test_encodings['attention_mask'].to(DistilBERT.device))\n",
        "        predicted_probabilities.append(torch.softmax(output.logits, dim=1).cpu().detach().numpy()[0])\n",
        "    return np.array(predicted_probabilities)\n",
        "\n",
        "\n",
        "# get text data\n",
        "text_data = test_dataset['text']\n",
        "\n",
        "# loop over batches\n",
        "num_features = 5\n",
        "batch_size = 20\n",
        "\n",
        "results_df = pd.DataFrame(columns=[\"review_index\", \"word_count\", \"positive_count\", \"negative_count\", \"label\"])\n",
        "\n",
        "for i in range(math.ceil(len(text_data)/batch_size)):\n",
        "    start_idx = i * batch_size\n",
        "    end_idx = min((i + 1) * batch_size, len(text_data))\n",
        "    batch_texts = text_data[start_idx:end_idx]\n",
        "    \n",
        "    for idx, batch_text in enumerate(batch_texts):\n",
        "        explainer = LimeTextExplainer(class_names=[\"negative\", \"positive\"])\n",
        "        text_to_explain = batch_text\n",
        "\n",
        "        max_len = 200\n",
        "        if len(text_to_explain) > max_len:\n",
        "            text_to_explain = text_to_explain[:max_len]\n",
        "\n",
        "        explanation = explainer.explain_instance(text_to_explain, predict_function, num_features=num_features, top_labels=2)\n",
        "        \n",
        "        explanation_list = explanation.as_list()\n",
        "        positive_count = 0\n",
        "        negative_count = 0\n",
        "\n",
        "        for word, weight in explanation_list:\n",
        "            if weight >= 0:\n",
        "                positive_count += 1\n",
        "            else:\n",
        "                negative_count += 1\n",
        "\n",
        "        total_count = positive_count + negative_count\n",
        "        positive_percentage = (positive_count / total_count) * 100\n",
        "        negative_percentage = (negative_count / total_count) * 100\n",
        "\n",
        "        available_labels = explanation.available_labels()\n",
        "        if available_labels[0] == \"positive\":\n",
        "            label = \"positive\"\n",
        "\n",
        "        word_count = len(text_to_explain.split())\n",
        "\n",
        "        new_row = {\"review_index\": start_idx+idx, \"word_count\": word_count, \n",
        "           \"positive_count\": positive_count, \"negative_count\": negative_count,\n",
        "           \"label\": label}\n",
        "        results_df = pd.concat([results_df, pd.DataFrame(new_row, index=[0])], ignore_index=True)\n",
        "\n",
        "        results_df = results_df.append({\"review_index\": start_idx+idx,\n",
        "                                         \"word_count\": word_count,\n",
        "                                         \"positive_count\": positive_count,\n",
        "                                         \"negative_count\": negative_count,\n",
        "                                         \"label\": label}, ignore_index=True)\n",
        "\n",
        "    print(\"Completed batch:\", i+1, \"out of\", math.ceil(len(text_data)/batch_size))\n",
        "\n",
        "print(results_df)\n"
      ]
    },
    {
      "cell_type": "code",
      "execution_count": null,
      "metadata": {
        "id": "9YO3LUrVa2qo"
      },
      "outputs": [],
      "source": [
        "from transformers import AutoTokenizer\n",
        "from lime.lime_text import LimeTextExplainer\n",
        "import torch\n",
        "import math\n",
        "import numpy as np\n",
        "\n",
        "\n",
        "index = 4\n",
        "explainer = LimeTextExplainer(class_names=[\"negative\", \"positive\"])\n",
        "tokenizer = AutoTokenizer.from_pretrained('distilbert-base-uncased')\n",
        "\n",
        "def print_function(review, actual_sentiment, predicted_probabilities):\n",
        "    print(\"Review: \", review)\n",
        "    print(\"Actual sentiment: \", actual_sentiment)\n",
        "    print(\"Predicted probabilities: \", predicted_probabilities)\n",
        "    print()\n",
        "\n",
        "def predict_function(text_list):\n",
        "    predicted_probabilities = []\n",
        "    for text in text_list:\n",
        "        test_encodings = tokenizer(text, truncation=True, padding=True, return_tensors='pt')\n",
        "        with torch.no_grad():\n",
        "            output = model(test_encodings['input_ids'].to(model.device), test_encodings['attention_mask'].to(model.device))\n",
        "        predicted_probabilities.append(torch.softmax(output.logits, dim=1).cpu().detach().numpy()[0])\n",
        "    return np.array(predicted_probabilities)\n",
        "\n",
        "\n",
        "# get text data\n",
        "text_data = test_dataset['text']\n",
        "\n",
        "# loop over batches\n",
        "num_features = 5\n",
        "batch_size = 8\n",
        "for i in range(math.ceil(len(text_data)/batch_size)):\n",
        "    start_idx = i * batch_size\n",
        "    end_idx = min((i + 1) * batch_size, len(text_data))\n",
        "    batch_texts = text_data[start_idx:end_idx]\n",
        "    exp = explainer.explain_instance('\\n'.join(batch_texts), predict_function, num_features=num_features, top_labels=2)\n",
        "    print(exp.as_list())\n"
      ]
    },
    {
      "cell_type": "markdown",
      "metadata": {
        "id": "YU8JXuY-Rvrp"
      },
      "source": [
        "Evaluate positive review"
      ]
    },
    {
      "cell_type": "code",
      "execution_count": null,
      "metadata": {
        "id": "Y7AvN4E_PJDK"
      },
      "outputs": [],
      "source": [
        "positive_index = None\n",
        "\n",
        "for i, entry in enumerate(test_dataset):\n",
        "    if entry['label'] == 1:\n",
        "        positive_index = i\n",
        "        break\n",
        "\n",
        "if positive_index is not None:\n",
        "    print(\"Index of the first positive review:\", positive_index)\n",
        "else:\n",
        "    print(\"No positive reviews found in the test dataset.\")"
      ]
    },
    {
      "cell_type": "code",
      "execution_count": null,
      "metadata": {
        "id": "pTyQU0N0OiEa"
      },
      "outputs": [],
      "source": [
        "from lime.lime_text import LimeTextExplainer\n",
        "import numpy as np\n",
        "import torch\n",
        "import torch.nn.functional as F\n",
        "from lime.lime_text import LimeTextExplainer\n",
        "\n",
        "index = 12500\n",
        "sample = test_dataset['text'][index]\n",
        "explainer = LimeTextExplainer(class_names=[\"negative\", \"positive\"])\n",
        "\n",
        "# Define softmax function\n",
        "def softmax(x):\n",
        "    e_x = np.exp(x - np.max(x))\n",
        "    return e_x / e_x.sum(axis=0)\n",
        "\n",
        "# Define prediction function\n",
        "\n",
        "device = torch.device(\"cuda\" if torch.cuda.is_available() else \"cpu\")\n",
        "\n",
        "def predict_probs(texts):\n",
        "    inputs = tokenizer(texts, return_tensors=\"pt\", padding=True, truncation=True)\n",
        "    inputs = {name: tensor.to(device) for name, tensor in inputs.items()}\n",
        "    outputs = model(**inputs)\n",
        "    tensor_logits = outputs[0]\n",
        "    probas = F.softmax(tensor_logits, dim=1).detach().cpu().numpy()\n",
        "    return probas\n",
        "\n",
        "# Explain instance with LIME\n",
        "exp = explainer.explain_instance(sample, predict_probs, num_features=6, num_samples=300)\n",
        "print(\"Predicted LIME label:\", predicted_label_str)\n",
        "print(\"True label:\", true_label_str)\n",
        "print(exp.as_list())\n",
        "exp.show_in_notebook(text=True)"
      ]
    },
    {
      "cell_type": "markdown",
      "metadata": {
        "id": "aamu-h2AJjVr"
      },
      "source": [
        "Evaluate negative review"
      ]
    },
    {
      "cell_type": "code",
      "execution_count": null,
      "metadata": {
        "id": "lEWUvr4dMCty"
      },
      "outputs": [],
      "source": [
        "def label_to_str(label):\n",
        "    if label == 0:\n",
        "        return \"negative\"\n",
        "    elif label == 1:\n",
        "        return \"positive\"\n",
        "    else:\n",
        "        raise ValueError(f\"Unknown label: {label}\")"
      ]
    },
    {
      "cell_type": "code",
      "execution_count": null,
      "metadata": {
        "id": "ERQMr5IPS_la"
      },
      "outputs": [],
      "source": [
        "from lime.lime_text import LimeTextExplainer\n",
        "import numpy as np\n",
        "import torch\n",
        "import torch.nn.functional as F\n",
        "from lime.lime_text import LimeTextExplainer\n",
        "\n",
        "imdex = 5454\n",
        "sample = test_dataset['text'][index]\n",
        "explainer = LimeTextExplainer(class_names=[\"negative\", \"positive\"])\n",
        "\n",
        "# Define softmax function\n",
        "def softmax(x):\n",
        "    e_x = np.exp(x - np.max(x))\n",
        "    return e_x / e_x.sum(axis=0)\n",
        "\n",
        "# Define prediction function\n",
        "\n",
        "device = torch.device(\"cuda\" if torch.cuda.is_available() else \"cpu\")\n",
        "\n",
        "def predict_probs(texts):\n",
        "    inputs = tokenizer(texts, return_tensors=\"pt\", padding=True, truncation=True)\n",
        "    inputs = {name: tensor.to(device) for name, tensor in inputs.items()}\n",
        "    outputs = model(**inputs)\n",
        "    tensor_logits = outputs[0]\n",
        "    probas = F.softmax(tensor_logits, dim=1).detach().cpu().numpy()\n",
        "    return probas\n",
        "\n",
        "# Explain instance with LIME\n",
        "exp = explainer.explain_instance(sample, predict_probs, num_features=6, num_samples=200)\n",
        "print(\"Predicted LIME label:\", predicted_label_str)\n",
        "print(\"True label:\", true_label_str)\n",
        "print(exp.as_list())\n",
        "exp.show_in_notebook(text=True)"
      ]
    },
    {
      "cell_type": "code",
      "execution_count": null,
      "metadata": {
        "id": "ZQP1MwF1MBA5"
      },
      "outputs": [],
      "source": [
        "true_label = test_dataset['label'][index]\n",
        "true_label_str = label_to_str(true_label)\n",
        "\n",
        "# Get the predicted probabilities from the LIME explanation\n",
        "lime_probas = exp.predict_proba\n",
        "\n",
        "# Find the predicted label based on the LIME probabilities\n",
        "predicted_label = np.argmax(lime_probas)\n",
        "predicted_label_str = label_to_str(predicted_label)"
      ]
    },
    {
      "cell_type": "code",
      "execution_count": null,
      "metadata": {
        "id": "Fu2dN2UBqjkW"
      },
      "outputs": [],
      "source": [
        "# serach for a specific text \n",
        "search_text = \"New York Buscemi\"\n",
        "\n",
        "# get corresponding index \n",
        "for i, text in enumerate(test_dataset['text']):\n",
        "    if text.find(search_text) != -1:\n",
        "        # print the index and text searched\n",
        "        print(\"The index of the search text is:\", i)\n",
        "        print(text)"
      ]
    },
    {
      "cell_type": "code",
      "execution_count": null,
      "metadata": {
        "id": "dpHVSPjLqqne"
      },
      "outputs": [],
      "source": []
    },
    {
      "cell_type": "code",
      "execution_count": null,
      "metadata": {
        "id": "X89QdFMawPF6"
      },
      "outputs": [],
      "source": [
        "sample = test_dataset['text'][12001]"
      ]
    },
    {
      "cell_type": "code",
      "execution_count": null,
      "metadata": {
        "id": "l3smt324RkOK"
      },
      "outputs": [],
      "source": [
        "exp = explainer.explain_instance(sample, predict_probs, num_features=6, num_samples=200)\n",
        "\n",
        "print(exp.as_list())\n",
        "exp.show_in_notebook(text=True)"
      ]
    },
    {
      "cell_type": "code",
      "execution_count": null,
      "metadata": {
        "id": "8SEtLb-8xK3r"
      },
      "outputs": [],
      "source": [
        "from lime import submodular_pick\n",
        "sp_exp = submodular_pick.SubmodularPick(explainer,\n",
        "                                        test_dataset['text'][5454],\n",
        "                                        #tokenized_sample[:10].values,\n",
        "                                        #df[features.columns].values,\n",
        "                                        predict_probs,\n",
        "                                        )"
      ]
    },
    {
      "cell_type": "markdown",
      "metadata": {
        "id": "_oSLSKtgIm4z"
      },
      "source": [
        "## T-SNE visualization"
      ]
    },
    {
      "cell_type": "code",
      "execution_count": null,
      "metadata": {
        "id": "jniXocyIJvGL"
      },
      "outputs": [],
      "source": [
        "def get_embeddings(texts):\n",
        "    device = model.device  \n",
        "    inputs = tokenizer(texts, return_tensors=\"pt\", padding=True, truncation=True)\n",
        "    inputs = inputs.to(device)  \n",
        "\n",
        "    with torch.no_grad():\n",
        "        outputs = model.base_model(**inputs)\n",
        "\n",
        "    embeddings = outputs.last_hidden_state.mean(dim=1).cpu().numpy()  \n",
        "    return embeddings\n",
        "\n",
        "all_texts_test = test_dataset['text']\n",
        "test_label = test_dataset['label']\n",
        "\n",
        "sample_size = 1000\n",
        "sample_indices = np.random.choice(len(all_texts_test), size=sample_size, replace=False)\n",
        "sample_texts = [all_texts_test[i] for i in sample_indices]\n",
        "sample_labels = np.array([test_label[i] for i in sample_indices])\n",
        "\n",
        "sample_embeddings = get_embeddings(sample_texts)\n",
        "\n"
      ]
    },
    {
      "cell_type": "code",
      "execution_count": null,
      "metadata": {
        "id": "a9oOzjoBJxbK"
      },
      "outputs": [],
      "source": [
        "tsne = TSNE(n_components=2, random_state=123)\n",
        "embeddings_2d = tsne.fit_transform(sample_embeddings)\n"
      ]
    },
    {
      "cell_type": "code",
      "execution_count": null,
      "metadata": {
        "id": "CKNf8r6mJ19H"
      },
      "outputs": [],
      "source": [
        "plt.figure(figsize=(10, 10))\n",
        "colors = ['red', 'blue']\n",
        "label_names = ['Negative', 'Positive']\n",
        "\n",
        "for label, color, label_name in zip([0, 1], colors, label_names):\n",
        "    plt.scatter(embeddings_2d[sample_labels == label, 0], embeddings_2d[sample_labels == label, 1], c=color, label=label_name, alpha=0.5)\n",
        "\n",
        "plt.legend()\n",
        "plt.xlabel('t-SNE 1')\n",
        "plt.ylabel('t-SNE 2')\n",
        "plt.title('t-SNE visualization of embeddings')\n",
        "plt.savefig('tsne_transformer.png')\n",
        "plt.show()\n"
      ]
    }
  ],
  "metadata": {
    "accelerator": "GPU",
    "colab": {
      "machine_shape": "hm",
      "provenance": []
    },
    "gpuClass": "premium",
    "kernelspec": {
      "display_name": "Python 3",
      "name": "python3"
    },
    "language_info": {
      "name": "python"
    },
    "widgets": {
      "application/vnd.jupyter.widget-state+json": {
        "82b993b7229d4b328d07b0dbd899ca21": {
          "model_module": "@jupyter-widgets/controls",
          "model_name": "HBoxModel",
          "model_module_version": "1.5.0",
          "state": {
            "_dom_classes": [],
            "_model_module": "@jupyter-widgets/controls",
            "_model_module_version": "1.5.0",
            "_model_name": "HBoxModel",
            "_view_count": null,
            "_view_module": "@jupyter-widgets/controls",
            "_view_module_version": "1.5.0",
            "_view_name": "HBoxView",
            "box_style": "",
            "children": [
              "IPY_MODEL_b1f425a8998b48538337da66c7bf33cf",
              "IPY_MODEL_a839c62dafd14cb28256241a3cf3bdbb",
              "IPY_MODEL_c661324988514e1db1cb9ed90b7faf1f"
            ],
            "layout": "IPY_MODEL_7d0e897abd2f4df499c4d6dce56f6979"
          }
        },
        "b1f425a8998b48538337da66c7bf33cf": {
          "model_module": "@jupyter-widgets/controls",
          "model_name": "HTMLModel",
          "model_module_version": "1.5.0",
          "state": {
            "_dom_classes": [],
            "_model_module": "@jupyter-widgets/controls",
            "_model_module_version": "1.5.0",
            "_model_name": "HTMLModel",
            "_view_count": null,
            "_view_module": "@jupyter-widgets/controls",
            "_view_module_version": "1.5.0",
            "_view_name": "HTMLView",
            "description": "",
            "description_tooltip": null,
            "layout": "IPY_MODEL_fb785ff09d5b435fb9535f1436678c8c",
            "placeholder": "​",
            "style": "IPY_MODEL_c0b796a11c1f4a198e431ab7cde93868",
            "value": "100%"
          }
        },
        "a839c62dafd14cb28256241a3cf3bdbb": {
          "model_module": "@jupyter-widgets/controls",
          "model_name": "FloatProgressModel",
          "model_module_version": "1.5.0",
          "state": {
            "_dom_classes": [],
            "_model_module": "@jupyter-widgets/controls",
            "_model_module_version": "1.5.0",
            "_model_name": "FloatProgressModel",
            "_view_count": null,
            "_view_module": "@jupyter-widgets/controls",
            "_view_module_version": "1.5.0",
            "_view_name": "ProgressView",
            "bar_style": "success",
            "description": "",
            "description_tooltip": null,
            "layout": "IPY_MODEL_2eae4234e06a47319ed1408ed8f7aba4",
            "max": 3,
            "min": 0,
            "orientation": "horizontal",
            "style": "IPY_MODEL_b5cde288b8d249e5a92b8ea0dd37a8e0",
            "value": 3
          }
        },
        "c661324988514e1db1cb9ed90b7faf1f": {
          "model_module": "@jupyter-widgets/controls",
          "model_name": "HTMLModel",
          "model_module_version": "1.5.0",
          "state": {
            "_dom_classes": [],
            "_model_module": "@jupyter-widgets/controls",
            "_model_module_version": "1.5.0",
            "_model_name": "HTMLModel",
            "_view_count": null,
            "_view_module": "@jupyter-widgets/controls",
            "_view_module_version": "1.5.0",
            "_view_name": "HTMLView",
            "description": "",
            "description_tooltip": null,
            "layout": "IPY_MODEL_c383b0aebf2f436eac275ae53a1338bb",
            "placeholder": "​",
            "style": "IPY_MODEL_92fce40b2a314d9ca0e7334d5741f290",
            "value": " 3/3 [00:00&lt;00:00, 166.33it/s]"
          }
        },
        "7d0e897abd2f4df499c4d6dce56f6979": {
          "model_module": "@jupyter-widgets/base",
          "model_name": "LayoutModel",
          "model_module_version": "1.2.0",
          "state": {
            "_model_module": "@jupyter-widgets/base",
            "_model_module_version": "1.2.0",
            "_model_name": "LayoutModel",
            "_view_count": null,
            "_view_module": "@jupyter-widgets/base",
            "_view_module_version": "1.2.0",
            "_view_name": "LayoutView",
            "align_content": null,
            "align_items": null,
            "align_self": null,
            "border": null,
            "bottom": null,
            "display": null,
            "flex": null,
            "flex_flow": null,
            "grid_area": null,
            "grid_auto_columns": null,
            "grid_auto_flow": null,
            "grid_auto_rows": null,
            "grid_column": null,
            "grid_gap": null,
            "grid_row": null,
            "grid_template_areas": null,
            "grid_template_columns": null,
            "grid_template_rows": null,
            "height": null,
            "justify_content": null,
            "justify_items": null,
            "left": null,
            "margin": null,
            "max_height": null,
            "max_width": null,
            "min_height": null,
            "min_width": null,
            "object_fit": null,
            "object_position": null,
            "order": null,
            "overflow": null,
            "overflow_x": null,
            "overflow_y": null,
            "padding": null,
            "right": null,
            "top": null,
            "visibility": null,
            "width": null
          }
        },
        "fb785ff09d5b435fb9535f1436678c8c": {
          "model_module": "@jupyter-widgets/base",
          "model_name": "LayoutModel",
          "model_module_version": "1.2.0",
          "state": {
            "_model_module": "@jupyter-widgets/base",
            "_model_module_version": "1.2.0",
            "_model_name": "LayoutModel",
            "_view_count": null,
            "_view_module": "@jupyter-widgets/base",
            "_view_module_version": "1.2.0",
            "_view_name": "LayoutView",
            "align_content": null,
            "align_items": null,
            "align_self": null,
            "border": null,
            "bottom": null,
            "display": null,
            "flex": null,
            "flex_flow": null,
            "grid_area": null,
            "grid_auto_columns": null,
            "grid_auto_flow": null,
            "grid_auto_rows": null,
            "grid_column": null,
            "grid_gap": null,
            "grid_row": null,
            "grid_template_areas": null,
            "grid_template_columns": null,
            "grid_template_rows": null,
            "height": null,
            "justify_content": null,
            "justify_items": null,
            "left": null,
            "margin": null,
            "max_height": null,
            "max_width": null,
            "min_height": null,
            "min_width": null,
            "object_fit": null,
            "object_position": null,
            "order": null,
            "overflow": null,
            "overflow_x": null,
            "overflow_y": null,
            "padding": null,
            "right": null,
            "top": null,
            "visibility": null,
            "width": null
          }
        },
        "c0b796a11c1f4a198e431ab7cde93868": {
          "model_module": "@jupyter-widgets/controls",
          "model_name": "DescriptionStyleModel",
          "model_module_version": "1.5.0",
          "state": {
            "_model_module": "@jupyter-widgets/controls",
            "_model_module_version": "1.5.0",
            "_model_name": "DescriptionStyleModel",
            "_view_count": null,
            "_view_module": "@jupyter-widgets/base",
            "_view_module_version": "1.2.0",
            "_view_name": "StyleView",
            "description_width": ""
          }
        },
        "2eae4234e06a47319ed1408ed8f7aba4": {
          "model_module": "@jupyter-widgets/base",
          "model_name": "LayoutModel",
          "model_module_version": "1.2.0",
          "state": {
            "_model_module": "@jupyter-widgets/base",
            "_model_module_version": "1.2.0",
            "_model_name": "LayoutModel",
            "_view_count": null,
            "_view_module": "@jupyter-widgets/base",
            "_view_module_version": "1.2.0",
            "_view_name": "LayoutView",
            "align_content": null,
            "align_items": null,
            "align_self": null,
            "border": null,
            "bottom": null,
            "display": null,
            "flex": null,
            "flex_flow": null,
            "grid_area": null,
            "grid_auto_columns": null,
            "grid_auto_flow": null,
            "grid_auto_rows": null,
            "grid_column": null,
            "grid_gap": null,
            "grid_row": null,
            "grid_template_areas": null,
            "grid_template_columns": null,
            "grid_template_rows": null,
            "height": null,
            "justify_content": null,
            "justify_items": null,
            "left": null,
            "margin": null,
            "max_height": null,
            "max_width": null,
            "min_height": null,
            "min_width": null,
            "object_fit": null,
            "object_position": null,
            "order": null,
            "overflow": null,
            "overflow_x": null,
            "overflow_y": null,
            "padding": null,
            "right": null,
            "top": null,
            "visibility": null,
            "width": null
          }
        },
        "b5cde288b8d249e5a92b8ea0dd37a8e0": {
          "model_module": "@jupyter-widgets/controls",
          "model_name": "ProgressStyleModel",
          "model_module_version": "1.5.0",
          "state": {
            "_model_module": "@jupyter-widgets/controls",
            "_model_module_version": "1.5.0",
            "_model_name": "ProgressStyleModel",
            "_view_count": null,
            "_view_module": "@jupyter-widgets/base",
            "_view_module_version": "1.2.0",
            "_view_name": "StyleView",
            "bar_color": null,
            "description_width": ""
          }
        },
        "c383b0aebf2f436eac275ae53a1338bb": {
          "model_module": "@jupyter-widgets/base",
          "model_name": "LayoutModel",
          "model_module_version": "1.2.0",
          "state": {
            "_model_module": "@jupyter-widgets/base",
            "_model_module_version": "1.2.0",
            "_model_name": "LayoutModel",
            "_view_count": null,
            "_view_module": "@jupyter-widgets/base",
            "_view_module_version": "1.2.0",
            "_view_name": "LayoutView",
            "align_content": null,
            "align_items": null,
            "align_self": null,
            "border": null,
            "bottom": null,
            "display": null,
            "flex": null,
            "flex_flow": null,
            "grid_area": null,
            "grid_auto_columns": null,
            "grid_auto_flow": null,
            "grid_auto_rows": null,
            "grid_column": null,
            "grid_gap": null,
            "grid_row": null,
            "grid_template_areas": null,
            "grid_template_columns": null,
            "grid_template_rows": null,
            "height": null,
            "justify_content": null,
            "justify_items": null,
            "left": null,
            "margin": null,
            "max_height": null,
            "max_width": null,
            "min_height": null,
            "min_width": null,
            "object_fit": null,
            "object_position": null,
            "order": null,
            "overflow": null,
            "overflow_x": null,
            "overflow_y": null,
            "padding": null,
            "right": null,
            "top": null,
            "visibility": null,
            "width": null
          }
        },
        "92fce40b2a314d9ca0e7334d5741f290": {
          "model_module": "@jupyter-widgets/controls",
          "model_name": "DescriptionStyleModel",
          "model_module_version": "1.5.0",
          "state": {
            "_model_module": "@jupyter-widgets/controls",
            "_model_module_version": "1.5.0",
            "_model_name": "DescriptionStyleModel",
            "_view_count": null,
            "_view_module": "@jupyter-widgets/base",
            "_view_module_version": "1.2.0",
            "_view_name": "StyleView",
            "description_width": ""
          }
        },
        "4637e8655fc84c39bcff27782421c425": {
          "model_module": "@jupyter-widgets/controls",
          "model_name": "HBoxModel",
          "model_module_version": "1.5.0",
          "state": {
            "_dom_classes": [],
            "_model_module": "@jupyter-widgets/controls",
            "_model_module_version": "1.5.0",
            "_model_name": "HBoxModel",
            "_view_count": null,
            "_view_module": "@jupyter-widgets/controls",
            "_view_module_version": "1.5.0",
            "_view_name": "HBoxView",
            "box_style": "",
            "children": [
              "IPY_MODEL_23faf9e26e804673863adb9cdd0ad70f",
              "IPY_MODEL_21132da1132545dc9d54af493cf36ee5",
              "IPY_MODEL_6bea4b5a1fba4195a873a72ae38a15c3"
            ],
            "layout": "IPY_MODEL_d60d0a29619b47b8bc062b8e648a5060"
          }
        },
        "23faf9e26e804673863adb9cdd0ad70f": {
          "model_module": "@jupyter-widgets/controls",
          "model_name": "HTMLModel",
          "model_module_version": "1.5.0",
          "state": {
            "_dom_classes": [],
            "_model_module": "@jupyter-widgets/controls",
            "_model_module_version": "1.5.0",
            "_model_name": "HTMLModel",
            "_view_count": null,
            "_view_module": "@jupyter-widgets/controls",
            "_view_module_version": "1.5.0",
            "_view_name": "HTMLView",
            "description": "",
            "description_tooltip": null,
            "layout": "IPY_MODEL_9f27f7a9e46648198d5f2bad2d380d5d",
            "placeholder": "​",
            "style": "IPY_MODEL_b75345873c09450296539e95f65cbec1",
            "value": "Map: 100%"
          }
        },
        "21132da1132545dc9d54af493cf36ee5": {
          "model_module": "@jupyter-widgets/controls",
          "model_name": "FloatProgressModel",
          "model_module_version": "1.5.0",
          "state": {
            "_dom_classes": [],
            "_model_module": "@jupyter-widgets/controls",
            "_model_module_version": "1.5.0",
            "_model_name": "FloatProgressModel",
            "_view_count": null,
            "_view_module": "@jupyter-widgets/controls",
            "_view_module_version": "1.5.0",
            "_view_name": "ProgressView",
            "bar_style": "",
            "description": "",
            "description_tooltip": null,
            "layout": "IPY_MODEL_aaf5cb596156401ea4f4d13c8a82c82b",
            "max": 25000,
            "min": 0,
            "orientation": "horizontal",
            "style": "IPY_MODEL_7ac2affb4a47417a934731e45b6c4665",
            "value": 25000
          }
        },
        "6bea4b5a1fba4195a873a72ae38a15c3": {
          "model_module": "@jupyter-widgets/controls",
          "model_name": "HTMLModel",
          "model_module_version": "1.5.0",
          "state": {
            "_dom_classes": [],
            "_model_module": "@jupyter-widgets/controls",
            "_model_module_version": "1.5.0",
            "_model_name": "HTMLModel",
            "_view_count": null,
            "_view_module": "@jupyter-widgets/controls",
            "_view_module_version": "1.5.0",
            "_view_name": "HTMLView",
            "description": "",
            "description_tooltip": null,
            "layout": "IPY_MODEL_4ad55f7681a544fca20c357a482df79a",
            "placeholder": "​",
            "style": "IPY_MODEL_9f1777a854c94aa5baa9ec7260fc4799",
            "value": " 25000/25000 [00:07&lt;00:00, 3322.86 examples/s]"
          }
        },
        "d60d0a29619b47b8bc062b8e648a5060": {
          "model_module": "@jupyter-widgets/base",
          "model_name": "LayoutModel",
          "model_module_version": "1.2.0",
          "state": {
            "_model_module": "@jupyter-widgets/base",
            "_model_module_version": "1.2.0",
            "_model_name": "LayoutModel",
            "_view_count": null,
            "_view_module": "@jupyter-widgets/base",
            "_view_module_version": "1.2.0",
            "_view_name": "LayoutView",
            "align_content": null,
            "align_items": null,
            "align_self": null,
            "border": null,
            "bottom": null,
            "display": null,
            "flex": null,
            "flex_flow": null,
            "grid_area": null,
            "grid_auto_columns": null,
            "grid_auto_flow": null,
            "grid_auto_rows": null,
            "grid_column": null,
            "grid_gap": null,
            "grid_row": null,
            "grid_template_areas": null,
            "grid_template_columns": null,
            "grid_template_rows": null,
            "height": null,
            "justify_content": null,
            "justify_items": null,
            "left": null,
            "margin": null,
            "max_height": null,
            "max_width": null,
            "min_height": null,
            "min_width": null,
            "object_fit": null,
            "object_position": null,
            "order": null,
            "overflow": null,
            "overflow_x": null,
            "overflow_y": null,
            "padding": null,
            "right": null,
            "top": null,
            "visibility": "hidden",
            "width": null
          }
        },
        "9f27f7a9e46648198d5f2bad2d380d5d": {
          "model_module": "@jupyter-widgets/base",
          "model_name": "LayoutModel",
          "model_module_version": "1.2.0",
          "state": {
            "_model_module": "@jupyter-widgets/base",
            "_model_module_version": "1.2.0",
            "_model_name": "LayoutModel",
            "_view_count": null,
            "_view_module": "@jupyter-widgets/base",
            "_view_module_version": "1.2.0",
            "_view_name": "LayoutView",
            "align_content": null,
            "align_items": null,
            "align_self": null,
            "border": null,
            "bottom": null,
            "display": null,
            "flex": null,
            "flex_flow": null,
            "grid_area": null,
            "grid_auto_columns": null,
            "grid_auto_flow": null,
            "grid_auto_rows": null,
            "grid_column": null,
            "grid_gap": null,
            "grid_row": null,
            "grid_template_areas": null,
            "grid_template_columns": null,
            "grid_template_rows": null,
            "height": null,
            "justify_content": null,
            "justify_items": null,
            "left": null,
            "margin": null,
            "max_height": null,
            "max_width": null,
            "min_height": null,
            "min_width": null,
            "object_fit": null,
            "object_position": null,
            "order": null,
            "overflow": null,
            "overflow_x": null,
            "overflow_y": null,
            "padding": null,
            "right": null,
            "top": null,
            "visibility": null,
            "width": null
          }
        },
        "b75345873c09450296539e95f65cbec1": {
          "model_module": "@jupyter-widgets/controls",
          "model_name": "DescriptionStyleModel",
          "model_module_version": "1.5.0",
          "state": {
            "_model_module": "@jupyter-widgets/controls",
            "_model_module_version": "1.5.0",
            "_model_name": "DescriptionStyleModel",
            "_view_count": null,
            "_view_module": "@jupyter-widgets/base",
            "_view_module_version": "1.2.0",
            "_view_name": "StyleView",
            "description_width": ""
          }
        },
        "aaf5cb596156401ea4f4d13c8a82c82b": {
          "model_module": "@jupyter-widgets/base",
          "model_name": "LayoutModel",
          "model_module_version": "1.2.0",
          "state": {
            "_model_module": "@jupyter-widgets/base",
            "_model_module_version": "1.2.0",
            "_model_name": "LayoutModel",
            "_view_count": null,
            "_view_module": "@jupyter-widgets/base",
            "_view_module_version": "1.2.0",
            "_view_name": "LayoutView",
            "align_content": null,
            "align_items": null,
            "align_self": null,
            "border": null,
            "bottom": null,
            "display": null,
            "flex": null,
            "flex_flow": null,
            "grid_area": null,
            "grid_auto_columns": null,
            "grid_auto_flow": null,
            "grid_auto_rows": null,
            "grid_column": null,
            "grid_gap": null,
            "grid_row": null,
            "grid_template_areas": null,
            "grid_template_columns": null,
            "grid_template_rows": null,
            "height": null,
            "justify_content": null,
            "justify_items": null,
            "left": null,
            "margin": null,
            "max_height": null,
            "max_width": null,
            "min_height": null,
            "min_width": null,
            "object_fit": null,
            "object_position": null,
            "order": null,
            "overflow": null,
            "overflow_x": null,
            "overflow_y": null,
            "padding": null,
            "right": null,
            "top": null,
            "visibility": null,
            "width": null
          }
        },
        "7ac2affb4a47417a934731e45b6c4665": {
          "model_module": "@jupyter-widgets/controls",
          "model_name": "ProgressStyleModel",
          "model_module_version": "1.5.0",
          "state": {
            "_model_module": "@jupyter-widgets/controls",
            "_model_module_version": "1.5.0",
            "_model_name": "ProgressStyleModel",
            "_view_count": null,
            "_view_module": "@jupyter-widgets/base",
            "_view_module_version": "1.2.0",
            "_view_name": "StyleView",
            "bar_color": null,
            "description_width": ""
          }
        },
        "4ad55f7681a544fca20c357a482df79a": {
          "model_module": "@jupyter-widgets/base",
          "model_name": "LayoutModel",
          "model_module_version": "1.2.0",
          "state": {
            "_model_module": "@jupyter-widgets/base",
            "_model_module_version": "1.2.0",
            "_model_name": "LayoutModel",
            "_view_count": null,
            "_view_module": "@jupyter-widgets/base",
            "_view_module_version": "1.2.0",
            "_view_name": "LayoutView",
            "align_content": null,
            "align_items": null,
            "align_self": null,
            "border": null,
            "bottom": null,
            "display": null,
            "flex": null,
            "flex_flow": null,
            "grid_area": null,
            "grid_auto_columns": null,
            "grid_auto_flow": null,
            "grid_auto_rows": null,
            "grid_column": null,
            "grid_gap": null,
            "grid_row": null,
            "grid_template_areas": null,
            "grid_template_columns": null,
            "grid_template_rows": null,
            "height": null,
            "justify_content": null,
            "justify_items": null,
            "left": null,
            "margin": null,
            "max_height": null,
            "max_width": null,
            "min_height": null,
            "min_width": null,
            "object_fit": null,
            "object_position": null,
            "order": null,
            "overflow": null,
            "overflow_x": null,
            "overflow_y": null,
            "padding": null,
            "right": null,
            "top": null,
            "visibility": null,
            "width": null
          }
        },
        "9f1777a854c94aa5baa9ec7260fc4799": {
          "model_module": "@jupyter-widgets/controls",
          "model_name": "DescriptionStyleModel",
          "model_module_version": "1.5.0",
          "state": {
            "_model_module": "@jupyter-widgets/controls",
            "_model_module_version": "1.5.0",
            "_model_name": "DescriptionStyleModel",
            "_view_count": null,
            "_view_module": "@jupyter-widgets/base",
            "_view_module_version": "1.2.0",
            "_view_name": "StyleView",
            "description_width": ""
          }
        }
      }
    }
  },
  "nbformat": 4,
  "nbformat_minor": 0
}